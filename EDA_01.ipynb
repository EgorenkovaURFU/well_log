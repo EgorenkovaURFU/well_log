{
 "cells": [
  {
   "cell_type": "code",
   "execution_count": 450,
   "metadata": {},
   "outputs": [],
   "source": [
    "import pandas as pd\n",
    "import numpy as np\n",
    "import matplotlib.pyplot as plt"
   ]
  },
  {
   "cell_type": "code",
   "execution_count": 451,
   "metadata": {},
   "outputs": [],
   "source": [
    "df_1 = pd.read_csv('data/archive/15_9-23.csv')\n",
    "df_2 = pd.read_csv('data/archive/16_2-7.csv')\n",
    "df_3 = pd.read_csv('data/archive/16_7-6.csv')\n",
    "df_4 = pd.read_csv('data/archive/17_4-1.csv')\n",
    "#df_5 = pd.read_csv('data/archive/25_5_3_well.csv')\n",
    "#df_6 = pd.read_csv('data/archive/25_10_10_well.csv')\n",
    "df_7 = pd.read_csv('data/archive/25_10-9.csv')\n",
    "#df_8 = pd.read_csv('data/archive/25_11_24_well.csv')\n",
    "df_9 = pd.read_csv('data/archive/31_2-10.csv')\n",
    "df_10 = pd.read_csv('data/archive/31_2-21 S.csv')\n",
    "df_11 = pd.read_csv('data/archive/31_6-5.csv')\n",
    "df_12 = pd.read_csv('data/archive/31_6-8.csv')\n",
    "#df_13 = pd.read_csv('data/archive/34_3_3_A_well.csv')\n",
    "df_14 = pd.read_csv('data/archive/34_3-2 S.csv')\n",
    "#df_15 = pd.read_csv('data/archive/34_6_1_S_well.csv')\n",
    "#df_16 = pd.read_csv('data/archive/34_10_16_R_well.csv')\n",
    "#df_17 = pd.read_csv('data/archive/35_6_2_S_well.csv')\n",
    "#df_18 = pd.read_csv('data/archive/35_9_8_well.csv')\n",
    "df_19 = pd.read_csv('data/archive/35_9-7.csv')\n",
    "#df_20 = pd.read_csv('data/archive/29_3_1_well.csv')"
   ]
  },
  {
   "cell_type": "code",
   "execution_count": 452,
   "metadata": {},
   "outputs": [],
   "source": [
    "df_11[\"DEPTH_MD\"] = df_11['DEPT']\n",
    "df_11['WELL'] = '31/6-5'\n",
    "df_11.drop(columns=['Unnamed: 0', 'DEPT'], inplace=True)\n",
    "\n",
    "df_12[\"DEPTH_MD\"] = df_12['DEPT']\n",
    "df_12['WELL'] = '31/6-8'\n",
    "df_12.drop(columns=['Unnamed: 0', 'DEPT'], inplace=True)"
   ]
  },
  {
   "cell_type": "code",
   "execution_count": 453,
   "metadata": {},
   "outputs": [],
   "source": [
    "df_1 = df_1.dropna(subset=['FORCE_2020_LITHOFACIES_LITHOLOGY'])\n",
    "df_2 = df_2.dropna(subset=['FORCE_2020_LITHOFACIES_LITHOLOGY'])\n",
    "df_3 = df_3.dropna(subset=['FORCE_2020_LITHOFACIES_LITHOLOGY'])\n",
    "df_4 = df_4.dropna(subset=['FORCE_2020_LITHOFACIES_LITHOLOGY'])\n",
    "df_7 = df_7.dropna(subset=['FORCE_2020_LITHOFACIES_LITHOLOGY'])\n",
    "df_9 = df_9.dropna(subset=['FORCE_2020_LITHOFACIES_LITHOLOGY'])\n",
    "df_10 = df_10.dropna(subset=['FORCE_2020_LITHOFACIES_LITHOLOGY'])\n",
    "df_11 = df_11.dropna(subset=['FORCE_2020_LITHOFACIES_LITHOLOGY'])\n",
    "df_12 = df_12.dropna(subset=['FORCE_2020_LITHOFACIES_LITHOLOGY'])\n",
    "df_14 = df_14.dropna(subset=['FORCE_2020_LITHOFACIES_LITHOLOGY'])\n",
    "df_19 = df_19.dropna(subset=['FORCE_2020_LITHOFACIES_LITHOLOGY'])"
   ]
  },
  {
   "cell_type": "code",
   "execution_count": 454,
   "metadata": {},
   "outputs": [],
   "source": [
    "columns=['WELL', 'RSHA', 'SGR', 'MUDWEIGHT', 'RMIC', 'RXO', 'SP', \"GROUP\", \"FORMATION\"]\n",
    "\n",
    "df_1 = df_1.drop(columns=columns)\n",
    "df_2 = df_2.drop(columns=columns)\n",
    "df_3 = df_3.drop(columns=columns)\n",
    "df_4 = df_4.drop(columns=columns)\n",
    "df_7 = df_7.drop(columns=columns)\n",
    "df_9 = df_9.drop(columns=columns)\n",
    "df_10 = df_10.drop(columns=columns)\n",
    "df_11 = df_11.drop(columns=['WELL', 'RSHA', 'SP'])\n",
    "df_12 = df_12.drop(columns=['WELL', 'RSHA', 'RXO', 'SP'])\n",
    "df_14 = df_14.drop(columns=columns)\n",
    "df_19 = df_19.drop(columns=columns)"
   ]
  },
  {
   "cell_type": "code",
   "execution_count": 455,
   "metadata": {},
   "outputs": [
    {
     "data": {
      "text/plain": [
       "Index(['DEPTH_MD', 'X_LOC', 'Y_LOC', 'Z_LOC', 'CALI', 'RMED', 'RDEP', 'RHOB',\n",
       "       'GR', 'NPHI', 'PEF', 'DTC', 'BS', 'ROP', 'DTS', 'DCAL', 'DRHO', 'ROPA',\n",
       "       'FORCE_2020_LITHOFACIES_LITHOLOGY',\n",
       "       'FORCE_2020_LITHOFACIES_CONFIDENCE'],\n",
       "      dtype='object')"
      ]
     },
     "execution_count": 455,
     "metadata": {},
     "output_type": "execute_result"
    }
   ],
   "source": [
    "df_1.columns"
   ]
  },
  {
   "cell_type": "code",
   "execution_count": 456,
   "metadata": {},
   "outputs": [],
   "source": [
    "df_1 = df_1.fillna(method='ffill')\n",
    "df_2 = df_2.fillna(method='ffill')\n",
    "df_3 = df_3.fillna(method='ffill')\n",
    "df_4 = df_4.fillna(method='ffill')\n",
    "df_7 = df_7.fillna(method='ffill')\n",
    "df_9 = df_9.fillna(method='ffill')\n",
    "df_10 = df_10.fillna(method='ffill')\n",
    "df_11 = df_11.fillna(method='ffill')\n",
    "df_12 = df_12.fillna(method='ffill')\n",
    "df_14 = df_14.fillna(method='ffill')\n",
    "df_19 = df_19.fillna(method='ffill')"
   ]
  },
  {
   "cell_type": "code",
   "execution_count": 457,
   "metadata": {},
   "outputs": [
    {
     "data": {
      "text/plain": [
       "Index(['DEPTH_MD', 'X_LOC', 'Y_LOC', 'Z_LOC', 'CALI', 'RMED', 'RDEP', 'RHOB',\n",
       "       'GR', 'NPHI', 'PEF', 'DTC', 'BS', 'ROP', 'DTS', 'DCAL', 'DRHO', 'ROPA',\n",
       "       'FORCE_2020_LITHOFACIES_LITHOLOGY',\n",
       "       'FORCE_2020_LITHOFACIES_CONFIDENCE'],\n",
       "      dtype='object')"
      ]
     },
     "execution_count": 457,
     "metadata": {},
     "output_type": "execute_result"
    }
   ],
   "source": [
    "df_19.columns"
   ]
  },
  {
   "cell_type": "code",
   "execution_count": 458,
   "metadata": {},
   "outputs": [],
   "source": [
    "df_1 = df_1.fillna(df_1.mean())\n",
    "df_2 = df_2.fillna(df_2.mean())\n",
    "df_3 = df_3.fillna(df_3.mean())\n",
    "df_4 = df_4.fillna(df_4.mean())\n",
    "df_7 = df_7.fillna(df_7.mean())\n",
    "df_9 = df_9.fillna(df_9.mean())\n",
    "df_10 = df_10.fillna(df_10.mean())\n",
    "df_11 = df_11.fillna(df_11.mean())\n",
    "df_12 = df_12.fillna(df_12.mean())\n",
    "df_14 = df_14.fillna(df_14.mean())\n",
    "df_19 = df_19.fillna(df_19.mean())"
   ]
  },
  {
   "cell_type": "code",
   "execution_count": 459,
   "metadata": {},
   "outputs": [],
   "source": [
    "df = pd.concat([df_1, df_2, df_3, df_4, df_7, df_9, df_10, df_11, df_12, df_14, df_19])"
   ]
  },
  {
   "cell_type": "code",
   "execution_count": 460,
   "metadata": {},
   "outputs": [
    {
     "data": {
      "text/plain": [
       "Index(['DEPTH_MD', 'X_LOC', 'Y_LOC', 'Z_LOC', 'CALI', 'RMED', 'RDEP', 'RHOB',\n",
       "       'GR', 'NPHI', 'PEF', 'DTC', 'BS', 'ROP', 'DTS', 'DCAL', 'DRHO', 'ROPA',\n",
       "       'FORCE_2020_LITHOFACIES_LITHOLOGY',\n",
       "       'FORCE_2020_LITHOFACIES_CONFIDENCE'],\n",
       "      dtype='object')"
      ]
     },
     "execution_count": 460,
     "metadata": {},
     "output_type": "execute_result"
    }
   ],
   "source": [
    "df_1.columns"
   ]
  },
  {
   "cell_type": "code",
   "execution_count": 461,
   "metadata": {},
   "outputs": [
    {
     "data": {
      "text/plain": [
       "Index(['DEPTH_MD', 'X_LOC', 'Y_LOC', 'Z_LOC', 'CALI', 'RMED', 'RDEP', 'RHOB',\n",
       "       'GR', 'NPHI', 'PEF', 'DTC', 'BS', 'ROP', 'DTS', 'DCAL', 'DRHO', 'ROPA',\n",
       "       'FORCE_2020_LITHOFACIES_LITHOLOGY',\n",
       "       'FORCE_2020_LITHOFACIES_CONFIDENCE'],\n",
       "      dtype='object')"
      ]
     },
     "execution_count": 461,
     "metadata": {},
     "output_type": "execute_result"
    }
   ],
   "source": [
    "df.columns"
   ]
  },
  {
   "cell_type": "code",
   "execution_count": 462,
   "metadata": {},
   "outputs": [
    {
     "data": {
      "text/plain": [
       "DEPTH_MD                                 0\n",
       "X_LOC                                    0\n",
       "Y_LOC                                    0\n",
       "Z_LOC                                    0\n",
       "CALI                                     0\n",
       "RMED                                     0\n",
       "RDEP                                     0\n",
       "RHOB                                     0\n",
       "GR                                       0\n",
       "NPHI                                     0\n",
       "PEF                                  17271\n",
       "DTC                                      0\n",
       "BS                                   26304\n",
       "ROP                                  29664\n",
       "DTS                                  46935\n",
       "DCAL                                 77668\n",
       "DRHO                                     0\n",
       "ROPA                                 57157\n",
       "FORCE_2020_LITHOFACIES_LITHOLOGY         0\n",
       "FORCE_2020_LITHOFACIES_CONFIDENCE        0\n",
       "dtype: int64"
      ]
     },
     "execution_count": 462,
     "metadata": {},
     "output_type": "execute_result"
    }
   ],
   "source": [
    "df.isna().sum()"
   ]
  },
  {
   "cell_type": "code",
   "execution_count": 463,
   "metadata": {},
   "outputs": [],
   "source": [
    "df = df.fillna(df.mean())"
   ]
  },
  {
   "cell_type": "code",
   "execution_count": 464,
   "metadata": {},
   "outputs": [
    {
     "data": {
      "text/plain": [
       "DEPTH_MD                             0\n",
       "X_LOC                                0\n",
       "Y_LOC                                0\n",
       "Z_LOC                                0\n",
       "CALI                                 0\n",
       "RMED                                 0\n",
       "RDEP                                 0\n",
       "RHOB                                 0\n",
       "GR                                   0\n",
       "NPHI                                 0\n",
       "PEF                                  0\n",
       "DTC                                  0\n",
       "BS                                   0\n",
       "ROP                                  0\n",
       "DTS                                  0\n",
       "DCAL                                 0\n",
       "DRHO                                 0\n",
       "ROPA                                 0\n",
       "FORCE_2020_LITHOFACIES_LITHOLOGY     0\n",
       "FORCE_2020_LITHOFACIES_CONFIDENCE    0\n",
       "dtype: int64"
      ]
     },
     "execution_count": 464,
     "metadata": {},
     "output_type": "execute_result"
    }
   ],
   "source": [
    "df.isna().sum()"
   ]
  },
  {
   "cell_type": "code",
   "execution_count": 465,
   "metadata": {},
   "outputs": [
    {
     "data": {
      "text/plain": [
       "Index(['DEPTH_MD', 'X_LOC', 'Y_LOC', 'Z_LOC', 'CALI', 'RMED', 'RDEP', 'RHOB',\n",
       "       'GR', 'NPHI', 'PEF', 'DTC', 'BS', 'ROP', 'DTS', 'DCAL', 'DRHO', 'ROPA',\n",
       "       'FORCE_2020_LITHOFACIES_LITHOLOGY',\n",
       "       'FORCE_2020_LITHOFACIES_CONFIDENCE'],\n",
       "      dtype='object')"
      ]
     },
     "execution_count": 465,
     "metadata": {},
     "output_type": "execute_result"
    }
   ],
   "source": [
    "df.columns"
   ]
  },
  {
   "cell_type": "code",
   "execution_count": 466,
   "metadata": {},
   "outputs": [
    {
     "data": {
      "text/plain": [
       "20"
      ]
     },
     "execution_count": 466,
     "metadata": {},
     "output_type": "execute_result"
    }
   ],
   "source": [
    "len(list(df.columns))"
   ]
  },
  {
   "cell_type": "code",
   "execution_count": 467,
   "metadata": {},
   "outputs": [
    {
     "data": {
      "text/plain": [
       "(121424, 20)"
      ]
     },
     "execution_count": 467,
     "metadata": {},
     "output_type": "execute_result"
    }
   ],
   "source": [
    "df.shape"
   ]
  },
  {
   "cell_type": "code",
   "execution_count": 468,
   "metadata": {},
   "outputs": [
    {
     "data": {
      "text/plain": [
       "DEPTH_MD                             float64\n",
       "X_LOC                                float64\n",
       "Y_LOC                                float64\n",
       "Z_LOC                                float64\n",
       "CALI                                 float64\n",
       "RMED                                 float64\n",
       "RDEP                                 float64\n",
       "RHOB                                 float64\n",
       "GR                                   float64\n",
       "NPHI                                 float64\n",
       "PEF                                  float64\n",
       "DTC                                  float64\n",
       "BS                                   float64\n",
       "ROP                                  float64\n",
       "DTS                                  float64\n",
       "DCAL                                 float64\n",
       "DRHO                                 float64\n",
       "ROPA                                 float64\n",
       "FORCE_2020_LITHOFACIES_LITHOLOGY     float64\n",
       "FORCE_2020_LITHOFACIES_CONFIDENCE    float64\n",
       "dtype: object"
      ]
     },
     "execution_count": 468,
     "metadata": {},
     "output_type": "execute_result"
    }
   ],
   "source": [
    "df.dtypes"
   ]
  },
  {
   "cell_type": "code",
   "execution_count": 469,
   "metadata": {},
   "outputs": [],
   "source": [
    "#print(f'Уникальных скважин - {df.WELL.nunique()}')"
   ]
  },
  {
   "cell_type": "code",
   "execution_count": 470,
   "metadata": {},
   "outputs": [],
   "source": [
    "#df.WELL.unique()"
   ]
  },
  {
   "cell_type": "code",
   "execution_count": 471,
   "metadata": {},
   "outputs": [],
   "source": [
    "lithology_keys = {30000: 'Sandstone',\n",
    "                  65030: 'Sandstone/Shale',\n",
    "                  65000: 'Shale',\n",
    "                  80000: 'Marl',\n",
    "                  74000: 'Dolomite',\n",
    "                  70000: 'Limestone',\n",
    "                  70032: 'Chalk',\n",
    "                  88000: 'Halite',\n",
    "                  86000: 'Anhydrite',\n",
    "                  99000: 'Tuff',\n",
    "                  90000: 'Coal',\n",
    "                  93000: 'Basement'}"
   ]
  },
  {
   "cell_type": "code",
   "execution_count": 472,
   "metadata": {},
   "outputs": [
    {
     "data": {
      "text/plain": [
       "array([65000., 65030., 70000., 30000., 99000., 70032., 80000., 90000.,\n",
       "       86000., 74000., 88000.])"
      ]
     },
     "execution_count": 472,
     "metadata": {},
     "output_type": "execute_result"
    }
   ],
   "source": [
    "df['FORCE_2020_LITHOFACIES_LITHOLOGY'].unique()"
   ]
  },
  {
   "cell_type": "code",
   "execution_count": 473,
   "metadata": {},
   "outputs": [
    {
     "data": {
      "text/plain": [
       "FORCE_2020_LITHOFACIES_LITHOLOGY\n",
       "65000.0    69305\n",
       "30000.0    14794\n",
       "65030.0    10507\n",
       "70000.0     8721\n",
       "88000.0     6498\n",
       "80000.0     5266\n",
       "70032.0     2905\n",
       "99000.0     2366\n",
       "86000.0      597\n",
       "74000.0      269\n",
       "90000.0      196\n",
       "Name: count, dtype: int64"
      ]
     },
     "execution_count": 473,
     "metadata": {},
     "output_type": "execute_result"
    }
   ],
   "source": [
    "df['FORCE_2020_LITHOFACIES_LITHOLOGY'].value_counts()"
   ]
  },
  {
   "cell_type": "code",
   "execution_count": 475,
   "metadata": {},
   "outputs": [],
   "source": [
    "#df[df['WELL'].isna()]['FORCE_2020_LITHOFACIES_LITHOLOGY'].unique()"
   ]
  },
  {
   "cell_type": "code",
   "execution_count": null,
   "metadata": {},
   "outputs": [],
   "source": [
    "#df = df.dropna(subset=['FORCE_2020_LITHOFACIES_LITHOLOGY'])"
   ]
  },
  {
   "cell_type": "code",
   "execution_count": null,
   "metadata": {},
   "outputs": [
    {
     "data": {
      "text/plain": [
       "array([], dtype=float64)"
      ]
     },
     "execution_count": 313,
     "metadata": {},
     "output_type": "execute_result"
    }
   ],
   "source": [
    "#df[df['WELL'].isna()]['FORCE_2020_LITHOFACIES_LITHOLOGY'].unique()"
   ]
  },
  {
   "cell_type": "code",
   "execution_count": 477,
   "metadata": {},
   "outputs": [
    {
     "data": {
      "text/plain": [
       "<Axes: >"
      ]
     },
     "execution_count": 477,
     "metadata": {},
     "output_type": "execute_result"
    },
    {
     "data": {
      "image/png": "[encoded data removed]",
      "text/plain": [
       "<Figure size 640x480 with 1 Axes>"
      ]
     },
     "metadata": {},
     "output_type": "display_data"
    }
   ],
   "source": [
    "df['FORCE_2020_LITHOFACIES_LITHOLOGY'].hist(bins=20)"
   ]
  },
  {
   "cell_type": "code",
   "execution_count": 478,
   "metadata": {},
   "outputs": [
    {
     "data": {
      "text/plain": [
       "FORCE_2020_LITHOFACIES_LITHOLOGY\n",
       "65000.0    69305\n",
       "30000.0    14794\n",
       "65030.0    10507\n",
       "70000.0     8721\n",
       "88000.0     6498\n",
       "80000.0     5266\n",
       "70032.0     2905\n",
       "99000.0     2366\n",
       "86000.0      597\n",
       "74000.0      269\n",
       "90000.0      196\n",
       "Name: count, dtype: int64"
      ]
     },
     "execution_count": 478,
     "metadata": {},
     "output_type": "execute_result"
    }
   ],
   "source": [
    "counts = df['FORCE_2020_LITHOFACIES_LITHOLOGY'].value_counts()\n",
    "counts"
   ]
  },
  {
   "cell_type": "code",
   "execution_count": 479,
   "metadata": {},
   "outputs": [
    {
     "name": "stderr",
     "output_type": "stream",
     "text": [
      "C:\\Users\\tatya\\AppData\\Local\\Temp\\ipykernel_8552\\3616021113.py:10: UserWarning: FixedFormatter should only be used together with FixedLocator\n",
      "  ax.set_xticklabels(names, rotation=45)\n"
     ]
    },
    {
     "data": {
      "text/plain": [
       "Text(0, 0.5, 'Lithology presence (\\\\%)')"
      ]
     },
     "execution_count": 479,
     "metadata": {},
     "output_type": "execute_result"
    },
    {
     "data": {
      "image/png": "[encoded data removed]",
      "text/plain": [
       "<Figure size 1400x700 with 1 Axes>"
      ]
     },
     "metadata": {},
     "output_type": "display_data"
    }
   ],
   "source": [
    "counts = df['FORCE_2020_LITHOFACIES_LITHOLOGY'].value_counts()\n",
    "names = []\n",
    "percentage = []\n",
    "N = df['FORCE_2020_LITHOFACIES_LITHOLOGY'].shape[0]\n",
    "for item in counts.items():\n",
    "    names.append(lithology_keys[item[0]])\n",
    "    percentage.append(float(item[1])/N*100)\n",
    "fig, ax = plt.subplots(1, 1, figsize=(14, 7))\n",
    "ax.bar(x=np.arange(len(names)), height=percentage)\n",
    "ax.set_xticklabels(names, rotation=45)\n",
    "ax.set_xticks(np.arange(len(names)))\n",
    "ax.set_ylabel('Lithology presence (\\%)')"
   ]
  },
  {
   "cell_type": "code",
   "execution_count": 480,
   "metadata": {},
   "outputs": [
    {
     "data": {
      "text/plain": [
       "(121424, 20)"
      ]
     },
     "execution_count": 480,
     "metadata": {},
     "output_type": "execute_result"
    }
   ],
   "source": [
    "df.shape"
   ]
  },
  {
   "cell_type": "code",
   "execution_count": 481,
   "metadata": {},
   "outputs": [
    {
     "data": {
      "text/plain": [
       "DEPTH_MD                             0\n",
       "X_LOC                                0\n",
       "Y_LOC                                0\n",
       "Z_LOC                                0\n",
       "CALI                                 0\n",
       "RMED                                 0\n",
       "RDEP                                 0\n",
       "RHOB                                 0\n",
       "GR                                   0\n",
       "NPHI                                 0\n",
       "PEF                                  0\n",
       "DTC                                  0\n",
       "BS                                   0\n",
       "ROP                                  0\n",
       "DTS                                  0\n",
       "DCAL                                 0\n",
       "DRHO                                 0\n",
       "ROPA                                 0\n",
       "FORCE_2020_LITHOFACIES_LITHOLOGY     0\n",
       "FORCE_2020_LITHOFACIES_CONFIDENCE    0\n",
       "dtype: int64"
      ]
     },
     "execution_count": 481,
     "metadata": {},
     "output_type": "execute_result"
    }
   ],
   "source": [
    "df.isna().sum()"
   ]
  },
  {
   "cell_type": "markdown",
   "metadata": {},
   "source": [
    "1. Идентификаторы и местоположение скважины:\n",
    "● WELL - уникальный идентификатор скважины;\n",
    "● DEPTH_MD - измеренная глубина (MD) в метрах (вертикальное\n",
    "расстояние по стволу скважины);\n",
    "● X_LOC, Y_LOC - восточная и северная координата;\n",
    "● Z_LOC - глубина по вертикали (высота относительно уровня\n",
    "моря, отличается от DEPTH_MD);\n",
    "\n",
    "2. Геологическая информация:\n",
    "● GROUP - более широкая геологическая группировка\n",
    "информации;\n",
    "\n",
    "● FORMATION - конкретная геологическая формация на заданной\n",
    "глубине (более узкая характеристика, чем GROUP);\n",
    "● FORCE_2020_LITHOFACIES_LITHOLOGY - целевая\n",
    "переменная: литология (тип попроды) на каждой глубине.\n",
    "Категориальная переменная, представлена в виде числового кода;\n",
    "● FORCE_2020_LITHOFACIES_CONFIDENCE - уверенность в\n",
    "назначенной литологической метке.\n",
    "\n",
    "3. Измерения каротажа скважин:\n",
    "● CALI - кавернометрия (измерение диаметра скважины);\n",
    "● RSHA - каротаж поверхностного сопротивления;\n",
    "● RMED - каротаж среднего сопротивления;\n",
    "● RDEP - каротаж глубокого сопротивления;\n",
    "● RHOB - каротаж объемной плотности;\n",
    "● GR - каротаж гамма-излучения;\n",
    "● SGR - спектральный гамма-каротаж;\n",
    "● NPHI - каротаж нейтронной пористости;\n",
    "● PEF - каротаж фотоэлектрического фактора;\n",
    "● DTC: акустический каротаж (время распространения звуковой\n",
    "волны);\n",
    "● SP - каротаж спонтанного потенциала;\n",
    "● BS - размер долота (диаметр);\n",
    "● ROP - скорость бурения;\n",
    "● DTS - каротаж скорости сдвиговой волны;\n",
    "● DCAL - разница между размером кавернометра и долота;\n",
    "● DRHO - поправка на плотность;\n",
    "● MUDWEIGHT - плотность бурового раствора;\n",
    "● RMIC - каротаж микросопротивления;\n",
    "● ROPA - обработанное/интерпретированное измерение\n",
    "сопротивления;\n",
    "● RXO - удельное сопротивление промытой зоны."
   ]
  },
  {
   "cell_type": "code",
   "execution_count": 482,
   "metadata": {},
   "outputs": [],
   "source": [
    "df.to_csv('data/df_01.csv')"
   ]
  }
 ],
 "metadata": {
  "kernelspec": {
   "display_name": "venv",
   "language": "python",
   "name": "python3"
  },
  "language_info": {
   "codemirror_mode": {
    "name": "ipython",
    "version": 3
   },
   "file_extension": ".py",
   "mimetype": "text/x-python",
   "name": "python",
   "nbconvert_exporter": "python",
   "pygments_lexer": "ipython3",
   "version": "3.8.2"
  }
 },
 "nbformat": 4,
 "nbformat_minor": 2
}
