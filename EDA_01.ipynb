{
 "cells": [
  {
   "cell_type": "code",
   "execution_count": 75,
   "metadata": {},
   "outputs": [],
   "source": [
    "import pandas as pd\n",
    "import numpy as np"
   ]
  },
  {
   "cell_type": "code",
   "execution_count": 76,
   "metadata": {},
   "outputs": [],
   "source": [
    "df_1 = pd.read_csv('data/archive/15_9-23.csv')\n",
    "df_2 = pd.read_csv('data/archive/16_2-7.csv')\n",
    "df_3 = pd.read_csv('data/archive/16_7-6.csv')\n",
    "df_4 = pd.read_csv('data/archive/17_4-1.csv')\n",
    "#df_5 = pd.read_csv('data/archive/25_5_3_well.csv')\n",
    "#df_6 = pd.read_csv('data/archive/25_10_10_well.csv')\n",
    "df_7 = pd.read_csv('data/archive/25_10-9.csv')\n",
    "#df_8 = pd.read_csv('data/archive/25_11_24_well.csv')\n",
    "df_9 = pd.read_csv('data/archive/31_2-10.csv')\n",
    "df_10 = pd.read_csv('data/archive/31_2-21 S.csv')\n",
    "df_11 = pd.read_csv('data/archive/31_6-5.csv')\n",
    "df_12 = pd.read_csv('data/archive/31_6-8.csv')\n",
    "#df_13 = pd.read_csv('data/archive/34_3_3_A_well.csv')\n",
    "df_14 = pd.read_csv('data/archive/34_3-2 S.csv')\n",
    "#df_15 = pd.read_csv('data/archive/34_6_1_S_well.csv')\n",
    "#df_16 = pd.read_csv('data/archive/34_10_16_R_well.csv')\n",
    "#df_17 = pd.read_csv('data/archive/35_6_2_S_well.csv')\n",
    "#df_18 = pd.read_csv('data/archive/35_9_8_well.csv')\n",
    "df_19 = pd.read_csv('data/archive/35_9-7.csv')\n",
    "#df_20 = pd.read_csv('data/archive/29_3_1_well.csv')"
   ]
  },
  {
   "cell_type": "code",
   "execution_count": 77,
   "metadata": {},
   "outputs": [],
   "source": [
    "df = pd.concat([df_1, df_2, df_3, df_4,df_7, df_9, df_10,  \n",
    "                df_11, df_12, df_14, df_19,])"
   ]
  },
  {
   "cell_type": "code",
   "execution_count": 78,
   "metadata": {},
   "outputs": [
    {
     "data": {
      "text/html": [
       "<div>\n",
       "<style scoped>\n",
       "    .dataframe tbody tr th:only-of-type {\n",
       "        vertical-align: middle;\n",
       "    }\n",
       "\n",
       "    .dataframe tbody tr th {\n",
       "        vertical-align: top;\n",
       "    }\n",
       "\n",
       "    .dataframe thead th {\n",
       "        text-align: right;\n",
       "    }\n",
       "</style>\n",
       "<table border=\"1\" class=\"dataframe\">\n",
       "  <thead>\n",
       "    <tr style=\"text-align: right;\">\n",
       "      <th></th>\n",
       "      <th>WELL</th>\n",
       "      <th>DEPTH_MD</th>\n",
       "      <th>X_LOC</th>\n",
       "      <th>Y_LOC</th>\n",
       "      <th>Z_LOC</th>\n",
       "      <th>GROUP</th>\n",
       "      <th>FORMATION</th>\n",
       "      <th>CALI</th>\n",
       "      <th>RSHA</th>\n",
       "      <th>RMED</th>\n",
       "      <th>...</th>\n",
       "      <th>DCAL</th>\n",
       "      <th>DRHO</th>\n",
       "      <th>MUDWEIGHT</th>\n",
       "      <th>RMIC</th>\n",
       "      <th>ROPA</th>\n",
       "      <th>RXO</th>\n",
       "      <th>FORCE_2020_LITHOFACIES_LITHOLOGY</th>\n",
       "      <th>FORCE_2020_LITHOFACIES_CONFIDENCE</th>\n",
       "      <th>Unnamed: 0</th>\n",
       "      <th>DEPT</th>\n",
       "    </tr>\n",
       "  </thead>\n",
       "  <tbody>\n",
       "    <tr>\n",
       "      <th>10672</th>\n",
       "      <td>35/9-7</td>\n",
       "      <td>2973.2988</td>\n",
       "      <td>536096.0625</td>\n",
       "      <td>6793022.0</td>\n",
       "      <td>-2943.444580</td>\n",
       "      <td>BAAT GP.</td>\n",
       "      <td>Etive Fm.</td>\n",
       "      <td>8.276272</td>\n",
       "      <td>NaN</td>\n",
       "      <td>2.820439</td>\n",
       "      <td>...</td>\n",
       "      <td>NaN</td>\n",
       "      <td>0.502458</td>\n",
       "      <td>NaN</td>\n",
       "      <td>2.311106</td>\n",
       "      <td>24.306124</td>\n",
       "      <td>NaN</td>\n",
       "      <td>65000.0</td>\n",
       "      <td>2.0</td>\n",
       "      <td>NaN</td>\n",
       "      <td>NaN</td>\n",
       "    </tr>\n",
       "    <tr>\n",
       "      <th>10673</th>\n",
       "      <td>35/9-7</td>\n",
       "      <td>2973.4508</td>\n",
       "      <td>536096.0625</td>\n",
       "      <td>6793022.0</td>\n",
       "      <td>-2943.595947</td>\n",
       "      <td>BAAT GP.</td>\n",
       "      <td>Etive Fm.</td>\n",
       "      <td>8.267273</td>\n",
       "      <td>NaN</td>\n",
       "      <td>3.020778</td>\n",
       "      <td>...</td>\n",
       "      <td>NaN</td>\n",
       "      <td>0.374753</td>\n",
       "      <td>NaN</td>\n",
       "      <td>1.853418</td>\n",
       "      <td>22.201078</td>\n",
       "      <td>NaN</td>\n",
       "      <td>65000.0</td>\n",
       "      <td>2.0</td>\n",
       "      <td>NaN</td>\n",
       "      <td>NaN</td>\n",
       "    </tr>\n",
       "    <tr>\n",
       "      <th>10674</th>\n",
       "      <td>35/9-7</td>\n",
       "      <td>2973.6028</td>\n",
       "      <td>536096.0625</td>\n",
       "      <td>6793022.0</td>\n",
       "      <td>-2943.747559</td>\n",
       "      <td>BAAT GP.</td>\n",
       "      <td>Etive Fm.</td>\n",
       "      <td>8.250099</td>\n",
       "      <td>NaN</td>\n",
       "      <td>2.795711</td>\n",
       "      <td>...</td>\n",
       "      <td>NaN</td>\n",
       "      <td>0.211487</td>\n",
       "      <td>NaN</td>\n",
       "      <td>1.325961</td>\n",
       "      <td>20.096741</td>\n",
       "      <td>NaN</td>\n",
       "      <td>65000.0</td>\n",
       "      <td>2.0</td>\n",
       "      <td>NaN</td>\n",
       "      <td>NaN</td>\n",
       "    </tr>\n",
       "    <tr>\n",
       "      <th>10675</th>\n",
       "      <td>35/9-7</td>\n",
       "      <td>2973.7548</td>\n",
       "      <td>536096.0625</td>\n",
       "      <td>6793022.0</td>\n",
       "      <td>-2943.899170</td>\n",
       "      <td>BAAT GP.</td>\n",
       "      <td>Etive Fm.</td>\n",
       "      <td>NaN</td>\n",
       "      <td>NaN</td>\n",
       "      <td>2.658694</td>\n",
       "      <td>...</td>\n",
       "      <td>NaN</td>\n",
       "      <td>0.147950</td>\n",
       "      <td>NaN</td>\n",
       "      <td>1.260347</td>\n",
       "      <td>17.992323</td>\n",
       "      <td>NaN</td>\n",
       "      <td>65000.0</td>\n",
       "      <td>2.0</td>\n",
       "      <td>NaN</td>\n",
       "      <td>NaN</td>\n",
       "    </tr>\n",
       "    <tr>\n",
       "      <th>10676</th>\n",
       "      <td>35/9-7</td>\n",
       "      <td>2973.9068</td>\n",
       "      <td>536096.0625</td>\n",
       "      <td>6793022.0</td>\n",
       "      <td>-2944.050537</td>\n",
       "      <td>BAAT GP.</td>\n",
       "      <td>Etive Fm.</td>\n",
       "      <td>NaN</td>\n",
       "      <td>NaN</td>\n",
       "      <td>2.802693</td>\n",
       "      <td>...</td>\n",
       "      <td>NaN</td>\n",
       "      <td>0.174232</td>\n",
       "      <td>NaN</td>\n",
       "      <td>1.266063</td>\n",
       "      <td>15.889325</td>\n",
       "      <td>NaN</td>\n",
       "      <td>65000.0</td>\n",
       "      <td>2.0</td>\n",
       "      <td>NaN</td>\n",
       "      <td>NaN</td>\n",
       "    </tr>\n",
       "  </tbody>\n",
       "</table>\n",
       "<p>5 rows × 31 columns</p>\n",
       "</div>"
      ],
      "text/plain": [
       "         WELL   DEPTH_MD        X_LOC      Y_LOC        Z_LOC     GROUP  \\\n",
       "10672  35/9-7  2973.2988  536096.0625  6793022.0 -2943.444580  BAAT GP.   \n",
       "10673  35/9-7  2973.4508  536096.0625  6793022.0 -2943.595947  BAAT GP.   \n",
       "10674  35/9-7  2973.6028  536096.0625  6793022.0 -2943.747559  BAAT GP.   \n",
       "10675  35/9-7  2973.7548  536096.0625  6793022.0 -2943.899170  BAAT GP.   \n",
       "10676  35/9-7  2973.9068  536096.0625  6793022.0 -2944.050537  BAAT GP.   \n",
       "\n",
       "       FORMATION      CALI  RSHA      RMED  ...  DCAL      DRHO  MUDWEIGHT  \\\n",
       "10672  Etive Fm.  8.276272   NaN  2.820439  ...   NaN  0.502458        NaN   \n",
       "10673  Etive Fm.  8.267273   NaN  3.020778  ...   NaN  0.374753        NaN   \n",
       "10674  Etive Fm.  8.250099   NaN  2.795711  ...   NaN  0.211487        NaN   \n",
       "10675  Etive Fm.       NaN   NaN  2.658694  ...   NaN  0.147950        NaN   \n",
       "10676  Etive Fm.       NaN   NaN  2.802693  ...   NaN  0.174232        NaN   \n",
       "\n",
       "           RMIC       ROPA  RXO  FORCE_2020_LITHOFACIES_LITHOLOGY  \\\n",
       "10672  2.311106  24.306124  NaN                           65000.0   \n",
       "10673  1.853418  22.201078  NaN                           65000.0   \n",
       "10674  1.325961  20.096741  NaN                           65000.0   \n",
       "10675  1.260347  17.992323  NaN                           65000.0   \n",
       "10676  1.266063  15.889325  NaN                           65000.0   \n",
       "\n",
       "       FORCE_2020_LITHOFACIES_CONFIDENCE  Unnamed: 0  DEPT  \n",
       "10672                                2.0         NaN   NaN  \n",
       "10673                                2.0         NaN   NaN  \n",
       "10674                                2.0         NaN   NaN  \n",
       "10675                                2.0         NaN   NaN  \n",
       "10676                                2.0         NaN   NaN  \n",
       "\n",
       "[5 rows x 31 columns]"
      ]
     },
     "execution_count": 78,
     "metadata": {},
     "output_type": "execute_result"
    }
   ],
   "source": [
    "df.tail(5)"
   ]
  },
  {
   "cell_type": "code",
   "execution_count": 79,
   "metadata": {},
   "outputs": [
    {
     "data": {
      "text/plain": [
       "Index(['WELL', 'DEPTH_MD', 'X_LOC', 'Y_LOC', 'Z_LOC', 'GROUP', 'FORMATION',\n",
       "       'CALI', 'RSHA', 'RMED', 'RDEP', 'RHOB', 'GR', 'SGR', 'NPHI', 'PEF',\n",
       "       'DTC', 'SP', 'BS', 'ROP', 'DTS', 'DCAL', 'DRHO', 'MUDWEIGHT', 'RMIC',\n",
       "       'ROPA', 'RXO', 'FORCE_2020_LITHOFACIES_LITHOLOGY',\n",
       "       'FORCE_2020_LITHOFACIES_CONFIDENCE', 'Unnamed: 0', 'DEPT'],\n",
       "      dtype='object')"
      ]
     },
     "execution_count": 79,
     "metadata": {},
     "output_type": "execute_result"
    }
   ],
   "source": [
    "df.columns"
   ]
  },
  {
   "cell_type": "code",
   "execution_count": 80,
   "metadata": {},
   "outputs": [
    {
     "data": {
      "text/plain": [
       "31"
      ]
     },
     "execution_count": 80,
     "metadata": {},
     "output_type": "execute_result"
    }
   ],
   "source": [
    "len(list(df.columns))"
   ]
  },
  {
   "cell_type": "code",
   "execution_count": 81,
   "metadata": {},
   "outputs": [
    {
     "data": {
      "text/plain": [
       "(122117, 31)"
      ]
     },
     "execution_count": 81,
     "metadata": {},
     "output_type": "execute_result"
    }
   ],
   "source": [
    "df.shape"
   ]
  },
  {
   "cell_type": "code",
   "execution_count": 82,
   "metadata": {},
   "outputs": [
    {
     "data": {
      "text/plain": [
       "WELL                                  object\n",
       "DEPTH_MD                             float64\n",
       "X_LOC                                float64\n",
       "Y_LOC                                float64\n",
       "Z_LOC                                float64\n",
       "GROUP                                 object\n",
       "FORMATION                             object\n",
       "CALI                                 float64\n",
       "RSHA                                 float64\n",
       "RMED                                 float64\n",
       "RDEP                                 float64\n",
       "RHOB                                 float64\n",
       "GR                                   float64\n",
       "SGR                                  float64\n",
       "NPHI                                 float64\n",
       "PEF                                  float64\n",
       "DTC                                  float64\n",
       "SP                                   float64\n",
       "BS                                   float64\n",
       "ROP                                  float64\n",
       "DTS                                  float64\n",
       "DCAL                                 float64\n",
       "DRHO                                 float64\n",
       "MUDWEIGHT                            float64\n",
       "RMIC                                 float64\n",
       "ROPA                                 float64\n",
       "RXO                                  float64\n",
       "FORCE_2020_LITHOFACIES_LITHOLOGY     float64\n",
       "FORCE_2020_LITHOFACIES_CONFIDENCE    float64\n",
       "Unnamed: 0                           float64\n",
       "DEPT                                 float64\n",
       "dtype: object"
      ]
     },
     "execution_count": 82,
     "metadata": {},
     "output_type": "execute_result"
    }
   ],
   "source": [
    "df.dtypes"
   ]
  },
  {
   "cell_type": "code",
   "execution_count": 83,
   "metadata": {},
   "outputs": [
    {
     "name": "stdout",
     "output_type": "stream",
     "text": [
      "Уникальных скважин - 9\n"
     ]
    }
   ],
   "source": [
    "print(f'Уникальных скважин - {df.WELL.nunique()}')"
   ]
  },
  {
   "cell_type": "code",
   "execution_count": 84,
   "metadata": {},
   "outputs": [
    {
     "data": {
      "text/plain": [
       "array(['15/9-23', '16/2-7', '16/7-6', '17/4-1', '25/10-9', '31/2-10',\n",
       "       '31/2-21 S', nan, '34/3-2 S', '35/9-7'], dtype=object)"
      ]
     },
     "execution_count": 84,
     "metadata": {},
     "output_type": "execute_result"
    }
   ],
   "source": [
    "df.WELL.unique()"
   ]
  },
  {
   "cell_type": "code",
   "execution_count": 85,
   "metadata": {},
   "outputs": [],
   "source": [
    "lithology_keys = {30000: 'Sandstone',\n",
    "                  65030: 'Sandstone/Shale',\n",
    "                  65000: 'Shale',\n",
    "                  80000: 'Marl',\n",
    "                  74000: 'Dolomite',\n",
    "                  70000: 'Limestone',\n",
    "                  70032: 'Chalk',\n",
    "                  88000: 'Halite',\n",
    "                  86000: 'Anhydrite',\n",
    "                  99000: 'Tuff',\n",
    "                  90000: 'Coal',\n",
    "                  93000: 'Basement'}"
   ]
  },
  {
   "cell_type": "code",
   "execution_count": 94,
   "metadata": {},
   "outputs": [
    {
     "data": {
      "text/plain": [
       "array([65000., 65030., 70000., 30000., 99000., 70032., 80000., 90000.,\n",
       "       86000., 74000., 88000.])"
      ]
     },
     "execution_count": 94,
     "metadata": {},
     "output_type": "execute_result"
    }
   ],
   "source": [
    "df['FORCE_2020_LITHOFACIES_LITHOLOGY'].unique()"
   ]
  },
  {
   "cell_type": "code",
   "execution_count": 87,
   "metadata": {},
   "outputs": [
    {
     "data": {
      "text/plain": [
       "FORCE_2020_LITHOFACIES_LITHOLOGY\n",
       "65000.0    69305\n",
       "30000.0    14794\n",
       "65030.0    10507\n",
       "70000.0     8721\n",
       "88000.0     6498\n",
       "80000.0     5266\n",
       "70032.0     2905\n",
       "99000.0     2366\n",
       "86000.0      597\n",
       "74000.0      269\n",
       "90000.0      196\n",
       "Name: count, dtype: int64"
      ]
     },
     "execution_count": 87,
     "metadata": {},
     "output_type": "execute_result"
    }
   ],
   "source": [
    "df['FORCE_2020_LITHOFACIES_LITHOLOGY'].value_counts()"
   ]
  },
  {
   "cell_type": "code",
   "execution_count": 90,
   "metadata": {},
   "outputs": [
    {
     "data": {
      "text/plain": [
       "array([   nan, 65000., 30000., 70000., 65030., 99000., 80000., 90000.])"
      ]
     },
     "execution_count": 90,
     "metadata": {},
     "output_type": "execute_result"
    }
   ],
   "source": [
    "df[df['WELL'].isna()]['FORCE_2020_LITHOFACIES_LITHOLOGY'].unique()"
   ]
  },
  {
   "cell_type": "code",
   "execution_count": 91,
   "metadata": {},
   "outputs": [],
   "source": [
    "df = df.dropna(subset=['FORCE_2020_LITHOFACIES_LITHOLOGY'])"
   ]
  },
  {
   "cell_type": "code",
   "execution_count": null,
   "metadata": {},
   "outputs": [],
   "source": []
  },
  {
   "cell_type": "code",
   "execution_count": 73,
   "metadata": {},
   "outputs": [],
   "source": [
    "df_ = pd.read_csv('data/archive/29_3_1_well.csv')\n"
   ]
  },
  {
   "cell_type": "code",
   "execution_count": 74,
   "metadata": {},
   "outputs": [
    {
     "data": {
      "text/plain": [
       "Index(['WELL', 'DEPTH_MD', 'X_LOC', 'Y_LOC', 'Z_LOC', 'GROUP', 'FORMATION',\n",
       "       'CALI', 'RSHA', 'RMED', 'RDEP', 'RHOB', 'GR', 'SGR', 'NPHI', 'PEF',\n",
       "       'DTC', 'SP', 'BS', 'ROP', 'DTS', 'DCAL', 'DRHO', 'MUDWEIGHT', 'RMIC',\n",
       "       'ROPA', 'RXO'],\n",
       "      dtype='object')"
      ]
     },
     "execution_count": 74,
     "metadata": {},
     "output_type": "execute_result"
    }
   ],
   "source": [
    "df_.columns"
   ]
  },
  {
   "cell_type": "code",
   "execution_count": 93,
   "metadata": {},
   "outputs": [
    {
     "data": {
      "text/plain": [
       "FORCE_2020_LITHOFACIES_LITHOLOGY    121424\n",
       "dtype: int64"
      ]
     },
     "execution_count": 93,
     "metadata": {},
     "output_type": "execute_result"
    }
   ],
   "source": [
    "df[['FORCE_2020_LITHOFACIES_LITHOLOGY']].isna().count()"
   ]
  },
  {
   "cell_type": "code",
   "execution_count": 52,
   "metadata": {},
   "outputs": [
    {
     "data": {
      "text/plain": [
       "<Axes: >"
      ]
     },
     "execution_count": 52,
     "metadata": {},
     "output_type": "execute_result"
    },
    {
     "data": {
      "image/png": "[encoded data removed]",
      "text/plain": [
       "<Figure size 640x480 with 1 Axes>"
      ]
     },
     "metadata": {},
     "output_type": "display_data"
    }
   ],
   "source": [
    "df['FORCE_2020_LITHOFACIES_LITHOLOGY'].hist(bins=30)"
   ]
  }
 ],
 "metadata": {
  "kernelspec": {
   "display_name": "venv",
   "language": "python",
   "name": "python3"
  },
  "language_info": {
   "codemirror_mode": {
    "name": "ipython",
    "version": 3
   },
   "file_extension": ".py",
   "mimetype": "text/x-python",
   "name": "python",
   "nbconvert_exporter": "python",
   "pygments_lexer": "ipython3",
   "version": "3.8.2"
  }
 },
 "nbformat": 4,
 "nbformat_minor": 2
}
