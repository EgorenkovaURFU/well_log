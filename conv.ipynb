{
 "cells": [
  {
   "cell_type": "code",
   "execution_count": 1,
   "metadata": {},
   "outputs": [],
   "source": [
    "import torch\n",
    "from torch.utils.data import Dataset, DataLoader\n",
    "from torch import nn, optim\n",
    "import pandas as pd\n",
    "from sklearn.model_selection import train_test_split\n",
    "from sklearn.preprocessing import StandardScaler\n",
    "from sklearn.preprocessing import OneHotEncoder\n",
    "from torch.utils import data\n",
    "\n",
    "from tqdm import tqdm\n",
    "import seaborn as sns\n",
    "import matplotlib.pyplot as plt"
   ]
  },
  {
   "cell_type": "code",
   "execution_count": 2,
   "metadata": {},
   "outputs": [],
   "source": [
    "df = pd.read_csv(\"data\\df_01.csv\", index_col=[0])\n",
    "df = df.reset_index().drop(columns=['index'])"
   ]
  },
  {
   "cell_type": "code",
   "execution_count": 3,
   "metadata": {},
   "outputs": [
    {
     "data": {
      "text/html": [
       "<div>\n",
       "<style scoped>\n",
       "    .dataframe tbody tr th:only-of-type {\n",
       "        vertical-align: middle;\n",
       "    }\n",
       "\n",
       "    .dataframe tbody tr th {\n",
       "        vertical-align: top;\n",
       "    }\n",
       "\n",
       "    .dataframe thead th {\n",
       "        text-align: right;\n",
       "    }\n",
       "</style>\n",
       "<table border=\"1\" class=\"dataframe\">\n",
       "  <thead>\n",
       "    <tr style=\"text-align: right;\">\n",
       "      <th></th>\n",
       "      <th>DEPTH_MD</th>\n",
       "      <th>X_LOC</th>\n",
       "      <th>Y_LOC</th>\n",
       "      <th>Z_LOC</th>\n",
       "      <th>CALI</th>\n",
       "      <th>RMED</th>\n",
       "      <th>RDEP</th>\n",
       "      <th>RHOB</th>\n",
       "      <th>GR</th>\n",
       "      <th>NPHI</th>\n",
       "      <th>PEF</th>\n",
       "      <th>DTC</th>\n",
       "      <th>BS</th>\n",
       "      <th>ROP</th>\n",
       "      <th>DTS</th>\n",
       "      <th>DCAL</th>\n",
       "      <th>DRHO</th>\n",
       "      <th>ROPA</th>\n",
       "      <th>FORCE_2020_LITHOFACIES_LITHOLOGY</th>\n",
       "      <th>FORCE_2020_LITHOFACIES_CONFIDENCE</th>\n",
       "    </tr>\n",
       "  </thead>\n",
       "  <tbody>\n",
       "    <tr>\n",
       "      <th>0</th>\n",
       "      <td>1518.2800</td>\n",
       "      <td>433906.7500</td>\n",
       "      <td>6460000.5</td>\n",
       "      <td>-1493.241821</td>\n",
       "      <td>15.506232</td>\n",
       "      <td>1.461974</td>\n",
       "      <td>0.878615</td>\n",
       "      <td>2.345301</td>\n",
       "      <td>103.451515</td>\n",
       "      <td>0.439925</td>\n",
       "      <td>5.820852</td>\n",
       "      <td>147.043427</td>\n",
       "      <td>17.5</td>\n",
       "      <td>146.526276</td>\n",
       "      <td>326.451263</td>\n",
       "      <td>-1.993768</td>\n",
       "      <td>0.109706</td>\n",
       "      <td>88.968864</td>\n",
       "      <td>65000.0</td>\n",
       "      <td>3.0</td>\n",
       "    </tr>\n",
       "    <tr>\n",
       "      <th>1</th>\n",
       "      <td>1518.4320</td>\n",
       "      <td>433906.7500</td>\n",
       "      <td>6460000.5</td>\n",
       "      <td>-1493.393799</td>\n",
       "      <td>18.524611</td>\n",
       "      <td>1.461974</td>\n",
       "      <td>0.874237</td>\n",
       "      <td>2.345301</td>\n",
       "      <td>94.124893</td>\n",
       "      <td>0.504055</td>\n",
       "      <td>5.820852</td>\n",
       "      <td>145.426468</td>\n",
       "      <td>17.5</td>\n",
       "      <td>147.605148</td>\n",
       "      <td>322.926361</td>\n",
       "      <td>1.024611</td>\n",
       "      <td>-0.006418</td>\n",
       "      <td>92.287186</td>\n",
       "      <td>65000.0</td>\n",
       "      <td>3.0</td>\n",
       "    </tr>\n",
       "    <tr>\n",
       "      <th>2</th>\n",
       "      <td>1518.5840</td>\n",
       "      <td>433906.7500</td>\n",
       "      <td>6460000.5</td>\n",
       "      <td>-1493.545776</td>\n",
       "      <td>18.855669</td>\n",
       "      <td>1.461974</td>\n",
       "      <td>0.869858</td>\n",
       "      <td>2.345301</td>\n",
       "      <td>93.586487</td>\n",
       "      <td>0.512960</td>\n",
       "      <td>5.820852</td>\n",
       "      <td>145.295105</td>\n",
       "      <td>17.5</td>\n",
       "      <td>140.783127</td>\n",
       "      <td>325.283142</td>\n",
       "      <td>1.355668</td>\n",
       "      <td>0.022769</td>\n",
       "      <td>95.605499</td>\n",
       "      <td>65000.0</td>\n",
       "      <td>3.0</td>\n",
       "    </tr>\n",
       "    <tr>\n",
       "      <th>3</th>\n",
       "      <td>1518.7360</td>\n",
       "      <td>433906.7500</td>\n",
       "      <td>6460000.5</td>\n",
       "      <td>-1493.697754</td>\n",
       "      <td>19.163353</td>\n",
       "      <td>1.461974</td>\n",
       "      <td>0.865479</td>\n",
       "      <td>2.345301</td>\n",
       "      <td>91.113373</td>\n",
       "      <td>0.500070</td>\n",
       "      <td>5.820852</td>\n",
       "      <td>143.657593</td>\n",
       "      <td>17.5</td>\n",
       "      <td>125.159531</td>\n",
       "      <td>334.233185</td>\n",
       "      <td>1.663353</td>\n",
       "      <td>0.024972</td>\n",
       "      <td>98.923820</td>\n",
       "      <td>65000.0</td>\n",
       "      <td>3.0</td>\n",
       "    </tr>\n",
       "    <tr>\n",
       "      <th>4</th>\n",
       "      <td>1518.8880</td>\n",
       "      <td>433906.7500</td>\n",
       "      <td>6460000.5</td>\n",
       "      <td>-1493.849609</td>\n",
       "      <td>18.489744</td>\n",
       "      <td>0.849849</td>\n",
       "      <td>0.863804</td>\n",
       "      <td>2.345301</td>\n",
       "      <td>100.228333</td>\n",
       "      <td>0.277670</td>\n",
       "      <td>5.820852</td>\n",
       "      <td>142.838440</td>\n",
       "      <td>17.5</td>\n",
       "      <td>107.576691</td>\n",
       "      <td>330.952362</td>\n",
       "      <td>0.989743</td>\n",
       "      <td>0.024527</td>\n",
       "      <td>102.242142</td>\n",
       "      <td>65000.0</td>\n",
       "      <td>3.0</td>\n",
       "    </tr>\n",
       "    <tr>\n",
       "      <th>...</th>\n",
       "      <td>...</td>\n",
       "      <td>...</td>\n",
       "      <td>...</td>\n",
       "      <td>...</td>\n",
       "      <td>...</td>\n",
       "      <td>...</td>\n",
       "      <td>...</td>\n",
       "      <td>...</td>\n",
       "      <td>...</td>\n",
       "      <td>...</td>\n",
       "      <td>...</td>\n",
       "      <td>...</td>\n",
       "      <td>...</td>\n",
       "      <td>...</td>\n",
       "      <td>...</td>\n",
       "      <td>...</td>\n",
       "      <td>...</td>\n",
       "      <td>...</td>\n",
       "      <td>...</td>\n",
       "      <td>...</td>\n",
       "    </tr>\n",
       "    <tr>\n",
       "      <th>121419</th>\n",
       "      <td>2973.2988</td>\n",
       "      <td>536096.0625</td>\n",
       "      <td>6793022.0</td>\n",
       "      <td>-2943.444580</td>\n",
       "      <td>8.276272</td>\n",
       "      <td>2.820439</td>\n",
       "      <td>3.158570</td>\n",
       "      <td>2.373673</td>\n",
       "      <td>90.720284</td>\n",
       "      <td>0.156916</td>\n",
       "      <td>3.806974</td>\n",
       "      <td>75.260658</td>\n",
       "      <td>8.5</td>\n",
       "      <td>15.195305</td>\n",
       "      <td>136.911575</td>\n",
       "      <td>0.240471</td>\n",
       "      <td>0.502458</td>\n",
       "      <td>24.306124</td>\n",
       "      <td>65000.0</td>\n",
       "      <td>2.0</td>\n",
       "    </tr>\n",
       "    <tr>\n",
       "      <th>121420</th>\n",
       "      <td>2973.4508</td>\n",
       "      <td>536096.0625</td>\n",
       "      <td>6793022.0</td>\n",
       "      <td>-2943.595947</td>\n",
       "      <td>8.267273</td>\n",
       "      <td>3.020778</td>\n",
       "      <td>3.332977</td>\n",
       "      <td>2.373673</td>\n",
       "      <td>87.062027</td>\n",
       "      <td>0.156916</td>\n",
       "      <td>3.806974</td>\n",
       "      <td>74.868301</td>\n",
       "      <td>8.5</td>\n",
       "      <td>15.770223</td>\n",
       "      <td>137.583923</td>\n",
       "      <td>0.240471</td>\n",
       "      <td>0.374753</td>\n",
       "      <td>22.201078</td>\n",
       "      <td>65000.0</td>\n",
       "      <td>2.0</td>\n",
       "    </tr>\n",
       "    <tr>\n",
       "      <th>121421</th>\n",
       "      <td>2973.6028</td>\n",
       "      <td>536096.0625</td>\n",
       "      <td>6793022.0</td>\n",
       "      <td>-2943.747559</td>\n",
       "      <td>8.250099</td>\n",
       "      <td>2.795711</td>\n",
       "      <td>3.044179</td>\n",
       "      <td>2.373673</td>\n",
       "      <td>86.115921</td>\n",
       "      <td>0.156916</td>\n",
       "      <td>3.806974</td>\n",
       "      <td>74.848122</td>\n",
       "      <td>8.5</td>\n",
       "      <td>16.418465</td>\n",
       "      <td>138.310898</td>\n",
       "      <td>0.240471</td>\n",
       "      <td>0.211487</td>\n",
       "      <td>20.096741</td>\n",
       "      <td>65000.0</td>\n",
       "      <td>2.0</td>\n",
       "    </tr>\n",
       "    <tr>\n",
       "      <th>121422</th>\n",
       "      <td>2973.7548</td>\n",
       "      <td>536096.0625</td>\n",
       "      <td>6793022.0</td>\n",
       "      <td>-2943.899170</td>\n",
       "      <td>8.250099</td>\n",
       "      <td>2.658694</td>\n",
       "      <td>2.847681</td>\n",
       "      <td>2.373673</td>\n",
       "      <td>89.497131</td>\n",
       "      <td>0.156916</td>\n",
       "      <td>3.806974</td>\n",
       "      <td>74.964027</td>\n",
       "      <td>8.5</td>\n",
       "      <td>17.037945</td>\n",
       "      <td>137.592819</td>\n",
       "      <td>0.240471</td>\n",
       "      <td>0.147950</td>\n",
       "      <td>17.992323</td>\n",
       "      <td>65000.0</td>\n",
       "      <td>2.0</td>\n",
       "    </tr>\n",
       "    <tr>\n",
       "      <th>121423</th>\n",
       "      <td>2973.9068</td>\n",
       "      <td>536096.0625</td>\n",
       "      <td>6793022.0</td>\n",
       "      <td>-2944.050537</td>\n",
       "      <td>8.250099</td>\n",
       "      <td>2.802693</td>\n",
       "      <td>2.972499</td>\n",
       "      <td>2.373673</td>\n",
       "      <td>100.418251</td>\n",
       "      <td>0.156916</td>\n",
       "      <td>3.806974</td>\n",
       "      <td>75.111404</td>\n",
       "      <td>8.5</td>\n",
       "      <td>17.618532</td>\n",
       "      <td>136.129761</td>\n",
       "      <td>0.240471</td>\n",
       "      <td>0.174232</td>\n",
       "      <td>15.889325</td>\n",
       "      <td>65000.0</td>\n",
       "      <td>2.0</td>\n",
       "    </tr>\n",
       "  </tbody>\n",
       "</table>\n",
       "<p>121424 rows × 20 columns</p>\n",
       "</div>"
      ],
      "text/plain": [
       "         DEPTH_MD        X_LOC      Y_LOC        Z_LOC       CALI      RMED  \\\n",
       "0       1518.2800  433906.7500  6460000.5 -1493.241821  15.506232  1.461974   \n",
       "1       1518.4320  433906.7500  6460000.5 -1493.393799  18.524611  1.461974   \n",
       "2       1518.5840  433906.7500  6460000.5 -1493.545776  18.855669  1.461974   \n",
       "3       1518.7360  433906.7500  6460000.5 -1493.697754  19.163353  1.461974   \n",
       "4       1518.8880  433906.7500  6460000.5 -1493.849609  18.489744  0.849849   \n",
       "...           ...          ...        ...          ...        ...       ...   \n",
       "121419  2973.2988  536096.0625  6793022.0 -2943.444580   8.276272  2.820439   \n",
       "121420  2973.4508  536096.0625  6793022.0 -2943.595947   8.267273  3.020778   \n",
       "121421  2973.6028  536096.0625  6793022.0 -2943.747559   8.250099  2.795711   \n",
       "121422  2973.7548  536096.0625  6793022.0 -2943.899170   8.250099  2.658694   \n",
       "121423  2973.9068  536096.0625  6793022.0 -2944.050537   8.250099  2.802693   \n",
       "\n",
       "            RDEP      RHOB          GR      NPHI       PEF         DTC    BS  \\\n",
       "0       0.878615  2.345301  103.451515  0.439925  5.820852  147.043427  17.5   \n",
       "1       0.874237  2.345301   94.124893  0.504055  5.820852  145.426468  17.5   \n",
       "2       0.869858  2.345301   93.586487  0.512960  5.820852  145.295105  17.5   \n",
       "3       0.865479  2.345301   91.113373  0.500070  5.820852  143.657593  17.5   \n",
       "4       0.863804  2.345301  100.228333  0.277670  5.820852  142.838440  17.5   \n",
       "...          ...       ...         ...       ...       ...         ...   ...   \n",
       "121419  3.158570  2.373673   90.720284  0.156916  3.806974   75.260658   8.5   \n",
       "121420  3.332977  2.373673   87.062027  0.156916  3.806974   74.868301   8.5   \n",
       "121421  3.044179  2.373673   86.115921  0.156916  3.806974   74.848122   8.5   \n",
       "121422  2.847681  2.373673   89.497131  0.156916  3.806974   74.964027   8.5   \n",
       "121423  2.972499  2.373673  100.418251  0.156916  3.806974   75.111404   8.5   \n",
       "\n",
       "               ROP         DTS      DCAL      DRHO        ROPA  \\\n",
       "0       146.526276  326.451263 -1.993768  0.109706   88.968864   \n",
       "1       147.605148  322.926361  1.024611 -0.006418   92.287186   \n",
       "2       140.783127  325.283142  1.355668  0.022769   95.605499   \n",
       "3       125.159531  334.233185  1.663353  0.024972   98.923820   \n",
       "4       107.576691  330.952362  0.989743  0.024527  102.242142   \n",
       "...            ...         ...       ...       ...         ...   \n",
       "121419   15.195305  136.911575  0.240471  0.502458   24.306124   \n",
       "121420   15.770223  137.583923  0.240471  0.374753   22.201078   \n",
       "121421   16.418465  138.310898  0.240471  0.211487   20.096741   \n",
       "121422   17.037945  137.592819  0.240471  0.147950   17.992323   \n",
       "121423   17.618532  136.129761  0.240471  0.174232   15.889325   \n",
       "\n",
       "        FORCE_2020_LITHOFACIES_LITHOLOGY  FORCE_2020_LITHOFACIES_CONFIDENCE  \n",
       "0                                65000.0                                3.0  \n",
       "1                                65000.0                                3.0  \n",
       "2                                65000.0                                3.0  \n",
       "3                                65000.0                                3.0  \n",
       "4                                65000.0                                3.0  \n",
       "...                                  ...                                ...  \n",
       "121419                           65000.0                                2.0  \n",
       "121420                           65000.0                                2.0  \n",
       "121421                           65000.0                                2.0  \n",
       "121422                           65000.0                                2.0  \n",
       "121423                           65000.0                                2.0  \n",
       "\n",
       "[121424 rows x 20 columns]"
      ]
     },
     "execution_count": 3,
     "metadata": {},
     "output_type": "execute_result"
    }
   ],
   "source": [
    "df"
   ]
  },
  {
   "cell_type": "code",
   "execution_count": 4,
   "metadata": {},
   "outputs": [],
   "source": [
    "lithology_keys = {30000: 0,\n",
    "                  65030: 1,\n",
    "                  65000: 2,\n",
    "                  80000: 3,\n",
    "                  74000: 4,\n",
    "                  70000: 5,\n",
    "                  70032: 6,\n",
    "                  88000: 7,\n",
    "                  86000: 8,\n",
    "                  99000: 9,\n",
    "                  90000: 10,\n",
    "                  93000: 11}"
   ]
  },
  {
   "cell_type": "code",
   "execution_count": 5,
   "metadata": {},
   "outputs": [],
   "source": [
    "df['FORCE_2020_LITHOFACIES_LITHOLOGY'] = df['FORCE_2020_LITHOFACIES_LITHOLOGY'].map(lithology_keys)"
   ]
  },
  {
   "cell_type": "code",
   "execution_count": 6,
   "metadata": {},
   "outputs": [],
   "source": [
    "encoder = OneHotEncoder(sparse_output=False)\n",
    "one_hot_ecoded = encoder.fit_transform(df[['FORCE_2020_LITHOFACIES_LITHOLOGY']])\n",
    "one_hot_df = pd.DataFrame(one_hot_ecoded, columns=encoder.get_feature_names_out())\n",
    "df = pd.concat([df, one_hot_df], axis=1)"
   ]
  },
  {
   "cell_type": "code",
   "execution_count": 7,
   "metadata": {},
   "outputs": [],
   "source": [
    "feature_names = ['DEPTH_MD', 'X_LOC', 'Y_LOC', 'Z_LOC', 'CALI', 'RMED', 'RDEP', 'RHOB',\n",
    "                 'GR', 'NPHI', 'PEF', 'DTC', 'BS', 'ROP', 'DTS', 'DCAL', 'DRHO', 'ROPA']\n",
    "\n",
    "target_name = ['FORCE_2020_LITHOFACIES_LITHOLOGY_0', 'FORCE_2020_LITHOFACIES_LITHOLOGY_1', \n",
    "               'FORCE_2020_LITHOFACIES_LITHOLOGY_2', 'FORCE_2020_LITHOFACIES_LITHOLOGY_3',\n",
    "               'FORCE_2020_LITHOFACIES_LITHOLOGY_4', 'FORCE_2020_LITHOFACIES_LITHOLOGY_5',\n",
    "               'FORCE_2020_LITHOFACIES_LITHOLOGY_6', 'FORCE_2020_LITHOFACIES_LITHOLOGY_7', \n",
    "               'FORCE_2020_LITHOFACIES_LITHOLOGY_8', 'FORCE_2020_LITHOFACIES_LITHOLOGY_9',\n",
    "               'FORCE_2020_LITHOFACIES_LITHOLOGY_10']"
   ]
  },
  {
   "cell_type": "code",
   "execution_count": 8,
   "metadata": {},
   "outputs": [],
   "source": [
    "class CustomDataset(Dataset):\n",
    "\n",
    "    def __init__(self, dataframe: pd.DataFrame, feature_names: list, target_name: str):\n",
    "        scaler = StandardScaler()\n",
    "        X = scaler.fit_transform(dataframe[feature_names])\n",
    "        X = torch.tensor(X, dtype=torch.float32)\n",
    "        \n",
    "        self.X = X.reshape(X.shape[0], 1, X.shape[1])\n",
    "        self.y = torch.tensor(dataframe[target_name].values, dtype=torch.float32)\n",
    "        \n",
    "    def __len__(self) -> int:\n",
    "        return len(self.y)\n",
    "    \n",
    "    def __getitem__(self, index):\n",
    "        return self.X[index], self.y[index]"
   ]
  },
  {
   "cell_type": "code",
   "execution_count": 9,
   "metadata": {},
   "outputs": [],
   "source": [
    "dataset = CustomDataset(dataframe=df, feature_names=feature_names, target_name=target_name)\n",
    "\n",
    "train_, test = data.random_split(dataset, [0.8, 0.2])\n",
    "train, val = data.random_split(train_, [0.7, 0.3])"
   ]
  },
  {
   "cell_type": "code",
   "execution_count": 10,
   "metadata": {},
   "outputs": [],
   "source": [
    "train_data = DataLoader(dataset=train, batch_size=64, shuffle=True)\n",
    "val_data = DataLoader(dataset=val, batch_size=64, shuffle=True)\n",
    "test_data = DataLoader(dataset=test, batch_size=64, shuffle=False)"
   ]
  },
  {
   "cell_type": "code",
   "execution_count": 11,
   "metadata": {},
   "outputs": [
    {
     "data": {
      "text/plain": [
       "18"
      ]
     },
     "execution_count": 11,
     "metadata": {},
     "output_type": "execute_result"
    }
   ],
   "source": [
    "len(feature_names)"
   ]
  },
  {
   "cell_type": "code",
   "execution_count": 12,
   "metadata": {},
   "outputs": [],
   "source": [
    "model = nn.Sequential(\n",
    "    nn.Conv1d(1, 64, 3, padding=1),\n",
    "    nn.ReLU(),\n",
    "    nn.Conv1d(64, 128, 3, padding=1),\n",
    "    nn.ReLU(),\n",
    "    nn.Conv1d(128, 64, 3, padding=1),\n",
    "    nn.ReLU(),\n",
    "    nn.Conv1d(64, 64, 3, padding=1),\n",
    "    nn.ReLU(),\n",
    "    # nn.Conv1d(64, 128, 3, padding=1),\n",
    "    # nn.ReLU(),\n",
    "    # nn.Conv1d(128, 128, 3, padding=1),\n",
    "    # nn.ReLU(),\n",
    "    # nn.Conv1d(128, 128, 1, padding=1),\n",
    "    nn.Flatten(),\n",
    "    nn.Linear(1152, 32),\n",
    "    nn.ReLU(),\n",
    "    nn.Linear(32, len(target_name))\n",
    ")"
   ]
  },
  {
   "cell_type": "code",
   "execution_count": 13,
   "metadata": {},
   "outputs": [],
   "source": [
    "optimizer = optim.Adam(params=model.parameters(), lr=0.001, weight_decay=0.001)\n",
    "loss_function = nn.CrossEntropyLoss()"
   ]
  },
  {
   "cell_type": "code",
   "execution_count": 14,
   "metadata": {},
   "outputs": [
    {
     "data": {
      "text/plain": [
       "Sequential(\n",
       "  (0): Conv1d(1, 64, kernel_size=(3,), stride=(1,), padding=(1,))\n",
       "  (1): ReLU()\n",
       "  (2): Conv1d(64, 128, kernel_size=(3,), stride=(1,), padding=(1,))\n",
       "  (3): ReLU()\n",
       "  (4): Conv1d(128, 64, kernel_size=(3,), stride=(1,), padding=(1,))\n",
       "  (5): ReLU()\n",
       "  (6): Conv1d(64, 64, kernel_size=(3,), stride=(1,), padding=(1,))\n",
       "  (7): ReLU()\n",
       "  (8): Flatten(start_dim=1, end_dim=-1)\n",
       "  (9): Linear(in_features=1152, out_features=32, bias=True)\n",
       "  (10): ReLU()\n",
       "  (11): Linear(in_features=32, out_features=11, bias=True)\n",
       ")"
      ]
     },
     "execution_count": 14,
     "metadata": {},
     "output_type": "execute_result"
    }
   ],
   "source": [
    "epochs = 5\n",
    "model.train()"
   ]
  },
  {
   "cell_type": "code",
   "execution_count": null,
   "metadata": {},
   "outputs": [
    {
     "name": "stderr",
     "output_type": "stream",
     "text": [
      "  0%|          | 0/1063 [00:00<?, ?it/s]"
     ]
    },
    {
     "name": "stderr",
     "output_type": "stream",
     "text": [
      "                                                                                   \r"
     ]
    },
    {
     "name": "stdout",
     "output_type": "stream",
     "text": [
      " | loss_mean=0.543, Q_val=0.393\n"
     ]
    },
    {
     "name": "stderr",
     "output_type": "stream",
     "text": [
      "                                                                                   \r"
     ]
    },
    {
     "name": "stdout",
     "output_type": "stream",
     "text": [
      " | loss_mean=0.366, Q_val=0.361\n"
     ]
    },
    {
     "name": "stderr",
     "output_type": "stream",
     "text": [
      "                                                                                   \r"
     ]
    },
    {
     "name": "stdout",
     "output_type": "stream",
     "text": [
      " | loss_mean=0.340, Q_val=0.343\n"
     ]
    },
    {
     "name": "stderr",
     "output_type": "stream",
     "text": [
      "                                                                                   \r"
     ]
    },
    {
     "name": "stdout",
     "output_type": "stream",
     "text": [
      " | loss_mean=0.325, Q_val=0.322\n"
     ]
    },
    {
     "name": "stderr",
     "output_type": "stream",
     "text": [
      "                                                                                   \r"
     ]
    },
    {
     "name": "stdout",
     "output_type": "stream",
     "text": [
      " | loss_mean=0.314, Q_val=0.303\n"
     ]
    },
    {
     "name": "stderr",
     "output_type": "stream",
     "text": [
      "                                                                                   \r"
     ]
    },
    {
     "name": "stdout",
     "output_type": "stream",
     "text": [
      " | loss_mean=0.304, Q_val=0.297\n"
     ]
    },
    {
     "name": "stderr",
     "output_type": "stream",
     "text": [
      "                                                                                   \r"
     ]
    },
    {
     "name": "stdout",
     "output_type": "stream",
     "text": [
      " | loss_mean=0.299, Q_val=0.322\n"
     ]
    },
    {
     "name": "stderr",
     "output_type": "stream",
     "text": [
      "                                                                                   \r"
     ]
    },
    {
     "name": "stdout",
     "output_type": "stream",
     "text": [
      " | loss_mean=0.293, Q_val=0.318\n"
     ]
    },
    {
     "name": "stderr",
     "output_type": "stream",
     "text": [
      "                                                                                   \r"
     ]
    },
    {
     "name": "stdout",
     "output_type": "stream",
     "text": [
      " | loss_mean=0.286, Q_val=0.291\n"
     ]
    },
    {
     "name": "stderr",
     "output_type": "stream",
     "text": [
      "                                                                                    \r"
     ]
    },
    {
     "name": "stdout",
     "output_type": "stream",
     "text": [
      " | loss_mean=0.280, Q_val=0.284\n"
     ]
    },
    {
     "name": "stderr",
     "output_type": "stream",
     "text": [
      "                                                                                    \r"
     ]
    },
    {
     "name": "stdout",
     "output_type": "stream",
     "text": [
      " | loss_mean=0.277, Q_val=0.285\n"
     ]
    },
    {
     "name": "stderr",
     "output_type": "stream",
     "text": [
      "                                                                                    \r"
     ]
    },
    {
     "name": "stdout",
     "output_type": "stream",
     "text": [
      " | loss_mean=0.273, Q_val=0.283\n"
     ]
    },
    {
     "name": "stderr",
     "output_type": "stream",
     "text": [
      "                                                                                    \r"
     ]
    },
    {
     "name": "stdout",
     "output_type": "stream",
     "text": [
      " | loss_mean=0.271, Q_val=0.291\n"
     ]
    },
    {
     "name": "stderr",
     "output_type": "stream",
     "text": [
      "                                                                                    \r"
     ]
    },
    {
     "name": "stdout",
     "output_type": "stream",
     "text": [
      " | loss_mean=0.268, Q_val=0.279\n"
     ]
    },
    {
     "name": "stderr",
     "output_type": "stream",
     "text": [
      "                                                                                    \r"
     ]
    },
    {
     "name": "stdout",
     "output_type": "stream",
     "text": [
      " | loss_mean=0.265, Q_val=0.272\n"
     ]
    },
    {
     "name": "stderr",
     "output_type": "stream",
     "text": [
      "                                                                                    \r"
     ]
    },
    {
     "name": "stdout",
     "output_type": "stream",
     "text": [
      " | loss_mean=0.262, Q_val=0.283\n"
     ]
    },
    {
     "name": "stderr",
     "output_type": "stream",
     "text": [
      "                                                                                    \r"
     ]
    }
   ],
   "source": [
    "# for e in range(epochs):\n",
    "#     loss_mean = 0\n",
    "#     lm_count = 0\n",
    "\n",
    "#     train_tqdm = tqdm(train_data, leave=False)\n",
    "#     for x_train, y_train in train_tqdm:\n",
    "#         print(x_train.shape)\n",
    "#         print(y_train.shape)\n",
    "#         predict = model(x_train)\n",
    "#         loss = loss_function(predict, y_train)\n",
    "\n",
    "#         optimizer.zero_grad()\n",
    "#         loss.backward()\n",
    "#         optimizer.step()\n",
    "\n",
    "#         lm_count += 1\n",
    "#         loss_mean = 1/lm_count * loss.item() + (1 - 1/lm_count) * loss_mean\n",
    "#         train_tqdm.set_description(f'Epoch [{e+1}/{epochs}], loss_mean={loss_mean:.3f} ')\n",
    "\n",
    "epochs = 50\n",
    "best_loss = 1e10 # заведомо высокое значение\n",
    "loss_val = []\n",
    "loss_train = []\n",
    "\n",
    "for e in range(epochs):\n",
    "    model.train()\n",
    "    loss_mean = 0\n",
    "    lm_count = 0\n",
    "\n",
    "    train_tqdm = tqdm(train_data, leave=False)\n",
    "    for x_train, y_train in train_tqdm:\n",
    "        predict = model(x_train)\n",
    "        loss = loss_function(predict, y_train)\n",
    "\n",
    "        optimizer.zero_grad()\n",
    "        loss.backward()\n",
    "        optimizer.step()\n",
    "\n",
    "        lm_count += 1\n",
    "        loss_mean = 1/lm_count * loss.item() + (1 - 1/lm_count) * loss_mean\n",
    "        train_tqdm.set_description(f'Epoch [{e+1}/{epochs}], loss_mean={loss_mean:.3f} ')\n",
    "    \n",
    "    model.eval()\n",
    "    Q_val = 0\n",
    "    count_val = 0\n",
    "\n",
    "    for x_val, y_val in val_data:\n",
    "        with torch.no_grad():\n",
    "            prediction = model(x_val)\n",
    "            loss = loss_function(prediction, y_val)\n",
    "            Q_val += loss.item()\n",
    "            count_val += 1\n",
    "\n",
    "    Q_val /= count_val\n",
    "\n",
    "    loss_train.append(loss_mean)\n",
    "    loss_val.append(Q_val)\n",
    "    \n",
    "    print(f' | loss_mean={loss_mean:.3f}, Q_val={Q_val:.3f}')"
   ]
  },
  {
   "cell_type": "code",
   "execution_count": null,
   "metadata": {},
   "outputs": [],
   "source": [
    "Q = 0"
   ]
  },
  {
   "cell_type": "code",
   "execution_count": null,
   "metadata": {},
   "outputs": [],
   "source": [
    "model.eval()"
   ]
  },
  {
   "cell_type": "code",
   "execution_count": null,
   "metadata": {},
   "outputs": [],
   "source": [
    "predictions = []\n",
    "tests = []\n",
    "test_tqdm = tqdm(test_data, leave=True)\n",
    "for x_test, y_test in test_tqdm:\n",
    "    predict = model(x_test)\n",
    "    predict = torch.argmax(predict, dim=1)\n",
    "    y_test = torch.argmax(y_test, dim=1)\n",
    "    predictions.extend(predict.cpu().detach().numpy().tolist())\n",
    "    tests.extend(y_test.cpu().detach().numpy().tolist())\n",
    "    Q += torch.sum(predict == y_test).item()"
   ]
  },
  {
   "cell_type": "code",
   "execution_count": null,
   "metadata": {},
   "outputs": [],
   "source": [
    "Q /= len(test_data)\n",
    "print(Q)"
   ]
  },
  {
   "cell_type": "code",
   "execution_count": null,
   "metadata": {},
   "outputs": [],
   "source": [
    "plt.plot(loss_train)\n",
    "plt.plot(loss_val)\n",
    "plt.grid()\n",
    "plt.show()"
   ]
  },
  {
   "cell_type": "code",
   "execution_count": null,
   "metadata": {},
   "outputs": [],
   "source": [
    "from sklearn.metrics import confusion_matrix, classification_report"
   ]
  },
  {
   "cell_type": "code",
   "execution_count": null,
   "metadata": {},
   "outputs": [],
   "source": [
    "print(classification_report(tests, predictions))"
   ]
  },
  {
   "cell_type": "code",
   "execution_count": null,
   "metadata": {},
   "outputs": [],
   "source": [
    "cm = confusion_matrix(tests, predictions)\n",
    "sns.heatmap(cm, annot=True)"
   ]
  },
  {
   "cell_type": "code",
   "execution_count": null,
   "metadata": {},
   "outputs": [],
   "source": [
    "st = model.state_dict()\n",
    "torch.save(st, 'models/conv_model_1.tar')"
   ]
  },
  {
   "cell_type": "code",
   "execution_count": null,
   "metadata": {},
   "outputs": [
    {
     "data": {
      "text/plain": [
       "Sequential(\n",
       "  (0): Conv1d(1, 64, kernel_size=(3,), stride=(1,), padding=(1,))\n",
       "  (1): ReLU()\n",
       "  (2): Conv1d(64, 128, kernel_size=(3,), stride=(1,), padding=(1,))\n",
       "  (3): ReLU()\n",
       "  (4): Conv1d(128, 64, kernel_size=(3,), stride=(1,), padding=(1,))\n",
       "  (5): ReLU()\n",
       "  (6): Conv1d(64, 64, kernel_size=(3,), stride=(1,), padding=(1,))\n",
       "  (7): ReLU()\n",
       "  (8): Flatten(start_dim=1, end_dim=-1)\n",
       "  (9): Linear(in_features=1152, out_features=32, bias=True)\n",
       "  (10): ReLU()\n",
       "  (11): Linear(in_features=32, out_features=11, bias=True)\n",
       ")"
      ]
     },
     "execution_count": 59,
     "metadata": {},
     "output_type": "execute_result"
    }
   ],
   "source": [
    "model.eval()"
   ]
  },
  {
   "cell_type": "code",
   "execution_count": null,
   "metadata": {},
   "outputs": [
    {
     "name": "stderr",
     "output_type": "stream",
     "text": [
      "  0%|          | 0/380 [00:00<?, ?it/s]"
     ]
    }
   ],
   "source": [
    "predictions = []\n",
    "y_tests = []\n",
    "\n",
    "test_tqdm = tqdm(test_data, leave=True)\n",
    "for x_test, y_test in train_tqdm:\n",
    "    predict = model(x_test)\n",
    "    predictions.append(predict)\n",
    "    y_tests.append(y_test)"
   ]
  },
  {
   "cell_type": "code",
   "execution_count": null,
   "metadata": {},
   "outputs": [
    {
     "name": "stderr",
     "output_type": "stream",
     "text": [
      "  0%|          | 0/380 [01:32<?, ?it/s]\n",
      "  0%|          | 0/380 [00:00<?, ?it/s]"
     ]
    },
    {
     "name": "stdout",
     "output_type": "stream",
     "text": [
      "tensor([[0., 0., 0., 0., 0., 0., 0., 1., 0., 0., 0.],\n",
      "        [0., 1., 0., 0., 0., 0., 0., 0., 0., 0., 0.],\n",
      "        [0., 0., 1., 0., 0., 0., 0., 0., 0., 0., 0.],\n",
      "        [0., 1., 0., 0., 0., 0., 0., 0., 0., 0., 0.],\n",
      "        [0., 0., 0., 0., 0., 0., 0., 0., 1., 0., 0.],\n",
      "        [0., 0., 0., 0., 0., 0., 0., 0., 0., 1., 0.],\n",
      "        [0., 0., 0., 0., 0., 1., 0., 0., 0., 0., 0.],\n",
      "        [0., 0., 1., 0., 0., 0., 0., 0., 0., 0., 0.],\n",
      "        [0., 0., 1., 0., 0., 0., 0., 0., 0., 0., 0.],\n",
      "        [0., 0., 0., 1., 0., 0., 0., 0., 0., 0., 0.],\n",
      "        [0., 0., 0., 0., 0., 0., 0., 0., 0., 0., 1.],\n",
      "        [0., 0., 0., 0., 0., 0., 0., 1., 0., 0., 0.],\n",
      "        [0., 0., 1., 0., 0., 0., 0., 0., 0., 0., 0.],\n",
      "        [0., 0., 1., 0., 0., 0., 0., 0., 0., 0., 0.],\n",
      "        [0., 1., 0., 0., 0., 0., 0., 0., 0., 0., 0.],\n",
      "        [0., 0., 1., 0., 0., 0., 0., 0., 0., 0., 0.],\n",
      "        [0., 0., 1., 0., 0., 0., 0., 0., 0., 0., 0.],\n",
      "        [0., 0., 1., 0., 0., 0., 0., 0., 0., 0., 0.],\n",
      "        [0., 0., 1., 0., 0., 0., 0., 0., 0., 0., 0.],\n",
      "        [0., 0., 1., 0., 0., 0., 0., 0., 0., 0., 0.],\n",
      "        [0., 0., 1., 0., 0., 0., 0., 0., 0., 0., 0.],\n",
      "        [0., 0., 1., 0., 0., 0., 0., 0., 0., 0., 0.],\n",
      "        [0., 0., 0., 0., 0., 1., 0., 0., 0., 0., 0.],\n",
      "        [0., 0., 1., 0., 0., 0., 0., 0., 0., 0., 0.],\n",
      "        [1., 0., 0., 0., 0., 0., 0., 0., 0., 0., 0.],\n",
      "        [0., 0., 1., 0., 0., 0., 0., 0., 0., 0., 0.],\n",
      "        [0., 0., 0., 0., 0., 1., 0., 0., 0., 0., 0.],\n",
      "        [0., 0., 1., 0., 0., 0., 0., 0., 0., 0., 0.],\n",
      "        [0., 0., 1., 0., 0., 0., 0., 0., 0., 0., 0.],\n",
      "        [0., 1., 0., 0., 0., 0., 0., 0., 0., 0., 0.],\n",
      "        [0., 0., 1., 0., 0., 0., 0., 0., 0., 0., 0.],\n",
      "        [0., 0., 1., 0., 0., 0., 0., 0., 0., 0., 0.],\n",
      "        [0., 0., 1., 0., 0., 0., 0., 0., 0., 0., 0.],\n",
      "        [0., 0., 1., 0., 0., 0., 0., 0., 0., 0., 0.],\n",
      "        [1., 0., 0., 0., 0., 0., 0., 0., 0., 0., 0.],\n",
      "        [0., 1., 0., 0., 0., 0., 0., 0., 0., 0., 0.],\n",
      "        [0., 1., 0., 0., 0., 0., 0., 0., 0., 0., 0.],\n",
      "        [0., 0., 1., 0., 0., 0., 0., 0., 0., 0., 0.],\n",
      "        [0., 0., 1., 0., 0., 0., 0., 0., 0., 0., 0.],\n",
      "        [0., 0., 1., 0., 0., 0., 0., 0., 0., 0., 0.],\n",
      "        [0., 0., 1., 0., 0., 0., 0., 0., 0., 0., 0.],\n",
      "        [0., 0., 0., 0., 0., 0., 0., 1., 0., 0., 0.],\n",
      "        [0., 0., 1., 0., 0., 0., 0., 0., 0., 0., 0.],\n",
      "        [0., 0., 1., 0., 0., 0., 0., 0., 0., 0., 0.],\n",
      "        [0., 1., 0., 0., 0., 0., 0., 0., 0., 0., 0.],\n",
      "        [0., 0., 0., 0., 0., 0., 0., 0., 0., 1., 0.],\n",
      "        [0., 0., 1., 0., 0., 0., 0., 0., 0., 0., 0.],\n",
      "        [1., 0., 0., 0., 0., 0., 0., 0., 0., 0., 0.],\n",
      "        [0., 0., 1., 0., 0., 0., 0., 0., 0., 0., 0.],\n",
      "        [0., 0., 0., 1., 0., 0., 0., 0., 0., 0., 0.],\n",
      "        [0., 0., 0., 0., 0., 0., 0., 1., 0., 0., 0.],\n",
      "        [0., 0., 1., 0., 0., 0., 0., 0., 0., 0., 0.],\n",
      "        [0., 0., 1., 0., 0., 0., 0., 0., 0., 0., 0.],\n",
      "        [0., 0., 0., 0., 0., 0., 0., 1., 0., 0., 0.],\n",
      "        [0., 0., 1., 0., 0., 0., 0., 0., 0., 0., 0.],\n",
      "        [0., 0., 0., 0., 0., 0., 0., 0., 0., 1., 0.],\n",
      "        [0., 0., 1., 0., 0., 0., 0., 0., 0., 0., 0.],\n",
      "        [0., 0., 1., 0., 0., 0., 0., 0., 0., 0., 0.],\n",
      "        [1., 0., 0., 0., 0., 0., 0., 0., 0., 0., 0.],\n",
      "        [0., 0., 0., 0., 0., 0., 1., 0., 0., 0., 0.],\n",
      "        [0., 0., 1., 0., 0., 0., 0., 0., 0., 0., 0.],\n",
      "        [0., 0., 1., 0., 0., 0., 0., 0., 0., 0., 0.],\n",
      "        [1., 0., 0., 0., 0., 0., 0., 0., 0., 0., 0.],\n",
      "        [1., 0., 0., 0., 0., 0., 0., 0., 0., 0., 0.]])\n"
     ]
    },
    {
     "name": "stderr",
     "output_type": "stream",
     "text": [
      "\n"
     ]
    }
   ],
   "source": [
    "predictions = []\n",
    "tests = []\n",
    "test_tqdm = tqdm(test_data, leave=True)\n",
    "for x_test, y_test in test_tqdm:\n",
    "    print(y_test)\n",
    "    break"
   ]
  },
  {
   "cell_type": "code",
   "execution_count": null,
   "metadata": {},
   "outputs": [
    {
     "name": "stderr",
     "output_type": "stream",
     "text": [
      "100%|██████████| 380/380 [00:31<00:00, 11.93it/s]\n"
     ]
    }
   ],
   "source": [
    "Q = 0\n",
    "predictions = []\n",
    "tests = []\n",
    "test_tqdm = tqdm(test_data, leave=True)\n",
    "for x_test, y_test in test_tqdm:\n",
    "    predict = model(x_test)\n",
    "    predict = torch.argmax(predict, dim=1)\n",
    "    y_test = torch.argmax(y_test, dim=1)\n",
    "    predictions.extend(predict.cpu().detach().numpy().tolist())\n",
    "    tests.extend(y_test.cpu().detach().numpy().tolist())\n",
    "    Q += torch.sum(predict == y_test).item()"
   ]
  },
  {
   "cell_type": "code",
   "execution_count": null,
   "metadata": {},
   "outputs": [],
   "source": [
    "from sklearn.metrics import confusion_matrix, classification_report"
   ]
  },
  {
   "cell_type": "code",
   "execution_count": null,
   "metadata": {},
   "outputs": [
    {
     "name": "stdout",
     "output_type": "stream",
     "text": [
      "              precision    recall  f1-score   support\n",
      "\n",
      "           0       0.87      0.84      0.85      2923\n",
      "           1       0.72      0.68      0.70      2120\n",
      "           2       0.93      0.96      0.95     13844\n",
      "           3       0.81      0.77      0.79      1064\n",
      "           4       0.55      0.38      0.45        61\n",
      "           5       0.85      0.78      0.81      1731\n",
      "           6       0.94      0.96      0.95       599\n",
      "           7       0.99      1.00      0.99      1290\n",
      "           8       0.83      0.65      0.73       115\n",
      "           9       0.83      0.90      0.86       501\n",
      "          10       0.76      0.86      0.81        36\n",
      "\n",
      "    accuracy                           0.90     24284\n",
      "   macro avg       0.83      0.80      0.81     24284\n",
      "weighted avg       0.90      0.90      0.90     24284\n",
      "\n"
     ]
    }
   ],
   "source": [
    "print(classification_report(tests, predictions))"
   ]
  },
  {
   "cell_type": "code",
   "execution_count": null,
   "metadata": {},
   "outputs": [
    {
     "data": {
      "text/plain": [
       "<Axes: >"
      ]
     },
     "execution_count": 68,
     "metadata": {},
     "output_type": "execute_result"
    },
    {
     "data": {
      "image/png": "[encoded data removed]",
      "text/plain": [
       "<Figure size 640x480 with 2 Axes>"
      ]
     },
     "metadata": {},
     "output_type": "display_data"
    }
   ],
   "source": [
    "cm = confusion_matrix(tests, predictions)\n",
    "sns.heatmap(cm, annot=True)"
   ]
  },
  {
   "cell_type": "code",
   "execution_count": null,
   "metadata": {},
   "outputs": [],
   "source": [
    "class ConvNet(nn.Module):\n",
    "    def __init__(self, n_class, in_channels):\n",
    "        super().__init__()\n",
    "\n",
    "        self.conv_1 = nn.Conv1d(in_channels=in_channels, out_channels=64, kernel_size=2, padding=1)\n",
    "        self.conv_2 = nn.Conv1d(in_channels=64, out_channels=64, kernel_size=2, padding=1)\n"
   ]
  }
 ],
 "metadata": {
  "kernelspec": {
   "display_name": "venv",
   "language": "python",
   "name": "python3"
  },
  "language_info": {
   "codemirror_mode": {
    "name": "ipython",
    "version": 3
   },
   "file_extension": ".py",
   "mimetype": "text/x-python",
   "name": "python",
   "nbconvert_exporter": "python",
   "pygments_lexer": "ipython3",
   "version": "3.8.2"
  }
 },
 "nbformat": 4,
 "nbformat_minor": 2
}
