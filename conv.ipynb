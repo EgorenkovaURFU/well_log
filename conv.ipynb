{
 "cells": [
  {
   "cell_type": "code",
   "execution_count": 14,
   "metadata": {},
   "outputs": [],
   "source": [
    "import torch\n",
    "from torch.utils.data import Dataset, DataLoader\n",
    "from torch import nn, optim\n",
    "import pandas as pd\n",
    "\n",
    "from tqdm import tqdm"
   ]
  },
  {
   "cell_type": "code",
   "execution_count": 15,
   "metadata": {},
   "outputs": [],
   "source": [
    "df = pd.read_csv(\"data\\df_01.csv\", index_col=[0])"
   ]
  },
  {
   "cell_type": "code",
   "execution_count": 16,
   "metadata": {},
   "outputs": [],
   "source": [
    "lithology_keys = {30000: 0,\n",
    "                  65030: 1,\n",
    "                  65000: 2,\n",
    "                  80000: 3,\n",
    "                  74000: 4,\n",
    "                  70000: 5,\n",
    "                  70032: 6,\n",
    "                  88000: 7,\n",
    "                  86000: 8,\n",
    "                  99000: 9,\n",
    "                  90000: 10,\n",
    "                  93000: 11}"
   ]
  },
  {
   "cell_type": "code",
   "execution_count": 17,
   "metadata": {},
   "outputs": [],
   "source": [
    "df['FORCE_2020_LITHOFACIES_LITHOLOGY'] = df['FORCE_2020_LITHOFACIES_LITHOLOGY'].map(lithology_keys)"
   ]
  },
  {
   "cell_type": "code",
   "execution_count": 18,
   "metadata": {},
   "outputs": [],
   "source": [
    "# X_train, X_test, y_train, y_test = train_test_split(X, y)"
   ]
  },
  {
   "cell_type": "code",
   "execution_count": 19,
   "metadata": {},
   "outputs": [],
   "source": [
    "class CustomDataset(Dataset):\n",
    "\n",
    "    def __init__(self, dataframe: pd.DataFrame, feature_names: list, target_name: str):\n",
    "        self.X = torch.tensor(dataframe[feature_names].values, dtype=torch.float32)\n",
    "        self.X = self.X.reshape(self.X.shape[0], 1, self.X.shape[1])\n",
    "        self.y = torch.tensor(dataframe[target_name].values, dtype=torch.float32)\n",
    "        self.y = self.y.type(torch.LongTensor)\n",
    "        \n",
    "\n",
    "    def __len__(self) -> int:\n",
    "        return len(self.y)\n",
    "    \n",
    "    def __getitem__(self, index):\n",
    "        return self.X[index], self.y[index]"
   ]
  },
  {
   "cell_type": "code",
   "execution_count": 20,
   "metadata": {},
   "outputs": [],
   "source": [
    "feature_names = ['DEPTH_MD', 'X_LOC', 'Y_LOC', 'Z_LOC', 'CALI', 'RMED', 'RDEP', 'RHOB',\n",
    "                 'GR', 'NPHI', 'PEF', 'DTC', 'BS', 'ROP', 'DTS', 'DCAL', 'DRHO', 'ROPA']\n",
    "\n",
    "target_name = 'FORCE_2020_LITHOFACIES_LITHOLOGY'\n",
    "\n",
    "train_dataset = CustomDataset(dataframe=df, feature_names=feature_names, target_name=target_name)\n",
    "train_data = DataLoader(dataset=train_dataset, batch_size=64, shuffle=True, )"
   ]
  },
  {
   "cell_type": "code",
   "execution_count": 21,
   "metadata": {},
   "outputs": [
    {
     "data": {
      "text/plain": [
       "18"
      ]
     },
     "execution_count": 21,
     "metadata": {},
     "output_type": "execute_result"
    }
   ],
   "source": [
    "len(feature_names)"
   ]
  },
  {
   "cell_type": "code",
   "execution_count": 22,
   "metadata": {},
   "outputs": [],
   "source": [
    "model = nn.Sequential(\n",
    "    nn.Conv1d(1, 64, 3, padding=1),\n",
    "    nn.ReLU(),\n",
    "    nn.Conv1d(64, 64, 3, padding=1),\n",
    "    nn.ReLU(),\n",
    "    nn.Conv1d(64, 64, 3, padding=1),\n",
    "    nn.ReLU(),\n",
    "\n",
    "\n",
    "    # nn.Conv1d(64, 128, 3, padding=1),\n",
    "    # nn.ReLU(),\n",
    "    # nn.Conv1d(128, 128, 3, padding=1),\n",
    "    # nn.ReLU(),\n",
    "    # nn.Conv1d(128, 128, 1, padding=1),\n",
    "    nn.Flatten(),\n",
    "    nn.Linear(18, 32), # 1152\n",
    "    nn.ReLU(),\n",
    "    nn.Linear(32, 12),\n",
    "    nn.Softmax()\n",
    ")"
   ]
  },
  {
   "cell_type": "code",
   "execution_count": 23,
   "metadata": {},
   "outputs": [],
   "source": [
    "optimizer = optim.Adam(params=model.parameters(), lr=0.001, weight_decay=0.001)\n",
    "loss_function = nn.CrossEntropyLoss()"
   ]
  },
  {
   "cell_type": "code",
   "execution_count": 24,
   "metadata": {},
   "outputs": [
    {
     "data": {
      "text/plain": [
       "Sequential(\n",
       "  (0): Flatten(start_dim=1, end_dim=-1)\n",
       "  (1): Linear(in_features=18, out_features=32, bias=True)\n",
       "  (2): ReLU()\n",
       "  (3): Linear(in_features=32, out_features=12, bias=True)\n",
       "  (4): Softmax(dim=None)\n",
       ")"
      ]
     },
     "execution_count": 24,
     "metadata": {},
     "output_type": "execute_result"
    }
   ],
   "source": [
    "epochs = 5\n",
    "model.train()"
   ]
  },
  {
   "cell_type": "code",
   "execution_count": 25,
   "metadata": {},
   "outputs": [
    {
     "name": "stderr",
     "output_type": "stream",
     "text": [
      "  0%|          | 0/1898 [00:00<?, ?it/s]"
     ]
    },
    {
     "name": "stderr",
     "output_type": "stream",
     "text": [
      "c:\\Users\\tatya\\Documents\\well_log\\venv\\lib\\site-packages\\torch\\nn\\modules\\module.py:1553: UserWarning: Implicit dimension choice for softmax has been deprecated. Change the call to include dim=X as an argument.\n",
      "  return self._call_impl(*args, **kwargs)\n"
     ]
    },
    {
     "name": "stdout",
     "output_type": "stream",
     "text": [
      "torch.Size([64, 1, 18])\n",
      "torch.Size([64])\n"
     ]
    },
    {
     "name": "stderr",
     "output_type": "stream",
     "text": [
      "Epoch [1/5], loss_mean=2.550 :   0%|          | 3/1898 [00:00<04:08,  7.64it/s]"
     ]
    },
    {
     "name": "stdout",
     "output_type": "stream",
     "text": [
      "torch.Size([64, 1, 18])\n",
      "torch.Size([64])\n",
      "torch.Size([64, 1, 18])\n",
      "torch.Size([64])\n",
      "torch.Size([64, 1, 18])\n",
      "torch.Size([64])\n",
      "torch.Size([64, 1, 18])\n",
      "torch.Size([64])\n",
      "torch.Size([64, 1, 18])\n",
      "torch.Size([64])\n",
      "torch.Size([64, 1, 18])\n",
      "torch.Size([64])\n",
      "torch.Size([64, 1, 18])\n",
      "torch.Size([64])\n",
      "torch.Size([64, 1, 18])\n",
      "torch.Size([64])\n",
      "torch.Size([64, 1, 18])\n",
      "torch.Size([64])\n",
      "torch.Size([64, 1, 18])\n",
      "torch.Size([64])\n"
     ]
    },
    {
     "name": "stderr",
     "output_type": "stream",
     "text": [
      "Epoch [1/5], loss_mean=2.560 :   1%|          | 20/1898 [00:00<00:41, 44.82it/s]"
     ]
    },
    {
     "name": "stdout",
     "output_type": "stream",
     "text": [
      "torch.Size([64, 1, 18])\n",
      "torch.Size([64])\n",
      "torch.Size([64, 1, 18])\n",
      "torch.Size([64])\n",
      "torch.Size([64, 1, 18])\n",
      "torch.Size([64])\n",
      "torch.Size([64, 1, 18])\n",
      "torch.Size([64])\n",
      "torch.Size([64, 1, 18])\n",
      "torch.Size([64])\n",
      "torch.Size([64, 1, 18])\n",
      "torch.Size([64])\n",
      "torch.Size([64, 1, 18])\n",
      "torch.Size([64])\n",
      "torch.Size([64, 1, 18])\n",
      "torch.Size([64])\n",
      "torch.Size([64, 1, 18])\n",
      "torch.Size([64])\n",
      "torch.Size([64, 1, 18])\n",
      "torch.Size([64])\n",
      "torch.Size([64, 1, 18])\n",
      "torch.Size([64])\n",
      "torch.Size([64, 1, 18])\n",
      "torch.Size([64])\n",
      "torch.Size([64, 1, 18])\n",
      "torch.Size([64])\n",
      "torch.Size([64, 1, 18])\n",
      "torch.Size([64])\n"
     ]
    },
    {
     "name": "stderr",
     "output_type": "stream",
     "text": [
      "Epoch [1/5], loss_mean=2.562 :   2%|▏         | 39/1898 [00:00<00:27, 68.33it/s]"
     ]
    },
    {
     "name": "stdout",
     "output_type": "stream",
     "text": [
      "torch.Size([64, 1, 18])\n",
      "torch.Size([64])\n",
      "torch.Size([64, 1, 18])\n",
      "torch.Size([64])\n",
      "torch.Size([64, 1, 18])\n",
      "torch.Size([64])\n",
      "torch.Size([64, 1, 18])\n",
      "torch.Size([64])\n",
      "torch.Size([64, 1, 18])\n",
      "torch.Size([64])\n",
      "torch.Size([64, 1, 18])\n",
      "torch.Size([64])\n",
      "torch.Size([64, 1, 18])\n",
      "torch.Size([64])\n",
      "torch.Size([64, 1, 18])\n",
      "torch.Size([64])\n",
      "torch.Size([64, 1, 18])\n",
      "torch.Size([64])\n",
      "torch.Size([64, 1, 18])\n",
      "torch.Size([64])\n",
      "torch.Size([64, 1, 18])\n",
      "torch.Size([64])\n",
      "torch.Size([64, 1, 18])\n",
      "torch.Size([64])\n",
      "torch.Size([64, 1, 18])\n",
      "torch.Size([64])\n",
      "torch.Size([64, 1, 18])\n",
      "torch.Size([64])\n",
      "torch.Size([64, 1, 18])\n",
      "torch.Size([64])\n",
      "torch.Size([64, 1, 18])\n",
      "torch.Size([64])\n",
      "torch.Size([64, 1, 18])\n",
      "torch.Size([64])\n",
      "torch.Size([64, 1, 18])\n",
      "torch.Size([64])\n"
     ]
    },
    {
     "name": "stderr",
     "output_type": "stream",
     "text": [
      "Epoch [1/5], loss_mean=2.567 :   3%|▎         | 59/1898 [00:01<00:22, 80.13it/s]"
     ]
    },
    {
     "name": "stdout",
     "output_type": "stream",
     "text": [
      "torch.Size([64, 1, 18])\n",
      "torch.Size([64])\n",
      "torch.Size([64, 1, 18])\n",
      "torch.Size([64])\n",
      "torch.Size([64, 1, 18])\n",
      "torch.Size([64])\n",
      "torch.Size([64, 1, 18])\n",
      "torch.Size([64])\n",
      "torch.Size([64, 1, 18])\n",
      "torch.Size([64])\n",
      "torch.Size([64, 1, 18])\n",
      "torch.Size([64])\n",
      "torch.Size([64, 1, 18])\n",
      "torch.Size([64])\n",
      "torch.Size([64, 1, 18])\n",
      "torch.Size([64])\n",
      "torch.Size([64, 1, 18])\n",
      "torch.Size([64])\n",
      "torch.Size([64, 1, 18])\n",
      "torch.Size([64])\n",
      "torch.Size([64, 1, 18])\n",
      "torch.Size([64])\n",
      "torch.Size([64, 1, 18])\n",
      "torch.Size([64])\n",
      "torch.Size([64, 1, 18])\n",
      "torch.Size([64])\n",
      "torch.Size([64, 1, 18])\n",
      "torch.Size([64])\n",
      "torch.Size([64, 1, 18])\n",
      "torch.Size([64])\n",
      "torch.Size([64, 1, 18])\n",
      "torch.Size([64])\n",
      "torch.Size([64, 1, 18])\n",
      "torch.Size([64])\n"
     ]
    },
    {
     "name": "stderr",
     "output_type": "stream",
     "text": [
      "Epoch [1/5], loss_mean=2.567 :   4%|▎         | 70/1898 [00:01<00:21, 84.62it/s]"
     ]
    },
    {
     "name": "stdout",
     "output_type": "stream",
     "text": [
      "torch.Size([64, 1, 18])\n",
      "torch.Size([64])\n",
      "torch.Size([64, 1, 18])\n",
      "torch.Size([64])\n",
      "torch.Size([64, 1, 18])\n",
      "torch.Size([64])\n",
      "torch.Size([64, 1, 18])\n",
      "torch.Size([64])\n",
      "torch.Size([64, 1, 18])\n",
      "torch.Size([64])\n",
      "torch.Size([64, 1, 18])\n",
      "torch.Size([64])\n",
      "torch.Size([64, 1, 18])\n",
      "torch.Size([64])\n",
      "torch.Size([64, 1, 18])\n",
      "torch.Size([64])\n",
      "torch.Size([64, 1, 18])\n",
      "torch.Size([64])\n",
      "torch.Size([64, 1, 18])\n",
      "torch.Size([64])\n",
      "torch.Size([64, 1, 18])\n",
      "torch.Size([64])\n",
      "torch.Size([64, 1, 18])\n",
      "torch.Size([64])\n",
      "torch.Size([64, 1, 18])\n",
      "torch.Size([64])\n",
      "torch.Size([64, 1, 18])\n",
      "torch.Size([64])\n",
      "torch.Size([64, 1, 18])\n",
      "torch.Size([64])\n",
      "torch.Size([64, 1, 18])\n",
      "torch.Size([64])\n",
      "torch.Size([64, 1, 18])\n",
      "torch.Size([64])\n",
      "torch.Size([64, 1, 18])\n",
      "torch.Size([64])\n",
      "torch.Size([64, 1, 18])\n",
      "torch.Size([64])\n",
      "torch.Size([64, 1, 18])\n",
      "torch.Size([64])\n"
     ]
    },
    {
     "name": "stderr",
     "output_type": "stream",
     "text": [
      "Epoch [1/5], loss_mean=2.566 :   5%|▍         | 93/1898 [00:01<00:18, 96.13it/s]"
     ]
    },
    {
     "name": "stdout",
     "output_type": "stream",
     "text": [
      "torch.Size([64, 1, 18])\n",
      "torch.Size([64])\n",
      "torch.Size([64, 1, 18])\n",
      "torch.Size([64])\n",
      "torch.Size([64, 1, 18])\n",
      "torch.Size([64])\n",
      "torch.Size([64, 1, 18])\n",
      "torch.Size([64])\n",
      "torch.Size([64, 1, 18])\n",
      "torch.Size([64])\n",
      "torch.Size([64, 1, 18])\n",
      "torch.Size([64])\n",
      "torch.Size([64, 1, 18])\n",
      "torch.Size([64])\n",
      "torch.Size([64, 1, 18])\n",
      "torch.Size([64])\n",
      "torch.Size([64, 1, 18])\n",
      "torch.Size([64])\n",
      "torch.Size([64, 1, 18])\n",
      "torch.Size([64])\n",
      "torch.Size([64, 1, 18])\n",
      "torch.Size([64])\n",
      "torch.Size([64, 1, 18])\n",
      "torch.Size([64])\n",
      "torch.Size([64, 1, 18])\n",
      "torch.Size([64])\n",
      "torch.Size([64, 1, 18])\n",
      "torch.Size([64])\n",
      "torch.Size([64, 1, 18])\n",
      "torch.Size([64])\n",
      "torch.Size([64, 1, 18])\n",
      "torch.Size([64])\n",
      "torch.Size([64, 1, 18])\n",
      "torch.Size([64])\n",
      "torch.Size([64, 1, 18])\n",
      "torch.Size([64])\n",
      "torch.Size([64, 1, 18])\n",
      "torch.Size([64])\n",
      "torch.Size([64, 1, 18])\n",
      "torch.Size([64])\n",
      "torch.Size([64, 1, 18])\n",
      "torch.Size([64])\n",
      "torch.Size([64, 1, 18])\n",
      "torch.Size([64])\n"
     ]
    },
    {
     "name": "stderr",
     "output_type": "stream",
     "text": [
      "Epoch [1/5], loss_mean=2.567 :   6%|▌         | 115/1898 [00:01<00:18, 93.89it/s]"
     ]
    },
    {
     "name": "stdout",
     "output_type": "stream",
     "text": [
      "torch.Size([64, 1, 18])\n",
      "torch.Size([64])\n",
      "torch.Size([64, 1, 18])\n",
      "torch.Size([64])\n",
      "torch.Size([64, 1, 18])\n",
      "torch.Size([64])\n",
      "torch.Size([64, 1, 18])\n",
      "torch.Size([64])\n",
      "torch.Size([64, 1, 18])\n",
      "torch.Size([64])\n",
      "torch.Size([64, 1, 18])\n",
      "torch.Size([64])\n",
      "torch.Size([64, 1, 18])\n",
      "torch.Size([64])\n",
      "torch.Size([64, 1, 18])\n",
      "torch.Size([64])\n",
      "torch.Size([64, 1, 18])\n",
      "torch.Size([64])\n",
      "torch.Size([64, 1, 18])\n",
      "torch.Size([64])\n",
      "torch.Size([64, 1, 18])\n",
      "torch.Size([64])\n",
      "torch.Size([64, 1, 18])\n",
      "torch.Size([64])\n",
      "torch.Size([64, 1, 18])\n",
      "torch.Size([64])\n",
      "torch.Size([64, 1, 18])\n",
      "torch.Size([64])\n"
     ]
    },
    {
     "name": "stderr",
     "output_type": "stream",
     "text": [
      "Epoch [1/5], loss_mean=2.563 :   7%|▋         | 125/1898 [00:01<00:22, 78.35it/s]"
     ]
    },
    {
     "name": "stdout",
     "output_type": "stream",
     "text": [
      "torch.Size([64, 1, 18])\n",
      "torch.Size([64])\n",
      "torch.Size([64, 1, 18])\n",
      "torch.Size([64])\n",
      "torch.Size([64, 1, 18])\n",
      "torch.Size([64])\n",
      "torch.Size([64, 1, 18])\n",
      "torch.Size([64])\n",
      "torch.Size([64, 1, 18])\n",
      "torch.Size([64])\n",
      "torch.Size([64, 1, 18])\n",
      "torch.Size([64])\n",
      "torch.Size([64, 1, 18])\n",
      "torch.Size([64])\n",
      "torch.Size([64, 1, 18])\n",
      "torch.Size([64])\n",
      "torch.Size([64, 1, 18])\n",
      "torch.Size([64])\n",
      "torch.Size([64, 1, 18])\n",
      "torch.Size([64])\n",
      "torch.Size([64, 1, 18])\n",
      "torch.Size([64])\n",
      "torch.Size([64, 1, 18])\n",
      "torch.Size([64])\n"
     ]
    },
    {
     "name": "stderr",
     "output_type": "stream",
     "text": [
      "Epoch [1/5], loss_mean=2.559 :   7%|▋         | 134/1898 [00:02<00:24, 72.13it/s]"
     ]
    },
    {
     "name": "stdout",
     "output_type": "stream",
     "text": [
      "torch.Size([64, 1, 18])\n",
      "torch.Size([64])\n",
      "torch.Size([64, 1, 18])\n",
      "torch.Size([64])\n",
      "torch.Size([64, 1, 18])\n",
      "torch.Size([64])\n",
      "torch.Size([64, 1, 18])\n",
      "torch.Size([64])\n",
      "torch.Size([64, 1, 18])\n",
      "torch.Size([64])\n",
      "torch.Size([64, 1, 18])\n",
      "torch.Size([64])\n",
      "torch.Size([64, 1, 18])\n",
      "torch.Size([64])\n",
      "torch.Size([64, 1, 18])\n",
      "torch.Size([64])\n",
      "torch.Size([64, 1, 18])\n",
      "torch.Size([64])\n",
      "torch.Size([64, 1, 18])\n",
      "torch.Size([64])\n",
      "torch.Size([64, 1, 18])\n",
      "torch.Size([64])\n",
      "torch.Size([64, 1, 18])\n",
      "torch.Size([64])\n"
     ]
    },
    {
     "name": "stderr",
     "output_type": "stream",
     "text": [
      "Epoch [1/5], loss_mean=2.557 :   8%|▊         | 152/1898 [00:02<00:22, 77.52it/s]"
     ]
    },
    {
     "name": "stdout",
     "output_type": "stream",
     "text": [
      "torch.Size([64, 1, 18])\n",
      "torch.Size([64])\n",
      "torch.Size([64, 1, 18])\n",
      "torch.Size([64])\n",
      "torch.Size([64, 1, 18])\n",
      "torch.Size([64])\n",
      "torch.Size([64, 1, 18])\n",
      "torch.Size([64])\n",
      "torch.Size([64, 1, 18])\n",
      "torch.Size([64])\n",
      "torch.Size([64, 1, 18])\n",
      "torch.Size([64])\n",
      "torch.Size([64, 1, 18])\n",
      "torch.Size([64])\n",
      "torch.Size([64, 1, 18])\n",
      "torch.Size([64])\n",
      "torch.Size([64, 1, 18])\n",
      "torch.Size([64])\n",
      "torch.Size([64, 1, 18])\n",
      "torch.Size([64])\n",
      "torch.Size([64, 1, 18])\n",
      "torch.Size([64])\n",
      "torch.Size([64, 1, 18])\n",
      "torch.Size([64])\n",
      "torch.Size([64, 1, 18])\n",
      "torch.Size([64])\n",
      "torch.Size([64, 1, 18])\n",
      "torch.Size([64])\n",
      "torch.Size([64, 1, 18])\n",
      "torch.Size([64])\n",
      "torch.Size([64, 1, 18])\n",
      "torch.Size([64])\n",
      "torch.Size([64, 1, 18])\n",
      "torch.Size([64])\n"
     ]
    },
    {
     "name": "stderr",
     "output_type": "stream",
     "text": [
      "Epoch [1/5], loss_mean=2.552 :   9%|▉         | 174/1898 [00:02<00:19, 90.71it/s]"
     ]
    },
    {
     "name": "stdout",
     "output_type": "stream",
     "text": [
      "torch.Size([64, 1, 18])\n",
      "torch.Size([64])\n",
      "torch.Size([64, 1, 18])\n",
      "torch.Size([64])\n",
      "torch.Size([64, 1, 18])\n",
      "torch.Size([64])\n",
      "torch.Size([64, 1, 18])\n",
      "torch.Size([64])\n",
      "torch.Size([64, 1, 18])\n",
      "torch.Size([64])\n",
      "torch.Size([64, 1, 18])\n",
      "torch.Size([64])\n",
      "torch.Size([64, 1, 18])\n",
      "torch.Size([64])\n",
      "torch.Size([64, 1, 18])\n",
      "torch.Size([64])\n",
      "torch.Size([64, 1, 18])\n",
      "torch.Size([64])\n",
      "torch.Size([64, 1, 18])\n",
      "torch.Size([64])\n",
      "torch.Size([64, 1, 18])\n",
      "torch.Size([64])\n",
      "torch.Size([64, 1, 18])\n",
      "torch.Size([64])\n",
      "torch.Size([64, 1, 18])\n",
      "torch.Size([64])\n",
      "torch.Size([64, 1, 18])\n",
      "torch.Size([64])\n",
      "torch.Size([64, 1, 18])\n",
      "torch.Size([64])\n",
      "torch.Size([64, 1, 18])\n",
      "torch.Size([64])\n",
      "torch.Size([64, 1, 18])\n",
      "torch.Size([64])\n",
      "torch.Size([64, 1, 18])\n",
      "torch.Size([64])\n",
      "torch.Size([64, 1, 18])\n",
      "torch.Size([64])\n",
      "torch.Size([64, 1, 18])\n",
      "torch.Size([64])\n",
      "torch.Size([64, 1, 18])\n",
      "torch.Size([64])\n"
     ]
    },
    {
     "name": "stderr",
     "output_type": "stream",
     "text": [
      "Epoch [1/5], loss_mean=2.551 :  10%|▉         | 187/1898 [00:02<00:17, 100.31it/s]"
     ]
    },
    {
     "name": "stdout",
     "output_type": "stream",
     "text": [
      "torch.Size([64, 1, 18])\n",
      "torch.Size([64])\n",
      "torch.Size([64, 1, 18])\n",
      "torch.Size([64])\n",
      "torch.Size([64, 1, 18])\n",
      "torch.Size([64])\n",
      "torch.Size([64, 1, 18])\n",
      "torch.Size([64])\n",
      "torch.Size([64, 1, 18])\n",
      "torch.Size([64])\n",
      "torch.Size([64, 1, 18])\n",
      "torch.Size([64])\n",
      "torch.Size([64, 1, 18])\n",
      "torch.Size([64])\n",
      "torch.Size([64, 1, 18])\n",
      "torch.Size([64])\n",
      "torch.Size([64, 1, 18])\n",
      "torch.Size([64])\n",
      "torch.Size([64, 1, 18])\n",
      "torch.Size([64])\n",
      "torch.Size([64, 1, 18])\n",
      "torch.Size([64])\n",
      "torch.Size([64, 1, 18])\n",
      "torch.Size([64])\n",
      "torch.Size([64, 1, 18])\n",
      "torch.Size([64])\n",
      "torch.Size([64, 1, 18])\n",
      "torch.Size([64])\n",
      "torch.Size([64, 1, 18])\n",
      "torch.Size([64])\n",
      "torch.Size([64, 1, 18])\n",
      "torch.Size([64])\n",
      "torch.Size([64, 1, 18])\n",
      "torch.Size([64])\n",
      "torch.Size([64, 1, 18])\n",
      "torch.Size([64])\n",
      "torch.Size([64, 1, 18])\n",
      "torch.Size([64])\n",
      "torch.Size([64, 1, 18])\n",
      "torch.Size([64])\n",
      "torch.Size([64, 1, 18])\n",
      "torch.Size([64])\n",
      "torch.Size([64, 1, 18])\n",
      "torch.Size([64])\n",
      "torch.Size([64, 1, 18])\n",
      "torch.Size([64])\n",
      "torch.Size([64, 1, 18])\n",
      "torch.Size([64])\n"
     ]
    },
    {
     "name": "stderr",
     "output_type": "stream",
     "text": [
      "Epoch [1/5], loss_mean=2.550 :  11%|█         | 202/1898 [00:02<00:15, 110.56it/s]"
     ]
    },
    {
     "name": "stdout",
     "output_type": "stream",
     "text": [
      "torch.Size([64, 1, 18])\n",
      "torch.Size([64])\n",
      "torch.Size([64, 1, 18])\n",
      "torch.Size([64])\n",
      "torch.Size([64, 1, 18])\n",
      "torch.Size([64])\n",
      "torch.Size([64, 1, 18])\n",
      "torch.Size([64])\n",
      "torch.Size([64, 1, 18])\n",
      "torch.Size([64])\n",
      "torch.Size([64, 1, 18])\n",
      "torch.Size([64])\n",
      "torch.Size([64, 1, 18])\n",
      "torch.Size([64])\n",
      "torch.Size([64, 1, 18])\n",
      "torch.Size([64])\n",
      "torch.Size([64, 1, 18])\n",
      "torch.Size([64])\n",
      "torch.Size([64, 1, 18])\n",
      "torch.Size([64])\n",
      "torch.Size([64, 1, 18])\n",
      "torch.Size([64])\n"
     ]
    },
    {
     "name": "stderr",
     "output_type": "stream",
     "text": [
      "Epoch [1/5], loss_mean=2.549 :  11%|█▏        | 214/1898 [00:03<00:21, 77.95it/s] "
     ]
    },
    {
     "name": "stdout",
     "output_type": "stream",
     "text": [
      "torch.Size([64, 1, 18])\n",
      "torch.Size([64])\n",
      "torch.Size([64, 1, 18])\n",
      "torch.Size([64])\n",
      "torch.Size([64, 1, 18])\n",
      "torch.Size([64])\n",
      "torch.Size([64, 1, 18])\n",
      "torch.Size([64])\n",
      "torch.Size([64, 1, 18])\n",
      "torch.Size([64])\n",
      "torch.Size([64, 1, 18])\n",
      "torch.Size([64])\n",
      "torch.Size([64, 1, 18])\n",
      "torch.Size([64])\n",
      "torch.Size([64, 1, 18])\n",
      "torch.Size([64])\n"
     ]
    },
    {
     "name": "stderr",
     "output_type": "stream",
     "text": [
      "Epoch [1/5], loss_mean=2.549 :  12%|█▏        | 224/1898 [00:03<00:26, 63.37it/s]"
     ]
    },
    {
     "name": "stdout",
     "output_type": "stream",
     "text": [
      "torch.Size([64, 1, 18])\n",
      "torch.Size([64])\n",
      "torch.Size([64, 1, 18])\n",
      "torch.Size([64])\n",
      "torch.Size([64, 1, 18])\n",
      "torch.Size([64])\n",
      "torch.Size([64, 1, 18])\n",
      "torch.Size([64])\n",
      "torch.Size([64, 1, 18])\n",
      "torch.Size([64])\n",
      "torch.Size([64, 1, 18])\n",
      "torch.Size([64])\n"
     ]
    },
    {
     "name": "stderr",
     "output_type": "stream",
     "text": [
      "Epoch [1/5], loss_mean=2.549 :  13%|█▎        | 239/1898 [00:03<00:28, 58.65it/s]"
     ]
    },
    {
     "name": "stdout",
     "output_type": "stream",
     "text": [
      "torch.Size([64, 1, 18])\n",
      "torch.Size([64])\n",
      "torch.Size([64, 1, 18])\n",
      "torch.Size([64])\n",
      "torch.Size([64, 1, 18])\n",
      "torch.Size([64])\n",
      "torch.Size([64, 1, 18])\n",
      "torch.Size([64])\n",
      "torch.Size([64, 1, 18])\n",
      "torch.Size([64])\n",
      "torch.Size([64, 1, 18])\n",
      "torch.Size([64])\n",
      "torch.Size([64, 1, 18])\n",
      "torch.Size([64])\n",
      "torch.Size([64, 1, 18])\n",
      "torch.Size([64])\n",
      "torch.Size([64, 1, 18])\n",
      "torch.Size([64])\n",
      "torch.Size([64, 1, 18])\n",
      "torch.Size([64])\n",
      "torch.Size([64, 1, 18])\n",
      "torch.Size([64])\n",
      "torch.Size([64, 1, 18])\n",
      "torch.Size([64])\n",
      "torch.Size([64, 1, 18])\n",
      "torch.Size([64])\n",
      "torch.Size([64, 1, 18])\n",
      "torch.Size([64])\n"
     ]
    },
    {
     "name": "stderr",
     "output_type": "stream",
     "text": [
      "Epoch [1/5], loss_mean=2.548 :  13%|█▎        | 239/1898 [00:03<00:28, 58.65it/s]"
     ]
    },
    {
     "name": "stdout",
     "output_type": "stream",
     "text": [
      "torch.Size([64, 1, 18])\n",
      "torch.Size([64])\n",
      "torch.Size([64, 1, 18])\n",
      "torch.Size([64])\n",
      "torch.Size([64, 1, 18])\n",
      "torch.Size([64])\n",
      "torch.Size([64, 1, 18])\n",
      "torch.Size([64])\n",
      "torch.Size([64, 1, 18])\n",
      "torch.Size([64])\n"
     ]
    },
    {
     "name": "stderr",
     "output_type": "stream",
     "text": [
      "Epoch [1/5], loss_mean=2.549 :  13%|█▎        | 252/1898 [00:03<00:39, 41.64it/s]"
     ]
    },
    {
     "name": "stdout",
     "output_type": "stream",
     "text": [
      "torch.Size([64, 1, 18])\n",
      "torch.Size([64])\n",
      "torch.Size([64, 1, 18])\n",
      "torch.Size([64])\n",
      "torch.Size([64, 1, 18])\n",
      "torch.Size([64])\n",
      "torch.Size([64, 1, 18])\n",
      "torch.Size([64])\n",
      "torch.Size([64, 1, 18])\n",
      "torch.Size([64])\n",
      "torch.Size([64, 1, 18])\n",
      "torch.Size([64])\n",
      "torch.Size([64, 1, 18])\n",
      "torch.Size([64])\n",
      "torch.Size([64, 1, 18])\n",
      "torch.Size([64])\n"
     ]
    },
    {
     "name": "stderr",
     "output_type": "stream",
     "text": [
      "Epoch [1/5], loss_mean=2.549 :  13%|█▎        | 252/1898 [00:03<00:39, 41.64it/s]"
     ]
    },
    {
     "name": "stdout",
     "output_type": "stream",
     "text": [
      "torch.Size([64, 1, 18])\n",
      "torch.Size([64])\n"
     ]
    },
    {
     "name": "stderr",
     "output_type": "stream",
     "text": [
      "Epoch [1/5], loss_mean=2.549 :  13%|█▎        | 252/1898 [00:04<00:39, 41.64it/s]"
     ]
    },
    {
     "name": "stdout",
     "output_type": "stream",
     "text": [
      "torch.Size([64, 1, 18])\n",
      "torch.Size([64])\n"
     ]
    },
    {
     "name": "stderr",
     "output_type": "stream",
     "text": [
      "Epoch [1/5], loss_mean=2.549 :  14%|█▎        | 257/1898 [00:04<01:17, 21.17it/s]"
     ]
    },
    {
     "name": "stdout",
     "output_type": "stream",
     "text": [
      "torch.Size([64, 1, 18])\n",
      "torch.Size([64])\n",
      "torch.Size([64, 1, 18])\n",
      "torch.Size([64])\n",
      "torch.Size([64, 1, 18])\n",
      "torch.Size([64])\n",
      "torch.Size([64, 1, 18])\n",
      "torch.Size([64])\n",
      "torch.Size([64, 1, 18])\n",
      "torch.Size([64])\n"
     ]
    },
    {
     "name": "stderr",
     "output_type": "stream",
     "text": [
      "Epoch [1/5], loss_mean=2.549 :  14%|█▍        | 265/1898 [00:04<01:05, 24.90it/s]"
     ]
    },
    {
     "name": "stdout",
     "output_type": "stream",
     "text": [
      "torch.Size([64, 1, 18])\n",
      "torch.Size([64])\n",
      "torch.Size([64, 1, 18])\n",
      "torch.Size([64])\n",
      "torch.Size([64, 1, 18])\n",
      "torch.Size([64])\n",
      "torch.Size([64, 1, 18])\n",
      "torch.Size([64])\n",
      "torch.Size([64, 1, 18])\n",
      "torch.Size([64])\n",
      "torch.Size([64, 1, 18])\n",
      "torch.Size([64])\n"
     ]
    },
    {
     "name": "stderr",
     "output_type": "stream",
     "text": [
      "Epoch [1/5], loss_mean=2.548 :  14%|█▍        | 274/1898 [00:05<00:56, 28.99it/s]"
     ]
    },
    {
     "name": "stdout",
     "output_type": "stream",
     "text": [
      "torch.Size([64, 1, 18])\n",
      "torch.Size([64])\n",
      "torch.Size([64, 1, 18])\n",
      "torch.Size([64])\n",
      "torch.Size([64, 1, 18])\n",
      "torch.Size([64])\n",
      "torch.Size([64, 1, 18])\n",
      "torch.Size([64])\n",
      "torch.Size([64, 1, 18])\n",
      "torch.Size([64])\n",
      "torch.Size([64, 1, 18])\n",
      "torch.Size([64])\n",
      "torch.Size([64, 1, 18])\n",
      "torch.Size([64])\n",
      "torch.Size([64, 1, 18])\n",
      "torch.Size([64])\n",
      "torch.Size([64, 1, 18])\n",
      "torch.Size([64])\n",
      "torch.Size([64, 1, 18])\n",
      "torch.Size([64])\n",
      "torch.Size([64, 1, 18])\n",
      "torch.Size([64])\n"
     ]
    },
    {
     "name": "stderr",
     "output_type": "stream",
     "text": [
      "Epoch [1/5], loss_mean=2.547 :  15%|█▌        | 290/1898 [00:05<00:34, 46.46it/s]"
     ]
    },
    {
     "name": "stdout",
     "output_type": "stream",
     "text": [
      "torch.Size([64, 1, 18])\n",
      "torch.Size([64])\n",
      "torch.Size([64, 1, 18])\n",
      "torch.Size([64])\n",
      "torch.Size([64, 1, 18])\n",
      "torch.Size([64])\n",
      "torch.Size([64, 1, 18])\n",
      "torch.Size([64])\n",
      "torch.Size([64, 1, 18])\n",
      "torch.Size([64])\n",
      "torch.Size([64, 1, 18])\n",
      "torch.Size([64])\n",
      "torch.Size([64, 1, 18])\n",
      "torch.Size([64])\n",
      "torch.Size([64, 1, 18])\n",
      "torch.Size([64])\n",
      "torch.Size([64, 1, 18])\n",
      "torch.Size([64])\n",
      "torch.Size([64, 1, 18])\n",
      "torch.Size([64])\n",
      "torch.Size([64, 1, 18])\n",
      "torch.Size([64])\n",
      "torch.Size([64, 1, 18])\n",
      "torch.Size([64])\n"
     ]
    },
    {
     "name": "stderr",
     "output_type": "stream",
     "text": [
      "Epoch [1/5], loss_mean=2.547 :  16%|█▌        | 296/1898 [00:05<00:32, 48.90it/s]"
     ]
    },
    {
     "name": "stdout",
     "output_type": "stream",
     "text": [
      "torch.Size([64, 1, 18])\n",
      "torch.Size([64])\n",
      "torch.Size([64, 1, 18])\n",
      "torch.Size([64])\n",
      "torch.Size([64, 1, 18])\n",
      "torch.Size([64])\n",
      "torch.Size([64, 1, 18])\n",
      "torch.Size([64])\n",
      "torch.Size([64, 1, 18])\n",
      "torch.Size([64])\n",
      "torch.Size([64, 1, 18])\n",
      "torch.Size([64])\n",
      "torch.Size([64, 1, 18])\n",
      "torch.Size([64])\n",
      "torch.Size([64, 1, 18])\n",
      "torch.Size([64])\n",
      "torch.Size([64, 1, 18])\n",
      "torch.Size([64])\n",
      "torch.Size([64, 1, 18])\n",
      "torch.Size([64])\n",
      "torch.Size([64, 1, 18])\n",
      "torch.Size([64])\n"
     ]
    },
    {
     "name": "stderr",
     "output_type": "stream",
     "text": [
      "Epoch [1/5], loss_mean=2.547 :  16%|█▌        | 308/1898 [00:05<00:30, 51.92it/s]"
     ]
    },
    {
     "name": "stdout",
     "output_type": "stream",
     "text": [
      "torch.Size([64, 1, 18])\n",
      "torch.Size([64])\n",
      "torch.Size([64, 1, 18])\n",
      "torch.Size([64])\n",
      "torch.Size([64, 1, 18])\n",
      "torch.Size([64])\n",
      "torch.Size([64, 1, 18])\n",
      "torch.Size([64])\n",
      "torch.Size([64, 1, 18])\n",
      "torch.Size([64])\n",
      "torch.Size([64, 1, 18])\n",
      "torch.Size([64])\n",
      "torch.Size([64, 1, 18])\n",
      "torch.Size([64])\n",
      "torch.Size([64, 1, 18])\n",
      "torch.Size([64])\n",
      "torch.Size([64, 1, 18])\n",
      "torch.Size([64])\n",
      "torch.Size([64, 1, 18])\n",
      "torch.Size([64])\n",
      "torch.Size([64, 1, 18])\n",
      "torch.Size([64])\n",
      "torch.Size([64, 1, 18])\n",
      "torch.Size([64])\n",
      "torch.Size([64, 1, 18])\n",
      "torch.Size([64])\n"
     ]
    },
    {
     "name": "stderr",
     "output_type": "stream",
     "text": [
      "Epoch [1/5], loss_mean=2.547 :  17%|█▋        | 326/1898 [00:05<00:23, 67.17it/s]"
     ]
    },
    {
     "name": "stdout",
     "output_type": "stream",
     "text": [
      "torch.Size([64, 1, 18])\n",
      "torch.Size([64])\n",
      "torch.Size([64, 1, 18])\n",
      "torch.Size([64])\n",
      "torch.Size([64, 1, 18])\n",
      "torch.Size([64])\n",
      "torch.Size([64, 1, 18])\n",
      "torch.Size([64])\n",
      "torch.Size([64, 1, 18])\n",
      "torch.Size([64])\n",
      "torch.Size([64, 1, 18])\n",
      "torch.Size([64])\n",
      "torch.Size([64, 1, 18])\n",
      "torch.Size([64])\n",
      "torch.Size([64, 1, 18])\n",
      "torch.Size([64])\n",
      "torch.Size([64, 1, 18])\n",
      "torch.Size([64])\n",
      "torch.Size([64, 1, 18])\n",
      "torch.Size([64])\n",
      "torch.Size([64, 1, 18])\n",
      "torch.Size([64])\n",
      "torch.Size([64, 1, 18])\n",
      "torch.Size([64])\n",
      "torch.Size([64, 1, 18])\n",
      "torch.Size([64])\n",
      "torch.Size([64, 1, 18])\n",
      "torch.Size([64])\n",
      "torch.Size([64, 1, 18])\n",
      "torch.Size([64])\n"
     ]
    },
    {
     "name": "stderr",
     "output_type": "stream",
     "text": [
      "Epoch [1/5], loss_mean=2.546 :  18%|█▊        | 336/1898 [00:06<00:21, 74.07it/s]"
     ]
    },
    {
     "name": "stdout",
     "output_type": "stream",
     "text": [
      "torch.Size([64, 1, 18])\n",
      "torch.Size([64])\n",
      "torch.Size([64, 1, 18])\n",
      "torch.Size([64])\n",
      "torch.Size([64, 1, 18])\n",
      "torch.Size([64])\n",
      "torch.Size([64, 1, 18])\n",
      "torch.Size([64])\n",
      "torch.Size([64, 1, 18])\n",
      "torch.Size([64])\n",
      "torch.Size([64, 1, 18])\n",
      "torch.Size([64])\n",
      "torch.Size([64, 1, 18])\n",
      "torch.Size([64])\n",
      "torch.Size([64, 1, 18])\n",
      "torch.Size([64])\n",
      "torch.Size([64, 1, 18])\n",
      "torch.Size([64])\n",
      "torch.Size([64, 1, 18])\n",
      "torch.Size([64])\n",
      "torch.Size([64, 1, 18])\n",
      "torch.Size([64])\n",
      "torch.Size([64, 1, 18])\n",
      "torch.Size([64])\n",
      "torch.Size([64, 1, 18])\n",
      "torch.Size([64])\n"
     ]
    },
    {
     "name": "stderr",
     "output_type": "stream",
     "text": [
      "Epoch [1/5], loss_mean=2.546 :  18%|█▊        | 344/1898 [00:06<00:22, 68.58it/s]"
     ]
    },
    {
     "name": "stdout",
     "output_type": "stream",
     "text": [
      "torch.Size([64, 1, 18])\n",
      "torch.Size([64])\n",
      "torch.Size([64, 1, 18])\n",
      "torch.Size([64])\n",
      "torch.Size([64, 1, 18])\n",
      "torch.Size([64])\n",
      "torch.Size([64, 1, 18])\n",
      "torch.Size([64])\n",
      "torch.Size([64, 1, 18])\n",
      "torch.Size([64])\n",
      "torch.Size([64, 1, 18])\n",
      "torch.Size([64])\n",
      "torch.Size([64, 1, 18])\n",
      "torch.Size([64])\n",
      "torch.Size([64, 1, 18])\n",
      "torch.Size([64])\n",
      "torch.Size([64, 1, 18])\n",
      "torch.Size([64])\n",
      "torch.Size([64, 1, 18])\n",
      "torch.Size([64])\n"
     ]
    },
    {
     "name": "stderr",
     "output_type": "stream",
     "text": [
      "Epoch [1/5], loss_mean=2.546 :  19%|█▉        | 359/1898 [00:06<00:26, 58.76it/s]"
     ]
    },
    {
     "name": "stdout",
     "output_type": "stream",
     "text": [
      "torch.Size([64, 1, 18])\n",
      "torch.Size([64])\n",
      "torch.Size([64, 1, 18])\n",
      "torch.Size([64])\n",
      "torch.Size([64, 1, 18])\n",
      "torch.Size([64])\n",
      "torch.Size([64, 1, 18])\n",
      "torch.Size([64])\n",
      "torch.Size([64, 1, 18])\n",
      "torch.Size([64])\n",
      "torch.Size([64, 1, 18])\n",
      "torch.Size([64])\n",
      "torch.Size([64, 1, 18])\n",
      "torch.Size([64])\n",
      "torch.Size([64, 1, 18])\n",
      "torch.Size([64])\n",
      "torch.Size([64, 1, 18])\n",
      "torch.Size([64])\n",
      "torch.Size([64, 1, 18])\n",
      "torch.Size([64])\n",
      "torch.Size([64, 1, 18])\n",
      "torch.Size([64])\n",
      "torch.Size([64, 1, 18])\n",
      "torch.Size([64])\n",
      "torch.Size([64, 1, 18])\n",
      "torch.Size([64])\n",
      "torch.Size([64, 1, 18])\n",
      "torch.Size([64])\n",
      "torch.Size([64, 1, 18])\n",
      "torch.Size([64])\n"
     ]
    },
    {
     "name": "stderr",
     "output_type": "stream",
     "text": [
      "Epoch [1/5], loss_mean=2.545 :  20%|█▉        | 377/1898 [00:06<00:22, 68.46it/s]"
     ]
    },
    {
     "name": "stdout",
     "output_type": "stream",
     "text": [
      "torch.Size([64, 1, 18])\n",
      "torch.Size([64])\n",
      "torch.Size([64, 1, 18])\n",
      "torch.Size([64])\n",
      "torch.Size([64, 1, 18])\n",
      "torch.Size([64])\n",
      "torch.Size([64, 1, 18])\n",
      "torch.Size([64])\n",
      "torch.Size([64, 1, 18])\n",
      "torch.Size([64])\n",
      "torch.Size([64, 1, 18])\n",
      "torch.Size([64])\n",
      "torch.Size([64, 1, 18])\n",
      "torch.Size([64])\n",
      "torch.Size([64, 1, 18])\n",
      "torch.Size([64])\n",
      "torch.Size([64, 1, 18])\n",
      "torch.Size([64])\n",
      "torch.Size([64, 1, 18])\n",
      "torch.Size([64])\n",
      "torch.Size([64, 1, 18])\n",
      "torch.Size([64])\n",
      "torch.Size([64, 1, 18])\n",
      "torch.Size([64])\n",
      "torch.Size([64, 1, 18])\n",
      "torch.Size([64])\n",
      "torch.Size([64, 1, 18])\n",
      "torch.Size([64])\n",
      "torch.Size([64, 1, 18])\n",
      "torch.Size([64])\n",
      "torch.Size([64, 1, 18])\n",
      "torch.Size([64])\n"
     ]
    },
    {
     "name": "stderr",
     "output_type": "stream",
     "text": [
      "Epoch [1/5], loss_mean=2.545 :  21%|██        | 394/1898 [00:06<00:20, 73.10it/s]"
     ]
    },
    {
     "name": "stdout",
     "output_type": "stream",
     "text": [
      "torch.Size([64, 1, 18])\n",
      "torch.Size([64])\n",
      "torch.Size([64, 1, 18])\n",
      "torch.Size([64])\n",
      "torch.Size([64, 1, 18])\n",
      "torch.Size([64])\n",
      "torch.Size([64, 1, 18])\n",
      "torch.Size([64])\n",
      "torch.Size([64, 1, 18])\n",
      "torch.Size([64])\n",
      "torch.Size([64, 1, 18])\n",
      "torch.Size([64])\n",
      "torch.Size([64, 1, 18])\n",
      "torch.Size([64])\n",
      "torch.Size([64, 1, 18])\n",
      "torch.Size([64])\n",
      "torch.Size([64, 1, 18])\n",
      "torch.Size([64])\n",
      "torch.Size([64, 1, 18])\n",
      "torch.Size([64])\n",
      "torch.Size([64, 1, 18])\n",
      "torch.Size([64])\n",
      "torch.Size([64, 1, 18])\n",
      "torch.Size([64])\n",
      "torch.Size([64, 1, 18])\n",
      "torch.Size([64])\n"
     ]
    },
    {
     "name": "stderr",
     "output_type": "stream",
     "text": [
      "Epoch [1/5], loss_mean=2.544 :  22%|██▏       | 411/1898 [00:07<00:19, 77.51it/s]"
     ]
    },
    {
     "name": "stdout",
     "output_type": "stream",
     "text": [
      "torch.Size([64, 1, 18])\n",
      "torch.Size([64])\n",
      "torch.Size([64, 1, 18])\n",
      "torch.Size([64])\n",
      "torch.Size([64, 1, 18])\n",
      "torch.Size([64])\n",
      "torch.Size([64, 1, 18])\n",
      "torch.Size([64])\n",
      "torch.Size([64, 1, 18])\n",
      "torch.Size([64])\n",
      "torch.Size([64, 1, 18])\n",
      "torch.Size([64])\n",
      "torch.Size([64, 1, 18])\n",
      "torch.Size([64])\n",
      "torch.Size([64, 1, 18])\n",
      "torch.Size([64])\n",
      "torch.Size([64, 1, 18])\n",
      "torch.Size([64])\n",
      "torch.Size([64, 1, 18])\n",
      "torch.Size([64])\n",
      "torch.Size([64, 1, 18])\n",
      "torch.Size([64])\n",
      "torch.Size([64, 1, 18])\n",
      "torch.Size([64])\n",
      "torch.Size([64, 1, 18])\n",
      "torch.Size([64])\n",
      "torch.Size([64, 1, 18])\n",
      "torch.Size([64])\n",
      "torch.Size([64, 1, 18])\n",
      "torch.Size([64])\n",
      "torch.Size([64, 1, 18])\n",
      "torch.Size([64])\n"
     ]
    },
    {
     "name": "stderr",
     "output_type": "stream",
     "text": [
      "Epoch [1/5], loss_mean=2.544 :  22%|██▏       | 419/1898 [00:07<00:22, 64.61it/s]"
     ]
    },
    {
     "name": "stdout",
     "output_type": "stream",
     "text": [
      "torch.Size([64, 1, 18])\n",
      "torch.Size([64])\n",
      "torch.Size([64, 1, 18])\n",
      "torch.Size([64])\n",
      "torch.Size([64, 1, 18])\n",
      "torch.Size([64])\n",
      "torch.Size([64, 1, 18])\n",
      "torch.Size([64])\n",
      "torch.Size([64, 1, 18])\n",
      "torch.Size([64])\n",
      "torch.Size([64, 1, 18])\n",
      "torch.Size([64])\n",
      "torch.Size([64, 1, 18])\n",
      "torch.Size([64])\n"
     ]
    },
    {
     "name": "stderr",
     "output_type": "stream",
     "text": [
      "Epoch [1/5], loss_mean=2.544 :  22%|██▏       | 419/1898 [00:07<00:22, 64.61it/s]"
     ]
    },
    {
     "name": "stdout",
     "output_type": "stream",
     "text": [
      "torch.Size([64, 1, 18])\n",
      "torch.Size([64])\n",
      "torch.Size([64, 1, 18])\n",
      "torch.Size([64])\n"
     ]
    },
    {
     "name": "stderr",
     "output_type": "stream",
     "text": [
      "Epoch [1/5], loss_mean=2.544 :  22%|██▏       | 426/1898 [00:07<00:39, 37.16it/s]"
     ]
    },
    {
     "name": "stdout",
     "output_type": "stream",
     "text": [
      "torch.Size([64, 1, 18])\n",
      "torch.Size([64])\n",
      "torch.Size([64, 1, 18])\n",
      "torch.Size([64])\n",
      "torch.Size([64, 1, 18])\n",
      "torch.Size([64])\n",
      "torch.Size([64, 1, 18])\n",
      "torch.Size([64])\n",
      "torch.Size([64, 1, 18])\n",
      "torch.Size([64])\n",
      "torch.Size([64, 1, 18])\n",
      "torch.Size([64])\n",
      "torch.Size([64, 1, 18])\n",
      "torch.Size([64])\n"
     ]
    },
    {
     "name": "stderr",
     "output_type": "stream",
     "text": [
      "Epoch [1/5], loss_mean=2.544 :  23%|██▎       | 438/1898 [00:07<00:34, 42.76it/s]"
     ]
    },
    {
     "name": "stdout",
     "output_type": "stream",
     "text": [
      "torch.Size([64, 1, 18])\n",
      "torch.Size([64])\n",
      "torch.Size([64, 1, 18])\n",
      "torch.Size([64])\n",
      "torch.Size([64, 1, 18])\n",
      "torch.Size([64])\n",
      "torch.Size([64, 1, 18])\n",
      "torch.Size([64])\n",
      "torch.Size([64, 1, 18])\n",
      "torch.Size([64])\n",
      "torch.Size([64, 1, 18])\n",
      "torch.Size([64])\n",
      "torch.Size([64, 1, 18])\n",
      "torch.Size([64])\n",
      "torch.Size([64, 1, 18])\n",
      "torch.Size([64])\n",
      "torch.Size([64, 1, 18])\n",
      "torch.Size([64])\n",
      "torch.Size([64, 1, 18])\n",
      "torch.Size([64])\n",
      "torch.Size([64, 1, 18])\n",
      "torch.Size([64])\n"
     ]
    },
    {
     "name": "stderr",
     "output_type": "stream",
     "text": [
      "Epoch [1/5], loss_mean=2.544 :  23%|██▎       | 445/1898 [00:08<00:30, 47.74it/s]"
     ]
    },
    {
     "name": "stdout",
     "output_type": "stream",
     "text": [
      "torch.Size([64, 1, 18])\n",
      "torch.Size([64])\n",
      "torch.Size([64, 1, 18])\n",
      "torch.Size([64])\n",
      "torch.Size([64, 1, 18])\n",
      "torch.Size([64])\n",
      "torch.Size([64, 1, 18])\n",
      "torch.Size([64])\n",
      "torch.Size([64, 1, 18])\n",
      "torch.Size([64])\n",
      "torch.Size([64, 1, 18])\n",
      "torch.Size([64])\n",
      "torch.Size([64, 1, 18])\n",
      "torch.Size([64])\n",
      "torch.Size([64, 1, 18])\n",
      "torch.Size([64])\n",
      "torch.Size([64, 1, 18])\n",
      "torch.Size([64])\n",
      "torch.Size([64, 1, 18])\n",
      "torch.Size([64])\n",
      "torch.Size([64, 1, 18])\n",
      "torch.Size([64])\n",
      "torch.Size([64, 1, 18])\n",
      "torch.Size([64])\n",
      "torch.Size([64, 1, 18])\n",
      "torch.Size([64])\n",
      "torch.Size([64, 1, 18])\n",
      "torch.Size([64])\n"
     ]
    },
    {
     "name": "stderr",
     "output_type": "stream",
     "text": [
      "Epoch [1/5], loss_mean=2.543 :  24%|██▍       | 463/1898 [00:08<00:22, 62.71it/s]"
     ]
    },
    {
     "name": "stdout",
     "output_type": "stream",
     "text": [
      "torch.Size([64, 1, 18])\n",
      "torch.Size([64])\n",
      "torch.Size([64, 1, 18])\n",
      "torch.Size([64])\n",
      "torch.Size([64, 1, 18])\n",
      "torch.Size([64])\n",
      "torch.Size([64, 1, 18])\n",
      "torch.Size([64])\n",
      "torch.Size([64, 1, 18])\n",
      "torch.Size([64])\n",
      "torch.Size([64, 1, 18])\n",
      "torch.Size([64])\n",
      "torch.Size([64, 1, 18])\n",
      "torch.Size([64])\n",
      "torch.Size([64, 1, 18])\n",
      "torch.Size([64])\n",
      "torch.Size([64, 1, 18])\n",
      "torch.Size([64])\n",
      "torch.Size([64, 1, 18])\n",
      "torch.Size([64])\n",
      "torch.Size([64, 1, 18])\n",
      "torch.Size([64])\n",
      "torch.Size([64, 1, 18])\n",
      "torch.Size([64])\n",
      "torch.Size([64, 1, 18])\n",
      "torch.Size([64])\n",
      "torch.Size([64, 1, 18])\n",
      "torch.Size([64])\n",
      "torch.Size([64, 1, 18])\n",
      "torch.Size([64])\n",
      "torch.Size([64, 1, 18])\n",
      "torch.Size([64])\n",
      "torch.Size([64, 1, 18])\n",
      "torch.Size([64])\n"
     ]
    },
    {
     "name": "stderr",
     "output_type": "stream",
     "text": [
      "Epoch [1/5], loss_mean=2.543 :  25%|██▌       | 481/1898 [00:08<00:20, 68.65it/s]"
     ]
    },
    {
     "name": "stdout",
     "output_type": "stream",
     "text": [
      "torch.Size([64, 1, 18])\n",
      "torch.Size([64])\n",
      "torch.Size([64, 1, 18])\n",
      "torch.Size([64])\n",
      "torch.Size([64, 1, 18])\n",
      "torch.Size([64])\n",
      "torch.Size([64, 1, 18])\n",
      "torch.Size([64])\n",
      "torch.Size([64, 1, 18])\n",
      "torch.Size([64])\n",
      "torch.Size([64, 1, 18])\n",
      "torch.Size([64])\n",
      "torch.Size([64, 1, 18])\n",
      "torch.Size([64])\n",
      "torch.Size([64, 1, 18])\n",
      "torch.Size([64])\n",
      "torch.Size([64, 1, 18])\n",
      "torch.Size([64])\n",
      "torch.Size([64, 1, 18])\n",
      "torch.Size([64])\n",
      "torch.Size([64, 1, 18])\n",
      "torch.Size([64])\n"
     ]
    },
    {
     "name": "stderr",
     "output_type": "stream",
     "text": [
      "Epoch [1/5], loss_mean=2.542 :  26%|██▌       | 489/1898 [00:08<00:21, 66.94it/s]"
     ]
    },
    {
     "name": "stdout",
     "output_type": "stream",
     "text": [
      "torch.Size([64, 1, 18])\n",
      "torch.Size([64])\n",
      "torch.Size([64, 1, 18])\n",
      "torch.Size([64])\n",
      "torch.Size([64, 1, 18])\n",
      "torch.Size([64])\n",
      "torch.Size([64, 1, 18])\n",
      "torch.Size([64])\n",
      "torch.Size([64, 1, 18])\n",
      "torch.Size([64])\n",
      "torch.Size([64, 1, 18])\n",
      "torch.Size([64])\n",
      "torch.Size([64, 1, 18])\n",
      "torch.Size([64])\n",
      "torch.Size([64, 1, 18])\n",
      "torch.Size([64])\n",
      "torch.Size([64, 1, 18])\n",
      "torch.Size([64])\n",
      "torch.Size([64, 1, 18])\n",
      "torch.Size([64])\n",
      "torch.Size([64, 1, 18])\n",
      "torch.Size([64])\n",
      "torch.Size([64, 1, 18])\n",
      "torch.Size([64])\n",
      "torch.Size([64, 1, 18])\n",
      "torch.Size([64])\n",
      "torch.Size([64, 1, 18])\n",
      "torch.Size([64])\n",
      "torch.Size([64, 1, 18])\n",
      "torch.Size([64])\n"
     ]
    },
    {
     "name": "stderr",
     "output_type": "stream",
     "text": [
      "Epoch [1/5], loss_mean=2.541 :  27%|██▋       | 507/1898 [00:08<00:20, 68.25it/s]"
     ]
    },
    {
     "name": "stdout",
     "output_type": "stream",
     "text": [
      "torch.Size([64, 1, 18])\n",
      "torch.Size([64])\n",
      "torch.Size([64, 1, 18])\n",
      "torch.Size([64])\n",
      "torch.Size([64, 1, 18])\n",
      "torch.Size([64])\n",
      "torch.Size([64, 1, 18])\n",
      "torch.Size([64])\n",
      "torch.Size([64, 1, 18])\n",
      "torch.Size([64])\n",
      "torch.Size([64, 1, 18])\n",
      "torch.Size([64])\n",
      "torch.Size([64, 1, 18])\n",
      "torch.Size([64])\n",
      "torch.Size([64, 1, 18])\n",
      "torch.Size([64])\n",
      "torch.Size([64, 1, 18])\n",
      "torch.Size([64])\n",
      "torch.Size([64, 1, 18])\n",
      "torch.Size([64])\n",
      "torch.Size([64, 1, 18])\n",
      "torch.Size([64])\n"
     ]
    },
    {
     "name": "stderr",
     "output_type": "stream",
     "text": [
      "Epoch [1/5], loss_mean=2.542 :  27%|██▋       | 515/1898 [00:08<00:20, 67.40it/s]"
     ]
    },
    {
     "name": "stdout",
     "output_type": "stream",
     "text": [
      "torch.Size([64, 1, 18])\n",
      "torch.Size([64])\n",
      "torch.Size([64, 1, 18])\n",
      "torch.Size([64])\n",
      "torch.Size([64, 1, 18])\n",
      "torch.Size([64])\n",
      "torch.Size([64, 1, 18])\n",
      "torch.Size([64])\n",
      "torch.Size([64, 1, 18])\n",
      "torch.Size([64])\n",
      "torch.Size([64, 1, 18])\n",
      "torch.Size([64])\n",
      "torch.Size([64, 1, 18])\n",
      "torch.Size([64])\n",
      "torch.Size([64, 1, 18])\n",
      "torch.Size([64])\n",
      "torch.Size([64, 1, 18])\n",
      "torch.Size([64])\n",
      "torch.Size([64, 1, 18])\n",
      "torch.Size([64])\n",
      "torch.Size([64, 1, 18])\n",
      "torch.Size([64])\n",
      "torch.Size([64, 1, 18])\n",
      "torch.Size([64])\n",
      "torch.Size([64, 1, 18])\n",
      "torch.Size([64])\n"
     ]
    },
    {
     "name": "stderr",
     "output_type": "stream",
     "text": [
      "Epoch [1/5], loss_mean=2.541 :  28%|██▊       | 530/1898 [00:09<00:19, 68.50it/s]"
     ]
    },
    {
     "name": "stdout",
     "output_type": "stream",
     "text": [
      "torch.Size([64, 1, 18])\n",
      "torch.Size([64])\n",
      "torch.Size([64, 1, 18])\n",
      "torch.Size([64])\n",
      "torch.Size([64, 1, 18])\n",
      "torch.Size([64])\n",
      "torch.Size([64, 1, 18])\n",
      "torch.Size([64])\n",
      "torch.Size([64, 1, 18])\n",
      "torch.Size([64])\n",
      "torch.Size([64, 1, 18])\n",
      "torch.Size([64])\n",
      "torch.Size([64, 1, 18])\n",
      "torch.Size([64])\n",
      "torch.Size([64, 1, 18])\n",
      "torch.Size([64])\n",
      "torch.Size([64, 1, 18])\n",
      "torch.Size([64])\n",
      "torch.Size([64, 1, 18])\n",
      "torch.Size([64])\n",
      "torch.Size([64, 1, 18])\n",
      "torch.Size([64])\n",
      "torch.Size([64, 1, 18])\n",
      "torch.Size([64])\n",
      "torch.Size([64, 1, 18])\n",
      "torch.Size([64])\n",
      "torch.Size([64, 1, 18])\n",
      "torch.Size([64])\n"
     ]
    },
    {
     "name": "stderr",
     "output_type": "stream",
     "text": [
      "Epoch [1/5], loss_mean=2.541 :  29%|██▉       | 549/1898 [00:09<00:17, 78.79it/s]"
     ]
    },
    {
     "name": "stdout",
     "output_type": "stream",
     "text": [
      "torch.Size([64, 1, 18])\n",
      "torch.Size([64])\n",
      "torch.Size([64, 1, 18])\n",
      "torch.Size([64])\n",
      "torch.Size([64, 1, 18])\n",
      "torch.Size([64])\n",
      "torch.Size([64, 1, 18])\n",
      "torch.Size([64])\n",
      "torch.Size([64, 1, 18])\n",
      "torch.Size([64])\n",
      "torch.Size([64, 1, 18])\n",
      "torch.Size([64])\n",
      "torch.Size([64, 1, 18])\n",
      "torch.Size([64])\n",
      "torch.Size([64, 1, 18])\n",
      "torch.Size([64])\n",
      "torch.Size([64, 1, 18])\n",
      "torch.Size([64])\n",
      "torch.Size([64, 1, 18])\n",
      "torch.Size([64])\n",
      "torch.Size([64, 1, 18])\n",
      "torch.Size([64])\n",
      "torch.Size([64, 1, 18])\n",
      "torch.Size([64])\n",
      "torch.Size([64, 1, 18])\n",
      "torch.Size([64])\n",
      "torch.Size([64, 1, 18])\n",
      "torch.Size([64])\n",
      "torch.Size([64, 1, 18])\n",
      "torch.Size([64])\n",
      "torch.Size([64, 1, 18])\n",
      "torch.Size([64])\n"
     ]
    },
    {
     "name": "stderr",
     "output_type": "stream",
     "text": [
      "Epoch [1/5], loss_mean=2.541 :  29%|██▉       | 558/1898 [00:09<00:16, 79.77it/s]"
     ]
    },
    {
     "name": "stdout",
     "output_type": "stream",
     "text": [
      "torch.Size([64, 1, 18])\n",
      "torch.Size([64])\n",
      "torch.Size([64, 1, 18])\n",
      "torch.Size([64])\n",
      "torch.Size([64, 1, 18])\n",
      "torch.Size([64])\n",
      "torch.Size([64, 1, 18])\n",
      "torch.Size([64])\n",
      "torch.Size([64, 1, 18])\n",
      "torch.Size([64])\n",
      "torch.Size([64, 1, 18])\n",
      "torch.Size([64])\n",
      "torch.Size([64, 1, 18])\n",
      "torch.Size([64])\n",
      "torch.Size([64, 1, 18])\n",
      "torch.Size([64])\n",
      "torch.Size([64, 1, 18])\n",
      "torch.Size([64])\n",
      "torch.Size([64, 1, 18])\n",
      "torch.Size([64])\n",
      "torch.Size([64, 1, 18])\n",
      "torch.Size([64])\n",
      "torch.Size([64, 1, 18])\n",
      "torch.Size([64])\n",
      "torch.Size([64, 1, 18])\n",
      "torch.Size([64])\n",
      "torch.Size([64, 1, 18])\n",
      "torch.Size([64])\n",
      "torch.Size([64, 1, 18])\n",
      "torch.Size([64])\n"
     ]
    },
    {
     "name": "stderr",
     "output_type": "stream",
     "text": [
      "Epoch [1/5], loss_mean=2.541 :  30%|███       | 575/1898 [00:09<00:18, 72.68it/s]"
     ]
    },
    {
     "name": "stdout",
     "output_type": "stream",
     "text": [
      "torch.Size([64, 1, 18])\n",
      "torch.Size([64])\n",
      "torch.Size([64, 1, 18])\n",
      "torch.Size([64])\n",
      "torch.Size([64, 1, 18])\n",
      "torch.Size([64])\n",
      "torch.Size([64, 1, 18])\n",
      "torch.Size([64])\n",
      "torch.Size([64, 1, 18])\n",
      "torch.Size([64])\n",
      "torch.Size([64, 1, 18])\n",
      "torch.Size([64])\n",
      "torch.Size([64, 1, 18])\n",
      "torch.Size([64])\n",
      "torch.Size([64, 1, 18])\n",
      "torch.Size([64])\n",
      "torch.Size([64, 1, 18])\n",
      "torch.Size([64])\n",
      "torch.Size([64, 1, 18])\n",
      "torch.Size([64])\n",
      "torch.Size([64, 1, 18])\n",
      "torch.Size([64])\n",
      "torch.Size([64, 1, 18])\n",
      "torch.Size([64])\n",
      "torch.Size([64, 1, 18])\n",
      "torch.Size([64])\n"
     ]
    },
    {
     "name": "stderr",
     "output_type": "stream",
     "text": [
      "Epoch [1/5], loss_mean=2.540 :  30%|███       | 575/1898 [00:09<00:18, 72.68it/s]"
     ]
    },
    {
     "name": "stdout",
     "output_type": "stream",
     "text": [
      "torch.Size([64, 1, 18])\n",
      "torch.Size([64])\n",
      "torch.Size([64, 1, 18])\n",
      "torch.Size([64])\n",
      "torch.Size([64, 1, 18])\n",
      "torch.Size([64])\n",
      "torch.Size([64, 1, 18])\n",
      "torch.Size([64])\n",
      "torch.Size([64, 1, 18])\n",
      "torch.Size([64])\n"
     ]
    },
    {
     "name": "stderr",
     "output_type": "stream",
     "text": [
      "Epoch [1/5], loss_mean=2.541 :  31%|███       | 583/1898 [00:10<00:25, 51.55it/s]"
     ]
    },
    {
     "name": "stdout",
     "output_type": "stream",
     "text": [
      "torch.Size([64, 1, 18])\n",
      "torch.Size([64])\n",
      "torch.Size([64, 1, 18])\n",
      "torch.Size([64])\n",
      "torch.Size([64, 1, 18])\n",
      "torch.Size([64])\n"
     ]
    },
    {
     "name": "stderr",
     "output_type": "stream",
     "text": [
      "Epoch [1/5], loss_mean=2.540 :  31%|███       | 590/1898 [00:10<00:34, 37.80it/s]"
     ]
    },
    {
     "name": "stdout",
     "output_type": "stream",
     "text": [
      "torch.Size([64, 1, 18])\n",
      "torch.Size([64])\n",
      "torch.Size([64, 1, 18])\n",
      "torch.Size([64])\n",
      "torch.Size([64, 1, 18])\n",
      "torch.Size([64])\n",
      "torch.Size([64, 1, 18])\n",
      "torch.Size([64])\n",
      "torch.Size([64, 1, 18])\n",
      "torch.Size([64])\n",
      "torch.Size([64, 1, 18])\n",
      "torch.Size([64])\n"
     ]
    },
    {
     "name": "stderr",
     "output_type": "stream",
     "text": [
      "Epoch [1/5], loss_mean=2.540 :  31%|███▏      | 595/1898 [00:10<00:39, 32.84it/s]"
     ]
    },
    {
     "name": "stdout",
     "output_type": "stream",
     "text": [
      "torch.Size([64, 1, 18])\n",
      "torch.Size([64])\n",
      "torch.Size([64, 1, 18])\n",
      "torch.Size([64])\n",
      "torch.Size([64, 1, 18])\n",
      "torch.Size([64])\n",
      "torch.Size([64, 1, 18])\n",
      "torch.Size([64])\n",
      "torch.Size([64, 1, 18])\n",
      "torch.Size([64])\n"
     ]
    },
    {
     "name": "stderr",
     "output_type": "stream",
     "text": [
      "Epoch [1/5], loss_mean=2.540 :  31%|███▏      | 595/1898 [00:10<00:39, 32.84it/s]"
     ]
    },
    {
     "name": "stdout",
     "output_type": "stream",
     "text": [
      "torch.Size([64, 1, 18])\n",
      "torch.Size([64])\n"
     ]
    },
    {
     "name": "stderr",
     "output_type": "stream",
     "text": [
      "Epoch [1/5], loss_mean=2.540 :  32%|███▏      | 600/1898 [00:11<01:01, 21.08it/s]"
     ]
    },
    {
     "name": "stdout",
     "output_type": "stream",
     "text": [
      "torch.Size([64, 1, 18])\n",
      "torch.Size([64])\n",
      "torch.Size([64, 1, 18])\n",
      "torch.Size([64])\n",
      "torch.Size([64, 1, 18])\n",
      "torch.Size([64])\n",
      "torch.Size([64, 1, 18])\n",
      "torch.Size([64])\n"
     ]
    },
    {
     "name": "stderr",
     "output_type": "stream",
     "text": [
      "Epoch [1/5], loss_mean=2.540 :  32%|███▏      | 608/1898 [00:11<00:53, 24.19it/s]"
     ]
    },
    {
     "name": "stdout",
     "output_type": "stream",
     "text": [
      "torch.Size([64, 1, 18])\n",
      "torch.Size([64])\n",
      "torch.Size([64, 1, 18])\n",
      "torch.Size([64])\n",
      "torch.Size([64, 1, 18])\n",
      "torch.Size([64])\n",
      "torch.Size([64, 1, 18])\n",
      "torch.Size([64])\n",
      "torch.Size([64, 1, 18])\n",
      "torch.Size([64])\n",
      "torch.Size([64, 1, 18])\n",
      "torch.Size([64])\n",
      "torch.Size([64, 1, 18])\n",
      "torch.Size([64])\n",
      "torch.Size([64, 1, 18])\n",
      "torch.Size([64])\n"
     ]
    },
    {
     "name": "stderr",
     "output_type": "stream",
     "text": [
      "Epoch [1/5], loss_mean=2.540 :  32%|███▏      | 614/1898 [00:11<00:43, 29.66it/s]"
     ]
    },
    {
     "name": "stdout",
     "output_type": "stream",
     "text": [
      "torch.Size([64, 1, 18])\n",
      "torch.Size([64])\n",
      "torch.Size([64, 1, 18])\n",
      "torch.Size([64])\n",
      "torch.Size([64, 1, 18])\n",
      "torch.Size([64])\n",
      "torch.Size([64, 1, 18])\n",
      "torch.Size([64])\n",
      "torch.Size([64, 1, 18])\n",
      "torch.Size([64])\n",
      "torch.Size([64, 1, 18])\n",
      "torch.Size([64])\n",
      "torch.Size([64, 1, 18])\n",
      "torch.Size([64])\n",
      "torch.Size([64, 1, 18])\n",
      "torch.Size([64])\n",
      "torch.Size([64, 1, 18])\n",
      "torch.Size([64])\n",
      "torch.Size([64, 1, 18])\n",
      "torch.Size([64])\n"
     ]
    },
    {
     "name": "stderr",
     "output_type": "stream",
     "text": [
      "Epoch [1/5], loss_mean=2.540 :  33%|███▎      | 625/1898 [00:11<00:34, 36.68it/s]"
     ]
    },
    {
     "name": "stdout",
     "output_type": "stream",
     "text": [
      "torch.Size([64, 1, 18])\n",
      "torch.Size([64])\n",
      "torch.Size([64, 1, 18])\n",
      "torch.Size([64])\n",
      "torch.Size([64, 1, 18])\n",
      "torch.Size([64])\n",
      "torch.Size([64, 1, 18])\n",
      "torch.Size([64])\n",
      "torch.Size([64, 1, 18])\n",
      "torch.Size([64])\n",
      "torch.Size([64, 1, 18])\n",
      "torch.Size([64])\n",
      "torch.Size([64, 1, 18])\n",
      "torch.Size([64])\n",
      "torch.Size([64, 1, 18])\n",
      "torch.Size([64])\n",
      "torch.Size([64, 1, 18])\n",
      "torch.Size([64])\n",
      "torch.Size([64, 1, 18])\n",
      "torch.Size([64])\n"
     ]
    },
    {
     "name": "stderr",
     "output_type": "stream",
     "text": [
      "Epoch [1/5], loss_mean=2.539 :  34%|███▎      | 636/1898 [00:11<00:30, 41.38it/s]"
     ]
    },
    {
     "name": "stdout",
     "output_type": "stream",
     "text": [
      "torch.Size([64, 1, 18])\n",
      "torch.Size([64])\n",
      "torch.Size([64, 1, 18])\n",
      "torch.Size([64])\n",
      "torch.Size([64, 1, 18])\n",
      "torch.Size([64])\n",
      "torch.Size([64, 1, 18])\n",
      "torch.Size([64])\n",
      "torch.Size([64, 1, 18])\n",
      "torch.Size([64])\n",
      "torch.Size([64, 1, 18])\n",
      "torch.Size([64])\n",
      "torch.Size([64, 1, 18])\n",
      "torch.Size([64])\n",
      "torch.Size([64, 1, 18])\n",
      "torch.Size([64])\n",
      "torch.Size([64, 1, 18])\n",
      "torch.Size([64])\n"
     ]
    },
    {
     "name": "stderr",
     "output_type": "stream",
     "text": [
      "Epoch [1/5], loss_mean=2.539 :  34%|███▍      | 642/1898 [00:12<00:33, 37.18it/s]"
     ]
    },
    {
     "name": "stdout",
     "output_type": "stream",
     "text": [
      "torch.Size([64, 1, 18])\n",
      "torch.Size([64])\n",
      "torch.Size([64, 1, 18])\n",
      "torch.Size([64])\n",
      "torch.Size([64, 1, 18])\n",
      "torch.Size([64])\n",
      "torch.Size([64, 1, 18])\n",
      "torch.Size([64])\n"
     ]
    },
    {
     "name": "stderr",
     "output_type": "stream",
     "text": [
      "Epoch [1/5], loss_mean=2.539 :  34%|███▍      | 642/1898 [00:12<00:33, 37.18it/s]"
     ]
    },
    {
     "name": "stdout",
     "output_type": "stream",
     "text": [
      "torch.Size([64, 1, 18])\n",
      "torch.Size([64])\n",
      "torch.Size([64, 1, 18])\n",
      "torch.Size([64])\n",
      "torch.Size([64, 1, 18])\n",
      "torch.Size([64])\n",
      "torch.Size([64, 1, 18])\n",
      "torch.Size([64])\n"
     ]
    },
    {
     "name": "stderr",
     "output_type": "stream",
     "text": [
      "Epoch [1/5], loss_mean=2.539 :  34%|███▍      | 647/1898 [00:12<00:40, 30.79it/s]"
     ]
    },
    {
     "name": "stdout",
     "output_type": "stream",
     "text": [
      "torch.Size([64, 1, 18])\n",
      "torch.Size([64])\n",
      "torch.Size([64, 1, 18])\n",
      "torch.Size([64])\n",
      "torch.Size([64, 1, 18])\n",
      "torch.Size([64])\n"
     ]
    },
    {
     "name": "stderr",
     "output_type": "stream",
     "text": [
      "Epoch [1/5], loss_mean=2.539 :  34%|███▍      | 654/1898 [00:12<00:49, 25.02it/s]"
     ]
    },
    {
     "name": "stdout",
     "output_type": "stream",
     "text": [
      "torch.Size([64, 1, 18])\n",
      "torch.Size([64])\n",
      "torch.Size([64, 1, 18])\n",
      "torch.Size([64])\n",
      "torch.Size([64, 1, 18])\n",
      "torch.Size([64])\n",
      "torch.Size([64, 1, 18])\n",
      "torch.Size([64])\n",
      "torch.Size([64, 1, 18])\n",
      "torch.Size([64])\n"
     ]
    },
    {
     "name": "stderr",
     "output_type": "stream",
     "text": [
      "Epoch [1/5], loss_mean=2.539 :  35%|███▍      | 657/1898 [00:12<00:55, 22.33it/s]"
     ]
    },
    {
     "name": "stdout",
     "output_type": "stream",
     "text": [
      "torch.Size([64, 1, 18])\n",
      "torch.Size([64])\n",
      "torch.Size([64, 1, 18])\n",
      "torch.Size([64])\n",
      "torch.Size([64, 1, 18])\n",
      "torch.Size([64])\n"
     ]
    },
    {
     "name": "stderr",
     "output_type": "stream",
     "text": [
      "Epoch [1/5], loss_mean=2.539 :  35%|███▍      | 660/1898 [00:13<01:10, 17.58it/s]"
     ]
    },
    {
     "name": "stdout",
     "output_type": "stream",
     "text": [
      "torch.Size([64, 1, 18])\n",
      "torch.Size([64])\n",
      "torch.Size([64, 1, 18])\n",
      "torch.Size([64])\n",
      "torch.Size([64, 1, 18])\n",
      "torch.Size([64])\n"
     ]
    },
    {
     "name": "stderr",
     "output_type": "stream",
     "text": [
      "Epoch [1/5], loss_mean=2.539 :  35%|███▍      | 660/1898 [00:13<01:10, 17.58it/s]"
     ]
    },
    {
     "name": "stdout",
     "output_type": "stream",
     "text": [
      "torch.Size([64, 1, 18])\n",
      "torch.Size([64])\n",
      "torch.Size([64, 1, 18])\n",
      "torch.Size([64])\n"
     ]
    },
    {
     "name": "stderr",
     "output_type": "stream",
     "text": [
      "Epoch [1/5], loss_mean=2.539 :  35%|███▍      | 663/1898 [00:13<01:35, 12.92it/s]"
     ]
    },
    {
     "name": "stdout",
     "output_type": "stream",
     "text": [
      "torch.Size([64, 1, 18])\n",
      "torch.Size([64])\n"
     ]
    },
    {
     "name": "stderr",
     "output_type": "stream",
     "text": [
      "Epoch [1/5], loss_mean=2.539 :  35%|███▌      | 665/1898 [00:13<02:00, 10.20it/s]"
     ]
    },
    {
     "name": "stdout",
     "output_type": "stream",
     "text": [
      "torch.Size([64, 1, 18])\n",
      "torch.Size([64])\n",
      "torch.Size([64, 1, 18])\n",
      "torch.Size([64])\n",
      "torch.Size([64, 1, 18])\n",
      "torch.Size([64])\n"
     ]
    },
    {
     "name": "stderr",
     "output_type": "stream",
     "text": [
      "Epoch [1/5], loss_mean=2.539 :  35%|███▌      | 669/1898 [00:14<01:45, 11.65it/s]"
     ]
    },
    {
     "name": "stdout",
     "output_type": "stream",
     "text": [
      "torch.Size([64, 1, 18])\n",
      "torch.Size([64])\n",
      "torch.Size([64, 1, 18])\n",
      "torch.Size([64])\n",
      "torch.Size([64, 1, 18])\n",
      "torch.Size([64])\n",
      "torch.Size([64, 1, 18])\n",
      "torch.Size([64])\n",
      "torch.Size([64, 1, 18])\n",
      "torch.Size([64])\n"
     ]
    },
    {
     "name": "stderr",
     "output_type": "stream",
     "text": [
      "Epoch [1/5], loss_mean=2.539 :  35%|███▌      | 673/1898 [00:14<01:15, 16.27it/s]"
     ]
    },
    {
     "name": "stdout",
     "output_type": "stream",
     "text": [
      "torch.Size([64, 1, 18])\n",
      "torch.Size([64])\n",
      "torch.Size([64, 1, 18])\n",
      "torch.Size([64])\n",
      "torch.Size([64, 1, 18])\n",
      "torch.Size([64])\n",
      "torch.Size([64, 1, 18])\n",
      "torch.Size([64])\n"
     ]
    },
    {
     "name": "stderr",
     "output_type": "stream",
     "text": [
      "Epoch [1/5], loss_mean=2.539 :  36%|███▌      | 680/1898 [00:14<01:11, 17.12it/s]"
     ]
    },
    {
     "name": "stdout",
     "output_type": "stream",
     "text": [
      "torch.Size([64, 1, 18])\n",
      "torch.Size([64])\n",
      "torch.Size([64, 1, 18])\n",
      "torch.Size([64])\n",
      "torch.Size([64, 1, 18])\n",
      "torch.Size([64])\n",
      "torch.Size([64, 1, 18])\n",
      "torch.Size([64])\n",
      "torch.Size([64, 1, 18])\n",
      "torch.Size([64])\n"
     ]
    },
    {
     "name": "stderr",
     "output_type": "stream",
     "text": [
      "Epoch [1/5], loss_mean=2.539 :  36%|███▌      | 685/1898 [00:14<00:52, 22.94it/s]"
     ]
    },
    {
     "name": "stdout",
     "output_type": "stream",
     "text": [
      "torch.Size([64, 1, 18])\n",
      "torch.Size([64])\n",
      "torch.Size([64, 1, 18])\n",
      "torch.Size([64])\n",
      "torch.Size([64, 1, 18])\n",
      "torch.Size([64])\n",
      "torch.Size([64, 1, 18])\n",
      "torch.Size([64])\n",
      "torch.Size([64, 1, 18])\n",
      "torch.Size([64])\n",
      "torch.Size([64, 1, 18])\n",
      "torch.Size([64])\n",
      "torch.Size([64, 1, 18])\n",
      "torch.Size([64])\n",
      "torch.Size([64, 1, 18])\n",
      "torch.Size([64])\n",
      "torch.Size([64, 1, 18])\n",
      "torch.Size([64])\n",
      "torch.Size([64, 1, 18])\n",
      "torch.Size([64])\n",
      "torch.Size([64, 1, 18])\n",
      "torch.Size([64])\n"
     ]
    },
    {
     "name": "stderr",
     "output_type": "stream",
     "text": [
      "Epoch [1/5], loss_mean=2.539 :  37%|███▋      | 696/1898 [00:15<00:37, 31.67it/s]"
     ]
    },
    {
     "name": "stdout",
     "output_type": "stream",
     "text": [
      "torch.Size([64, 1, 18])\n",
      "torch.Size([64])\n",
      "torch.Size([64, 1, 18])\n",
      "torch.Size([64])\n",
      "torch.Size([64, 1, 18])\n",
      "torch.Size([64])\n",
      "torch.Size([64, 1, 18])\n",
      "torch.Size([64])\n",
      "torch.Size([64, 1, 18])\n",
      "torch.Size([64])\n",
      "torch.Size([64, 1, 18])\n",
      "torch.Size([64])\n",
      "torch.Size([64, 1, 18])\n",
      "torch.Size([64])\n",
      "torch.Size([64, 1, 18])\n",
      "torch.Size([64])\n",
      "torch.Size([64, 1, 18])\n",
      "torch.Size([64])\n",
      "torch.Size([64, 1, 18])\n",
      "torch.Size([64])\n"
     ]
    },
    {
     "name": "stderr",
     "output_type": "stream",
     "text": [
      "Epoch [1/5], loss_mean=2.539 :  38%|███▊      | 717/1898 [00:15<00:19, 60.81it/s]"
     ]
    },
    {
     "name": "stdout",
     "output_type": "stream",
     "text": [
      "torch.Size([64, 1, 18])\n",
      "torch.Size([64])\n",
      "torch.Size([64, 1, 18])\n",
      "torch.Size([64])\n",
      "torch.Size([64, 1, 18])\n",
      "torch.Size([64])\n",
      "torch.Size([64, 1, 18])\n",
      "torch.Size([64])\n",
      "torch.Size([64, 1, 18])\n",
      "torch.Size([64])\n",
      "torch.Size([64, 1, 18])\n",
      "torch.Size([64])\n",
      "torch.Size([64, 1, 18])\n",
      "torch.Size([64])\n",
      "torch.Size([64, 1, 18])\n",
      "torch.Size([64])\n",
      "torch.Size([64, 1, 18])\n",
      "torch.Size([64])\n",
      "torch.Size([64, 1, 18])\n",
      "torch.Size([64])\n",
      "torch.Size([64, 1, 18])\n",
      "torch.Size([64])\n",
      "torch.Size([64, 1, 18])\n",
      "torch.Size([64])\n",
      "torch.Size([64, 1, 18])\n",
      "torch.Size([64])\n",
      "torch.Size([64, 1, 18])\n",
      "torch.Size([64])\n",
      "torch.Size([64, 1, 18])\n",
      "torch.Size([64])\n",
      "torch.Size([64, 1, 18])\n",
      "torch.Size([64])\n",
      "torch.Size([64, 1, 18])\n",
      "torch.Size([64])\n",
      "torch.Size([64, 1, 18])\n",
      "torch.Size([64])\n",
      "torch.Size([64, 1, 18])\n",
      "torch.Size([64])\n",
      "torch.Size([64, 1, 18])\n",
      "torch.Size([64])\n",
      "torch.Size([64, 1, 18])\n",
      "torch.Size([64])\n",
      "torch.Size([64, 1, 18])\n",
      "torch.Size([64])\n"
     ]
    },
    {
     "name": "stderr",
     "output_type": "stream",
     "text": [
      "Epoch [1/5], loss_mean=2.539 :  39%|███▉      | 744/1898 [00:15<00:12, 89.10it/s]"
     ]
    },
    {
     "name": "stdout",
     "output_type": "stream",
     "text": [
      "torch.Size([64, 1, 18])\n",
      "torch.Size([64])\n",
      "torch.Size([64, 1, 18])\n",
      "torch.Size([64])\n",
      "torch.Size([64, 1, 18])\n",
      "torch.Size([64])\n",
      "torch.Size([64, 1, 18])\n",
      "torch.Size([64])\n",
      "torch.Size([64, 1, 18])\n",
      "torch.Size([64])\n",
      "torch.Size([64, 1, 18])\n",
      "torch.Size([64])\n",
      "torch.Size([64, 1, 18])\n",
      "torch.Size([64])\n",
      "torch.Size([64, 1, 18])\n",
      "torch.Size([64])\n",
      "torch.Size([64, 1, 18])\n",
      "torch.Size([64])\n",
      "torch.Size([64, 1, 18])\n",
      "torch.Size([64])\n",
      "torch.Size([64, 1, 18])\n",
      "torch.Size([64])\n",
      "torch.Size([64, 1, 18])\n",
      "torch.Size([64])\n",
      "torch.Size([64, 1, 18])\n",
      "torch.Size([64])\n",
      "torch.Size([64, 1, 18])\n",
      "torch.Size([64])\n",
      "torch.Size([64, 1, 18])\n",
      "torch.Size([64])\n",
      "torch.Size([64, 1, 18])\n",
      "torch.Size([64])\n",
      "torch.Size([64, 1, 18])\n",
      "torch.Size([64])\n",
      "torch.Size([64, 1, 18])\n",
      "torch.Size([64])\n",
      "torch.Size([64, 1, 18])\n",
      "torch.Size([64])\n",
      "torch.Size([64, 1, 18])\n",
      "torch.Size([64])\n",
      "torch.Size([64, 1, 18])\n",
      "torch.Size([64])\n"
     ]
    },
    {
     "name": "stderr",
     "output_type": "stream",
     "text": [
      "Epoch [1/5], loss_mean=2.539 :  39%|███▉      | 744/1898 [00:15<00:12, 89.10it/s]"
     ]
    },
    {
     "name": "stdout",
     "output_type": "stream",
     "text": [
      "torch.Size([64, 1, 18])\n",
      "torch.Size([64])\n",
      "torch.Size([64, 1, 18])\n",
      "torch.Size([64])\n",
      "torch.Size([64, 1, 18])\n",
      "torch.Size([64])\n",
      "torch.Size([64, 1, 18])\n",
      "torch.Size([64])\n",
      "torch.Size([64, 1, 18])\n",
      "torch.Size([64])\n",
      "torch.Size([64, 1, 18])\n",
      "torch.Size([64])\n",
      "torch.Size([64, 1, 18])\n",
      "torch.Size([64])\n",
      "torch.Size([64, 1, 18])\n",
      "torch.Size([64])\n"
     ]
    },
    {
     "name": "stderr",
     "output_type": "stream",
     "text": [
      "Epoch [1/5], loss_mean=2.539 :  40%|███▉      | 754/1898 [00:15<00:17, 64.75it/s]"
     ]
    },
    {
     "name": "stdout",
     "output_type": "stream",
     "text": [
      "torch.Size([64, 1, 18])\n",
      "torch.Size([64])\n",
      "torch.Size([64, 1, 18])\n",
      "torch.Size([64])\n",
      "torch.Size([64, 1, 18])\n",
      "torch.Size([64])\n",
      "torch.Size([64, 1, 18])\n",
      "torch.Size([64])\n",
      "torch.Size([64, 1, 18])\n",
      "torch.Size([64])\n",
      "torch.Size([64, 1, 18])\n",
      "torch.Size([64])\n",
      "torch.Size([64, 1, 18])\n",
      "torch.Size([64])\n",
      "torch.Size([64, 1, 18])\n",
      "torch.Size([64])\n",
      "torch.Size([64, 1, 18])\n",
      "torch.Size([64])\n"
     ]
    },
    {
     "name": "stderr",
     "output_type": "stream",
     "text": [
      "Epoch [1/5], loss_mean=2.538 :  41%|████      | 774/1898 [00:16<00:16, 68.82it/s]"
     ]
    },
    {
     "name": "stdout",
     "output_type": "stream",
     "text": [
      "torch.Size([64, 1, 18])\n",
      "torch.Size([64])\n",
      "torch.Size([64, 1, 18])\n",
      "torch.Size([64])\n",
      "torch.Size([64, 1, 18])\n",
      "torch.Size([64])\n",
      "torch.Size([64, 1, 18])\n",
      "torch.Size([64])\n",
      "torch.Size([64, 1, 18])\n",
      "torch.Size([64])\n",
      "torch.Size([64, 1, 18])\n",
      "torch.Size([64])\n",
      "torch.Size([64, 1, 18])\n",
      "torch.Size([64])\n",
      "torch.Size([64, 1, 18])\n",
      "torch.Size([64])\n",
      "torch.Size([64, 1, 18])\n",
      "torch.Size([64])\n",
      "torch.Size([64, 1, 18])\n",
      "torch.Size([64])\n",
      "torch.Size([64, 1, 18])\n",
      "torch.Size([64])\n",
      "torch.Size([64, 1, 18])\n",
      "torch.Size([64])\n",
      "torch.Size([64, 1, 18])\n",
      "torch.Size([64])\n",
      "torch.Size([64, 1, 18])\n",
      "torch.Size([64])\n",
      "torch.Size([64, 1, 18])\n",
      "torch.Size([64])\n",
      "torch.Size([64, 1, 18])\n",
      "torch.Size([64])\n",
      "torch.Size([64, 1, 18])\n",
      "torch.Size([64])\n",
      "torch.Size([64, 1, 18])\n",
      "torch.Size([64])\n",
      "torch.Size([64, 1, 18])\n",
      "torch.Size([64])\n",
      "torch.Size([64, 1, 18])\n",
      "torch.Size([64])\n",
      "torch.Size([64, 1, 18])\n",
      "torch.Size([64])\n",
      "torch.Size([64, 1, 18])\n",
      "torch.Size([64])\n",
      "torch.Size([64, 1, 18])\n",
      "torch.Size([64])\n"
     ]
    },
    {
     "name": "stderr",
     "output_type": "stream",
     "text": [
      "Epoch [1/5], loss_mean=2.538 :  42%|████▏     | 798/1898 [00:16<00:12, 85.48it/s]"
     ]
    },
    {
     "name": "stdout",
     "output_type": "stream",
     "text": [
      "torch.Size([64, 1, 18])\n",
      "torch.Size([64])\n",
      "torch.Size([64, 1, 18])\n",
      "torch.Size([64])\n",
      "torch.Size([64, 1, 18])\n",
      "torch.Size([64])\n",
      "torch.Size([64, 1, 18])\n",
      "torch.Size([64])\n",
      "torch.Size([64, 1, 18])\n",
      "torch.Size([64])\n",
      "torch.Size([64, 1, 18])\n",
      "torch.Size([64])\n",
      "torch.Size([64, 1, 18])\n",
      "torch.Size([64])\n",
      "torch.Size([64, 1, 18])\n",
      "torch.Size([64])\n",
      "torch.Size([64, 1, 18])\n",
      "torch.Size([64])\n",
      "torch.Size([64, 1, 18])\n",
      "torch.Size([64])\n",
      "torch.Size([64, 1, 18])\n",
      "torch.Size([64])\n",
      "torch.Size([64, 1, 18])\n",
      "torch.Size([64])\n",
      "torch.Size([64, 1, 18])\n",
      "torch.Size([64])\n",
      "torch.Size([64, 1, 18])\n",
      "torch.Size([64])\n",
      "torch.Size([64, 1, 18])\n",
      "torch.Size([64])\n",
      "torch.Size([64, 1, 18])\n",
      "torch.Size([64])\n",
      "torch.Size([64, 1, 18])\n",
      "torch.Size([64])\n",
      "torch.Size([64, 1, 18])\n",
      "torch.Size([64])\n"
     ]
    },
    {
     "name": "stderr",
     "output_type": "stream",
     "text": [
      "Epoch [1/5], loss_mean=2.538 :  43%|████▎     | 822/1898 [00:16<00:11, 95.57it/s]"
     ]
    },
    {
     "name": "stdout",
     "output_type": "stream",
     "text": [
      "torch.Size([64, 1, 18])\n",
      "torch.Size([64])\n",
      "torch.Size([64, 1, 18])\n",
      "torch.Size([64])\n",
      "torch.Size([64, 1, 18])\n",
      "torch.Size([64])\n",
      "torch.Size([64, 1, 18])\n",
      "torch.Size([64])\n",
      "torch.Size([64, 1, 18])\n",
      "torch.Size([64])\n",
      "torch.Size([64, 1, 18])\n",
      "torch.Size([64])\n",
      "torch.Size([64, 1, 18])\n",
      "torch.Size([64])\n",
      "torch.Size([64, 1, 18])\n",
      "torch.Size([64])\n",
      "torch.Size([64, 1, 18])\n",
      "torch.Size([64])\n",
      "torch.Size([64, 1, 18])\n",
      "torch.Size([64])\n",
      "torch.Size([64, 1, 18])\n",
      "torch.Size([64])\n",
      "torch.Size([64, 1, 18])\n",
      "torch.Size([64])\n",
      "torch.Size([64, 1, 18])\n",
      "torch.Size([64])\n",
      "torch.Size([64, 1, 18])\n",
      "torch.Size([64])\n",
      "torch.Size([64, 1, 18])\n",
      "torch.Size([64])\n",
      "torch.Size([64, 1, 18])\n",
      "torch.Size([64])\n",
      "torch.Size([64, 1, 18])\n",
      "torch.Size([64])\n",
      "torch.Size([64, 1, 18])\n",
      "torch.Size([64])\n",
      "torch.Size([64, 1, 18])\n",
      "torch.Size([64])\n",
      "torch.Size([64, 1, 18])\n",
      "torch.Size([64])\n"
     ]
    },
    {
     "name": "stderr",
     "output_type": "stream",
     "text": [
      "Epoch [1/5], loss_mean=2.538 :  44%|████▍     | 836/1898 [00:16<00:10, 102.72it/s]"
     ]
    },
    {
     "name": "stdout",
     "output_type": "stream",
     "text": [
      "torch.Size([64, 1, 18])\n",
      "torch.Size([64])\n",
      "torch.Size([64, 1, 18])\n",
      "torch.Size([64])\n",
      "torch.Size([64, 1, 18])\n",
      "torch.Size([64])\n",
      "torch.Size([64, 1, 18])\n",
      "torch.Size([64])\n",
      "torch.Size([64, 1, 18])\n",
      "torch.Size([64])\n",
      "torch.Size([64, 1, 18])\n",
      "torch.Size([64])\n",
      "torch.Size([64, 1, 18])\n",
      "torch.Size([64])\n",
      "torch.Size([64, 1, 18])\n",
      "torch.Size([64])\n",
      "torch.Size([64, 1, 18])\n",
      "torch.Size([64])\n",
      "torch.Size([64, 1, 18])\n",
      "torch.Size([64])\n",
      "torch.Size([64, 1, 18])\n",
      "torch.Size([64])\n",
      "torch.Size([64, 1, 18])\n",
      "torch.Size([64])\n",
      "torch.Size([64, 1, 18])\n",
      "torch.Size([64])\n",
      "torch.Size([64, 1, 18])\n",
      "torch.Size([64])\n",
      "torch.Size([64, 1, 18])\n",
      "torch.Size([64])\n",
      "torch.Size([64, 1, 18])\n",
      "torch.Size([64])\n",
      "torch.Size([64, 1, 18])\n",
      "torch.Size([64])\n",
      "torch.Size([64, 1, 18])\n",
      "torch.Size([64])\n",
      "torch.Size([64, 1, 18])\n",
      "torch.Size([64])\n",
      "torch.Size([64, 1, 18])\n",
      "torch.Size([64])\n",
      "torch.Size([64, 1, 18])\n",
      "torch.Size([64])\n",
      "torch.Size([64, 1, 18])\n",
      "torch.Size([64])\n",
      "torch.Size([64, 1, 18])\n",
      "torch.Size([64])\n",
      "torch.Size([64, 1, 18])\n",
      "torch.Size([64])\n"
     ]
    },
    {
     "name": "stderr",
     "output_type": "stream",
     "text": [
      "Epoch [1/5], loss_mean=2.537 :  46%|████▌     | 868/1898 [00:16<00:08, 120.11it/s]"
     ]
    },
    {
     "name": "stdout",
     "output_type": "stream",
     "text": [
      "torch.Size([64, 1, 18])\n",
      "torch.Size([64])\n",
      "torch.Size([64, 1, 18])\n",
      "torch.Size([64])\n",
      "torch.Size([64, 1, 18])\n",
      "torch.Size([64])\n",
      "torch.Size([64, 1, 18])\n",
      "torch.Size([64])\n",
      "torch.Size([64, 1, 18])\n",
      "torch.Size([64])\n",
      "torch.Size([64, 1, 18])\n",
      "torch.Size([64])\n",
      "torch.Size([64, 1, 18])\n",
      "torch.Size([64])\n",
      "torch.Size([64, 1, 18])\n",
      "torch.Size([64])\n",
      "torch.Size([64, 1, 18])\n",
      "torch.Size([64])\n",
      "torch.Size([64, 1, 18])\n",
      "torch.Size([64])\n",
      "torch.Size([64, 1, 18])\n",
      "torch.Size([64])\n",
      "torch.Size([64, 1, 18])\n",
      "torch.Size([64])\n",
      "torch.Size([64, 1, 18])\n",
      "torch.Size([64])\n",
      "torch.Size([64, 1, 18])\n",
      "torch.Size([64])\n",
      "torch.Size([64, 1, 18])\n",
      "torch.Size([64])\n",
      "torch.Size([64, 1, 18])\n",
      "torch.Size([64])\n",
      "torch.Size([64, 1, 18])\n",
      "torch.Size([64])\n",
      "torch.Size([64, 1, 18])\n",
      "torch.Size([64])\n",
      "torch.Size([64, 1, 18])\n",
      "torch.Size([64])\n",
      "torch.Size([64, 1, 18])\n",
      "torch.Size([64])\n",
      "torch.Size([64, 1, 18])\n",
      "torch.Size([64])\n",
      "torch.Size([64, 1, 18])\n",
      "torch.Size([64])\n",
      "torch.Size([64, 1, 18])\n",
      "torch.Size([64])\n",
      "torch.Size([64, 1, 18])\n",
      "torch.Size([64])\n",
      "torch.Size([64, 1, 18])\n",
      "torch.Size([64])\n",
      "torch.Size([64, 1, 18])\n",
      "torch.Size([64])\n",
      "torch.Size([64, 1, 18])\n",
      "torch.Size([64])\n"
     ]
    },
    {
     "name": "stderr",
     "output_type": "stream",
     "text": [
      "Epoch [1/5], loss_mean=2.537 :  47%|████▋     | 897/1898 [00:17<00:08, 120.16it/s]"
     ]
    },
    {
     "name": "stdout",
     "output_type": "stream",
     "text": [
      "torch.Size([64, 1, 18])\n",
      "torch.Size([64])\n",
      "torch.Size([64, 1, 18])\n",
      "torch.Size([64])\n",
      "torch.Size([64, 1, 18])\n",
      "torch.Size([64])\n",
      "torch.Size([64, 1, 18])\n",
      "torch.Size([64])\n",
      "torch.Size([64, 1, 18])\n",
      "torch.Size([64])\n",
      "torch.Size([64, 1, 18])\n",
      "torch.Size([64])\n",
      "torch.Size([64, 1, 18])\n",
      "torch.Size([64])\n",
      "torch.Size([64, 1, 18])\n",
      "torch.Size([64])\n",
      "torch.Size([64, 1, 18])\n",
      "torch.Size([64])\n",
      "torch.Size([64, 1, 18])\n",
      "torch.Size([64])\n",
      "torch.Size([64, 1, 18])\n",
      "torch.Size([64])\n",
      "torch.Size([64, 1, 18])\n",
      "torch.Size([64])\n",
      "torch.Size([64, 1, 18])\n",
      "torch.Size([64])\n",
      "torch.Size([64, 1, 18])\n",
      "torch.Size([64])\n",
      "torch.Size([64, 1, 18])\n",
      "torch.Size([64])\n",
      "torch.Size([64, 1, 18])\n",
      "torch.Size([64])\n",
      "torch.Size([64, 1, 18])\n",
      "torch.Size([64])\n",
      "torch.Size([64, 1, 18])\n",
      "torch.Size([64])\n",
      "torch.Size([64, 1, 18])\n",
      "torch.Size([64])\n",
      "torch.Size([64, 1, 18])\n",
      "torch.Size([64])\n",
      "torch.Size([64, 1, 18])\n",
      "torch.Size([64])\n",
      "torch.Size([64, 1, 18])\n",
      "torch.Size([64])\n",
      "torch.Size([64, 1, 18])\n",
      "torch.Size([64])\n"
     ]
    },
    {
     "name": "stderr",
     "output_type": "stream",
     "text": [
      "Epoch [1/5], loss_mean=2.537 :  47%|████▋     | 897/1898 [00:17<00:08, 120.16it/s]"
     ]
    },
    {
     "name": "stdout",
     "output_type": "stream",
     "text": [
      "torch.Size([64, 1, 18])\n",
      "torch.Size([64])\n",
      "torch.Size([64, 1, 18])\n",
      "torch.Size([64])\n",
      "torch.Size([64, 1, 18])\n",
      "torch.Size([64])\n",
      "torch.Size([64, 1, 18])\n",
      "torch.Size([64])\n",
      "torch.Size([64, 1, 18])\n",
      "torch.Size([64])\n",
      "torch.Size([64, 1, 18])\n",
      "torch.Size([64])\n"
     ]
    },
    {
     "name": "stderr",
     "output_type": "stream",
     "text": [
      "Epoch [1/5], loss_mean=2.537 :  48%|████▊     | 910/1898 [00:17<00:14, 68.27it/s] "
     ]
    },
    {
     "name": "stdout",
     "output_type": "stream",
     "text": [
      "torch.Size([64, 1, 18])\n",
      "torch.Size([64])\n",
      "torch.Size([64, 1, 18])\n",
      "torch.Size([64])\n",
      "torch.Size([64, 1, 18])\n",
      "torch.Size([64])\n",
      "torch.Size([64, 1, 18])\n",
      "torch.Size([64])\n",
      "torch.Size([64, 1, 18])\n",
      "torch.Size([64])\n",
      "torch.Size([64, 1, 18])\n",
      "torch.Size([64])\n",
      "torch.Size([64, 1, 18])\n",
      "torch.Size([64])\n",
      "torch.Size([64, 1, 18])\n",
      "torch.Size([64])\n",
      "torch.Size([64, 1, 18])\n",
      "torch.Size([64])\n"
     ]
    },
    {
     "name": "stderr",
     "output_type": "stream",
     "text": [
      "Epoch [1/5], loss_mean=2.537 :  48%|████▊     | 920/1898 [00:17<00:13, 73.78it/s]"
     ]
    },
    {
     "name": "stdout",
     "output_type": "stream",
     "text": [
      "torch.Size([64, 1, 18])\n",
      "torch.Size([64])\n",
      "torch.Size([64, 1, 18])\n",
      "torch.Size([64])\n",
      "torch.Size([64, 1, 18])\n",
      "torch.Size([64])\n",
      "torch.Size([64, 1, 18])\n",
      "torch.Size([64])\n",
      "torch.Size([64, 1, 18])\n",
      "torch.Size([64])\n",
      "torch.Size([64, 1, 18])\n",
      "torch.Size([64])\n",
      "torch.Size([64, 1, 18])\n",
      "torch.Size([64])\n",
      "torch.Size([64, 1, 18])\n",
      "torch.Size([64])\n",
      "torch.Size([64, 1, 18])\n",
      "torch.Size([64])\n",
      "torch.Size([64, 1, 18])\n",
      "torch.Size([64])\n",
      "torch.Size([64, 1, 18])\n",
      "torch.Size([64])\n",
      "torch.Size([64, 1, 18])\n",
      "torch.Size([64])\n",
      "torch.Size([64, 1, 18])\n",
      "torch.Size([64])\n",
      "torch.Size([64, 1, 18])\n",
      "torch.Size([64])\n",
      "torch.Size([64, 1, 18])\n",
      "torch.Size([64])\n",
      "torch.Size([64, 1, 18])\n",
      "torch.Size([64])\n",
      "torch.Size([64, 1, 18])\n",
      "torch.Size([64])\n"
     ]
    },
    {
     "name": "stderr",
     "output_type": "stream",
     "text": [
      "Epoch [1/5], loss_mean=2.537 :  50%|████▉     | 943/1898 [00:17<00:11, 83.47it/s]"
     ]
    },
    {
     "name": "stdout",
     "output_type": "stream",
     "text": [
      "torch.Size([64, 1, 18])\n",
      "torch.Size([64])\n",
      "torch.Size([64, 1, 18])\n",
      "torch.Size([64])\n",
      "torch.Size([64, 1, 18])\n",
      "torch.Size([64])\n",
      "torch.Size([64, 1, 18])\n",
      "torch.Size([64])\n",
      "torch.Size([64, 1, 18])\n",
      "torch.Size([64])\n",
      "torch.Size([64, 1, 18])\n",
      "torch.Size([64])\n",
      "torch.Size([64, 1, 18])\n",
      "torch.Size([64])\n",
      "torch.Size([64, 1, 18])\n",
      "torch.Size([64])\n",
      "torch.Size([64, 1, 18])\n",
      "torch.Size([64])\n",
      "torch.Size([64, 1, 18])\n",
      "torch.Size([64])\n",
      "torch.Size([64, 1, 18])\n",
      "torch.Size([64])\n",
      "torch.Size([64, 1, 18])\n",
      "torch.Size([64])\n",
      "torch.Size([64, 1, 18])\n",
      "torch.Size([64])\n",
      "torch.Size([64, 1, 18])\n",
      "torch.Size([64])\n",
      "torch.Size([64, 1, 18])\n",
      "torch.Size([64])\n",
      "torch.Size([64, 1, 18])\n",
      "torch.Size([64])\n",
      "torch.Size([64, 1, 18])\n",
      "torch.Size([64])\n",
      "torch.Size([64, 1, 18])\n",
      "torch.Size([64])\n",
      "torch.Size([64, 1, 18])\n",
      "torch.Size([64])\n",
      "torch.Size([64, 1, 18])\n",
      "torch.Size([64])\n",
      "torch.Size([64, 1, 18])\n",
      "torch.Size([64])\n"
     ]
    },
    {
     "name": "stderr",
     "output_type": "stream",
     "text": [
      "Epoch [1/5], loss_mean=2.537 :  51%|█████     | 968/1898 [00:18<00:09, 99.17it/s]"
     ]
    },
    {
     "name": "stdout",
     "output_type": "stream",
     "text": [
      "torch.Size([64, 1, 18])\n",
      "torch.Size([64])\n",
      "torch.Size([64, 1, 18])\n",
      "torch.Size([64])\n",
      "torch.Size([64, 1, 18])\n",
      "torch.Size([64])\n",
      "torch.Size([64, 1, 18])\n",
      "torch.Size([64])\n",
      "torch.Size([64, 1, 18])\n",
      "torch.Size([64])\n",
      "torch.Size([64, 1, 18])\n",
      "torch.Size([64])\n",
      "torch.Size([64, 1, 18])\n",
      "torch.Size([64])\n",
      "torch.Size([64, 1, 18])\n",
      "torch.Size([64])\n",
      "torch.Size([64, 1, 18])\n",
      "torch.Size([64])\n",
      "torch.Size([64, 1, 18])\n",
      "torch.Size([64])\n",
      "torch.Size([64, 1, 18])\n",
      "torch.Size([64])\n",
      "torch.Size([64, 1, 18])\n",
      "torch.Size([64])\n",
      "torch.Size([64, 1, 18])\n",
      "torch.Size([64])\n",
      "torch.Size([64, 1, 18])\n",
      "torch.Size([64])\n",
      "torch.Size([64, 1, 18])\n",
      "torch.Size([64])\n",
      "torch.Size([64, 1, 18])\n",
      "torch.Size([64])\n",
      "torch.Size([64, 1, 18])\n",
      "torch.Size([64])\n",
      "torch.Size([64, 1, 18])\n",
      "torch.Size([64])\n",
      "torch.Size([64, 1, 18])\n",
      "torch.Size([64])\n",
      "torch.Size([64, 1, 18])\n",
      "torch.Size([64])\n",
      "torch.Size([64, 1, 18])\n",
      "torch.Size([64])\n",
      "torch.Size([64, 1, 18])\n",
      "torch.Size([64])\n",
      "torch.Size([64, 1, 18])\n",
      "torch.Size([64])\n",
      "torch.Size([64, 1, 18])\n",
      "torch.Size([64])\n"
     ]
    },
    {
     "name": "stderr",
     "output_type": "stream",
     "text": [
      "Epoch [1/5], loss_mean=2.537 :  52%|█████▏    | 991/1898 [00:18<00:08, 105.85it/s]"
     ]
    },
    {
     "name": "stdout",
     "output_type": "stream",
     "text": [
      "torch.Size([64, 1, 18])\n",
      "torch.Size([64])\n",
      "torch.Size([64, 1, 18])\n",
      "torch.Size([64])\n",
      "torch.Size([64, 1, 18])\n",
      "torch.Size([64])\n",
      "torch.Size([64, 1, 18])\n",
      "torch.Size([64])\n",
      "torch.Size([64, 1, 18])\n",
      "torch.Size([64])\n",
      "torch.Size([64, 1, 18])\n",
      "torch.Size([64])\n",
      "torch.Size([64, 1, 18])\n",
      "torch.Size([64])\n",
      "torch.Size([64, 1, 18])\n",
      "torch.Size([64])\n",
      "torch.Size([64, 1, 18])\n",
      "torch.Size([64])\n",
      "torch.Size([64, 1, 18])\n",
      "torch.Size([64])\n",
      "torch.Size([64, 1, 18])\n",
      "torch.Size([64])\n",
      "torch.Size([64, 1, 18])\n",
      "torch.Size([64])\n",
      "torch.Size([64, 1, 18])\n",
      "torch.Size([64])\n",
      "torch.Size([64, 1, 18])\n",
      "torch.Size([64])\n",
      "torch.Size([64, 1, 18])\n",
      "torch.Size([64])\n",
      "torch.Size([64, 1, 18])\n",
      "torch.Size([64])\n",
      "torch.Size([64, 1, 18])\n",
      "torch.Size([64])\n",
      "torch.Size([64, 1, 18])\n",
      "torch.Size([64])\n",
      "torch.Size([64, 1, 18])\n",
      "torch.Size([64])\n",
      "torch.Size([64, 1, 18])\n",
      "torch.Size([64])\n",
      "torch.Size([64, 1, 18])\n",
      "torch.Size([64])\n",
      "torch.Size([64, 1, 18])\n",
      "torch.Size([64])\n",
      "torch.Size([64, 1, 18])\n",
      "torch.Size([64])\n"
     ]
    },
    {
     "name": "stderr",
     "output_type": "stream",
     "text": [
      "Epoch [1/5], loss_mean=2.537 :  54%|█████▎    | 1017/1898 [00:18<00:07, 115.19it/s]"
     ]
    },
    {
     "name": "stdout",
     "output_type": "stream",
     "text": [
      "torch.Size([64, 1, 18])\n",
      "torch.Size([64])\n",
      "torch.Size([64, 1, 18])\n",
      "torch.Size([64])\n",
      "torch.Size([64, 1, 18])\n",
      "torch.Size([64])\n",
      "torch.Size([64, 1, 18])\n",
      "torch.Size([64])\n",
      "torch.Size([64, 1, 18])\n",
      "torch.Size([64])\n",
      "torch.Size([64, 1, 18])\n",
      "torch.Size([64])\n",
      "torch.Size([64, 1, 18])\n",
      "torch.Size([64])\n",
      "torch.Size([64, 1, 18])\n",
      "torch.Size([64])\n",
      "torch.Size([64, 1, 18])\n",
      "torch.Size([64])\n",
      "torch.Size([64, 1, 18])\n",
      "torch.Size([64])\n",
      "torch.Size([64, 1, 18])\n",
      "torch.Size([64])\n",
      "torch.Size([64, 1, 18])\n",
      "torch.Size([64])\n",
      "torch.Size([64, 1, 18])\n",
      "torch.Size([64])\n",
      "torch.Size([64, 1, 18])\n",
      "torch.Size([64])\n",
      "torch.Size([64, 1, 18])\n",
      "torch.Size([64])\n",
      "torch.Size([64, 1, 18])\n",
      "torch.Size([64])\n",
      "torch.Size([64, 1, 18])\n",
      "torch.Size([64])\n",
      "torch.Size([64, 1, 18])\n",
      "torch.Size([64])\n",
      "torch.Size([64, 1, 18])\n",
      "torch.Size([64])\n",
      "torch.Size([64, 1, 18])\n",
      "torch.Size([64])\n",
      "torch.Size([64, 1, 18])\n",
      "torch.Size([64])\n",
      "torch.Size([64, 1, 18])\n",
      "torch.Size([64])\n"
     ]
    },
    {
     "name": "stderr",
     "output_type": "stream",
     "text": [
      "Epoch [1/5], loss_mean=2.537 :  54%|█████▍    | 1029/1898 [00:18<00:08, 103.20it/s]"
     ]
    },
    {
     "name": "stdout",
     "output_type": "stream",
     "text": [
      "torch.Size([64, 1, 18])\n",
      "torch.Size([64])\n",
      "torch.Size([64, 1, 18])\n",
      "torch.Size([64])\n",
      "torch.Size([64, 1, 18])\n",
      "torch.Size([64])\n",
      "torch.Size([64, 1, 18])\n",
      "torch.Size([64])\n",
      "torch.Size([64, 1, 18])\n",
      "torch.Size([64])\n",
      "torch.Size([64, 1, 18])\n",
      "torch.Size([64])\n",
      "torch.Size([64, 1, 18])\n",
      "torch.Size([64])\n",
      "torch.Size([64, 1, 18])\n",
      "torch.Size([64])\n",
      "torch.Size([64, 1, 18])\n",
      "torch.Size([64])\n",
      "torch.Size([64, 1, 18])\n",
      "torch.Size([64])\n",
      "torch.Size([64, 1, 18])\n",
      "torch.Size([64])\n",
      "torch.Size([64, 1, 18])\n",
      "torch.Size([64])\n",
      "torch.Size([64, 1, 18])\n",
      "torch.Size([64])\n",
      "torch.Size([64, 1, 18])\n",
      "torch.Size([64])\n",
      "torch.Size([64, 1, 18])\n",
      "torch.Size([64])\n"
     ]
    },
    {
     "name": "stderr",
     "output_type": "stream",
     "text": [
      "Epoch [1/5], loss_mean=2.537 :  55%|█████▌    | 1053/1898 [00:18<00:07, 107.18it/s]"
     ]
    },
    {
     "name": "stdout",
     "output_type": "stream",
     "text": [
      "torch.Size([64, 1, 18])\n",
      "torch.Size([64])\n",
      "torch.Size([64, 1, 18])\n",
      "torch.Size([64])\n",
      "torch.Size([64, 1, 18])\n",
      "torch.Size([64])\n",
      "torch.Size([64, 1, 18])\n",
      "torch.Size([64])\n",
      "torch.Size([64, 1, 18])\n",
      "torch.Size([64])\n",
      "torch.Size([64, 1, 18])\n",
      "torch.Size([64])\n",
      "torch.Size([64, 1, 18])\n",
      "torch.Size([64])\n",
      "torch.Size([64, 1, 18])\n",
      "torch.Size([64])\n",
      "torch.Size([64, 1, 18])\n",
      "torch.Size([64])\n",
      "torch.Size([64, 1, 18])\n",
      "torch.Size([64])\n",
      "torch.Size([64, 1, 18])\n",
      "torch.Size([64])\n",
      "torch.Size([64, 1, 18])\n",
      "torch.Size([64])\n",
      "torch.Size([64, 1, 18])\n",
      "torch.Size([64])\n",
      "torch.Size([64, 1, 18])\n",
      "torch.Size([64])\n",
      "torch.Size([64, 1, 18])\n",
      "torch.Size([64])\n",
      "torch.Size([64, 1, 18])\n",
      "torch.Size([64])\n",
      "torch.Size([64, 1, 18])\n",
      "torch.Size([64])\n",
      "torch.Size([64, 1, 18])\n",
      "torch.Size([64])\n",
      "torch.Size([64, 1, 18])\n",
      "torch.Size([64])\n",
      "torch.Size([64, 1, 18])\n",
      "torch.Size([64])\n",
      "torch.Size([64, 1, 18])\n",
      "torch.Size([64])\n",
      "torch.Size([64, 1, 18])\n",
      "torch.Size([64])\n",
      "torch.Size([64, 1, 18])\n",
      "torch.Size([64])\n"
     ]
    },
    {
     "name": "stderr",
     "output_type": "stream",
     "text": [
      "Epoch [1/5], loss_mean=2.537 :  56%|█████▋    | 1069/1898 [00:19<00:07, 116.49it/s]"
     ]
    },
    {
     "name": "stdout",
     "output_type": "stream",
     "text": [
      "torch.Size([64, 1, 18])\n",
      "torch.Size([64])\n",
      "torch.Size([64, 1, 18])\n",
      "torch.Size([64])\n",
      "torch.Size([64, 1, 18])\n",
      "torch.Size([64])\n",
      "torch.Size([64, 1, 18])\n",
      "torch.Size([64])\n",
      "torch.Size([64, 1, 18])\n",
      "torch.Size([64])\n",
      "torch.Size([64, 1, 18])\n",
      "torch.Size([64])\n",
      "torch.Size([64, 1, 18])\n",
      "torch.Size([64])\n",
      "torch.Size([64, 1, 18])\n",
      "torch.Size([64])\n",
      "torch.Size([64, 1, 18])\n",
      "torch.Size([64])\n",
      "torch.Size([64, 1, 18])\n",
      "torch.Size([64])\n",
      "torch.Size([64, 1, 18])\n",
      "torch.Size([64])\n",
      "torch.Size([64, 1, 18])\n",
      "torch.Size([64])\n",
      "torch.Size([64, 1, 18])\n",
      "torch.Size([64])\n",
      "torch.Size([64, 1, 18])\n",
      "torch.Size([64])\n",
      "torch.Size([64, 1, 18])\n",
      "torch.Size([64])\n",
      "torch.Size([64, 1, 18])\n",
      "torch.Size([64])\n",
      "torch.Size([64, 1, 18])\n",
      "torch.Size([64])\n",
      "torch.Size([64, 1, 18])\n",
      "torch.Size([64])\n",
      "torch.Size([64, 1, 18])\n",
      "torch.Size([64])\n",
      "torch.Size([64, 1, 18])\n",
      "torch.Size([64])\n",
      "torch.Size([64, 1, 18])\n",
      "torch.Size([64])\n",
      "torch.Size([64, 1, 18])\n",
      "torch.Size([64])\n",
      "torch.Size([64, 1, 18])\n",
      "torch.Size([64])\n",
      "torch.Size([64, 1, 18])\n",
      "torch.Size([64])\n"
     ]
    },
    {
     "name": "stderr",
     "output_type": "stream",
     "text": [
      "Epoch [1/5], loss_mean=2.537 :  58%|█████▊    | 1096/1898 [00:19<00:06, 120.71it/s]"
     ]
    },
    {
     "name": "stdout",
     "output_type": "stream",
     "text": [
      "torch.Size([64, 1, 18])\n",
      "torch.Size([64])\n",
      "torch.Size([64, 1, 18])\n",
      "torch.Size([64])\n",
      "torch.Size([64, 1, 18])\n",
      "torch.Size([64])\n",
      "torch.Size([64, 1, 18])\n",
      "torch.Size([64])\n",
      "torch.Size([64, 1, 18])\n",
      "torch.Size([64])\n",
      "torch.Size([64, 1, 18])\n",
      "torch.Size([64])\n",
      "torch.Size([64, 1, 18])\n",
      "torch.Size([64])\n",
      "torch.Size([64, 1, 18])\n",
      "torch.Size([64])\n",
      "torch.Size([64, 1, 18])\n",
      "torch.Size([64])\n",
      "torch.Size([64, 1, 18])\n",
      "torch.Size([64])\n",
      "torch.Size([64, 1, 18])\n",
      "torch.Size([64])\n",
      "torch.Size([64, 1, 18])\n",
      "torch.Size([64])\n",
      "torch.Size([64, 1, 18])\n",
      "torch.Size([64])\n",
      "torch.Size([64, 1, 18])\n",
      "torch.Size([64])\n",
      "torch.Size([64, 1, 18])\n",
      "torch.Size([64])\n",
      "torch.Size([64, 1, 18])\n",
      "torch.Size([64])\n",
      "torch.Size([64, 1, 18])\n",
      "torch.Size([64])\n",
      "torch.Size([64, 1, 18])\n",
      "torch.Size([64])\n",
      "torch.Size([64, 1, 18])\n",
      "torch.Size([64])\n",
      "torch.Size([64, 1, 18])\n",
      "torch.Size([64])\n",
      "torch.Size([64, 1, 18])\n",
      "torch.Size([64])\n",
      "torch.Size([64, 1, 18])\n",
      "torch.Size([64])\n",
      "torch.Size([64, 1, 18])\n",
      "torch.Size([64])\n",
      "torch.Size([64, 1, 18])\n",
      "torch.Size([64])\n"
     ]
    },
    {
     "name": "stderr",
     "output_type": "stream",
     "text": [
      "Epoch [1/5], loss_mean=2.537 :  59%|█████▉    | 1122/1898 [00:19<00:06, 118.94it/s]"
     ]
    },
    {
     "name": "stdout",
     "output_type": "stream",
     "text": [
      "torch.Size([64, 1, 18])\n",
      "torch.Size([64])\n",
      "torch.Size([64, 1, 18])\n",
      "torch.Size([64])\n",
      "torch.Size([64, 1, 18])\n",
      "torch.Size([64])\n",
      "torch.Size([64, 1, 18])\n",
      "torch.Size([64])\n",
      "torch.Size([64, 1, 18])\n",
      "torch.Size([64])\n",
      "torch.Size([64, 1, 18])\n",
      "torch.Size([64])\n",
      "torch.Size([64, 1, 18])\n",
      "torch.Size([64])\n",
      "torch.Size([64, 1, 18])\n",
      "torch.Size([64])\n",
      "torch.Size([64, 1, 18])\n",
      "torch.Size([64])\n",
      "torch.Size([64, 1, 18])\n",
      "torch.Size([64])\n",
      "torch.Size([64, 1, 18])\n",
      "torch.Size([64])\n",
      "torch.Size([64, 1, 18])\n",
      "torch.Size([64])\n",
      "torch.Size([64, 1, 18])\n",
      "torch.Size([64])\n",
      "torch.Size([64, 1, 18])\n",
      "torch.Size([64])\n",
      "torch.Size([64, 1, 18])\n",
      "torch.Size([64])\n",
      "torch.Size([64, 1, 18])\n",
      "torch.Size([64])\n",
      "torch.Size([64, 1, 18])\n",
      "torch.Size([64])\n",
      "torch.Size([64, 1, 18])\n",
      "torch.Size([64])\n",
      "torch.Size([64, 1, 18])\n",
      "torch.Size([64])\n",
      "torch.Size([64, 1, 18])\n",
      "torch.Size([64])\n",
      "torch.Size([64, 1, 18])\n",
      "torch.Size([64])\n"
     ]
    },
    {
     "name": "stderr",
     "output_type": "stream",
     "text": [
      "Epoch [1/5], loss_mean=2.536 :  60%|█████▉    | 1135/1898 [00:19<00:06, 116.49it/s]"
     ]
    },
    {
     "name": "stdout",
     "output_type": "stream",
     "text": [
      "torch.Size([64, 1, 18])\n",
      "torch.Size([64])\n",
      "torch.Size([64, 1, 18])\n",
      "torch.Size([64])\n",
      "torch.Size([64, 1, 18])\n",
      "torch.Size([64])\n",
      "torch.Size([64, 1, 18])\n",
      "torch.Size([64])\n",
      "torch.Size([64, 1, 18])\n",
      "torch.Size([64])\n",
      "torch.Size([64, 1, 18])\n",
      "torch.Size([64])\n",
      "torch.Size([64, 1, 18])\n",
      "torch.Size([64])\n",
      "torch.Size([64, 1, 18])\n",
      "torch.Size([64])\n",
      "torch.Size([64, 1, 18])\n",
      "torch.Size([64])\n",
      "torch.Size([64, 1, 18])\n",
      "torch.Size([64])\n",
      "torch.Size([64, 1, 18])\n",
      "torch.Size([64])\n",
      "torch.Size([64, 1, 18])\n",
      "torch.Size([64])\n",
      "torch.Size([64, 1, 18])\n",
      "torch.Size([64])\n",
      "torch.Size([64, 1, 18])\n",
      "torch.Size([64])\n",
      "torch.Size([64, 1, 18])\n",
      "torch.Size([64])\n",
      "torch.Size([64, 1, 18])\n",
      "torch.Size([64])\n",
      "torch.Size([64, 1, 18])\n",
      "torch.Size([64])\n",
      "torch.Size([64, 1, 18])\n",
      "torch.Size([64])\n",
      "torch.Size([64, 1, 18])\n",
      "torch.Size([64])\n",
      "torch.Size([64, 1, 18])\n",
      "torch.Size([64])\n",
      "torch.Size([64, 1, 18])\n",
      "torch.Size([64])\n"
     ]
    },
    {
     "name": "stderr",
     "output_type": "stream",
     "text": [
      "Epoch [1/5], loss_mean=2.536 :  61%|██████    | 1161/1898 [00:19<00:06, 115.82it/s]"
     ]
    },
    {
     "name": "stdout",
     "output_type": "stream",
     "text": [
      "torch.Size([64, 1, 18])\n",
      "torch.Size([64])\n",
      "torch.Size([64, 1, 18])\n",
      "torch.Size([64])\n",
      "torch.Size([64, 1, 18])\n",
      "torch.Size([64])\n",
      "torch.Size([64, 1, 18])\n",
      "torch.Size([64])\n",
      "torch.Size([64, 1, 18])\n",
      "torch.Size([64])\n",
      "torch.Size([64, 1, 18])\n",
      "torch.Size([64])\n",
      "torch.Size([64, 1, 18])\n",
      "torch.Size([64])\n",
      "torch.Size([64, 1, 18])\n",
      "torch.Size([64])\n",
      "torch.Size([64, 1, 18])\n",
      "torch.Size([64])\n",
      "torch.Size([64, 1, 18])\n",
      "torch.Size([64])\n",
      "torch.Size([64, 1, 18])\n",
      "torch.Size([64])\n",
      "torch.Size([64, 1, 18])\n",
      "torch.Size([64])\n",
      "torch.Size([64, 1, 18])\n",
      "torch.Size([64])\n",
      "torch.Size([64, 1, 18])\n",
      "torch.Size([64])\n",
      "torch.Size([64, 1, 18])\n",
      "torch.Size([64])\n",
      "torch.Size([64, 1, 18])\n",
      "torch.Size([64])\n",
      "torch.Size([64, 1, 18])\n",
      "torch.Size([64])\n",
      "torch.Size([64, 1, 18])\n",
      "torch.Size([64])\n",
      "torch.Size([64, 1, 18])\n",
      "torch.Size([64])\n",
      "torch.Size([64, 1, 18])\n",
      "torch.Size([64])\n",
      "torch.Size([64, 1, 18])\n",
      "torch.Size([64])\n",
      "torch.Size([64, 1, 18])\n",
      "torch.Size([64])\n",
      "torch.Size([64, 1, 18])\n",
      "torch.Size([64])\n"
     ]
    },
    {
     "name": "stderr",
     "output_type": "stream",
     "text": [
      "Epoch [1/5], loss_mean=2.537 :  63%|██████▎   | 1190/1898 [00:19<00:05, 124.31it/s]"
     ]
    },
    {
     "name": "stdout",
     "output_type": "stream",
     "text": [
      "torch.Size([64, 1, 18])\n",
      "torch.Size([64])\n",
      "torch.Size([64, 1, 18])\n",
      "torch.Size([64])\n",
      "torch.Size([64, 1, 18])\n",
      "torch.Size([64])\n",
      "torch.Size([64, 1, 18])\n",
      "torch.Size([64])\n",
      "torch.Size([64, 1, 18])\n",
      "torch.Size([64])\n",
      "torch.Size([64, 1, 18])\n",
      "torch.Size([64])\n",
      "torch.Size([64, 1, 18])\n",
      "torch.Size([64])\n",
      "torch.Size([64, 1, 18])\n",
      "torch.Size([64])\n",
      "torch.Size([64, 1, 18])\n",
      "torch.Size([64])\n",
      "torch.Size([64, 1, 18])\n",
      "torch.Size([64])\n",
      "torch.Size([64, 1, 18])\n",
      "torch.Size([64])\n",
      "torch.Size([64, 1, 18])\n",
      "torch.Size([64])\n",
      "torch.Size([64, 1, 18])\n",
      "torch.Size([64])\n",
      "torch.Size([64, 1, 18])\n",
      "torch.Size([64])\n",
      "torch.Size([64, 1, 18])\n",
      "torch.Size([64])\n",
      "torch.Size([64, 1, 18])\n",
      "torch.Size([64])\n",
      "torch.Size([64, 1, 18])\n",
      "torch.Size([64])\n",
      "torch.Size([64, 1, 18])\n",
      "torch.Size([64])\n",
      "torch.Size([64, 1, 18])\n",
      "torch.Size([64])\n",
      "torch.Size([64, 1, 18])\n",
      "torch.Size([64])\n",
      "torch.Size([64, 1, 18])\n",
      "torch.Size([64])\n",
      "torch.Size([64, 1, 18])\n",
      "torch.Size([64])\n",
      "torch.Size([64, 1, 18])\n",
      "torch.Size([64])\n"
     ]
    },
    {
     "name": "stderr",
     "output_type": "stream",
     "text": [
      "Epoch [1/5], loss_mean=2.536 :  63%|██████▎   | 1205/1898 [00:20<00:05, 125.76it/s]"
     ]
    },
    {
     "name": "stdout",
     "output_type": "stream",
     "text": [
      "torch.Size([64, 1, 18])\n",
      "torch.Size([64])\n",
      "torch.Size([64, 1, 18])\n",
      "torch.Size([64])\n",
      "torch.Size([64, 1, 18])\n",
      "torch.Size([64])\n",
      "torch.Size([64, 1, 18])\n",
      "torch.Size([64])\n",
      "torch.Size([64, 1, 18])\n",
      "torch.Size([64])\n",
      "torch.Size([64, 1, 18])\n",
      "torch.Size([64])\n",
      "torch.Size([64, 1, 18])\n",
      "torch.Size([64])\n",
      "torch.Size([64, 1, 18])\n",
      "torch.Size([64])\n",
      "torch.Size([64, 1, 18])\n",
      "torch.Size([64])\n",
      "torch.Size([64, 1, 18])\n",
      "torch.Size([64])\n",
      "torch.Size([64, 1, 18])\n",
      "torch.Size([64])\n",
      "torch.Size([64, 1, 18])\n",
      "torch.Size([64])\n",
      "torch.Size([64, 1, 18])\n",
      "torch.Size([64])\n",
      "torch.Size([64, 1, 18])\n",
      "torch.Size([64])\n",
      "torch.Size([64, 1, 18])\n",
      "torch.Size([64])\n",
      "torch.Size([64, 1, 18])\n",
      "torch.Size([64])\n",
      "torch.Size([64, 1, 18])\n",
      "torch.Size([64])\n",
      "torch.Size([64, 1, 18])\n",
      "torch.Size([64])\n",
      "torch.Size([64, 1, 18])\n",
      "torch.Size([64])\n",
      "torch.Size([64, 1, 18])\n",
      "torch.Size([64])\n",
      "torch.Size([64, 1, 18])\n",
      "torch.Size([64])\n",
      "torch.Size([64, 1, 18])\n",
      "torch.Size([64])\n",
      "torch.Size([64, 1, 18])\n",
      "torch.Size([64])\n",
      "torch.Size([64, 1, 18])\n",
      "torch.Size([64])\n",
      "torch.Size([64, 1, 18])\n",
      "torch.Size([64])\n",
      "torch.Size([64, 1, 18])\n",
      "torch.Size([64])\n"
     ]
    },
    {
     "name": "stderr",
     "output_type": "stream",
     "text": [
      "Epoch [1/5], loss_mean=2.536 :  65%|██████▍   | 1233/1898 [00:20<00:05, 126.87it/s]"
     ]
    },
    {
     "name": "stdout",
     "output_type": "stream",
     "text": [
      "torch.Size([64, 1, 18])\n",
      "torch.Size([64])\n",
      "torch.Size([64, 1, 18])\n",
      "torch.Size([64])\n",
      "torch.Size([64, 1, 18])\n",
      "torch.Size([64])\n",
      "torch.Size([64, 1, 18])\n",
      "torch.Size([64])\n",
      "torch.Size([64, 1, 18])\n",
      "torch.Size([64])\n",
      "torch.Size([64, 1, 18])\n",
      "torch.Size([64])\n",
      "torch.Size([64, 1, 18])\n",
      "torch.Size([64])\n",
      "torch.Size([64, 1, 18])\n",
      "torch.Size([64])\n",
      "torch.Size([64, 1, 18])\n",
      "torch.Size([64])\n",
      "torch.Size([64, 1, 18])\n",
      "torch.Size([64])\n",
      "torch.Size([64, 1, 18])\n",
      "torch.Size([64])\n",
      "torch.Size([64, 1, 18])\n",
      "torch.Size([64])\n",
      "torch.Size([64, 1, 18])\n",
      "torch.Size([64])\n",
      "torch.Size([64, 1, 18])\n",
      "torch.Size([64])\n",
      "torch.Size([64, 1, 18])\n",
      "torch.Size([64])\n",
      "torch.Size([64, 1, 18])\n",
      "torch.Size([64])\n",
      "torch.Size([64, 1, 18])\n",
      "torch.Size([64])\n",
      "torch.Size([64, 1, 18])\n",
      "torch.Size([64])\n",
      "torch.Size([64, 1, 18])\n",
      "torch.Size([64])\n",
      "torch.Size([64, 1, 18])\n",
      "torch.Size([64])\n",
      "torch.Size([64, 1, 18])\n",
      "torch.Size([64])\n",
      "torch.Size([64, 1, 18])\n",
      "torch.Size([64])\n",
      "torch.Size([64, 1, 18])\n",
      "torch.Size([64])\n",
      "torch.Size([64, 1, 18])\n",
      "torch.Size([64])\n",
      "torch.Size([64, 1, 18])\n",
      "torch.Size([64])\n"
     ]
    },
    {
     "name": "stderr",
     "output_type": "stream",
     "text": [
      "Epoch [1/5], loss_mean=2.536 :  66%|██████▋   | 1261/1898 [00:20<00:04, 132.89it/s]"
     ]
    },
    {
     "name": "stdout",
     "output_type": "stream",
     "text": [
      "torch.Size([64, 1, 18])\n",
      "torch.Size([64])\n",
      "torch.Size([64, 1, 18])\n",
      "torch.Size([64])\n",
      "torch.Size([64, 1, 18])\n",
      "torch.Size([64])\n",
      "torch.Size([64, 1, 18])\n",
      "torch.Size([64])\n",
      "torch.Size([64, 1, 18])\n",
      "torch.Size([64])\n",
      "torch.Size([64, 1, 18])\n",
      "torch.Size([64])\n",
      "torch.Size([64, 1, 18])\n",
      "torch.Size([64])\n",
      "torch.Size([64, 1, 18])\n",
      "torch.Size([64])\n",
      "torch.Size([64, 1, 18])\n",
      "torch.Size([64])\n",
      "torch.Size([64, 1, 18])\n",
      "torch.Size([64])\n",
      "torch.Size([64, 1, 18])\n",
      "torch.Size([64])\n",
      "torch.Size([64, 1, 18])\n",
      "torch.Size([64])\n",
      "torch.Size([64, 1, 18])\n",
      "torch.Size([64])\n",
      "torch.Size([64, 1, 18])\n",
      "torch.Size([64])\n",
      "torch.Size([64, 1, 18])\n",
      "torch.Size([64])\n",
      "torch.Size([64, 1, 18])\n",
      "torch.Size([64])\n",
      "torch.Size([64, 1, 18])\n",
      "torch.Size([64])\n",
      "torch.Size([64, 1, 18])\n",
      "torch.Size([64])\n",
      "torch.Size([64, 1, 18])\n",
      "torch.Size([64])\n",
      "torch.Size([64, 1, 18])\n",
      "torch.Size([64])\n",
      "torch.Size([64, 1, 18])\n",
      "torch.Size([64])\n",
      "torch.Size([64, 1, 18])\n",
      "torch.Size([64])\n",
      "torch.Size([64, 1, 18])\n",
      "torch.Size([64])\n",
      "torch.Size([64, 1, 18])\n",
      "torch.Size([64])\n",
      "torch.Size([64, 1, 18])\n",
      "torch.Size([64])\n"
     ]
    },
    {
     "name": "stderr",
     "output_type": "stream",
     "text": [
      "Epoch [1/5], loss_mean=2.536 :  68%|██████▊   | 1288/1898 [00:20<00:04, 128.32it/s]"
     ]
    },
    {
     "name": "stdout",
     "output_type": "stream",
     "text": [
      "torch.Size([64, 1, 18])\n",
      "torch.Size([64])\n",
      "torch.Size([64, 1, 18])\n",
      "torch.Size([64])\n",
      "torch.Size([64, 1, 18])\n",
      "torch.Size([64])\n",
      "torch.Size([64, 1, 18])\n",
      "torch.Size([64])\n",
      "torch.Size([64, 1, 18])\n",
      "torch.Size([64])\n",
      "torch.Size([64, 1, 18])\n",
      "torch.Size([64])\n",
      "torch.Size([64, 1, 18])\n",
      "torch.Size([64])\n",
      "torch.Size([64, 1, 18])\n",
      "torch.Size([64])\n",
      "torch.Size([64, 1, 18])\n",
      "torch.Size([64])\n",
      "torch.Size([64, 1, 18])\n",
      "torch.Size([64])\n",
      "torch.Size([64, 1, 18])\n",
      "torch.Size([64])\n",
      "torch.Size([64, 1, 18])\n",
      "torch.Size([64])\n",
      "torch.Size([64, 1, 18])\n",
      "torch.Size([64])\n",
      "torch.Size([64, 1, 18])\n",
      "torch.Size([64])\n",
      "torch.Size([64, 1, 18])\n",
      "torch.Size([64])\n",
      "torch.Size([64, 1, 18])\n",
      "torch.Size([64])\n",
      "torch.Size([64, 1, 18])\n",
      "torch.Size([64])\n",
      "torch.Size([64, 1, 18])\n",
      "torch.Size([64])\n",
      "torch.Size([64, 1, 18])\n",
      "torch.Size([64])\n",
      "torch.Size([64, 1, 18])\n",
      "torch.Size([64])\n",
      "torch.Size([64, 1, 18])\n",
      "torch.Size([64])\n",
      "torch.Size([64, 1, 18])\n",
      "torch.Size([64])\n"
     ]
    },
    {
     "name": "stderr",
     "output_type": "stream",
     "text": [
      "Epoch [1/5], loss_mean=2.536 :  69%|██████▊   | 1301/1898 [00:20<00:05, 118.49it/s]"
     ]
    },
    {
     "name": "stdout",
     "output_type": "stream",
     "text": [
      "torch.Size([64, 1, 18])\n",
      "torch.Size([64])\n",
      "torch.Size([64, 1, 18])\n",
      "torch.Size([64])\n",
      "torch.Size([64, 1, 18])\n",
      "torch.Size([64])\n",
      "torch.Size([64, 1, 18])\n",
      "torch.Size([64])\n",
      "torch.Size([64, 1, 18])\n",
      "torch.Size([64])\n",
      "torch.Size([64, 1, 18])\n",
      "torch.Size([64])\n",
      "torch.Size([64, 1, 18])\n",
      "torch.Size([64])\n",
      "torch.Size([64, 1, 18])\n",
      "torch.Size([64])\n",
      "torch.Size([64, 1, 18])\n",
      "torch.Size([64])\n",
      "torch.Size([64, 1, 18])\n",
      "torch.Size([64])\n",
      "torch.Size([64, 1, 18])\n",
      "torch.Size([64])\n",
      "torch.Size([64, 1, 18])\n",
      "torch.Size([64])\n",
      "torch.Size([64, 1, 18])\n",
      "torch.Size([64])\n",
      "torch.Size([64, 1, 18])\n",
      "torch.Size([64])\n",
      "torch.Size([64, 1, 18])\n",
      "torch.Size([64])\n",
      "torch.Size([64, 1, 18])\n",
      "torch.Size([64])\n",
      "torch.Size([64, 1, 18])\n",
      "torch.Size([64])\n",
      "torch.Size([64, 1, 18])\n",
      "torch.Size([64])\n"
     ]
    },
    {
     "name": "stderr",
     "output_type": "stream",
     "text": [
      "Epoch [1/5], loss_mean=2.536 :  69%|██████▊   | 1301/1898 [00:21<00:05, 118.49it/s]"
     ]
    },
    {
     "name": "stdout",
     "output_type": "stream",
     "text": [
      "torch.Size([64, 1, 18])\n",
      "torch.Size([64])\n",
      "torch.Size([64, 1, 18])\n",
      "torch.Size([64])\n"
     ]
    },
    {
     "name": "stderr",
     "output_type": "stream",
     "text": [
      "Epoch [1/5], loss_mean=2.536 :  70%|██████▉   | 1324/1898 [00:21<00:07, 71.75it/s] "
     ]
    },
    {
     "name": "stdout",
     "output_type": "stream",
     "text": [
      "torch.Size([64, 1, 18])\n",
      "torch.Size([64])\n",
      "torch.Size([64, 1, 18])\n",
      "torch.Size([64])\n",
      "torch.Size([64, 1, 18])\n",
      "torch.Size([64])\n",
      "torch.Size([64, 1, 18])\n",
      "torch.Size([64])\n",
      "torch.Size([64, 1, 18])\n",
      "torch.Size([64])\n",
      "torch.Size([64, 1, 18])\n",
      "torch.Size([64])\n",
      "torch.Size([64, 1, 18])\n",
      "torch.Size([64])\n",
      "torch.Size([64, 1, 18])\n",
      "torch.Size([64])\n",
      "torch.Size([64, 1, 18])\n",
      "torch.Size([64])\n",
      "torch.Size([64, 1, 18])\n",
      "torch.Size([64])\n",
      "torch.Size([64, 1, 18])\n",
      "torch.Size([64])\n",
      "torch.Size([64, 1, 18])\n",
      "torch.Size([64])\n",
      "torch.Size([64, 1, 18])\n",
      "torch.Size([64])\n"
     ]
    },
    {
     "name": "stderr",
     "output_type": "stream",
     "text": [
      "Epoch [1/5], loss_mean=2.536 :  70%|███████   | 1338/1898 [00:21<00:06, 83.49it/s]"
     ]
    },
    {
     "name": "stdout",
     "output_type": "stream",
     "text": [
      "torch.Size([64, 1, 18])\n",
      "torch.Size([64])\n",
      "torch.Size([64, 1, 18])\n",
      "torch.Size([64])\n",
      "torch.Size([64, 1, 18])\n",
      "torch.Size([64])\n",
      "torch.Size([64, 1, 18])\n",
      "torch.Size([64])\n",
      "torch.Size([64, 1, 18])\n",
      "torch.Size([64])\n",
      "torch.Size([64, 1, 18])\n",
      "torch.Size([64])\n",
      "torch.Size([64, 1, 18])\n",
      "torch.Size([64])\n",
      "torch.Size([64, 1, 18])\n",
      "torch.Size([64])\n",
      "torch.Size([64, 1, 18])\n",
      "torch.Size([64])\n",
      "torch.Size([64, 1, 18])\n",
      "torch.Size([64])\n",
      "torch.Size([64, 1, 18])\n",
      "torch.Size([64])\n",
      "torch.Size([64, 1, 18])\n",
      "torch.Size([64])\n",
      "torch.Size([64, 1, 18])\n",
      "torch.Size([64])\n",
      "torch.Size([64, 1, 18])\n",
      "torch.Size([64])\n",
      "torch.Size([64, 1, 18])\n",
      "torch.Size([64])\n",
      "torch.Size([64, 1, 18])\n",
      "torch.Size([64])\n",
      "torch.Size([64, 1, 18])\n",
      "torch.Size([64])\n",
      "torch.Size([64, 1, 18])\n",
      "torch.Size([64])\n",
      "torch.Size([64, 1, 18])\n",
      "torch.Size([64])\n",
      "torch.Size([64, 1, 18])\n",
      "torch.Size([64])\n",
      "torch.Size([64, 1, 18])\n",
      "torch.Size([64])\n",
      "torch.Size([64, 1, 18])\n",
      "torch.Size([64])\n",
      "torch.Size([64, 1, 18])\n",
      "torch.Size([64])\n",
      "torch.Size([64, 1, 18])\n",
      "torch.Size([64])\n",
      "torch.Size([64, 1, 18])\n",
      "torch.Size([64])\n",
      "torch.Size([64, 1, 18])\n",
      "torch.Size([64])\n"
     ]
    },
    {
     "name": "stderr",
     "output_type": "stream",
     "text": [
      "Epoch [1/5], loss_mean=2.535 :  72%|███████▏  | 1370/1898 [00:21<00:04, 107.15it/s]"
     ]
    },
    {
     "name": "stdout",
     "output_type": "stream",
     "text": [
      "torch.Size([64, 1, 18])\n",
      "torch.Size([64])\n",
      "torch.Size([64, 1, 18])\n",
      "torch.Size([64])\n",
      "torch.Size([64, 1, 18])\n",
      "torch.Size([64])\n",
      "torch.Size([64, 1, 18])\n",
      "torch.Size([64])\n",
      "torch.Size([64, 1, 18])\n",
      "torch.Size([64])\n",
      "torch.Size([64, 1, 18])\n",
      "torch.Size([64])\n",
      "torch.Size([64, 1, 18])\n",
      "torch.Size([64])\n",
      "torch.Size([64, 1, 18])\n",
      "torch.Size([64])\n",
      "torch.Size([64, 1, 18])\n",
      "torch.Size([64])\n",
      "torch.Size([64, 1, 18])\n",
      "torch.Size([64])\n",
      "torch.Size([64, 1, 18])\n",
      "torch.Size([64])\n",
      "torch.Size([64, 1, 18])\n",
      "torch.Size([64])\n",
      "torch.Size([64, 1, 18])\n",
      "torch.Size([64])\n",
      "torch.Size([64, 1, 18])\n",
      "torch.Size([64])\n",
      "torch.Size([64, 1, 18])\n",
      "torch.Size([64])\n",
      "torch.Size([64, 1, 18])\n",
      "torch.Size([64])\n",
      "torch.Size([64, 1, 18])\n",
      "torch.Size([64])\n",
      "torch.Size([64, 1, 18])\n",
      "torch.Size([64])\n",
      "torch.Size([64, 1, 18])\n",
      "torch.Size([64])\n",
      "torch.Size([64, 1, 18])\n",
      "torch.Size([64])\n",
      "torch.Size([64, 1, 18])\n",
      "torch.Size([64])\n",
      "torch.Size([64, 1, 18])\n",
      "torch.Size([64])\n",
      "torch.Size([64, 1, 18])\n",
      "torch.Size([64])\n",
      "torch.Size([64, 1, 18])\n",
      "torch.Size([64])\n",
      "torch.Size([64, 1, 18])\n",
      "torch.Size([64])\n"
     ]
    },
    {
     "name": "stderr",
     "output_type": "stream",
     "text": [
      "Epoch [1/5], loss_mean=2.535 :  73%|███████▎  | 1385/1898 [00:21<00:04, 112.23it/s]"
     ]
    },
    {
     "name": "stdout",
     "output_type": "stream",
     "text": [
      "torch.Size([64, 1, 18])\n",
      "torch.Size([64])\n",
      "torch.Size([64, 1, 18])\n",
      "torch.Size([64])\n",
      "torch.Size([64, 1, 18])\n",
      "torch.Size([64])\n",
      "torch.Size([64, 1, 18])\n",
      "torch.Size([64])\n",
      "torch.Size([64, 1, 18])\n",
      "torch.Size([64])\n",
      "torch.Size([64, 1, 18])\n",
      "torch.Size([64])\n",
      "torch.Size([64, 1, 18])\n",
      "torch.Size([64])\n",
      "torch.Size([64, 1, 18])\n",
      "torch.Size([64])\n",
      "torch.Size([64, 1, 18])\n",
      "torch.Size([64])\n",
      "torch.Size([64, 1, 18])\n",
      "torch.Size([64])\n",
      "torch.Size([64, 1, 18])\n",
      "torch.Size([64])\n",
      "torch.Size([64, 1, 18])\n",
      "torch.Size([64])\n",
      "torch.Size([64, 1, 18])\n",
      "torch.Size([64])\n",
      "torch.Size([64, 1, 18])\n",
      "torch.Size([64])\n",
      "torch.Size([64, 1, 18])\n",
      "torch.Size([64])\n",
      "torch.Size([64, 1, 18])\n",
      "torch.Size([64])\n",
      "torch.Size([64, 1, 18])\n",
      "torch.Size([64])\n",
      "torch.Size([64, 1, 18])\n",
      "torch.Size([64])\n",
      "torch.Size([64, 1, 18])\n",
      "torch.Size([64])\n",
      "torch.Size([64, 1, 18])\n",
      "torch.Size([64])\n",
      "torch.Size([64, 1, 18])\n",
      "torch.Size([64])\n",
      "torch.Size([64, 1, 18])\n",
      "torch.Size([64])\n",
      "torch.Size([64, 1, 18])\n",
      "torch.Size([64])\n",
      "torch.Size([64, 1, 18])\n",
      "torch.Size([64])\n"
     ]
    },
    {
     "name": "stderr",
     "output_type": "stream",
     "text": [
      "Epoch [1/5], loss_mean=2.535 :  74%|███████▍  | 1413/1898 [00:22<00:04, 120.78it/s]"
     ]
    },
    {
     "name": "stdout",
     "output_type": "stream",
     "text": [
      "torch.Size([64, 1, 18])\n",
      "torch.Size([64])\n",
      "torch.Size([64, 1, 18])\n",
      "torch.Size([64])\n",
      "torch.Size([64, 1, 18])\n",
      "torch.Size([64])\n",
      "torch.Size([64, 1, 18])\n",
      "torch.Size([64])\n",
      "torch.Size([64, 1, 18])\n",
      "torch.Size([64])\n",
      "torch.Size([64, 1, 18])\n",
      "torch.Size([64])\n",
      "torch.Size([64, 1, 18])\n",
      "torch.Size([64])\n",
      "torch.Size([64, 1, 18])\n",
      "torch.Size([64])\n",
      "torch.Size([64, 1, 18])\n",
      "torch.Size([64])\n",
      "torch.Size([64, 1, 18])\n",
      "torch.Size([64])\n",
      "torch.Size([64, 1, 18])\n",
      "torch.Size([64])\n",
      "torch.Size([64, 1, 18])\n",
      "torch.Size([64])\n",
      "torch.Size([64, 1, 18])\n",
      "torch.Size([64])\n",
      "torch.Size([64, 1, 18])\n",
      "torch.Size([64])\n",
      "torch.Size([64, 1, 18])\n",
      "torch.Size([64])\n",
      "torch.Size([64, 1, 18])\n",
      "torch.Size([64])\n",
      "torch.Size([64, 1, 18])\n",
      "torch.Size([64])\n",
      "torch.Size([64, 1, 18])\n",
      "torch.Size([64])\n",
      "torch.Size([64, 1, 18])\n",
      "torch.Size([64])\n",
      "torch.Size([64, 1, 18])\n",
      "torch.Size([64])\n",
      "torch.Size([64, 1, 18])\n",
      "torch.Size([64])\n",
      "torch.Size([64, 1, 18])\n",
      "torch.Size([64])\n",
      "torch.Size([64, 1, 18])\n",
      "torch.Size([64])\n",
      "torch.Size([64, 1, 18])\n",
      "torch.Size([64])\n",
      "torch.Size([64, 1, 18])\n",
      "torch.Size([64])\n",
      "torch.Size([64, 1, 18])\n",
      "torch.Size([64])\n",
      "torch.Size([64, 1, 18])\n",
      "torch.Size([64])\n",
      "torch.Size([64, 1, 18])\n",
      "torch.Size([64])\n"
     ]
    },
    {
     "name": "stderr",
     "output_type": "stream",
     "text": [
      "Epoch [1/5], loss_mean=2.535 :  76%|███████▌  | 1444/1898 [00:22<00:03, 125.76it/s]"
     ]
    },
    {
     "name": "stdout",
     "output_type": "stream",
     "text": [
      "torch.Size([64, 1, 18])\n",
      "torch.Size([64])\n",
      "torch.Size([64, 1, 18])\n",
      "torch.Size([64])\n",
      "torch.Size([64, 1, 18])\n",
      "torch.Size([64])\n",
      "torch.Size([64, 1, 18])\n",
      "torch.Size([64])\n",
      "torch.Size([64, 1, 18])\n",
      "torch.Size([64])\n",
      "torch.Size([64, 1, 18])\n",
      "torch.Size([64])\n",
      "torch.Size([64, 1, 18])\n",
      "torch.Size([64])\n",
      "torch.Size([64, 1, 18])\n",
      "torch.Size([64])\n",
      "torch.Size([64, 1, 18])\n",
      "torch.Size([64])\n",
      "torch.Size([64, 1, 18])\n",
      "torch.Size([64])\n",
      "torch.Size([64, 1, 18])\n",
      "torch.Size([64])\n",
      "torch.Size([64, 1, 18])\n",
      "torch.Size([64])\n",
      "torch.Size([64, 1, 18])\n",
      "torch.Size([64])\n",
      "torch.Size([64, 1, 18])\n",
      "torch.Size([64])\n",
      "torch.Size([64, 1, 18])\n",
      "torch.Size([64])\n",
      "torch.Size([64, 1, 18])\n",
      "torch.Size([64])\n",
      "torch.Size([64, 1, 18])\n",
      "torch.Size([64])\n",
      "torch.Size([64, 1, 18])\n",
      "torch.Size([64])\n",
      "torch.Size([64, 1, 18])\n",
      "torch.Size([64])\n",
      "torch.Size([64, 1, 18])\n",
      "torch.Size([64])\n",
      "torch.Size([64, 1, 18])\n",
      "torch.Size([64])\n",
      "torch.Size([64, 1, 18])\n",
      "torch.Size([64])\n"
     ]
    },
    {
     "name": "stderr",
     "output_type": "stream",
     "text": [
      "Epoch [1/5], loss_mean=2.535 :  77%|███████▋  | 1457/1898 [00:22<00:03, 116.77it/s]"
     ]
    },
    {
     "name": "stdout",
     "output_type": "stream",
     "text": [
      "torch.Size([64, 1, 18])\n",
      "torch.Size([64])\n",
      "torch.Size([64, 1, 18])\n",
      "torch.Size([64])\n",
      "torch.Size([64, 1, 18])\n",
      "torch.Size([64])\n",
      "torch.Size([64, 1, 18])\n",
      "torch.Size([64])\n",
      "torch.Size([64, 1, 18])\n",
      "torch.Size([64])\n",
      "torch.Size([64, 1, 18])\n",
      "torch.Size([64])\n",
      "torch.Size([64, 1, 18])\n",
      "torch.Size([64])\n",
      "torch.Size([64, 1, 18])\n",
      "torch.Size([64])\n",
      "torch.Size([64, 1, 18])\n",
      "torch.Size([64])\n",
      "torch.Size([64, 1, 18])\n",
      "torch.Size([64])\n",
      "torch.Size([64, 1, 18])\n",
      "torch.Size([64])\n",
      "torch.Size([64, 1, 18])\n",
      "torch.Size([64])\n",
      "torch.Size([64, 1, 18])\n",
      "torch.Size([64])\n",
      "torch.Size([64, 1, 18])\n",
      "torch.Size([64])\n",
      "torch.Size([64, 1, 18])\n",
      "torch.Size([64])\n",
      "torch.Size([64, 1, 18])\n",
      "torch.Size([64])\n",
      "torch.Size([64, 1, 18])\n",
      "torch.Size([64])\n",
      "torch.Size([64, 1, 18])\n",
      "torch.Size([64])\n",
      "torch.Size([64, 1, 18])\n",
      "torch.Size([64])\n"
     ]
    },
    {
     "name": "stderr",
     "output_type": "stream",
     "text": [
      "Epoch [1/5], loss_mean=2.536 :  78%|███████▊  | 1481/1898 [00:22<00:03, 113.43it/s]"
     ]
    },
    {
     "name": "stdout",
     "output_type": "stream",
     "text": [
      "torch.Size([64, 1, 18])\n",
      "torch.Size([64])\n",
      "torch.Size([64, 1, 18])\n",
      "torch.Size([64])\n",
      "torch.Size([64, 1, 18])\n",
      "torch.Size([64])\n",
      "torch.Size([64, 1, 18])\n",
      "torch.Size([64])\n",
      "torch.Size([64, 1, 18])\n",
      "torch.Size([64])\n",
      "torch.Size([64, 1, 18])\n",
      "torch.Size([64])\n",
      "torch.Size([64, 1, 18])\n",
      "torch.Size([64])\n",
      "torch.Size([64, 1, 18])\n",
      "torch.Size([64])\n",
      "torch.Size([64, 1, 18])\n",
      "torch.Size([64])\n",
      "torch.Size([64, 1, 18])\n",
      "torch.Size([64])\n",
      "torch.Size([64, 1, 18])\n",
      "torch.Size([64])\n",
      "torch.Size([64, 1, 18])\n",
      "torch.Size([64])\n",
      "torch.Size([64, 1, 18])\n",
      "torch.Size([64])\n",
      "torch.Size([64, 1, 18])\n",
      "torch.Size([64])\n",
      "torch.Size([64, 1, 18])\n",
      "torch.Size([64])\n",
      "torch.Size([64, 1, 18])\n",
      "torch.Size([64])\n",
      "torch.Size([64, 1, 18])\n",
      "torch.Size([64])\n",
      "torch.Size([64, 1, 18])\n",
      "torch.Size([64])\n",
      "torch.Size([64, 1, 18])\n",
      "torch.Size([64])\n"
     ]
    },
    {
     "name": "stderr",
     "output_type": "stream",
     "text": [
      "Epoch [1/5], loss_mean=2.536 :  79%|███████▊  | 1493/1898 [00:22<00:04, 101.03it/s]"
     ]
    },
    {
     "name": "stdout",
     "output_type": "stream",
     "text": [
      "torch.Size([64, 1, 18])\n",
      "torch.Size([64])\n",
      "torch.Size([64, 1, 18])\n",
      "torch.Size([64])\n",
      "torch.Size([64, 1, 18])\n",
      "torch.Size([64])\n",
      "torch.Size([64, 1, 18])\n",
      "torch.Size([64])\n",
      "torch.Size([64, 1, 18])\n",
      "torch.Size([64])\n",
      "torch.Size([64, 1, 18])\n",
      "torch.Size([64])\n",
      "torch.Size([64, 1, 18])\n",
      "torch.Size([64])\n",
      "torch.Size([64, 1, 18])\n",
      "torch.Size([64])\n",
      "torch.Size([64, 1, 18])\n",
      "torch.Size([64])\n",
      "torch.Size([64, 1, 18])\n",
      "torch.Size([64])\n",
      "torch.Size([64, 1, 18])\n",
      "torch.Size([64])\n",
      "torch.Size([64, 1, 18])\n",
      "torch.Size([64])\n",
      "torch.Size([64, 1, 18])\n",
      "torch.Size([64])\n",
      "torch.Size([64, 1, 18])\n",
      "torch.Size([64])\n"
     ]
    },
    {
     "name": "stderr",
     "output_type": "stream",
     "text": [
      "Epoch [1/5], loss_mean=2.535 :  80%|███████▉  | 1514/1898 [00:23<00:04, 84.37it/s] "
     ]
    },
    {
     "name": "stdout",
     "output_type": "stream",
     "text": [
      "torch.Size([64, 1, 18])\n",
      "torch.Size([64])\n",
      "torch.Size([64, 1, 18])\n",
      "torch.Size([64])\n",
      "torch.Size([64, 1, 18])\n",
      "torch.Size([64])\n",
      "torch.Size([64, 1, 18])\n",
      "torch.Size([64])\n",
      "torch.Size([64, 1, 18])\n",
      "torch.Size([64])\n",
      "torch.Size([64, 1, 18])\n",
      "torch.Size([64])\n",
      "torch.Size([64, 1, 18])\n",
      "torch.Size([64])\n",
      "torch.Size([64, 1, 18])\n",
      "torch.Size([64])\n",
      "torch.Size([64, 1, 18])\n",
      "torch.Size([64])\n",
      "torch.Size([64, 1, 18])\n",
      "torch.Size([64])\n",
      "torch.Size([64, 1, 18])\n",
      "torch.Size([64])\n",
      "torch.Size([64, 1, 18])\n",
      "torch.Size([64])\n",
      "torch.Size([64, 1, 18])\n",
      "torch.Size([64])\n",
      "torch.Size([64, 1, 18])\n",
      "torch.Size([64])\n"
     ]
    },
    {
     "name": "stderr",
     "output_type": "stream",
     "text": [
      "Epoch [1/5], loss_mean=2.535 :  80%|████████  | 1523/1898 [00:23<00:04, 77.11it/s]"
     ]
    },
    {
     "name": "stdout",
     "output_type": "stream",
     "text": [
      "torch.Size([64, 1, 18])\n",
      "torch.Size([64])\n",
      "torch.Size([64, 1, 18])\n",
      "torch.Size([64])\n",
      "torch.Size([64, 1, 18])\n",
      "torch.Size([64])\n",
      "torch.Size([64, 1, 18])\n",
      "torch.Size([64])\n",
      "torch.Size([64, 1, 18])\n",
      "torch.Size([64])\n",
      "torch.Size([64, 1, 18])\n",
      "torch.Size([64])\n",
      "torch.Size([64, 1, 18])\n",
      "torch.Size([64])\n",
      "torch.Size([64, 1, 18])\n",
      "torch.Size([64])\n",
      "torch.Size([64, 1, 18])\n",
      "torch.Size([64])\n",
      "torch.Size([64, 1, 18])\n",
      "torch.Size([64])\n",
      "torch.Size([64, 1, 18])\n",
      "torch.Size([64])\n",
      "torch.Size([64, 1, 18])\n",
      "torch.Size([64])\n",
      "torch.Size([64, 1, 18])\n",
      "torch.Size([64])\n",
      "torch.Size([64, 1, 18])\n",
      "torch.Size([64])\n"
     ]
    },
    {
     "name": "stderr",
     "output_type": "stream",
     "text": [
      "Epoch [1/5], loss_mean=2.535 :  81%|████████  | 1542/1898 [00:23<00:04, 82.13it/s]"
     ]
    },
    {
     "name": "stdout",
     "output_type": "stream",
     "text": [
      "torch.Size([64, 1, 18])\n",
      "torch.Size([64])\n",
      "torch.Size([64, 1, 18])\n",
      "torch.Size([64])\n",
      "torch.Size([64, 1, 18])\n",
      "torch.Size([64])\n",
      "torch.Size([64, 1, 18])\n",
      "torch.Size([64])\n",
      "torch.Size([64, 1, 18])\n",
      "torch.Size([64])\n",
      "torch.Size([64, 1, 18])\n",
      "torch.Size([64])\n",
      "torch.Size([64, 1, 18])\n",
      "torch.Size([64])\n",
      "torch.Size([64, 1, 18])\n",
      "torch.Size([64])\n",
      "torch.Size([64, 1, 18])\n",
      "torch.Size([64])\n",
      "torch.Size([64, 1, 18])\n",
      "torch.Size([64])\n",
      "torch.Size([64, 1, 18])\n",
      "torch.Size([64])\n",
      "torch.Size([64, 1, 18])\n",
      "torch.Size([64])\n",
      "torch.Size([64, 1, 18])\n",
      "torch.Size([64])\n",
      "torch.Size([64, 1, 18])\n",
      "torch.Size([64])\n",
      "torch.Size([64, 1, 18])\n",
      "torch.Size([64])\n",
      "torch.Size([64, 1, 18])\n",
      "torch.Size([64])\n"
     ]
    },
    {
     "name": "stderr",
     "output_type": "stream",
     "text": [
      "Epoch [1/5], loss_mean=2.535 :  81%|████████  | 1542/1898 [00:23<00:04, 82.13it/s]"
     ]
    },
    {
     "name": "stdout",
     "output_type": "stream",
     "text": [
      "torch.Size([64, 1, 18])\n",
      "torch.Size([64])\n",
      "torch.Size([64, 1, 18])\n",
      "torch.Size([64])\n",
      "torch.Size([64, 1, 18])\n",
      "torch.Size([64])\n",
      "torch.Size([64, 1, 18])\n",
      "torch.Size([64])\n",
      "torch.Size([64, 1, 18])\n",
      "torch.Size([64])\n",
      "torch.Size([64, 1, 18])\n",
      "torch.Size([64])\n"
     ]
    },
    {
     "name": "stderr",
     "output_type": "stream",
     "text": [
      "Epoch [1/5], loss_mean=2.535 :  82%|████████▏ | 1551/1898 [00:23<00:05, 62.22it/s]"
     ]
    },
    {
     "name": "stdout",
     "output_type": "stream",
     "text": [
      "torch.Size([64, 1, 18])\n",
      "torch.Size([64])\n",
      "torch.Size([64, 1, 18])\n",
      "torch.Size([64])\n",
      "torch.Size([64, 1, 18])\n",
      "torch.Size([64])\n",
      "torch.Size([64, 1, 18])\n",
      "torch.Size([64])\n"
     ]
    },
    {
     "name": "stderr",
     "output_type": "stream",
     "text": [
      "Epoch [1/5], loss_mean=2.535 :  83%|████████▎ | 1569/1898 [00:24<00:05, 57.71it/s]"
     ]
    },
    {
     "name": "stdout",
     "output_type": "stream",
     "text": [
      "torch.Size([64, 1, 18])\n",
      "torch.Size([64])\n",
      "torch.Size([64, 1, 18])\n",
      "torch.Size([64])\n",
      "torch.Size([64, 1, 18])\n",
      "torch.Size([64])\n",
      "torch.Size([64, 1, 18])\n",
      "torch.Size([64])\n",
      "torch.Size([64, 1, 18])\n",
      "torch.Size([64])\n",
      "torch.Size([64, 1, 18])\n",
      "torch.Size([64])\n",
      "torch.Size([64, 1, 18])\n",
      "torch.Size([64])\n",
      "torch.Size([64, 1, 18])\n",
      "torch.Size([64])\n",
      "torch.Size([64, 1, 18])\n",
      "torch.Size([64])\n",
      "torch.Size([64, 1, 18])\n",
      "torch.Size([64])\n",
      "torch.Size([64, 1, 18])\n",
      "torch.Size([64])\n",
      "torch.Size([64, 1, 18])\n",
      "torch.Size([64])\n",
      "torch.Size([64, 1, 18])\n",
      "torch.Size([64])\n",
      "torch.Size([64, 1, 18])\n",
      "torch.Size([64])\n"
     ]
    },
    {
     "name": "stderr",
     "output_type": "stream",
     "text": [
      "Epoch [1/5], loss_mean=2.535 :  83%|████████▎ | 1581/1898 [00:24<00:04, 69.87it/s]"
     ]
    },
    {
     "name": "stdout",
     "output_type": "stream",
     "text": [
      "torch.Size([64, 1, 18])\n",
      "torch.Size([64])\n",
      "torch.Size([64, 1, 18])\n",
      "torch.Size([64])\n",
      "torch.Size([64, 1, 18])\n",
      "torch.Size([64])\n",
      "torch.Size([64, 1, 18])\n",
      "torch.Size([64])\n",
      "torch.Size([64, 1, 18])\n",
      "torch.Size([64])\n",
      "torch.Size([64, 1, 18])\n",
      "torch.Size([64])\n",
      "torch.Size([64, 1, 18])\n",
      "torch.Size([64])\n",
      "torch.Size([64, 1, 18])\n",
      "torch.Size([64])\n",
      "torch.Size([64, 1, 18])\n",
      "torch.Size([64])\n",
      "torch.Size([64, 1, 18])\n",
      "torch.Size([64])\n",
      "torch.Size([64, 1, 18])\n",
      "torch.Size([64])\n",
      "torch.Size([64, 1, 18])\n",
      "torch.Size([64])\n",
      "torch.Size([64, 1, 18])\n",
      "torch.Size([64])\n",
      "torch.Size([64, 1, 18])\n",
      "torch.Size([64])\n",
      "torch.Size([64, 1, 18])\n",
      "torch.Size([64])\n",
      "torch.Size([64, 1, 18])\n",
      "torch.Size([64])\n",
      "torch.Size([64, 1, 18])\n",
      "torch.Size([64])\n",
      "torch.Size([64, 1, 18])\n",
      "torch.Size([64])\n",
      "torch.Size([64, 1, 18])\n",
      "torch.Size([64])\n",
      "torch.Size([64, 1, 18])\n",
      "torch.Size([64])\n",
      "torch.Size([64, 1, 18])\n",
      "torch.Size([64])\n"
     ]
    },
    {
     "name": "stderr",
     "output_type": "stream",
     "text": [
      "Epoch [1/5], loss_mean=2.535 :  85%|████████▍ | 1606/1898 [00:24<00:03, 89.95it/s]"
     ]
    },
    {
     "name": "stdout",
     "output_type": "stream",
     "text": [
      "torch.Size([64, 1, 18])\n",
      "torch.Size([64])\n",
      "torch.Size([64, 1, 18])\n",
      "torch.Size([64])\n",
      "torch.Size([64, 1, 18])\n",
      "torch.Size([64])\n",
      "torch.Size([64, 1, 18])\n",
      "torch.Size([64])\n",
      "torch.Size([64, 1, 18])\n",
      "torch.Size([64])\n",
      "torch.Size([64, 1, 18])\n",
      "torch.Size([64])\n",
      "torch.Size([64, 1, 18])\n",
      "torch.Size([64])\n",
      "torch.Size([64, 1, 18])\n",
      "torch.Size([64])\n",
      "torch.Size([64, 1, 18])\n",
      "torch.Size([64])\n",
      "torch.Size([64, 1, 18])\n",
      "torch.Size([64])\n",
      "torch.Size([64, 1, 18])\n",
      "torch.Size([64])\n",
      "torch.Size([64, 1, 18])\n",
      "torch.Size([64])\n",
      "torch.Size([64, 1, 18])\n",
      "torch.Size([64])\n",
      "torch.Size([64, 1, 18])\n",
      "torch.Size([64])\n",
      "torch.Size([64, 1, 18])\n",
      "torch.Size([64])\n",
      "torch.Size([64, 1, 18])\n",
      "torch.Size([64])\n",
      "torch.Size([64, 1, 18])\n",
      "torch.Size([64])\n",
      "torch.Size([64, 1, 18])\n",
      "torch.Size([64])\n",
      "torch.Size([64, 1, 18])\n",
      "torch.Size([64])\n",
      "torch.Size([64, 1, 18])\n",
      "torch.Size([64])\n",
      "torch.Size([64, 1, 18])\n",
      "torch.Size([64])\n",
      "torch.Size([64, 1, 18])\n",
      "torch.Size([64])\n",
      "torch.Size([64, 1, 18])\n",
      "torch.Size([64])\n",
      "torch.Size([64, 1, 18])\n",
      "torch.Size([64])\n",
      "torch.Size([64, 1, 18])\n",
      "torch.Size([64])\n"
     ]
    },
    {
     "name": "stderr",
     "output_type": "stream",
     "text": [
      "Epoch [1/5], loss_mean=2.535 :  86%|████████▌ | 1634/1898 [00:24<00:02, 109.19it/s]"
     ]
    },
    {
     "name": "stdout",
     "output_type": "stream",
     "text": [
      "torch.Size([64, 1, 18])\n",
      "torch.Size([64])\n",
      "torch.Size([64, 1, 18])\n",
      "torch.Size([64])\n",
      "torch.Size([64, 1, 18])\n",
      "torch.Size([64])\n",
      "torch.Size([64, 1, 18])\n",
      "torch.Size([64])\n",
      "torch.Size([64, 1, 18])\n",
      "torch.Size([64])\n",
      "torch.Size([64, 1, 18])\n",
      "torch.Size([64])\n",
      "torch.Size([64, 1, 18])\n",
      "torch.Size([64])\n",
      "torch.Size([64, 1, 18])\n",
      "torch.Size([64])\n",
      "torch.Size([64, 1, 18])\n",
      "torch.Size([64])\n",
      "torch.Size([64, 1, 18])\n",
      "torch.Size([64])\n",
      "torch.Size([64, 1, 18])\n",
      "torch.Size([64])\n",
      "torch.Size([64, 1, 18])\n",
      "torch.Size([64])\n",
      "torch.Size([64, 1, 18])\n",
      "torch.Size([64])\n",
      "torch.Size([64, 1, 18])\n",
      "torch.Size([64])\n",
      "torch.Size([64, 1, 18])\n",
      "torch.Size([64])\n",
      "torch.Size([64, 1, 18])\n",
      "torch.Size([64])\n",
      "torch.Size([64, 1, 18])\n",
      "torch.Size([64])\n",
      "torch.Size([64, 1, 18])\n",
      "torch.Size([64])\n",
      "torch.Size([64, 1, 18])\n",
      "torch.Size([64])\n",
      "torch.Size([64, 1, 18])\n",
      "torch.Size([64])\n",
      "torch.Size([64, 1, 18])\n",
      "torch.Size([64])\n",
      "torch.Size([64, 1, 18])\n",
      "torch.Size([64])\n",
      "torch.Size([64, 1, 18])\n",
      "torch.Size([64])\n"
     ]
    },
    {
     "name": "stderr",
     "output_type": "stream",
     "text": [
      "Epoch [1/5], loss_mean=2.535 :  87%|████████▋ | 1648/1898 [00:24<00:02, 112.52it/s]"
     ]
    },
    {
     "name": "stdout",
     "output_type": "stream",
     "text": [
      "torch.Size([64, 1, 18])\n",
      "torch.Size([64])\n",
      "torch.Size([64, 1, 18])\n",
      "torch.Size([64])\n",
      "torch.Size([64, 1, 18])\n",
      "torch.Size([64])\n",
      "torch.Size([64, 1, 18])\n",
      "torch.Size([64])\n",
      "torch.Size([64, 1, 18])\n",
      "torch.Size([64])\n",
      "torch.Size([64, 1, 18])\n",
      "torch.Size([64])\n",
      "torch.Size([64, 1, 18])\n",
      "torch.Size([64])\n",
      "torch.Size([64, 1, 18])\n",
      "torch.Size([64])\n",
      "torch.Size([64, 1, 18])\n",
      "torch.Size([64])\n",
      "torch.Size([64, 1, 18])\n",
      "torch.Size([64])\n",
      "torch.Size([64, 1, 18])\n",
      "torch.Size([64])\n",
      "torch.Size([64, 1, 18])\n",
      "torch.Size([64])\n",
      "torch.Size([64, 1, 18])\n",
      "torch.Size([64])\n",
      "torch.Size([64, 1, 18])\n",
      "torch.Size([64])\n",
      "torch.Size([64, 1, 18])\n",
      "torch.Size([64])\n",
      "torch.Size([64, 1, 18])\n",
      "torch.Size([64])\n",
      "torch.Size([64, 1, 18])\n",
      "torch.Size([64])\n",
      "torch.Size([64, 1, 18])\n",
      "torch.Size([64])\n",
      "torch.Size([64, 1, 18])\n",
      "torch.Size([64])\n",
      "torch.Size([64, 1, 18])\n",
      "torch.Size([64])\n",
      "torch.Size([64, 1, 18])\n",
      "torch.Size([64])\n",
      "torch.Size([64, 1, 18])\n",
      "torch.Size([64])\n"
     ]
    },
    {
     "name": "stderr",
     "output_type": "stream",
     "text": [
      "Epoch [1/5], loss_mean=2.535 :  88%|████████▊ | 1673/1898 [00:24<00:01, 118.55it/s]"
     ]
    },
    {
     "name": "stdout",
     "output_type": "stream",
     "text": [
      "torch.Size([64, 1, 18])\n",
      "torch.Size([64])\n",
      "torch.Size([64, 1, 18])\n",
      "torch.Size([64])\n",
      "torch.Size([64, 1, 18])\n",
      "torch.Size([64])\n",
      "torch.Size([64, 1, 18])\n",
      "torch.Size([64])\n",
      "torch.Size([64, 1, 18])\n",
      "torch.Size([64])\n",
      "torch.Size([64, 1, 18])\n",
      "torch.Size([64])\n",
      "torch.Size([64, 1, 18])\n",
      "torch.Size([64])\n",
      "torch.Size([64, 1, 18])\n",
      "torch.Size([64])\n",
      "torch.Size([64, 1, 18])\n",
      "torch.Size([64])\n",
      "torch.Size([64, 1, 18])\n",
      "torch.Size([64])\n",
      "torch.Size([64, 1, 18])\n",
      "torch.Size([64])\n",
      "torch.Size([64, 1, 18])\n",
      "torch.Size([64])\n",
      "torch.Size([64, 1, 18])\n",
      "torch.Size([64])\n",
      "torch.Size([64, 1, 18])\n",
      "torch.Size([64])\n",
      "torch.Size([64, 1, 18])\n",
      "torch.Size([64])\n",
      "torch.Size([64, 1, 18])\n",
      "torch.Size([64])\n",
      "torch.Size([64, 1, 18])\n",
      "torch.Size([64])\n",
      "torch.Size([64, 1, 18])\n",
      "torch.Size([64])\n",
      "torch.Size([64, 1, 18])\n",
      "torch.Size([64])\n",
      "torch.Size([64, 1, 18])\n",
      "torch.Size([64])\n",
      "torch.Size([64, 1, 18])\n",
      "torch.Size([64])\n",
      "torch.Size([64, 1, 18])\n",
      "torch.Size([64])\n",
      "torch.Size([64, 1, 18])\n",
      "torch.Size([64])\n"
     ]
    },
    {
     "name": "stderr",
     "output_type": "stream",
     "text": [
      "Epoch [1/5], loss_mean=2.535 :  90%|████████▉ | 1701/1898 [00:25<00:01, 117.94it/s]"
     ]
    },
    {
     "name": "stdout",
     "output_type": "stream",
     "text": [
      "torch.Size([64, 1, 18])\n",
      "torch.Size([64])\n",
      "torch.Size([64, 1, 18])\n",
      "torch.Size([64])\n",
      "torch.Size([64, 1, 18])\n",
      "torch.Size([64])\n",
      "torch.Size([64, 1, 18])\n",
      "torch.Size([64])\n",
      "torch.Size([64, 1, 18])\n",
      "torch.Size([64])\n",
      "torch.Size([64, 1, 18])\n",
      "torch.Size([64])\n",
      "torch.Size([64, 1, 18])\n",
      "torch.Size([64])\n",
      "torch.Size([64, 1, 18])\n",
      "torch.Size([64])\n",
      "torch.Size([64, 1, 18])\n",
      "torch.Size([64])\n",
      "torch.Size([64, 1, 18])\n",
      "torch.Size([64])\n",
      "torch.Size([64, 1, 18])\n",
      "torch.Size([64])\n",
      "torch.Size([64, 1, 18])\n",
      "torch.Size([64])\n",
      "torch.Size([64, 1, 18])\n",
      "torch.Size([64])\n",
      "torch.Size([64, 1, 18])\n",
      "torch.Size([64])\n",
      "torch.Size([64, 1, 18])\n",
      "torch.Size([64])\n",
      "torch.Size([64, 1, 18])\n",
      "torch.Size([64])\n",
      "torch.Size([64, 1, 18])\n",
      "torch.Size([64])\n",
      "torch.Size([64, 1, 18])\n",
      "torch.Size([64])\n",
      "torch.Size([64, 1, 18])\n",
      "torch.Size([64])\n",
      "torch.Size([64, 1, 18])\n",
      "torch.Size([64])\n",
      "torch.Size([64, 1, 18])\n",
      "torch.Size([64])\n",
      "torch.Size([64, 1, 18])\n",
      "torch.Size([64])\n"
     ]
    },
    {
     "name": "stderr",
     "output_type": "stream",
     "text": [
      "Epoch [1/5], loss_mean=2.535 :  91%|█████████ | 1725/1898 [00:25<00:01, 116.35it/s]"
     ]
    },
    {
     "name": "stdout",
     "output_type": "stream",
     "text": [
      "torch.Size([64, 1, 18])\n",
      "torch.Size([64])\n",
      "torch.Size([64, 1, 18])\n",
      "torch.Size([64])\n",
      "torch.Size([64, 1, 18])\n",
      "torch.Size([64])\n",
      "torch.Size([64, 1, 18])\n",
      "torch.Size([64])\n",
      "torch.Size([64, 1, 18])\n",
      "torch.Size([64])\n",
      "torch.Size([64, 1, 18])\n",
      "torch.Size([64])\n",
      "torch.Size([64, 1, 18])\n",
      "torch.Size([64])\n",
      "torch.Size([64, 1, 18])\n",
      "torch.Size([64])\n",
      "torch.Size([64, 1, 18])\n",
      "torch.Size([64])\n",
      "torch.Size([64, 1, 18])\n",
      "torch.Size([64])\n",
      "torch.Size([64, 1, 18])\n",
      "torch.Size([64])\n",
      "torch.Size([64, 1, 18])\n",
      "torch.Size([64])\n",
      "torch.Size([64, 1, 18])\n",
      "torch.Size([64])\n",
      "torch.Size([64, 1, 18])\n",
      "torch.Size([64])\n",
      "torch.Size([64, 1, 18])\n",
      "torch.Size([64])\n",
      "torch.Size([64, 1, 18])\n",
      "torch.Size([64])\n",
      "torch.Size([64, 1, 18])\n",
      "torch.Size([64])\n",
      "torch.Size([64, 1, 18])\n",
      "torch.Size([64])\n",
      "torch.Size([64, 1, 18])\n",
      "torch.Size([64])\n",
      "torch.Size([64, 1, 18])\n",
      "torch.Size([64])\n",
      "torch.Size([64, 1, 18])\n",
      "torch.Size([64])\n",
      "torch.Size([64, 1, 18])\n",
      "torch.Size([64])\n",
      "torch.Size([64, 1, 18])\n",
      "torch.Size([64])\n"
     ]
    },
    {
     "name": "stderr",
     "output_type": "stream",
     "text": [
      "Epoch [1/5], loss_mean=2.535 :  92%|█████████▏| 1737/1898 [00:25<00:01, 105.11it/s]"
     ]
    },
    {
     "name": "stdout",
     "output_type": "stream",
     "text": [
      "torch.Size([64, 1, 18])\n",
      "torch.Size([64])\n",
      "torch.Size([64, 1, 18])\n",
      "torch.Size([64])\n",
      "torch.Size([64, 1, 18])\n",
      "torch.Size([64])\n",
      "torch.Size([64, 1, 18])\n",
      "torch.Size([64])\n",
      "torch.Size([64, 1, 18])\n",
      "torch.Size([64])\n",
      "torch.Size([64, 1, 18])\n",
      "torch.Size([64])\n",
      "torch.Size([64, 1, 18])\n",
      "torch.Size([64])\n",
      "torch.Size([64, 1, 18])\n",
      "torch.Size([64])\n",
      "torch.Size([64, 1, 18])\n",
      "torch.Size([64])\n",
      "torch.Size([64, 1, 18])\n",
      "torch.Size([64])\n",
      "torch.Size([64, 1, 18])\n",
      "torch.Size([64])\n",
      "torch.Size([64, 1, 18])\n",
      "torch.Size([64])\n",
      "torch.Size([64, 1, 18])\n",
      "torch.Size([64])\n",
      "torch.Size([64, 1, 18])\n",
      "torch.Size([64])\n",
      "torch.Size([64, 1, 18])\n",
      "torch.Size([64])\n",
      "torch.Size([64, 1, 18])\n",
      "torch.Size([64])\n",
      "torch.Size([64, 1, 18])\n",
      "torch.Size([64])\n"
     ]
    },
    {
     "name": "stderr",
     "output_type": "stream",
     "text": [
      "Epoch [1/5], loss_mean=2.535 :  93%|█████████▎| 1758/1898 [00:25<00:01, 89.49it/s] "
     ]
    },
    {
     "name": "stdout",
     "output_type": "stream",
     "text": [
      "torch.Size([64, 1, 18])\n",
      "torch.Size([64])\n",
      "torch.Size([64, 1, 18])\n",
      "torch.Size([64])\n",
      "torch.Size([64, 1, 18])\n",
      "torch.Size([64])\n",
      "torch.Size([64, 1, 18])\n",
      "torch.Size([64])\n",
      "torch.Size([64, 1, 18])\n",
      "torch.Size([64])\n",
      "torch.Size([64, 1, 18])\n",
      "torch.Size([64])\n",
      "torch.Size([64, 1, 18])\n",
      "torch.Size([64])\n",
      "torch.Size([64, 1, 18])\n",
      "torch.Size([64])\n",
      "torch.Size([64, 1, 18])\n",
      "torch.Size([64])\n",
      "torch.Size([64, 1, 18])\n",
      "torch.Size([64])\n",
      "torch.Size([64, 1, 18])\n",
      "torch.Size([64])\n",
      "torch.Size([64, 1, 18])\n",
      "torch.Size([64])\n",
      "torch.Size([64, 1, 18])\n",
      "torch.Size([64])\n",
      "torch.Size([64, 1, 18])\n",
      "torch.Size([64])\n"
     ]
    },
    {
     "name": "stderr",
     "output_type": "stream",
     "text": [
      "Epoch [1/5], loss_mean=2.535 :  93%|█████████▎| 1768/1898 [00:25<00:01, 87.24it/s]"
     ]
    },
    {
     "name": "stdout",
     "output_type": "stream",
     "text": [
      "torch.Size([64, 1, 18])\n",
      "torch.Size([64])\n",
      "torch.Size([64, 1, 18])\n",
      "torch.Size([64])\n",
      "torch.Size([64, 1, 18])\n",
      "torch.Size([64])\n",
      "torch.Size([64, 1, 18])\n",
      "torch.Size([64])\n",
      "torch.Size([64, 1, 18])\n",
      "torch.Size([64])\n",
      "torch.Size([64, 1, 18])\n",
      "torch.Size([64])\n",
      "torch.Size([64, 1, 18])\n",
      "torch.Size([64])\n",
      "torch.Size([64, 1, 18])\n",
      "torch.Size([64])\n",
      "torch.Size([64, 1, 18])\n",
      "torch.Size([64])\n",
      "torch.Size([64, 1, 18])\n",
      "torch.Size([64])\n",
      "torch.Size([64, 1, 18])\n",
      "torch.Size([64])\n",
      "torch.Size([64, 1, 18])\n",
      "torch.Size([64])\n",
      "torch.Size([64, 1, 18])\n",
      "torch.Size([64])\n",
      "torch.Size([64, 1, 18])\n",
      "torch.Size([64])\n",
      "torch.Size([64, 1, 18])\n",
      "torch.Size([64])\n",
      "torch.Size([64, 1, 18])\n",
      "torch.Size([64])\n",
      "torch.Size([64, 1, 18])\n",
      "torch.Size([64])\n",
      "torch.Size([64, 1, 18])\n",
      "torch.Size([64])\n"
     ]
    },
    {
     "name": "stderr",
     "output_type": "stream",
     "text": [
      "Epoch [1/5], loss_mean=2.535 :  94%|█████████▎| 1777/1898 [00:26<00:01, 81.94it/s]"
     ]
    },
    {
     "name": "stdout",
     "output_type": "stream",
     "text": [
      "torch.Size([64, 1, 18])\n",
      "torch.Size([64])\n",
      "torch.Size([64, 1, 18])\n",
      "torch.Size([64])\n"
     ]
    },
    {
     "name": "stderr",
     "output_type": "stream",
     "text": [
      "Epoch [1/5], loss_mean=2.535 :  94%|█████████▍| 1786/1898 [00:26<00:02, 52.31it/s]"
     ]
    },
    {
     "name": "stdout",
     "output_type": "stream",
     "text": [
      "torch.Size([64, 1, 18])\n",
      "torch.Size([64])\n",
      "torch.Size([64, 1, 18])\n",
      "torch.Size([64])\n",
      "torch.Size([64, 1, 18])\n",
      "torch.Size([64])\n",
      "torch.Size([64, 1, 18])\n",
      "torch.Size([64])\n",
      "torch.Size([64, 1, 18])\n",
      "torch.Size([64])\n",
      "torch.Size([64, 1, 18])\n",
      "torch.Size([64])\n",
      "torch.Size([64, 1, 18])\n",
      "torch.Size([64])\n",
      "torch.Size([64, 1, 18])\n",
      "torch.Size([64])\n",
      "torch.Size([64, 1, 18])\n",
      "torch.Size([64])\n",
      "torch.Size([64, 1, 18])\n",
      "torch.Size([64])\n",
      "torch.Size([64, 1, 18])\n",
      "torch.Size([64])\n",
      "torch.Size([64, 1, 18])\n",
      "torch.Size([64])\n"
     ]
    },
    {
     "name": "stderr",
     "output_type": "stream",
     "text": [
      "Epoch [1/5], loss_mean=2.535 :  95%|█████████▌| 1808/1898 [00:26<00:01, 71.25it/s]"
     ]
    },
    {
     "name": "stdout",
     "output_type": "stream",
     "text": [
      "torch.Size([64, 1, 18])\n",
      "torch.Size([64])\n",
      "torch.Size([64, 1, 18])\n",
      "torch.Size([64])\n",
      "torch.Size([64, 1, 18])\n",
      "torch.Size([64])\n",
      "torch.Size([64, 1, 18])\n",
      "torch.Size([64])\n",
      "torch.Size([64, 1, 18])\n",
      "torch.Size([64])\n",
      "torch.Size([64, 1, 18])\n",
      "torch.Size([64])\n",
      "torch.Size([64, 1, 18])\n",
      "torch.Size([64])\n",
      "torch.Size([64, 1, 18])\n",
      "torch.Size([64])\n",
      "torch.Size([64, 1, 18])\n",
      "torch.Size([64])\n",
      "torch.Size([64, 1, 18])\n",
      "torch.Size([64])\n",
      "torch.Size([64, 1, 18])\n",
      "torch.Size([64])\n",
      "torch.Size([64, 1, 18])\n",
      "torch.Size([64])\n",
      "torch.Size([64, 1, 18])\n",
      "torch.Size([64])\n",
      "torch.Size([64, 1, 18])\n",
      "torch.Size([64])\n",
      "torch.Size([64, 1, 18])\n",
      "torch.Size([64])\n",
      "torch.Size([64, 1, 18])\n",
      "torch.Size([64])\n",
      "torch.Size([64, 1, 18])\n",
      "torch.Size([64])\n",
      "torch.Size([64, 1, 18])\n",
      "torch.Size([64])\n",
      "torch.Size([64, 1, 18])\n",
      "torch.Size([64])\n",
      "torch.Size([64, 1, 18])\n",
      "torch.Size([64])\n"
     ]
    },
    {
     "name": "stderr",
     "output_type": "stream",
     "text": [
      "Epoch [1/5], loss_mean=2.535 :  96%|█████████▋| 1830/1898 [00:26<00:00, 83.70it/s]"
     ]
    },
    {
     "name": "stdout",
     "output_type": "stream",
     "text": [
      "torch.Size([64, 1, 18])\n",
      "torch.Size([64])\n",
      "torch.Size([64, 1, 18])\n",
      "torch.Size([64])\n",
      "torch.Size([64, 1, 18])\n",
      "torch.Size([64])\n",
      "torch.Size([64, 1, 18])\n",
      "torch.Size([64])\n",
      "torch.Size([64, 1, 18])\n",
      "torch.Size([64])\n",
      "torch.Size([64, 1, 18])\n",
      "torch.Size([64])\n",
      "torch.Size([64, 1, 18])\n",
      "torch.Size([64])\n",
      "torch.Size([64, 1, 18])\n",
      "torch.Size([64])\n",
      "torch.Size([64, 1, 18])\n",
      "torch.Size([64])\n",
      "torch.Size([64, 1, 18])\n",
      "torch.Size([64])\n",
      "torch.Size([64, 1, 18])\n",
      "torch.Size([64])\n",
      "torch.Size([64, 1, 18])\n",
      "torch.Size([64])\n",
      "torch.Size([64, 1, 18])\n",
      "torch.Size([64])\n",
      "torch.Size([64, 1, 18])\n",
      "torch.Size([64])\n",
      "torch.Size([64, 1, 18])\n",
      "torch.Size([64])\n",
      "torch.Size([64, 1, 18])\n",
      "torch.Size([64])\n",
      "torch.Size([64, 1, 18])\n",
      "torch.Size([64])\n",
      "torch.Size([64, 1, 18])\n",
      "torch.Size([64])\n",
      "torch.Size([64, 1, 18])\n",
      "torch.Size([64])\n",
      "torch.Size([64, 1, 18])\n",
      "torch.Size([64])\n"
     ]
    },
    {
     "name": "stderr",
     "output_type": "stream",
     "text": [
      "Epoch [1/5], loss_mean=2.535 :  97%|█████████▋| 1840/1898 [00:26<00:00, 84.62it/s]"
     ]
    },
    {
     "name": "stdout",
     "output_type": "stream",
     "text": [
      "torch.Size([64, 1, 18])\n",
      "torch.Size([64])\n",
      "torch.Size([64, 1, 18])\n",
      "torch.Size([64])\n",
      "torch.Size([64, 1, 18])\n",
      "torch.Size([64])\n",
      "torch.Size([64, 1, 18])\n",
      "torch.Size([64])\n",
      "torch.Size([64, 1, 18])\n",
      "torch.Size([64])\n",
      "torch.Size([64, 1, 18])\n",
      "torch.Size([64])\n",
      "torch.Size([64, 1, 18])\n",
      "torch.Size([64])\n",
      "torch.Size([64, 1, 18])\n",
      "torch.Size([64])\n",
      "torch.Size([64, 1, 18])\n",
      "torch.Size([64])\n",
      "torch.Size([64, 1, 18])\n",
      "torch.Size([64])\n",
      "torch.Size([64, 1, 18])\n",
      "torch.Size([64])\n",
      "torch.Size([64, 1, 18])\n",
      "torch.Size([64])\n",
      "torch.Size([64, 1, 18])\n",
      "torch.Size([64])\n",
      "torch.Size([64, 1, 18])\n",
      "torch.Size([64])\n",
      "torch.Size([64, 1, 18])\n",
      "torch.Size([64])\n",
      "torch.Size([64, 1, 18])\n",
      "torch.Size([64])\n",
      "torch.Size([64, 1, 18])\n",
      "torch.Size([64])\n",
      "torch.Size([64, 1, 18])\n",
      "torch.Size([64])\n"
     ]
    },
    {
     "name": "stderr",
     "output_type": "stream",
     "text": [
      "Epoch [1/5], loss_mean=2.535 :  98%|█████████▊| 1860/1898 [00:27<00:00, 84.06it/s]"
     ]
    },
    {
     "name": "stdout",
     "output_type": "stream",
     "text": [
      "torch.Size([64, 1, 18])\n",
      "torch.Size([64])\n",
      "torch.Size([64, 1, 18])\n",
      "torch.Size([64])\n",
      "torch.Size([64, 1, 18])\n",
      "torch.Size([64])\n",
      "torch.Size([64, 1, 18])\n",
      "torch.Size([64])\n",
      "torch.Size([64, 1, 18])\n",
      "torch.Size([64])\n",
      "torch.Size([64, 1, 18])\n",
      "torch.Size([64])\n",
      "torch.Size([64, 1, 18])\n",
      "torch.Size([64])\n",
      "torch.Size([64, 1, 18])\n",
      "torch.Size([64])\n",
      "torch.Size([64, 1, 18])\n",
      "torch.Size([64])\n",
      "torch.Size([64, 1, 18])\n",
      "torch.Size([64])\n",
      "torch.Size([64, 1, 18])\n",
      "torch.Size([64])\n",
      "torch.Size([64, 1, 18])\n",
      "torch.Size([64])\n",
      "torch.Size([64, 1, 18])\n",
      "torch.Size([64])\n",
      "torch.Size([64, 1, 18])\n",
      "torch.Size([64])\n",
      "torch.Size([64, 1, 18])\n",
      "torch.Size([64])\n",
      "torch.Size([64, 1, 18])\n",
      "torch.Size([64])\n"
     ]
    },
    {
     "name": "stderr",
     "output_type": "stream",
     "text": [
      "Epoch [1/5], loss_mean=2.535 :  99%|█████████▊| 1871/1898 [00:27<00:00, 87.13it/s]"
     ]
    },
    {
     "name": "stdout",
     "output_type": "stream",
     "text": [
      "torch.Size([64, 1, 18])\n",
      "torch.Size([64])\n",
      "torch.Size([64, 1, 18])\n",
      "torch.Size([64])\n",
      "torch.Size([64, 1, 18])\n",
      "torch.Size([64])\n",
      "torch.Size([64, 1, 18])\n",
      "torch.Size([64])\n",
      "torch.Size([64, 1, 18])\n",
      "torch.Size([64])\n",
      "torch.Size([64, 1, 18])\n",
      "torch.Size([64])\n",
      "torch.Size([64, 1, 18])\n",
      "torch.Size([64])\n",
      "torch.Size([64, 1, 18])\n",
      "torch.Size([64])\n",
      "torch.Size([64, 1, 18])\n",
      "torch.Size([64])\n",
      "torch.Size([64, 1, 18])\n",
      "torch.Size([64])\n",
      "torch.Size([64, 1, 18])\n",
      "torch.Size([64])\n",
      "torch.Size([64, 1, 18])\n",
      "torch.Size([64])\n",
      "torch.Size([64, 1, 18])\n",
      "torch.Size([64])\n",
      "torch.Size([64, 1, 18])\n",
      "torch.Size([64])\n"
     ]
    },
    {
     "name": "stderr",
     "output_type": "stream",
     "text": [
      "Epoch [1/5], loss_mean=2.535 : 100%|█████████▉| 1889/1898 [00:27<00:00, 76.54it/s]"
     ]
    },
    {
     "name": "stdout",
     "output_type": "stream",
     "text": [
      "torch.Size([64, 1, 18])\n",
      "torch.Size([64])\n",
      "torch.Size([64, 1, 18])\n",
      "torch.Size([64])\n",
      "torch.Size([64, 1, 18])\n",
      "torch.Size([64])\n",
      "torch.Size([64, 1, 18])\n",
      "torch.Size([64])\n",
      "torch.Size([64, 1, 18])\n",
      "torch.Size([64])\n",
      "torch.Size([64, 1, 18])\n",
      "torch.Size([64])\n",
      "torch.Size([64, 1, 18])\n",
      "torch.Size([64])\n",
      "torch.Size([64, 1, 18])\n",
      "torch.Size([64])\n",
      "torch.Size([64, 1, 18])\n",
      "torch.Size([64])\n",
      "torch.Size([64, 1, 18])\n",
      "torch.Size([64])\n",
      "torch.Size([64, 1, 18])\n",
      "torch.Size([64])\n",
      "torch.Size([64, 1, 18])\n",
      "torch.Size([64])\n",
      "torch.Size([64, 1, 18])\n",
      "torch.Size([64])\n"
     ]
    },
    {
     "name": "stderr",
     "output_type": "stream",
     "text": [
      "Epoch [1/5], loss_mean=2.534 : 100%|██████████| 1898/1898 [00:27<00:00, 68.64it/s]\n"
     ]
    },
    {
     "name": "stdout",
     "output_type": "stream",
     "text": [
      "torch.Size([64, 1, 18])\n",
      "torch.Size([64])\n",
      "torch.Size([64, 1, 18])\n",
      "torch.Size([64])\n",
      "torch.Size([64, 1, 18])\n",
      "torch.Size([64])\n",
      "torch.Size([64, 1, 18])\n",
      "torch.Size([64])\n",
      "torch.Size([64, 1, 18])\n",
      "torch.Size([64])\n",
      "torch.Size([16, 1, 18])\n",
      "torch.Size([16])\n"
     ]
    },
    {
     "name": "stderr",
     "output_type": "stream",
     "text": [
      "Epoch [2/5], loss_mean=2.504 :   0%|          | 0/1898 [00:00<?, ?it/s]"
     ]
    },
    {
     "name": "stdout",
     "output_type": "stream",
     "text": [
      "torch.Size([64, 1, 18])\n",
      "torch.Size([64])\n",
      "torch.Size([64, 1, 18])\n",
      "torch.Size([64])\n",
      "torch.Size([64, 1, 18])\n",
      "torch.Size([64])\n",
      "torch.Size([64, 1, 18])\n",
      "torch.Size([64])\n"
     ]
    },
    {
     "name": "stderr",
     "output_type": "stream",
     "text": [
      "Epoch [2/5], loss_mean=2.522 :   0%|          | 7/1898 [00:00<00:31, 59.89it/s]"
     ]
    },
    {
     "name": "stdout",
     "output_type": "stream",
     "text": [
      "torch.Size([64, 1, 18])\n",
      "torch.Size([64])\n",
      "torch.Size([64, 1, 18])\n",
      "torch.Size([64])\n",
      "torch.Size([64, 1, 18])\n",
      "torch.Size([64])\n",
      "torch.Size([64, 1, 18])\n",
      "torch.Size([64])\n",
      "torch.Size([64, 1, 18])\n",
      "torch.Size([64])\n",
      "torch.Size([64, 1, 18])\n",
      "torch.Size([64])\n",
      "torch.Size([64, 1, 18])\n",
      "torch.Size([64])\n",
      "torch.Size([64, 1, 18])\n",
      "torch.Size([64])\n",
      "torch.Size([64, 1, 18])\n",
      "torch.Size([64])\n",
      "torch.Size([64, 1, 18])\n",
      "torch.Size([64])\n",
      "torch.Size([64, 1, 18])\n",
      "torch.Size([64])\n"
     ]
    },
    {
     "name": "stderr",
     "output_type": "stream",
     "text": [
      "Epoch [2/5], loss_mean=2.526 :   1%|          | 16/1898 [00:00<00:25, 74.39it/s]"
     ]
    },
    {
     "name": "stdout",
     "output_type": "stream",
     "text": [
      "torch.Size([64, 1, 18])\n",
      "torch.Size([64])\n",
      "torch.Size([64, 1, 18])\n",
      "torch.Size([64])\n",
      "torch.Size([64, 1, 18])\n",
      "torch.Size([64])\n"
     ]
    },
    {
     "name": "stderr",
     "output_type": "stream",
     "text": [
      "Epoch [2/5], loss_mean=2.533 :   1%|▏         | 24/1898 [00:00<00:24, 76.76it/s]"
     ]
    },
    {
     "name": "stdout",
     "output_type": "stream",
     "text": [
      "torch.Size([64, 1, 18])\n",
      "torch.Size([64])\n",
      "torch.Size([64, 1, 18])\n",
      "torch.Size([64])\n",
      "torch.Size([64, 1, 18])\n",
      "torch.Size([64])\n",
      "torch.Size([64, 1, 18])\n",
      "torch.Size([64])\n",
      "torch.Size([64, 1, 18])\n",
      "torch.Size([64])\n",
      "torch.Size([64, 1, 18])\n",
      "torch.Size([64])\n",
      "torch.Size([64, 1, 18])\n",
      "torch.Size([64])\n",
      "torch.Size([64, 1, 18])\n",
      "torch.Size([64])\n",
      "torch.Size([64, 1, 18])\n",
      "torch.Size([64])\n",
      "torch.Size([64, 1, 18])\n",
      "torch.Size([64])\n",
      "torch.Size([64, 1, 18])\n",
      "torch.Size([64])\n",
      "torch.Size([64, 1, 18])\n",
      "torch.Size([64])\n"
     ]
    },
    {
     "name": "stderr",
     "output_type": "stream",
     "text": [
      "Epoch [2/5], loss_mean=2.536 :   2%|▏         | 33/1898 [00:00<00:23, 79.26it/s]"
     ]
    },
    {
     "name": "stdout",
     "output_type": "stream",
     "text": [
      "torch.Size([64, 1, 18])\n",
      "torch.Size([64])\n",
      "torch.Size([64, 1, 18])\n",
      "torch.Size([64])\n",
      "torch.Size([64, 1, 18])\n",
      "torch.Size([64])\n",
      "torch.Size([64, 1, 18])\n",
      "torch.Size([64])\n"
     ]
    },
    {
     "name": "stderr",
     "output_type": "stream",
     "text": [
      "Epoch [2/5], loss_mean=2.536 :   2%|▏         | 33/1898 [00:00<00:23, 79.26it/s]"
     ]
    },
    {
     "name": "stdout",
     "output_type": "stream",
     "text": [
      "torch.Size([64, 1, 18])\n",
      "torch.Size([64])\n",
      "torch.Size([64, 1, 18])\n",
      "torch.Size([64])\n",
      "torch.Size([64, 1, 18])\n",
      "torch.Size([64])\n",
      "torch.Size([64, 1, 18])\n",
      "torch.Size([64])\n",
      "torch.Size([64, 1, 18])\n",
      "torch.Size([64])\n"
     ]
    },
    {
     "name": "stderr",
     "output_type": "stream",
     "text": [
      "Epoch [2/5], loss_mean=2.536 :   2%|▏         | 33/1898 [00:00<00:23, 79.26it/s]"
     ]
    },
    {
     "name": "stdout",
     "output_type": "stream",
     "text": [
      "torch.Size([64, 1, 18])\n",
      "torch.Size([64])\n"
     ]
    },
    {
     "name": "stderr",
     "output_type": "stream",
     "text": [
      "Epoch [2/5], loss_mean=2.538 :   3%|▎         | 48/1898 [00:01<00:49, 37.67it/s]"
     ]
    },
    {
     "name": "stdout",
     "output_type": "stream",
     "text": [
      "torch.Size([64, 1, 18])\n",
      "torch.Size([64])\n",
      "torch.Size([64, 1, 18])\n",
      "torch.Size([64])\n",
      "torch.Size([64, 1, 18])\n",
      "torch.Size([64])\n",
      "torch.Size([64, 1, 18])\n",
      "torch.Size([64])\n",
      "torch.Size([64, 1, 18])\n",
      "torch.Size([64])\n",
      "torch.Size([64, 1, 18])\n",
      "torch.Size([64])\n",
      "torch.Size([64, 1, 18])\n",
      "torch.Size([64])\n",
      "torch.Size([64, 1, 18])\n",
      "torch.Size([64])\n",
      "torch.Size([64, 1, 18])\n",
      "torch.Size([64])\n"
     ]
    },
    {
     "name": "stderr",
     "output_type": "stream",
     "text": [
      "Epoch [2/5], loss_mean=2.537 :   3%|▎         | 48/1898 [00:01<00:49, 37.67it/s]"
     ]
    },
    {
     "name": "stdout",
     "output_type": "stream",
     "text": [
      "torch.Size([64, 1, 18])\n",
      "torch.Size([64])\n",
      "torch.Size([64, 1, 18])\n",
      "torch.Size([64])\n"
     ]
    },
    {
     "name": "stderr",
     "output_type": "stream",
     "text": [
      "Epoch [2/5], loss_mean=2.537 :   3%|▎         | 54/1898 [00:01<01:13, 25.25it/s]"
     ]
    },
    {
     "name": "stdout",
     "output_type": "stream",
     "text": [
      "torch.Size([64, 1, 18])\n",
      "torch.Size([64])\n",
      "torch.Size([64, 1, 18])\n",
      "torch.Size([64])\n",
      "torch.Size([64, 1, 18])\n",
      "torch.Size([64])\n",
      "torch.Size([64, 1, 18])\n",
      "torch.Size([64])\n",
      "torch.Size([64, 1, 18])\n",
      "torch.Size([64])\n"
     ]
    },
    {
     "name": "stderr",
     "output_type": "stream",
     "text": [
      "Epoch [2/5], loss_mean=2.538 :   3%|▎         | 54/1898 [00:01<01:13, 25.25it/s]"
     ]
    },
    {
     "name": "stdout",
     "output_type": "stream",
     "text": [
      "torch.Size([64, 1, 18])\n",
      "torch.Size([64])\n",
      "torch.Size([64, 1, 18])\n",
      "torch.Size([64])\n",
      "torch.Size([64, 1, 18])\n",
      "torch.Size([64])\n"
     ]
    },
    {
     "name": "stderr",
     "output_type": "stream",
     "text": [
      "Epoch [2/5], loss_mean=2.537 :   3%|▎         | 59/1898 [00:02<01:49, 16.81it/s]"
     ]
    },
    {
     "name": "stdout",
     "output_type": "stream",
     "text": [
      "torch.Size([64, 1, 18])\n",
      "torch.Size([64])\n"
     ]
    },
    {
     "name": "stderr",
     "output_type": "stream",
     "text": [
      "Epoch [2/5], loss_mean=2.538 :   3%|▎         | 63/1898 [00:02<02:14, 13.61it/s]"
     ]
    },
    {
     "name": "stdout",
     "output_type": "stream",
     "text": [
      "torch.Size([64, 1, 18])\n",
      "torch.Size([64])\n",
      "torch.Size([64, 1, 18])\n",
      "torch.Size([64])\n",
      "torch.Size([64, 1, 18])\n",
      "torch.Size([64])\n",
      "torch.Size([64, 1, 18])\n",
      "torch.Size([64])\n"
     ]
    },
    {
     "name": "stderr",
     "output_type": "stream",
     "text": [
      "Epoch [2/5], loss_mean=2.535 :   4%|▍         | 74/1898 [00:02<01:28, 20.68it/s]"
     ]
    },
    {
     "name": "stdout",
     "output_type": "stream",
     "text": [
      "torch.Size([64, 1, 18])\n",
      "torch.Size([64])\n",
      "torch.Size([64, 1, 18])\n",
      "torch.Size([64])\n",
      "torch.Size([64, 1, 18])\n",
      "torch.Size([64])\n",
      "torch.Size([64, 1, 18])\n",
      "torch.Size([64])\n",
      "torch.Size([64, 1, 18])\n",
      "torch.Size([64])\n",
      "torch.Size([64, 1, 18])\n",
      "torch.Size([64])\n",
      "torch.Size([64, 1, 18])\n",
      "torch.Size([64])\n",
      "torch.Size([64, 1, 18])\n",
      "torch.Size([64])\n",
      "torch.Size([64, 1, 18])\n",
      "torch.Size([64])\n",
      "torch.Size([64, 1, 18])\n",
      "torch.Size([64])\n",
      "torch.Size([64, 1, 18])\n",
      "torch.Size([64])\n",
      "torch.Size([64, 1, 18])\n",
      "torch.Size([64])\n"
     ]
    },
    {
     "name": "stderr",
     "output_type": "stream",
     "text": [
      "Epoch [2/5], loss_mean=2.534 :   4%|▍         | 80/1898 [00:03<01:14, 24.48it/s]"
     ]
    },
    {
     "name": "stdout",
     "output_type": "stream",
     "text": [
      "torch.Size([64, 1, 18])\n",
      "torch.Size([64])\n",
      "torch.Size([64, 1, 18])\n",
      "torch.Size([64])\n",
      "torch.Size([64, 1, 18])\n",
      "torch.Size([64])\n",
      "torch.Size([64, 1, 18])\n",
      "torch.Size([64])\n",
      "torch.Size([64, 1, 18])\n",
      "torch.Size([64])\n",
      "torch.Size([64, 1, 18])\n",
      "torch.Size([64])\n",
      "torch.Size([64, 1, 18])\n",
      "torch.Size([64])\n",
      "torch.Size([64, 1, 18])\n",
      "torch.Size([64])\n"
     ]
    },
    {
     "name": "stderr",
     "output_type": "stream",
     "text": [
      "Epoch [2/5], loss_mean=2.532 :   5%|▍         | 91/1898 [00:03<00:56, 32.14it/s]"
     ]
    },
    {
     "name": "stdout",
     "output_type": "stream",
     "text": [
      "torch.Size([64, 1, 18])\n",
      "torch.Size([64])\n",
      "torch.Size([64, 1, 18])\n",
      "torch.Size([64])\n",
      "torch.Size([64, 1, 18])\n",
      "torch.Size([64])\n",
      "torch.Size([64, 1, 18])\n",
      "torch.Size([64])\n",
      "torch.Size([64, 1, 18])\n",
      "torch.Size([64])\n",
      "torch.Size([64, 1, 18])\n",
      "torch.Size([64])\n",
      "torch.Size([64, 1, 18])\n",
      "torch.Size([64])\n",
      "torch.Size([64, 1, 18])\n",
      "torch.Size([64])\n",
      "torch.Size([64, 1, 18])\n",
      "torch.Size([64])\n"
     ]
    },
    {
     "name": "stderr",
     "output_type": "stream",
     "text": [
      "Epoch [2/5], loss_mean=2.532 :   5%|▌         | 104/1898 [00:03<00:40, 44.79it/s]"
     ]
    },
    {
     "name": "stdout",
     "output_type": "stream",
     "text": [
      "torch.Size([64, 1, 18])\n",
      "torch.Size([64])\n",
      "torch.Size([64, 1, 18])\n",
      "torch.Size([64])\n",
      "torch.Size([64, 1, 18])\n",
      "torch.Size([64])\n",
      "torch.Size([64, 1, 18])\n",
      "torch.Size([64])\n",
      "torch.Size([64, 1, 18])\n",
      "torch.Size([64])\n",
      "torch.Size([64, 1, 18])\n",
      "torch.Size([64])\n",
      "torch.Size([64, 1, 18])\n",
      "torch.Size([64])\n",
      "torch.Size([64, 1, 18])\n",
      "torch.Size([64])\n",
      "torch.Size([64, 1, 18])\n",
      "torch.Size([64])\n",
      "torch.Size([64, 1, 18])\n",
      "torch.Size([64])\n",
      "torch.Size([64, 1, 18])\n",
      "torch.Size([64])\n",
      "torch.Size([64, 1, 18])\n",
      "torch.Size([64])\n",
      "torch.Size([64, 1, 18])\n",
      "torch.Size([64])\n",
      "torch.Size([64, 1, 18])\n",
      "torch.Size([64])\n"
     ]
    },
    {
     "name": "stderr",
     "output_type": "stream",
     "text": [
      "Epoch [2/5], loss_mean=2.531 :   6%|▌         | 114/1898 [00:03<00:31, 56.02it/s]"
     ]
    },
    {
     "name": "stdout",
     "output_type": "stream",
     "text": [
      "torch.Size([64, 1, 18])\n",
      "torch.Size([64])\n",
      "torch.Size([64, 1, 18])\n",
      "torch.Size([64])\n",
      "torch.Size([64, 1, 18])\n",
      "torch.Size([64])\n",
      "torch.Size([64, 1, 18])\n",
      "torch.Size([64])\n",
      "torch.Size([64, 1, 18])\n",
      "torch.Size([64])\n",
      "torch.Size([64, 1, 18])\n",
      "torch.Size([64])\n",
      "torch.Size([64, 1, 18])\n",
      "torch.Size([64])\n",
      "torch.Size([64, 1, 18])\n",
      "torch.Size([64])\n",
      "torch.Size([64, 1, 18])\n",
      "torch.Size([64])\n",
      "torch.Size([64, 1, 18])\n",
      "torch.Size([64])\n",
      "torch.Size([64, 1, 18])\n",
      "torch.Size([64])\n",
      "torch.Size([64, 1, 18])\n",
      "torch.Size([64])\n"
     ]
    },
    {
     "name": "stderr",
     "output_type": "stream",
     "text": [
      "Epoch [2/5], loss_mean=2.530 :   6%|▋         | 121/1898 [00:03<00:39, 44.76it/s]"
     ]
    },
    {
     "name": "stdout",
     "output_type": "stream",
     "text": [
      "torch.Size([64, 1, 18])\n",
      "torch.Size([64])\n",
      "torch.Size([64, 1, 18])\n",
      "torch.Size([64])\n",
      "torch.Size([64, 1, 18])\n",
      "torch.Size([64])\n",
      "torch.Size([64, 1, 18])\n",
      "torch.Size([64])\n",
      "torch.Size([64, 1, 18])\n",
      "torch.Size([64])\n"
     ]
    },
    {
     "name": "stderr",
     "output_type": "stream",
     "text": [
      "Epoch [2/5], loss_mean=2.530 :   7%|▋         | 136/1898 [00:04<00:31, 56.82it/s]"
     ]
    },
    {
     "name": "stdout",
     "output_type": "stream",
     "text": [
      "torch.Size([64, 1, 18])\n",
      "torch.Size([64])\n",
      "torch.Size([64, 1, 18])\n",
      "torch.Size([64])\n",
      "torch.Size([64, 1, 18])\n",
      "torch.Size([64])\n",
      "torch.Size([64, 1, 18])\n",
      "torch.Size([64])\n",
      "torch.Size([64, 1, 18])\n",
      "torch.Size([64])\n",
      "torch.Size([64, 1, 18])\n",
      "torch.Size([64])\n",
      "torch.Size([64, 1, 18])\n",
      "torch.Size([64])\n",
      "torch.Size([64, 1, 18])\n",
      "torch.Size([64])\n",
      "torch.Size([64, 1, 18])\n",
      "torch.Size([64])\n",
      "torch.Size([64, 1, 18])\n",
      "torch.Size([64])\n",
      "torch.Size([64, 1, 18])\n",
      "torch.Size([64])\n",
      "torch.Size([64, 1, 18])\n",
      "torch.Size([64])\n",
      "torch.Size([64, 1, 18])\n",
      "torch.Size([64])\n",
      "torch.Size([64, 1, 18])\n",
      "torch.Size([64])\n"
     ]
    },
    {
     "name": "stderr",
     "output_type": "stream",
     "text": [
      "Epoch [2/5], loss_mean=2.530 :   7%|▋         | 136/1898 [00:04<00:31, 56.82it/s]"
     ]
    },
    {
     "name": "stdout",
     "output_type": "stream",
     "text": [
      "torch.Size([64, 1, 18])\n",
      "torch.Size([64])\n",
      "torch.Size([64, 1, 18])\n",
      "torch.Size([64])\n",
      "torch.Size([64, 1, 18])\n",
      "torch.Size([64])\n"
     ]
    },
    {
     "name": "stderr",
     "output_type": "stream",
     "text": [
      "Epoch [2/5], loss_mean=2.531 :   8%|▊         | 143/1898 [00:04<00:48, 36.24it/s]"
     ]
    },
    {
     "name": "stdout",
     "output_type": "stream",
     "text": [
      "torch.Size([64, 1, 18])\n",
      "torch.Size([64])\n",
      "torch.Size([64, 1, 18])\n",
      "torch.Size([64])\n",
      "torch.Size([64, 1, 18])\n",
      "torch.Size([64])\n",
      "torch.Size([64, 1, 18])\n",
      "torch.Size([64])\n",
      "torch.Size([64, 1, 18])\n",
      "torch.Size([64])\n",
      "torch.Size([64, 1, 18])\n",
      "torch.Size([64])\n",
      "torch.Size([64, 1, 18])\n",
      "torch.Size([64])\n"
     ]
    },
    {
     "name": "stderr",
     "output_type": "stream",
     "text": [
      "Epoch [2/5], loss_mean=2.531 :   8%|▊         | 155/1898 [00:04<00:44, 39.33it/s]"
     ]
    },
    {
     "name": "stdout",
     "output_type": "stream",
     "text": [
      "torch.Size([64, 1, 18])\n",
      "torch.Size([64])\n",
      "torch.Size([64, 1, 18])\n",
      "torch.Size([64])\n",
      "torch.Size([64, 1, 18])\n",
      "torch.Size([64])\n",
      "torch.Size([64, 1, 18])\n",
      "torch.Size([64])\n",
      "torch.Size([64, 1, 18])\n",
      "torch.Size([64])\n",
      "torch.Size([64, 1, 18])\n",
      "torch.Size([64])\n",
      "torch.Size([64, 1, 18])\n",
      "torch.Size([64])\n",
      "torch.Size([64, 1, 18])\n",
      "torch.Size([64])\n"
     ]
    },
    {
     "name": "stderr",
     "output_type": "stream",
     "text": [
      "Epoch [2/5], loss_mean=2.531 :   8%|▊         | 160/1898 [00:04<00:42, 40.50it/s]"
     ]
    },
    {
     "name": "stdout",
     "output_type": "stream",
     "text": [
      "torch.Size([64, 1, 18])\n",
      "torch.Size([64])\n",
      "torch.Size([64, 1, 18])\n",
      "torch.Size([64])\n",
      "torch.Size([64, 1, 18])\n",
      "torch.Size([64])\n",
      "torch.Size([64, 1, 18])\n",
      "torch.Size([64])\n",
      "torch.Size([64, 1, 18])\n",
      "torch.Size([64])\n",
      "torch.Size([64, 1, 18])\n",
      "torch.Size([64])\n",
      "torch.Size([64, 1, 18])\n",
      "torch.Size([64])\n",
      "torch.Size([64, 1, 18])\n",
      "torch.Size([64])\n",
      "torch.Size([64, 1, 18])\n",
      "torch.Size([64])\n"
     ]
    },
    {
     "name": "stderr",
     "output_type": "stream",
     "text": [
      "Epoch [2/5], loss_mean=2.531 :   9%|▉         | 171/1898 [00:05<00:38, 44.71it/s]"
     ]
    },
    {
     "name": "stdout",
     "output_type": "stream",
     "text": [
      "torch.Size([64, 1, 18])\n",
      "torch.Size([64])\n",
      "torch.Size([64, 1, 18])\n",
      "torch.Size([64])\n",
      "torch.Size([64, 1, 18])\n",
      "torch.Size([64])\n",
      "torch.Size([64, 1, 18])\n",
      "torch.Size([64])\n",
      "torch.Size([64, 1, 18])\n",
      "torch.Size([64])\n",
      "torch.Size([64, 1, 18])\n",
      "torch.Size([64])\n",
      "torch.Size([64, 1, 18])\n",
      "torch.Size([64])\n",
      "torch.Size([64, 1, 18])\n",
      "torch.Size([64])\n",
      "torch.Size([64, 1, 18])\n",
      "torch.Size([64])\n",
      "torch.Size([64, 1, 18])\n",
      "torch.Size([64])\n"
     ]
    },
    {
     "name": "stderr",
     "output_type": "stream",
     "text": [
      "Epoch [2/5], loss_mean=2.531 :  10%|▉         | 183/1898 [00:05<00:35, 47.93it/s]"
     ]
    },
    {
     "name": "stdout",
     "output_type": "stream",
     "text": [
      "torch.Size([64, 1, 18])\n",
      "torch.Size([64])\n",
      "torch.Size([64, 1, 18])\n",
      "torch.Size([64])\n",
      "torch.Size([64, 1, 18])\n",
      "torch.Size([64])\n",
      "torch.Size([64, 1, 18])\n",
      "torch.Size([64])\n",
      "torch.Size([64, 1, 18])\n",
      "torch.Size([64])\n",
      "torch.Size([64, 1, 18])\n",
      "torch.Size([64])\n",
      "torch.Size([64, 1, 18])\n",
      "torch.Size([64])\n",
      "torch.Size([64, 1, 18])\n",
      "torch.Size([64])\n",
      "torch.Size([64, 1, 18])\n",
      "torch.Size([64])\n",
      "torch.Size([64, 1, 18])\n",
      "torch.Size([64])\n"
     ]
    },
    {
     "name": "stderr",
     "output_type": "stream",
     "text": [
      "Epoch [2/5], loss_mean=2.532 :  10%|█         | 190/1898 [00:05<00:35, 48.23it/s]"
     ]
    },
    {
     "name": "stdout",
     "output_type": "stream",
     "text": [
      "torch.Size([64, 1, 18])\n",
      "torch.Size([64])\n",
      "torch.Size([64, 1, 18])\n",
      "torch.Size([64])\n",
      "torch.Size([64, 1, 18])\n",
      "torch.Size([64])\n",
      "torch.Size([64, 1, 18])\n",
      "torch.Size([64])\n",
      "torch.Size([64, 1, 18])\n",
      "torch.Size([64])\n",
      "torch.Size([64, 1, 18])\n",
      "torch.Size([64])\n",
      "torch.Size([64, 1, 18])\n",
      "torch.Size([64])\n",
      "torch.Size([64, 1, 18])\n",
      "torch.Size([64])\n"
     ]
    },
    {
     "name": "stderr",
     "output_type": "stream",
     "text": [
      "Epoch [2/5], loss_mean=2.532 :  10%|█         | 195/1898 [00:05<00:40, 42.22it/s]"
     ]
    },
    {
     "name": "stdout",
     "output_type": "stream",
     "text": [
      "torch.Size([64, 1, 18])\n",
      "torch.Size([64])\n",
      "torch.Size([64, 1, 18])\n",
      "torch.Size([64])\n",
      "torch.Size([64, 1, 18])\n",
      "torch.Size([64])\n",
      "torch.Size([64, 1, 18])\n",
      "torch.Size([64])\n"
     ]
    },
    {
     "name": "stderr",
     "output_type": "stream",
     "text": [
      "Epoch [2/5], loss_mean=2.532 :  11%|█         | 205/1898 [00:05<00:41, 40.76it/s]"
     ]
    },
    {
     "name": "stdout",
     "output_type": "stream",
     "text": [
      "torch.Size([64, 1, 18])\n",
      "torch.Size([64])\n",
      "torch.Size([64, 1, 18])\n",
      "torch.Size([64])\n",
      "torch.Size([64, 1, 18])\n",
      "torch.Size([64])\n",
      "torch.Size([64, 1, 18])\n",
      "torch.Size([64])\n",
      "torch.Size([64, 1, 18])\n",
      "torch.Size([64])\n",
      "torch.Size([64, 1, 18])\n",
      "torch.Size([64])\n",
      "torch.Size([64, 1, 18])\n",
      "torch.Size([64])\n",
      "torch.Size([64, 1, 18])\n",
      "torch.Size([64])\n",
      "torch.Size([64, 1, 18])\n",
      "torch.Size([64])\n",
      "torch.Size([64, 1, 18])\n",
      "torch.Size([64])\n",
      "torch.Size([64, 1, 18])\n",
      "torch.Size([64])\n"
     ]
    },
    {
     "name": "stderr",
     "output_type": "stream",
     "text": [
      "Epoch [2/5], loss_mean=2.532 :  11%|█         | 210/1898 [00:06<00:43, 39.25it/s]"
     ]
    },
    {
     "name": "stdout",
     "output_type": "stream",
     "text": [
      "torch.Size([64, 1, 18])\n",
      "torch.Size([64])\n",
      "torch.Size([64, 1, 18])\n",
      "torch.Size([64])\n",
      "torch.Size([64, 1, 18])\n",
      "torch.Size([64])\n",
      "torch.Size([64, 1, 18])\n",
      "torch.Size([64])\n"
     ]
    },
    {
     "name": "stderr",
     "output_type": "stream",
     "text": [
      "Epoch [2/5], loss_mean=2.533 :  12%|█▏        | 226/1898 [00:06<00:30, 54.55it/s]"
     ]
    },
    {
     "name": "stdout",
     "output_type": "stream",
     "text": [
      "torch.Size([64, 1, 18])\n",
      "torch.Size([64])\n",
      "torch.Size([64, 1, 18])\n",
      "torch.Size([64])\n",
      "torch.Size([64, 1, 18])\n",
      "torch.Size([64])\n",
      "torch.Size([64, 1, 18])\n",
      "torch.Size([64])\n",
      "torch.Size([64, 1, 18])\n",
      "torch.Size([64])\n",
      "torch.Size([64, 1, 18])\n",
      "torch.Size([64])\n",
      "torch.Size([64, 1, 18])\n",
      "torch.Size([64])\n",
      "torch.Size([64, 1, 18])\n",
      "torch.Size([64])\n",
      "torch.Size([64, 1, 18])\n",
      "torch.Size([64])\n",
      "torch.Size([64, 1, 18])\n",
      "torch.Size([64])\n",
      "torch.Size([64, 1, 18])\n",
      "torch.Size([64])\n",
      "torch.Size([64, 1, 18])\n",
      "torch.Size([64])\n",
      "torch.Size([64, 1, 18])\n",
      "torch.Size([64])\n",
      "torch.Size([64, 1, 18])\n",
      "torch.Size([64])\n",
      "torch.Size([64, 1, 18])\n",
      "torch.Size([64])\n",
      "torch.Size([64, 1, 18])\n",
      "torch.Size([64])\n"
     ]
    },
    {
     "name": "stderr",
     "output_type": "stream",
     "text": [
      "Epoch [2/5], loss_mean=2.533 :  12%|█▏        | 226/1898 [00:06<00:30, 54.55it/s]"
     ]
    },
    {
     "name": "stdout",
     "output_type": "stream",
     "text": [
      "torch.Size([64, 1, 18])\n",
      "torch.Size([64])\n",
      "torch.Size([64, 1, 18])\n",
      "torch.Size([64])\n"
     ]
    },
    {
     "name": "stderr",
     "output_type": "stream",
     "text": [
      "Epoch [2/5], loss_mean=2.532 :  12%|█▏        | 232/1898 [00:06<00:45, 36.51it/s]"
     ]
    },
    {
     "name": "stdout",
     "output_type": "stream",
     "text": [
      "torch.Size([64, 1, 18])\n",
      "torch.Size([64])\n",
      "torch.Size([64, 1, 18])\n",
      "torch.Size([64])\n",
      "torch.Size([64, 1, 18])\n",
      "torch.Size([64])\n",
      "torch.Size([64, 1, 18])\n",
      "torch.Size([64])\n",
      "torch.Size([64, 1, 18])\n",
      "torch.Size([64])\n",
      "torch.Size([64, 1, 18])\n",
      "torch.Size([64])\n",
      "torch.Size([64, 1, 18])\n",
      "torch.Size([64])\n"
     ]
    },
    {
     "name": "stderr",
     "output_type": "stream",
     "text": [
      "Epoch [2/5], loss_mean=2.532 :  12%|█▏        | 237/1898 [00:06<00:47, 35.15it/s]"
     ]
    },
    {
     "name": "stdout",
     "output_type": "stream",
     "text": [
      "torch.Size([64, 1, 18])\n",
      "torch.Size([64])\n",
      "torch.Size([64, 1, 18])\n",
      "torch.Size([64])\n",
      "torch.Size([64, 1, 18])\n",
      "torch.Size([64])\n",
      "torch.Size([64, 1, 18])\n",
      "torch.Size([64])\n"
     ]
    },
    {
     "name": "stderr",
     "output_type": "stream",
     "text": [
      "Epoch [2/5], loss_mean=2.531 :  13%|█▎        | 249/1898 [00:07<00:43, 38.26it/s]"
     ]
    },
    {
     "name": "stdout",
     "output_type": "stream",
     "text": [
      "torch.Size([64, 1, 18])\n",
      "torch.Size([64])\n",
      "torch.Size([64, 1, 18])\n",
      "torch.Size([64])\n",
      "torch.Size([64, 1, 18])\n",
      "torch.Size([64])\n",
      "torch.Size([64, 1, 18])\n",
      "torch.Size([64])\n",
      "torch.Size([64, 1, 18])\n",
      "torch.Size([64])\n",
      "torch.Size([64, 1, 18])\n",
      "torch.Size([64])\n",
      "torch.Size([64, 1, 18])\n",
      "torch.Size([64])\n",
      "torch.Size([64, 1, 18])\n",
      "torch.Size([64])\n",
      "torch.Size([64, 1, 18])\n",
      "torch.Size([64])\n",
      "torch.Size([64, 1, 18])\n",
      "torch.Size([64])\n",
      "torch.Size([64, 1, 18])\n",
      "torch.Size([64])\n",
      "torch.Size([64, 1, 18])\n",
      "torch.Size([64])\n",
      "torch.Size([64, 1, 18])\n",
      "torch.Size([64])\n"
     ]
    },
    {
     "name": "stderr",
     "output_type": "stream",
     "text": [
      "Epoch [2/5], loss_mean=2.531 :  14%|█▍        | 268/1898 [00:07<00:27, 59.04it/s]"
     ]
    },
    {
     "name": "stdout",
     "output_type": "stream",
     "text": [
      "torch.Size([64, 1, 18])\n",
      "torch.Size([64])\n",
      "torch.Size([64, 1, 18])\n",
      "torch.Size([64])\n",
      "torch.Size([64, 1, 18])\n",
      "torch.Size([64])\n",
      "torch.Size([64, 1, 18])\n",
      "torch.Size([64])\n",
      "torch.Size([64, 1, 18])\n",
      "torch.Size([64])\n",
      "torch.Size([64, 1, 18])\n",
      "torch.Size([64])\n",
      "torch.Size([64, 1, 18])\n",
      "torch.Size([64])\n",
      "torch.Size([64, 1, 18])\n",
      "torch.Size([64])\n",
      "torch.Size([64, 1, 18])\n",
      "torch.Size([64])\n",
      "torch.Size([64, 1, 18])\n",
      "torch.Size([64])\n",
      "torch.Size([64, 1, 18])\n",
      "torch.Size([64])\n",
      "torch.Size([64, 1, 18])\n",
      "torch.Size([64])\n",
      "torch.Size([64, 1, 18])\n",
      "torch.Size([64])\n",
      "torch.Size([64, 1, 18])\n",
      "torch.Size([64])\n",
      "torch.Size([64, 1, 18])\n",
      "torch.Size([64])\n",
      "torch.Size([64, 1, 18])\n",
      "torch.Size([64])\n",
      "torch.Size([64, 1, 18])\n",
      "torch.Size([64])\n"
     ]
    },
    {
     "name": "stderr",
     "output_type": "stream",
     "text": [
      "Epoch [2/5], loss_mean=2.532 :  15%|█▌        | 288/1898 [00:07<00:21, 75.90it/s]"
     ]
    },
    {
     "name": "stdout",
     "output_type": "stream",
     "text": [
      "torch.Size([64, 1, 18])\n",
      "torch.Size([64])\n",
      "torch.Size([64, 1, 18])\n",
      "torch.Size([64])\n",
      "torch.Size([64, 1, 18])\n",
      "torch.Size([64])\n",
      "torch.Size([64, 1, 18])\n",
      "torch.Size([64])\n",
      "torch.Size([64, 1, 18])\n",
      "torch.Size([64])\n",
      "torch.Size([64, 1, 18])\n",
      "torch.Size([64])\n",
      "torch.Size([64, 1, 18])\n",
      "torch.Size([64])\n",
      "torch.Size([64, 1, 18])\n",
      "torch.Size([64])\n",
      "torch.Size([64, 1, 18])\n",
      "torch.Size([64])\n",
      "torch.Size([64, 1, 18])\n",
      "torch.Size([64])\n",
      "torch.Size([64, 1, 18])\n",
      "torch.Size([64])\n",
      "torch.Size([64, 1, 18])\n",
      "torch.Size([64])\n",
      "torch.Size([64, 1, 18])\n",
      "torch.Size([64])\n",
      "torch.Size([64, 1, 18])\n",
      "torch.Size([64])\n",
      "torch.Size([64, 1, 18])\n",
      "torch.Size([64])\n",
      "torch.Size([64, 1, 18])\n",
      "torch.Size([64])\n",
      "torch.Size([64, 1, 18])\n",
      "torch.Size([64])\n",
      "torch.Size([64, 1, 18])\n",
      "torch.Size([64])\n",
      "torch.Size([64, 1, 18])\n",
      "torch.Size([64])\n"
     ]
    },
    {
     "name": "stderr",
     "output_type": "stream",
     "text": [
      "Epoch [2/5], loss_mean=2.532 :  16%|█▌        | 300/1898 [00:07<00:19, 83.85it/s]"
     ]
    },
    {
     "name": "stdout",
     "output_type": "stream",
     "text": [
      "torch.Size([64, 1, 18])\n",
      "torch.Size([64])\n",
      "torch.Size([64, 1, 18])\n",
      "torch.Size([64])\n",
      "torch.Size([64, 1, 18])\n",
      "torch.Size([64])\n",
      "torch.Size([64, 1, 18])\n",
      "torch.Size([64])\n",
      "torch.Size([64, 1, 18])\n",
      "torch.Size([64])\n",
      "torch.Size([64, 1, 18])\n",
      "torch.Size([64])\n",
      "torch.Size([64, 1, 18])\n",
      "torch.Size([64])\n",
      "torch.Size([64, 1, 18])\n",
      "torch.Size([64])\n",
      "torch.Size([64, 1, 18])\n",
      "torch.Size([64])\n",
      "torch.Size([64, 1, 18])\n",
      "torch.Size([64])\n",
      "torch.Size([64, 1, 18])\n",
      "torch.Size([64])\n",
      "torch.Size([64, 1, 18])\n",
      "torch.Size([64])\n",
      "torch.Size([64, 1, 18])\n",
      "torch.Size([64])\n",
      "torch.Size([64, 1, 18])\n",
      "torch.Size([64])\n",
      "torch.Size([64, 1, 18])\n",
      "torch.Size([64])\n",
      "torch.Size([64, 1, 18])\n",
      "torch.Size([64])\n",
      "torch.Size([64, 1, 18])\n",
      "torch.Size([64])\n",
      "torch.Size([64, 1, 18])\n",
      "torch.Size([64])\n",
      "torch.Size([64, 1, 18])\n",
      "torch.Size([64])\n"
     ]
    },
    {
     "name": "stderr",
     "output_type": "stream",
     "text": [
      "Epoch [2/5], loss_mean=2.532 :  17%|█▋        | 321/1898 [00:07<00:17, 87.97it/s]"
     ]
    },
    {
     "name": "stdout",
     "output_type": "stream",
     "text": [
      "torch.Size([64, 1, 18])\n",
      "torch.Size([64])\n",
      "torch.Size([64, 1, 18])\n",
      "torch.Size([64])\n",
      "torch.Size([64, 1, 18])\n",
      "torch.Size([64])\n",
      "torch.Size([64, 1, 18])\n",
      "torch.Size([64])\n",
      "torch.Size([64, 1, 18])\n",
      "torch.Size([64])\n",
      "torch.Size([64, 1, 18])\n",
      "torch.Size([64])\n",
      "torch.Size([64, 1, 18])\n",
      "torch.Size([64])\n",
      "torch.Size([64, 1, 18])\n",
      "torch.Size([64])\n",
      "torch.Size([64, 1, 18])\n",
      "torch.Size([64])\n",
      "torch.Size([64, 1, 18])\n",
      "torch.Size([64])\n",
      "torch.Size([64, 1, 18])\n",
      "torch.Size([64])\n",
      "torch.Size([64, 1, 18])\n",
      "torch.Size([64])\n",
      "torch.Size([64, 1, 18])\n",
      "torch.Size([64])\n",
      "torch.Size([64, 1, 18])\n",
      "torch.Size([64])\n",
      "torch.Size([64, 1, 18])\n",
      "torch.Size([64])\n"
     ]
    },
    {
     "name": "stderr",
     "output_type": "stream",
     "text": [
      "Epoch [2/5], loss_mean=2.532 :  17%|█▋        | 321/1898 [00:08<00:17, 87.97it/s]"
     ]
    },
    {
     "name": "stdout",
     "output_type": "stream",
     "text": [
      "torch.Size([64, 1, 18])\n",
      "torch.Size([64])\n",
      "torch.Size([64, 1, 18])\n",
      "torch.Size([64])\n",
      "torch.Size([64, 1, 18])\n",
      "torch.Size([64])\n"
     ]
    },
    {
     "name": "stderr",
     "output_type": "stream",
     "text": [
      "Epoch [2/5], loss_mean=2.532 :  17%|█▋        | 331/1898 [00:08<00:30, 51.12it/s]"
     ]
    },
    {
     "name": "stdout",
     "output_type": "stream",
     "text": [
      "torch.Size([64, 1, 18])\n",
      "torch.Size([64])\n",
      "torch.Size([64, 1, 18])\n",
      "torch.Size([64])\n",
      "torch.Size([64, 1, 18])\n",
      "torch.Size([64])\n",
      "torch.Size([64, 1, 18])\n",
      "torch.Size([64])\n",
      "torch.Size([64, 1, 18])\n",
      "torch.Size([64])\n",
      "torch.Size([64, 1, 18])\n",
      "torch.Size([64])\n",
      "torch.Size([64, 1, 18])\n",
      "torch.Size([64])\n",
      "torch.Size([64, 1, 18])\n",
      "torch.Size([64])\n",
      "torch.Size([64, 1, 18])\n",
      "torch.Size([64])\n",
      "torch.Size([64, 1, 18])\n",
      "torch.Size([64])\n",
      "torch.Size([64, 1, 18])\n",
      "torch.Size([64])\n",
      "torch.Size([64, 1, 18])\n",
      "torch.Size([64])\n",
      "torch.Size([64, 1, 18])\n",
      "torch.Size([64])\n",
      "torch.Size([64, 1, 18])\n",
      "torch.Size([64])\n",
      "torch.Size([64, 1, 18])\n",
      "torch.Size([64])\n"
     ]
    },
    {
     "name": "stderr",
     "output_type": "stream",
     "text": [
      "Epoch [2/5], loss_mean=2.532 :  18%|█▊        | 351/1898 [00:08<00:23, 64.83it/s]"
     ]
    },
    {
     "name": "stdout",
     "output_type": "stream",
     "text": [
      "torch.Size([64, 1, 18])\n",
      "torch.Size([64])\n",
      "torch.Size([64, 1, 18])\n",
      "torch.Size([64])\n",
      "torch.Size([64, 1, 18])\n",
      "torch.Size([64])\n",
      "torch.Size([64, 1, 18])\n",
      "torch.Size([64])\n",
      "torch.Size([64, 1, 18])\n",
      "torch.Size([64])\n",
      "torch.Size([64, 1, 18])\n",
      "torch.Size([64])\n",
      "torch.Size([64, 1, 18])\n",
      "torch.Size([64])\n",
      "torch.Size([64, 1, 18])\n",
      "torch.Size([64])\n",
      "torch.Size([64, 1, 18])\n",
      "torch.Size([64])\n",
      "torch.Size([64, 1, 18])\n",
      "torch.Size([64])\n",
      "torch.Size([64, 1, 18])\n",
      "torch.Size([64])\n",
      "torch.Size([64, 1, 18])\n",
      "torch.Size([64])\n",
      "torch.Size([64, 1, 18])\n",
      "torch.Size([64])\n",
      "torch.Size([64, 1, 18])\n",
      "torch.Size([64])\n",
      "torch.Size([64, 1, 18])\n",
      "torch.Size([64])\n",
      "torch.Size([64, 1, 18])\n",
      "torch.Size([64])\n",
      "torch.Size([64, 1, 18])\n",
      "torch.Size([64])\n",
      "torch.Size([64, 1, 18])\n",
      "torch.Size([64])\n"
     ]
    },
    {
     "name": "stderr",
     "output_type": "stream",
     "text": [
      "Epoch [2/5], loss_mean=2.532 :  19%|█▉        | 370/1898 [00:08<00:20, 74.20it/s]"
     ]
    },
    {
     "name": "stdout",
     "output_type": "stream",
     "text": [
      "torch.Size([64, 1, 18])\n",
      "torch.Size([64])\n",
      "torch.Size([64, 1, 18])\n",
      "torch.Size([64])\n",
      "torch.Size([64, 1, 18])\n",
      "torch.Size([64])\n",
      "torch.Size([64, 1, 18])\n",
      "torch.Size([64])\n",
      "torch.Size([64, 1, 18])\n",
      "torch.Size([64])\n",
      "torch.Size([64, 1, 18])\n",
      "torch.Size([64])\n",
      "torch.Size([64, 1, 18])\n",
      "torch.Size([64])\n",
      "torch.Size([64, 1, 18])\n",
      "torch.Size([64])\n",
      "torch.Size([64, 1, 18])\n",
      "torch.Size([64])\n",
      "torch.Size([64, 1, 18])\n",
      "torch.Size([64])\n",
      "torch.Size([64, 1, 18])\n",
      "torch.Size([64])\n",
      "torch.Size([64, 1, 18])\n",
      "torch.Size([64])\n",
      "torch.Size([64, 1, 18])\n",
      "torch.Size([64])\n",
      "torch.Size([64, 1, 18])\n",
      "torch.Size([64])\n",
      "torch.Size([64, 1, 18])\n",
      "torch.Size([64])\n"
     ]
    },
    {
     "name": "stderr",
     "output_type": "stream",
     "text": [
      "Epoch [2/5], loss_mean=2.532 :  20%|█▉        | 379/1898 [00:08<00:20, 74.85it/s]"
     ]
    },
    {
     "name": "stdout",
     "output_type": "stream",
     "text": [
      "torch.Size([64, 1, 18])\n",
      "torch.Size([64])\n",
      "torch.Size([64, 1, 18])\n",
      "torch.Size([64])\n",
      "torch.Size([64, 1, 18])\n",
      "torch.Size([64])\n",
      "torch.Size([64, 1, 18])\n",
      "torch.Size([64])\n",
      "torch.Size([64, 1, 18])\n",
      "torch.Size([64])\n",
      "torch.Size([64, 1, 18])\n",
      "torch.Size([64])\n",
      "torch.Size([64, 1, 18])\n",
      "torch.Size([64])\n",
      "torch.Size([64, 1, 18])\n",
      "torch.Size([64])\n",
      "torch.Size([64, 1, 18])\n",
      "torch.Size([64])\n",
      "torch.Size([64, 1, 18])\n",
      "torch.Size([64])\n",
      "torch.Size([64, 1, 18])\n",
      "torch.Size([64])\n",
      "torch.Size([64, 1, 18])\n",
      "torch.Size([64])\n",
      "torch.Size([64, 1, 18])\n",
      "torch.Size([64])\n"
     ]
    },
    {
     "name": "stderr",
     "output_type": "stream",
     "text": [
      "Epoch [2/5], loss_mean=2.532 :  21%|██        | 396/1898 [00:09<00:20, 74.35it/s]"
     ]
    },
    {
     "name": "stdout",
     "output_type": "stream",
     "text": [
      "torch.Size([64, 1, 18])\n",
      "torch.Size([64])\n",
      "torch.Size([64, 1, 18])\n",
      "torch.Size([64])\n",
      "torch.Size([64, 1, 18])\n",
      "torch.Size([64])\n",
      "torch.Size([64, 1, 18])\n",
      "torch.Size([64])\n",
      "torch.Size([64, 1, 18])\n",
      "torch.Size([64])\n",
      "torch.Size([64, 1, 18])\n",
      "torch.Size([64])\n",
      "torch.Size([64, 1, 18])\n",
      "torch.Size([64])\n",
      "torch.Size([64, 1, 18])\n",
      "torch.Size([64])\n",
      "torch.Size([64, 1, 18])\n",
      "torch.Size([64])\n",
      "torch.Size([64, 1, 18])\n",
      "torch.Size([64])\n",
      "torch.Size([64, 1, 18])\n",
      "torch.Size([64])\n",
      "torch.Size([64, 1, 18])\n",
      "torch.Size([64])\n",
      "torch.Size([64, 1, 18])\n",
      "torch.Size([64])\n",
      "torch.Size([64, 1, 18])\n",
      "torch.Size([64])\n"
     ]
    },
    {
     "name": "stderr",
     "output_type": "stream",
     "text": [
      "Epoch [2/5], loss_mean=2.532 :  21%|██▏       | 404/1898 [00:09<00:21, 71.00it/s]"
     ]
    },
    {
     "name": "stdout",
     "output_type": "stream",
     "text": [
      "torch.Size([64, 1, 18])\n",
      "torch.Size([64])\n",
      "torch.Size([64, 1, 18])\n",
      "torch.Size([64])\n",
      "torch.Size([64, 1, 18])\n",
      "torch.Size([64])\n",
      "torch.Size([64, 1, 18])\n",
      "torch.Size([64])\n",
      "torch.Size([64, 1, 18])\n",
      "torch.Size([64])\n",
      "torch.Size([64, 1, 18])\n",
      "torch.Size([64])\n",
      "torch.Size([64, 1, 18])\n",
      "torch.Size([64])\n",
      "torch.Size([64, 1, 18])\n",
      "torch.Size([64])\n",
      "torch.Size([64, 1, 18])\n",
      "torch.Size([64])\n"
     ]
    },
    {
     "name": "stderr",
     "output_type": "stream",
     "text": [
      "Epoch [2/5], loss_mean=2.532 :  22%|██▏       | 412/1898 [00:09<00:24, 61.08it/s]"
     ]
    },
    {
     "name": "stdout",
     "output_type": "stream",
     "text": [
      "torch.Size([64, 1, 18])\n",
      "torch.Size([64])\n",
      "torch.Size([64, 1, 18])\n",
      "torch.Size([64])\n",
      "torch.Size([64, 1, 18])\n",
      "torch.Size([64])\n",
      "torch.Size([64, 1, 18])\n",
      "torch.Size([64])\n",
      "torch.Size([64, 1, 18])\n",
      "torch.Size([64])\n"
     ]
    },
    {
     "name": "stderr",
     "output_type": "stream",
     "text": [
      "Epoch [2/5], loss_mean=2.532 :  22%|██▏       | 412/1898 [00:09<00:24, 61.08it/s]"
     ]
    },
    {
     "name": "stdout",
     "output_type": "stream",
     "text": [
      "torch.Size([64, 1, 18])\n",
      "torch.Size([64])\n",
      "torch.Size([64, 1, 18])\n",
      "torch.Size([64])\n",
      "torch.Size([64, 1, 18])\n",
      "torch.Size([64])\n"
     ]
    },
    {
     "name": "stderr",
     "output_type": "stream",
     "text": [
      "Epoch [2/5], loss_mean=2.532 :  22%|██▏       | 425/1898 [00:09<00:37, 39.54it/s]"
     ]
    },
    {
     "name": "stdout",
     "output_type": "stream",
     "text": [
      "torch.Size([64, 1, 18])\n",
      "torch.Size([64])\n",
      "torch.Size([64, 1, 18])\n",
      "torch.Size([64])\n",
      "torch.Size([64, 1, 18])\n",
      "torch.Size([64])\n",
      "torch.Size([64, 1, 18])\n",
      "torch.Size([64])\n",
      "torch.Size([64, 1, 18])\n",
      "torch.Size([64])\n",
      "torch.Size([64, 1, 18])\n",
      "torch.Size([64])\n",
      "torch.Size([64, 1, 18])\n",
      "torch.Size([64])\n",
      "torch.Size([64, 1, 18])\n",
      "torch.Size([64])\n",
      "torch.Size([64, 1, 18])\n",
      "torch.Size([64])\n",
      "torch.Size([64, 1, 18])\n",
      "torch.Size([64])\n",
      "torch.Size([64, 1, 18])\n",
      "torch.Size([64])\n",
      "torch.Size([64, 1, 18])\n",
      "torch.Size([64])\n"
     ]
    },
    {
     "name": "stderr",
     "output_type": "stream",
     "text": [
      "Epoch [2/5], loss_mean=2.532 :  23%|██▎       | 440/1898 [00:10<00:28, 51.79it/s]"
     ]
    },
    {
     "name": "stdout",
     "output_type": "stream",
     "text": [
      "torch.Size([64, 1, 18])\n",
      "torch.Size([64])\n",
      "torch.Size([64, 1, 18])\n",
      "torch.Size([64])\n",
      "torch.Size([64, 1, 18])\n",
      "torch.Size([64])\n",
      "torch.Size([64, 1, 18])\n",
      "torch.Size([64])\n",
      "torch.Size([64, 1, 18])\n",
      "torch.Size([64])\n",
      "torch.Size([64, 1, 18])\n",
      "torch.Size([64])\n",
      "torch.Size([64, 1, 18])\n",
      "torch.Size([64])\n",
      "torch.Size([64, 1, 18])\n",
      "torch.Size([64])\n",
      "torch.Size([64, 1, 18])\n",
      "torch.Size([64])\n",
      "torch.Size([64, 1, 18])\n",
      "torch.Size([64])\n",
      "torch.Size([64, 1, 18])\n",
      "torch.Size([64])\n",
      "torch.Size([64, 1, 18])\n",
      "torch.Size([64])\n"
     ]
    },
    {
     "name": "stderr",
     "output_type": "stream",
     "text": [
      "Epoch [2/5], loss_mean=2.532 :  24%|██▍       | 454/1898 [00:10<00:24, 58.77it/s]"
     ]
    },
    {
     "name": "stdout",
     "output_type": "stream",
     "text": [
      "torch.Size([64, 1, 18])\n",
      "torch.Size([64])\n",
      "torch.Size([64, 1, 18])\n",
      "torch.Size([64])\n",
      "torch.Size([64, 1, 18])\n",
      "torch.Size([64])\n",
      "torch.Size([64, 1, 18])\n",
      "torch.Size([64])\n",
      "torch.Size([64, 1, 18])\n",
      "torch.Size([64])\n",
      "torch.Size([64, 1, 18])\n",
      "torch.Size([64])\n",
      "torch.Size([64, 1, 18])\n",
      "torch.Size([64])\n",
      "torch.Size([64, 1, 18])\n",
      "torch.Size([64])\n",
      "torch.Size([64, 1, 18])\n",
      "torch.Size([64])\n",
      "torch.Size([64, 1, 18])\n",
      "torch.Size([64])\n",
      "torch.Size([64, 1, 18])\n",
      "torch.Size([64])\n",
      "torch.Size([64, 1, 18])\n",
      "torch.Size([64])\n",
      "torch.Size([64, 1, 18])\n",
      "torch.Size([64])\n",
      "torch.Size([64, 1, 18])\n",
      "torch.Size([64])\n"
     ]
    },
    {
     "name": "stderr",
     "output_type": "stream",
     "text": [
      "Epoch [2/5], loss_mean=2.532 :  24%|██▍       | 461/1898 [00:10<00:23, 60.23it/s]"
     ]
    },
    {
     "name": "stdout",
     "output_type": "stream",
     "text": [
      "torch.Size([64, 1, 18])\n",
      "torch.Size([64])\n",
      "torch.Size([64, 1, 18])\n",
      "torch.Size([64])\n",
      "torch.Size([64, 1, 18])\n",
      "torch.Size([64])\n",
      "torch.Size([64, 1, 18])\n",
      "torch.Size([64])\n",
      "torch.Size([64, 1, 18])\n",
      "torch.Size([64])\n",
      "torch.Size([64, 1, 18])\n",
      "torch.Size([64])\n",
      "torch.Size([64, 1, 18])\n",
      "torch.Size([64])\n",
      "torch.Size([64, 1, 18])\n",
      "torch.Size([64])\n",
      "torch.Size([64, 1, 18])\n",
      "torch.Size([64])\n",
      "torch.Size([64, 1, 18])\n",
      "torch.Size([64])\n",
      "torch.Size([64, 1, 18])\n",
      "torch.Size([64])\n",
      "torch.Size([64, 1, 18])\n",
      "torch.Size([64])\n"
     ]
    },
    {
     "name": "stderr",
     "output_type": "stream",
     "text": [
      "Epoch [2/5], loss_mean=2.532 :  25%|██▌       | 476/1898 [00:10<00:21, 64.79it/s]"
     ]
    },
    {
     "name": "stdout",
     "output_type": "stream",
     "text": [
      "torch.Size([64, 1, 18])\n",
      "torch.Size([64])\n",
      "torch.Size([64, 1, 18])\n",
      "torch.Size([64])\n",
      "torch.Size([64, 1, 18])\n",
      "torch.Size([64])\n",
      "torch.Size([64, 1, 18])\n",
      "torch.Size([64])\n",
      "torch.Size([64, 1, 18])\n",
      "torch.Size([64])\n",
      "torch.Size([64, 1, 18])\n",
      "torch.Size([64])\n",
      "torch.Size([64, 1, 18])\n",
      "torch.Size([64])\n",
      "torch.Size([64, 1, 18])\n",
      "torch.Size([64])\n",
      "torch.Size([64, 1, 18])\n",
      "torch.Size([64])\n",
      "torch.Size([64, 1, 18])\n",
      "torch.Size([64])\n",
      "torch.Size([64, 1, 18])\n",
      "torch.Size([64])\n",
      "torch.Size([64, 1, 18])\n",
      "torch.Size([64])\n",
      "torch.Size([64, 1, 18])\n",
      "torch.Size([64])\n",
      "torch.Size([64, 1, 18])\n",
      "torch.Size([64])\n",
      "torch.Size([64, 1, 18])\n",
      "torch.Size([64])\n"
     ]
    },
    {
     "name": "stderr",
     "output_type": "stream",
     "text": [
      "Epoch [2/5], loss_mean=2.532 :  26%|██▌       | 494/1898 [00:10<00:18, 76.11it/s]"
     ]
    },
    {
     "name": "stdout",
     "output_type": "stream",
     "text": [
      "torch.Size([64, 1, 18])\n",
      "torch.Size([64])\n",
      "torch.Size([64, 1, 18])\n",
      "torch.Size([64])\n",
      "torch.Size([64, 1, 18])\n",
      "torch.Size([64])\n",
      "torch.Size([64, 1, 18])\n",
      "torch.Size([64])\n",
      "torch.Size([64, 1, 18])\n",
      "torch.Size([64])\n",
      "torch.Size([64, 1, 18])\n",
      "torch.Size([64])\n",
      "torch.Size([64, 1, 18])\n",
      "torch.Size([64])\n",
      "torch.Size([64, 1, 18])\n",
      "torch.Size([64])\n",
      "torch.Size([64, 1, 18])\n",
      "torch.Size([64])\n",
      "torch.Size([64, 1, 18])\n",
      "torch.Size([64])\n",
      "torch.Size([64, 1, 18])\n",
      "torch.Size([64])\n",
      "torch.Size([64, 1, 18])\n",
      "torch.Size([64])\n",
      "torch.Size([64, 1, 18])\n",
      "torch.Size([64])\n",
      "torch.Size([64, 1, 18])\n",
      "torch.Size([64])\n",
      "torch.Size([64, 1, 18])\n",
      "torch.Size([64])\n",
      "torch.Size([64, 1, 18])\n",
      "torch.Size([64])\n",
      "torch.Size([64, 1, 18])\n",
      "torch.Size([64])\n"
     ]
    },
    {
     "name": "stderr",
     "output_type": "stream",
     "text": [
      "Epoch [2/5], loss_mean=2.532 :  27%|██▋       | 514/1898 [00:10<00:16, 84.88it/s]"
     ]
    },
    {
     "name": "stdout",
     "output_type": "stream",
     "text": [
      "torch.Size([64, 1, 18])\n",
      "torch.Size([64])\n",
      "torch.Size([64, 1, 18])\n",
      "torch.Size([64])\n",
      "torch.Size([64, 1, 18])\n",
      "torch.Size([64])\n",
      "torch.Size([64, 1, 18])\n",
      "torch.Size([64])\n",
      "torch.Size([64, 1, 18])\n",
      "torch.Size([64])\n",
      "torch.Size([64, 1, 18])\n",
      "torch.Size([64])\n",
      "torch.Size([64, 1, 18])\n",
      "torch.Size([64])\n",
      "torch.Size([64, 1, 18])\n",
      "torch.Size([64])\n",
      "torch.Size([64, 1, 18])\n",
      "torch.Size([64])\n",
      "torch.Size([64, 1, 18])\n",
      "torch.Size([64])\n",
      "torch.Size([64, 1, 18])\n",
      "torch.Size([64])\n",
      "torch.Size([64, 1, 18])\n",
      "torch.Size([64])\n",
      "torch.Size([64, 1, 18])\n",
      "torch.Size([64])\n",
      "torch.Size([64, 1, 18])\n",
      "torch.Size([64])\n",
      "torch.Size([64, 1, 18])\n",
      "torch.Size([64])\n",
      "torch.Size([64, 1, 18])\n",
      "torch.Size([64])\n",
      "torch.Size([64, 1, 18])\n",
      "torch.Size([64])\n",
      "torch.Size([64, 1, 18])\n",
      "torch.Size([64])\n"
     ]
    },
    {
     "name": "stderr",
     "output_type": "stream",
     "text": [
      "Epoch [2/5], loss_mean=2.531 :  28%|██▊       | 536/1898 [00:11<00:14, 93.34it/s]"
     ]
    },
    {
     "name": "stdout",
     "output_type": "stream",
     "text": [
      "torch.Size([64, 1, 18])\n",
      "torch.Size([64])\n",
      "torch.Size([64, 1, 18])\n",
      "torch.Size([64])\n",
      "torch.Size([64, 1, 18])\n",
      "torch.Size([64])\n",
      "torch.Size([64, 1, 18])\n",
      "torch.Size([64])\n",
      "torch.Size([64, 1, 18])\n",
      "torch.Size([64])\n",
      "torch.Size([64, 1, 18])\n",
      "torch.Size([64])\n",
      "torch.Size([64, 1, 18])\n",
      "torch.Size([64])\n",
      "torch.Size([64, 1, 18])\n",
      "torch.Size([64])\n",
      "torch.Size([64, 1, 18])\n",
      "torch.Size([64])\n",
      "torch.Size([64, 1, 18])\n",
      "torch.Size([64])\n",
      "torch.Size([64, 1, 18])\n",
      "torch.Size([64])\n",
      "torch.Size([64, 1, 18])\n",
      "torch.Size([64])\n",
      "torch.Size([64, 1, 18])\n",
      "torch.Size([64])\n",
      "torch.Size([64, 1, 18])\n",
      "torch.Size([64])\n",
      "torch.Size([64, 1, 18])\n",
      "torch.Size([64])\n",
      "torch.Size([64, 1, 18])\n",
      "torch.Size([64])\n",
      "torch.Size([64, 1, 18])\n",
      "torch.Size([64])\n",
      "torch.Size([64, 1, 18])\n",
      "torch.Size([64])\n",
      "torch.Size([64, 1, 18])\n",
      "torch.Size([64])\n",
      "torch.Size([64, 1, 18])\n",
      "torch.Size([64])\n"
     ]
    },
    {
     "name": "stderr",
     "output_type": "stream",
     "text": [
      "Epoch [2/5], loss_mean=2.532 :  29%|██▉       | 556/1898 [00:11<00:14, 94.06it/s]"
     ]
    },
    {
     "name": "stdout",
     "output_type": "stream",
     "text": [
      "torch.Size([64, 1, 18])\n",
      "torch.Size([64])\n",
      "torch.Size([64, 1, 18])\n",
      "torch.Size([64])\n",
      "torch.Size([64, 1, 18])\n",
      "torch.Size([64])\n",
      "torch.Size([64, 1, 18])\n",
      "torch.Size([64])\n",
      "torch.Size([64, 1, 18])\n",
      "torch.Size([64])\n",
      "torch.Size([64, 1, 18])\n",
      "torch.Size([64])\n",
      "torch.Size([64, 1, 18])\n",
      "torch.Size([64])\n",
      "torch.Size([64, 1, 18])\n",
      "torch.Size([64])\n",
      "torch.Size([64, 1, 18])\n",
      "torch.Size([64])\n",
      "torch.Size([64, 1, 18])\n",
      "torch.Size([64])\n",
      "torch.Size([64, 1, 18])\n",
      "torch.Size([64])\n",
      "torch.Size([64, 1, 18])\n",
      "torch.Size([64])\n",
      "torch.Size([64, 1, 18])\n",
      "torch.Size([64])\n",
      "torch.Size([64, 1, 18])\n",
      "torch.Size([64])\n",
      "torch.Size([64, 1, 18])\n",
      "torch.Size([64])\n",
      "torch.Size([64, 1, 18])\n",
      "torch.Size([64])\n",
      "torch.Size([64, 1, 18])\n",
      "torch.Size([64])\n"
     ]
    },
    {
     "name": "stderr",
     "output_type": "stream",
     "text": [
      "Epoch [2/5], loss_mean=2.531 :  30%|██▉       | 566/1898 [00:11<00:14, 93.27it/s]"
     ]
    },
    {
     "name": "stdout",
     "output_type": "stream",
     "text": [
      "torch.Size([64, 1, 18])\n",
      "torch.Size([64])\n",
      "torch.Size([64, 1, 18])\n",
      "torch.Size([64])\n",
      "torch.Size([64, 1, 18])\n",
      "torch.Size([64])\n",
      "torch.Size([64, 1, 18])\n",
      "torch.Size([64])\n",
      "torch.Size([64, 1, 18])\n",
      "torch.Size([64])\n",
      "torch.Size([64, 1, 18])\n",
      "torch.Size([64])\n",
      "torch.Size([64, 1, 18])\n",
      "torch.Size([64])\n",
      "torch.Size([64, 1, 18])\n",
      "torch.Size([64])\n",
      "torch.Size([64, 1, 18])\n",
      "torch.Size([64])\n",
      "torch.Size([64, 1, 18])\n",
      "torch.Size([64])\n",
      "torch.Size([64, 1, 18])\n",
      "torch.Size([64])\n",
      "torch.Size([64, 1, 18])\n",
      "torch.Size([64])\n",
      "torch.Size([64, 1, 18])\n",
      "torch.Size([64])\n",
      "torch.Size([64, 1, 18])\n",
      "torch.Size([64])\n",
      "torch.Size([64, 1, 18])\n",
      "torch.Size([64])\n",
      "torch.Size([64, 1, 18])\n",
      "torch.Size([64])\n",
      "torch.Size([64, 1, 18])\n",
      "torch.Size([64])\n"
     ]
    },
    {
     "name": "stderr",
     "output_type": "stream",
     "text": [
      "Epoch [2/5], loss_mean=2.532 :  31%|███       | 587/1898 [00:11<00:14, 93.25it/s]"
     ]
    },
    {
     "name": "stdout",
     "output_type": "stream",
     "text": [
      "torch.Size([64, 1, 18])\n",
      "torch.Size([64])\n",
      "torch.Size([64, 1, 18])\n",
      "torch.Size([64])\n",
      "torch.Size([64, 1, 18])\n",
      "torch.Size([64])\n",
      "torch.Size([64, 1, 18])\n",
      "torch.Size([64])\n",
      "torch.Size([64, 1, 18])\n",
      "torch.Size([64])\n",
      "torch.Size([64, 1, 18])\n",
      "torch.Size([64])\n",
      "torch.Size([64, 1, 18])\n",
      "torch.Size([64])\n",
      "torch.Size([64, 1, 18])\n",
      "torch.Size([64])\n",
      "torch.Size([64, 1, 18])\n",
      "torch.Size([64])\n",
      "torch.Size([64, 1, 18])\n",
      "torch.Size([64])\n",
      "torch.Size([64, 1, 18])\n",
      "torch.Size([64])\n",
      "torch.Size([64, 1, 18])\n",
      "torch.Size([64])\n",
      "torch.Size([64, 1, 18])\n",
      "torch.Size([64])\n",
      "torch.Size([64, 1, 18])\n",
      "torch.Size([64])\n",
      "torch.Size([64, 1, 18])\n",
      "torch.Size([64])\n",
      "torch.Size([64, 1, 18])\n",
      "torch.Size([64])\n",
      "torch.Size([64, 1, 18])\n",
      "torch.Size([64])\n",
      "torch.Size([64, 1, 18])\n",
      "torch.Size([64])\n",
      "torch.Size([64, 1, 18])\n",
      "torch.Size([64])\n"
     ]
    },
    {
     "name": "stderr",
     "output_type": "stream",
     "text": [
      "Epoch [2/5], loss_mean=2.532 :  32%|███▏      | 607/1898 [00:11<00:13, 92.66it/s]"
     ]
    },
    {
     "name": "stdout",
     "output_type": "stream",
     "text": [
      "torch.Size([64, 1, 18])\n",
      "torch.Size([64])\n",
      "torch.Size([64, 1, 18])\n",
      "torch.Size([64])\n",
      "torch.Size([64, 1, 18])\n",
      "torch.Size([64])\n",
      "torch.Size([64, 1, 18])\n",
      "torch.Size([64])\n",
      "torch.Size([64, 1, 18])\n",
      "torch.Size([64])\n",
      "torch.Size([64, 1, 18])\n",
      "torch.Size([64])\n",
      "torch.Size([64, 1, 18])\n",
      "torch.Size([64])\n",
      "torch.Size([64, 1, 18])\n",
      "torch.Size([64])\n",
      "torch.Size([64, 1, 18])\n",
      "torch.Size([64])\n",
      "torch.Size([64, 1, 18])\n",
      "torch.Size([64])\n",
      "torch.Size([64, 1, 18])\n",
      "torch.Size([64])\n",
      "torch.Size([64, 1, 18])\n",
      "torch.Size([64])\n",
      "torch.Size([64, 1, 18])\n",
      "torch.Size([64])\n",
      "torch.Size([64, 1, 18])\n",
      "torch.Size([64])\n",
      "torch.Size([64, 1, 18])\n",
      "torch.Size([64])\n",
      "torch.Size([64, 1, 18])\n",
      "torch.Size([64])\n"
     ]
    },
    {
     "name": "stderr",
     "output_type": "stream",
     "text": [
      "Epoch [2/5], loss_mean=2.532 :  33%|███▎      | 618/1898 [00:12<00:13, 93.47it/s]"
     ]
    },
    {
     "name": "stdout",
     "output_type": "stream",
     "text": [
      "torch.Size([64, 1, 18])\n",
      "torch.Size([64])\n",
      "torch.Size([64, 1, 18])\n",
      "torch.Size([64])\n",
      "torch.Size([64, 1, 18])\n",
      "torch.Size([64])\n",
      "torch.Size([64, 1, 18])\n",
      "torch.Size([64])\n",
      "torch.Size([64, 1, 18])\n",
      "torch.Size([64])\n",
      "torch.Size([64, 1, 18])\n",
      "torch.Size([64])\n",
      "torch.Size([64, 1, 18])\n",
      "torch.Size([64])\n",
      "torch.Size([64, 1, 18])\n",
      "torch.Size([64])\n",
      "torch.Size([64, 1, 18])\n",
      "torch.Size([64])\n",
      "torch.Size([64, 1, 18])\n",
      "torch.Size([64])\n",
      "torch.Size([64, 1, 18])\n",
      "torch.Size([64])\n",
      "torch.Size([64, 1, 18])\n",
      "torch.Size([64])\n",
      "torch.Size([64, 1, 18])\n",
      "torch.Size([64])\n",
      "torch.Size([64, 1, 18])\n",
      "torch.Size([64])\n",
      "torch.Size([64, 1, 18])\n",
      "torch.Size([64])\n",
      "torch.Size([64, 1, 18])\n",
      "torch.Size([64])\n",
      "torch.Size([64, 1, 18])\n",
      "torch.Size([64])\n",
      "torch.Size([64, 1, 18])\n",
      "torch.Size([64])\n"
     ]
    },
    {
     "name": "stderr",
     "output_type": "stream",
     "text": [
      "Epoch [2/5], loss_mean=2.531 :  34%|███▎      | 639/1898 [00:12<00:13, 96.46it/s]"
     ]
    },
    {
     "name": "stdout",
     "output_type": "stream",
     "text": [
      "torch.Size([64, 1, 18])\n",
      "torch.Size([64])\n",
      "torch.Size([64, 1, 18])\n",
      "torch.Size([64])\n",
      "torch.Size([64, 1, 18])\n",
      "torch.Size([64])\n",
      "torch.Size([64, 1, 18])\n",
      "torch.Size([64])\n",
      "torch.Size([64, 1, 18])\n",
      "torch.Size([64])\n",
      "torch.Size([64, 1, 18])\n",
      "torch.Size([64])\n",
      "torch.Size([64, 1, 18])\n",
      "torch.Size([64])\n",
      "torch.Size([64, 1, 18])\n",
      "torch.Size([64])\n",
      "torch.Size([64, 1, 18])\n",
      "torch.Size([64])\n",
      "torch.Size([64, 1, 18])\n",
      "torch.Size([64])\n",
      "torch.Size([64, 1, 18])\n",
      "torch.Size([64])\n",
      "torch.Size([64, 1, 18])\n",
      "torch.Size([64])\n",
      "torch.Size([64, 1, 18])\n",
      "torch.Size([64])\n",
      "torch.Size([64, 1, 18])\n",
      "torch.Size([64])\n",
      "torch.Size([64, 1, 18])\n",
      "torch.Size([64])\n",
      "torch.Size([64, 1, 18])\n",
      "torch.Size([64])\n",
      "torch.Size([64, 1, 18])\n",
      "torch.Size([64])\n"
     ]
    },
    {
     "name": "stderr",
     "output_type": "stream",
     "text": [
      "Epoch [2/5], loss_mean=2.531 :  34%|███▎      | 639/1898 [00:12<00:13, 96.46it/s]"
     ]
    },
    {
     "name": "stdout",
     "output_type": "stream",
     "text": [
      "torch.Size([64, 1, 18])\n",
      "torch.Size([64])\n",
      "torch.Size([64, 1, 18])\n",
      "torch.Size([64])\n",
      "torch.Size([64, 1, 18])\n",
      "torch.Size([64])\n",
      "torch.Size([64, 1, 18])\n",
      "torch.Size([64])\n",
      "torch.Size([64, 1, 18])\n",
      "torch.Size([64])\n"
     ]
    },
    {
     "name": "stderr",
     "output_type": "stream",
     "text": [
      "Epoch [2/5], loss_mean=2.531 :  34%|███▍      | 649/1898 [00:12<00:24, 51.13it/s]"
     ]
    },
    {
     "name": "stdout",
     "output_type": "stream",
     "text": [
      "torch.Size([64, 1, 18])\n",
      "torch.Size([64])\n",
      "torch.Size([64, 1, 18])\n",
      "torch.Size([64])\n",
      "torch.Size([64, 1, 18])\n",
      "torch.Size([64])\n",
      "torch.Size([64, 1, 18])\n",
      "torch.Size([64])\n"
     ]
    },
    {
     "name": "stderr",
     "output_type": "stream",
     "text": [
      "Epoch [2/5], loss_mean=2.531 :  35%|███▍      | 664/1898 [00:12<00:23, 53.28it/s]"
     ]
    },
    {
     "name": "stdout",
     "output_type": "stream",
     "text": [
      "torch.Size([64, 1, 18])\n",
      "torch.Size([64])\n",
      "torch.Size([64, 1, 18])\n",
      "torch.Size([64])\n",
      "torch.Size([64, 1, 18])\n",
      "torch.Size([64])\n",
      "torch.Size([64, 1, 18])\n",
      "torch.Size([64])\n",
      "torch.Size([64, 1, 18])\n",
      "torch.Size([64])\n",
      "torch.Size([64, 1, 18])\n",
      "torch.Size([64])\n",
      "torch.Size([64, 1, 18])\n",
      "torch.Size([64])\n",
      "torch.Size([64, 1, 18])\n",
      "torch.Size([64])\n",
      "torch.Size([64, 1, 18])\n",
      "torch.Size([64])\n",
      "torch.Size([64, 1, 18])\n",
      "torch.Size([64])\n",
      "torch.Size([64, 1, 18])\n",
      "torch.Size([64])\n",
      "torch.Size([64, 1, 18])\n",
      "torch.Size([64])\n"
     ]
    },
    {
     "name": "stderr",
     "output_type": "stream",
     "text": [
      "Epoch [2/5], loss_mean=2.531 :  36%|███▌      | 674/1898 [00:13<00:19, 61.22it/s]"
     ]
    },
    {
     "name": "stdout",
     "output_type": "stream",
     "text": [
      "torch.Size([64, 1, 18])\n",
      "torch.Size([64])\n",
      "torch.Size([64, 1, 18])\n",
      "torch.Size([64])\n",
      "torch.Size([64, 1, 18])\n",
      "torch.Size([64])\n",
      "torch.Size([64, 1, 18])\n",
      "torch.Size([64])\n",
      "torch.Size([64, 1, 18])\n",
      "torch.Size([64])\n",
      "torch.Size([64, 1, 18])\n",
      "torch.Size([64])\n",
      "torch.Size([64, 1, 18])\n",
      "torch.Size([64])\n",
      "torch.Size([64, 1, 18])\n",
      "torch.Size([64])\n",
      "torch.Size([64, 1, 18])\n",
      "torch.Size([64])\n",
      "torch.Size([64, 1, 18])\n",
      "torch.Size([64])\n",
      "torch.Size([64, 1, 18])\n",
      "torch.Size([64])\n",
      "torch.Size([64, 1, 18])\n",
      "torch.Size([64])\n",
      "torch.Size([64, 1, 18])\n",
      "torch.Size([64])\n",
      "torch.Size([64, 1, 18])\n",
      "torch.Size([64])\n",
      "torch.Size([64, 1, 18])\n",
      "torch.Size([64])\n",
      "torch.Size([64, 1, 18])\n",
      "torch.Size([64])\n",
      "torch.Size([64, 1, 18])\n",
      "torch.Size([64])\n",
      "torch.Size([64, 1, 18])\n",
      "torch.Size([64])\n",
      "torch.Size([64, 1, 18])\n",
      "torch.Size([64])\n"
     ]
    },
    {
     "name": "stderr",
     "output_type": "stream",
     "text": [
      "Epoch [2/5], loss_mean=2.531 :  37%|███▋      | 696/1898 [00:13<00:15, 78.86it/s]"
     ]
    },
    {
     "name": "stdout",
     "output_type": "stream",
     "text": [
      "torch.Size([64, 1, 18])\n",
      "torch.Size([64])\n",
      "torch.Size([64, 1, 18])\n",
      "torch.Size([64])\n",
      "torch.Size([64, 1, 18])\n",
      "torch.Size([64])\n",
      "torch.Size([64, 1, 18])\n",
      "torch.Size([64])\n",
      "torch.Size([64, 1, 18])\n",
      "torch.Size([64])\n",
      "torch.Size([64, 1, 18])\n",
      "torch.Size([64])\n",
      "torch.Size([64, 1, 18])\n",
      "torch.Size([64])\n",
      "torch.Size([64, 1, 18])\n",
      "torch.Size([64])\n",
      "torch.Size([64, 1, 18])\n",
      "torch.Size([64])\n",
      "torch.Size([64, 1, 18])\n",
      "torch.Size([64])\n",
      "torch.Size([64, 1, 18])\n",
      "torch.Size([64])\n",
      "torch.Size([64, 1, 18])\n",
      "torch.Size([64])\n",
      "torch.Size([64, 1, 18])\n",
      "torch.Size([64])\n",
      "torch.Size([64, 1, 18])\n",
      "torch.Size([64])\n",
      "torch.Size([64, 1, 18])\n",
      "torch.Size([64])\n",
      "torch.Size([64, 1, 18])\n",
      "torch.Size([64])\n",
      "torch.Size([64, 1, 18])\n",
      "torch.Size([64])\n",
      "torch.Size([64, 1, 18])\n",
      "torch.Size([64])\n",
      "torch.Size([64, 1, 18])\n",
      "torch.Size([64])\n",
      "torch.Size([64, 1, 18])\n",
      "torch.Size([64])\n",
      "torch.Size([64, 1, 18])\n",
      "torch.Size([64])\n"
     ]
    },
    {
     "name": "stderr",
     "output_type": "stream",
     "text": [
      "Epoch [2/5], loss_mean=2.531 :  38%|███▊      | 716/1898 [00:13<00:13, 85.85it/s]"
     ]
    },
    {
     "name": "stdout",
     "output_type": "stream",
     "text": [
      "torch.Size([64, 1, 18])\n",
      "torch.Size([64])\n",
      "torch.Size([64, 1, 18])\n",
      "torch.Size([64])\n",
      "torch.Size([64, 1, 18])\n",
      "torch.Size([64])\n",
      "torch.Size([64, 1, 18])\n",
      "torch.Size([64])\n",
      "torch.Size([64, 1, 18])\n",
      "torch.Size([64])\n",
      "torch.Size([64, 1, 18])\n",
      "torch.Size([64])\n",
      "torch.Size([64, 1, 18])\n",
      "torch.Size([64])\n",
      "torch.Size([64, 1, 18])\n",
      "torch.Size([64])\n",
      "torch.Size([64, 1, 18])\n",
      "torch.Size([64])\n",
      "torch.Size([64, 1, 18])\n",
      "torch.Size([64])\n",
      "torch.Size([64, 1, 18])\n",
      "torch.Size([64])\n",
      "torch.Size([64, 1, 18])\n",
      "torch.Size([64])\n",
      "torch.Size([64, 1, 18])\n",
      "torch.Size([64])\n",
      "torch.Size([64, 1, 18])\n",
      "torch.Size([64])\n",
      "torch.Size([64, 1, 18])\n",
      "torch.Size([64])\n",
      "torch.Size([64, 1, 18])\n",
      "torch.Size([64])\n",
      "torch.Size([64, 1, 18])\n",
      "torch.Size([64])\n"
     ]
    },
    {
     "name": "stderr",
     "output_type": "stream",
     "text": [
      "Epoch [2/5], loss_mean=2.531 :  39%|███▉      | 736/1898 [00:13<00:13, 86.61it/s]"
     ]
    },
    {
     "name": "stdout",
     "output_type": "stream",
     "text": [
      "torch.Size([64, 1, 18])\n",
      "torch.Size([64])\n",
      "torch.Size([64, 1, 18])\n",
      "torch.Size([64])\n",
      "torch.Size([64, 1, 18])\n",
      "torch.Size([64])\n",
      "torch.Size([64, 1, 18])\n",
      "torch.Size([64])\n",
      "torch.Size([64, 1, 18])\n",
      "torch.Size([64])\n",
      "torch.Size([64, 1, 18])\n",
      "torch.Size([64])\n",
      "torch.Size([64, 1, 18])\n",
      "torch.Size([64])\n",
      "torch.Size([64, 1, 18])\n",
      "torch.Size([64])\n",
      "torch.Size([64, 1, 18])\n",
      "torch.Size([64])\n",
      "torch.Size([64, 1, 18])\n",
      "torch.Size([64])\n",
      "torch.Size([64, 1, 18])\n",
      "torch.Size([64])\n",
      "torch.Size([64, 1, 18])\n",
      "torch.Size([64])\n",
      "torch.Size([64, 1, 18])\n",
      "torch.Size([64])\n",
      "torch.Size([64, 1, 18])\n",
      "torch.Size([64])\n",
      "torch.Size([64, 1, 18])\n",
      "torch.Size([64])\n",
      "torch.Size([64, 1, 18])\n",
      "torch.Size([64])\n"
     ]
    },
    {
     "name": "stderr",
     "output_type": "stream",
     "text": [
      "Epoch [2/5], loss_mean=2.531 :  39%|███▉      | 745/1898 [00:13<00:13, 86.39it/s]"
     ]
    },
    {
     "name": "stdout",
     "output_type": "stream",
     "text": [
      "torch.Size([64, 1, 18])\n",
      "torch.Size([64])\n",
      "torch.Size([64, 1, 18])\n",
      "torch.Size([64])\n",
      "torch.Size([64, 1, 18])\n",
      "torch.Size([64])\n",
      "torch.Size([64, 1, 18])\n",
      "torch.Size([64])\n",
      "torch.Size([64, 1, 18])\n",
      "torch.Size([64])\n",
      "torch.Size([64, 1, 18])\n",
      "torch.Size([64])\n",
      "torch.Size([64, 1, 18])\n",
      "torch.Size([64])\n",
      "torch.Size([64, 1, 18])\n",
      "torch.Size([64])\n",
      "torch.Size([64, 1, 18])\n",
      "torch.Size([64])\n",
      "torch.Size([64, 1, 18])\n",
      "torch.Size([64])\n",
      "torch.Size([64, 1, 18])\n",
      "torch.Size([64])\n",
      "torch.Size([64, 1, 18])\n",
      "torch.Size([64])\n",
      "torch.Size([64, 1, 18])\n",
      "torch.Size([64])\n",
      "torch.Size([64, 1, 18])\n",
      "torch.Size([64])\n",
      "torch.Size([64, 1, 18])\n",
      "torch.Size([64])\n",
      "torch.Size([64, 1, 18])\n",
      "torch.Size([64])\n",
      "torch.Size([64, 1, 18])\n",
      "torch.Size([64])\n"
     ]
    },
    {
     "name": "stderr",
     "output_type": "stream",
     "text": [
      "Epoch [2/5], loss_mean=2.531 :  40%|████      | 764/1898 [00:14<00:13, 86.26it/s]"
     ]
    },
    {
     "name": "stdout",
     "output_type": "stream",
     "text": [
      "torch.Size([64, 1, 18])\n",
      "torch.Size([64])\n",
      "torch.Size([64, 1, 18])\n",
      "torch.Size([64])\n",
      "torch.Size([64, 1, 18])\n",
      "torch.Size([64])\n",
      "torch.Size([64, 1, 18])\n",
      "torch.Size([64])\n",
      "torch.Size([64, 1, 18])\n",
      "torch.Size([64])\n",
      "torch.Size([64, 1, 18])\n",
      "torch.Size([64])\n",
      "torch.Size([64, 1, 18])\n",
      "torch.Size([64])\n",
      "torch.Size([64, 1, 18])\n",
      "torch.Size([64])\n",
      "torch.Size([64, 1, 18])\n",
      "torch.Size([64])\n",
      "torch.Size([64, 1, 18])\n",
      "torch.Size([64])\n",
      "torch.Size([64, 1, 18])\n",
      "torch.Size([64])\n",
      "torch.Size([64, 1, 18])\n",
      "torch.Size([64])\n",
      "torch.Size([64, 1, 18])\n",
      "torch.Size([64])\n",
      "torch.Size([64, 1, 18])\n",
      "torch.Size([64])\n",
      "torch.Size([64, 1, 18])\n",
      "torch.Size([64])\n"
     ]
    },
    {
     "name": "stderr",
     "output_type": "stream",
     "text": [
      "Epoch [2/5], loss_mean=2.532 :  41%|████      | 782/1898 [00:14<00:13, 84.33it/s]"
     ]
    },
    {
     "name": "stdout",
     "output_type": "stream",
     "text": [
      "torch.Size([64, 1, 18])\n",
      "torch.Size([64])\n",
      "torch.Size([64, 1, 18])\n",
      "torch.Size([64])\n",
      "torch.Size([64, 1, 18])\n",
      "torch.Size([64])\n",
      "torch.Size([64, 1, 18])\n",
      "torch.Size([64])\n",
      "torch.Size([64, 1, 18])\n",
      "torch.Size([64])\n",
      "torch.Size([64, 1, 18])\n",
      "torch.Size([64])\n",
      "torch.Size([64, 1, 18])\n",
      "torch.Size([64])\n",
      "torch.Size([64, 1, 18])\n",
      "torch.Size([64])\n",
      "torch.Size([64, 1, 18])\n",
      "torch.Size([64])\n",
      "torch.Size([64, 1, 18])\n",
      "torch.Size([64])\n",
      "torch.Size([64, 1, 18])\n",
      "torch.Size([64])\n",
      "torch.Size([64, 1, 18])\n",
      "torch.Size([64])\n",
      "torch.Size([64, 1, 18])\n",
      "torch.Size([64])\n",
      "torch.Size([64, 1, 18])\n",
      "torch.Size([64])\n",
      "torch.Size([64, 1, 18])\n",
      "torch.Size([64])\n",
      "torch.Size([64, 1, 18])\n",
      "torch.Size([64])\n"
     ]
    },
    {
     "name": "stderr",
     "output_type": "stream",
     "text": [
      "Epoch [2/5], loss_mean=2.532 :  42%|████▏     | 791/1898 [00:14<00:13, 81.89it/s]"
     ]
    },
    {
     "name": "stdout",
     "output_type": "stream",
     "text": [
      "torch.Size([64, 1, 18])\n",
      "torch.Size([64])\n",
      "torch.Size([64, 1, 18])\n",
      "torch.Size([64])\n",
      "torch.Size([64, 1, 18])\n",
      "torch.Size([64])\n",
      "torch.Size([64, 1, 18])\n",
      "torch.Size([64])\n",
      "torch.Size([64, 1, 18])\n",
      "torch.Size([64])\n",
      "torch.Size([64, 1, 18])\n",
      "torch.Size([64])\n",
      "torch.Size([64, 1, 18])\n",
      "torch.Size([64])\n",
      "torch.Size([64, 1, 18])\n",
      "torch.Size([64])\n",
      "torch.Size([64, 1, 18])\n",
      "torch.Size([64])\n",
      "torch.Size([64, 1, 18])\n",
      "torch.Size([64])\n",
      "torch.Size([64, 1, 18])\n",
      "torch.Size([64])\n",
      "torch.Size([64, 1, 18])\n",
      "torch.Size([64])\n",
      "torch.Size([64, 1, 18])\n",
      "torch.Size([64])\n",
      "torch.Size([64, 1, 18])\n",
      "torch.Size([64])\n",
      "torch.Size([64, 1, 18])\n",
      "torch.Size([64])\n",
      "torch.Size([64, 1, 18])\n",
      "torch.Size([64])\n",
      "torch.Size([64, 1, 18])\n",
      "torch.Size([64])\n"
     ]
    },
    {
     "name": "stderr",
     "output_type": "stream",
     "text": [
      "Epoch [2/5], loss_mean=2.532 :  43%|████▎     | 811/1898 [00:14<00:12, 88.87it/s]"
     ]
    },
    {
     "name": "stdout",
     "output_type": "stream",
     "text": [
      "torch.Size([64, 1, 18])\n",
      "torch.Size([64])\n",
      "torch.Size([64, 1, 18])\n",
      "torch.Size([64])\n",
      "torch.Size([64, 1, 18])\n",
      "torch.Size([64])\n",
      "torch.Size([64, 1, 18])\n",
      "torch.Size([64])\n",
      "torch.Size([64, 1, 18])\n",
      "torch.Size([64])\n",
      "torch.Size([64, 1, 18])\n",
      "torch.Size([64])\n",
      "torch.Size([64, 1, 18])\n",
      "torch.Size([64])\n",
      "torch.Size([64, 1, 18])\n",
      "torch.Size([64])\n",
      "torch.Size([64, 1, 18])\n",
      "torch.Size([64])\n",
      "torch.Size([64, 1, 18])\n",
      "torch.Size([64])\n",
      "torch.Size([64, 1, 18])\n",
      "torch.Size([64])\n",
      "torch.Size([64, 1, 18])\n",
      "torch.Size([64])\n",
      "torch.Size([64, 1, 18])\n",
      "torch.Size([64])\n",
      "torch.Size([64, 1, 18])\n",
      "torch.Size([64])\n",
      "torch.Size([64, 1, 18])\n",
      "torch.Size([64])\n",
      "torch.Size([64, 1, 18])\n",
      "torch.Size([64])\n",
      "torch.Size([64, 1, 18])\n",
      "torch.Size([64])\n",
      "torch.Size([64, 1, 18])\n",
      "torch.Size([64])\n"
     ]
    },
    {
     "name": "stderr",
     "output_type": "stream",
     "text": [
      "Epoch [2/5], loss_mean=2.532 :  43%|████▎     | 822/1898 [00:14<00:11, 92.82it/s]"
     ]
    },
    {
     "name": "stdout",
     "output_type": "stream",
     "text": [
      "torch.Size([64, 1, 18])\n",
      "torch.Size([64])\n",
      "torch.Size([64, 1, 18])\n",
      "torch.Size([64])\n",
      "torch.Size([64, 1, 18])\n",
      "torch.Size([64])\n",
      "torch.Size([64, 1, 18])\n",
      "torch.Size([64])\n",
      "torch.Size([64, 1, 18])\n",
      "torch.Size([64])\n",
      "torch.Size([64, 1, 18])\n",
      "torch.Size([64])\n",
      "torch.Size([64, 1, 18])\n",
      "torch.Size([64])\n"
     ]
    },
    {
     "name": "stderr",
     "output_type": "stream",
     "text": [
      "Epoch [2/5], loss_mean=2.532 :  44%|████▍     | 832/1898 [00:15<00:18, 57.06it/s]"
     ]
    },
    {
     "name": "stdout",
     "output_type": "stream",
     "text": [
      "torch.Size([64, 1, 18])\n",
      "torch.Size([64])\n",
      "torch.Size([64, 1, 18])\n",
      "torch.Size([64])\n",
      "torch.Size([64, 1, 18])\n",
      "torch.Size([64])\n",
      "torch.Size([64, 1, 18])\n",
      "torch.Size([64])\n",
      "torch.Size([64, 1, 18])\n",
      "torch.Size([64])\n",
      "torch.Size([64, 1, 18])\n",
      "torch.Size([64])\n",
      "torch.Size([64, 1, 18])\n",
      "torch.Size([64])\n",
      "torch.Size([64, 1, 18])\n",
      "torch.Size([64])\n",
      "torch.Size([64, 1, 18])\n",
      "torch.Size([64])\n",
      "torch.Size([64, 1, 18])\n",
      "torch.Size([64])\n",
      "torch.Size([64, 1, 18])\n",
      "torch.Size([64])\n",
      "torch.Size([64, 1, 18])\n",
      "torch.Size([64])\n"
     ]
    },
    {
     "name": "stderr",
     "output_type": "stream",
     "text": [
      "Epoch [2/5], loss_mean=2.532 :  45%|████▍     | 850/1898 [00:15<00:15, 69.52it/s]"
     ]
    },
    {
     "name": "stdout",
     "output_type": "stream",
     "text": [
      "torch.Size([64, 1, 18])\n",
      "torch.Size([64])\n",
      "torch.Size([64, 1, 18])\n",
      "torch.Size([64])\n",
      "torch.Size([64, 1, 18])\n",
      "torch.Size([64])\n",
      "torch.Size([64, 1, 18])\n",
      "torch.Size([64])\n",
      "torch.Size([64, 1, 18])\n",
      "torch.Size([64])\n",
      "torch.Size([64, 1, 18])\n",
      "torch.Size([64])\n",
      "torch.Size([64, 1, 18])\n",
      "torch.Size([64])\n",
      "torch.Size([64, 1, 18])\n",
      "torch.Size([64])\n",
      "torch.Size([64, 1, 18])\n",
      "torch.Size([64])\n",
      "torch.Size([64, 1, 18])\n",
      "torch.Size([64])\n",
      "torch.Size([64, 1, 18])\n",
      "torch.Size([64])\n",
      "torch.Size([64, 1, 18])\n",
      "torch.Size([64])\n",
      "torch.Size([64, 1, 18])\n",
      "torch.Size([64])\n",
      "torch.Size([64, 1, 18])\n",
      "torch.Size([64])\n",
      "torch.Size([64, 1, 18])\n",
      "torch.Size([64])\n",
      "torch.Size([64, 1, 18])\n",
      "torch.Size([64])\n",
      "torch.Size([64, 1, 18])\n",
      "torch.Size([64])\n"
     ]
    },
    {
     "name": "stderr",
     "output_type": "stream",
     "text": [
      "Epoch [2/5], loss_mean=2.532 :  46%|████▌     | 869/1898 [00:15<00:13, 76.21it/s]"
     ]
    },
    {
     "name": "stdout",
     "output_type": "stream",
     "text": [
      "torch.Size([64, 1, 18])\n",
      "torch.Size([64])\n",
      "torch.Size([64, 1, 18])\n",
      "torch.Size([64])\n",
      "torch.Size([64, 1, 18])\n",
      "torch.Size([64])\n",
      "torch.Size([64, 1, 18])\n",
      "torch.Size([64])\n",
      "torch.Size([64, 1, 18])\n",
      "torch.Size([64])\n",
      "torch.Size([64, 1, 18])\n",
      "torch.Size([64])\n",
      "torch.Size([64, 1, 18])\n",
      "torch.Size([64])\n",
      "torch.Size([64, 1, 18])\n",
      "torch.Size([64])\n",
      "torch.Size([64, 1, 18])\n",
      "torch.Size([64])\n",
      "torch.Size([64, 1, 18])\n",
      "torch.Size([64])\n",
      "torch.Size([64, 1, 18])\n",
      "torch.Size([64])\n",
      "torch.Size([64, 1, 18])\n",
      "torch.Size([64])\n",
      "torch.Size([64, 1, 18])\n",
      "torch.Size([64])\n",
      "torch.Size([64, 1, 18])\n",
      "torch.Size([64])\n",
      "torch.Size([64, 1, 18])\n",
      "torch.Size([64])\n",
      "torch.Size([64, 1, 18])\n",
      "torch.Size([64])\n"
     ]
    },
    {
     "name": "stderr",
     "output_type": "stream",
     "text": [
      "Epoch [2/5], loss_mean=2.532 :  46%|████▋     | 879/1898 [00:15<00:12, 82.25it/s]"
     ]
    },
    {
     "name": "stdout",
     "output_type": "stream",
     "text": [
      "torch.Size([64, 1, 18])\n",
      "torch.Size([64])\n",
      "torch.Size([64, 1, 18])\n",
      "torch.Size([64])\n",
      "torch.Size([64, 1, 18])\n",
      "torch.Size([64])\n",
      "torch.Size([64, 1, 18])\n",
      "torch.Size([64])\n",
      "torch.Size([64, 1, 18])\n",
      "torch.Size([64])\n",
      "torch.Size([64, 1, 18])\n",
      "torch.Size([64])\n",
      "torch.Size([64, 1, 18])\n",
      "torch.Size([64])\n",
      "torch.Size([64, 1, 18])\n",
      "torch.Size([64])\n",
      "torch.Size([64, 1, 18])\n",
      "torch.Size([64])\n",
      "torch.Size([64, 1, 18])\n",
      "torch.Size([64])\n",
      "torch.Size([64, 1, 18])\n",
      "torch.Size([64])\n",
      "torch.Size([64, 1, 18])\n",
      "torch.Size([64])\n",
      "torch.Size([64, 1, 18])\n",
      "torch.Size([64])\n",
      "torch.Size([64, 1, 18])\n",
      "torch.Size([64])\n",
      "torch.Size([64, 1, 18])\n",
      "torch.Size([64])\n",
      "torch.Size([64, 1, 18])\n",
      "torch.Size([64])\n",
      "torch.Size([64, 1, 18])\n",
      "torch.Size([64])\n",
      "torch.Size([64, 1, 18])\n",
      "torch.Size([64])\n"
     ]
    },
    {
     "name": "stderr",
     "output_type": "stream",
     "text": [
      "Epoch [2/5], loss_mean=2.532 :  47%|████▋     | 900/1898 [00:15<00:11, 85.31it/s]"
     ]
    },
    {
     "name": "stdout",
     "output_type": "stream",
     "text": [
      "torch.Size([64, 1, 18])\n",
      "torch.Size([64])\n",
      "torch.Size([64, 1, 18])\n",
      "torch.Size([64])\n",
      "torch.Size([64, 1, 18])\n",
      "torch.Size([64])\n",
      "torch.Size([64, 1, 18])\n",
      "torch.Size([64])\n",
      "torch.Size([64, 1, 18])\n",
      "torch.Size([64])\n",
      "torch.Size([64, 1, 18])\n",
      "torch.Size([64])\n",
      "torch.Size([64, 1, 18])\n",
      "torch.Size([64])\n",
      "torch.Size([64, 1, 18])\n",
      "torch.Size([64])\n",
      "torch.Size([64, 1, 18])\n",
      "torch.Size([64])\n",
      "torch.Size([64, 1, 18])\n",
      "torch.Size([64])\n",
      "torch.Size([64, 1, 18])\n",
      "torch.Size([64])\n",
      "torch.Size([64, 1, 18])\n",
      "torch.Size([64])\n",
      "torch.Size([64, 1, 18])\n",
      "torch.Size([64])\n",
      "torch.Size([64, 1, 18])\n",
      "torch.Size([64])\n",
      "torch.Size([64, 1, 18])\n",
      "torch.Size([64])\n",
      "torch.Size([64, 1, 18])\n",
      "torch.Size([64])\n",
      "torch.Size([64, 1, 18])\n",
      "torch.Size([64])\n"
     ]
    },
    {
     "name": "stderr",
     "output_type": "stream",
     "text": [
      "Epoch [2/5], loss_mean=2.532 :  48%|████▊     | 918/1898 [00:16<00:11, 83.31it/s]"
     ]
    },
    {
     "name": "stdout",
     "output_type": "stream",
     "text": [
      "torch.Size([64, 1, 18])\n",
      "torch.Size([64])\n",
      "torch.Size([64, 1, 18])\n",
      "torch.Size([64])\n",
      "torch.Size([64, 1, 18])\n",
      "torch.Size([64])\n",
      "torch.Size([64, 1, 18])\n",
      "torch.Size([64])\n",
      "torch.Size([64, 1, 18])\n",
      "torch.Size([64])\n",
      "torch.Size([64, 1, 18])\n",
      "torch.Size([64])\n",
      "torch.Size([64, 1, 18])\n",
      "torch.Size([64])\n",
      "torch.Size([64, 1, 18])\n",
      "torch.Size([64])\n",
      "torch.Size([64, 1, 18])\n",
      "torch.Size([64])\n",
      "torch.Size([64, 1, 18])\n",
      "torch.Size([64])\n",
      "torch.Size([64, 1, 18])\n",
      "torch.Size([64])\n",
      "torch.Size([64, 1, 18])\n",
      "torch.Size([64])\n",
      "torch.Size([64, 1, 18])\n",
      "torch.Size([64])\n",
      "torch.Size([64, 1, 18])\n",
      "torch.Size([64])\n"
     ]
    },
    {
     "name": "stderr",
     "output_type": "stream",
     "text": [
      "Epoch [2/5], loss_mean=2.532 :  49%|████▉     | 927/1898 [00:16<00:12, 79.44it/s]"
     ]
    },
    {
     "name": "stdout",
     "output_type": "stream",
     "text": [
      "torch.Size([64, 1, 18])\n",
      "torch.Size([64])\n",
      "torch.Size([64, 1, 18])\n",
      "torch.Size([64])\n",
      "torch.Size([64, 1, 18])\n",
      "torch.Size([64])\n",
      "torch.Size([64, 1, 18])\n",
      "torch.Size([64])\n",
      "torch.Size([64, 1, 18])\n",
      "torch.Size([64])\n",
      "torch.Size([64, 1, 18])\n",
      "torch.Size([64])\n",
      "torch.Size([64, 1, 18])\n",
      "torch.Size([64])\n",
      "torch.Size([64, 1, 18])\n",
      "torch.Size([64])\n",
      "torch.Size([64, 1, 18])\n",
      "torch.Size([64])\n",
      "torch.Size([64, 1, 18])\n",
      "torch.Size([64])\n",
      "torch.Size([64, 1, 18])\n",
      "torch.Size([64])\n",
      "torch.Size([64, 1, 18])\n",
      "torch.Size([64])\n",
      "torch.Size([64, 1, 18])\n",
      "torch.Size([64])\n",
      "torch.Size([64, 1, 18])\n",
      "torch.Size([64])\n"
     ]
    },
    {
     "name": "stderr",
     "output_type": "stream",
     "text": [
      "Epoch [2/5], loss_mean=2.532 :  50%|████▉     | 944/1898 [00:16<00:13, 70.28it/s]"
     ]
    },
    {
     "name": "stdout",
     "output_type": "stream",
     "text": [
      "torch.Size([64, 1, 18])\n",
      "torch.Size([64])\n",
      "torch.Size([64, 1, 18])\n",
      "torch.Size([64])\n",
      "torch.Size([64, 1, 18])\n",
      "torch.Size([64])\n",
      "torch.Size([64, 1, 18])\n",
      "torch.Size([64])\n",
      "torch.Size([64, 1, 18])\n",
      "torch.Size([64])\n",
      "torch.Size([64, 1, 18])\n",
      "torch.Size([64])\n",
      "torch.Size([64, 1, 18])\n",
      "torch.Size([64])\n",
      "torch.Size([64, 1, 18])\n",
      "torch.Size([64])\n",
      "torch.Size([64, 1, 18])\n",
      "torch.Size([64])\n",
      "torch.Size([64, 1, 18])\n",
      "torch.Size([64])\n"
     ]
    },
    {
     "name": "stderr",
     "output_type": "stream",
     "text": [
      "Epoch [2/5], loss_mean=2.532 :  50%|█████     | 953/1898 [00:16<00:12, 74.95it/s]"
     ]
    },
    {
     "name": "stdout",
     "output_type": "stream",
     "text": [
      "torch.Size([64, 1, 18])\n",
      "torch.Size([64])\n",
      "torch.Size([64, 1, 18])\n",
      "torch.Size([64])\n",
      "torch.Size([64, 1, 18])\n",
      "torch.Size([64])\n",
      "torch.Size([64, 1, 18])\n",
      "torch.Size([64])\n",
      "torch.Size([64, 1, 18])\n",
      "torch.Size([64])\n",
      "torch.Size([64, 1, 18])\n",
      "torch.Size([64])\n",
      "torch.Size([64, 1, 18])\n",
      "torch.Size([64])\n",
      "torch.Size([64, 1, 18])\n",
      "torch.Size([64])\n",
      "torch.Size([64, 1, 18])\n",
      "torch.Size([64])\n",
      "torch.Size([64, 1, 18])\n",
      "torch.Size([64])\n",
      "torch.Size([64, 1, 18])\n",
      "torch.Size([64])\n",
      "torch.Size([64, 1, 18])\n",
      "torch.Size([64])\n",
      "torch.Size([64, 1, 18])\n",
      "torch.Size([64])\n",
      "torch.Size([64, 1, 18])\n",
      "torch.Size([64])\n",
      "torch.Size([64, 1, 18])\n",
      "torch.Size([64])\n",
      "torch.Size([64, 1, 18])\n",
      "torch.Size([64])\n"
     ]
    },
    {
     "name": "stderr",
     "output_type": "stream",
     "text": [
      "Epoch [2/5], loss_mean=2.532 :  51%|█████     | 970/1898 [00:16<00:12, 73.95it/s]"
     ]
    },
    {
     "name": "stdout",
     "output_type": "stream",
     "text": [
      "torch.Size([64, 1, 18])\n",
      "torch.Size([64])\n",
      "torch.Size([64, 1, 18])\n",
      "torch.Size([64])\n",
      "torch.Size([64, 1, 18])\n",
      "torch.Size([64])\n",
      "torch.Size([64, 1, 18])\n",
      "torch.Size([64])\n",
      "torch.Size([64, 1, 18])\n",
      "torch.Size([64])\n",
      "torch.Size([64, 1, 18])\n",
      "torch.Size([64])\n",
      "torch.Size([64, 1, 18])\n",
      "torch.Size([64])\n",
      "torch.Size([64, 1, 18])\n",
      "torch.Size([64])\n",
      "torch.Size([64, 1, 18])\n",
      "torch.Size([64])\n",
      "torch.Size([64, 1, 18])\n",
      "torch.Size([64])\n",
      "torch.Size([64, 1, 18])\n",
      "torch.Size([64])\n",
      "torch.Size([64, 1, 18])\n",
      "torch.Size([64])\n",
      "torch.Size([64, 1, 18])\n",
      "torch.Size([64])\n",
      "torch.Size([64, 1, 18])\n",
      "torch.Size([64])\n"
     ]
    },
    {
     "name": "stderr",
     "output_type": "stream",
     "text": [
      "Epoch [2/5], loss_mean=2.532 :  52%|█████▏    | 989/1898 [00:16<00:11, 81.37it/s]"
     ]
    },
    {
     "name": "stdout",
     "output_type": "stream",
     "text": [
      "torch.Size([64, 1, 18])\n",
      "torch.Size([64])\n",
      "torch.Size([64, 1, 18])\n",
      "torch.Size([64])\n",
      "torch.Size([64, 1, 18])\n",
      "torch.Size([64])\n",
      "torch.Size([64, 1, 18])\n",
      "torch.Size([64])\n",
      "torch.Size([64, 1, 18])\n",
      "torch.Size([64])\n",
      "torch.Size([64, 1, 18])\n",
      "torch.Size([64])\n",
      "torch.Size([64, 1, 18])\n",
      "torch.Size([64])\n",
      "torch.Size([64, 1, 18])\n",
      "torch.Size([64])\n",
      "torch.Size([64, 1, 18])\n",
      "torch.Size([64])\n",
      "torch.Size([64, 1, 18])\n",
      "torch.Size([64])\n",
      "torch.Size([64, 1, 18])\n",
      "torch.Size([64])\n",
      "torch.Size([64, 1, 18])\n",
      "torch.Size([64])\n",
      "torch.Size([64, 1, 18])\n",
      "torch.Size([64])\n",
      "torch.Size([64, 1, 18])\n",
      "torch.Size([64])\n",
      "torch.Size([64, 1, 18])\n",
      "torch.Size([64])\n",
      "torch.Size([64, 1, 18])\n",
      "torch.Size([64])\n",
      "torch.Size([64, 1, 18])\n",
      "torch.Size([64])\n"
     ]
    },
    {
     "name": "stderr",
     "output_type": "stream",
     "text": [
      "Epoch [2/5], loss_mean=2.532 :  53%|█████▎    | 999/1898 [00:17<00:10, 84.15it/s]"
     ]
    },
    {
     "name": "stdout",
     "output_type": "stream",
     "text": [
      "torch.Size([64, 1, 18])\n",
      "torch.Size([64])\n",
      "torch.Size([64, 1, 18])\n",
      "torch.Size([64])\n",
      "torch.Size([64, 1, 18])\n",
      "torch.Size([64])\n",
      "torch.Size([64, 1, 18])\n",
      "torch.Size([64])\n",
      "torch.Size([64, 1, 18])\n",
      "torch.Size([64])\n",
      "torch.Size([64, 1, 18])\n",
      "torch.Size([64])\n",
      "torch.Size([64, 1, 18])\n",
      "torch.Size([64])\n",
      "torch.Size([64, 1, 18])\n",
      "torch.Size([64])\n",
      "torch.Size([64, 1, 18])\n",
      "torch.Size([64])\n",
      "torch.Size([64, 1, 18])\n",
      "torch.Size([64])\n",
      "torch.Size([64, 1, 18])\n",
      "torch.Size([64])\n",
      "torch.Size([64, 1, 18])\n",
      "torch.Size([64])\n",
      "torch.Size([64, 1, 18])\n",
      "torch.Size([64])\n",
      "torch.Size([64, 1, 18])\n",
      "torch.Size([64])\n",
      "torch.Size([64, 1, 18])\n",
      "torch.Size([64])\n",
      "torch.Size([64, 1, 18])\n",
      "torch.Size([64])\n",
      "torch.Size([64, 1, 18])\n",
      "torch.Size([64])\n",
      "torch.Size([64, 1, 18])\n",
      "torch.Size([64])\n",
      "torch.Size([64, 1, 18])\n",
      "torch.Size([64])\n"
     ]
    },
    {
     "name": "stderr",
     "output_type": "stream",
     "text": [
      "Epoch [2/5], loss_mean=2.532 :  54%|█████▍    | 1021/1898 [00:17<00:09, 93.29it/s]"
     ]
    },
    {
     "name": "stdout",
     "output_type": "stream",
     "text": [
      "torch.Size([64, 1, 18])\n",
      "torch.Size([64])\n",
      "torch.Size([64, 1, 18])\n",
      "torch.Size([64])\n",
      "torch.Size([64, 1, 18])\n",
      "torch.Size([64])\n",
      "torch.Size([64, 1, 18])\n",
      "torch.Size([64])\n",
      "torch.Size([64, 1, 18])\n",
      "torch.Size([64])\n",
      "torch.Size([64, 1, 18])\n",
      "torch.Size([64])\n",
      "torch.Size([64, 1, 18])\n",
      "torch.Size([64])\n",
      "torch.Size([64, 1, 18])\n",
      "torch.Size([64])\n",
      "torch.Size([64, 1, 18])\n",
      "torch.Size([64])\n",
      "torch.Size([64, 1, 18])\n",
      "torch.Size([64])\n",
      "torch.Size([64, 1, 18])\n",
      "torch.Size([64])\n",
      "torch.Size([64, 1, 18])\n",
      "torch.Size([64])\n",
      "torch.Size([64, 1, 18])\n",
      "torch.Size([64])\n",
      "torch.Size([64, 1, 18])\n",
      "torch.Size([64])\n",
      "torch.Size([64, 1, 18])\n",
      "torch.Size([64])\n",
      "torch.Size([64, 1, 18])\n",
      "torch.Size([64])\n",
      "torch.Size([64, 1, 18])\n",
      "torch.Size([64])\n",
      "torch.Size([64, 1, 18])\n",
      "torch.Size([64])\n",
      "torch.Size([64, 1, 18])\n",
      "torch.Size([64])\n"
     ]
    },
    {
     "name": "stderr",
     "output_type": "stream",
     "text": [
      "Epoch [2/5], loss_mean=2.532 :  54%|█████▍    | 1031/1898 [00:17<00:10, 83.06it/s]"
     ]
    },
    {
     "name": "stdout",
     "output_type": "stream",
     "text": [
      "torch.Size([64, 1, 18])\n",
      "torch.Size([64])\n",
      "torch.Size([64, 1, 18])\n",
      "torch.Size([64])\n"
     ]
    },
    {
     "name": "stderr",
     "output_type": "stream",
     "text": [
      "Epoch [2/5], loss_mean=2.532 :  55%|█████▍    | 1040/1898 [00:17<00:14, 57.48it/s]"
     ]
    },
    {
     "name": "stdout",
     "output_type": "stream",
     "text": [
      "torch.Size([64, 1, 18])\n",
      "torch.Size([64])\n",
      "torch.Size([64, 1, 18])\n",
      "torch.Size([64])\n",
      "torch.Size([64, 1, 18])\n",
      "torch.Size([64])\n",
      "torch.Size([64, 1, 18])\n",
      "torch.Size([64])\n",
      "torch.Size([64, 1, 18])\n",
      "torch.Size([64])\n",
      "torch.Size([64, 1, 18])\n",
      "torch.Size([64])\n",
      "torch.Size([64, 1, 18])\n",
      "torch.Size([64])\n",
      "torch.Size([64, 1, 18])\n",
      "torch.Size([64])\n",
      "torch.Size([64, 1, 18])\n",
      "torch.Size([64])\n",
      "torch.Size([64, 1, 18])\n",
      "torch.Size([64])\n"
     ]
    },
    {
     "name": "stderr",
     "output_type": "stream",
     "text": [
      "Epoch [2/5], loss_mean=2.532 :  55%|█████▌    | 1049/1898 [00:17<00:13, 63.02it/s]"
     ]
    },
    {
     "name": "stdout",
     "output_type": "stream",
     "text": [
      "torch.Size([64, 1, 18])\n",
      "torch.Size([64])\n",
      "torch.Size([64, 1, 18])\n",
      "torch.Size([64])\n",
      "torch.Size([64, 1, 18])\n",
      "torch.Size([64])\n",
      "torch.Size([64, 1, 18])\n",
      "torch.Size([64])\n",
      "torch.Size([64, 1, 18])\n",
      "torch.Size([64])\n",
      "torch.Size([64, 1, 18])\n",
      "torch.Size([64])\n",
      "torch.Size([64, 1, 18])\n",
      "torch.Size([64])\n",
      "torch.Size([64, 1, 18])\n",
      "torch.Size([64])\n",
      "torch.Size([64, 1, 18])\n",
      "torch.Size([64])\n",
      "torch.Size([64, 1, 18])\n",
      "torch.Size([64])\n",
      "torch.Size([64, 1, 18])\n",
      "torch.Size([64])\n",
      "torch.Size([64, 1, 18])\n",
      "torch.Size([64])\n",
      "torch.Size([64, 1, 18])\n",
      "torch.Size([64])\n",
      "torch.Size([64, 1, 18])\n",
      "torch.Size([64])\n",
      "torch.Size([64, 1, 18])\n",
      "torch.Size([64])\n",
      "torch.Size([64, 1, 18])\n",
      "torch.Size([64])\n",
      "torch.Size([64, 1, 18])\n",
      "torch.Size([64])\n",
      "torch.Size([64, 1, 18])\n",
      "torch.Size([64])\n"
     ]
    },
    {
     "name": "stderr",
     "output_type": "stream",
     "text": [
      "Epoch [2/5], loss_mean=2.532 :  56%|█████▋    | 1069/1898 [00:18<00:11, 72.71it/s]"
     ]
    },
    {
     "name": "stdout",
     "output_type": "stream",
     "text": [
      "torch.Size([64, 1, 18])\n",
      "torch.Size([64])\n",
      "torch.Size([64, 1, 18])\n",
      "torch.Size([64])\n",
      "torch.Size([64, 1, 18])\n",
      "torch.Size([64])\n",
      "torch.Size([64, 1, 18])\n",
      "torch.Size([64])\n",
      "torch.Size([64, 1, 18])\n",
      "torch.Size([64])\n",
      "torch.Size([64, 1, 18])\n",
      "torch.Size([64])\n",
      "torch.Size([64, 1, 18])\n",
      "torch.Size([64])\n",
      "torch.Size([64, 1, 18])\n",
      "torch.Size([64])\n",
      "torch.Size([64, 1, 18])\n",
      "torch.Size([64])\n",
      "torch.Size([64, 1, 18])\n",
      "torch.Size([64])\n",
      "torch.Size([64, 1, 18])\n",
      "torch.Size([64])\n",
      "torch.Size([64, 1, 18])\n",
      "torch.Size([64])\n",
      "torch.Size([64, 1, 18])\n",
      "torch.Size([64])\n",
      "torch.Size([64, 1, 18])\n",
      "torch.Size([64])\n"
     ]
    },
    {
     "name": "stderr",
     "output_type": "stream",
     "text": [
      "Epoch [2/5], loss_mean=2.532 :  57%|█████▋    | 1077/1898 [00:18<00:13, 62.43it/s]"
     ]
    },
    {
     "name": "stdout",
     "output_type": "stream",
     "text": [
      "torch.Size([64, 1, 18])\n",
      "torch.Size([64])\n",
      "torch.Size([64, 1, 18])\n",
      "torch.Size([64])\n",
      "torch.Size([64, 1, 18])\n",
      "torch.Size([64])\n",
      "torch.Size([64, 1, 18])\n",
      "torch.Size([64])\n"
     ]
    },
    {
     "name": "stderr",
     "output_type": "stream",
     "text": [
      "Epoch [2/5], loss_mean=2.532 :  57%|█████▋    | 1084/1898 [00:18<00:16, 48.83it/s]"
     ]
    },
    {
     "name": "stdout",
     "output_type": "stream",
     "text": [
      "torch.Size([64, 1, 18])\n",
      "torch.Size([64])\n",
      "torch.Size([64, 1, 18])\n",
      "torch.Size([64])\n",
      "torch.Size([64, 1, 18])\n",
      "torch.Size([64])\n",
      "torch.Size([64, 1, 18])\n",
      "torch.Size([64])\n",
      "torch.Size([64, 1, 18])\n",
      "torch.Size([64])\n",
      "torch.Size([64, 1, 18])\n",
      "torch.Size([64])\n",
      "torch.Size([64, 1, 18])\n",
      "torch.Size([64])\n",
      "torch.Size([64, 1, 18])\n",
      "torch.Size([64])\n",
      "torch.Size([64, 1, 18])\n",
      "torch.Size([64])\n",
      "torch.Size([64, 1, 18])\n",
      "torch.Size([64])\n",
      "torch.Size([64, 1, 18])\n",
      "torch.Size([64])\n",
      "torch.Size([64, 1, 18])\n",
      "torch.Size([64])\n",
      "torch.Size([64, 1, 18])\n",
      "torch.Size([64])\n",
      "torch.Size([64, 1, 18])\n",
      "torch.Size([64])\n",
      "torch.Size([64, 1, 18])\n",
      "torch.Size([64])\n"
     ]
    },
    {
     "name": "stderr",
     "output_type": "stream",
     "text": [
      "Epoch [2/5], loss_mean=2.532 :  58%|█████▊    | 1105/1898 [00:18<00:11, 68.55it/s]"
     ]
    },
    {
     "name": "stdout",
     "output_type": "stream",
     "text": [
      "torch.Size([64, 1, 18])\n",
      "torch.Size([64])\n",
      "torch.Size([64, 1, 18])\n",
      "torch.Size([64])\n",
      "torch.Size([64, 1, 18])\n",
      "torch.Size([64])\n",
      "torch.Size([64, 1, 18])\n",
      "torch.Size([64])\n",
      "torch.Size([64, 1, 18])\n",
      "torch.Size([64])\n",
      "torch.Size([64, 1, 18])\n",
      "torch.Size([64])\n",
      "torch.Size([64, 1, 18])\n",
      "torch.Size([64])\n",
      "torch.Size([64, 1, 18])\n",
      "torch.Size([64])\n",
      "torch.Size([64, 1, 18])\n",
      "torch.Size([64])\n",
      "torch.Size([64, 1, 18])\n",
      "torch.Size([64])\n",
      "torch.Size([64, 1, 18])\n",
      "torch.Size([64])\n",
      "torch.Size([64, 1, 18])\n",
      "torch.Size([64])\n",
      "torch.Size([64, 1, 18])\n",
      "torch.Size([64])\n",
      "torch.Size([64, 1, 18])\n",
      "torch.Size([64])\n",
      "torch.Size([64, 1, 18])\n",
      "torch.Size([64])\n",
      "torch.Size([64, 1, 18])\n",
      "torch.Size([64])\n",
      "torch.Size([64, 1, 18])\n",
      "torch.Size([64])\n",
      "torch.Size([64, 1, 18])\n",
      "torch.Size([64])\n"
     ]
    },
    {
     "name": "stderr",
     "output_type": "stream",
     "text": [
      "Epoch [2/5], loss_mean=2.532 :  59%|█████▉    | 1125/1898 [00:18<00:09, 79.22it/s]"
     ]
    },
    {
     "name": "stdout",
     "output_type": "stream",
     "text": [
      "torch.Size([64, 1, 18])\n",
      "torch.Size([64])\n",
      "torch.Size([64, 1, 18])\n",
      "torch.Size([64])\n",
      "torch.Size([64, 1, 18])\n",
      "torch.Size([64])\n",
      "torch.Size([64, 1, 18])\n",
      "torch.Size([64])\n",
      "torch.Size([64, 1, 18])\n",
      "torch.Size([64])\n",
      "torch.Size([64, 1, 18])\n",
      "torch.Size([64])\n",
      "torch.Size([64, 1, 18])\n",
      "torch.Size([64])\n",
      "torch.Size([64, 1, 18])\n",
      "torch.Size([64])\n",
      "torch.Size([64, 1, 18])\n",
      "torch.Size([64])\n",
      "torch.Size([64, 1, 18])\n",
      "torch.Size([64])\n",
      "torch.Size([64, 1, 18])\n",
      "torch.Size([64])\n",
      "torch.Size([64, 1, 18])\n",
      "torch.Size([64])\n",
      "torch.Size([64, 1, 18])\n",
      "torch.Size([64])\n",
      "torch.Size([64, 1, 18])\n",
      "torch.Size([64])\n",
      "torch.Size([64, 1, 18])\n",
      "torch.Size([64])\n",
      "torch.Size([64, 1, 18])\n",
      "torch.Size([64])\n"
     ]
    },
    {
     "name": "stderr",
     "output_type": "stream",
     "text": [
      "Epoch [2/5], loss_mean=2.532 :  60%|██████    | 1146/1898 [00:19<00:08, 89.87it/s]"
     ]
    },
    {
     "name": "stdout",
     "output_type": "stream",
     "text": [
      "torch.Size([64, 1, 18])\n",
      "torch.Size([64])\n",
      "torch.Size([64, 1, 18])\n",
      "torch.Size([64])\n",
      "torch.Size([64, 1, 18])\n",
      "torch.Size([64])\n",
      "torch.Size([64, 1, 18])\n",
      "torch.Size([64])\n",
      "torch.Size([64, 1, 18])\n",
      "torch.Size([64])\n",
      "torch.Size([64, 1, 18])\n",
      "torch.Size([64])\n",
      "torch.Size([64, 1, 18])\n",
      "torch.Size([64])\n",
      "torch.Size([64, 1, 18])\n",
      "torch.Size([64])\n",
      "torch.Size([64, 1, 18])\n",
      "torch.Size([64])\n",
      "torch.Size([64, 1, 18])\n",
      "torch.Size([64])\n",
      "torch.Size([64, 1, 18])\n",
      "torch.Size([64])\n",
      "torch.Size([64, 1, 18])\n",
      "torch.Size([64])\n",
      "torch.Size([64, 1, 18])\n",
      "torch.Size([64])\n",
      "torch.Size([64, 1, 18])\n",
      "torch.Size([64])\n",
      "torch.Size([64, 1, 18])\n",
      "torch.Size([64])\n",
      "torch.Size([64, 1, 18])\n",
      "torch.Size([64])\n",
      "torch.Size([64, 1, 18])\n",
      "torch.Size([64])\n",
      "torch.Size([64, 1, 18])\n",
      "torch.Size([64])\n",
      "torch.Size([64, 1, 18])\n",
      "torch.Size([64])\n"
     ]
    },
    {
     "name": "stderr",
     "output_type": "stream",
     "text": [
      "Epoch [2/5], loss_mean=2.532 :  61%|██████    | 1157/1898 [00:19<00:07, 94.65it/s]"
     ]
    },
    {
     "name": "stdout",
     "output_type": "stream",
     "text": [
      "torch.Size([64, 1, 18])\n",
      "torch.Size([64])\n",
      "torch.Size([64, 1, 18])\n",
      "torch.Size([64])\n",
      "torch.Size([64, 1, 18])\n",
      "torch.Size([64])\n",
      "torch.Size([64, 1, 18])\n",
      "torch.Size([64])\n",
      "torch.Size([64, 1, 18])\n",
      "torch.Size([64])\n",
      "torch.Size([64, 1, 18])\n",
      "torch.Size([64])\n",
      "torch.Size([64, 1, 18])\n",
      "torch.Size([64])\n",
      "torch.Size([64, 1, 18])\n",
      "torch.Size([64])\n",
      "torch.Size([64, 1, 18])\n",
      "torch.Size([64])\n",
      "torch.Size([64, 1, 18])\n",
      "torch.Size([64])\n",
      "torch.Size([64, 1, 18])\n",
      "torch.Size([64])\n",
      "torch.Size([64, 1, 18])\n",
      "torch.Size([64])\n",
      "torch.Size([64, 1, 18])\n",
      "torch.Size([64])\n",
      "torch.Size([64, 1, 18])\n",
      "torch.Size([64])\n",
      "torch.Size([64, 1, 18])\n",
      "torch.Size([64])\n",
      "torch.Size([64, 1, 18])\n",
      "torch.Size([64])\n",
      "torch.Size([64, 1, 18])\n",
      "torch.Size([64])\n",
      "torch.Size([64, 1, 18])\n",
      "torch.Size([64])\n",
      "torch.Size([64, 1, 18])\n",
      "torch.Size([64])\n",
      "torch.Size([64, 1, 18])\n",
      "torch.Size([64])\n",
      "torch.Size([64, 1, 18])\n",
      "torch.Size([64])\n"
     ]
    },
    {
     "name": "stderr",
     "output_type": "stream",
     "text": [
      "Epoch [2/5], loss_mean=2.532 :  62%|██████▏   | 1179/1898 [00:19<00:07, 100.33it/s]"
     ]
    },
    {
     "name": "stdout",
     "output_type": "stream",
     "text": [
      "torch.Size([64, 1, 18])\n",
      "torch.Size([64])\n",
      "torch.Size([64, 1, 18])\n",
      "torch.Size([64])\n",
      "torch.Size([64, 1, 18])\n",
      "torch.Size([64])\n",
      "torch.Size([64, 1, 18])\n",
      "torch.Size([64])\n",
      "torch.Size([64, 1, 18])\n",
      "torch.Size([64])\n",
      "torch.Size([64, 1, 18])\n",
      "torch.Size([64])\n",
      "torch.Size([64, 1, 18])\n",
      "torch.Size([64])\n",
      "torch.Size([64, 1, 18])\n",
      "torch.Size([64])\n",
      "torch.Size([64, 1, 18])\n",
      "torch.Size([64])\n",
      "torch.Size([64, 1, 18])\n",
      "torch.Size([64])\n",
      "torch.Size([64, 1, 18])\n",
      "torch.Size([64])\n",
      "torch.Size([64, 1, 18])\n",
      "torch.Size([64])\n",
      "torch.Size([64, 1, 18])\n",
      "torch.Size([64])\n",
      "torch.Size([64, 1, 18])\n",
      "torch.Size([64])\n",
      "torch.Size([64, 1, 18])\n",
      "torch.Size([64])\n",
      "torch.Size([64, 1, 18])\n",
      "torch.Size([64])\n",
      "torch.Size([64, 1, 18])\n",
      "torch.Size([64])\n",
      "torch.Size([64, 1, 18])\n",
      "torch.Size([64])\n",
      "torch.Size([64, 1, 18])\n",
      "torch.Size([64])\n"
     ]
    },
    {
     "name": "stderr",
     "output_type": "stream",
     "text": [
      "Epoch [2/5], loss_mean=2.532 :  63%|██████▎   | 1201/1898 [00:19<00:06, 99.80it/s] "
     ]
    },
    {
     "name": "stdout",
     "output_type": "stream",
     "text": [
      "torch.Size([64, 1, 18])\n",
      "torch.Size([64])\n",
      "torch.Size([64, 1, 18])\n",
      "torch.Size([64])\n",
      "torch.Size([64, 1, 18])\n",
      "torch.Size([64])\n",
      "torch.Size([64, 1, 18])\n",
      "torch.Size([64])\n",
      "torch.Size([64, 1, 18])\n",
      "torch.Size([64])\n",
      "torch.Size([64, 1, 18])\n",
      "torch.Size([64])\n",
      "torch.Size([64, 1, 18])\n",
      "torch.Size([64])\n",
      "torch.Size([64, 1, 18])\n",
      "torch.Size([64])\n",
      "torch.Size([64, 1, 18])\n",
      "torch.Size([64])\n",
      "torch.Size([64, 1, 18])\n",
      "torch.Size([64])\n",
      "torch.Size([64, 1, 18])\n",
      "torch.Size([64])\n",
      "torch.Size([64, 1, 18])\n",
      "torch.Size([64])\n",
      "torch.Size([64, 1, 18])\n",
      "torch.Size([64])\n",
      "torch.Size([64, 1, 18])\n",
      "torch.Size([64])\n",
      "torch.Size([64, 1, 18])\n",
      "torch.Size([64])\n",
      "torch.Size([64, 1, 18])\n",
      "torch.Size([64])\n",
      "torch.Size([64, 1, 18])\n",
      "torch.Size([64])\n",
      "torch.Size([64, 1, 18])\n",
      "torch.Size([64])\n"
     ]
    },
    {
     "name": "stderr",
     "output_type": "stream",
     "text": [
      "Epoch [2/5], loss_mean=2.532 :  64%|██████▍   | 1212/1898 [00:19<00:06, 100.22it/s]"
     ]
    },
    {
     "name": "stdout",
     "output_type": "stream",
     "text": [
      "torch.Size([64, 1, 18])\n",
      "torch.Size([64])\n",
      "torch.Size([64, 1, 18])\n",
      "torch.Size([64])\n",
      "torch.Size([64, 1, 18])\n",
      "torch.Size([64])\n",
      "torch.Size([64, 1, 18])\n",
      "torch.Size([64])\n",
      "torch.Size([64, 1, 18])\n",
      "torch.Size([64])\n",
      "torch.Size([64, 1, 18])\n",
      "torch.Size([64])\n",
      "torch.Size([64, 1, 18])\n",
      "torch.Size([64])\n",
      "torch.Size([64, 1, 18])\n",
      "torch.Size([64])\n",
      "torch.Size([64, 1, 18])\n",
      "torch.Size([64])\n",
      "torch.Size([64, 1, 18])\n",
      "torch.Size([64])\n",
      "torch.Size([64, 1, 18])\n",
      "torch.Size([64])\n",
      "torch.Size([64, 1, 18])\n",
      "torch.Size([64])\n",
      "torch.Size([64, 1, 18])\n",
      "torch.Size([64])\n",
      "torch.Size([64, 1, 18])\n",
      "torch.Size([64])\n",
      "torch.Size([64, 1, 18])\n",
      "torch.Size([64])\n",
      "torch.Size([64, 1, 18])\n",
      "torch.Size([64])\n",
      "torch.Size([64, 1, 18])\n",
      "torch.Size([64])\n"
     ]
    },
    {
     "name": "stderr",
     "output_type": "stream",
     "text": [
      "Epoch [2/5], loss_mean=2.532 :  64%|██████▍   | 1212/1898 [00:20<00:06, 100.22it/s]"
     ]
    },
    {
     "name": "stdout",
     "output_type": "stream",
     "text": [
      "torch.Size([64, 1, 18])\n",
      "torch.Size([64])\n",
      "torch.Size([64, 1, 18])\n",
      "torch.Size([64])\n"
     ]
    },
    {
     "name": "stderr",
     "output_type": "stream",
     "text": [
      "Epoch [2/5], loss_mean=2.532 :  64%|██████▍   | 1223/1898 [00:20<00:15, 43.44it/s] "
     ]
    },
    {
     "name": "stdout",
     "output_type": "stream",
     "text": [
      "torch.Size([64, 1, 18])\n",
      "torch.Size([64])\n",
      "torch.Size([64, 1, 18])\n",
      "torch.Size([64])\n",
      "torch.Size([64, 1, 18])\n",
      "torch.Size([64])\n"
     ]
    },
    {
     "name": "stderr",
     "output_type": "stream",
     "text": [
      "Epoch [2/5], loss_mean=2.532 :  65%|██████▍   | 1231/1898 [00:20<00:17, 38.38it/s]"
     ]
    },
    {
     "name": "stdout",
     "output_type": "stream",
     "text": [
      "torch.Size([64, 1, 18])\n",
      "torch.Size([64])\n",
      "torch.Size([64, 1, 18])\n",
      "torch.Size([64])\n",
      "torch.Size([64, 1, 18])\n",
      "torch.Size([64])\n",
      "torch.Size([64, 1, 18])\n",
      "torch.Size([64])\n",
      "torch.Size([64, 1, 18])\n",
      "torch.Size([64])\n",
      "torch.Size([64, 1, 18])\n",
      "torch.Size([64])\n",
      "torch.Size([64, 1, 18])\n",
      "torch.Size([64])\n"
     ]
    },
    {
     "name": "stderr",
     "output_type": "stream",
     "text": [
      "Epoch [2/5], loss_mean=2.532 :  65%|██████▌   | 1238/1898 [00:20<00:18, 36.02it/s]"
     ]
    },
    {
     "name": "stdout",
     "output_type": "stream",
     "text": [
      "torch.Size([64, 1, 18])\n",
      "torch.Size([64])\n",
      "torch.Size([64, 1, 18])\n",
      "torch.Size([64])\n",
      "torch.Size([64, 1, 18])\n",
      "torch.Size([64])\n",
      "torch.Size([64, 1, 18])\n",
      "torch.Size([64])\n",
      "torch.Size([64, 1, 18])\n",
      "torch.Size([64])\n",
      "torch.Size([64, 1, 18])\n",
      "torch.Size([64])\n",
      "torch.Size([64, 1, 18])\n",
      "torch.Size([64])\n",
      "torch.Size([64, 1, 18])\n",
      "torch.Size([64])\n",
      "torch.Size([64, 1, 18])\n",
      "torch.Size([64])\n"
     ]
    },
    {
     "name": "stderr",
     "output_type": "stream",
     "text": [
      "Epoch [2/5], loss_mean=2.532 :  66%|██████▌   | 1250/1898 [00:21<00:15, 40.68it/s]"
     ]
    },
    {
     "name": "stdout",
     "output_type": "stream",
     "text": [
      "torch.Size([64, 1, 18])\n",
      "torch.Size([64])\n",
      "torch.Size([64, 1, 18])\n",
      "torch.Size([64])\n",
      "torch.Size([64, 1, 18])\n",
      "torch.Size([64])\n",
      "torch.Size([64, 1, 18])\n",
      "torch.Size([64])\n",
      "torch.Size([64, 1, 18])\n",
      "torch.Size([64])\n",
      "torch.Size([64, 1, 18])\n",
      "torch.Size([64])\n",
      "torch.Size([64, 1, 18])\n",
      "torch.Size([64])\n",
      "torch.Size([64, 1, 18])\n",
      "torch.Size([64])\n",
      "torch.Size([64, 1, 18])\n",
      "torch.Size([64])\n"
     ]
    },
    {
     "name": "stderr",
     "output_type": "stream",
     "text": [
      "Epoch [2/5], loss_mean=2.532 :  66%|██████▌   | 1256/1898 [00:21<00:15, 41.57it/s]"
     ]
    },
    {
     "name": "stdout",
     "output_type": "stream",
     "text": [
      "torch.Size([64, 1, 18])\n",
      "torch.Size([64])\n",
      "torch.Size([64, 1, 18])\n",
      "torch.Size([64])\n",
      "torch.Size([64, 1, 18])\n",
      "torch.Size([64])\n",
      "torch.Size([64, 1, 18])\n",
      "torch.Size([64])\n",
      "torch.Size([64, 1, 18])\n",
      "torch.Size([64])\n",
      "torch.Size([64, 1, 18])\n",
      "torch.Size([64])\n",
      "torch.Size([64, 1, 18])\n",
      "torch.Size([64])\n",
      "torch.Size([64, 1, 18])\n",
      "torch.Size([64])\n",
      "torch.Size([64, 1, 18])\n",
      "torch.Size([64])\n",
      "torch.Size([64, 1, 18])\n",
      "torch.Size([64])\n",
      "torch.Size([64, 1, 18])\n",
      "torch.Size([64])\n"
     ]
    },
    {
     "name": "stderr",
     "output_type": "stream",
     "text": [
      "Epoch [2/5], loss_mean=2.532 :  67%|██████▋   | 1270/1898 [00:21<00:12, 51.01it/s]"
     ]
    },
    {
     "name": "stdout",
     "output_type": "stream",
     "text": [
      "torch.Size([64, 1, 18])\n",
      "torch.Size([64])\n",
      "torch.Size([64, 1, 18])\n",
      "torch.Size([64])\n",
      "torch.Size([64, 1, 18])\n",
      "torch.Size([64])\n",
      "torch.Size([64, 1, 18])\n",
      "torch.Size([64])\n",
      "torch.Size([64, 1, 18])\n",
      "torch.Size([64])\n",
      "torch.Size([64, 1, 18])\n",
      "torch.Size([64])\n",
      "torch.Size([64, 1, 18])\n",
      "torch.Size([64])\n",
      "torch.Size([64, 1, 18])\n",
      "torch.Size([64])\n",
      "torch.Size([64, 1, 18])\n",
      "torch.Size([64])\n",
      "torch.Size([64, 1, 18])\n",
      "torch.Size([64])\n",
      "torch.Size([64, 1, 18])\n",
      "torch.Size([64])\n",
      "torch.Size([64, 1, 18])\n",
      "torch.Size([64])\n",
      "torch.Size([64, 1, 18])\n",
      "torch.Size([64])\n",
      "torch.Size([64, 1, 18])\n",
      "torch.Size([64])\n"
     ]
    },
    {
     "name": "stderr",
     "output_type": "stream",
     "text": [
      "Epoch [2/5], loss_mean=2.532 :  68%|██████▊   | 1289/1898 [00:21<00:09, 67.40it/s]"
     ]
    },
    {
     "name": "stdout",
     "output_type": "stream",
     "text": [
      "torch.Size([64, 1, 18])\n",
      "torch.Size([64])\n",
      "torch.Size([64, 1, 18])\n",
      "torch.Size([64])\n",
      "torch.Size([64, 1, 18])\n",
      "torch.Size([64])\n",
      "torch.Size([64, 1, 18])\n",
      "torch.Size([64])\n",
      "torch.Size([64, 1, 18])\n",
      "torch.Size([64])\n",
      "torch.Size([64, 1, 18])\n",
      "torch.Size([64])\n",
      "torch.Size([64, 1, 18])\n",
      "torch.Size([64])\n",
      "torch.Size([64, 1, 18])\n",
      "torch.Size([64])\n",
      "torch.Size([64, 1, 18])\n",
      "torch.Size([64])\n",
      "torch.Size([64, 1, 18])\n",
      "torch.Size([64])\n",
      "torch.Size([64, 1, 18])\n",
      "torch.Size([64])\n",
      "torch.Size([64, 1, 18])\n",
      "torch.Size([64])\n",
      "torch.Size([64, 1, 18])\n",
      "torch.Size([64])\n",
      "torch.Size([64, 1, 18])\n",
      "torch.Size([64])\n",
      "torch.Size([64, 1, 18])\n",
      "torch.Size([64])\n",
      "torch.Size([64, 1, 18])\n",
      "torch.Size([64])\n"
     ]
    },
    {
     "name": "stderr",
     "output_type": "stream",
     "text": [
      "Epoch [2/5], loss_mean=2.532 :  68%|██████▊   | 1297/1898 [00:21<00:08, 70.16it/s]"
     ]
    },
    {
     "name": "stdout",
     "output_type": "stream",
     "text": [
      "torch.Size([64, 1, 18])\n",
      "torch.Size([64])\n",
      "torch.Size([64, 1, 18])\n",
      "torch.Size([64])\n",
      "torch.Size([64, 1, 18])\n",
      "torch.Size([64])\n",
      "torch.Size([64, 1, 18])\n",
      "torch.Size([64])\n",
      "torch.Size([64, 1, 18])\n",
      "torch.Size([64])\n",
      "torch.Size([64, 1, 18])\n",
      "torch.Size([64])\n",
      "torch.Size([64, 1, 18])\n",
      "torch.Size([64])\n",
      "torch.Size([64, 1, 18])\n",
      "torch.Size([64])\n",
      "torch.Size([64, 1, 18])\n",
      "torch.Size([64])\n",
      "torch.Size([64, 1, 18])\n",
      "torch.Size([64])\n",
      "torch.Size([64, 1, 18])\n",
      "torch.Size([64])\n",
      "torch.Size([64, 1, 18])\n",
      "torch.Size([64])\n",
      "torch.Size([64, 1, 18])\n",
      "torch.Size([64])\n"
     ]
    },
    {
     "name": "stderr",
     "output_type": "stream",
     "text": [
      "Epoch [2/5], loss_mean=2.532 :  69%|██████▉   | 1313/1898 [00:22<00:09, 61.09it/s]"
     ]
    },
    {
     "name": "stdout",
     "output_type": "stream",
     "text": [
      "torch.Size([64, 1, 18])\n",
      "torch.Size([64])\n",
      "torch.Size([64, 1, 18])\n",
      "torch.Size([64])\n",
      "torch.Size([64, 1, 18])\n",
      "torch.Size([64])\n",
      "torch.Size([64, 1, 18])\n",
      "torch.Size([64])\n",
      "torch.Size([64, 1, 18])\n",
      "torch.Size([64])\n",
      "torch.Size([64, 1, 18])\n",
      "torch.Size([64])\n",
      "torch.Size([64, 1, 18])\n",
      "torch.Size([64])\n",
      "torch.Size([64, 1, 18])\n",
      "torch.Size([64])\n",
      "torch.Size([64, 1, 18])\n",
      "torch.Size([64])\n"
     ]
    },
    {
     "name": "stderr",
     "output_type": "stream",
     "text": [
      "Epoch [2/5], loss_mean=2.532 :  70%|██████▉   | 1320/1898 [00:22<00:10, 57.12it/s]"
     ]
    },
    {
     "name": "stdout",
     "output_type": "stream",
     "text": [
      "torch.Size([64, 1, 18])\n",
      "torch.Size([64])\n",
      "torch.Size([64, 1, 18])\n",
      "torch.Size([64])\n",
      "torch.Size([64, 1, 18])\n",
      "torch.Size([64])\n",
      "torch.Size([64, 1, 18])\n",
      "torch.Size([64])\n",
      "torch.Size([64, 1, 18])\n",
      "torch.Size([64])\n",
      "torch.Size([64, 1, 18])\n",
      "torch.Size([64])\n",
      "torch.Size([64, 1, 18])\n",
      "torch.Size([64])\n",
      "torch.Size([64, 1, 18])\n",
      "torch.Size([64])\n",
      "torch.Size([64, 1, 18])\n",
      "torch.Size([64])\n",
      "torch.Size([64, 1, 18])\n",
      "torch.Size([64])\n",
      "torch.Size([64, 1, 18])\n",
      "torch.Size([64])\n",
      "torch.Size([64, 1, 18])\n",
      "torch.Size([64])\n"
     ]
    },
    {
     "name": "stderr",
     "output_type": "stream",
     "text": [
      "Epoch [2/5], loss_mean=2.532 :  70%|███████   | 1335/1898 [00:22<00:09, 60.24it/s]"
     ]
    },
    {
     "name": "stdout",
     "output_type": "stream",
     "text": [
      "torch.Size([64, 1, 18])\n",
      "torch.Size([64])\n",
      "torch.Size([64, 1, 18])\n",
      "torch.Size([64])\n",
      "torch.Size([64, 1, 18])\n",
      "torch.Size([64])\n",
      "torch.Size([64, 1, 18])\n",
      "torch.Size([64])\n",
      "torch.Size([64, 1, 18])\n",
      "torch.Size([64])\n",
      "torch.Size([64, 1, 18])\n",
      "torch.Size([64])\n",
      "torch.Size([64, 1, 18])\n",
      "torch.Size([64])\n",
      "torch.Size([64, 1, 18])\n",
      "torch.Size([64])\n",
      "torch.Size([64, 1, 18])\n",
      "torch.Size([64])\n",
      "torch.Size([64, 1, 18])\n",
      "torch.Size([64])\n",
      "torch.Size([64, 1, 18])\n",
      "torch.Size([64])\n"
     ]
    },
    {
     "name": "stderr",
     "output_type": "stream",
     "text": [
      "Epoch [2/5], loss_mean=2.532 :  71%|███████   | 1342/1898 [00:22<00:08, 62.64it/s]"
     ]
    },
    {
     "name": "stdout",
     "output_type": "stream",
     "text": [
      "torch.Size([64, 1, 18])\n",
      "torch.Size([64])\n",
      "torch.Size([64, 1, 18])\n",
      "torch.Size([64])\n",
      "torch.Size([64, 1, 18])\n",
      "torch.Size([64])\n",
      "torch.Size([64, 1, 18])\n",
      "torch.Size([64])\n",
      "torch.Size([64, 1, 18])\n",
      "torch.Size([64])\n",
      "torch.Size([64, 1, 18])\n",
      "torch.Size([64])\n",
      "torch.Size([64, 1, 18])\n",
      "torch.Size([64])\n",
      "torch.Size([64, 1, 18])\n",
      "torch.Size([64])\n",
      "torch.Size([64, 1, 18])\n",
      "torch.Size([64])\n",
      "torch.Size([64, 1, 18])\n",
      "torch.Size([64])\n",
      "torch.Size([64, 1, 18])\n",
      "torch.Size([64])\n",
      "torch.Size([64, 1, 18])\n",
      "torch.Size([64])\n"
     ]
    },
    {
     "name": "stderr",
     "output_type": "stream",
     "text": [
      "Epoch [2/5], loss_mean=2.532 :  71%|███████   | 1349/1898 [00:22<00:10, 51.02it/s]"
     ]
    },
    {
     "name": "stdout",
     "output_type": "stream",
     "text": [
      "torch.Size([64, 1, 18])\n",
      "torch.Size([64])\n"
     ]
    },
    {
     "name": "stderr",
     "output_type": "stream",
     "text": [
      "Epoch [2/5], loss_mean=2.532 :  71%|███████▏  | 1355/1898 [00:23<00:14, 36.35it/s]"
     ]
    },
    {
     "name": "stdout",
     "output_type": "stream",
     "text": [
      "torch.Size([64, 1, 18])\n",
      "torch.Size([64])\n",
      "torch.Size([64, 1, 18])\n",
      "torch.Size([64])\n",
      "torch.Size([64, 1, 18])\n",
      "torch.Size([64])\n",
      "torch.Size([64, 1, 18])\n",
      "torch.Size([64])\n",
      "torch.Size([64, 1, 18])\n",
      "torch.Size([64])\n",
      "torch.Size([64, 1, 18])\n",
      "torch.Size([64])\n",
      "torch.Size([64, 1, 18])\n",
      "torch.Size([64])\n",
      "torch.Size([64, 1, 18])\n",
      "torch.Size([64])\n",
      "torch.Size([64, 1, 18])\n",
      "torch.Size([64])\n",
      "torch.Size([64, 1, 18])\n",
      "torch.Size([64])\n",
      "torch.Size([64, 1, 18])\n",
      "torch.Size([64])\n"
     ]
    },
    {
     "name": "stderr",
     "output_type": "stream",
     "text": [
      "Epoch [2/5], loss_mean=2.532 :  72%|███████▏  | 1368/1898 [00:23<00:11, 45.68it/s]"
     ]
    },
    {
     "name": "stdout",
     "output_type": "stream",
     "text": [
      "torch.Size([64, 1, 18])\n",
      "torch.Size([64])\n",
      "torch.Size([64, 1, 18])\n",
      "torch.Size([64])\n",
      "torch.Size([64, 1, 18])\n",
      "torch.Size([64])\n",
      "torch.Size([64, 1, 18])\n",
      "torch.Size([64])\n",
      "torch.Size([64, 1, 18])\n",
      "torch.Size([64])\n",
      "torch.Size([64, 1, 18])\n",
      "torch.Size([64])\n",
      "torch.Size([64, 1, 18])\n",
      "torch.Size([64])\n",
      "torch.Size([64, 1, 18])\n",
      "torch.Size([64])\n",
      "torch.Size([64, 1, 18])\n",
      "torch.Size([64])\n",
      "torch.Size([64, 1, 18])\n",
      "torch.Size([64])\n",
      "torch.Size([64, 1, 18])\n",
      "torch.Size([64])\n",
      "torch.Size([64, 1, 18])\n",
      "torch.Size([64])\n",
      "torch.Size([64, 1, 18])\n",
      "torch.Size([64])\n"
     ]
    },
    {
     "name": "stderr",
     "output_type": "stream",
     "text": [
      "Epoch [2/5], loss_mean=2.532 :  73%|███████▎  | 1382/1898 [00:23<00:09, 52.20it/s]"
     ]
    },
    {
     "name": "stdout",
     "output_type": "stream",
     "text": [
      "torch.Size([64, 1, 18])\n",
      "torch.Size([64])\n",
      "torch.Size([64, 1, 18])\n",
      "torch.Size([64])\n",
      "torch.Size([64, 1, 18])\n",
      "torch.Size([64])\n",
      "torch.Size([64, 1, 18])\n",
      "torch.Size([64])\n",
      "torch.Size([64, 1, 18])\n",
      "torch.Size([64])\n",
      "torch.Size([64, 1, 18])\n",
      "torch.Size([64])\n",
      "torch.Size([64, 1, 18])\n",
      "torch.Size([64])\n",
      "torch.Size([64, 1, 18])\n",
      "torch.Size([64])\n",
      "torch.Size([64, 1, 18])\n",
      "torch.Size([64])\n"
     ]
    },
    {
     "name": "stderr",
     "output_type": "stream",
     "text": [
      "Epoch [2/5], loss_mean=2.532 :  73%|███████▎  | 1388/1898 [00:23<00:10, 47.04it/s]"
     ]
    },
    {
     "name": "stdout",
     "output_type": "stream",
     "text": [
      "torch.Size([64, 1, 18])\n",
      "torch.Size([64])\n",
      "torch.Size([64, 1, 18])\n",
      "torch.Size([64])\n",
      "torch.Size([64, 1, 18])\n",
      "torch.Size([64])\n",
      "torch.Size([64, 1, 18])\n",
      "torch.Size([64])\n",
      "torch.Size([64, 1, 18])\n",
      "torch.Size([64])\n",
      "torch.Size([64, 1, 18])\n",
      "torch.Size([64])\n",
      "torch.Size([64, 1, 18])\n",
      "torch.Size([64])\n",
      "torch.Size([64, 1, 18])\n",
      "torch.Size([64])\n",
      "torch.Size([64, 1, 18])\n",
      "torch.Size([64])\n",
      "torch.Size([64, 1, 18])\n",
      "torch.Size([64])\n"
     ]
    },
    {
     "name": "stderr",
     "output_type": "stream",
     "text": [
      "Epoch [2/5], loss_mean=2.532 :  74%|███████▍  | 1401/1898 [00:23<00:09, 52.31it/s]"
     ]
    },
    {
     "name": "stdout",
     "output_type": "stream",
     "text": [
      "torch.Size([64, 1, 18])\n",
      "torch.Size([64])\n",
      "torch.Size([64, 1, 18])\n",
      "torch.Size([64])\n",
      "torch.Size([64, 1, 18])\n",
      "torch.Size([64])\n",
      "torch.Size([64, 1, 18])\n",
      "torch.Size([64])\n",
      "torch.Size([64, 1, 18])\n",
      "torch.Size([64])\n",
      "torch.Size([64, 1, 18])\n",
      "torch.Size([64])\n",
      "torch.Size([64, 1, 18])\n",
      "torch.Size([64])\n",
      "torch.Size([64, 1, 18])\n",
      "torch.Size([64])\n",
      "torch.Size([64, 1, 18])\n",
      "torch.Size([64])\n",
      "torch.Size([64, 1, 18])\n",
      "torch.Size([64])\n",
      "torch.Size([64, 1, 18])\n",
      "torch.Size([64])\n",
      "torch.Size([64, 1, 18])\n",
      "torch.Size([64])\n",
      "torch.Size([64, 1, 18])\n",
      "torch.Size([64])\n"
     ]
    },
    {
     "name": "stderr",
     "output_type": "stream",
     "text": [
      "Epoch [2/5], loss_mean=2.532 :  75%|███████▍  | 1416/1898 [00:24<00:07, 60.75it/s]"
     ]
    },
    {
     "name": "stdout",
     "output_type": "stream",
     "text": [
      "torch.Size([64, 1, 18])\n",
      "torch.Size([64])\n",
      "torch.Size([64, 1, 18])\n",
      "torch.Size([64])\n",
      "torch.Size([64, 1, 18])\n",
      "torch.Size([64])\n",
      "torch.Size([64, 1, 18])\n",
      "torch.Size([64])\n",
      "torch.Size([64, 1, 18])\n",
      "torch.Size([64])\n",
      "torch.Size([64, 1, 18])\n",
      "torch.Size([64])\n",
      "torch.Size([64, 1, 18])\n",
      "torch.Size([64])\n",
      "torch.Size([64, 1, 18])\n",
      "torch.Size([64])\n",
      "torch.Size([64, 1, 18])\n",
      "torch.Size([64])\n",
      "torch.Size([64, 1, 18])\n",
      "torch.Size([64])\n",
      "torch.Size([64, 1, 18])\n",
      "torch.Size([64])\n",
      "torch.Size([64, 1, 18])\n",
      "torch.Size([64])\n",
      "torch.Size([64, 1, 18])\n",
      "torch.Size([64])\n"
     ]
    },
    {
     "name": "stderr",
     "output_type": "stream",
     "text": [
      "Epoch [2/5], loss_mean=2.532 :  75%|███████▍  | 1423/1898 [00:24<00:08, 58.01it/s]"
     ]
    },
    {
     "name": "stdout",
     "output_type": "stream",
     "text": [
      "torch.Size([64, 1, 18])\n",
      "torch.Size([64])\n",
      "torch.Size([64, 1, 18])\n",
      "torch.Size([64])\n",
      "torch.Size([64, 1, 18])\n",
      "torch.Size([64])\n",
      "torch.Size([64, 1, 18])\n",
      "torch.Size([64])\n",
      "torch.Size([64, 1, 18])\n",
      "torch.Size([64])\n",
      "torch.Size([64, 1, 18])\n",
      "torch.Size([64])\n",
      "torch.Size([64, 1, 18])\n",
      "torch.Size([64])\n",
      "torch.Size([64, 1, 18])\n",
      "torch.Size([64])\n",
      "torch.Size([64, 1, 18])\n",
      "torch.Size([64])\n",
      "torch.Size([64, 1, 18])\n",
      "torch.Size([64])\n",
      "torch.Size([64, 1, 18])\n",
      "torch.Size([64])\n",
      "torch.Size([64, 1, 18])\n",
      "torch.Size([64])\n"
     ]
    },
    {
     "name": "stderr",
     "output_type": "stream",
     "text": [
      "Epoch [2/5], loss_mean=2.532 :  76%|███████▌  | 1439/1898 [00:24<00:07, 63.88it/s]"
     ]
    },
    {
     "name": "stdout",
     "output_type": "stream",
     "text": [
      "torch.Size([64, 1, 18])\n",
      "torch.Size([64])\n",
      "torch.Size([64, 1, 18])\n",
      "torch.Size([64])\n",
      "torch.Size([64, 1, 18])\n",
      "torch.Size([64])\n",
      "torch.Size([64, 1, 18])\n",
      "torch.Size([64])\n",
      "torch.Size([64, 1, 18])\n",
      "torch.Size([64])\n",
      "torch.Size([64, 1, 18])\n",
      "torch.Size([64])\n",
      "torch.Size([64, 1, 18])\n",
      "torch.Size([64])\n",
      "torch.Size([64, 1, 18])\n",
      "torch.Size([64])\n",
      "torch.Size([64, 1, 18])\n",
      "torch.Size([64])\n",
      "torch.Size([64, 1, 18])\n",
      "torch.Size([64])\n",
      "torch.Size([64, 1, 18])\n",
      "torch.Size([64])\n",
      "torch.Size([64, 1, 18])\n",
      "torch.Size([64])\n",
      "torch.Size([64, 1, 18])\n",
      "torch.Size([64])\n",
      "torch.Size([64, 1, 18])\n",
      "torch.Size([64])\n",
      "torch.Size([64, 1, 18])\n",
      "torch.Size([64])\n"
     ]
    },
    {
     "name": "stderr",
     "output_type": "stream",
     "text": [
      "Epoch [2/5], loss_mean=2.532 :  77%|███████▋  | 1457/1898 [00:24<00:05, 75.17it/s]"
     ]
    },
    {
     "name": "stdout",
     "output_type": "stream",
     "text": [
      "torch.Size([64, 1, 18])\n",
      "torch.Size([64])\n",
      "torch.Size([64, 1, 18])\n",
      "torch.Size([64])\n",
      "torch.Size([64, 1, 18])\n",
      "torch.Size([64])\n",
      "torch.Size([64, 1, 18])\n",
      "torch.Size([64])\n",
      "torch.Size([64, 1, 18])\n",
      "torch.Size([64])\n",
      "torch.Size([64, 1, 18])\n",
      "torch.Size([64])\n",
      "torch.Size([64, 1, 18])\n",
      "torch.Size([64])\n",
      "torch.Size([64, 1, 18])\n",
      "torch.Size([64])\n",
      "torch.Size([64, 1, 18])\n",
      "torch.Size([64])\n",
      "torch.Size([64, 1, 18])\n",
      "torch.Size([64])\n",
      "torch.Size([64, 1, 18])\n",
      "torch.Size([64])\n",
      "torch.Size([64, 1, 18])\n",
      "torch.Size([64])\n",
      "torch.Size([64, 1, 18])\n",
      "torch.Size([64])\n",
      "torch.Size([64, 1, 18])\n",
      "torch.Size([64])\n",
      "torch.Size([64, 1, 18])\n",
      "torch.Size([64])\n"
     ]
    },
    {
     "name": "stderr",
     "output_type": "stream",
     "text": [
      "Epoch [2/5], loss_mean=2.532 :  77%|███████▋  | 1467/1898 [00:24<00:05, 78.53it/s]"
     ]
    },
    {
     "name": "stdout",
     "output_type": "stream",
     "text": [
      "torch.Size([64, 1, 18])\n",
      "torch.Size([64])\n",
      "torch.Size([64, 1, 18])\n",
      "torch.Size([64])\n",
      "torch.Size([64, 1, 18])\n",
      "torch.Size([64])\n",
      "torch.Size([64, 1, 18])\n",
      "torch.Size([64])\n",
      "torch.Size([64, 1, 18])\n",
      "torch.Size([64])\n",
      "torch.Size([64, 1, 18])\n",
      "torch.Size([64])\n",
      "torch.Size([64, 1, 18])\n",
      "torch.Size([64])\n",
      "torch.Size([64, 1, 18])\n",
      "torch.Size([64])\n",
      "torch.Size([64, 1, 18])\n",
      "torch.Size([64])\n",
      "torch.Size([64, 1, 18])\n",
      "torch.Size([64])\n",
      "torch.Size([64, 1, 18])\n",
      "torch.Size([64])\n",
      "torch.Size([64, 1, 18])\n",
      "torch.Size([64])\n"
     ]
    },
    {
     "name": "stderr",
     "output_type": "stream",
     "text": [
      "Epoch [2/5], loss_mean=2.531 :  78%|███████▊  | 1475/1898 [00:25<00:09, 46.60it/s]"
     ]
    },
    {
     "name": "stdout",
     "output_type": "stream",
     "text": [
      "torch.Size([64, 1, 18])\n",
      "torch.Size([64])\n",
      "torch.Size([64, 1, 18])\n",
      "torch.Size([64])\n",
      "torch.Size([64, 1, 18])\n",
      "torch.Size([64])\n"
     ]
    },
    {
     "name": "stderr",
     "output_type": "stream",
     "text": [
      "Epoch [2/5], loss_mean=2.532 :  78%|███████▊  | 1482/1898 [00:25<00:08, 49.37it/s]"
     ]
    },
    {
     "name": "stdout",
     "output_type": "stream",
     "text": [
      "torch.Size([64, 1, 18])\n",
      "torch.Size([64])\n",
      "torch.Size([64, 1, 18])\n",
      "torch.Size([64])\n",
      "torch.Size([64, 1, 18])\n",
      "torch.Size([64])\n",
      "torch.Size([64, 1, 18])\n",
      "torch.Size([64])\n",
      "torch.Size([64, 1, 18])\n",
      "torch.Size([64])\n",
      "torch.Size([64, 1, 18])\n",
      "torch.Size([64])\n",
      "torch.Size([64, 1, 18])\n",
      "torch.Size([64])\n",
      "torch.Size([64, 1, 18])\n",
      "torch.Size([64])\n",
      "torch.Size([64, 1, 18])\n",
      "torch.Size([64])\n",
      "torch.Size([64, 1, 18])\n",
      "torch.Size([64])\n",
      "torch.Size([64, 1, 18])\n",
      "torch.Size([64])\n",
      "torch.Size([64, 1, 18])\n",
      "torch.Size([64])\n",
      "torch.Size([64, 1, 18])\n",
      "torch.Size([64])\n",
      "torch.Size([64, 1, 18])\n",
      "torch.Size([64])\n",
      "torch.Size([64, 1, 18])\n",
      "torch.Size([64])\n",
      "torch.Size([64, 1, 18])\n",
      "torch.Size([64])\n"
     ]
    },
    {
     "name": "stderr",
     "output_type": "stream",
     "text": [
      "Epoch [2/5], loss_mean=2.532 :  79%|███████▉  | 1501/1898 [00:25<00:06, 62.76it/s]"
     ]
    },
    {
     "name": "stdout",
     "output_type": "stream",
     "text": [
      "torch.Size([64, 1, 18])\n",
      "torch.Size([64])\n",
      "torch.Size([64, 1, 18])\n",
      "torch.Size([64])\n",
      "torch.Size([64, 1, 18])\n",
      "torch.Size([64])\n",
      "torch.Size([64, 1, 18])\n",
      "torch.Size([64])\n",
      "torch.Size([64, 1, 18])\n",
      "torch.Size([64])\n",
      "torch.Size([64, 1, 18])\n",
      "torch.Size([64])\n",
      "torch.Size([64, 1, 18])\n",
      "torch.Size([64])\n",
      "torch.Size([64, 1, 18])\n",
      "torch.Size([64])\n",
      "torch.Size([64, 1, 18])\n",
      "torch.Size([64])\n",
      "torch.Size([64, 1, 18])\n",
      "torch.Size([64])\n",
      "torch.Size([64, 1, 18])\n",
      "torch.Size([64])\n",
      "torch.Size([64, 1, 18])\n",
      "torch.Size([64])\n",
      "torch.Size([64, 1, 18])\n",
      "torch.Size([64])\n",
      "torch.Size([64, 1, 18])\n",
      "torch.Size([64])\n",
      "torch.Size([64, 1, 18])\n",
      "torch.Size([64])\n",
      "torch.Size([64, 1, 18])\n",
      "torch.Size([64])\n",
      "torch.Size([64, 1, 18])\n",
      "torch.Size([64])\n"
     ]
    },
    {
     "name": "stderr",
     "output_type": "stream",
     "text": [
      "Epoch [2/5], loss_mean=2.532 :  80%|███████▉  | 1518/1898 [00:25<00:05, 70.38it/s]"
     ]
    },
    {
     "name": "stdout",
     "output_type": "stream",
     "text": [
      "torch.Size([64, 1, 18])\n",
      "torch.Size([64])\n",
      "torch.Size([64, 1, 18])\n",
      "torch.Size([64])\n",
      "torch.Size([64, 1, 18])\n",
      "torch.Size([64])\n",
      "torch.Size([64, 1, 18])\n",
      "torch.Size([64])\n",
      "torch.Size([64, 1, 18])\n",
      "torch.Size([64])\n",
      "torch.Size([64, 1, 18])\n",
      "torch.Size([64])\n",
      "torch.Size([64, 1, 18])\n",
      "torch.Size([64])\n",
      "torch.Size([64, 1, 18])\n",
      "torch.Size([64])\n",
      "torch.Size([64, 1, 18])\n",
      "torch.Size([64])\n",
      "torch.Size([64, 1, 18])\n",
      "torch.Size([64])\n",
      "torch.Size([64, 1, 18])\n",
      "torch.Size([64])\n",
      "torch.Size([64, 1, 18])\n",
      "torch.Size([64])\n",
      "torch.Size([64, 1, 18])\n",
      "torch.Size([64])\n",
      "torch.Size([64, 1, 18])\n",
      "torch.Size([64])\n",
      "torch.Size([64, 1, 18])\n",
      "torch.Size([64])\n",
      "torch.Size([64, 1, 18])\n",
      "torch.Size([64])\n"
     ]
    },
    {
     "name": "stderr",
     "output_type": "stream",
     "text": [
      "Epoch [2/5], loss_mean=2.532 :  80%|████████  | 1527/1898 [00:25<00:05, 69.11it/s]"
     ]
    },
    {
     "name": "stdout",
     "output_type": "stream",
     "text": [
      "torch.Size([64, 1, 18])\n",
      "torch.Size([64])\n",
      "torch.Size([64, 1, 18])\n",
      "torch.Size([64])\n",
      "torch.Size([64, 1, 18])\n",
      "torch.Size([64])\n",
      "torch.Size([64, 1, 18])\n",
      "torch.Size([64])\n",
      "torch.Size([64, 1, 18])\n",
      "torch.Size([64])\n",
      "torch.Size([64, 1, 18])\n",
      "torch.Size([64])\n",
      "torch.Size([64, 1, 18])\n",
      "torch.Size([64])\n",
      "torch.Size([64, 1, 18])\n",
      "torch.Size([64])\n",
      "torch.Size([64, 1, 18])\n",
      "torch.Size([64])\n",
      "torch.Size([64, 1, 18])\n",
      "torch.Size([64])\n"
     ]
    },
    {
     "name": "stderr",
     "output_type": "stream",
     "text": [
      "Epoch [2/5], loss_mean=2.532 :  81%|████████  | 1542/1898 [00:26<00:05, 63.35it/s]"
     ]
    },
    {
     "name": "stdout",
     "output_type": "stream",
     "text": [
      "torch.Size([64, 1, 18])\n",
      "torch.Size([64])\n",
      "torch.Size([64, 1, 18])\n",
      "torch.Size([64])\n",
      "torch.Size([64, 1, 18])\n",
      "torch.Size([64])\n",
      "torch.Size([64, 1, 18])\n",
      "torch.Size([64])\n",
      "torch.Size([64, 1, 18])\n",
      "torch.Size([64])\n",
      "torch.Size([64, 1, 18])\n",
      "torch.Size([64])\n",
      "torch.Size([64, 1, 18])\n",
      "torch.Size([64])\n",
      "torch.Size([64, 1, 18])\n",
      "torch.Size([64])\n",
      "torch.Size([64, 1, 18])\n",
      "torch.Size([64])\n",
      "torch.Size([64, 1, 18])\n",
      "torch.Size([64])\n",
      "torch.Size([64, 1, 18])\n",
      "torch.Size([64])\n",
      "torch.Size([64, 1, 18])\n",
      "torch.Size([64])\n"
     ]
    },
    {
     "name": "stderr",
     "output_type": "stream",
     "text": [
      "Epoch [2/5], loss_mean=2.532 :  82%|████████▏ | 1557/1898 [00:26<00:05, 63.04it/s]"
     ]
    },
    {
     "name": "stdout",
     "output_type": "stream",
     "text": [
      "torch.Size([64, 1, 18])\n",
      "torch.Size([64])\n",
      "torch.Size([64, 1, 18])\n",
      "torch.Size([64])\n",
      "torch.Size([64, 1, 18])\n",
      "torch.Size([64])\n",
      "torch.Size([64, 1, 18])\n",
      "torch.Size([64])\n",
      "torch.Size([64, 1, 18])\n",
      "torch.Size([64])\n",
      "torch.Size([64, 1, 18])\n",
      "torch.Size([64])\n",
      "torch.Size([64, 1, 18])\n",
      "torch.Size([64])\n",
      "torch.Size([64, 1, 18])\n",
      "torch.Size([64])\n",
      "torch.Size([64, 1, 18])\n",
      "torch.Size([64])\n",
      "torch.Size([64, 1, 18])\n",
      "torch.Size([64])\n",
      "torch.Size([64, 1, 18])\n",
      "torch.Size([64])\n"
     ]
    },
    {
     "name": "stderr",
     "output_type": "stream",
     "text": [
      "Epoch [2/5], loss_mean=2.532 :  82%|████████▏ | 1564/1898 [00:26<00:05, 57.33it/s]"
     ]
    },
    {
     "name": "stdout",
     "output_type": "stream",
     "text": [
      "torch.Size([64, 1, 18])\n",
      "torch.Size([64])\n",
      "torch.Size([64, 1, 18])\n",
      "torch.Size([64])\n",
      "torch.Size([64, 1, 18])\n",
      "torch.Size([64])\n",
      "torch.Size([64, 1, 18])\n",
      "torch.Size([64])\n",
      "torch.Size([64, 1, 18])\n",
      "torch.Size([64])\n",
      "torch.Size([64, 1, 18])\n",
      "torch.Size([64])\n",
      "torch.Size([64, 1, 18])\n",
      "torch.Size([64])\n",
      "torch.Size([64, 1, 18])\n",
      "torch.Size([64])\n",
      "torch.Size([64, 1, 18])\n",
      "torch.Size([64])\n",
      "torch.Size([64, 1, 18])\n",
      "torch.Size([64])\n",
      "torch.Size([64, 1, 18])\n",
      "torch.Size([64])\n",
      "torch.Size([64, 1, 18])\n",
      "torch.Size([64])\n",
      "torch.Size([64, 1, 18])\n",
      "torch.Size([64])\n"
     ]
    },
    {
     "name": "stderr",
     "output_type": "stream",
     "text": [
      "Epoch [2/5], loss_mean=2.532 :  83%|████████▎ | 1579/1898 [00:26<00:05, 60.29it/s]"
     ]
    },
    {
     "name": "stdout",
     "output_type": "stream",
     "text": [
      "torch.Size([64, 1, 18])\n",
      "torch.Size([64])\n",
      "torch.Size([64, 1, 18])\n",
      "torch.Size([64])\n",
      "torch.Size([64, 1, 18])\n",
      "torch.Size([64])\n",
      "torch.Size([64, 1, 18])\n",
      "torch.Size([64])\n",
      "torch.Size([64, 1, 18])\n",
      "torch.Size([64])\n",
      "torch.Size([64, 1, 18])\n",
      "torch.Size([64])\n",
      "torch.Size([64, 1, 18])\n",
      "torch.Size([64])\n",
      "torch.Size([64, 1, 18])\n",
      "torch.Size([64])\n",
      "torch.Size([64, 1, 18])\n",
      "torch.Size([64])\n",
      "torch.Size([64, 1, 18])\n",
      "torch.Size([64])\n",
      "torch.Size([64, 1, 18])\n",
      "torch.Size([64])\n"
     ]
    },
    {
     "name": "stderr",
     "output_type": "stream",
     "text": [
      "Epoch [2/5], loss_mean=2.532 :  84%|████████▎ | 1586/1898 [00:26<00:05, 60.23it/s]"
     ]
    },
    {
     "name": "stdout",
     "output_type": "stream",
     "text": [
      "torch.Size([64, 1, 18])\n",
      "torch.Size([64])\n",
      "torch.Size([64, 1, 18])\n",
      "torch.Size([64])\n",
      "torch.Size([64, 1, 18])\n",
      "torch.Size([64])\n",
      "torch.Size([64, 1, 18])\n",
      "torch.Size([64])\n",
      "torch.Size([64, 1, 18])\n",
      "torch.Size([64])\n",
      "torch.Size([64, 1, 18])\n",
      "torch.Size([64])\n",
      "torch.Size([64, 1, 18])\n",
      "torch.Size([64])\n",
      "torch.Size([64, 1, 18])\n",
      "torch.Size([64])\n",
      "torch.Size([64, 1, 18])\n",
      "torch.Size([64])\n",
      "torch.Size([64, 1, 18])\n",
      "torch.Size([64])\n",
      "torch.Size([64, 1, 18])\n",
      "torch.Size([64])\n",
      "torch.Size([64, 1, 18])\n",
      "torch.Size([64])\n",
      "torch.Size([64, 1, 18])\n",
      "torch.Size([64])\n"
     ]
    },
    {
     "name": "stderr",
     "output_type": "stream",
     "text": [
      "Epoch [2/5], loss_mean=2.532 :  84%|████████▍ | 1596/1898 [00:27<00:04, 66.01it/s]"
     ]
    },
    {
     "name": "stdout",
     "output_type": "stream",
     "text": [
      "torch.Size([64, 1, 18])\n",
      "torch.Size([64])\n",
      "torch.Size([64, 1, 18])\n",
      "torch.Size([64])\n",
      "torch.Size([64, 1, 18])\n",
      "torch.Size([64])\n"
     ]
    },
    {
     "name": "stderr",
     "output_type": "stream",
     "text": [
      "Epoch [2/5], loss_mean=2.532 :  84%|████████▍ | 1603/1898 [00:27<00:07, 37.12it/s]"
     ]
    },
    {
     "name": "stdout",
     "output_type": "stream",
     "text": [
      "torch.Size([64, 1, 18])\n",
      "torch.Size([64])\n",
      "torch.Size([64, 1, 18])\n",
      "torch.Size([64])\n",
      "torch.Size([64, 1, 18])\n",
      "torch.Size([64])\n",
      "torch.Size([64, 1, 18])\n",
      "torch.Size([64])\n",
      "torch.Size([64, 1, 18])\n",
      "torch.Size([64])\n",
      "torch.Size([64, 1, 18])\n",
      "torch.Size([64])\n",
      "torch.Size([64, 1, 18])\n",
      "torch.Size([64])\n",
      "torch.Size([64, 1, 18])\n",
      "torch.Size([64])\n",
      "torch.Size([64, 1, 18])\n",
      "torch.Size([64])\n"
     ]
    },
    {
     "name": "stderr",
     "output_type": "stream",
     "text": [
      "Epoch [2/5], loss_mean=2.532 :  85%|████████▌ | 1618/1898 [00:27<00:05, 48.51it/s]"
     ]
    },
    {
     "name": "stdout",
     "output_type": "stream",
     "text": [
      "torch.Size([64, 1, 18])\n",
      "torch.Size([64])\n",
      "torch.Size([64, 1, 18])\n",
      "torch.Size([64])\n",
      "torch.Size([64, 1, 18])\n",
      "torch.Size([64])\n",
      "torch.Size([64, 1, 18])\n",
      "torch.Size([64])\n",
      "torch.Size([64, 1, 18])\n",
      "torch.Size([64])\n",
      "torch.Size([64, 1, 18])\n",
      "torch.Size([64])\n",
      "torch.Size([64, 1, 18])\n",
      "torch.Size([64])\n",
      "torch.Size([64, 1, 18])\n",
      "torch.Size([64])\n",
      "torch.Size([64, 1, 18])\n",
      "torch.Size([64])\n",
      "torch.Size([64, 1, 18])\n",
      "torch.Size([64])\n",
      "torch.Size([64, 1, 18])\n",
      "torch.Size([64])\n",
      "torch.Size([64, 1, 18])\n",
      "torch.Size([64])\n"
     ]
    },
    {
     "name": "stderr",
     "output_type": "stream",
     "text": [
      "Epoch [2/5], loss_mean=2.532 :  86%|████████▌ | 1625/1898 [00:27<00:05, 49.31it/s]"
     ]
    },
    {
     "name": "stdout",
     "output_type": "stream",
     "text": [
      "torch.Size([64, 1, 18])\n",
      "torch.Size([64])\n",
      "torch.Size([64, 1, 18])\n",
      "torch.Size([64])\n",
      "torch.Size([64, 1, 18])\n",
      "torch.Size([64])\n",
      "torch.Size([64, 1, 18])\n",
      "torch.Size([64])\n",
      "torch.Size([64, 1, 18])\n",
      "torch.Size([64])\n",
      "torch.Size([64, 1, 18])\n",
      "torch.Size([64])\n",
      "torch.Size([64, 1, 18])\n",
      "torch.Size([64])\n",
      "torch.Size([64, 1, 18])\n",
      "torch.Size([64])\n",
      "torch.Size([64, 1, 18])\n",
      "torch.Size([64])\n",
      "torch.Size([64, 1, 18])\n",
      "torch.Size([64])\n",
      "torch.Size([64, 1, 18])\n",
      "torch.Size([64])\n"
     ]
    },
    {
     "name": "stderr",
     "output_type": "stream",
     "text": [
      "Epoch [2/5], loss_mean=2.532 :  86%|████████▌ | 1632/1898 [00:27<00:05, 48.12it/s]"
     ]
    },
    {
     "name": "stdout",
     "output_type": "stream",
     "text": [
      "torch.Size([64, 1, 18])\n",
      "torch.Size([64])\n",
      "torch.Size([64, 1, 18])\n",
      "torch.Size([64])\n",
      "torch.Size([64, 1, 18])\n",
      "torch.Size([64])\n",
      "torch.Size([64, 1, 18])\n",
      "torch.Size([64])\n",
      "torch.Size([64, 1, 18])\n",
      "torch.Size([64])\n",
      "torch.Size([64, 1, 18])\n",
      "torch.Size([64])\n",
      "torch.Size([64, 1, 18])\n",
      "torch.Size([64])\n",
      "torch.Size([64, 1, 18])\n",
      "torch.Size([64])\n",
      "torch.Size([64, 1, 18])\n",
      "torch.Size([64])\n",
      "torch.Size([64, 1, 18])\n",
      "torch.Size([64])\n"
     ]
    },
    {
     "name": "stderr",
     "output_type": "stream",
     "text": [
      "Epoch [2/5], loss_mean=2.532 :  87%|████████▋ | 1648/1898 [00:28<00:04, 59.01it/s]"
     ]
    },
    {
     "name": "stdout",
     "output_type": "stream",
     "text": [
      "torch.Size([64, 1, 18])\n",
      "torch.Size([64])\n",
      "torch.Size([64, 1, 18])\n",
      "torch.Size([64])\n",
      "torch.Size([64, 1, 18])\n",
      "torch.Size([64])\n",
      "torch.Size([64, 1, 18])\n",
      "torch.Size([64])\n",
      "torch.Size([64, 1, 18])\n",
      "torch.Size([64])\n",
      "torch.Size([64, 1, 18])\n",
      "torch.Size([64])\n",
      "torch.Size([64, 1, 18])\n",
      "torch.Size([64])\n",
      "torch.Size([64, 1, 18])\n",
      "torch.Size([64])\n",
      "torch.Size([64, 1, 18])\n",
      "torch.Size([64])\n",
      "torch.Size([64, 1, 18])\n",
      "torch.Size([64])\n",
      "torch.Size([64, 1, 18])\n",
      "torch.Size([64])\n",
      "torch.Size([64, 1, 18])\n",
      "torch.Size([64])\n",
      "torch.Size([64, 1, 18])\n",
      "torch.Size([64])\n",
      "torch.Size([64, 1, 18])\n",
      "torch.Size([64])\n",
      "torch.Size([64, 1, 18])\n",
      "torch.Size([64])\n",
      "torch.Size([64, 1, 18])\n",
      "torch.Size([64])\n"
     ]
    },
    {
     "name": "stderr",
     "output_type": "stream",
     "text": [
      "Epoch [2/5], loss_mean=2.532 :  88%|████████▊ | 1666/1898 [00:28<00:03, 69.14it/s]"
     ]
    },
    {
     "name": "stdout",
     "output_type": "stream",
     "text": [
      "torch.Size([64, 1, 18])\n",
      "torch.Size([64])\n",
      "torch.Size([64, 1, 18])\n",
      "torch.Size([64])\n",
      "torch.Size([64, 1, 18])\n",
      "torch.Size([64])\n",
      "torch.Size([64, 1, 18])\n",
      "torch.Size([64])\n",
      "torch.Size([64, 1, 18])\n",
      "torch.Size([64])\n",
      "torch.Size([64, 1, 18])\n",
      "torch.Size([64])\n",
      "torch.Size([64, 1, 18])\n",
      "torch.Size([64])\n",
      "torch.Size([64, 1, 18])\n",
      "torch.Size([64])\n",
      "torch.Size([64, 1, 18])\n",
      "torch.Size([64])\n",
      "torch.Size([64, 1, 18])\n",
      "torch.Size([64])\n",
      "torch.Size([64, 1, 18])\n",
      "torch.Size([64])\n",
      "torch.Size([64, 1, 18])\n",
      "torch.Size([64])\n"
     ]
    },
    {
     "name": "stderr",
     "output_type": "stream",
     "text": [
      "Epoch [2/5], loss_mean=2.532 :  88%|████████▊ | 1674/1898 [00:28<00:03, 63.25it/s]"
     ]
    },
    {
     "name": "stdout",
     "output_type": "stream",
     "text": [
      "torch.Size([64, 1, 18])\n",
      "torch.Size([64])\n",
      "torch.Size([64, 1, 18])\n",
      "torch.Size([64])\n",
      "torch.Size([64, 1, 18])\n",
      "torch.Size([64])\n",
      "torch.Size([64, 1, 18])\n",
      "torch.Size([64])\n",
      "torch.Size([64, 1, 18])\n",
      "torch.Size([64])\n",
      "torch.Size([64, 1, 18])\n",
      "torch.Size([64])\n",
      "torch.Size([64, 1, 18])\n",
      "torch.Size([64])\n",
      "torch.Size([64, 1, 18])\n",
      "torch.Size([64])\n",
      "torch.Size([64, 1, 18])\n",
      "torch.Size([64])\n",
      "torch.Size([64, 1, 18])\n",
      "torch.Size([64])\n",
      "torch.Size([64, 1, 18])\n",
      "torch.Size([64])\n",
      "torch.Size([64, 1, 18])\n",
      "torch.Size([64])\n",
      "torch.Size([64, 1, 18])\n",
      "torch.Size([64])\n"
     ]
    },
    {
     "name": "stderr",
     "output_type": "stream",
     "text": [
      "Epoch [2/5], loss_mean=2.532 :  89%|████████▉ | 1691/1898 [00:28<00:02, 71.02it/s]"
     ]
    },
    {
     "name": "stdout",
     "output_type": "stream",
     "text": [
      "torch.Size([64, 1, 18])\n",
      "torch.Size([64])\n",
      "torch.Size([64, 1, 18])\n",
      "torch.Size([64])\n",
      "torch.Size([64, 1, 18])\n",
      "torch.Size([64])\n",
      "torch.Size([64, 1, 18])\n",
      "torch.Size([64])\n",
      "torch.Size([64, 1, 18])\n",
      "torch.Size([64])\n",
      "torch.Size([64, 1, 18])\n",
      "torch.Size([64])\n",
      "torch.Size([64, 1, 18])\n",
      "torch.Size([64])\n",
      "torch.Size([64, 1, 18])\n",
      "torch.Size([64])\n",
      "torch.Size([64, 1, 18])\n",
      "torch.Size([64])\n",
      "torch.Size([64, 1, 18])\n",
      "torch.Size([64])\n",
      "torch.Size([64, 1, 18])\n",
      "torch.Size([64])\n",
      "torch.Size([64, 1, 18])\n",
      "torch.Size([64])\n",
      "torch.Size([64, 1, 18])\n",
      "torch.Size([64])\n",
      "torch.Size([64, 1, 18])\n",
      "torch.Size([64])\n",
      "torch.Size([64, 1, 18])\n",
      "torch.Size([64])\n",
      "torch.Size([64, 1, 18])\n",
      "torch.Size([64])\n"
     ]
    },
    {
     "name": "stderr",
     "output_type": "stream",
     "text": [
      "Epoch [2/5], loss_mean=2.532 :  90%|████████▉ | 1707/1898 [00:28<00:02, 74.49it/s]"
     ]
    },
    {
     "name": "stdout",
     "output_type": "stream",
     "text": [
      "torch.Size([64, 1, 18])\n",
      "torch.Size([64])\n",
      "torch.Size([64, 1, 18])\n",
      "torch.Size([64])\n",
      "torch.Size([64, 1, 18])\n",
      "torch.Size([64])\n",
      "torch.Size([64, 1, 18])\n",
      "torch.Size([64])\n",
      "torch.Size([64, 1, 18])\n",
      "torch.Size([64])\n",
      "torch.Size([64, 1, 18])\n",
      "torch.Size([64])\n",
      "torch.Size([64, 1, 18])\n",
      "torch.Size([64])\n",
      "torch.Size([64, 1, 18])\n",
      "torch.Size([64])\n",
      "torch.Size([64, 1, 18])\n",
      "torch.Size([64])\n",
      "torch.Size([64, 1, 18])\n",
      "torch.Size([64])\n",
      "torch.Size([64, 1, 18])\n",
      "torch.Size([64])\n",
      "torch.Size([64, 1, 18])\n",
      "torch.Size([64])\n",
      "torch.Size([64, 1, 18])\n",
      "torch.Size([64])\n",
      "torch.Size([64, 1, 18])\n",
      "torch.Size([64])\n"
     ]
    },
    {
     "name": "stderr",
     "output_type": "stream",
     "text": [
      "Epoch [2/5], loss_mean=2.532 :  91%|█████████ | 1726/1898 [00:29<00:02, 79.78it/s]"
     ]
    },
    {
     "name": "stdout",
     "output_type": "stream",
     "text": [
      "torch.Size([64, 1, 18])\n",
      "torch.Size([64])\n",
      "torch.Size([64, 1, 18])\n",
      "torch.Size([64])\n",
      "torch.Size([64, 1, 18])\n",
      "torch.Size([64])\n",
      "torch.Size([64, 1, 18])\n",
      "torch.Size([64])\n",
      "torch.Size([64, 1, 18])\n",
      "torch.Size([64])\n",
      "torch.Size([64, 1, 18])\n",
      "torch.Size([64])\n",
      "torch.Size([64, 1, 18])\n",
      "torch.Size([64])\n",
      "torch.Size([64, 1, 18])\n",
      "torch.Size([64])\n",
      "torch.Size([64, 1, 18])\n",
      "torch.Size([64])\n",
      "torch.Size([64, 1, 18])\n",
      "torch.Size([64])\n",
      "torch.Size([64, 1, 18])\n",
      "torch.Size([64])\n",
      "torch.Size([64, 1, 18])\n",
      "torch.Size([64])\n",
      "torch.Size([64, 1, 18])\n",
      "torch.Size([64])\n",
      "torch.Size([64, 1, 18])\n",
      "torch.Size([64])\n",
      "torch.Size([64, 1, 18])\n",
      "torch.Size([64])\n",
      "torch.Size([64, 1, 18])\n",
      "torch.Size([64])\n",
      "torch.Size([64, 1, 18])\n",
      "torch.Size([64])\n"
     ]
    },
    {
     "name": "stderr",
     "output_type": "stream",
     "text": [
      "Epoch [2/5], loss_mean=2.532 :  91%|█████████ | 1726/1898 [00:29<00:02, 79.78it/s]"
     ]
    },
    {
     "name": "stdout",
     "output_type": "stream",
     "text": [
      "torch.Size([64, 1, 18])\n",
      "torch.Size([64])\n",
      "torch.Size([64, 1, 18])\n",
      "torch.Size([64])\n",
      "torch.Size([64, 1, 18])\n",
      "torch.Size([64])\n",
      "torch.Size([64, 1, 18])\n",
      "torch.Size([64])\n"
     ]
    },
    {
     "name": "stderr",
     "output_type": "stream",
     "text": [
      "Epoch [2/5], loss_mean=2.532 :  91%|█████████▏| 1735/1898 [00:29<00:03, 43.13it/s]"
     ]
    },
    {
     "name": "stdout",
     "output_type": "stream",
     "text": [
      "torch.Size([64, 1, 18])\n",
      "torch.Size([64])\n",
      "torch.Size([64, 1, 18])\n",
      "torch.Size([64])\n",
      "torch.Size([64, 1, 18])\n",
      "torch.Size([64])\n",
      "torch.Size([64, 1, 18])\n",
      "torch.Size([64])\n",
      "torch.Size([64, 1, 18])\n",
      "torch.Size([64])\n"
     ]
    },
    {
     "name": "stderr",
     "output_type": "stream",
     "text": [
      "Epoch [2/5], loss_mean=2.532 :  92%|█████████▏| 1751/1898 [00:29<00:02, 55.37it/s]"
     ]
    },
    {
     "name": "stdout",
     "output_type": "stream",
     "text": [
      "torch.Size([64, 1, 18])\n",
      "torch.Size([64])\n",
      "torch.Size([64, 1, 18])\n",
      "torch.Size([64])\n",
      "torch.Size([64, 1, 18])\n",
      "torch.Size([64])\n",
      "torch.Size([64, 1, 18])\n",
      "torch.Size([64])\n",
      "torch.Size([64, 1, 18])\n",
      "torch.Size([64])\n",
      "torch.Size([64, 1, 18])\n",
      "torch.Size([64])\n",
      "torch.Size([64, 1, 18])\n",
      "torch.Size([64])\n",
      "torch.Size([64, 1, 18])\n",
      "torch.Size([64])\n",
      "torch.Size([64, 1, 18])\n",
      "torch.Size([64])\n",
      "torch.Size([64, 1, 18])\n",
      "torch.Size([64])\n",
      "torch.Size([64, 1, 18])\n",
      "torch.Size([64])\n",
      "torch.Size([64, 1, 18])\n",
      "torch.Size([64])\n",
      "torch.Size([64, 1, 18])\n",
      "torch.Size([64])\n",
      "torch.Size([64, 1, 18])\n",
      "torch.Size([64])\n"
     ]
    },
    {
     "name": "stderr",
     "output_type": "stream",
     "text": [
      "Epoch [2/5], loss_mean=2.532 :  93%|█████████▎| 1761/1898 [00:29<00:02, 62.67it/s]"
     ]
    },
    {
     "name": "stdout",
     "output_type": "stream",
     "text": [
      "torch.Size([64, 1, 18])\n",
      "torch.Size([64])\n",
      "torch.Size([64, 1, 18])\n",
      "torch.Size([64])\n",
      "torch.Size([64, 1, 18])\n",
      "torch.Size([64])\n",
      "torch.Size([64, 1, 18])\n",
      "torch.Size([64])\n",
      "torch.Size([64, 1, 18])\n",
      "torch.Size([64])\n",
      "torch.Size([64, 1, 18])\n",
      "torch.Size([64])\n",
      "torch.Size([64, 1, 18])\n",
      "torch.Size([64])\n",
      "torch.Size([64, 1, 18])\n",
      "torch.Size([64])\n",
      "torch.Size([64, 1, 18])\n",
      "torch.Size([64])\n",
      "torch.Size([64, 1, 18])\n",
      "torch.Size([64])\n",
      "torch.Size([64, 1, 18])\n",
      "torch.Size([64])\n",
      "torch.Size([64, 1, 18])\n",
      "torch.Size([64])\n",
      "torch.Size([64, 1, 18])\n",
      "torch.Size([64])\n",
      "torch.Size([64, 1, 18])\n",
      "torch.Size([64])\n",
      "torch.Size([64, 1, 18])\n",
      "torch.Size([64])\n",
      "torch.Size([64, 1, 18])\n",
      "torch.Size([64])\n",
      "torch.Size([64, 1, 18])\n",
      "torch.Size([64])\n",
      "torch.Size([64, 1, 18])\n",
      "torch.Size([64])\n"
     ]
    },
    {
     "name": "stderr",
     "output_type": "stream",
     "text": [
      "Epoch [2/5], loss_mean=2.532 :  94%|█████████▍| 1783/1898 [00:30<00:01, 81.58it/s]"
     ]
    },
    {
     "name": "stdout",
     "output_type": "stream",
     "text": [
      "torch.Size([64, 1, 18])\n",
      "torch.Size([64])\n",
      "torch.Size([64, 1, 18])\n",
      "torch.Size([64])\n",
      "torch.Size([64, 1, 18])\n",
      "torch.Size([64])\n",
      "torch.Size([64, 1, 18])\n",
      "torch.Size([64])\n",
      "torch.Size([64, 1, 18])\n",
      "torch.Size([64])\n",
      "torch.Size([64, 1, 18])\n",
      "torch.Size([64])\n",
      "torch.Size([64, 1, 18])\n",
      "torch.Size([64])\n",
      "torch.Size([64, 1, 18])\n",
      "torch.Size([64])\n",
      "torch.Size([64, 1, 18])\n",
      "torch.Size([64])\n",
      "torch.Size([64, 1, 18])\n",
      "torch.Size([64])\n",
      "torch.Size([64, 1, 18])\n",
      "torch.Size([64])\n",
      "torch.Size([64, 1, 18])\n",
      "torch.Size([64])\n",
      "torch.Size([64, 1, 18])\n",
      "torch.Size([64])\n",
      "torch.Size([64, 1, 18])\n",
      "torch.Size([64])\n",
      "torch.Size([64, 1, 18])\n",
      "torch.Size([64])\n",
      "torch.Size([64, 1, 18])\n",
      "torch.Size([64])\n",
      "torch.Size([64, 1, 18])\n",
      "torch.Size([64])\n",
      "torch.Size([64, 1, 18])\n",
      "torch.Size([64])\n",
      "torch.Size([64, 1, 18])\n",
      "torch.Size([64])\n",
      "torch.Size([64, 1, 18])\n",
      "torch.Size([64])\n",
      "torch.Size([64, 1, 18])\n",
      "torch.Size([64])\n"
     ]
    },
    {
     "name": "stderr",
     "output_type": "stream",
     "text": [
      "Epoch [2/5], loss_mean=2.532 :  95%|█████████▌| 1806/1898 [00:30<00:01, 89.63it/s]"
     ]
    },
    {
     "name": "stdout",
     "output_type": "stream",
     "text": [
      "torch.Size([64, 1, 18])\n",
      "torch.Size([64])\n",
      "torch.Size([64, 1, 18])\n",
      "torch.Size([64])\n",
      "torch.Size([64, 1, 18])\n",
      "torch.Size([64])\n",
      "torch.Size([64, 1, 18])\n",
      "torch.Size([64])\n",
      "torch.Size([64, 1, 18])\n",
      "torch.Size([64])\n",
      "torch.Size([64, 1, 18])\n",
      "torch.Size([64])\n",
      "torch.Size([64, 1, 18])\n",
      "torch.Size([64])\n",
      "torch.Size([64, 1, 18])\n",
      "torch.Size([64])\n",
      "torch.Size([64, 1, 18])\n",
      "torch.Size([64])\n",
      "torch.Size([64, 1, 18])\n",
      "torch.Size([64])\n",
      "torch.Size([64, 1, 18])\n",
      "torch.Size([64])\n",
      "torch.Size([64, 1, 18])\n",
      "torch.Size([64])\n",
      "torch.Size([64, 1, 18])\n",
      "torch.Size([64])\n",
      "torch.Size([64, 1, 18])\n",
      "torch.Size([64])\n",
      "torch.Size([64, 1, 18])\n",
      "torch.Size([64])\n",
      "torch.Size([64, 1, 18])\n",
      "torch.Size([64])\n",
      "torch.Size([64, 1, 18])\n",
      "torch.Size([64])\n",
      "torch.Size([64, 1, 18])\n",
      "torch.Size([64])\n",
      "torch.Size([64, 1, 18])\n",
      "torch.Size([64])\n"
     ]
    },
    {
     "name": "stderr",
     "output_type": "stream",
     "text": [
      "Epoch [2/5], loss_mean=2.532 :  96%|█████████▌| 1816/1898 [00:30<00:00, 88.50it/s]"
     ]
    },
    {
     "name": "stdout",
     "output_type": "stream",
     "text": [
      "torch.Size([64, 1, 18])\n",
      "torch.Size([64])\n",
      "torch.Size([64, 1, 18])\n",
      "torch.Size([64])\n",
      "torch.Size([64, 1, 18])\n",
      "torch.Size([64])\n",
      "torch.Size([64, 1, 18])\n",
      "torch.Size([64])\n",
      "torch.Size([64, 1, 18])\n",
      "torch.Size([64])\n",
      "torch.Size([64, 1, 18])\n",
      "torch.Size([64])\n",
      "torch.Size([64, 1, 18])\n",
      "torch.Size([64])\n",
      "torch.Size([64, 1, 18])\n",
      "torch.Size([64])\n",
      "torch.Size([64, 1, 18])\n",
      "torch.Size([64])\n",
      "torch.Size([64, 1, 18])\n",
      "torch.Size([64])\n",
      "torch.Size([64, 1, 18])\n",
      "torch.Size([64])\n",
      "torch.Size([64, 1, 18])\n",
      "torch.Size([64])\n",
      "torch.Size([64, 1, 18])\n",
      "torch.Size([64])\n",
      "torch.Size([64, 1, 18])\n",
      "torch.Size([64])\n",
      "torch.Size([64, 1, 18])\n",
      "torch.Size([64])\n"
     ]
    },
    {
     "name": "stderr",
     "output_type": "stream",
     "text": [
      "Epoch [2/5], loss_mean=2.532 :  97%|█████████▋| 1837/1898 [00:30<00:00, 89.94it/s]"
     ]
    },
    {
     "name": "stdout",
     "output_type": "stream",
     "text": [
      "torch.Size([64, 1, 18])\n",
      "torch.Size([64])\n",
      "torch.Size([64, 1, 18])\n",
      "torch.Size([64])\n",
      "torch.Size([64, 1, 18])\n",
      "torch.Size([64])\n",
      "torch.Size([64, 1, 18])\n",
      "torch.Size([64])\n",
      "torch.Size([64, 1, 18])\n",
      "torch.Size([64])\n",
      "torch.Size([64, 1, 18])\n",
      "torch.Size([64])\n",
      "torch.Size([64, 1, 18])\n",
      "torch.Size([64])\n",
      "torch.Size([64, 1, 18])\n",
      "torch.Size([64])\n",
      "torch.Size([64, 1, 18])\n",
      "torch.Size([64])\n",
      "torch.Size([64, 1, 18])\n",
      "torch.Size([64])\n",
      "torch.Size([64, 1, 18])\n",
      "torch.Size([64])\n",
      "torch.Size([64, 1, 18])\n",
      "torch.Size([64])\n",
      "torch.Size([64, 1, 18])\n",
      "torch.Size([64])\n",
      "torch.Size([64, 1, 18])\n",
      "torch.Size([64])\n",
      "torch.Size([64, 1, 18])\n",
      "torch.Size([64])\n",
      "torch.Size([64, 1, 18])\n",
      "torch.Size([64])\n",
      "torch.Size([64, 1, 18])\n",
      "torch.Size([64])\n",
      "torch.Size([64, 1, 18])\n",
      "torch.Size([64])\n"
     ]
    },
    {
     "name": "stderr",
     "output_type": "stream",
     "text": [
      "Epoch [2/5], loss_mean=2.532 :  97%|█████████▋| 1847/1898 [00:30<00:00, 70.62it/s]"
     ]
    },
    {
     "name": "stdout",
     "output_type": "stream",
     "text": [
      "torch.Size([64, 1, 18])\n",
      "torch.Size([64])\n",
      "torch.Size([64, 1, 18])\n",
      "torch.Size([64])\n",
      "torch.Size([64, 1, 18])\n",
      "torch.Size([64])\n",
      "torch.Size([64, 1, 18])\n",
      "torch.Size([64])\n",
      "torch.Size([64, 1, 18])\n",
      "torch.Size([64])\n",
      "torch.Size([64, 1, 18])\n",
      "torch.Size([64])\n",
      "torch.Size([64, 1, 18])\n",
      "torch.Size([64])\n",
      "torch.Size([64, 1, 18])\n",
      "torch.Size([64])\n",
      "torch.Size([64, 1, 18])\n",
      "torch.Size([64])\n",
      "torch.Size([64, 1, 18])\n",
      "torch.Size([64])\n",
      "torch.Size([64, 1, 18])\n",
      "torch.Size([64])\n",
      "torch.Size([64, 1, 18])\n",
      "torch.Size([64])\n",
      "torch.Size([64, 1, 18])\n",
      "torch.Size([64])\n"
     ]
    },
    {
     "name": "stderr",
     "output_type": "stream",
     "text": [
      "Epoch [2/5], loss_mean=2.532 :  98%|█████████▊| 1864/1898 [00:31<00:00, 71.59it/s]"
     ]
    },
    {
     "name": "stdout",
     "output_type": "stream",
     "text": [
      "torch.Size([64, 1, 18])\n",
      "torch.Size([64])\n",
      "torch.Size([64, 1, 18])\n",
      "torch.Size([64])\n",
      "torch.Size([64, 1, 18])\n",
      "torch.Size([64])\n",
      "torch.Size([64, 1, 18])\n",
      "torch.Size([64])\n",
      "torch.Size([64, 1, 18])\n",
      "torch.Size([64])\n",
      "torch.Size([64, 1, 18])\n",
      "torch.Size([64])\n",
      "torch.Size([64, 1, 18])\n",
      "torch.Size([64])\n",
      "torch.Size([64, 1, 18])\n",
      "torch.Size([64])\n",
      "torch.Size([64, 1, 18])\n",
      "torch.Size([64])\n",
      "torch.Size([64, 1, 18])\n",
      "torch.Size([64])\n",
      "torch.Size([64, 1, 18])\n",
      "torch.Size([64])\n",
      "torch.Size([64, 1, 18])\n",
      "torch.Size([64])\n",
      "torch.Size([64, 1, 18])\n",
      "torch.Size([64])\n",
      "torch.Size([64, 1, 18])\n",
      "torch.Size([64])\n"
     ]
    },
    {
     "name": "stderr",
     "output_type": "stream",
     "text": [
      "Epoch [2/5], loss_mean=2.532 :  99%|█████████▊| 1874/1898 [00:31<00:00, 77.07it/s]"
     ]
    },
    {
     "name": "stdout",
     "output_type": "stream",
     "text": [
      "torch.Size([64, 1, 18])\n",
      "torch.Size([64])\n",
      "torch.Size([64, 1, 18])\n",
      "torch.Size([64])\n",
      "torch.Size([64, 1, 18])\n",
      "torch.Size([64])\n",
      "torch.Size([64, 1, 18])\n",
      "torch.Size([64])\n",
      "torch.Size([64, 1, 18])\n",
      "torch.Size([64])\n",
      "torch.Size([64, 1, 18])\n",
      "torch.Size([64])\n",
      "torch.Size([64, 1, 18])\n",
      "torch.Size([64])\n",
      "torch.Size([64, 1, 18])\n",
      "torch.Size([64])\n",
      "torch.Size([64, 1, 18])\n",
      "torch.Size([64])\n",
      "torch.Size([64, 1, 18])\n",
      "torch.Size([64])\n",
      "torch.Size([64, 1, 18])\n",
      "torch.Size([64])\n",
      "torch.Size([64, 1, 18])\n",
      "torch.Size([64])\n",
      "torch.Size([64, 1, 18])\n",
      "torch.Size([64])\n",
      "torch.Size([64, 1, 18])\n",
      "torch.Size([64])\n",
      "torch.Size([64, 1, 18])\n",
      "torch.Size([64])\n"
     ]
    },
    {
     "name": "stderr",
     "output_type": "stream",
     "text": [
      "Epoch [2/5], loss_mean=2.532 :  99%|█████████▉| 1884/1898 [00:31<00:00, 70.47it/s]"
     ]
    },
    {
     "name": "stdout",
     "output_type": "stream",
     "text": [
      "torch.Size([64, 1, 18])\n",
      "torch.Size([64])\n",
      "torch.Size([64, 1, 18])\n",
      "torch.Size([64])\n"
     ]
    },
    {
     "name": "stderr",
     "output_type": "stream",
     "text": [
      "Epoch [2/5], loss_mean=2.532 : 100%|█████████▉| 1892/1898 [00:31<00:00, 47.09it/s]"
     ]
    },
    {
     "name": "stdout",
     "output_type": "stream",
     "text": [
      "torch.Size([64, 1, 18])\n",
      "torch.Size([64])\n",
      "torch.Size([64, 1, 18])\n",
      "torch.Size([64])\n",
      "torch.Size([64, 1, 18])\n",
      "torch.Size([64])\n",
      "torch.Size([64, 1, 18])\n",
      "torch.Size([64])\n",
      "torch.Size([64, 1, 18])\n",
      "torch.Size([64])\n",
      "torch.Size([64, 1, 18])\n",
      "torch.Size([64])\n",
      "torch.Size([64, 1, 18])\n",
      "torch.Size([64])\n",
      "torch.Size([64, 1, 18])\n",
      "torch.Size([64])\n",
      "torch.Size([64, 1, 18])\n",
      "torch.Size([64])\n",
      "torch.Size([64, 1, 18])\n",
      "torch.Size([64])\n",
      "torch.Size([64, 1, 18])\n",
      "torch.Size([64])\n",
      "torch.Size([16, 1, 18])\n",
      "torch.Size([16])\n"
     ]
    },
    {
     "name": "stderr",
     "output_type": "stream",
     "text": [
      "Epoch [2/5], loss_mean=2.532 : 100%|██████████| 1898/1898 [00:31<00:00, 59.76it/s]\n",
      "Epoch [3/5], loss_mean=2.531 :   0%|          | 8/1898 [00:00<00:25, 74.35it/s]"
     ]
    },
    {
     "name": "stdout",
     "output_type": "stream",
     "text": [
      "torch.Size([64, 1, 18])\n",
      "torch.Size([64])\n",
      "torch.Size([64, 1, 18])\n",
      "torch.Size([64])\n",
      "torch.Size([64, 1, 18])\n",
      "torch.Size([64])\n",
      "torch.Size([64, 1, 18])\n",
      "torch.Size([64])\n",
      "torch.Size([64, 1, 18])\n",
      "torch.Size([64])\n",
      "torch.Size([64, 1, 18])\n",
      "torch.Size([64])\n",
      "torch.Size([64, 1, 18])\n",
      "torch.Size([64])\n",
      "torch.Size([64, 1, 18])\n",
      "torch.Size([64])\n",
      "torch.Size([64, 1, 18])\n",
      "torch.Size([64])\n",
      "torch.Size([64, 1, 18])\n",
      "torch.Size([64])\n",
      "torch.Size([64, 1, 18])\n",
      "torch.Size([64])\n",
      "torch.Size([64, 1, 18])\n",
      "torch.Size([64])\n",
      "torch.Size([64, 1, 18])\n",
      "torch.Size([64])\n",
      "torch.Size([64, 1, 18])\n",
      "torch.Size([64])\n",
      "torch.Size([64, 1, 18])\n",
      "torch.Size([64])\n",
      "torch.Size([64, 1, 18])\n",
      "torch.Size([64])\n",
      "torch.Size([64, 1, 18])\n",
      "torch.Size([64])\n"
     ]
    },
    {
     "name": "stderr",
     "output_type": "stream",
     "text": [
      "Epoch [3/5], loss_mean=2.534 :   1%|▏         | 28/1898 [00:00<00:19, 95.12it/s]"
     ]
    },
    {
     "name": "stdout",
     "output_type": "stream",
     "text": [
      "torch.Size([64, 1, 18])\n",
      "torch.Size([64])\n",
      "torch.Size([64, 1, 18])\n",
      "torch.Size([64])\n",
      "torch.Size([64, 1, 18])\n",
      "torch.Size([64])\n",
      "torch.Size([64, 1, 18])\n",
      "torch.Size([64])\n",
      "torch.Size([64, 1, 18])\n",
      "torch.Size([64])\n",
      "torch.Size([64, 1, 18])\n",
      "torch.Size([64])\n",
      "torch.Size([64, 1, 18])\n",
      "torch.Size([64])\n",
      "torch.Size([64, 1, 18])\n",
      "torch.Size([64])\n",
      "torch.Size([64, 1, 18])\n",
      "torch.Size([64])\n",
      "torch.Size([64, 1, 18])\n",
      "torch.Size([64])\n",
      "torch.Size([64, 1, 18])\n",
      "torch.Size([64])\n",
      "torch.Size([64, 1, 18])\n",
      "torch.Size([64])\n",
      "torch.Size([64, 1, 18])\n",
      "torch.Size([64])\n",
      "torch.Size([64, 1, 18])\n",
      "torch.Size([64])\n",
      "torch.Size([64, 1, 18])\n",
      "torch.Size([64])\n",
      "torch.Size([64, 1, 18])\n",
      "torch.Size([64])\n",
      "torch.Size([64, 1, 18])\n",
      "torch.Size([64])\n",
      "torch.Size([64, 1, 18])\n",
      "torch.Size([64])\n",
      "torch.Size([64, 1, 18])\n",
      "torch.Size([64])\n"
     ]
    },
    {
     "name": "stderr",
     "output_type": "stream",
     "text": [
      "Epoch [3/5], loss_mean=2.533 :   2%|▏         | 40/1898 [00:00<00:18, 98.07it/s]"
     ]
    },
    {
     "name": "stdout",
     "output_type": "stream",
     "text": [
      "torch.Size([64, 1, 18])\n",
      "torch.Size([64])\n",
      "torch.Size([64, 1, 18])\n",
      "torch.Size([64])\n",
      "torch.Size([64, 1, 18])\n",
      "torch.Size([64])\n",
      "torch.Size([64, 1, 18])\n",
      "torch.Size([64])\n",
      "torch.Size([64, 1, 18])\n",
      "torch.Size([64])\n",
      "torch.Size([64, 1, 18])\n",
      "torch.Size([64])\n",
      "torch.Size([64, 1, 18])\n",
      "torch.Size([64])\n",
      "torch.Size([64, 1, 18])\n",
      "torch.Size([64])\n",
      "torch.Size([64, 1, 18])\n",
      "torch.Size([64])\n",
      "torch.Size([64, 1, 18])\n",
      "torch.Size([64])\n",
      "torch.Size([64, 1, 18])\n",
      "torch.Size([64])\n",
      "torch.Size([64, 1, 18])\n",
      "torch.Size([64])\n"
     ]
    },
    {
     "name": "stderr",
     "output_type": "stream",
     "text": [
      "Epoch [3/5], loss_mean=2.530 :   3%|▎         | 50/1898 [00:00<00:25, 73.55it/s]"
     ]
    },
    {
     "name": "stdout",
     "output_type": "stream",
     "text": [
      "torch.Size([64, 1, 18])\n",
      "torch.Size([64])\n",
      "torch.Size([64, 1, 18])\n",
      "torch.Size([64])\n",
      "torch.Size([64, 1, 18])\n",
      "torch.Size([64])\n",
      "torch.Size([64, 1, 18])\n",
      "torch.Size([64])\n",
      "torch.Size([64, 1, 18])\n",
      "torch.Size([64])\n",
      "torch.Size([64, 1, 18])\n",
      "torch.Size([64])\n",
      "torch.Size([64, 1, 18])\n",
      "torch.Size([64])\n"
     ]
    },
    {
     "name": "stderr",
     "output_type": "stream",
     "text": [
      "Epoch [3/5], loss_mean=2.532 :   3%|▎         | 66/1898 [00:00<00:31, 58.72it/s]"
     ]
    },
    {
     "name": "stdout",
     "output_type": "stream",
     "text": [
      "torch.Size([64, 1, 18])\n",
      "torch.Size([64])\n",
      "torch.Size([64, 1, 18])\n",
      "torch.Size([64])\n",
      "torch.Size([64, 1, 18])\n",
      "torch.Size([64])\n",
      "torch.Size([64, 1, 18])\n",
      "torch.Size([64])\n",
      "torch.Size([64, 1, 18])\n",
      "torch.Size([64])\n",
      "torch.Size([64, 1, 18])\n",
      "torch.Size([64])\n",
      "torch.Size([64, 1, 18])\n",
      "torch.Size([64])\n",
      "torch.Size([64, 1, 18])\n",
      "torch.Size([64])\n",
      "torch.Size([64, 1, 18])\n",
      "torch.Size([64])\n",
      "torch.Size([64, 1, 18])\n",
      "torch.Size([64])\n",
      "torch.Size([64, 1, 18])\n",
      "torch.Size([64])\n",
      "torch.Size([64, 1, 18])\n",
      "torch.Size([64])\n",
      "torch.Size([64, 1, 18])\n",
      "torch.Size([64])\n"
     ]
    },
    {
     "name": "stderr",
     "output_type": "stream",
     "text": [
      "Epoch [3/5], loss_mean=2.533 :   4%|▍         | 73/1898 [00:01<00:29, 61.09it/s]"
     ]
    },
    {
     "name": "stdout",
     "output_type": "stream",
     "text": [
      "torch.Size([64, 1, 18])\n",
      "torch.Size([64])\n",
      "torch.Size([64, 1, 18])\n",
      "torch.Size([64])\n",
      "torch.Size([64, 1, 18])\n",
      "torch.Size([64])\n",
      "torch.Size([64, 1, 18])\n",
      "torch.Size([64])\n",
      "torch.Size([64, 1, 18])\n",
      "torch.Size([64])\n",
      "torch.Size([64, 1, 18])\n",
      "torch.Size([64])\n",
      "torch.Size([64, 1, 18])\n",
      "torch.Size([64])\n",
      "torch.Size([64, 1, 18])\n",
      "torch.Size([64])\n",
      "torch.Size([64, 1, 18])\n",
      "torch.Size([64])\n",
      "torch.Size([64, 1, 18])\n",
      "torch.Size([64])\n",
      "torch.Size([64, 1, 18])\n",
      "torch.Size([64])\n",
      "torch.Size([64, 1, 18])\n",
      "torch.Size([64])\n",
      "torch.Size([64, 1, 18])\n",
      "torch.Size([64])\n",
      "torch.Size([64, 1, 18])\n",
      "torch.Size([64])\n"
     ]
    },
    {
     "name": "stderr",
     "output_type": "stream",
     "text": [
      "Epoch [3/5], loss_mean=2.535 :   5%|▍         | 90/1898 [00:01<00:27, 65.38it/s]"
     ]
    },
    {
     "name": "stdout",
     "output_type": "stream",
     "text": [
      "torch.Size([64, 1, 18])\n",
      "torch.Size([64])\n",
      "torch.Size([64, 1, 18])\n",
      "torch.Size([64])\n",
      "torch.Size([64, 1, 18])\n",
      "torch.Size([64])\n",
      "torch.Size([64, 1, 18])\n",
      "torch.Size([64])\n",
      "torch.Size([64, 1, 18])\n",
      "torch.Size([64])\n",
      "torch.Size([64, 1, 18])\n",
      "torch.Size([64])\n",
      "torch.Size([64, 1, 18])\n",
      "torch.Size([64])\n",
      "torch.Size([64, 1, 18])\n",
      "torch.Size([64])\n",
      "torch.Size([64, 1, 18])\n",
      "torch.Size([64])\n",
      "torch.Size([64, 1, 18])\n",
      "torch.Size([64])\n",
      "torch.Size([64, 1, 18])\n",
      "torch.Size([64])\n",
      "torch.Size([64, 1, 18])\n",
      "torch.Size([64])\n"
     ]
    },
    {
     "name": "stderr",
     "output_type": "stream",
     "text": [
      "Epoch [3/5], loss_mean=2.536 :   6%|▌         | 105/1898 [00:01<00:26, 68.56it/s]"
     ]
    },
    {
     "name": "stdout",
     "output_type": "stream",
     "text": [
      "torch.Size([64, 1, 18])\n",
      "torch.Size([64])\n",
      "torch.Size([64, 1, 18])\n",
      "torch.Size([64])\n",
      "torch.Size([64, 1, 18])\n",
      "torch.Size([64])\n",
      "torch.Size([64, 1, 18])\n",
      "torch.Size([64])\n",
      "torch.Size([64, 1, 18])\n",
      "torch.Size([64])\n",
      "torch.Size([64, 1, 18])\n",
      "torch.Size([64])\n",
      "torch.Size([64, 1, 18])\n",
      "torch.Size([64])\n",
      "torch.Size([64, 1, 18])\n",
      "torch.Size([64])\n",
      "torch.Size([64, 1, 18])\n",
      "torch.Size([64])\n",
      "torch.Size([64, 1, 18])\n",
      "torch.Size([64])\n",
      "torch.Size([64, 1, 18])\n",
      "torch.Size([64])\n",
      "torch.Size([64, 1, 18])\n",
      "torch.Size([64])\n"
     ]
    },
    {
     "name": "stderr",
     "output_type": "stream",
     "text": [
      "Epoch [3/5], loss_mean=2.537 :   6%|▌         | 105/1898 [00:01<00:26, 68.56it/s]"
     ]
    },
    {
     "name": "stdout",
     "output_type": "stream",
     "text": [
      "torch.Size([64, 1, 18])\n",
      "torch.Size([64])\n",
      "torch.Size([64, 1, 18])\n",
      "torch.Size([64])\n",
      "torch.Size([64, 1, 18])\n",
      "torch.Size([64])\n"
     ]
    },
    {
     "name": "stderr",
     "output_type": "stream",
     "text": [
      "Epoch [3/5], loss_mean=2.538 :   6%|▌         | 113/1898 [00:02<00:50, 35.17it/s]"
     ]
    },
    {
     "name": "stdout",
     "output_type": "stream",
     "text": [
      "torch.Size([64, 1, 18])\n",
      "torch.Size([64])\n",
      "torch.Size([64, 1, 18])\n",
      "torch.Size([64])\n",
      "torch.Size([64, 1, 18])\n",
      "torch.Size([64])\n",
      "torch.Size([64, 1, 18])\n",
      "torch.Size([64])\n",
      "torch.Size([64, 1, 18])\n",
      "torch.Size([64])\n",
      "torch.Size([64, 1, 18])\n",
      "torch.Size([64])\n",
      "torch.Size([64, 1, 18])\n",
      "torch.Size([64])\n",
      "torch.Size([64, 1, 18])\n",
      "torch.Size([64])\n",
      "torch.Size([64, 1, 18])\n",
      "torch.Size([64])\n"
     ]
    },
    {
     "name": "stderr",
     "output_type": "stream",
     "text": [
      "Epoch [3/5], loss_mean=2.539 :   7%|▋         | 132/1898 [00:02<00:32, 53.74it/s]"
     ]
    },
    {
     "name": "stdout",
     "output_type": "stream",
     "text": [
      "torch.Size([64, 1, 18])\n",
      "torch.Size([64])\n",
      "torch.Size([64, 1, 18])\n",
      "torch.Size([64])\n",
      "torch.Size([64, 1, 18])\n",
      "torch.Size([64])\n",
      "torch.Size([64, 1, 18])\n",
      "torch.Size([64])\n",
      "torch.Size([64, 1, 18])\n",
      "torch.Size([64])\n",
      "torch.Size([64, 1, 18])\n",
      "torch.Size([64])\n",
      "torch.Size([64, 1, 18])\n",
      "torch.Size([64])\n",
      "torch.Size([64, 1, 18])\n",
      "torch.Size([64])\n",
      "torch.Size([64, 1, 18])\n",
      "torch.Size([64])\n",
      "torch.Size([64, 1, 18])\n",
      "torch.Size([64])\n",
      "torch.Size([64, 1, 18])\n",
      "torch.Size([64])\n",
      "torch.Size([64, 1, 18])\n",
      "torch.Size([64])\n",
      "torch.Size([64, 1, 18])\n",
      "torch.Size([64])\n",
      "torch.Size([64, 1, 18])\n",
      "torch.Size([64])\n",
      "torch.Size([64, 1, 18])\n",
      "torch.Size([64])\n",
      "torch.Size([64, 1, 18])\n",
      "torch.Size([64])\n"
     ]
    },
    {
     "name": "stderr",
     "output_type": "stream",
     "text": [
      "Epoch [3/5], loss_mean=2.538 :   7%|▋         | 142/1898 [00:02<00:28, 60.59it/s]"
     ]
    },
    {
     "name": "stdout",
     "output_type": "stream",
     "text": [
      "torch.Size([64, 1, 18])\n",
      "torch.Size([64])\n",
      "torch.Size([64, 1, 18])\n",
      "torch.Size([64])\n",
      "torch.Size([64, 1, 18])\n",
      "torch.Size([64])\n",
      "torch.Size([64, 1, 18])\n",
      "torch.Size([64])\n",
      "torch.Size([64, 1, 18])\n",
      "torch.Size([64])\n",
      "torch.Size([64, 1, 18])\n",
      "torch.Size([64])\n",
      "torch.Size([64, 1, 18])\n",
      "torch.Size([64])\n",
      "torch.Size([64, 1, 18])\n",
      "torch.Size([64])\n",
      "torch.Size([64, 1, 18])\n",
      "torch.Size([64])\n",
      "torch.Size([64, 1, 18])\n",
      "torch.Size([64])\n",
      "torch.Size([64, 1, 18])\n",
      "torch.Size([64])\n",
      "torch.Size([64, 1, 18])\n",
      "torch.Size([64])\n",
      "torch.Size([64, 1, 18])\n",
      "torch.Size([64])\n"
     ]
    },
    {
     "name": "stderr",
     "output_type": "stream",
     "text": [
      "Epoch [3/5], loss_mean=2.538 :   8%|▊         | 150/1898 [00:02<00:32, 54.17it/s]"
     ]
    },
    {
     "name": "stdout",
     "output_type": "stream",
     "text": [
      "torch.Size([64, 1, 18])\n",
      "torch.Size([64])\n",
      "torch.Size([64, 1, 18])\n",
      "torch.Size([64])\n",
      "torch.Size([64, 1, 18])\n",
      "torch.Size([64])\n",
      "torch.Size([64, 1, 18])\n",
      "torch.Size([64])\n",
      "torch.Size([64, 1, 18])\n",
      "torch.Size([64])\n",
      "torch.Size([64, 1, 18])\n",
      "torch.Size([64])\n",
      "torch.Size([64, 1, 18])\n",
      "torch.Size([64])\n",
      "torch.Size([64, 1, 18])\n",
      "torch.Size([64])\n"
     ]
    },
    {
     "name": "stderr",
     "output_type": "stream",
     "text": [
      "Epoch [3/5], loss_mean=2.537 :   9%|▊         | 166/1898 [00:02<00:27, 62.31it/s]"
     ]
    },
    {
     "name": "stdout",
     "output_type": "stream",
     "text": [
      "torch.Size([64, 1, 18])\n",
      "torch.Size([64])\n",
      "torch.Size([64, 1, 18])\n",
      "torch.Size([64])\n",
      "torch.Size([64, 1, 18])\n",
      "torch.Size([64])\n",
      "torch.Size([64, 1, 18])\n",
      "torch.Size([64])\n",
      "torch.Size([64, 1, 18])\n",
      "torch.Size([64])\n",
      "torch.Size([64, 1, 18])\n",
      "torch.Size([64])\n",
      "torch.Size([64, 1, 18])\n",
      "torch.Size([64])\n",
      "torch.Size([64, 1, 18])\n",
      "torch.Size([64])\n",
      "torch.Size([64, 1, 18])\n",
      "torch.Size([64])\n",
      "torch.Size([64, 1, 18])\n",
      "torch.Size([64])\n",
      "torch.Size([64, 1, 18])\n",
      "torch.Size([64])\n",
      "torch.Size([64, 1, 18])\n",
      "torch.Size([64])\n",
      "torch.Size([64, 1, 18])\n",
      "torch.Size([64])\n",
      "torch.Size([64, 1, 18])\n",
      "torch.Size([64])\n",
      "torch.Size([64, 1, 18])\n",
      "torch.Size([64])\n"
     ]
    },
    {
     "name": "stderr",
     "output_type": "stream",
     "text": [
      "Epoch [3/5], loss_mean=2.537 :  10%|▉         | 184/1898 [00:02<00:23, 72.15it/s]"
     ]
    },
    {
     "name": "stdout",
     "output_type": "stream",
     "text": [
      "torch.Size([64, 1, 18])\n",
      "torch.Size([64])\n",
      "torch.Size([64, 1, 18])\n",
      "torch.Size([64])\n",
      "torch.Size([64, 1, 18])\n",
      "torch.Size([64])\n",
      "torch.Size([64, 1, 18])\n",
      "torch.Size([64])\n",
      "torch.Size([64, 1, 18])\n",
      "torch.Size([64])\n",
      "torch.Size([64, 1, 18])\n",
      "torch.Size([64])\n",
      "torch.Size([64, 1, 18])\n",
      "torch.Size([64])\n",
      "torch.Size([64, 1, 18])\n",
      "torch.Size([64])\n",
      "torch.Size([64, 1, 18])\n",
      "torch.Size([64])\n",
      "torch.Size([64, 1, 18])\n",
      "torch.Size([64])\n",
      "torch.Size([64, 1, 18])\n",
      "torch.Size([64])\n",
      "torch.Size([64, 1, 18])\n",
      "torch.Size([64])\n",
      "torch.Size([64, 1, 18])\n",
      "torch.Size([64])\n",
      "torch.Size([64, 1, 18])\n",
      "torch.Size([64])\n",
      "torch.Size([64, 1, 18])\n",
      "torch.Size([64])\n",
      "torch.Size([64, 1, 18])\n",
      "torch.Size([64])\n"
     ]
    },
    {
     "name": "stderr",
     "output_type": "stream",
     "text": [
      "Epoch [3/5], loss_mean=2.537 :  10%|█         | 192/1898 [00:03<00:23, 71.25it/s]"
     ]
    },
    {
     "name": "stdout",
     "output_type": "stream",
     "text": [
      "torch.Size([64, 1, 18])\n",
      "torch.Size([64])\n",
      "torch.Size([64, 1, 18])\n",
      "torch.Size([64])\n",
      "torch.Size([64, 1, 18])\n",
      "torch.Size([64])\n",
      "torch.Size([64, 1, 18])\n",
      "torch.Size([64])\n",
      "torch.Size([64, 1, 18])\n",
      "torch.Size([64])\n",
      "torch.Size([64, 1, 18])\n",
      "torch.Size([64])\n",
      "torch.Size([64, 1, 18])\n",
      "torch.Size([64])\n",
      "torch.Size([64, 1, 18])\n",
      "torch.Size([64])\n",
      "torch.Size([64, 1, 18])\n",
      "torch.Size([64])\n",
      "torch.Size([64, 1, 18])\n",
      "torch.Size([64])\n",
      "torch.Size([64, 1, 18])\n",
      "torch.Size([64])\n",
      "torch.Size([64, 1, 18])\n",
      "torch.Size([64])\n",
      "torch.Size([64, 1, 18])\n",
      "torch.Size([64])\n",
      "torch.Size([64, 1, 18])\n",
      "torch.Size([64])\n"
     ]
    },
    {
     "name": "stderr",
     "output_type": "stream",
     "text": [
      "Epoch [3/5], loss_mean=2.537 :  11%|█         | 212/1898 [00:03<00:20, 81.65it/s]"
     ]
    },
    {
     "name": "stdout",
     "output_type": "stream",
     "text": [
      "torch.Size([64, 1, 18])\n",
      "torch.Size([64])\n",
      "torch.Size([64, 1, 18])\n",
      "torch.Size([64])\n",
      "torch.Size([64, 1, 18])\n",
      "torch.Size([64])\n",
      "torch.Size([64, 1, 18])\n",
      "torch.Size([64])\n",
      "torch.Size([64, 1, 18])\n",
      "torch.Size([64])\n",
      "torch.Size([64, 1, 18])\n",
      "torch.Size([64])\n",
      "torch.Size([64, 1, 18])\n",
      "torch.Size([64])\n",
      "torch.Size([64, 1, 18])\n",
      "torch.Size([64])\n",
      "torch.Size([64, 1, 18])\n",
      "torch.Size([64])\n",
      "torch.Size([64, 1, 18])\n",
      "torch.Size([64])\n",
      "torch.Size([64, 1, 18])\n",
      "torch.Size([64])\n",
      "torch.Size([64, 1, 18])\n",
      "torch.Size([64])\n",
      "torch.Size([64, 1, 18])\n",
      "torch.Size([64])\n",
      "torch.Size([64, 1, 18])\n",
      "torch.Size([64])\n",
      "torch.Size([64, 1, 18])\n",
      "torch.Size([64])\n",
      "torch.Size([64, 1, 18])\n",
      "torch.Size([64])\n",
      "torch.Size([64, 1, 18])\n",
      "torch.Size([64])\n",
      "torch.Size([64, 1, 18])\n",
      "torch.Size([64])\n"
     ]
    },
    {
     "name": "stderr",
     "output_type": "stream",
     "text": [
      "Epoch [3/5], loss_mean=2.536 :  12%|█▏        | 233/1898 [00:03<00:18, 90.08it/s]"
     ]
    },
    {
     "name": "stdout",
     "output_type": "stream",
     "text": [
      "torch.Size([64, 1, 18])\n",
      "torch.Size([64])\n",
      "torch.Size([64, 1, 18])\n",
      "torch.Size([64])\n",
      "torch.Size([64, 1, 18])\n",
      "torch.Size([64])\n",
      "torch.Size([64, 1, 18])\n",
      "torch.Size([64])\n",
      "torch.Size([64, 1, 18])\n",
      "torch.Size([64])\n",
      "torch.Size([64, 1, 18])\n",
      "torch.Size([64])\n",
      "torch.Size([64, 1, 18])\n",
      "torch.Size([64])\n",
      "torch.Size([64, 1, 18])\n",
      "torch.Size([64])\n",
      "torch.Size([64, 1, 18])\n",
      "torch.Size([64])\n",
      "torch.Size([64, 1, 18])\n",
      "torch.Size([64])\n",
      "torch.Size([64, 1, 18])\n",
      "torch.Size([64])\n",
      "torch.Size([64, 1, 18])\n",
      "torch.Size([64])\n",
      "torch.Size([64, 1, 18])\n",
      "torch.Size([64])\n",
      "torch.Size([64, 1, 18])\n",
      "torch.Size([64])\n",
      "torch.Size([64, 1, 18])\n",
      "torch.Size([64])\n",
      "torch.Size([64, 1, 18])\n",
      "torch.Size([64])\n",
      "torch.Size([64, 1, 18])\n",
      "torch.Size([64])\n",
      "torch.Size([64, 1, 18])\n",
      "torch.Size([64])\n",
      "torch.Size([64, 1, 18])\n",
      "torch.Size([64])\n"
     ]
    },
    {
     "name": "stderr",
     "output_type": "stream",
     "text": [
      "Epoch [3/5], loss_mean=2.536 :  12%|█▏        | 233/1898 [00:03<00:18, 90.08it/s]"
     ]
    },
    {
     "name": "stdout",
     "output_type": "stream",
     "text": [
      "torch.Size([64, 1, 18])\n",
      "torch.Size([64])\n",
      "torch.Size([64, 1, 18])\n",
      "torch.Size([64])\n",
      "torch.Size([64, 1, 18])\n",
      "torch.Size([64])\n",
      "torch.Size([64, 1, 18])\n",
      "torch.Size([64])\n"
     ]
    },
    {
     "name": "stderr",
     "output_type": "stream",
     "text": [
      "Epoch [3/5], loss_mean=2.535 :  13%|█▎        | 251/1898 [00:03<00:25, 63.90it/s]"
     ]
    },
    {
     "name": "stdout",
     "output_type": "stream",
     "text": [
      "torch.Size([64, 1, 18])\n",
      "torch.Size([64])\n",
      "torch.Size([64, 1, 18])\n",
      "torch.Size([64])\n",
      "torch.Size([64, 1, 18])\n",
      "torch.Size([64])\n",
      "torch.Size([64, 1, 18])\n",
      "torch.Size([64])\n",
      "torch.Size([64, 1, 18])\n",
      "torch.Size([64])\n",
      "torch.Size([64, 1, 18])\n",
      "torch.Size([64])\n",
      "torch.Size([64, 1, 18])\n",
      "torch.Size([64])\n",
      "torch.Size([64, 1, 18])\n",
      "torch.Size([64])\n",
      "torch.Size([64, 1, 18])\n",
      "torch.Size([64])\n",
      "torch.Size([64, 1, 18])\n",
      "torch.Size([64])\n",
      "torch.Size([64, 1, 18])\n",
      "torch.Size([64])\n",
      "torch.Size([64, 1, 18])\n",
      "torch.Size([64])\n",
      "torch.Size([64, 1, 18])\n",
      "torch.Size([64])\n"
     ]
    },
    {
     "name": "stderr",
     "output_type": "stream",
     "text": [
      "Epoch [3/5], loss_mean=2.535 :  14%|█▎        | 259/1898 [00:04<00:24, 66.64it/s]"
     ]
    },
    {
     "name": "stdout",
     "output_type": "stream",
     "text": [
      "torch.Size([64, 1, 18])\n",
      "torch.Size([64])\n",
      "torch.Size([64, 1, 18])\n",
      "torch.Size([64])\n",
      "torch.Size([64, 1, 18])\n",
      "torch.Size([64])\n",
      "torch.Size([64, 1, 18])\n",
      "torch.Size([64])\n",
      "torch.Size([64, 1, 18])\n",
      "torch.Size([64])\n",
      "torch.Size([64, 1, 18])\n",
      "torch.Size([64])\n",
      "torch.Size([64, 1, 18])\n",
      "torch.Size([64])\n",
      "torch.Size([64, 1, 18])\n",
      "torch.Size([64])\n",
      "torch.Size([64, 1, 18])\n",
      "torch.Size([64])\n",
      "torch.Size([64, 1, 18])\n",
      "torch.Size([64])\n",
      "torch.Size([64, 1, 18])\n",
      "torch.Size([64])\n",
      "torch.Size([64, 1, 18])\n",
      "torch.Size([64])\n"
     ]
    },
    {
     "name": "stderr",
     "output_type": "stream",
     "text": [
      "Epoch [3/5], loss_mean=2.535 :  14%|█▍        | 275/1898 [00:04<00:24, 66.37it/s]"
     ]
    },
    {
     "name": "stdout",
     "output_type": "stream",
     "text": [
      "torch.Size([64, 1, 18])\n",
      "torch.Size([64])\n",
      "torch.Size([64, 1, 18])\n",
      "torch.Size([64])\n",
      "torch.Size([64, 1, 18])\n",
      "torch.Size([64])\n",
      "torch.Size([64, 1, 18])\n",
      "torch.Size([64])\n",
      "torch.Size([64, 1, 18])\n",
      "torch.Size([64])\n",
      "torch.Size([64, 1, 18])\n",
      "torch.Size([64])\n",
      "torch.Size([64, 1, 18])\n",
      "torch.Size([64])\n",
      "torch.Size([64, 1, 18])\n",
      "torch.Size([64])\n",
      "torch.Size([64, 1, 18])\n",
      "torch.Size([64])\n",
      "torch.Size([64, 1, 18])\n",
      "torch.Size([64])\n",
      "torch.Size([64, 1, 18])\n",
      "torch.Size([64])\n",
      "torch.Size([64, 1, 18])\n",
      "torch.Size([64])\n",
      "torch.Size([64, 1, 18])\n",
      "torch.Size([64])\n",
      "torch.Size([64, 1, 18])\n",
      "torch.Size([64])\n",
      "torch.Size([64, 1, 18])\n",
      "torch.Size([64])\n",
      "torch.Size([64, 1, 18])\n",
      "torch.Size([64])\n"
     ]
    },
    {
     "name": "stderr",
     "output_type": "stream",
     "text": [
      "Epoch [3/5], loss_mean=2.535 :  15%|█▌        | 293/1898 [00:04<00:23, 68.41it/s]"
     ]
    },
    {
     "name": "stdout",
     "output_type": "stream",
     "text": [
      "torch.Size([64, 1, 18])\n",
      "torch.Size([64])\n",
      "torch.Size([64, 1, 18])\n",
      "torch.Size([64])\n",
      "torch.Size([64, 1, 18])\n",
      "torch.Size([64])\n",
      "torch.Size([64, 1, 18])\n",
      "torch.Size([64])\n",
      "torch.Size([64, 1, 18])\n",
      "torch.Size([64])\n",
      "torch.Size([64, 1, 18])\n",
      "torch.Size([64])\n",
      "torch.Size([64, 1, 18])\n",
      "torch.Size([64])\n",
      "torch.Size([64, 1, 18])\n",
      "torch.Size([64])\n",
      "torch.Size([64, 1, 18])\n",
      "torch.Size([64])\n",
      "torch.Size([64, 1, 18])\n",
      "torch.Size([64])\n",
      "torch.Size([64, 1, 18])\n",
      "torch.Size([64])\n",
      "torch.Size([64, 1, 18])\n",
      "torch.Size([64])\n"
     ]
    },
    {
     "name": "stderr",
     "output_type": "stream",
     "text": [
      "Epoch [3/5], loss_mean=2.534 :  16%|█▌        | 301/1898 [00:04<00:27, 58.24it/s]"
     ]
    },
    {
     "name": "stdout",
     "output_type": "stream",
     "text": [
      "torch.Size([64, 1, 18])\n",
      "torch.Size([64])\n",
      "torch.Size([64, 1, 18])\n",
      "torch.Size([64])\n",
      "torch.Size([64, 1, 18])\n",
      "torch.Size([64])\n",
      "torch.Size([64, 1, 18])\n",
      "torch.Size([64])\n",
      "torch.Size([64, 1, 18])\n",
      "torch.Size([64])\n",
      "torch.Size([64, 1, 18])\n",
      "torch.Size([64])\n",
      "torch.Size([64, 1, 18])\n",
      "torch.Size([64])\n",
      "torch.Size([64, 1, 18])\n",
      "torch.Size([64])\n"
     ]
    },
    {
     "name": "stderr",
     "output_type": "stream",
     "text": [
      "Epoch [3/5], loss_mean=2.534 :  16%|█▌        | 308/1898 [00:04<00:28, 55.12it/s]"
     ]
    },
    {
     "name": "stdout",
     "output_type": "stream",
     "text": [
      "torch.Size([64, 1, 18])\n",
      "torch.Size([64])\n",
      "torch.Size([64, 1, 18])\n",
      "torch.Size([64])\n",
      "torch.Size([64, 1, 18])\n",
      "torch.Size([64])\n",
      "torch.Size([64, 1, 18])\n",
      "torch.Size([64])\n",
      "torch.Size([64, 1, 18])\n",
      "torch.Size([64])\n",
      "torch.Size([64, 1, 18])\n",
      "torch.Size([64])\n",
      "torch.Size([64, 1, 18])\n",
      "torch.Size([64])\n",
      "torch.Size([64, 1, 18])\n",
      "torch.Size([64])\n",
      "torch.Size([64, 1, 18])\n",
      "torch.Size([64])\n",
      "torch.Size([64, 1, 18])\n",
      "torch.Size([64])\n"
     ]
    },
    {
     "name": "stderr",
     "output_type": "stream",
     "text": [
      "Epoch [3/5], loss_mean=2.534 :  17%|█▋        | 314/1898 [00:05<00:33, 47.55it/s]"
     ]
    },
    {
     "name": "stdout",
     "output_type": "stream",
     "text": [
      "torch.Size([64, 1, 18])\n",
      "torch.Size([64])\n",
      "torch.Size([64, 1, 18])\n",
      "torch.Size([64])\n",
      "torch.Size([64, 1, 18])\n",
      "torch.Size([64])\n",
      "torch.Size([64, 1, 18])\n",
      "torch.Size([64])\n",
      "torch.Size([64, 1, 18])\n",
      "torch.Size([64])\n",
      "torch.Size([64, 1, 18])\n",
      "torch.Size([64])\n"
     ]
    },
    {
     "name": "stderr",
     "output_type": "stream",
     "text": [
      "Epoch [3/5], loss_mean=2.534 :  17%|█▋        | 320/1898 [00:05<00:40, 39.33it/s]"
     ]
    },
    {
     "name": "stdout",
     "output_type": "stream",
     "text": [
      "torch.Size([64, 1, 18])\n",
      "torch.Size([64])\n",
      "torch.Size([64, 1, 18])\n",
      "torch.Size([64])\n",
      "torch.Size([64, 1, 18])\n",
      "torch.Size([64])\n",
      "torch.Size([64, 1, 18])\n",
      "torch.Size([64])\n",
      "torch.Size([64, 1, 18])\n",
      "torch.Size([64])\n",
      "torch.Size([64, 1, 18])\n",
      "torch.Size([64])\n",
      "torch.Size([64, 1, 18])\n",
      "torch.Size([64])\n"
     ]
    },
    {
     "name": "stderr",
     "output_type": "stream",
     "text": [
      "Epoch [3/5], loss_mean=2.533 :  17%|█▋        | 332/1898 [00:05<00:34, 45.93it/s]"
     ]
    },
    {
     "name": "stdout",
     "output_type": "stream",
     "text": [
      "torch.Size([64, 1, 18])\n",
      "torch.Size([64])\n",
      "torch.Size([64, 1, 18])\n",
      "torch.Size([64])\n",
      "torch.Size([64, 1, 18])\n",
      "torch.Size([64])\n",
      "torch.Size([64, 1, 18])\n",
      "torch.Size([64])\n",
      "torch.Size([64, 1, 18])\n",
      "torch.Size([64])\n",
      "torch.Size([64, 1, 18])\n",
      "torch.Size([64])\n",
      "torch.Size([64, 1, 18])\n",
      "torch.Size([64])\n",
      "torch.Size([64, 1, 18])\n",
      "torch.Size([64])\n",
      "torch.Size([64, 1, 18])\n",
      "torch.Size([64])\n"
     ]
    },
    {
     "name": "stderr",
     "output_type": "stream",
     "text": [
      "Epoch [3/5], loss_mean=2.533 :  18%|█▊        | 348/1898 [00:05<00:27, 57.33it/s]"
     ]
    },
    {
     "name": "stdout",
     "output_type": "stream",
     "text": [
      "torch.Size([64, 1, 18])\n",
      "torch.Size([64])\n",
      "torch.Size([64, 1, 18])\n",
      "torch.Size([64])\n",
      "torch.Size([64, 1, 18])\n",
      "torch.Size([64])\n",
      "torch.Size([64, 1, 18])\n",
      "torch.Size([64])\n",
      "torch.Size([64, 1, 18])\n",
      "torch.Size([64])\n",
      "torch.Size([64, 1, 18])\n",
      "torch.Size([64])\n",
      "torch.Size([64, 1, 18])\n",
      "torch.Size([64])\n",
      "torch.Size([64, 1, 18])\n",
      "torch.Size([64])\n",
      "torch.Size([64, 1, 18])\n",
      "torch.Size([64])\n",
      "torch.Size([64, 1, 18])\n",
      "torch.Size([64])\n",
      "torch.Size([64, 1, 18])\n",
      "torch.Size([64])\n",
      "torch.Size([64, 1, 18])\n",
      "torch.Size([64])\n",
      "torch.Size([64, 1, 18])\n",
      "torch.Size([64])\n",
      "torch.Size([64, 1, 18])\n",
      "torch.Size([64])\n",
      "torch.Size([64, 1, 18])\n",
      "torch.Size([64])\n",
      "torch.Size([64, 1, 18])\n",
      "torch.Size([64])\n",
      "torch.Size([64, 1, 18])\n",
      "torch.Size([64])\n"
     ]
    },
    {
     "name": "stderr",
     "output_type": "stream",
     "text": [
      "Epoch [3/5], loss_mean=2.533 :  19%|█▉        | 356/1898 [00:05<00:26, 58.74it/s]"
     ]
    },
    {
     "name": "stdout",
     "output_type": "stream",
     "text": [
      "torch.Size([64, 1, 18])\n",
      "torch.Size([64])\n",
      "torch.Size([64, 1, 18])\n",
      "torch.Size([64])\n",
      "torch.Size([64, 1, 18])\n",
      "torch.Size([64])\n",
      "torch.Size([64, 1, 18])\n",
      "torch.Size([64])\n",
      "torch.Size([64, 1, 18])\n",
      "torch.Size([64])\n",
      "torch.Size([64, 1, 18])\n",
      "torch.Size([64])\n",
      "torch.Size([64, 1, 18])\n",
      "torch.Size([64])\n",
      "torch.Size([64, 1, 18])\n",
      "torch.Size([64])\n",
      "torch.Size([64, 1, 18])\n",
      "torch.Size([64])\n",
      "torch.Size([64, 1, 18])\n",
      "torch.Size([64])\n",
      "torch.Size([64, 1, 18])\n",
      "torch.Size([64])\n",
      "torch.Size([64, 1, 18])\n",
      "torch.Size([64])\n"
     ]
    },
    {
     "name": "stderr",
     "output_type": "stream",
     "text": [
      "Epoch [3/5], loss_mean=2.533 :  20%|█▉        | 376/1898 [00:06<00:19, 77.00it/s]"
     ]
    },
    {
     "name": "stdout",
     "output_type": "stream",
     "text": [
      "torch.Size([64, 1, 18])\n",
      "torch.Size([64])\n",
      "torch.Size([64, 1, 18])\n",
      "torch.Size([64])\n",
      "torch.Size([64, 1, 18])\n",
      "torch.Size([64])\n",
      "torch.Size([64, 1, 18])\n",
      "torch.Size([64])\n",
      "torch.Size([64, 1, 18])\n",
      "torch.Size([64])\n",
      "torch.Size([64, 1, 18])\n",
      "torch.Size([64])\n",
      "torch.Size([64, 1, 18])\n",
      "torch.Size([64])\n",
      "torch.Size([64, 1, 18])\n",
      "torch.Size([64])\n",
      "torch.Size([64, 1, 18])\n",
      "torch.Size([64])\n",
      "torch.Size([64, 1, 18])\n",
      "torch.Size([64])\n",
      "torch.Size([64, 1, 18])\n",
      "torch.Size([64])\n",
      "torch.Size([64, 1, 18])\n",
      "torch.Size([64])\n",
      "torch.Size([64, 1, 18])\n",
      "torch.Size([64])\n",
      "torch.Size([64, 1, 18])\n",
      "torch.Size([64])\n",
      "torch.Size([64, 1, 18])\n",
      "torch.Size([64])\n",
      "torch.Size([64, 1, 18])\n",
      "torch.Size([64])\n",
      "torch.Size([64, 1, 18])\n",
      "torch.Size([64])\n",
      "torch.Size([64, 1, 18])\n",
      "torch.Size([64])\n",
      "torch.Size([64, 1, 18])\n",
      "torch.Size([64])\n"
     ]
    },
    {
     "name": "stderr",
     "output_type": "stream",
     "text": [
      "Epoch [3/5], loss_mean=2.533 :  21%|██        | 397/1898 [00:06<00:17, 87.47it/s]"
     ]
    },
    {
     "name": "stdout",
     "output_type": "stream",
     "text": [
      "torch.Size([64, 1, 18])\n",
      "torch.Size([64])\n",
      "torch.Size([64, 1, 18])\n",
      "torch.Size([64])\n",
      "torch.Size([64, 1, 18])\n",
      "torch.Size([64])\n",
      "torch.Size([64, 1, 18])\n",
      "torch.Size([64])\n",
      "torch.Size([64, 1, 18])\n",
      "torch.Size([64])\n",
      "torch.Size([64, 1, 18])\n",
      "torch.Size([64])\n",
      "torch.Size([64, 1, 18])\n",
      "torch.Size([64])\n",
      "torch.Size([64, 1, 18])\n",
      "torch.Size([64])\n",
      "torch.Size([64, 1, 18])\n",
      "torch.Size([64])\n",
      "torch.Size([64, 1, 18])\n",
      "torch.Size([64])\n",
      "torch.Size([64, 1, 18])\n",
      "torch.Size([64])\n",
      "torch.Size([64, 1, 18])\n",
      "torch.Size([64])\n",
      "torch.Size([64, 1, 18])\n",
      "torch.Size([64])\n",
      "torch.Size([64, 1, 18])\n",
      "torch.Size([64])\n",
      "torch.Size([64, 1, 18])\n",
      "torch.Size([64])\n",
      "torch.Size([64, 1, 18])\n",
      "torch.Size([64])\n",
      "torch.Size([64, 1, 18])\n",
      "torch.Size([64])\n",
      "torch.Size([64, 1, 18])\n",
      "torch.Size([64])\n",
      "torch.Size([64, 1, 18])\n",
      "torch.Size([64])\n"
     ]
    },
    {
     "name": "stderr",
     "output_type": "stream",
     "text": [
      "Epoch [3/5], loss_mean=2.533 :  21%|██▏       | 407/1898 [00:06<00:20, 71.03it/s]"
     ]
    },
    {
     "name": "stdout",
     "output_type": "stream",
     "text": [
      "torch.Size([64, 1, 18])\n",
      "torch.Size([64])\n",
      "torch.Size([64, 1, 18])\n",
      "torch.Size([64])\n",
      "torch.Size([64, 1, 18])\n",
      "torch.Size([64])\n",
      "torch.Size([64, 1, 18])\n",
      "torch.Size([64])\n",
      "torch.Size([64, 1, 18])\n",
      "torch.Size([64])\n",
      "torch.Size([64, 1, 18])\n",
      "torch.Size([64])\n",
      "torch.Size([64, 1, 18])\n",
      "torch.Size([64])\n",
      "torch.Size([64, 1, 18])\n",
      "torch.Size([64])\n",
      "torch.Size([64, 1, 18])\n",
      "torch.Size([64])\n"
     ]
    },
    {
     "name": "stderr",
     "output_type": "stream",
     "text": [
      "Epoch [3/5], loss_mean=2.533 :  22%|██▏       | 424/1898 [00:06<00:21, 69.86it/s]"
     ]
    },
    {
     "name": "stdout",
     "output_type": "stream",
     "text": [
      "torch.Size([64, 1, 18])\n",
      "torch.Size([64])\n",
      "torch.Size([64, 1, 18])\n",
      "torch.Size([64])\n",
      "torch.Size([64, 1, 18])\n",
      "torch.Size([64])\n",
      "torch.Size([64, 1, 18])\n",
      "torch.Size([64])\n",
      "torch.Size([64, 1, 18])\n",
      "torch.Size([64])\n",
      "torch.Size([64, 1, 18])\n",
      "torch.Size([64])\n",
      "torch.Size([64, 1, 18])\n",
      "torch.Size([64])\n",
      "torch.Size([64, 1, 18])\n",
      "torch.Size([64])\n",
      "torch.Size([64, 1, 18])\n",
      "torch.Size([64])\n",
      "torch.Size([64, 1, 18])\n",
      "torch.Size([64])\n",
      "torch.Size([64, 1, 18])\n",
      "torch.Size([64])\n",
      "torch.Size([64, 1, 18])\n",
      "torch.Size([64])\n",
      "torch.Size([64, 1, 18])\n",
      "torch.Size([64])\n",
      "torch.Size([64, 1, 18])\n",
      "torch.Size([64])\n",
      "torch.Size([64, 1, 18])\n",
      "torch.Size([64])\n"
     ]
    },
    {
     "name": "stderr",
     "output_type": "stream",
     "text": [
      "Epoch [3/5], loss_mean=2.533 :  23%|██▎       | 432/1898 [00:06<00:21, 69.81it/s]"
     ]
    },
    {
     "name": "stdout",
     "output_type": "stream",
     "text": [
      "torch.Size([64, 1, 18])\n",
      "torch.Size([64])\n",
      "torch.Size([64, 1, 18])\n",
      "torch.Size([64])\n",
      "torch.Size([64, 1, 18])\n",
      "torch.Size([64])\n",
      "torch.Size([64, 1, 18])\n",
      "torch.Size([64])\n",
      "torch.Size([64, 1, 18])\n",
      "torch.Size([64])\n",
      "torch.Size([64, 1, 18])\n",
      "torch.Size([64])\n",
      "torch.Size([64, 1, 18])\n",
      "torch.Size([64])\n",
      "torch.Size([64, 1, 18])\n",
      "torch.Size([64])\n",
      "torch.Size([64, 1, 18])\n",
      "torch.Size([64])\n",
      "torch.Size([64, 1, 18])\n",
      "torch.Size([64])\n",
      "torch.Size([64, 1, 18])\n",
      "torch.Size([64])\n",
      "torch.Size([64, 1, 18])\n",
      "torch.Size([64])\n",
      "torch.Size([64, 1, 18])\n",
      "torch.Size([64])\n",
      "torch.Size([64, 1, 18])\n",
      "torch.Size([64])\n",
      "torch.Size([64, 1, 18])\n",
      "torch.Size([64])\n",
      "torch.Size([64, 1, 18])\n",
      "torch.Size([64])\n"
     ]
    },
    {
     "name": "stderr",
     "output_type": "stream",
     "text": [
      "Epoch [3/5], loss_mean=2.532 :  24%|██▍       | 454/1898 [00:07<00:17, 81.72it/s]"
     ]
    },
    {
     "name": "stdout",
     "output_type": "stream",
     "text": [
      "torch.Size([64, 1, 18])\n",
      "torch.Size([64])\n",
      "torch.Size([64, 1, 18])\n",
      "torch.Size([64])\n",
      "torch.Size([64, 1, 18])\n",
      "torch.Size([64])\n",
      "torch.Size([64, 1, 18])\n",
      "torch.Size([64])\n",
      "torch.Size([64, 1, 18])\n",
      "torch.Size([64])\n",
      "torch.Size([64, 1, 18])\n",
      "torch.Size([64])\n",
      "torch.Size([64, 1, 18])\n",
      "torch.Size([64])\n",
      "torch.Size([64, 1, 18])\n",
      "torch.Size([64])\n",
      "torch.Size([64, 1, 18])\n",
      "torch.Size([64])\n",
      "torch.Size([64, 1, 18])\n",
      "torch.Size([64])\n",
      "torch.Size([64, 1, 18])\n",
      "torch.Size([64])\n",
      "torch.Size([64, 1, 18])\n",
      "torch.Size([64])\n",
      "torch.Size([64, 1, 18])\n",
      "torch.Size([64])\n",
      "torch.Size([64, 1, 18])\n",
      "torch.Size([64])\n",
      "torch.Size([64, 1, 18])\n",
      "torch.Size([64])\n",
      "torch.Size([64, 1, 18])\n",
      "torch.Size([64])\n",
      "torch.Size([64, 1, 18])\n",
      "torch.Size([64])\n"
     ]
    },
    {
     "name": "stderr",
     "output_type": "stream",
     "text": [
      "Epoch [3/5], loss_mean=2.532 :  24%|██▍       | 465/1898 [00:07<00:16, 85.20it/s]"
     ]
    },
    {
     "name": "stdout",
     "output_type": "stream",
     "text": [
      "torch.Size([64, 1, 18])\n",
      "torch.Size([64])\n",
      "torch.Size([64, 1, 18])\n",
      "torch.Size([64])\n",
      "torch.Size([64, 1, 18])\n",
      "torch.Size([64])\n",
      "torch.Size([64, 1, 18])\n",
      "torch.Size([64])\n",
      "torch.Size([64, 1, 18])\n",
      "torch.Size([64])\n",
      "torch.Size([64, 1, 18])\n",
      "torch.Size([64])\n",
      "torch.Size([64, 1, 18])\n",
      "torch.Size([64])\n",
      "torch.Size([64, 1, 18])\n",
      "torch.Size([64])\n",
      "torch.Size([64, 1, 18])\n",
      "torch.Size([64])\n",
      "torch.Size([64, 1, 18])\n",
      "torch.Size([64])\n",
      "torch.Size([64, 1, 18])\n",
      "torch.Size([64])\n",
      "torch.Size([64, 1, 18])\n",
      "torch.Size([64])\n",
      "torch.Size([64, 1, 18])\n",
      "torch.Size([64])\n",
      "torch.Size([64, 1, 18])\n",
      "torch.Size([64])\n",
      "torch.Size([64, 1, 18])\n",
      "torch.Size([64])\n",
      "torch.Size([64, 1, 18])\n",
      "torch.Size([64])\n"
     ]
    },
    {
     "name": "stderr",
     "output_type": "stream",
     "text": [
      "Epoch [3/5], loss_mean=2.532 :  25%|██▌       | 483/1898 [00:07<00:18, 77.50it/s]"
     ]
    },
    {
     "name": "stdout",
     "output_type": "stream",
     "text": [
      "torch.Size([64, 1, 18])\n",
      "torch.Size([64])\n",
      "torch.Size([64, 1, 18])\n",
      "torch.Size([64])\n",
      "torch.Size([64, 1, 18])\n",
      "torch.Size([64])\n",
      "torch.Size([64, 1, 18])\n",
      "torch.Size([64])\n",
      "torch.Size([64, 1, 18])\n",
      "torch.Size([64])\n",
      "torch.Size([64, 1, 18])\n",
      "torch.Size([64])\n",
      "torch.Size([64, 1, 18])\n",
      "torch.Size([64])\n",
      "torch.Size([64, 1, 18])\n",
      "torch.Size([64])\n",
      "torch.Size([64, 1, 18])\n",
      "torch.Size([64])\n",
      "torch.Size([64, 1, 18])\n",
      "torch.Size([64])\n",
      "torch.Size([64, 1, 18])\n",
      "torch.Size([64])\n",
      "torch.Size([64, 1, 18])\n",
      "torch.Size([64])\n",
      "torch.Size([64, 1, 18])\n",
      "torch.Size([64])\n",
      "torch.Size([64, 1, 18])\n",
      "torch.Size([64])\n"
     ]
    },
    {
     "name": "stderr",
     "output_type": "stream",
     "text": [
      "Epoch [3/5], loss_mean=2.533 :  26%|██▋       | 500/1898 [00:07<00:18, 77.19it/s]"
     ]
    },
    {
     "name": "stdout",
     "output_type": "stream",
     "text": [
      "torch.Size([64, 1, 18])\n",
      "torch.Size([64])\n",
      "torch.Size([64, 1, 18])\n",
      "torch.Size([64])\n",
      "torch.Size([64, 1, 18])\n",
      "torch.Size([64])\n",
      "torch.Size([64, 1, 18])\n",
      "torch.Size([64])\n",
      "torch.Size([64, 1, 18])\n",
      "torch.Size([64])\n",
      "torch.Size([64, 1, 18])\n",
      "torch.Size([64])\n",
      "torch.Size([64, 1, 18])\n",
      "torch.Size([64])\n",
      "torch.Size([64, 1, 18])\n",
      "torch.Size([64])\n",
      "torch.Size([64, 1, 18])\n",
      "torch.Size([64])\n",
      "torch.Size([64, 1, 18])\n",
      "torch.Size([64])\n",
      "torch.Size([64, 1, 18])\n",
      "torch.Size([64])\n",
      "torch.Size([64, 1, 18])\n",
      "torch.Size([64])\n",
      "torch.Size([64, 1, 18])\n",
      "torch.Size([64])\n",
      "torch.Size([64, 1, 18])\n",
      "torch.Size([64])\n"
     ]
    },
    {
     "name": "stderr",
     "output_type": "stream",
     "text": [
      "Epoch [3/5], loss_mean=2.532 :  27%|██▋       | 510/1898 [00:07<00:16, 82.44it/s]"
     ]
    },
    {
     "name": "stdout",
     "output_type": "stream",
     "text": [
      "torch.Size([64, 1, 18])\n",
      "torch.Size([64])\n",
      "torch.Size([64, 1, 18])\n",
      "torch.Size([64])\n",
      "torch.Size([64, 1, 18])\n",
      "torch.Size([64])\n",
      "torch.Size([64, 1, 18])\n",
      "torch.Size([64])\n",
      "torch.Size([64, 1, 18])\n",
      "torch.Size([64])\n",
      "torch.Size([64, 1, 18])\n",
      "torch.Size([64])\n",
      "torch.Size([64, 1, 18])\n",
      "torch.Size([64])\n",
      "torch.Size([64, 1, 18])\n",
      "torch.Size([64])\n",
      "torch.Size([64, 1, 18])\n",
      "torch.Size([64])\n"
     ]
    },
    {
     "name": "stderr",
     "output_type": "stream",
     "text": [
      "Epoch [3/5], loss_mean=2.532 :  27%|██▋       | 510/1898 [00:08<00:16, 82.44it/s]"
     ]
    },
    {
     "name": "stdout",
     "output_type": "stream",
     "text": [
      "torch.Size([64, 1, 18])\n",
      "torch.Size([64])\n",
      "torch.Size([64, 1, 18])\n",
      "torch.Size([64])\n"
     ]
    },
    {
     "name": "stderr",
     "output_type": "stream",
     "text": [
      "Epoch [3/5], loss_mean=2.532 :  27%|██▋       | 519/1898 [00:08<00:36, 37.40it/s]"
     ]
    },
    {
     "name": "stdout",
     "output_type": "stream",
     "text": [
      "torch.Size([64, 1, 18])\n",
      "torch.Size([64])\n",
      "torch.Size([64, 1, 18])\n",
      "torch.Size([64])\n",
      "torch.Size([64, 1, 18])\n",
      "torch.Size([64])\n",
      "torch.Size([64, 1, 18])\n",
      "torch.Size([64])\n",
      "torch.Size([64, 1, 18])\n",
      "torch.Size([64])\n",
      "torch.Size([64, 1, 18])\n",
      "torch.Size([64])\n",
      "torch.Size([64, 1, 18])\n",
      "torch.Size([64])\n",
      "torch.Size([64, 1, 18])\n",
      "torch.Size([64])\n",
      "torch.Size([64, 1, 18])\n",
      "torch.Size([64])\n",
      "torch.Size([64, 1, 18])\n",
      "torch.Size([64])\n",
      "torch.Size([64, 1, 18])\n",
      "torch.Size([64])\n",
      "torch.Size([64, 1, 18])\n",
      "torch.Size([64])\n",
      "torch.Size([64, 1, 18])\n",
      "torch.Size([64])\n"
     ]
    },
    {
     "name": "stderr",
     "output_type": "stream",
     "text": [
      "Epoch [3/5], loss_mean=2.532 :  28%|██▊       | 536/1898 [00:08<00:27, 49.86it/s]"
     ]
    },
    {
     "name": "stdout",
     "output_type": "stream",
     "text": [
      "torch.Size([64, 1, 18])\n",
      "torch.Size([64])\n",
      "torch.Size([64, 1, 18])\n",
      "torch.Size([64])\n",
      "torch.Size([64, 1, 18])\n",
      "torch.Size([64])\n",
      "torch.Size([64, 1, 18])\n",
      "torch.Size([64])\n",
      "torch.Size([64, 1, 18])\n",
      "torch.Size([64])\n",
      "torch.Size([64, 1, 18])\n",
      "torch.Size([64])\n",
      "torch.Size([64, 1, 18])\n",
      "torch.Size([64])\n",
      "torch.Size([64, 1, 18])\n",
      "torch.Size([64])\n",
      "torch.Size([64, 1, 18])\n",
      "torch.Size([64])\n",
      "torch.Size([64, 1, 18])\n",
      "torch.Size([64])\n",
      "torch.Size([64, 1, 18])\n",
      "torch.Size([64])\n",
      "torch.Size([64, 1, 18])\n",
      "torch.Size([64])\n",
      "torch.Size([64, 1, 18])\n",
      "torch.Size([64])\n",
      "torch.Size([64, 1, 18])\n",
      "torch.Size([64])\n"
     ]
    },
    {
     "name": "stderr",
     "output_type": "stream",
     "text": [
      "Epoch [3/5], loss_mean=2.533 :  29%|██▉       | 556/1898 [00:08<00:19, 67.67it/s]"
     ]
    },
    {
     "name": "stdout",
     "output_type": "stream",
     "text": [
      "torch.Size([64, 1, 18])\n",
      "torch.Size([64])\n",
      "torch.Size([64, 1, 18])\n",
      "torch.Size([64])\n",
      "torch.Size([64, 1, 18])\n",
      "torch.Size([64])\n",
      "torch.Size([64, 1, 18])\n",
      "torch.Size([64])\n",
      "torch.Size([64, 1, 18])\n",
      "torch.Size([64])\n",
      "torch.Size([64, 1, 18])\n",
      "torch.Size([64])\n",
      "torch.Size([64, 1, 18])\n",
      "torch.Size([64])\n",
      "torch.Size([64, 1, 18])\n",
      "torch.Size([64])\n",
      "torch.Size([64, 1, 18])\n",
      "torch.Size([64])\n",
      "torch.Size([64, 1, 18])\n",
      "torch.Size([64])\n",
      "torch.Size([64, 1, 18])\n",
      "torch.Size([64])\n",
      "torch.Size([64, 1, 18])\n",
      "torch.Size([64])\n",
      "torch.Size([64, 1, 18])\n",
      "torch.Size([64])\n",
      "torch.Size([64, 1, 18])\n",
      "torch.Size([64])\n",
      "torch.Size([64, 1, 18])\n",
      "torch.Size([64])\n",
      "torch.Size([64, 1, 18])\n",
      "torch.Size([64])\n",
      "torch.Size([64, 1, 18])\n",
      "torch.Size([64])\n",
      "torch.Size([64, 1, 18])\n",
      "torch.Size([64])\n",
      "torch.Size([64, 1, 18])\n",
      "torch.Size([64])\n"
     ]
    },
    {
     "name": "stderr",
     "output_type": "stream",
     "text": [
      "Epoch [3/5], loss_mean=2.533 :  30%|██▉       | 567/1898 [00:08<00:17, 74.39it/s]"
     ]
    },
    {
     "name": "stdout",
     "output_type": "stream",
     "text": [
      "torch.Size([64, 1, 18])\n",
      "torch.Size([64])\n",
      "torch.Size([64, 1, 18])\n",
      "torch.Size([64])\n",
      "torch.Size([64, 1, 18])\n",
      "torch.Size([64])\n",
      "torch.Size([64, 1, 18])\n",
      "torch.Size([64])\n",
      "torch.Size([64, 1, 18])\n",
      "torch.Size([64])\n",
      "torch.Size([64, 1, 18])\n",
      "torch.Size([64])\n",
      "torch.Size([64, 1, 18])\n",
      "torch.Size([64])\n",
      "torch.Size([64, 1, 18])\n",
      "torch.Size([64])\n",
      "torch.Size([64, 1, 18])\n",
      "torch.Size([64])\n",
      "torch.Size([64, 1, 18])\n",
      "torch.Size([64])\n",
      "torch.Size([64, 1, 18])\n",
      "torch.Size([64])\n",
      "torch.Size([64, 1, 18])\n",
      "torch.Size([64])\n",
      "torch.Size([64, 1, 18])\n",
      "torch.Size([64])\n",
      "torch.Size([64, 1, 18])\n",
      "torch.Size([64])\n",
      "torch.Size([64, 1, 18])\n",
      "torch.Size([64])\n",
      "torch.Size([64, 1, 18])\n",
      "torch.Size([64])\n",
      "torch.Size([64, 1, 18])\n",
      "torch.Size([64])\n",
      "torch.Size([64, 1, 18])\n",
      "torch.Size([64])\n",
      "torch.Size([64, 1, 18])\n",
      "torch.Size([64])\n",
      "torch.Size([64, 1, 18])\n",
      "torch.Size([64])\n"
     ]
    },
    {
     "name": "stderr",
     "output_type": "stream",
     "text": [
      "Epoch [3/5], loss_mean=2.533 :  31%|███       | 590/1898 [00:09<00:15, 82.52it/s]"
     ]
    },
    {
     "name": "stdout",
     "output_type": "stream",
     "text": [
      "torch.Size([64, 1, 18])\n",
      "torch.Size([64])\n",
      "torch.Size([64, 1, 18])\n",
      "torch.Size([64])\n",
      "torch.Size([64, 1, 18])\n",
      "torch.Size([64])\n",
      "torch.Size([64, 1, 18])\n",
      "torch.Size([64])\n",
      "torch.Size([64, 1, 18])\n",
      "torch.Size([64])\n",
      "torch.Size([64, 1, 18])\n",
      "torch.Size([64])\n",
      "torch.Size([64, 1, 18])\n",
      "torch.Size([64])\n",
      "torch.Size([64, 1, 18])\n",
      "torch.Size([64])\n",
      "torch.Size([64, 1, 18])\n",
      "torch.Size([64])\n",
      "torch.Size([64, 1, 18])\n",
      "torch.Size([64])\n",
      "torch.Size([64, 1, 18])\n",
      "torch.Size([64])\n",
      "torch.Size([64, 1, 18])\n",
      "torch.Size([64])\n",
      "torch.Size([64, 1, 18])\n",
      "torch.Size([64])\n",
      "torch.Size([64, 1, 18])\n",
      "torch.Size([64])\n",
      "torch.Size([64, 1, 18])\n",
      "torch.Size([64])\n",
      "torch.Size([64, 1, 18])\n",
      "torch.Size([64])\n",
      "torch.Size([64, 1, 18])\n",
      "torch.Size([64])\n"
     ]
    },
    {
     "name": "stderr",
     "output_type": "stream",
     "text": [
      "Epoch [3/5], loss_mean=2.533 :  32%|███▏      | 611/1898 [00:09<00:14, 89.69it/s]"
     ]
    },
    {
     "name": "stdout",
     "output_type": "stream",
     "text": [
      "torch.Size([64, 1, 18])\n",
      "torch.Size([64])\n",
      "torch.Size([64, 1, 18])\n",
      "torch.Size([64])\n",
      "torch.Size([64, 1, 18])\n",
      "torch.Size([64])\n",
      "torch.Size([64, 1, 18])\n",
      "torch.Size([64])\n",
      "torch.Size([64, 1, 18])\n",
      "torch.Size([64])\n",
      "torch.Size([64, 1, 18])\n",
      "torch.Size([64])\n",
      "torch.Size([64, 1, 18])\n",
      "torch.Size([64])\n",
      "torch.Size([64, 1, 18])\n",
      "torch.Size([64])\n",
      "torch.Size([64, 1, 18])\n",
      "torch.Size([64])\n",
      "torch.Size([64, 1, 18])\n",
      "torch.Size([64])\n",
      "torch.Size([64, 1, 18])\n",
      "torch.Size([64])\n",
      "torch.Size([64, 1, 18])\n",
      "torch.Size([64])\n",
      "torch.Size([64, 1, 18])\n",
      "torch.Size([64])\n",
      "torch.Size([64, 1, 18])\n",
      "torch.Size([64])\n",
      "torch.Size([64, 1, 18])\n",
      "torch.Size([64])\n",
      "torch.Size([64, 1, 18])\n",
      "torch.Size([64])\n"
     ]
    },
    {
     "name": "stderr",
     "output_type": "stream",
     "text": [
      "Epoch [3/5], loss_mean=2.532 :  33%|███▎      | 621/1898 [00:09<00:15, 84.93it/s]"
     ]
    },
    {
     "name": "stdout",
     "output_type": "stream",
     "text": [
      "torch.Size([64, 1, 18])\n",
      "torch.Size([64])\n",
      "torch.Size([64, 1, 18])\n",
      "torch.Size([64])\n",
      "torch.Size([64, 1, 18])\n",
      "torch.Size([64])\n",
      "torch.Size([64, 1, 18])\n",
      "torch.Size([64])\n",
      "torch.Size([64, 1, 18])\n",
      "torch.Size([64])\n",
      "torch.Size([64, 1, 18])\n",
      "torch.Size([64])\n",
      "torch.Size([64, 1, 18])\n",
      "torch.Size([64])\n",
      "torch.Size([64, 1, 18])\n",
      "torch.Size([64])\n",
      "torch.Size([64, 1, 18])\n",
      "torch.Size([64])\n",
      "torch.Size([64, 1, 18])\n",
      "torch.Size([64])\n",
      "torch.Size([64, 1, 18])\n",
      "torch.Size([64])\n",
      "torch.Size([64, 1, 18])\n",
      "torch.Size([64])\n",
      "torch.Size([64, 1, 18])\n",
      "torch.Size([64])\n",
      "torch.Size([64, 1, 18])\n",
      "torch.Size([64])\n",
      "torch.Size([64, 1, 18])\n",
      "torch.Size([64])\n",
      "torch.Size([64, 1, 18])\n",
      "torch.Size([64])\n",
      "torch.Size([64, 1, 18])\n",
      "torch.Size([64])\n"
     ]
    },
    {
     "name": "stderr",
     "output_type": "stream",
     "text": [
      "Epoch [3/5], loss_mean=2.533 :  33%|███▎      | 632/1898 [00:09<00:14, 87.52it/s]"
     ]
    },
    {
     "name": "stdout",
     "output_type": "stream",
     "text": [
      "torch.Size([64, 1, 18])\n",
      "torch.Size([64])\n",
      "torch.Size([64, 1, 18])\n",
      "torch.Size([64])\n",
      "torch.Size([64, 1, 18])\n",
      "torch.Size([64])\n",
      "torch.Size([64, 1, 18])\n",
      "torch.Size([64])\n",
      "torch.Size([64, 1, 18])\n",
      "torch.Size([64])\n",
      "torch.Size([64, 1, 18])\n",
      "torch.Size([64])\n",
      "torch.Size([64, 1, 18])\n",
      "torch.Size([64])\n",
      "torch.Size([64, 1, 18])\n",
      "torch.Size([64])\n"
     ]
    },
    {
     "name": "stderr",
     "output_type": "stream",
     "text": [
      "Epoch [3/5], loss_mean=2.533 :  34%|███▍      | 641/1898 [00:09<00:22, 55.09it/s]"
     ]
    },
    {
     "name": "stdout",
     "output_type": "stream",
     "text": [
      "torch.Size([64, 1, 18])\n",
      "torch.Size([64])\n",
      "torch.Size([64, 1, 18])\n",
      "torch.Size([64])\n",
      "torch.Size([64, 1, 18])\n",
      "torch.Size([64])\n",
      "torch.Size([64, 1, 18])\n",
      "torch.Size([64])\n",
      "torch.Size([64, 1, 18])\n",
      "torch.Size([64])\n",
      "torch.Size([64, 1, 18])\n",
      "torch.Size([64])\n"
     ]
    },
    {
     "name": "stderr",
     "output_type": "stream",
     "text": [
      "Epoch [3/5], loss_mean=2.533 :  34%|███▍      | 641/1898 [00:10<00:22, 55.09it/s]"
     ]
    },
    {
     "name": "stdout",
     "output_type": "stream",
     "text": [
      "torch.Size([64, 1, 18])\n",
      "torch.Size([64])\n",
      "torch.Size([64, 1, 18])\n",
      "torch.Size([64])\n"
     ]
    },
    {
     "name": "stderr",
     "output_type": "stream",
     "text": [
      "Epoch [3/5], loss_mean=2.533 :  34%|███▍      | 641/1898 [00:10<00:22, 55.09it/s]"
     ]
    },
    {
     "name": "stdout",
     "output_type": "stream",
     "text": [
      "torch.Size([64, 1, 18])\n",
      "torch.Size([64])\n"
     ]
    },
    {
     "name": "stderr",
     "output_type": "stream",
     "text": [
      "Epoch [3/5], loss_mean=2.533 :  34%|███▍      | 641/1898 [00:10<00:22, 55.09it/s]"
     ]
    },
    {
     "name": "stdout",
     "output_type": "stream",
     "text": [
      "torch.Size([64, 1, 18])\n",
      "torch.Size([64])\n",
      "torch.Size([64, 1, 18])\n",
      "torch.Size([64])\n"
     ]
    },
    {
     "name": "stderr",
     "output_type": "stream",
     "text": [
      "Epoch [3/5], loss_mean=2.533 :  34%|███▍      | 649/1898 [00:10<00:53, 23.46it/s]"
     ]
    },
    {
     "name": "stdout",
     "output_type": "stream",
     "text": [
      "torch.Size([64, 1, 18])\n",
      "torch.Size([64])\n",
      "torch.Size([64, 1, 18])\n",
      "torch.Size([64])\n",
      "torch.Size([64, 1, 18])\n",
      "torch.Size([64])\n",
      "torch.Size([64, 1, 18])\n",
      "torch.Size([64])\n"
     ]
    },
    {
     "name": "stderr",
     "output_type": "stream",
     "text": [
      "Epoch [3/5], loss_mean=2.533 :  35%|███▍      | 655/1898 [00:11<00:50, 24.54it/s]"
     ]
    },
    {
     "name": "stdout",
     "output_type": "stream",
     "text": [
      "torch.Size([64, 1, 18])\n",
      "torch.Size([64])\n",
      "torch.Size([64, 1, 18])\n",
      "torch.Size([64])\n",
      "torch.Size([64, 1, 18])\n",
      "torch.Size([64])\n",
      "torch.Size([64, 1, 18])\n",
      "torch.Size([64])\n",
      "torch.Size([64, 1, 18])\n",
      "torch.Size([64])\n",
      "torch.Size([64, 1, 18])\n",
      "torch.Size([64])\n",
      "torch.Size([64, 1, 18])\n",
      "torch.Size([64])\n",
      "torch.Size([64, 1, 18])\n",
      "torch.Size([64])\n",
      "torch.Size([64, 1, 18])\n",
      "torch.Size([64])\n",
      "torch.Size([64, 1, 18])\n",
      "torch.Size([64])\n"
     ]
    },
    {
     "name": "stderr",
     "output_type": "stream",
     "text": [
      "Epoch [3/5], loss_mean=2.533 :  35%|███▌      | 669/1898 [00:11<00:35, 34.55it/s]"
     ]
    },
    {
     "name": "stdout",
     "output_type": "stream",
     "text": [
      "torch.Size([64, 1, 18])\n",
      "torch.Size([64])\n",
      "torch.Size([64, 1, 18])\n",
      "torch.Size([64])\n",
      "torch.Size([64, 1, 18])\n",
      "torch.Size([64])\n",
      "torch.Size([64, 1, 18])\n",
      "torch.Size([64])\n",
      "torch.Size([64, 1, 18])\n",
      "torch.Size([64])\n",
      "torch.Size([64, 1, 18])\n",
      "torch.Size([64])\n",
      "torch.Size([64, 1, 18])\n",
      "torch.Size([64])\n",
      "torch.Size([64, 1, 18])\n",
      "torch.Size([64])\n",
      "torch.Size([64, 1, 18])\n",
      "torch.Size([64])\n",
      "torch.Size([64, 1, 18])\n",
      "torch.Size([64])\n",
      "torch.Size([64, 1, 18])\n",
      "torch.Size([64])\n",
      "torch.Size([64, 1, 18])\n",
      "torch.Size([64])\n",
      "torch.Size([64, 1, 18])\n",
      "torch.Size([64])\n",
      "torch.Size([64, 1, 18])\n",
      "torch.Size([64])\n"
     ]
    },
    {
     "name": "stderr",
     "output_type": "stream",
     "text": [
      "Epoch [3/5], loss_mean=2.533 :  36%|███▋      | 689/1898 [00:11<00:21, 55.06it/s]"
     ]
    },
    {
     "name": "stdout",
     "output_type": "stream",
     "text": [
      "torch.Size([64, 1, 18])\n",
      "torch.Size([64])\n",
      "torch.Size([64, 1, 18])\n",
      "torch.Size([64])\n",
      "torch.Size([64, 1, 18])\n",
      "torch.Size([64])\n",
      "torch.Size([64, 1, 18])\n",
      "torch.Size([64])\n",
      "torch.Size([64, 1, 18])\n",
      "torch.Size([64])\n",
      "torch.Size([64, 1, 18])\n",
      "torch.Size([64])\n",
      "torch.Size([64, 1, 18])\n",
      "torch.Size([64])\n",
      "torch.Size([64, 1, 18])\n",
      "torch.Size([64])\n",
      "torch.Size([64, 1, 18])\n",
      "torch.Size([64])\n",
      "torch.Size([64, 1, 18])\n",
      "torch.Size([64])\n",
      "torch.Size([64, 1, 18])\n",
      "torch.Size([64])\n",
      "torch.Size([64, 1, 18])\n",
      "torch.Size([64])\n",
      "torch.Size([64, 1, 18])\n",
      "torch.Size([64])\n",
      "torch.Size([64, 1, 18])\n",
      "torch.Size([64])\n",
      "torch.Size([64, 1, 18])\n",
      "torch.Size([64])\n",
      "torch.Size([64, 1, 18])\n",
      "torch.Size([64])\n",
      "torch.Size([64, 1, 18])\n",
      "torch.Size([64])\n",
      "torch.Size([64, 1, 18])\n",
      "torch.Size([64])\n",
      "torch.Size([64, 1, 18])\n",
      "torch.Size([64])\n"
     ]
    },
    {
     "name": "stderr",
     "output_type": "stream",
     "text": [
      "Epoch [3/5], loss_mean=2.533 :  37%|███▋      | 707/1898 [00:11<00:18, 64.67it/s]"
     ]
    },
    {
     "name": "stdout",
     "output_type": "stream",
     "text": [
      "torch.Size([64, 1, 18])\n",
      "torch.Size([64])\n",
      "torch.Size([64, 1, 18])\n",
      "torch.Size([64])\n",
      "torch.Size([64, 1, 18])\n",
      "torch.Size([64])\n",
      "torch.Size([64, 1, 18])\n",
      "torch.Size([64])\n",
      "torch.Size([64, 1, 18])\n",
      "torch.Size([64])\n",
      "torch.Size([64, 1, 18])\n",
      "torch.Size([64])\n",
      "torch.Size([64, 1, 18])\n",
      "torch.Size([64])\n",
      "torch.Size([64, 1, 18])\n",
      "torch.Size([64])\n",
      "torch.Size([64, 1, 18])\n",
      "torch.Size([64])\n",
      "torch.Size([64, 1, 18])\n",
      "torch.Size([64])\n",
      "torch.Size([64, 1, 18])\n",
      "torch.Size([64])\n",
      "torch.Size([64, 1, 18])\n",
      "torch.Size([64])\n",
      "torch.Size([64, 1, 18])\n",
      "torch.Size([64])\n"
     ]
    },
    {
     "name": "stderr",
     "output_type": "stream",
     "text": [
      "Epoch [3/5], loss_mean=2.533 :  38%|███▊      | 717/1898 [00:11<00:16, 70.31it/s]"
     ]
    },
    {
     "name": "stdout",
     "output_type": "stream",
     "text": [
      "torch.Size([64, 1, 18])\n",
      "torch.Size([64])\n",
      "torch.Size([64, 1, 18])\n",
      "torch.Size([64])\n",
      "torch.Size([64, 1, 18])\n",
      "torch.Size([64])\n",
      "torch.Size([64, 1, 18])\n",
      "torch.Size([64])\n",
      "torch.Size([64, 1, 18])\n",
      "torch.Size([64])\n",
      "torch.Size([64, 1, 18])\n",
      "torch.Size([64])\n",
      "torch.Size([64, 1, 18])\n",
      "torch.Size([64])\n",
      "torch.Size([64, 1, 18])\n",
      "torch.Size([64])\n",
      "torch.Size([64, 1, 18])\n",
      "torch.Size([64])\n",
      "torch.Size([64, 1, 18])\n",
      "torch.Size([64])\n",
      "torch.Size([64, 1, 18])\n",
      "torch.Size([64])\n",
      "torch.Size([64, 1, 18])\n",
      "torch.Size([64])\n",
      "torch.Size([64, 1, 18])\n",
      "torch.Size([64])\n",
      "torch.Size([64, 1, 18])\n",
      "torch.Size([64])\n",
      "torch.Size([64, 1, 18])\n",
      "torch.Size([64])\n",
      "torch.Size([64, 1, 18])\n",
      "torch.Size([64])\n",
      "torch.Size([64, 1, 18])\n",
      "torch.Size([64])\n"
     ]
    },
    {
     "name": "stderr",
     "output_type": "stream",
     "text": [
      "Epoch [3/5], loss_mean=2.533 :  38%|███▊      | 727/1898 [00:12<00:15, 74.29it/s]"
     ]
    },
    {
     "name": "stdout",
     "output_type": "stream",
     "text": [
      "torch.Size([64, 1, 18])\n",
      "torch.Size([64])\n",
      "torch.Size([64, 1, 18])\n",
      "torch.Size([64])\n",
      "torch.Size([64, 1, 18])\n",
      "torch.Size([64])\n",
      "torch.Size([64, 1, 18])\n",
      "torch.Size([64])\n"
     ]
    },
    {
     "name": "stderr",
     "output_type": "stream",
     "text": [
      "Epoch [3/5], loss_mean=2.534 :  39%|███▉      | 736/1898 [00:12<00:24, 46.89it/s]"
     ]
    },
    {
     "name": "stdout",
     "output_type": "stream",
     "text": [
      "torch.Size([64, 1, 18])\n",
      "torch.Size([64])\n",
      "torch.Size([64, 1, 18])\n",
      "torch.Size([64])\n",
      "torch.Size([64, 1, 18])\n",
      "torch.Size([64])\n",
      "torch.Size([64, 1, 18])\n",
      "torch.Size([64])\n",
      "torch.Size([64, 1, 18])\n",
      "torch.Size([64])\n",
      "torch.Size([64, 1, 18])\n",
      "torch.Size([64])\n",
      "torch.Size([64, 1, 18])\n",
      "torch.Size([64])\n",
      "torch.Size([64, 1, 18])\n",
      "torch.Size([64])\n",
      "torch.Size([64, 1, 18])\n",
      "torch.Size([64])\n",
      "torch.Size([64, 1, 18])\n",
      "torch.Size([64])\n",
      "torch.Size([64, 1, 18])\n",
      "torch.Size([64])\n",
      "torch.Size([64, 1, 18])\n",
      "torch.Size([64])\n",
      "torch.Size([64, 1, 18])\n",
      "torch.Size([64])\n"
     ]
    },
    {
     "name": "stderr",
     "output_type": "stream",
     "text": [
      "Epoch [3/5], loss_mean=2.534 :  40%|███▉      | 756/1898 [00:12<00:17, 63.62it/s]"
     ]
    },
    {
     "name": "stdout",
     "output_type": "stream",
     "text": [
      "torch.Size([64, 1, 18])\n",
      "torch.Size([64])\n",
      "torch.Size([64, 1, 18])\n",
      "torch.Size([64])\n",
      "torch.Size([64, 1, 18])\n",
      "torch.Size([64])\n",
      "torch.Size([64, 1, 18])\n",
      "torch.Size([64])\n",
      "torch.Size([64, 1, 18])\n",
      "torch.Size([64])\n",
      "torch.Size([64, 1, 18])\n",
      "torch.Size([64])\n",
      "torch.Size([64, 1, 18])\n",
      "torch.Size([64])\n",
      "torch.Size([64, 1, 18])\n",
      "torch.Size([64])\n",
      "torch.Size([64, 1, 18])\n",
      "torch.Size([64])\n",
      "torch.Size([64, 1, 18])\n",
      "torch.Size([64])\n",
      "torch.Size([64, 1, 18])\n",
      "torch.Size([64])\n",
      "torch.Size([64, 1, 18])\n",
      "torch.Size([64])\n",
      "torch.Size([64, 1, 18])\n",
      "torch.Size([64])\n",
      "torch.Size([64, 1, 18])\n",
      "torch.Size([64])\n",
      "torch.Size([64, 1, 18])\n",
      "torch.Size([64])\n",
      "torch.Size([64, 1, 18])\n",
      "torch.Size([64])\n",
      "torch.Size([64, 1, 18])\n",
      "torch.Size([64])\n",
      "torch.Size([64, 1, 18])\n",
      "torch.Size([64])\n",
      "torch.Size([64, 1, 18])\n",
      "torch.Size([64])\n"
     ]
    },
    {
     "name": "stderr",
     "output_type": "stream",
     "text": [
      "Epoch [3/5], loss_mean=2.534 :  41%|████      | 774/1898 [00:12<00:15, 72.26it/s]"
     ]
    },
    {
     "name": "stdout",
     "output_type": "stream",
     "text": [
      "torch.Size([64, 1, 18])\n",
      "torch.Size([64])\n",
      "torch.Size([64, 1, 18])\n",
      "torch.Size([64])\n",
      "torch.Size([64, 1, 18])\n",
      "torch.Size([64])\n",
      "torch.Size([64, 1, 18])\n",
      "torch.Size([64])\n",
      "torch.Size([64, 1, 18])\n",
      "torch.Size([64])\n",
      "torch.Size([64, 1, 18])\n",
      "torch.Size([64])\n",
      "torch.Size([64, 1, 18])\n",
      "torch.Size([64])\n",
      "torch.Size([64, 1, 18])\n",
      "torch.Size([64])\n",
      "torch.Size([64, 1, 18])\n",
      "torch.Size([64])\n",
      "torch.Size([64, 1, 18])\n",
      "torch.Size([64])\n",
      "torch.Size([64, 1, 18])\n",
      "torch.Size([64])\n",
      "torch.Size([64, 1, 18])\n",
      "torch.Size([64])\n",
      "torch.Size([64, 1, 18])\n",
      "torch.Size([64])\n",
      "torch.Size([64, 1, 18])\n",
      "torch.Size([64])\n",
      "torch.Size([64, 1, 18])\n",
      "torch.Size([64])\n"
     ]
    },
    {
     "name": "stderr",
     "output_type": "stream",
     "text": [
      "Epoch [3/5], loss_mean=2.534 :  41%|████▏     | 783/1898 [00:12<00:15, 69.95it/s]"
     ]
    },
    {
     "name": "stdout",
     "output_type": "stream",
     "text": [
      "torch.Size([64, 1, 18])\n",
      "torch.Size([64])\n",
      "torch.Size([64, 1, 18])\n",
      "torch.Size([64])\n",
      "torch.Size([64, 1, 18])\n",
      "torch.Size([64])\n",
      "torch.Size([64, 1, 18])\n",
      "torch.Size([64])\n",
      "torch.Size([64, 1, 18])\n",
      "torch.Size([64])\n",
      "torch.Size([64, 1, 18])\n",
      "torch.Size([64])\n",
      "torch.Size([64, 1, 18])\n",
      "torch.Size([64])\n",
      "torch.Size([64, 1, 18])\n",
      "torch.Size([64])\n",
      "torch.Size([64, 1, 18])\n",
      "torch.Size([64])\n",
      "torch.Size([64, 1, 18])\n",
      "torch.Size([64])\n",
      "torch.Size([64, 1, 18])\n",
      "torch.Size([64])\n",
      "torch.Size([64, 1, 18])\n",
      "torch.Size([64])\n",
      "torch.Size([64, 1, 18])\n",
      "torch.Size([64])\n"
     ]
    },
    {
     "name": "stderr",
     "output_type": "stream",
     "text": [
      "Epoch [3/5], loss_mean=2.534 :  42%|████▏     | 803/1898 [00:13<00:13, 78.40it/s]"
     ]
    },
    {
     "name": "stdout",
     "output_type": "stream",
     "text": [
      "torch.Size([64, 1, 18])\n",
      "torch.Size([64])\n",
      "torch.Size([64, 1, 18])\n",
      "torch.Size([64])\n",
      "torch.Size([64, 1, 18])\n",
      "torch.Size([64])\n",
      "torch.Size([64, 1, 18])\n",
      "torch.Size([64])\n",
      "torch.Size([64, 1, 18])\n",
      "torch.Size([64])\n",
      "torch.Size([64, 1, 18])\n",
      "torch.Size([64])\n",
      "torch.Size([64, 1, 18])\n",
      "torch.Size([64])\n",
      "torch.Size([64, 1, 18])\n",
      "torch.Size([64])\n",
      "torch.Size([64, 1, 18])\n",
      "torch.Size([64])\n",
      "torch.Size([64, 1, 18])\n",
      "torch.Size([64])\n",
      "torch.Size([64, 1, 18])\n",
      "torch.Size([64])\n",
      "torch.Size([64, 1, 18])\n",
      "torch.Size([64])\n",
      "torch.Size([64, 1, 18])\n",
      "torch.Size([64])\n",
      "torch.Size([64, 1, 18])\n",
      "torch.Size([64])\n",
      "torch.Size([64, 1, 18])\n",
      "torch.Size([64])\n"
     ]
    },
    {
     "name": "stderr",
     "output_type": "stream",
     "text": [
      "Epoch [3/5], loss_mean=2.534 :  43%|████▎     | 812/1898 [00:13<00:14, 73.57it/s]"
     ]
    },
    {
     "name": "stdout",
     "output_type": "stream",
     "text": [
      "torch.Size([64, 1, 18])\n",
      "torch.Size([64])\n",
      "torch.Size([64, 1, 18])\n",
      "torch.Size([64])\n",
      "torch.Size([64, 1, 18])\n",
      "torch.Size([64])\n",
      "torch.Size([64, 1, 18])\n",
      "torch.Size([64])\n",
      "torch.Size([64, 1, 18])\n",
      "torch.Size([64])\n",
      "torch.Size([64, 1, 18])\n",
      "torch.Size([64])\n",
      "torch.Size([64, 1, 18])\n",
      "torch.Size([64])\n",
      "torch.Size([64, 1, 18])\n",
      "torch.Size([64])\n",
      "torch.Size([64, 1, 18])\n",
      "torch.Size([64])\n",
      "torch.Size([64, 1, 18])\n",
      "torch.Size([64])\n",
      "torch.Size([64, 1, 18])\n",
      "torch.Size([64])\n",
      "torch.Size([64, 1, 18])\n",
      "torch.Size([64])\n",
      "torch.Size([64, 1, 18])\n",
      "torch.Size([64])\n"
     ]
    },
    {
     "name": "stderr",
     "output_type": "stream",
     "text": [
      "Epoch [3/5], loss_mean=2.534 :  43%|████▎     | 820/1898 [00:13<00:15, 67.86it/s]"
     ]
    },
    {
     "name": "stdout",
     "output_type": "stream",
     "text": [
      "torch.Size([64, 1, 18])\n",
      "torch.Size([64])\n",
      "torch.Size([64, 1, 18])\n",
      "torch.Size([64])\n",
      "torch.Size([64, 1, 18])\n",
      "torch.Size([64])\n",
      "torch.Size([64, 1, 18])\n",
      "torch.Size([64])\n",
      "torch.Size([64, 1, 18])\n",
      "torch.Size([64])\n",
      "torch.Size([64, 1, 18])\n",
      "torch.Size([64])\n",
      "torch.Size([64, 1, 18])\n",
      "torch.Size([64])\n",
      "torch.Size([64, 1, 18])\n",
      "torch.Size([64])\n",
      "torch.Size([64, 1, 18])\n",
      "torch.Size([64])\n",
      "torch.Size([64, 1, 18])\n",
      "torch.Size([64])\n",
      "torch.Size([64, 1, 18])\n",
      "torch.Size([64])\n",
      "torch.Size([64, 1, 18])\n",
      "torch.Size([64])\n",
      "torch.Size([64, 1, 18])\n",
      "torch.Size([64])\n",
      "torch.Size([64, 1, 18])\n",
      "torch.Size([64])\n"
     ]
    },
    {
     "name": "stderr",
     "output_type": "stream",
     "text": [
      "Epoch [3/5], loss_mean=2.533 :  44%|████▍     | 839/1898 [00:13<00:13, 76.43it/s]"
     ]
    },
    {
     "name": "stdout",
     "output_type": "stream",
     "text": [
      "torch.Size([64, 1, 18])\n",
      "torch.Size([64])\n",
      "torch.Size([64, 1, 18])\n",
      "torch.Size([64])\n",
      "torch.Size([64, 1, 18])\n",
      "torch.Size([64])\n",
      "torch.Size([64, 1, 18])\n",
      "torch.Size([64])\n",
      "torch.Size([64, 1, 18])\n",
      "torch.Size([64])\n",
      "torch.Size([64, 1, 18])\n",
      "torch.Size([64])\n",
      "torch.Size([64, 1, 18])\n",
      "torch.Size([64])\n",
      "torch.Size([64, 1, 18])\n",
      "torch.Size([64])\n",
      "torch.Size([64, 1, 18])\n",
      "torch.Size([64])\n",
      "torch.Size([64, 1, 18])\n",
      "torch.Size([64])\n",
      "torch.Size([64, 1, 18])\n",
      "torch.Size([64])\n",
      "torch.Size([64, 1, 18])\n",
      "torch.Size([64])\n",
      "torch.Size([64, 1, 18])\n",
      "torch.Size([64])\n",
      "torch.Size([64, 1, 18])\n",
      "torch.Size([64])\n",
      "torch.Size([64, 1, 18])\n",
      "torch.Size([64])\n",
      "torch.Size([64, 1, 18])\n",
      "torch.Size([64])\n"
     ]
    },
    {
     "name": "stderr",
     "output_type": "stream",
     "text": [
      "Epoch [3/5], loss_mean=2.533 :  45%|████▌     | 860/1898 [00:13<00:12, 83.31it/s]"
     ]
    },
    {
     "name": "stdout",
     "output_type": "stream",
     "text": [
      "torch.Size([64, 1, 18])\n",
      "torch.Size([64])\n",
      "torch.Size([64, 1, 18])\n",
      "torch.Size([64])\n",
      "torch.Size([64, 1, 18])\n",
      "torch.Size([64])\n",
      "torch.Size([64, 1, 18])\n",
      "torch.Size([64])\n",
      "torch.Size([64, 1, 18])\n",
      "torch.Size([64])\n",
      "torch.Size([64, 1, 18])\n",
      "torch.Size([64])\n",
      "torch.Size([64, 1, 18])\n",
      "torch.Size([64])\n",
      "torch.Size([64, 1, 18])\n",
      "torch.Size([64])\n",
      "torch.Size([64, 1, 18])\n",
      "torch.Size([64])\n",
      "torch.Size([64, 1, 18])\n",
      "torch.Size([64])\n",
      "torch.Size([64, 1, 18])\n",
      "torch.Size([64])\n",
      "torch.Size([64, 1, 18])\n",
      "torch.Size([64])\n",
      "torch.Size([64, 1, 18])\n",
      "torch.Size([64])\n",
      "torch.Size([64, 1, 18])\n",
      "torch.Size([64])\n",
      "torch.Size([64, 1, 18])\n",
      "torch.Size([64])\n",
      "torch.Size([64, 1, 18])\n",
      "torch.Size([64])\n",
      "torch.Size([64, 1, 18])\n",
      "torch.Size([64])\n"
     ]
    },
    {
     "name": "stderr",
     "output_type": "stream",
     "text": [
      "Epoch [3/5], loss_mean=2.533 :  46%|████▋     | 881/1898 [00:14<00:11, 90.16it/s]"
     ]
    },
    {
     "name": "stdout",
     "output_type": "stream",
     "text": [
      "torch.Size([64, 1, 18])\n",
      "torch.Size([64])\n",
      "torch.Size([64, 1, 18])\n",
      "torch.Size([64])\n",
      "torch.Size([64, 1, 18])\n",
      "torch.Size([64])\n",
      "torch.Size([64, 1, 18])\n",
      "torch.Size([64])\n",
      "torch.Size([64, 1, 18])\n",
      "torch.Size([64])\n",
      "torch.Size([64, 1, 18])\n",
      "torch.Size([64])\n",
      "torch.Size([64, 1, 18])\n",
      "torch.Size([64])\n",
      "torch.Size([64, 1, 18])\n",
      "torch.Size([64])\n",
      "torch.Size([64, 1, 18])\n",
      "torch.Size([64])\n",
      "torch.Size([64, 1, 18])\n",
      "torch.Size([64])\n",
      "torch.Size([64, 1, 18])\n",
      "torch.Size([64])\n",
      "torch.Size([64, 1, 18])\n",
      "torch.Size([64])\n",
      "torch.Size([64, 1, 18])\n",
      "torch.Size([64])\n",
      "torch.Size([64, 1, 18])\n",
      "torch.Size([64])\n",
      "torch.Size([64, 1, 18])\n",
      "torch.Size([64])\n",
      "torch.Size([64, 1, 18])\n",
      "torch.Size([64])\n",
      "torch.Size([64, 1, 18])\n",
      "torch.Size([64])\n",
      "torch.Size([64, 1, 18])\n",
      "torch.Size([64])\n"
     ]
    },
    {
     "name": "stderr",
     "output_type": "stream",
     "text": [
      "Epoch [3/5], loss_mean=2.534 :  47%|████▋     | 891/1898 [00:14<00:10, 92.84it/s]"
     ]
    },
    {
     "name": "stdout",
     "output_type": "stream",
     "text": [
      "torch.Size([64, 1, 18])\n",
      "torch.Size([64])\n",
      "torch.Size([64, 1, 18])\n",
      "torch.Size([64])\n",
      "torch.Size([64, 1, 18])\n",
      "torch.Size([64])\n",
      "torch.Size([64, 1, 18])\n",
      "torch.Size([64])\n",
      "torch.Size([64, 1, 18])\n",
      "torch.Size([64])\n",
      "torch.Size([64, 1, 18])\n",
      "torch.Size([64])\n",
      "torch.Size([64, 1, 18])\n",
      "torch.Size([64])\n",
      "torch.Size([64, 1, 18])\n",
      "torch.Size([64])\n",
      "torch.Size([64, 1, 18])\n",
      "torch.Size([64])\n",
      "torch.Size([64, 1, 18])\n",
      "torch.Size([64])\n",
      "torch.Size([64, 1, 18])\n",
      "torch.Size([64])\n",
      "torch.Size([64, 1, 18])\n",
      "torch.Size([64])\n",
      "torch.Size([64, 1, 18])\n",
      "torch.Size([64])\n",
      "torch.Size([64, 1, 18])\n",
      "torch.Size([64])\n",
      "torch.Size([64, 1, 18])\n",
      "torch.Size([64])\n",
      "torch.Size([64, 1, 18])\n",
      "torch.Size([64])\n",
      "torch.Size([64, 1, 18])\n",
      "torch.Size([64])\n",
      "torch.Size([64, 1, 18])\n",
      "torch.Size([64])\n"
     ]
    },
    {
     "name": "stderr",
     "output_type": "stream",
     "text": [
      "Epoch [3/5], loss_mean=2.533 :  48%|████▊     | 912/1898 [00:14<00:10, 91.61it/s]"
     ]
    },
    {
     "name": "stdout",
     "output_type": "stream",
     "text": [
      "torch.Size([64, 1, 18])\n",
      "torch.Size([64])\n",
      "torch.Size([64, 1, 18])\n",
      "torch.Size([64])\n",
      "torch.Size([64, 1, 18])\n",
      "torch.Size([64])\n",
      "torch.Size([64, 1, 18])\n",
      "torch.Size([64])\n",
      "torch.Size([64, 1, 18])\n",
      "torch.Size([64])\n",
      "torch.Size([64, 1, 18])\n",
      "torch.Size([64])\n",
      "torch.Size([64, 1, 18])\n",
      "torch.Size([64])\n",
      "torch.Size([64, 1, 18])\n",
      "torch.Size([64])\n",
      "torch.Size([64, 1, 18])\n",
      "torch.Size([64])\n",
      "torch.Size([64, 1, 18])\n",
      "torch.Size([64])\n",
      "torch.Size([64, 1, 18])\n",
      "torch.Size([64])\n",
      "torch.Size([64, 1, 18])\n",
      "torch.Size([64])\n",
      "torch.Size([64, 1, 18])\n",
      "torch.Size([64])\n",
      "torch.Size([64, 1, 18])\n",
      "torch.Size([64])\n",
      "torch.Size([64, 1, 18])\n",
      "torch.Size([64])\n",
      "torch.Size([64, 1, 18])\n",
      "torch.Size([64])\n"
     ]
    },
    {
     "name": "stderr",
     "output_type": "stream",
     "text": [
      "Epoch [3/5], loss_mean=2.533 :  49%|████▉     | 933/1898 [00:14<00:10, 91.14it/s]"
     ]
    },
    {
     "name": "stdout",
     "output_type": "stream",
     "text": [
      "torch.Size([64, 1, 18])\n",
      "torch.Size([64])\n",
      "torch.Size([64, 1, 18])\n",
      "torch.Size([64])\n",
      "torch.Size([64, 1, 18])\n",
      "torch.Size([64])\n",
      "torch.Size([64, 1, 18])\n",
      "torch.Size([64])\n",
      "torch.Size([64, 1, 18])\n",
      "torch.Size([64])\n",
      "torch.Size([64, 1, 18])\n",
      "torch.Size([64])\n",
      "torch.Size([64, 1, 18])\n",
      "torch.Size([64])\n",
      "torch.Size([64, 1, 18])\n",
      "torch.Size([64])\n",
      "torch.Size([64, 1, 18])\n",
      "torch.Size([64])\n",
      "torch.Size([64, 1, 18])\n",
      "torch.Size([64])\n",
      "torch.Size([64, 1, 18])\n",
      "torch.Size([64])\n",
      "torch.Size([64, 1, 18])\n",
      "torch.Size([64])\n",
      "torch.Size([64, 1, 18])\n",
      "torch.Size([64])\n",
      "torch.Size([64, 1, 18])\n",
      "torch.Size([64])\n",
      "torch.Size([64, 1, 18])\n",
      "torch.Size([64])\n",
      "torch.Size([64, 1, 18])\n",
      "torch.Size([64])\n",
      "torch.Size([64, 1, 18])\n",
      "torch.Size([64])\n"
     ]
    },
    {
     "name": "stderr",
     "output_type": "stream",
     "text": [
      "Epoch [3/5], loss_mean=2.533 :  50%|████▉     | 943/1898 [00:14<00:10, 93.53it/s]"
     ]
    },
    {
     "name": "stdout",
     "output_type": "stream",
     "text": [
      "torch.Size([64, 1, 18])\n",
      "torch.Size([64])\n",
      "torch.Size([64, 1, 18])\n",
      "torch.Size([64])\n",
      "torch.Size([64, 1, 18])\n",
      "torch.Size([64])\n",
      "torch.Size([64, 1, 18])\n",
      "torch.Size([64])\n",
      "torch.Size([64, 1, 18])\n",
      "torch.Size([64])\n",
      "torch.Size([64, 1, 18])\n",
      "torch.Size([64])\n",
      "torch.Size([64, 1, 18])\n",
      "torch.Size([64])\n",
      "torch.Size([64, 1, 18])\n",
      "torch.Size([64])\n",
      "torch.Size([64, 1, 18])\n",
      "torch.Size([64])\n",
      "torch.Size([64, 1, 18])\n",
      "torch.Size([64])\n",
      "torch.Size([64, 1, 18])\n",
      "torch.Size([64])\n",
      "torch.Size([64, 1, 18])\n",
      "torch.Size([64])\n",
      "torch.Size([64, 1, 18])\n",
      "torch.Size([64])\n",
      "torch.Size([64, 1, 18])\n",
      "torch.Size([64])\n",
      "torch.Size([64, 1, 18])\n",
      "torch.Size([64])\n",
      "torch.Size([64, 1, 18])\n",
      "torch.Size([64])\n",
      "torch.Size([64, 1, 18])\n",
      "torch.Size([64])\n",
      "torch.Size([64, 1, 18])\n",
      "torch.Size([64])\n"
     ]
    },
    {
     "name": "stderr",
     "output_type": "stream",
     "text": [
      "Epoch [3/5], loss_mean=2.534 :  51%|█████     | 964/1898 [00:15<00:10, 92.23it/s]"
     ]
    },
    {
     "name": "stdout",
     "output_type": "stream",
     "text": [
      "torch.Size([64, 1, 18])\n",
      "torch.Size([64])\n",
      "torch.Size([64, 1, 18])\n",
      "torch.Size([64])\n",
      "torch.Size([64, 1, 18])\n",
      "torch.Size([64])\n",
      "torch.Size([64, 1, 18])\n",
      "torch.Size([64])\n",
      "torch.Size([64, 1, 18])\n",
      "torch.Size([64])\n",
      "torch.Size([64, 1, 18])\n",
      "torch.Size([64])\n",
      "torch.Size([64, 1, 18])\n",
      "torch.Size([64])\n",
      "torch.Size([64, 1, 18])\n",
      "torch.Size([64])\n",
      "torch.Size([64, 1, 18])\n",
      "torch.Size([64])\n",
      "torch.Size([64, 1, 18])\n",
      "torch.Size([64])\n",
      "torch.Size([64, 1, 18])\n",
      "torch.Size([64])\n",
      "torch.Size([64, 1, 18])\n",
      "torch.Size([64])\n",
      "torch.Size([64, 1, 18])\n",
      "torch.Size([64])\n",
      "torch.Size([64, 1, 18])\n",
      "torch.Size([64])\n",
      "torch.Size([64, 1, 18])\n",
      "torch.Size([64])\n",
      "torch.Size([64, 1, 18])\n",
      "torch.Size([64])\n",
      "torch.Size([64, 1, 18])\n",
      "torch.Size([64])\n",
      "torch.Size([64, 1, 18])\n",
      "torch.Size([64])\n"
     ]
    },
    {
     "name": "stderr",
     "output_type": "stream",
     "text": [
      "Epoch [3/5], loss_mean=2.534 :  51%|█████▏    | 976/1898 [00:15<00:09, 95.37it/s]"
     ]
    },
    {
     "name": "stdout",
     "output_type": "stream",
     "text": [
      "torch.Size([64, 1, 18])\n",
      "torch.Size([64])\n",
      "torch.Size([64, 1, 18])\n",
      "torch.Size([64])\n",
      "torch.Size([64, 1, 18])\n",
      "torch.Size([64])\n",
      "torch.Size([64, 1, 18])\n",
      "torch.Size([64])\n",
      "torch.Size([64, 1, 18])\n",
      "torch.Size([64])\n",
      "torch.Size([64, 1, 18])\n",
      "torch.Size([64])\n",
      "torch.Size([64, 1, 18])\n",
      "torch.Size([64])\n",
      "torch.Size([64, 1, 18])\n",
      "torch.Size([64])\n",
      "torch.Size([64, 1, 18])\n",
      "torch.Size([64])\n",
      "torch.Size([64, 1, 18])\n",
      "torch.Size([64])\n",
      "torch.Size([64, 1, 18])\n",
      "torch.Size([64])\n",
      "torch.Size([64, 1, 18])\n",
      "torch.Size([64])\n",
      "torch.Size([64, 1, 18])\n",
      "torch.Size([64])\n",
      "torch.Size([64, 1, 18])\n",
      "torch.Size([64])\n",
      "torch.Size([64, 1, 18])\n",
      "torch.Size([64])\n",
      "torch.Size([64, 1, 18])\n",
      "torch.Size([64])\n",
      "torch.Size([64, 1, 18])\n",
      "torch.Size([64])\n",
      "torch.Size([64, 1, 18])\n",
      "torch.Size([64])\n",
      "torch.Size([64, 1, 18])\n",
      "torch.Size([64])\n"
     ]
    },
    {
     "name": "stderr",
     "output_type": "stream",
     "text": [
      "Epoch [3/5], loss_mean=2.534 :  53%|█████▎    | 998/1898 [00:15<00:09, 94.09it/s]"
     ]
    },
    {
     "name": "stdout",
     "output_type": "stream",
     "text": [
      "torch.Size([64, 1, 18])\n",
      "torch.Size([64])\n",
      "torch.Size([64, 1, 18])\n",
      "torch.Size([64])\n",
      "torch.Size([64, 1, 18])\n",
      "torch.Size([64])\n",
      "torch.Size([64, 1, 18])\n",
      "torch.Size([64])\n",
      "torch.Size([64, 1, 18])\n",
      "torch.Size([64])\n",
      "torch.Size([64, 1, 18])\n",
      "torch.Size([64])\n",
      "torch.Size([64, 1, 18])\n",
      "torch.Size([64])\n",
      "torch.Size([64, 1, 18])\n",
      "torch.Size([64])\n",
      "torch.Size([64, 1, 18])\n",
      "torch.Size([64])\n",
      "torch.Size([64, 1, 18])\n",
      "torch.Size([64])\n",
      "torch.Size([64, 1, 18])\n",
      "torch.Size([64])\n",
      "torch.Size([64, 1, 18])\n",
      "torch.Size([64])\n",
      "torch.Size([64, 1, 18])\n",
      "torch.Size([64])\n",
      "torch.Size([64, 1, 18])\n",
      "torch.Size([64])\n",
      "torch.Size([64, 1, 18])\n",
      "torch.Size([64])\n",
      "torch.Size([64, 1, 18])\n",
      "torch.Size([64])\n",
      "torch.Size([64, 1, 18])\n",
      "torch.Size([64])\n"
     ]
    },
    {
     "name": "stderr",
     "output_type": "stream",
     "text": [
      "Epoch [3/5], loss_mean=2.534 :  54%|█████▎    | 1019/1898 [00:15<00:09, 91.69it/s]"
     ]
    },
    {
     "name": "stdout",
     "output_type": "stream",
     "text": [
      "torch.Size([64, 1, 18])\n",
      "torch.Size([64])\n",
      "torch.Size([64, 1, 18])\n",
      "torch.Size([64])\n",
      "torch.Size([64, 1, 18])\n",
      "torch.Size([64])\n",
      "torch.Size([64, 1, 18])\n",
      "torch.Size([64])\n",
      "torch.Size([64, 1, 18])\n",
      "torch.Size([64])\n",
      "torch.Size([64, 1, 18])\n",
      "torch.Size([64])\n",
      "torch.Size([64, 1, 18])\n",
      "torch.Size([64])\n",
      "torch.Size([64, 1, 18])\n",
      "torch.Size([64])\n",
      "torch.Size([64, 1, 18])\n",
      "torch.Size([64])\n",
      "torch.Size([64, 1, 18])\n",
      "torch.Size([64])\n",
      "torch.Size([64, 1, 18])\n",
      "torch.Size([64])\n",
      "torch.Size([64, 1, 18])\n",
      "torch.Size([64])\n",
      "torch.Size([64, 1, 18])\n",
      "torch.Size([64])\n",
      "torch.Size([64, 1, 18])\n",
      "torch.Size([64])\n",
      "torch.Size([64, 1, 18])\n",
      "torch.Size([64])\n",
      "torch.Size([64, 1, 18])\n",
      "torch.Size([64])\n"
     ]
    },
    {
     "name": "stderr",
     "output_type": "stream",
     "text": [
      "Epoch [3/5], loss_mean=2.534 :  54%|█████▍    | 1029/1898 [00:15<00:10, 84.65it/s]"
     ]
    },
    {
     "name": "stdout",
     "output_type": "stream",
     "text": [
      "torch.Size([64, 1, 18])\n",
      "torch.Size([64])\n",
      "torch.Size([64, 1, 18])\n",
      "torch.Size([64])\n",
      "torch.Size([64, 1, 18])\n",
      "torch.Size([64])\n",
      "torch.Size([64, 1, 18])\n",
      "torch.Size([64])\n",
      "torch.Size([64, 1, 18])\n",
      "torch.Size([64])\n",
      "torch.Size([64, 1, 18])\n",
      "torch.Size([64])\n",
      "torch.Size([64, 1, 18])\n",
      "torch.Size([64])\n",
      "torch.Size([64, 1, 18])\n",
      "torch.Size([64])\n",
      "torch.Size([64, 1, 18])\n",
      "torch.Size([64])\n",
      "torch.Size([64, 1, 18])\n",
      "torch.Size([64])\n",
      "torch.Size([64, 1, 18])\n",
      "torch.Size([64])\n",
      "torch.Size([64, 1, 18])\n",
      "torch.Size([64])\n",
      "torch.Size([64, 1, 18])\n",
      "torch.Size([64])\n",
      "torch.Size([64, 1, 18])\n",
      "torch.Size([64])\n"
     ]
    },
    {
     "name": "stderr",
     "output_type": "stream",
     "text": [
      "Epoch [3/5], loss_mean=2.534 :  55%|█████▌    | 1049/1898 [00:15<00:09, 87.19it/s]"
     ]
    },
    {
     "name": "stdout",
     "output_type": "stream",
     "text": [
      "torch.Size([64, 1, 18])\n",
      "torch.Size([64])\n",
      "torch.Size([64, 1, 18])\n",
      "torch.Size([64])\n",
      "torch.Size([64, 1, 18])\n",
      "torch.Size([64])\n",
      "torch.Size([64, 1, 18])\n",
      "torch.Size([64])\n",
      "torch.Size([64, 1, 18])\n",
      "torch.Size([64])\n",
      "torch.Size([64, 1, 18])\n",
      "torch.Size([64])\n",
      "torch.Size([64, 1, 18])\n",
      "torch.Size([64])\n",
      "torch.Size([64, 1, 18])\n",
      "torch.Size([64])\n",
      "torch.Size([64, 1, 18])\n",
      "torch.Size([64])\n",
      "torch.Size([64, 1, 18])\n",
      "torch.Size([64])\n",
      "torch.Size([64, 1, 18])\n",
      "torch.Size([64])\n",
      "torch.Size([64, 1, 18])\n",
      "torch.Size([64])\n",
      "torch.Size([64, 1, 18])\n",
      "torch.Size([64])\n",
      "torch.Size([64, 1, 18])\n",
      "torch.Size([64])\n",
      "torch.Size([64, 1, 18])\n",
      "torch.Size([64])\n",
      "torch.Size([64, 1, 18])\n",
      "torch.Size([64])\n",
      "torch.Size([64, 1, 18])\n",
      "torch.Size([64])\n"
     ]
    },
    {
     "name": "stderr",
     "output_type": "stream",
     "text": [
      "Epoch [3/5], loss_mean=2.534 :  56%|█████▌    | 1058/1898 [00:16<00:09, 87.77it/s]"
     ]
    },
    {
     "name": "stdout",
     "output_type": "stream",
     "text": [
      "torch.Size([64, 1, 18])\n",
      "torch.Size([64])\n",
      "torch.Size([64, 1, 18])\n",
      "torch.Size([64])\n",
      "torch.Size([64, 1, 18])\n",
      "torch.Size([64])\n",
      "torch.Size([64, 1, 18])\n",
      "torch.Size([64])\n",
      "torch.Size([64, 1, 18])\n",
      "torch.Size([64])\n",
      "torch.Size([64, 1, 18])\n",
      "torch.Size([64])\n",
      "torch.Size([64, 1, 18])\n",
      "torch.Size([64])\n",
      "torch.Size([64, 1, 18])\n",
      "torch.Size([64])\n",
      "torch.Size([64, 1, 18])\n",
      "torch.Size([64])\n",
      "torch.Size([64, 1, 18])\n",
      "torch.Size([64])\n",
      "torch.Size([64, 1, 18])\n",
      "torch.Size([64])\n",
      "torch.Size([64, 1, 18])\n",
      "torch.Size([64])\n",
      "torch.Size([64, 1, 18])\n",
      "torch.Size([64])\n",
      "torch.Size([64, 1, 18])\n",
      "torch.Size([64])\n",
      "torch.Size([64, 1, 18])\n",
      "torch.Size([64])\n",
      "torch.Size([64, 1, 18])\n",
      "torch.Size([64])\n",
      "torch.Size([64, 1, 18])\n",
      "torch.Size([64])\n",
      "torch.Size([64, 1, 18])\n",
      "torch.Size([64])\n"
     ]
    },
    {
     "name": "stderr",
     "output_type": "stream",
     "text": [
      "Epoch [3/5], loss_mean=2.534 :  57%|█████▋    | 1080/1898 [00:16<00:09, 90.43it/s]"
     ]
    },
    {
     "name": "stdout",
     "output_type": "stream",
     "text": [
      "torch.Size([64, 1, 18])\n",
      "torch.Size([64])\n",
      "torch.Size([64, 1, 18])\n",
      "torch.Size([64])\n",
      "torch.Size([64, 1, 18])\n",
      "torch.Size([64])\n",
      "torch.Size([64, 1, 18])\n",
      "torch.Size([64])\n",
      "torch.Size([64, 1, 18])\n",
      "torch.Size([64])\n",
      "torch.Size([64, 1, 18])\n",
      "torch.Size([64])\n",
      "torch.Size([64, 1, 18])\n",
      "torch.Size([64])\n",
      "torch.Size([64, 1, 18])\n",
      "torch.Size([64])\n",
      "torch.Size([64, 1, 18])\n",
      "torch.Size([64])\n",
      "torch.Size([64, 1, 18])\n",
      "torch.Size([64])\n",
      "torch.Size([64, 1, 18])\n",
      "torch.Size([64])\n",
      "torch.Size([64, 1, 18])\n",
      "torch.Size([64])\n",
      "torch.Size([64, 1, 18])\n",
      "torch.Size([64])\n",
      "torch.Size([64, 1, 18])\n",
      "torch.Size([64])\n",
      "torch.Size([64, 1, 18])\n",
      "torch.Size([64])\n",
      "torch.Size([64, 1, 18])\n",
      "torch.Size([64])\n",
      "torch.Size([64, 1, 18])\n",
      "torch.Size([64])\n"
     ]
    },
    {
     "name": "stderr",
     "output_type": "stream",
     "text": [
      "Epoch [3/5], loss_mean=2.534 :  58%|█████▊    | 1100/1898 [00:16<00:09, 88.23it/s]"
     ]
    },
    {
     "name": "stdout",
     "output_type": "stream",
     "text": [
      "torch.Size([64, 1, 18])\n",
      "torch.Size([64])\n",
      "torch.Size([64, 1, 18])\n",
      "torch.Size([64])\n",
      "torch.Size([64, 1, 18])\n",
      "torch.Size([64])\n",
      "torch.Size([64, 1, 18])\n",
      "torch.Size([64])\n",
      "torch.Size([64, 1, 18])\n",
      "torch.Size([64])\n",
      "torch.Size([64, 1, 18])\n",
      "torch.Size([64])\n",
      "torch.Size([64, 1, 18])\n",
      "torch.Size([64])\n",
      "torch.Size([64, 1, 18])\n",
      "torch.Size([64])\n",
      "torch.Size([64, 1, 18])\n",
      "torch.Size([64])\n",
      "torch.Size([64, 1, 18])\n",
      "torch.Size([64])\n",
      "torch.Size([64, 1, 18])\n",
      "torch.Size([64])\n",
      "torch.Size([64, 1, 18])\n",
      "torch.Size([64])\n",
      "torch.Size([64, 1, 18])\n",
      "torch.Size([64])\n",
      "torch.Size([64, 1, 18])\n",
      "torch.Size([64])\n",
      "torch.Size([64, 1, 18])\n",
      "torch.Size([64])\n",
      "torch.Size([64, 1, 18])\n",
      "torch.Size([64])\n"
     ]
    },
    {
     "name": "stderr",
     "output_type": "stream",
     "text": [
      "Epoch [3/5], loss_mean=2.534 :  58%|█████▊    | 1109/1898 [00:16<00:09, 84.71it/s]"
     ]
    },
    {
     "name": "stdout",
     "output_type": "stream",
     "text": [
      "torch.Size([64, 1, 18])\n",
      "torch.Size([64])\n",
      "torch.Size([64, 1, 18])\n",
      "torch.Size([64])\n",
      "torch.Size([64, 1, 18])\n",
      "torch.Size([64])\n",
      "torch.Size([64, 1, 18])\n",
      "torch.Size([64])\n",
      "torch.Size([64, 1, 18])\n",
      "torch.Size([64])\n",
      "torch.Size([64, 1, 18])\n",
      "torch.Size([64])\n",
      "torch.Size([64, 1, 18])\n",
      "torch.Size([64])\n",
      "torch.Size([64, 1, 18])\n",
      "torch.Size([64])\n",
      "torch.Size([64, 1, 18])\n",
      "torch.Size([64])\n"
     ]
    },
    {
     "name": "stderr",
     "output_type": "stream",
     "text": [
      "Epoch [3/5], loss_mean=2.534 :  58%|█████▊    | 1109/1898 [00:16<00:09, 84.71it/s]"
     ]
    },
    {
     "name": "stdout",
     "output_type": "stream",
     "text": [
      "torch.Size([64, 1, 18])\n",
      "torch.Size([64])\n"
     ]
    },
    {
     "name": "stderr",
     "output_type": "stream",
     "text": [
      "Epoch [3/5], loss_mean=2.534 :  59%|█████▉    | 1118/1898 [00:17<00:17, 43.48it/s]"
     ]
    },
    {
     "name": "stdout",
     "output_type": "stream",
     "text": [
      "torch.Size([64, 1, 18])\n",
      "torch.Size([64])\n",
      "torch.Size([64, 1, 18])\n",
      "torch.Size([64])\n",
      "torch.Size([64, 1, 18])\n",
      "torch.Size([64])\n",
      "torch.Size([64, 1, 18])\n",
      "torch.Size([64])\n",
      "torch.Size([64, 1, 18])\n",
      "torch.Size([64])\n",
      "torch.Size([64, 1, 18])\n",
      "torch.Size([64])\n",
      "torch.Size([64, 1, 18])\n",
      "torch.Size([64])\n",
      "torch.Size([64, 1, 18])\n",
      "torch.Size([64])\n"
     ]
    },
    {
     "name": "stderr",
     "output_type": "stream",
     "text": [
      "Epoch [3/5], loss_mean=2.534 :  60%|█████▉    | 1132/1898 [00:17<00:15, 50.84it/s]"
     ]
    },
    {
     "name": "stdout",
     "output_type": "stream",
     "text": [
      "torch.Size([64, 1, 18])\n",
      "torch.Size([64])\n",
      "torch.Size([64, 1, 18])\n",
      "torch.Size([64])\n",
      "torch.Size([64, 1, 18])\n",
      "torch.Size([64])\n",
      "torch.Size([64, 1, 18])\n",
      "torch.Size([64])\n",
      "torch.Size([64, 1, 18])\n",
      "torch.Size([64])\n",
      "torch.Size([64, 1, 18])\n",
      "torch.Size([64])\n",
      "torch.Size([64, 1, 18])\n",
      "torch.Size([64])\n",
      "torch.Size([64, 1, 18])\n",
      "torch.Size([64])\n",
      "torch.Size([64, 1, 18])\n",
      "torch.Size([64])\n",
      "torch.Size([64, 1, 18])\n",
      "torch.Size([64])\n",
      "torch.Size([64, 1, 18])\n",
      "torch.Size([64])\n",
      "torch.Size([64, 1, 18])\n",
      "torch.Size([64])\n",
      "torch.Size([64, 1, 18])\n",
      "torch.Size([64])\n"
     ]
    },
    {
     "name": "stderr",
     "output_type": "stream",
     "text": [
      "Epoch [3/5], loss_mean=2.534 :  60%|██████    | 1139/1898 [00:17<00:14, 50.68it/s]"
     ]
    },
    {
     "name": "stdout",
     "output_type": "stream",
     "text": [
      "torch.Size([64, 1, 18])\n",
      "torch.Size([64])\n",
      "torch.Size([64, 1, 18])\n",
      "torch.Size([64])\n",
      "torch.Size([64, 1, 18])\n",
      "torch.Size([64])\n",
      "torch.Size([64, 1, 18])\n",
      "torch.Size([64])\n",
      "torch.Size([64, 1, 18])\n",
      "torch.Size([64])\n",
      "torch.Size([64, 1, 18])\n",
      "torch.Size([64])\n",
      "torch.Size([64, 1, 18])\n",
      "torch.Size([64])\n",
      "torch.Size([64, 1, 18])\n",
      "torch.Size([64])\n",
      "torch.Size([64, 1, 18])\n",
      "torch.Size([64])\n",
      "torch.Size([64, 1, 18])\n",
      "torch.Size([64])\n",
      "torch.Size([64, 1, 18])\n",
      "torch.Size([64])\n",
      "torch.Size([64, 1, 18])\n",
      "torch.Size([64])\n",
      "torch.Size([64, 1, 18])\n",
      "torch.Size([64])\n",
      "torch.Size([64, 1, 18])\n",
      "torch.Size([64])\n"
     ]
    },
    {
     "name": "stderr",
     "output_type": "stream",
     "text": [
      "Epoch [3/5], loss_mean=2.534 :  61%|██████    | 1156/1898 [00:17<00:12, 59.97it/s]"
     ]
    },
    {
     "name": "stdout",
     "output_type": "stream",
     "text": [
      "torch.Size([64, 1, 18])\n",
      "torch.Size([64])\n",
      "torch.Size([64, 1, 18])\n",
      "torch.Size([64])\n",
      "torch.Size([64, 1, 18])\n",
      "torch.Size([64])\n",
      "torch.Size([64, 1, 18])\n",
      "torch.Size([64])\n",
      "torch.Size([64, 1, 18])\n",
      "torch.Size([64])\n",
      "torch.Size([64, 1, 18])\n",
      "torch.Size([64])\n",
      "torch.Size([64, 1, 18])\n",
      "torch.Size([64])\n",
      "torch.Size([64, 1, 18])\n",
      "torch.Size([64])\n",
      "torch.Size([64, 1, 18])\n",
      "torch.Size([64])\n",
      "torch.Size([64, 1, 18])\n",
      "torch.Size([64])\n",
      "torch.Size([64, 1, 18])\n",
      "torch.Size([64])\n",
      "torch.Size([64, 1, 18])\n",
      "torch.Size([64])\n"
     ]
    },
    {
     "name": "stderr",
     "output_type": "stream",
     "text": [
      "Epoch [3/5], loss_mean=2.534 :  62%|██████▏   | 1172/1898 [00:17<00:10, 66.08it/s]"
     ]
    },
    {
     "name": "stdout",
     "output_type": "stream",
     "text": [
      "torch.Size([64, 1, 18])\n",
      "torch.Size([64])\n",
      "torch.Size([64, 1, 18])\n",
      "torch.Size([64])\n",
      "torch.Size([64, 1, 18])\n",
      "torch.Size([64])\n",
      "torch.Size([64, 1, 18])\n",
      "torch.Size([64])\n",
      "torch.Size([64, 1, 18])\n",
      "torch.Size([64])\n",
      "torch.Size([64, 1, 18])\n",
      "torch.Size([64])\n",
      "torch.Size([64, 1, 18])\n",
      "torch.Size([64])\n",
      "torch.Size([64, 1, 18])\n",
      "torch.Size([64])\n",
      "torch.Size([64, 1, 18])\n",
      "torch.Size([64])\n",
      "torch.Size([64, 1, 18])\n",
      "torch.Size([64])\n",
      "torch.Size([64, 1, 18])\n",
      "torch.Size([64])\n",
      "torch.Size([64, 1, 18])\n",
      "torch.Size([64])\n",
      "torch.Size([64, 1, 18])\n",
      "torch.Size([64])\n"
     ]
    },
    {
     "name": "stderr",
     "output_type": "stream",
     "text": [
      "Epoch [3/5], loss_mean=2.534 :  62%|██████▏   | 1180/1898 [00:18<00:11, 61.23it/s]"
     ]
    },
    {
     "name": "stdout",
     "output_type": "stream",
     "text": [
      "torch.Size([64, 1, 18])\n",
      "torch.Size([64])\n",
      "torch.Size([64, 1, 18])\n",
      "torch.Size([64])\n",
      "torch.Size([64, 1, 18])\n",
      "torch.Size([64])\n",
      "torch.Size([64, 1, 18])\n",
      "torch.Size([64])\n",
      "torch.Size([64, 1, 18])\n",
      "torch.Size([64])\n",
      "torch.Size([64, 1, 18])\n",
      "torch.Size([64])\n",
      "torch.Size([64, 1, 18])\n",
      "torch.Size([64])\n",
      "torch.Size([64, 1, 18])\n",
      "torch.Size([64])\n",
      "torch.Size([64, 1, 18])\n",
      "torch.Size([64])\n",
      "torch.Size([64, 1, 18])\n",
      "torch.Size([64])\n",
      "torch.Size([64, 1, 18])\n",
      "torch.Size([64])\n",
      "torch.Size([64, 1, 18])\n",
      "torch.Size([64])\n"
     ]
    },
    {
     "name": "stderr",
     "output_type": "stream",
     "text": [
      "Epoch [3/5], loss_mean=2.534 :  63%|██████▎   | 1187/1898 [00:18<00:11, 62.63it/s]"
     ]
    },
    {
     "name": "stdout",
     "output_type": "stream",
     "text": [
      "torch.Size([64, 1, 18])\n",
      "torch.Size([64])\n",
      "torch.Size([64, 1, 18])\n",
      "torch.Size([64])\n",
      "torch.Size([64, 1, 18])\n",
      "torch.Size([64])\n",
      "torch.Size([64, 1, 18])\n",
      "torch.Size([64])\n",
      "torch.Size([64, 1, 18])\n",
      "torch.Size([64])\n",
      "torch.Size([64, 1, 18])\n",
      "torch.Size([64])\n",
      "torch.Size([64, 1, 18])\n",
      "torch.Size([64])\n",
      "torch.Size([64, 1, 18])\n",
      "torch.Size([64])\n"
     ]
    },
    {
     "name": "stderr",
     "output_type": "stream",
     "text": [
      "Epoch [3/5], loss_mean=2.534 :  63%|██████▎   | 1194/1898 [00:18<00:13, 51.14it/s]"
     ]
    },
    {
     "name": "stdout",
     "output_type": "stream",
     "text": [
      "torch.Size([64, 1, 18])\n",
      "torch.Size([64])\n",
      "torch.Size([64, 1, 18])\n",
      "torch.Size([64])\n",
      "torch.Size([64, 1, 18])\n",
      "torch.Size([64])\n",
      "torch.Size([64, 1, 18])\n",
      "torch.Size([64])\n",
      "torch.Size([64, 1, 18])\n",
      "torch.Size([64])\n",
      "torch.Size([64, 1, 18])\n",
      "torch.Size([64])\n",
      "torch.Size([64, 1, 18])\n",
      "torch.Size([64])\n",
      "torch.Size([64, 1, 18])\n",
      "torch.Size([64])\n"
     ]
    },
    {
     "name": "stderr",
     "output_type": "stream",
     "text": [
      "Epoch [3/5], loss_mean=2.534 :  63%|██████▎   | 1201/1898 [00:18<00:17, 40.91it/s]"
     ]
    },
    {
     "name": "stdout",
     "output_type": "stream",
     "text": [
      "torch.Size([64, 1, 18])\n",
      "torch.Size([64])\n",
      "torch.Size([64, 1, 18])\n",
      "torch.Size([64])\n",
      "torch.Size([64, 1, 18])\n",
      "torch.Size([64])\n"
     ]
    },
    {
     "name": "stderr",
     "output_type": "stream",
     "text": [
      "Epoch [3/5], loss_mean=2.533 :  64%|██████▍   | 1217/1898 [00:18<00:14, 48.18it/s]"
     ]
    },
    {
     "name": "stdout",
     "output_type": "stream",
     "text": [
      "torch.Size([64, 1, 18])\n",
      "torch.Size([64])\n",
      "torch.Size([64, 1, 18])\n",
      "torch.Size([64])\n",
      "torch.Size([64, 1, 18])\n",
      "torch.Size([64])\n",
      "torch.Size([64, 1, 18])\n",
      "torch.Size([64])\n",
      "torch.Size([64, 1, 18])\n",
      "torch.Size([64])\n",
      "torch.Size([64, 1, 18])\n",
      "torch.Size([64])\n",
      "torch.Size([64, 1, 18])\n",
      "torch.Size([64])\n",
      "torch.Size([64, 1, 18])\n",
      "torch.Size([64])\n",
      "torch.Size([64, 1, 18])\n",
      "torch.Size([64])\n",
      "torch.Size([64, 1, 18])\n",
      "torch.Size([64])\n",
      "torch.Size([64, 1, 18])\n",
      "torch.Size([64])\n",
      "torch.Size([64, 1, 18])\n",
      "torch.Size([64])\n",
      "torch.Size([64, 1, 18])\n",
      "torch.Size([64])\n",
      "torch.Size([64, 1, 18])\n",
      "torch.Size([64])\n",
      "torch.Size([64, 1, 18])\n",
      "torch.Size([64])\n",
      "torch.Size([64, 1, 18])\n",
      "torch.Size([64])\n",
      "torch.Size([64, 1, 18])\n",
      "torch.Size([64])\n",
      "torch.Size([64, 1, 18])\n",
      "torch.Size([64])\n"
     ]
    },
    {
     "name": "stderr",
     "output_type": "stream",
     "text": [
      "Epoch [3/5], loss_mean=2.533 :  65%|██████▌   | 1239/1898 [00:19<00:09, 70.20it/s]"
     ]
    },
    {
     "name": "stdout",
     "output_type": "stream",
     "text": [
      "torch.Size([64, 1, 18])\n",
      "torch.Size([64])\n",
      "torch.Size([64, 1, 18])\n",
      "torch.Size([64])\n",
      "torch.Size([64, 1, 18])\n",
      "torch.Size([64])\n",
      "torch.Size([64, 1, 18])\n",
      "torch.Size([64])\n",
      "torch.Size([64, 1, 18])\n",
      "torch.Size([64])\n",
      "torch.Size([64, 1, 18])\n",
      "torch.Size([64])\n",
      "torch.Size([64, 1, 18])\n",
      "torch.Size([64])\n",
      "torch.Size([64, 1, 18])\n",
      "torch.Size([64])\n",
      "torch.Size([64, 1, 18])\n",
      "torch.Size([64])\n",
      "torch.Size([64, 1, 18])\n",
      "torch.Size([64])\n",
      "torch.Size([64, 1, 18])\n",
      "torch.Size([64])\n",
      "torch.Size([64, 1, 18])\n",
      "torch.Size([64])\n",
      "torch.Size([64, 1, 18])\n",
      "torch.Size([64])\n",
      "torch.Size([64, 1, 18])\n",
      "torch.Size([64])\n",
      "torch.Size([64, 1, 18])\n",
      "torch.Size([64])\n",
      "torch.Size([64, 1, 18])\n",
      "torch.Size([64])\n",
      "torch.Size([64, 1, 18])\n",
      "torch.Size([64])\n",
      "torch.Size([64, 1, 18])\n",
      "torch.Size([64])\n"
     ]
    },
    {
     "name": "stderr",
     "output_type": "stream",
     "text": [
      "Epoch [3/5], loss_mean=2.533 :  66%|██████▌   | 1247/1898 [00:19<00:08, 72.52it/s]"
     ]
    },
    {
     "name": "stdout",
     "output_type": "stream",
     "text": [
      "torch.Size([64, 1, 18])\n",
      "torch.Size([64])\n",
      "torch.Size([64, 1, 18])\n",
      "torch.Size([64])\n",
      "torch.Size([64, 1, 18])\n",
      "torch.Size([64])\n",
      "torch.Size([64, 1, 18])\n",
      "torch.Size([64])\n",
      "torch.Size([64, 1, 18])\n",
      "torch.Size([64])\n",
      "torch.Size([64, 1, 18])\n",
      "torch.Size([64])\n",
      "torch.Size([64, 1, 18])\n",
      "torch.Size([64])\n",
      "torch.Size([64, 1, 18])\n",
      "torch.Size([64])\n",
      "torch.Size([64, 1, 18])\n",
      "torch.Size([64])\n",
      "torch.Size([64, 1, 18])\n",
      "torch.Size([64])\n",
      "torch.Size([64, 1, 18])\n",
      "torch.Size([64])\n",
      "torch.Size([64, 1, 18])\n",
      "torch.Size([64])\n",
      "torch.Size([64, 1, 18])\n",
      "torch.Size([64])\n",
      "torch.Size([64, 1, 18])\n",
      "torch.Size([64])\n",
      "torch.Size([64, 1, 18])\n",
      "torch.Size([64])\n",
      "torch.Size([64, 1, 18])\n",
      "torch.Size([64])\n",
      "torch.Size([64, 1, 18])\n",
      "torch.Size([64])\n",
      "torch.Size([64, 1, 18])\n",
      "torch.Size([64])\n",
      "torch.Size([64, 1, 18])\n",
      "torch.Size([64])\n"
     ]
    },
    {
     "name": "stderr",
     "output_type": "stream",
     "text": [
      "Epoch [3/5], loss_mean=2.533 :  67%|██████▋   | 1268/1898 [00:19<00:07, 83.36it/s]"
     ]
    },
    {
     "name": "stdout",
     "output_type": "stream",
     "text": [
      "torch.Size([64, 1, 18])\n",
      "torch.Size([64])\n",
      "torch.Size([64, 1, 18])\n",
      "torch.Size([64])\n",
      "torch.Size([64, 1, 18])\n",
      "torch.Size([64])\n",
      "torch.Size([64, 1, 18])\n",
      "torch.Size([64])\n",
      "torch.Size([64, 1, 18])\n",
      "torch.Size([64])\n",
      "torch.Size([64, 1, 18])\n",
      "torch.Size([64])\n",
      "torch.Size([64, 1, 18])\n",
      "torch.Size([64])\n",
      "torch.Size([64, 1, 18])\n",
      "torch.Size([64])\n",
      "torch.Size([64, 1, 18])\n",
      "torch.Size([64])\n",
      "torch.Size([64, 1, 18])\n",
      "torch.Size([64])\n",
      "torch.Size([64, 1, 18])\n",
      "torch.Size([64])\n",
      "torch.Size([64, 1, 18])\n",
      "torch.Size([64])\n",
      "torch.Size([64, 1, 18])\n",
      "torch.Size([64])\n",
      "torch.Size([64, 1, 18])\n",
      "torch.Size([64])\n",
      "torch.Size([64, 1, 18])\n",
      "torch.Size([64])\n",
      "torch.Size([64, 1, 18])\n",
      "torch.Size([64])\n",
      "torch.Size([64, 1, 18])\n",
      "torch.Size([64])\n"
     ]
    },
    {
     "name": "stderr",
     "output_type": "stream",
     "text": [
      "Epoch [3/5], loss_mean=2.533 :  68%|██████▊   | 1290/1898 [00:19<00:06, 89.44it/s]"
     ]
    },
    {
     "name": "stdout",
     "output_type": "stream",
     "text": [
      "torch.Size([64, 1, 18])\n",
      "torch.Size([64])\n",
      "torch.Size([64, 1, 18])\n",
      "torch.Size([64])\n",
      "torch.Size([64, 1, 18])\n",
      "torch.Size([64])\n",
      "torch.Size([64, 1, 18])\n",
      "torch.Size([64])\n",
      "torch.Size([64, 1, 18])\n",
      "torch.Size([64])\n",
      "torch.Size([64, 1, 18])\n",
      "torch.Size([64])\n",
      "torch.Size([64, 1, 18])\n",
      "torch.Size([64])\n",
      "torch.Size([64, 1, 18])\n",
      "torch.Size([64])\n",
      "torch.Size([64, 1, 18])\n",
      "torch.Size([64])\n",
      "torch.Size([64, 1, 18])\n",
      "torch.Size([64])\n",
      "torch.Size([64, 1, 18])\n",
      "torch.Size([64])\n",
      "torch.Size([64, 1, 18])\n",
      "torch.Size([64])\n",
      "torch.Size([64, 1, 18])\n",
      "torch.Size([64])\n",
      "torch.Size([64, 1, 18])\n",
      "torch.Size([64])\n",
      "torch.Size([64, 1, 18])\n",
      "torch.Size([64])\n",
      "torch.Size([64, 1, 18])\n",
      "torch.Size([64])\n",
      "torch.Size([64, 1, 18])\n",
      "torch.Size([64])\n"
     ]
    },
    {
     "name": "stderr",
     "output_type": "stream",
     "text": [
      "Epoch [3/5], loss_mean=2.533 :  68%|██████▊   | 1300/1898 [00:19<00:07, 84.52it/s]"
     ]
    },
    {
     "name": "stdout",
     "output_type": "stream",
     "text": [
      "torch.Size([64, 1, 18])\n",
      "torch.Size([64])\n",
      "torch.Size([64, 1, 18])\n",
      "torch.Size([64])\n",
      "torch.Size([64, 1, 18])\n",
      "torch.Size([64])\n",
      "torch.Size([64, 1, 18])\n",
      "torch.Size([64])\n",
      "torch.Size([64, 1, 18])\n",
      "torch.Size([64])\n",
      "torch.Size([64, 1, 18])\n",
      "torch.Size([64])\n",
      "torch.Size([64, 1, 18])\n",
      "torch.Size([64])\n",
      "torch.Size([64, 1, 18])\n",
      "torch.Size([64])\n",
      "torch.Size([64, 1, 18])\n",
      "torch.Size([64])\n",
      "torch.Size([64, 1, 18])\n",
      "torch.Size([64])\n",
      "torch.Size([64, 1, 18])\n",
      "torch.Size([64])\n",
      "torch.Size([64, 1, 18])\n",
      "torch.Size([64])\n",
      "torch.Size([64, 1, 18])\n",
      "torch.Size([64])\n",
      "torch.Size([64, 1, 18])\n",
      "torch.Size([64])\n",
      "torch.Size([64, 1, 18])\n",
      "torch.Size([64])\n"
     ]
    },
    {
     "name": "stderr",
     "output_type": "stream",
     "text": [
      "Epoch [3/5], loss_mean=2.533 :  69%|██████▉   | 1318/1898 [00:20<00:07, 80.00it/s]"
     ]
    },
    {
     "name": "stdout",
     "output_type": "stream",
     "text": [
      "torch.Size([64, 1, 18])\n",
      "torch.Size([64])\n",
      "torch.Size([64, 1, 18])\n",
      "torch.Size([64])\n",
      "torch.Size([64, 1, 18])\n",
      "torch.Size([64])\n",
      "torch.Size([64, 1, 18])\n",
      "torch.Size([64])\n",
      "torch.Size([64, 1, 18])\n",
      "torch.Size([64])\n",
      "torch.Size([64, 1, 18])\n",
      "torch.Size([64])\n",
      "torch.Size([64, 1, 18])\n",
      "torch.Size([64])\n",
      "torch.Size([64, 1, 18])\n",
      "torch.Size([64])\n",
      "torch.Size([64, 1, 18])\n",
      "torch.Size([64])\n",
      "torch.Size([64, 1, 18])\n",
      "torch.Size([64])\n",
      "torch.Size([64, 1, 18])\n",
      "torch.Size([64])\n"
     ]
    },
    {
     "name": "stderr",
     "output_type": "stream",
     "text": [
      "Epoch [3/5], loss_mean=2.533 :  69%|██████▉   | 1318/1898 [00:20<00:07, 80.00it/s]"
     ]
    },
    {
     "name": "stdout",
     "output_type": "stream",
     "text": [
      "torch.Size([64, 1, 18])\n",
      "torch.Size([64])\n",
      "torch.Size([64, 1, 18])\n",
      "torch.Size([64])\n",
      "torch.Size([64, 1, 18])\n",
      "torch.Size([64])\n",
      "torch.Size([64, 1, 18])\n",
      "torch.Size([64])\n"
     ]
    },
    {
     "name": "stderr",
     "output_type": "stream",
     "text": [
      "Epoch [3/5], loss_mean=2.533 :  69%|██████▉   | 1318/1898 [00:20<00:07, 80.00it/s]"
     ]
    },
    {
     "name": "stdout",
     "output_type": "stream",
     "text": [
      "torch.Size([64, 1, 18])\n",
      "torch.Size([64])\n",
      "torch.Size([64, 1, 18])\n",
      "torch.Size([64])\n"
     ]
    },
    {
     "name": "stderr",
     "output_type": "stream",
     "text": [
      "Epoch [3/5], loss_mean=2.533 :  70%|██████▉   | 1327/1898 [00:20<00:17, 32.43it/s]"
     ]
    },
    {
     "name": "stdout",
     "output_type": "stream",
     "text": [
      "torch.Size([64, 1, 18])\n",
      "torch.Size([64])\n",
      "torch.Size([64, 1, 18])\n",
      "torch.Size([64])\n",
      "torch.Size([64, 1, 18])\n",
      "torch.Size([64])\n",
      "torch.Size([64, 1, 18])\n",
      "torch.Size([64])\n",
      "torch.Size([64, 1, 18])\n",
      "torch.Size([64])\n",
      "torch.Size([64, 1, 18])\n",
      "torch.Size([64])\n",
      "torch.Size([64, 1, 18])\n",
      "torch.Size([64])\n",
      "torch.Size([64, 1, 18])\n",
      "torch.Size([64])\n",
      "torch.Size([64, 1, 18])\n",
      "torch.Size([64])\n"
     ]
    },
    {
     "name": "stderr",
     "output_type": "stream",
     "text": [
      "Epoch [3/5], loss_mean=2.533 :  70%|███████   | 1334/1898 [00:20<00:15, 37.14it/s]"
     ]
    },
    {
     "name": "stdout",
     "output_type": "stream",
     "text": [
      "torch.Size([64, 1, 18])\n",
      "torch.Size([64])\n",
      "torch.Size([64, 1, 18])\n",
      "torch.Size([64])\n",
      "torch.Size([64, 1, 18])\n",
      "torch.Size([64])\n",
      "torch.Size([64, 1, 18])\n",
      "torch.Size([64])\n"
     ]
    },
    {
     "name": "stderr",
     "output_type": "stream",
     "text": [
      "Epoch [3/5], loss_mean=2.533 :  71%|███████   | 1351/1898 [00:21<00:12, 44.34it/s]"
     ]
    },
    {
     "name": "stdout",
     "output_type": "stream",
     "text": [
      "torch.Size([64, 1, 18])\n",
      "torch.Size([64])\n",
      "torch.Size([64, 1, 18])\n",
      "torch.Size([64])\n",
      "torch.Size([64, 1, 18])\n",
      "torch.Size([64])\n",
      "torch.Size([64, 1, 18])\n",
      "torch.Size([64])\n",
      "torch.Size([64, 1, 18])\n",
      "torch.Size([64])\n",
      "torch.Size([64, 1, 18])\n",
      "torch.Size([64])\n",
      "torch.Size([64, 1, 18])\n",
      "torch.Size([64])\n",
      "torch.Size([64, 1, 18])\n",
      "torch.Size([64])\n",
      "torch.Size([64, 1, 18])\n",
      "torch.Size([64])\n",
      "torch.Size([64, 1, 18])\n",
      "torch.Size([64])\n",
      "torch.Size([64, 1, 18])\n",
      "torch.Size([64])\n",
      "torch.Size([64, 1, 18])\n",
      "torch.Size([64])\n",
      "torch.Size([64, 1, 18])\n",
      "torch.Size([64])\n",
      "torch.Size([64, 1, 18])\n",
      "torch.Size([64])\n",
      "torch.Size([64, 1, 18])\n",
      "torch.Size([64])\n",
      "torch.Size([64, 1, 18])\n",
      "torch.Size([64])\n"
     ]
    },
    {
     "name": "stderr",
     "output_type": "stream",
     "text": [
      "Epoch [3/5], loss_mean=2.533 :  72%|███████▏  | 1367/1898 [00:21<00:09, 56.52it/s]"
     ]
    },
    {
     "name": "stdout",
     "output_type": "stream",
     "text": [
      "torch.Size([64, 1, 18])\n",
      "torch.Size([64])\n",
      "torch.Size([64, 1, 18])\n",
      "torch.Size([64])\n",
      "torch.Size([64, 1, 18])\n",
      "torch.Size([64])\n",
      "torch.Size([64, 1, 18])\n",
      "torch.Size([64])\n",
      "torch.Size([64, 1, 18])\n",
      "torch.Size([64])\n",
      "torch.Size([64, 1, 18])\n",
      "torch.Size([64])\n",
      "torch.Size([64, 1, 18])\n",
      "torch.Size([64])\n",
      "torch.Size([64, 1, 18])\n",
      "torch.Size([64])\n",
      "torch.Size([64, 1, 18])\n",
      "torch.Size([64])\n",
      "torch.Size([64, 1, 18])\n",
      "torch.Size([64])\n",
      "torch.Size([64, 1, 18])\n",
      "torch.Size([64])\n",
      "torch.Size([64, 1, 18])\n",
      "torch.Size([64])\n",
      "torch.Size([64, 1, 18])\n",
      "torch.Size([64])\n",
      "torch.Size([64, 1, 18])\n",
      "torch.Size([64])\n",
      "torch.Size([64, 1, 18])\n",
      "torch.Size([64])\n"
     ]
    },
    {
     "name": "stderr",
     "output_type": "stream",
     "text": [
      "Epoch [3/5], loss_mean=2.533 :  73%|███████▎  | 1377/1898 [00:21<00:08, 64.06it/s]"
     ]
    },
    {
     "name": "stdout",
     "output_type": "stream",
     "text": [
      "torch.Size([64, 1, 18])\n",
      "torch.Size([64])\n",
      "torch.Size([64, 1, 18])\n",
      "torch.Size([64])\n",
      "torch.Size([64, 1, 18])\n",
      "torch.Size([64])\n",
      "torch.Size([64, 1, 18])\n",
      "torch.Size([64])\n",
      "torch.Size([64, 1, 18])\n",
      "torch.Size([64])\n",
      "torch.Size([64, 1, 18])\n",
      "torch.Size([64])\n",
      "torch.Size([64, 1, 18])\n",
      "torch.Size([64])\n",
      "torch.Size([64, 1, 18])\n",
      "torch.Size([64])\n",
      "torch.Size([64, 1, 18])\n",
      "torch.Size([64])\n"
     ]
    },
    {
     "name": "stderr",
     "output_type": "stream",
     "text": [
      "Epoch [3/5], loss_mean=2.533 :  73%|███████▎  | 1377/1898 [00:21<00:08, 64.06it/s]"
     ]
    },
    {
     "name": "stdout",
     "output_type": "stream",
     "text": [
      "torch.Size([64, 1, 18])\n",
      "torch.Size([64])\n",
      "torch.Size([64, 1, 18])\n",
      "torch.Size([64])\n",
      "torch.Size([64, 1, 18])\n",
      "torch.Size([64])\n",
      "torch.Size([64, 1, 18])\n",
      "torch.Size([64])\n"
     ]
    },
    {
     "name": "stderr",
     "output_type": "stream",
     "text": [
      "Epoch [3/5], loss_mean=2.533 :  73%|███████▎  | 1392/1898 [00:22<00:12, 39.73it/s]"
     ]
    },
    {
     "name": "stdout",
     "output_type": "stream",
     "text": [
      "torch.Size([64, 1, 18])\n",
      "torch.Size([64])\n",
      "torch.Size([64, 1, 18])\n",
      "torch.Size([64])\n",
      "torch.Size([64, 1, 18])\n",
      "torch.Size([64])\n",
      "torch.Size([64, 1, 18])\n",
      "torch.Size([64])\n",
      "torch.Size([64, 1, 18])\n",
      "torch.Size([64])\n",
      "torch.Size([64, 1, 18])\n",
      "torch.Size([64])\n",
      "torch.Size([64, 1, 18])\n",
      "torch.Size([64])\n",
      "torch.Size([64, 1, 18])\n",
      "torch.Size([64])\n",
      "torch.Size([64, 1, 18])\n",
      "torch.Size([64])\n",
      "torch.Size([64, 1, 18])\n",
      "torch.Size([64])\n",
      "torch.Size([64, 1, 18])\n",
      "torch.Size([64])\n"
     ]
    },
    {
     "name": "stderr",
     "output_type": "stream",
     "text": [
      "Epoch [3/5], loss_mean=2.533 :  74%|███████▎  | 1399/1898 [00:22<00:11, 44.60it/s]"
     ]
    },
    {
     "name": "stdout",
     "output_type": "stream",
     "text": [
      "torch.Size([64, 1, 18])\n",
      "torch.Size([64])\n",
      "torch.Size([64, 1, 18])\n",
      "torch.Size([64])\n",
      "torch.Size([64, 1, 18])\n",
      "torch.Size([64])\n",
      "torch.Size([64, 1, 18])\n",
      "torch.Size([64])\n",
      "torch.Size([64, 1, 18])\n",
      "torch.Size([64])\n",
      "torch.Size([64, 1, 18])\n",
      "torch.Size([64])\n",
      "torch.Size([64, 1, 18])\n",
      "torch.Size([64])\n",
      "torch.Size([64, 1, 18])\n",
      "torch.Size([64])\n",
      "torch.Size([64, 1, 18])\n",
      "torch.Size([64])\n",
      "torch.Size([64, 1, 18])\n",
      "torch.Size([64])\n",
      "torch.Size([64, 1, 18])\n",
      "torch.Size([64])\n",
      "torch.Size([64, 1, 18])\n",
      "torch.Size([64])\n",
      "torch.Size([64, 1, 18])\n",
      "torch.Size([64])\n",
      "torch.Size([64, 1, 18])\n",
      "torch.Size([64])\n",
      "torch.Size([64, 1, 18])\n",
      "torch.Size([64])\n"
     ]
    },
    {
     "name": "stderr",
     "output_type": "stream",
     "text": [
      "Epoch [3/5], loss_mean=2.533 :  75%|███████▍  | 1417/1898 [00:22<00:08, 55.56it/s]"
     ]
    },
    {
     "name": "stdout",
     "output_type": "stream",
     "text": [
      "torch.Size([64, 1, 18])\n",
      "torch.Size([64])\n",
      "torch.Size([64, 1, 18])\n",
      "torch.Size([64])\n",
      "torch.Size([64, 1, 18])\n",
      "torch.Size([64])\n",
      "torch.Size([64, 1, 18])\n",
      "torch.Size([64])\n",
      "torch.Size([64, 1, 18])\n",
      "torch.Size([64])\n",
      "torch.Size([64, 1, 18])\n",
      "torch.Size([64])\n",
      "torch.Size([64, 1, 18])\n",
      "torch.Size([64])\n",
      "torch.Size([64, 1, 18])\n",
      "torch.Size([64])\n",
      "torch.Size([64, 1, 18])\n",
      "torch.Size([64])\n",
      "torch.Size([64, 1, 18])\n",
      "torch.Size([64])\n",
      "torch.Size([64, 1, 18])\n",
      "torch.Size([64])\n"
     ]
    },
    {
     "name": "stderr",
     "output_type": "stream",
     "text": [
      "Epoch [3/5], loss_mean=2.533 :  75%|███████▌  | 1424/1898 [00:22<00:08, 54.88it/s]"
     ]
    },
    {
     "name": "stdout",
     "output_type": "stream",
     "text": [
      "torch.Size([64, 1, 18])\n",
      "torch.Size([64])\n",
      "torch.Size([64, 1, 18])\n",
      "torch.Size([64])\n",
      "torch.Size([64, 1, 18])\n",
      "torch.Size([64])\n",
      "torch.Size([64, 1, 18])\n",
      "torch.Size([64])\n",
      "torch.Size([64, 1, 18])\n",
      "torch.Size([64])\n",
      "torch.Size([64, 1, 18])\n",
      "torch.Size([64])\n",
      "torch.Size([64, 1, 18])\n",
      "torch.Size([64])\n",
      "torch.Size([64, 1, 18])\n",
      "torch.Size([64])\n",
      "torch.Size([64, 1, 18])\n",
      "torch.Size([64])\n"
     ]
    },
    {
     "name": "stderr",
     "output_type": "stream",
     "text": [
      "Epoch [3/5], loss_mean=2.533 :  75%|███████▌  | 1431/1898 [00:22<00:10, 44.48it/s]"
     ]
    },
    {
     "name": "stdout",
     "output_type": "stream",
     "text": [
      "torch.Size([64, 1, 18])\n",
      "torch.Size([64])\n",
      "torch.Size([64, 1, 18])\n",
      "torch.Size([64])\n",
      "torch.Size([64, 1, 18])\n",
      "torch.Size([64])\n",
      "torch.Size([64, 1, 18])\n",
      "torch.Size([64])\n",
      "torch.Size([64, 1, 18])\n",
      "torch.Size([64])\n",
      "torch.Size([64, 1, 18])\n",
      "torch.Size([64])\n",
      "torch.Size([64, 1, 18])\n",
      "torch.Size([64])\n"
     ]
    },
    {
     "name": "stderr",
     "output_type": "stream",
     "text": [
      "Epoch [3/5], loss_mean=2.533 :  76%|███████▌  | 1437/1898 [00:23<00:11, 38.79it/s]"
     ]
    },
    {
     "name": "stdout",
     "output_type": "stream",
     "text": [
      "torch.Size([64, 1, 18])\n",
      "torch.Size([64])\n",
      "torch.Size([64, 1, 18])\n",
      "torch.Size([64])\n",
      "torch.Size([64, 1, 18])\n",
      "torch.Size([64])\n",
      "torch.Size([64, 1, 18])\n",
      "torch.Size([64])\n",
      "torch.Size([64, 1, 18])\n",
      "torch.Size([64])\n",
      "torch.Size([64, 1, 18])\n",
      "torch.Size([64])\n",
      "torch.Size([64, 1, 18])\n",
      "torch.Size([64])\n",
      "torch.Size([64, 1, 18])\n",
      "torch.Size([64])\n",
      "torch.Size([64, 1, 18])\n",
      "torch.Size([64])\n",
      "torch.Size([64, 1, 18])\n",
      "torch.Size([64])\n",
      "torch.Size([64, 1, 18])\n",
      "torch.Size([64])\n",
      "torch.Size([64, 1, 18])\n",
      "torch.Size([64])\n",
      "torch.Size([64, 1, 18])\n",
      "torch.Size([64])\n"
     ]
    },
    {
     "name": "stderr",
     "output_type": "stream",
     "text": [
      "Epoch [3/5], loss_mean=2.533 :  77%|███████▋  | 1457/1898 [00:23<00:07, 57.02it/s]"
     ]
    },
    {
     "name": "stdout",
     "output_type": "stream",
     "text": [
      "torch.Size([64, 1, 18])\n",
      "torch.Size([64])\n",
      "torch.Size([64, 1, 18])\n",
      "torch.Size([64])\n",
      "torch.Size([64, 1, 18])\n",
      "torch.Size([64])\n",
      "torch.Size([64, 1, 18])\n",
      "torch.Size([64])\n",
      "torch.Size([64, 1, 18])\n",
      "torch.Size([64])\n",
      "torch.Size([64, 1, 18])\n",
      "torch.Size([64])\n",
      "torch.Size([64, 1, 18])\n",
      "torch.Size([64])\n",
      "torch.Size([64, 1, 18])\n",
      "torch.Size([64])\n",
      "torch.Size([64, 1, 18])\n",
      "torch.Size([64])\n",
      "torch.Size([64, 1, 18])\n",
      "torch.Size([64])\n",
      "torch.Size([64, 1, 18])\n",
      "torch.Size([64])\n",
      "torch.Size([64, 1, 18])\n",
      "torch.Size([64])\n",
      "torch.Size([64, 1, 18])\n",
      "torch.Size([64])\n",
      "torch.Size([64, 1, 18])\n",
      "torch.Size([64])\n",
      "torch.Size([64, 1, 18])\n",
      "torch.Size([64])\n"
     ]
    },
    {
     "name": "stderr",
     "output_type": "stream",
     "text": [
      "Epoch [3/5], loss_mean=2.533 :  77%|███████▋  | 1466/1898 [00:23<00:06, 62.60it/s]"
     ]
    },
    {
     "name": "stdout",
     "output_type": "stream",
     "text": [
      "torch.Size([64, 1, 18])\n",
      "torch.Size([64])\n",
      "torch.Size([64, 1, 18])\n",
      "torch.Size([64])\n",
      "torch.Size([64, 1, 18])\n",
      "torch.Size([64])\n",
      "torch.Size([64, 1, 18])\n",
      "torch.Size([64])\n",
      "torch.Size([64, 1, 18])\n",
      "torch.Size([64])\n",
      "torch.Size([64, 1, 18])\n",
      "torch.Size([64])\n"
     ]
    },
    {
     "name": "stderr",
     "output_type": "stream",
     "text": [
      "Epoch [3/5], loss_mean=2.533 :  78%|███████▊  | 1473/1898 [00:23<00:11, 38.25it/s]"
     ]
    },
    {
     "name": "stdout",
     "output_type": "stream",
     "text": [
      "torch.Size([64, 1, 18])\n",
      "torch.Size([64])\n",
      "torch.Size([64, 1, 18])\n",
      "torch.Size([64])\n",
      "torch.Size([64, 1, 18])\n",
      "torch.Size([64])\n",
      "torch.Size([64, 1, 18])\n",
      "torch.Size([64])\n",
      "torch.Size([64, 1, 18])\n",
      "torch.Size([64])\n",
      "torch.Size([64, 1, 18])\n",
      "torch.Size([64])\n",
      "torch.Size([64, 1, 18])\n",
      "torch.Size([64])\n",
      "torch.Size([64, 1, 18])\n",
      "torch.Size([64])\n",
      "torch.Size([64, 1, 18])\n",
      "torch.Size([64])\n",
      "torch.Size([64, 1, 18])\n",
      "torch.Size([64])\n",
      "torch.Size([64, 1, 18])\n",
      "torch.Size([64])\n",
      "torch.Size([64, 1, 18])\n",
      "torch.Size([64])\n",
      "torch.Size([64, 1, 18])\n",
      "torch.Size([64])\n",
      "torch.Size([64, 1, 18])\n",
      "torch.Size([64])\n",
      "torch.Size([64, 1, 18])\n",
      "torch.Size([64])\n"
     ]
    },
    {
     "name": "stderr",
     "output_type": "stream",
     "text": [
      "Epoch [3/5], loss_mean=2.533 :  79%|███████▉  | 1495/1898 [00:24<00:06, 59.40it/s]"
     ]
    },
    {
     "name": "stdout",
     "output_type": "stream",
     "text": [
      "torch.Size([64, 1, 18])\n",
      "torch.Size([64])\n",
      "torch.Size([64, 1, 18])\n",
      "torch.Size([64])\n",
      "torch.Size([64, 1, 18])\n",
      "torch.Size([64])\n",
      "torch.Size([64, 1, 18])\n",
      "torch.Size([64])\n",
      "torch.Size([64, 1, 18])\n",
      "torch.Size([64])\n",
      "torch.Size([64, 1, 18])\n",
      "torch.Size([64])\n",
      "torch.Size([64, 1, 18])\n",
      "torch.Size([64])\n",
      "torch.Size([64, 1, 18])\n",
      "torch.Size([64])\n",
      "torch.Size([64, 1, 18])\n",
      "torch.Size([64])\n",
      "torch.Size([64, 1, 18])\n",
      "torch.Size([64])\n",
      "torch.Size([64, 1, 18])\n",
      "torch.Size([64])\n",
      "torch.Size([64, 1, 18])\n",
      "torch.Size([64])\n",
      "torch.Size([64, 1, 18])\n",
      "torch.Size([64])\n",
      "torch.Size([64, 1, 18])\n",
      "torch.Size([64])\n",
      "torch.Size([64, 1, 18])\n",
      "torch.Size([64])\n",
      "torch.Size([64, 1, 18])\n",
      "torch.Size([64])\n",
      "torch.Size([64, 1, 18])\n",
      "torch.Size([64])\n",
      "torch.Size([64, 1, 18])\n",
      "torch.Size([64])\n"
     ]
    },
    {
     "name": "stderr",
     "output_type": "stream",
     "text": [
      "Epoch [3/5], loss_mean=2.533 :  80%|███████▉  | 1514/1898 [00:24<00:05, 70.47it/s]"
     ]
    },
    {
     "name": "stdout",
     "output_type": "stream",
     "text": [
      "torch.Size([64, 1, 18])\n",
      "torch.Size([64])\n",
      "torch.Size([64, 1, 18])\n",
      "torch.Size([64])\n",
      "torch.Size([64, 1, 18])\n",
      "torch.Size([64])\n",
      "torch.Size([64, 1, 18])\n",
      "torch.Size([64])\n",
      "torch.Size([64, 1, 18])\n",
      "torch.Size([64])\n",
      "torch.Size([64, 1, 18])\n",
      "torch.Size([64])\n",
      "torch.Size([64, 1, 18])\n",
      "torch.Size([64])\n",
      "torch.Size([64, 1, 18])\n",
      "torch.Size([64])\n",
      "torch.Size([64, 1, 18])\n",
      "torch.Size([64])\n",
      "torch.Size([64, 1, 18])\n",
      "torch.Size([64])\n",
      "torch.Size([64, 1, 18])\n",
      "torch.Size([64])\n",
      "torch.Size([64, 1, 18])\n",
      "torch.Size([64])\n",
      "torch.Size([64, 1, 18])\n",
      "torch.Size([64])\n",
      "torch.Size([64, 1, 18])\n",
      "torch.Size([64])\n",
      "torch.Size([64, 1, 18])\n",
      "torch.Size([64])\n"
     ]
    },
    {
     "name": "stderr",
     "output_type": "stream",
     "text": [
      "Epoch [3/5], loss_mean=2.533 :  80%|████████  | 1524/1898 [00:24<00:05, 74.68it/s]"
     ]
    },
    {
     "name": "stdout",
     "output_type": "stream",
     "text": [
      "torch.Size([64, 1, 18])\n",
      "torch.Size([64])\n",
      "torch.Size([64, 1, 18])\n",
      "torch.Size([64])\n",
      "torch.Size([64, 1, 18])\n",
      "torch.Size([64])\n",
      "torch.Size([64, 1, 18])\n",
      "torch.Size([64])\n",
      "torch.Size([64, 1, 18])\n",
      "torch.Size([64])\n",
      "torch.Size([64, 1, 18])\n",
      "torch.Size([64])\n",
      "torch.Size([64, 1, 18])\n",
      "torch.Size([64])\n",
      "torch.Size([64, 1, 18])\n",
      "torch.Size([64])\n",
      "torch.Size([64, 1, 18])\n",
      "torch.Size([64])\n",
      "torch.Size([64, 1, 18])\n",
      "torch.Size([64])\n",
      "torch.Size([64, 1, 18])\n",
      "torch.Size([64])\n",
      "torch.Size([64, 1, 18])\n",
      "torch.Size([64])\n",
      "torch.Size([64, 1, 18])\n",
      "torch.Size([64])\n",
      "torch.Size([64, 1, 18])\n",
      "torch.Size([64])\n",
      "torch.Size([64, 1, 18])\n",
      "torch.Size([64])\n",
      "torch.Size([64, 1, 18])\n",
      "torch.Size([64])\n",
      "torch.Size([64, 1, 18])\n",
      "torch.Size([64])\n"
     ]
    },
    {
     "name": "stderr",
     "output_type": "stream",
     "text": [
      "Epoch [3/5], loss_mean=2.532 :  81%|████████▏ | 1545/1898 [00:24<00:04, 80.85it/s]"
     ]
    },
    {
     "name": "stdout",
     "output_type": "stream",
     "text": [
      "torch.Size([64, 1, 18])\n",
      "torch.Size([64])\n",
      "torch.Size([64, 1, 18])\n",
      "torch.Size([64])\n",
      "torch.Size([64, 1, 18])\n",
      "torch.Size([64])\n",
      "torch.Size([64, 1, 18])\n",
      "torch.Size([64])\n",
      "torch.Size([64, 1, 18])\n",
      "torch.Size([64])\n",
      "torch.Size([64, 1, 18])\n",
      "torch.Size([64])\n",
      "torch.Size([64, 1, 18])\n",
      "torch.Size([64])\n",
      "torch.Size([64, 1, 18])\n",
      "torch.Size([64])\n",
      "torch.Size([64, 1, 18])\n",
      "torch.Size([64])\n",
      "torch.Size([64, 1, 18])\n",
      "torch.Size([64])\n",
      "torch.Size([64, 1, 18])\n",
      "torch.Size([64])\n",
      "torch.Size([64, 1, 18])\n",
      "torch.Size([64])\n",
      "torch.Size([64, 1, 18])\n",
      "torch.Size([64])\n",
      "torch.Size([64, 1, 18])\n",
      "torch.Size([64])\n",
      "torch.Size([64, 1, 18])\n",
      "torch.Size([64])\n",
      "torch.Size([64, 1, 18])\n",
      "torch.Size([64])\n"
     ]
    },
    {
     "name": "stderr",
     "output_type": "stream",
     "text": [
      "Epoch [3/5], loss_mean=2.532 :  83%|████████▎ | 1566/1898 [00:24<00:03, 86.54it/s]"
     ]
    },
    {
     "name": "stdout",
     "output_type": "stream",
     "text": [
      "torch.Size([64, 1, 18])\n",
      "torch.Size([64])\n",
      "torch.Size([64, 1, 18])\n",
      "torch.Size([64])\n",
      "torch.Size([64, 1, 18])\n",
      "torch.Size([64])\n",
      "torch.Size([64, 1, 18])\n",
      "torch.Size([64])\n",
      "torch.Size([64, 1, 18])\n",
      "torch.Size([64])\n",
      "torch.Size([64, 1, 18])\n",
      "torch.Size([64])\n",
      "torch.Size([64, 1, 18])\n",
      "torch.Size([64])\n",
      "torch.Size([64, 1, 18])\n",
      "torch.Size([64])\n",
      "torch.Size([64, 1, 18])\n",
      "torch.Size([64])\n",
      "torch.Size([64, 1, 18])\n",
      "torch.Size([64])\n",
      "torch.Size([64, 1, 18])\n",
      "torch.Size([64])\n",
      "torch.Size([64, 1, 18])\n",
      "torch.Size([64])\n",
      "torch.Size([64, 1, 18])\n",
      "torch.Size([64])\n",
      "torch.Size([64, 1, 18])\n",
      "torch.Size([64])\n",
      "torch.Size([64, 1, 18])\n",
      "torch.Size([64])\n",
      "torch.Size([64, 1, 18])\n",
      "torch.Size([64])\n",
      "torch.Size([64, 1, 18])\n",
      "torch.Size([64])\n"
     ]
    },
    {
     "name": "stderr",
     "output_type": "stream",
     "text": [
      "Epoch [3/5], loss_mean=2.532 :  83%|████████▎ | 1575/1898 [00:24<00:03, 83.68it/s]"
     ]
    },
    {
     "name": "stdout",
     "output_type": "stream",
     "text": [
      "torch.Size([64, 1, 18])\n",
      "torch.Size([64])\n",
      "torch.Size([64, 1, 18])\n",
      "torch.Size([64])\n",
      "torch.Size([64, 1, 18])\n",
      "torch.Size([64])\n",
      "torch.Size([64, 1, 18])\n",
      "torch.Size([64])\n",
      "torch.Size([64, 1, 18])\n",
      "torch.Size([64])\n",
      "torch.Size([64, 1, 18])\n",
      "torch.Size([64])\n",
      "torch.Size([64, 1, 18])\n",
      "torch.Size([64])\n",
      "torch.Size([64, 1, 18])\n",
      "torch.Size([64])\n",
      "torch.Size([64, 1, 18])\n",
      "torch.Size([64])\n",
      "torch.Size([64, 1, 18])\n",
      "torch.Size([64])\n",
      "torch.Size([64, 1, 18])\n",
      "torch.Size([64])\n",
      "torch.Size([64, 1, 18])\n",
      "torch.Size([64])\n",
      "torch.Size([64, 1, 18])\n",
      "torch.Size([64])\n",
      "torch.Size([64, 1, 18])\n",
      "torch.Size([64])\n",
      "torch.Size([64, 1, 18])\n",
      "torch.Size([64])\n"
     ]
    },
    {
     "name": "stderr",
     "output_type": "stream",
     "text": [
      "Epoch [3/5], loss_mean=2.532 :  84%|████████▍ | 1593/1898 [00:25<00:03, 76.71it/s]"
     ]
    },
    {
     "name": "stdout",
     "output_type": "stream",
     "text": [
      "torch.Size([64, 1, 18])\n",
      "torch.Size([64])\n",
      "torch.Size([64, 1, 18])\n",
      "torch.Size([64])\n",
      "torch.Size([64, 1, 18])\n",
      "torch.Size([64])\n",
      "torch.Size([64, 1, 18])\n",
      "torch.Size([64])\n",
      "torch.Size([64, 1, 18])\n",
      "torch.Size([64])\n",
      "torch.Size([64, 1, 18])\n",
      "torch.Size([64])\n",
      "torch.Size([64, 1, 18])\n",
      "torch.Size([64])\n",
      "torch.Size([64, 1, 18])\n",
      "torch.Size([64])\n",
      "torch.Size([64, 1, 18])\n",
      "torch.Size([64])\n",
      "torch.Size([64, 1, 18])\n",
      "torch.Size([64])\n",
      "torch.Size([64, 1, 18])\n",
      "torch.Size([64])\n",
      "torch.Size([64, 1, 18])\n",
      "torch.Size([64])\n"
     ]
    },
    {
     "name": "stderr",
     "output_type": "stream",
     "text": [
      "Epoch [3/5], loss_mean=2.532 :  84%|████████▍ | 1593/1898 [00:25<00:03, 76.71it/s]"
     ]
    },
    {
     "name": "stdout",
     "output_type": "stream",
     "text": [
      "torch.Size([64, 1, 18])\n",
      "torch.Size([64])\n",
      "torch.Size([64, 1, 18])\n",
      "torch.Size([64])\n",
      "torch.Size([64, 1, 18])\n",
      "torch.Size([64])\n",
      "torch.Size([64, 1, 18])\n",
      "torch.Size([64])\n",
      "torch.Size([64, 1, 18])\n",
      "torch.Size([64])\n",
      "torch.Size([64, 1, 18])\n",
      "torch.Size([64])\n",
      "torch.Size([64, 1, 18])\n",
      "torch.Size([64])\n"
     ]
    },
    {
     "name": "stderr",
     "output_type": "stream",
     "text": [
      "Epoch [3/5], loss_mean=2.532 :  84%|████████▍ | 1601/1898 [00:25<00:05, 50.50it/s]"
     ]
    },
    {
     "name": "stdout",
     "output_type": "stream",
     "text": [
      "torch.Size([64, 1, 18])\n",
      "torch.Size([64])\n",
      "torch.Size([64, 1, 18])\n",
      "torch.Size([64])\n",
      "torch.Size([64, 1, 18])\n",
      "torch.Size([64])\n",
      "torch.Size([64, 1, 18])\n",
      "torch.Size([64])\n",
      "torch.Size([64, 1, 18])\n",
      "torch.Size([64])\n"
     ]
    },
    {
     "name": "stderr",
     "output_type": "stream",
     "text": [
      "Epoch [3/5], loss_mean=2.532 :  85%|████████▌ | 1614/1898 [00:25<00:06, 43.33it/s]"
     ]
    },
    {
     "name": "stdout",
     "output_type": "stream",
     "text": [
      "torch.Size([64, 1, 18])\n",
      "torch.Size([64])\n",
      "torch.Size([64, 1, 18])\n",
      "torch.Size([64])\n",
      "torch.Size([64, 1, 18])\n",
      "torch.Size([64])\n",
      "torch.Size([64, 1, 18])\n",
      "torch.Size([64])\n",
      "torch.Size([64, 1, 18])\n",
      "torch.Size([64])\n",
      "torch.Size([64, 1, 18])\n",
      "torch.Size([64])\n",
      "torch.Size([64, 1, 18])\n",
      "torch.Size([64])\n",
      "torch.Size([64, 1, 18])\n",
      "torch.Size([64])\n",
      "torch.Size([64, 1, 18])\n",
      "torch.Size([64])\n"
     ]
    },
    {
     "name": "stderr",
     "output_type": "stream",
     "text": [
      "Epoch [3/5], loss_mean=2.532 :  85%|████████▌ | 1620/1898 [00:26<00:06, 40.58it/s]"
     ]
    },
    {
     "name": "stdout",
     "output_type": "stream",
     "text": [
      "torch.Size([64, 1, 18])\n",
      "torch.Size([64])\n",
      "torch.Size([64, 1, 18])\n",
      "torch.Size([64])\n",
      "torch.Size([64, 1, 18])\n",
      "torch.Size([64])\n",
      "torch.Size([64, 1, 18])\n",
      "torch.Size([64])\n",
      "torch.Size([64, 1, 18])\n",
      "torch.Size([64])\n",
      "torch.Size([64, 1, 18])\n",
      "torch.Size([64])\n",
      "torch.Size([64, 1, 18])\n",
      "torch.Size([64])\n",
      "torch.Size([64, 1, 18])\n",
      "torch.Size([64])\n"
     ]
    },
    {
     "name": "stderr",
     "output_type": "stream",
     "text": [
      "Epoch [3/5], loss_mean=2.532 :  86%|████████▌ | 1627/1898 [00:26<00:06, 44.97it/s]"
     ]
    },
    {
     "name": "stdout",
     "output_type": "stream",
     "text": [
      "torch.Size([64, 1, 18])\n",
      "torch.Size([64])\n",
      "torch.Size([64, 1, 18])\n",
      "torch.Size([64])\n",
      "torch.Size([64, 1, 18])\n",
      "torch.Size([64])\n",
      "torch.Size([64, 1, 18])\n",
      "torch.Size([64])\n",
      "torch.Size([64, 1, 18])\n",
      "torch.Size([64])\n",
      "torch.Size([64, 1, 18])\n",
      "torch.Size([64])\n",
      "torch.Size([64, 1, 18])\n",
      "torch.Size([64])\n",
      "torch.Size([64, 1, 18])\n",
      "torch.Size([64])\n",
      "torch.Size([64, 1, 18])\n",
      "torch.Size([64])\n"
     ]
    },
    {
     "name": "stderr",
     "output_type": "stream",
     "text": [
      "Epoch [3/5], loss_mean=2.532 :  86%|████████▋ | 1638/1898 [00:26<00:06, 42.42it/s]"
     ]
    },
    {
     "name": "stdout",
     "output_type": "stream",
     "text": [
      "torch.Size([64, 1, 18])\n",
      "torch.Size([64])\n",
      "torch.Size([64, 1, 18])\n",
      "torch.Size([64])\n",
      "torch.Size([64, 1, 18])\n",
      "torch.Size([64])\n",
      "torch.Size([64, 1, 18])\n",
      "torch.Size([64])\n",
      "torch.Size([64, 1, 18])\n",
      "torch.Size([64])\n",
      "torch.Size([64, 1, 18])\n",
      "torch.Size([64])\n",
      "torch.Size([64, 1, 18])\n",
      "torch.Size([64])\n",
      "torch.Size([64, 1, 18])\n",
      "torch.Size([64])\n"
     ]
    },
    {
     "name": "stderr",
     "output_type": "stream",
     "text": [
      "Epoch [3/5], loss_mean=2.532 :  87%|████████▋ | 1645/1898 [00:26<00:05, 44.09it/s]"
     ]
    },
    {
     "name": "stdout",
     "output_type": "stream",
     "text": [
      "torch.Size([64, 1, 18])\n",
      "torch.Size([64])\n",
      "torch.Size([64, 1, 18])\n",
      "torch.Size([64])\n",
      "torch.Size([64, 1, 18])\n",
      "torch.Size([64])\n",
      "torch.Size([64, 1, 18])\n",
      "torch.Size([64])\n",
      "torch.Size([64, 1, 18])\n",
      "torch.Size([64])\n",
      "torch.Size([64, 1, 18])\n",
      "torch.Size([64])\n",
      "torch.Size([64, 1, 18])\n",
      "torch.Size([64])\n",
      "torch.Size([64, 1, 18])\n",
      "torch.Size([64])\n",
      "torch.Size([64, 1, 18])\n",
      "torch.Size([64])\n"
     ]
    },
    {
     "name": "stderr",
     "output_type": "stream",
     "text": [
      "Epoch [3/5], loss_mean=2.532 :  87%|████████▋ | 1651/1898 [00:26<00:05, 47.36it/s]"
     ]
    },
    {
     "name": "stdout",
     "output_type": "stream",
     "text": [
      "torch.Size([64, 1, 18])\n",
      "torch.Size([64])\n",
      "torch.Size([64, 1, 18])\n",
      "torch.Size([64])\n",
      "torch.Size([64, 1, 18])\n",
      "torch.Size([64])\n",
      "torch.Size([64, 1, 18])\n",
      "torch.Size([64])\n",
      "torch.Size([64, 1, 18])\n",
      "torch.Size([64])\n",
      "torch.Size([64, 1, 18])\n",
      "torch.Size([64])\n"
     ]
    },
    {
     "name": "stderr",
     "output_type": "stream",
     "text": [
      "Epoch [3/5], loss_mean=2.532 :  87%|████████▋ | 1656/1898 [00:26<00:07, 31.92it/s]"
     ]
    },
    {
     "name": "stdout",
     "output_type": "stream",
     "text": [
      "torch.Size([64, 1, 18])\n",
      "torch.Size([64])\n",
      "torch.Size([64, 1, 18])\n",
      "torch.Size([64])\n",
      "torch.Size([64, 1, 18])\n",
      "torch.Size([64])\n"
     ]
    },
    {
     "name": "stderr",
     "output_type": "stream",
     "text": [
      "Epoch [3/5], loss_mean=2.532 :  87%|████████▋ | 1660/1898 [00:27<00:07, 31.19it/s]"
     ]
    },
    {
     "name": "stdout",
     "output_type": "stream",
     "text": [
      "torch.Size([64, 1, 18])\n",
      "torch.Size([64])\n",
      "torch.Size([64, 1, 18])\n",
      "torch.Size([64])\n",
      "torch.Size([64, 1, 18])\n",
      "torch.Size([64])\n",
      "torch.Size([64, 1, 18])\n",
      "torch.Size([64])\n",
      "torch.Size([64, 1, 18])\n",
      "torch.Size([64])\n",
      "torch.Size([64, 1, 18])\n",
      "torch.Size([64])\n",
      "torch.Size([64, 1, 18])\n",
      "torch.Size([64])\n"
     ]
    },
    {
     "name": "stderr",
     "output_type": "stream",
     "text": [
      "Epoch [3/5], loss_mean=2.532 :  88%|████████▊ | 1669/1898 [00:27<00:06, 33.24it/s]"
     ]
    },
    {
     "name": "stdout",
     "output_type": "stream",
     "text": [
      "torch.Size([64, 1, 18])\n",
      "torch.Size([64])\n",
      "torch.Size([64, 1, 18])\n",
      "torch.Size([64])\n",
      "torch.Size([64, 1, 18])\n",
      "torch.Size([64])\n",
      "torch.Size([64, 1, 18])\n",
      "torch.Size([64])\n",
      "torch.Size([64, 1, 18])\n",
      "torch.Size([64])\n",
      "torch.Size([64, 1, 18])\n",
      "torch.Size([64])\n",
      "torch.Size([64, 1, 18])\n",
      "torch.Size([64])\n"
     ]
    },
    {
     "name": "stderr",
     "output_type": "stream",
     "text": [
      "Epoch [3/5], loss_mean=2.532 :  88%|████████▊ | 1673/1898 [00:27<00:07, 31.86it/s]"
     ]
    },
    {
     "name": "stdout",
     "output_type": "stream",
     "text": [
      "torch.Size([64, 1, 18])\n",
      "torch.Size([64])\n",
      "torch.Size([64, 1, 18])\n",
      "torch.Size([64])\n",
      "torch.Size([64, 1, 18])\n",
      "torch.Size([64])\n"
     ]
    },
    {
     "name": "stderr",
     "output_type": "stream",
     "text": [
      "Epoch [3/5], loss_mean=2.532 :  88%|████████▊ | 1677/1898 [00:27<00:08, 25.31it/s]"
     ]
    },
    {
     "name": "stdout",
     "output_type": "stream",
     "text": [
      "torch.Size([64, 1, 18])\n",
      "torch.Size([64])\n",
      "torch.Size([64, 1, 18])\n",
      "torch.Size([64])\n",
      "torch.Size([64, 1, 18])\n",
      "torch.Size([64])\n",
      "torch.Size([64, 1, 18])\n",
      "torch.Size([64])\n"
     ]
    },
    {
     "name": "stderr",
     "output_type": "stream",
     "text": [
      "Epoch [3/5], loss_mean=2.532 :  89%|████████▊ | 1680/1898 [00:28<00:10, 20.36it/s]"
     ]
    },
    {
     "name": "stdout",
     "output_type": "stream",
     "text": [
      "torch.Size([64, 1, 18])\n",
      "torch.Size([64])\n",
      "torch.Size([64, 1, 18])\n",
      "torch.Size([64])\n",
      "torch.Size([64, 1, 18])\n",
      "torch.Size([64])\n",
      "torch.Size([64, 1, 18])\n",
      "torch.Size([64])\n",
      "torch.Size([64, 1, 18])\n",
      "torch.Size([64])\n"
     ]
    },
    {
     "name": "stderr",
     "output_type": "stream",
     "text": [
      "Epoch [3/5], loss_mean=2.532 :  89%|████████▉ | 1689/1898 [00:28<00:07, 26.71it/s]"
     ]
    },
    {
     "name": "stdout",
     "output_type": "stream",
     "text": [
      "torch.Size([64, 1, 18])\n",
      "torch.Size([64])\n",
      "torch.Size([64, 1, 18])\n",
      "torch.Size([64])\n",
      "torch.Size([64, 1, 18])\n",
      "torch.Size([64])\n",
      "torch.Size([64, 1, 18])\n",
      "torch.Size([64])\n",
      "torch.Size([64, 1, 18])\n",
      "torch.Size([64])\n",
      "torch.Size([64, 1, 18])\n",
      "torch.Size([64])\n",
      "torch.Size([64, 1, 18])\n",
      "torch.Size([64])\n"
     ]
    },
    {
     "name": "stderr",
     "output_type": "stream",
     "text": [
      "Epoch [3/5], loss_mean=2.532 :  89%|████████▉ | 1694/1898 [00:28<00:06, 30.46it/s]"
     ]
    },
    {
     "name": "stdout",
     "output_type": "stream",
     "text": [
      "torch.Size([64, 1, 18])\n",
      "torch.Size([64])\n",
      "torch.Size([64, 1, 18])\n",
      "torch.Size([64])\n",
      "torch.Size([64, 1, 18])\n",
      "torch.Size([64])\n",
      "torch.Size([64, 1, 18])\n",
      "torch.Size([64])\n",
      "torch.Size([64, 1, 18])\n",
      "torch.Size([64])\n",
      "torch.Size([64, 1, 18])\n",
      "torch.Size([64])\n",
      "torch.Size([64, 1, 18])\n",
      "torch.Size([64])\n"
     ]
    },
    {
     "name": "stderr",
     "output_type": "stream",
     "text": [
      "Epoch [3/5], loss_mean=2.532 :  90%|████████▉ | 1702/1898 [00:28<00:06, 31.42it/s]"
     ]
    },
    {
     "name": "stdout",
     "output_type": "stream",
     "text": [
      "torch.Size([64, 1, 18])\n",
      "torch.Size([64])\n",
      "torch.Size([64, 1, 18])\n",
      "torch.Size([64])\n",
      "torch.Size([64, 1, 18])\n",
      "torch.Size([64])\n",
      "torch.Size([64, 1, 18])\n",
      "torch.Size([64])\n",
      "torch.Size([64, 1, 18])\n",
      "torch.Size([64])\n"
     ]
    },
    {
     "name": "stderr",
     "output_type": "stream",
     "text": [
      "Epoch [3/5], loss_mean=2.532 :  90%|█████████ | 1710/1898 [00:28<00:05, 33.48it/s]"
     ]
    },
    {
     "name": "stdout",
     "output_type": "stream",
     "text": [
      "torch.Size([64, 1, 18])\n",
      "torch.Size([64])\n",
      "torch.Size([64, 1, 18])\n",
      "torch.Size([64])\n",
      "torch.Size([64, 1, 18])\n",
      "torch.Size([64])\n",
      "torch.Size([64, 1, 18])\n",
      "torch.Size([64])\n",
      "torch.Size([64, 1, 18])\n",
      "torch.Size([64])\n",
      "torch.Size([64, 1, 18])\n",
      "torch.Size([64])\n",
      "torch.Size([64, 1, 18])\n",
      "torch.Size([64])\n",
      "torch.Size([64, 1, 18])\n",
      "torch.Size([64])\n"
     ]
    },
    {
     "name": "stderr",
     "output_type": "stream",
     "text": [
      "Epoch [3/5], loss_mean=2.532 :  90%|█████████ | 1714/1898 [00:28<00:05, 33.71it/s]"
     ]
    },
    {
     "name": "stdout",
     "output_type": "stream",
     "text": [
      "torch.Size([64, 1, 18])\n",
      "torch.Size([64])\n",
      "torch.Size([64, 1, 18])\n",
      "torch.Size([64])\n",
      "torch.Size([64, 1, 18])\n",
      "torch.Size([64])\n",
      "torch.Size([64, 1, 18])\n",
      "torch.Size([64])\n"
     ]
    },
    {
     "name": "stderr",
     "output_type": "stream",
     "text": [
      "Epoch [3/5], loss_mean=2.532 :  91%|█████████ | 1718/1898 [00:29<00:06, 29.35it/s]"
     ]
    },
    {
     "name": "stdout",
     "output_type": "stream",
     "text": [
      "torch.Size([64, 1, 18])\n",
      "torch.Size([64])\n",
      "torch.Size([64, 1, 18])\n",
      "torch.Size([64])\n",
      "torch.Size([64, 1, 18])\n",
      "torch.Size([64])\n",
      "torch.Size([64, 1, 18])\n",
      "torch.Size([64])\n",
      "torch.Size([64, 1, 18])\n",
      "torch.Size([64])\n",
      "torch.Size([64, 1, 18])\n",
      "torch.Size([64])\n"
     ]
    },
    {
     "name": "stderr",
     "output_type": "stream",
     "text": [
      "Epoch [3/5], loss_mean=2.532 :  91%|█████████ | 1730/1898 [00:29<00:04, 39.25it/s]"
     ]
    },
    {
     "name": "stdout",
     "output_type": "stream",
     "text": [
      "torch.Size([64, 1, 18])\n",
      "torch.Size([64])\n",
      "torch.Size([64, 1, 18])\n",
      "torch.Size([64])\n",
      "torch.Size([64, 1, 18])\n",
      "torch.Size([64])\n",
      "torch.Size([64, 1, 18])\n",
      "torch.Size([64])\n",
      "torch.Size([64, 1, 18])\n",
      "torch.Size([64])\n",
      "torch.Size([64, 1, 18])\n",
      "torch.Size([64])\n",
      "torch.Size([64, 1, 18])\n",
      "torch.Size([64])\n",
      "torch.Size([64, 1, 18])\n",
      "torch.Size([64])\n",
      "torch.Size([64, 1, 18])\n",
      "torch.Size([64])\n",
      "torch.Size([64, 1, 18])\n",
      "torch.Size([64])\n",
      "torch.Size([64, 1, 18])\n",
      "torch.Size([64])\n",
      "torch.Size([64, 1, 18])\n",
      "torch.Size([64])\n"
     ]
    },
    {
     "name": "stderr",
     "output_type": "stream",
     "text": [
      "Epoch [3/5], loss_mean=2.532 :  91%|█████████▏| 1735/1898 [00:29<00:04, 39.95it/s]"
     ]
    },
    {
     "name": "stdout",
     "output_type": "stream",
     "text": [
      "torch.Size([64, 1, 18])\n",
      "torch.Size([64])\n",
      "torch.Size([64, 1, 18])\n",
      "torch.Size([64])\n",
      "torch.Size([64, 1, 18])\n",
      "torch.Size([64])\n",
      "torch.Size([64, 1, 18])\n",
      "torch.Size([64])\n",
      "torch.Size([64, 1, 18])\n",
      "torch.Size([64])\n",
      "torch.Size([64, 1, 18])\n",
      "torch.Size([64])\n"
     ]
    },
    {
     "name": "stderr",
     "output_type": "stream",
     "text": [
      "Epoch [3/5], loss_mean=2.532 :  92%|█████████▏| 1740/1898 [00:29<00:05, 29.12it/s]"
     ]
    },
    {
     "name": "stdout",
     "output_type": "stream",
     "text": [
      "torch.Size([64, 1, 18])\n",
      "torch.Size([64])\n",
      "torch.Size([64, 1, 18])\n",
      "torch.Size([64])\n"
     ]
    },
    {
     "name": "stderr",
     "output_type": "stream",
     "text": [
      "Epoch [3/5], loss_mean=2.532 :  92%|█████████▏| 1749/1898 [00:30<00:05, 28.04it/s]"
     ]
    },
    {
     "name": "stdout",
     "output_type": "stream",
     "text": [
      "torch.Size([64, 1, 18])\n",
      "torch.Size([64])\n",
      "torch.Size([64, 1, 18])\n",
      "torch.Size([64])\n",
      "torch.Size([64, 1, 18])\n",
      "torch.Size([64])\n",
      "torch.Size([64, 1, 18])\n",
      "torch.Size([64])\n",
      "torch.Size([64, 1, 18])\n",
      "torch.Size([64])\n",
      "torch.Size([64, 1, 18])\n",
      "torch.Size([64])\n",
      "torch.Size([64, 1, 18])\n",
      "torch.Size([64])\n",
      "torch.Size([64, 1, 18])\n",
      "torch.Size([64])\n",
      "torch.Size([64, 1, 18])\n",
      "torch.Size([64])\n"
     ]
    },
    {
     "name": "stderr",
     "output_type": "stream",
     "text": [
      "Epoch [3/5], loss_mean=2.532 :  92%|█████████▏| 1749/1898 [00:30<00:05, 28.04it/s]"
     ]
    },
    {
     "name": "stdout",
     "output_type": "stream",
     "text": [
      "torch.Size([64, 1, 18])\n",
      "torch.Size([64])\n",
      "torch.Size([64, 1, 18])\n",
      "torch.Size([64])\n",
      "torch.Size([64, 1, 18])\n",
      "torch.Size([64])\n"
     ]
    },
    {
     "name": "stderr",
     "output_type": "stream",
     "text": [
      "Epoch [3/5], loss_mean=2.532 :  93%|█████████▎| 1756/1898 [00:30<00:06, 22.97it/s]"
     ]
    },
    {
     "name": "stdout",
     "output_type": "stream",
     "text": [
      "torch.Size([64, 1, 18])\n",
      "torch.Size([64])\n",
      "torch.Size([64, 1, 18])\n",
      "torch.Size([64])\n",
      "torch.Size([64, 1, 18])\n",
      "torch.Size([64])\n",
      "torch.Size([64, 1, 18])\n",
      "torch.Size([64])\n",
      "torch.Size([64, 1, 18])\n",
      "torch.Size([64])\n",
      "torch.Size([64, 1, 18])\n",
      "torch.Size([64])\n",
      "torch.Size([64, 1, 18])\n",
      "torch.Size([64])\n",
      "torch.Size([64, 1, 18])\n",
      "torch.Size([64])\n",
      "torch.Size([64, 1, 18])\n",
      "torch.Size([64])\n"
     ]
    },
    {
     "name": "stderr",
     "output_type": "stream",
     "text": [
      "Epoch [3/5], loss_mean=2.532 :  93%|█████████▎| 1770/1898 [00:30<00:03, 38.34it/s]"
     ]
    },
    {
     "name": "stdout",
     "output_type": "stream",
     "text": [
      "torch.Size([64, 1, 18])\n",
      "torch.Size([64])\n",
      "torch.Size([64, 1, 18])\n",
      "torch.Size([64])\n",
      "torch.Size([64, 1, 18])\n",
      "torch.Size([64])\n",
      "torch.Size([64, 1, 18])\n",
      "torch.Size([64])\n",
      "torch.Size([64, 1, 18])\n",
      "torch.Size([64])\n",
      "torch.Size([64, 1, 18])\n",
      "torch.Size([64])\n",
      "torch.Size([64, 1, 18])\n",
      "torch.Size([64])\n",
      "torch.Size([64, 1, 18])\n",
      "torch.Size([64])\n",
      "torch.Size([64, 1, 18])\n",
      "torch.Size([64])\n",
      "torch.Size([64, 1, 18])\n",
      "torch.Size([64])\n",
      "torch.Size([64, 1, 18])\n",
      "torch.Size([64])\n",
      "torch.Size([64, 1, 18])\n",
      "torch.Size([64])\n"
     ]
    },
    {
     "name": "stderr",
     "output_type": "stream",
     "text": [
      "Epoch [3/5], loss_mean=2.532 :  94%|█████████▍| 1783/1898 [00:30<00:02, 47.26it/s]"
     ]
    },
    {
     "name": "stdout",
     "output_type": "stream",
     "text": [
      "torch.Size([64, 1, 18])\n",
      "torch.Size([64])\n",
      "torch.Size([64, 1, 18])\n",
      "torch.Size([64])\n",
      "torch.Size([64, 1, 18])\n",
      "torch.Size([64])\n",
      "torch.Size([64, 1, 18])\n",
      "torch.Size([64])\n",
      "torch.Size([64, 1, 18])\n",
      "torch.Size([64])\n",
      "torch.Size([64, 1, 18])\n",
      "torch.Size([64])\n",
      "torch.Size([64, 1, 18])\n",
      "torch.Size([64])\n",
      "torch.Size([64, 1, 18])\n",
      "torch.Size([64])\n",
      "torch.Size([64, 1, 18])\n",
      "torch.Size([64])\n",
      "torch.Size([64, 1, 18])\n",
      "torch.Size([64])\n",
      "torch.Size([64, 1, 18])\n",
      "torch.Size([64])\n"
     ]
    },
    {
     "name": "stderr",
     "output_type": "stream",
     "text": [
      "Epoch [3/5], loss_mean=2.532 :  94%|█████████▍| 1789/1898 [00:31<00:02, 48.62it/s]"
     ]
    },
    {
     "name": "stdout",
     "output_type": "stream",
     "text": [
      "torch.Size([64, 1, 18])\n",
      "torch.Size([64])\n",
      "torch.Size([64, 1, 18])\n",
      "torch.Size([64])\n",
      "torch.Size([64, 1, 18])\n",
      "torch.Size([64])\n",
      "torch.Size([64, 1, 18])\n",
      "torch.Size([64])\n",
      "torch.Size([64, 1, 18])\n",
      "torch.Size([64])\n",
      "torch.Size([64, 1, 18])\n",
      "torch.Size([64])\n",
      "torch.Size([64, 1, 18])\n",
      "torch.Size([64])\n",
      "torch.Size([64, 1, 18])\n",
      "torch.Size([64])\n",
      "torch.Size([64, 1, 18])\n",
      "torch.Size([64])\n",
      "torch.Size([64, 1, 18])\n",
      "torch.Size([64])\n",
      "torch.Size([64, 1, 18])\n",
      "torch.Size([64])\n"
     ]
    },
    {
     "name": "stderr",
     "output_type": "stream",
     "text": [
      "Epoch [3/5], loss_mean=2.532 :  95%|█████████▍| 1802/1898 [00:31<00:01, 49.82it/s]"
     ]
    },
    {
     "name": "stdout",
     "output_type": "stream",
     "text": [
      "torch.Size([64, 1, 18])\n",
      "torch.Size([64])\n",
      "torch.Size([64, 1, 18])\n",
      "torch.Size([64])\n",
      "torch.Size([64, 1, 18])\n",
      "torch.Size([64])\n",
      "torch.Size([64, 1, 18])\n",
      "torch.Size([64])\n",
      "torch.Size([64, 1, 18])\n",
      "torch.Size([64])\n",
      "torch.Size([64, 1, 18])\n",
      "torch.Size([64])\n",
      "torch.Size([64, 1, 18])\n",
      "torch.Size([64])\n",
      "torch.Size([64, 1, 18])\n",
      "torch.Size([64])\n"
     ]
    },
    {
     "name": "stderr",
     "output_type": "stream",
     "text": [
      "Epoch [3/5], loss_mean=2.532 :  95%|█████████▌| 1808/1898 [00:31<00:02, 44.22it/s]"
     ]
    },
    {
     "name": "stdout",
     "output_type": "stream",
     "text": [
      "torch.Size([64, 1, 18])\n",
      "torch.Size([64])\n",
      "torch.Size([64, 1, 18])\n",
      "torch.Size([64])\n",
      "torch.Size([64, 1, 18])\n",
      "torch.Size([64])\n",
      "torch.Size([64, 1, 18])\n",
      "torch.Size([64])\n",
      "torch.Size([64, 1, 18])\n",
      "torch.Size([64])\n"
     ]
    },
    {
     "name": "stderr",
     "output_type": "stream",
     "text": [
      "Epoch [3/5], loss_mean=2.532 :  96%|█████████▌| 1813/1898 [00:31<00:02, 31.80it/s]"
     ]
    },
    {
     "name": "stdout",
     "output_type": "stream",
     "text": [
      "torch.Size([64, 1, 18])\n",
      "torch.Size([64])\n",
      "torch.Size([64, 1, 18])\n",
      "torch.Size([64])\n",
      "torch.Size([64, 1, 18])\n",
      "torch.Size([64])\n",
      "torch.Size([64, 1, 18])\n",
      "torch.Size([64])\n",
      "torch.Size([64, 1, 18])\n",
      "torch.Size([64])\n"
     ]
    },
    {
     "name": "stderr",
     "output_type": "stream",
     "text": [
      "Epoch [3/5], loss_mean=2.532 :  96%|█████████▌| 1813/1898 [00:32<00:02, 31.80it/s]"
     ]
    },
    {
     "name": "stdout",
     "output_type": "stream",
     "text": [
      "torch.Size([64, 1, 18])\n",
      "torch.Size([64])\n",
      "torch.Size([64, 1, 18])\n",
      "torch.Size([64])\n"
     ]
    },
    {
     "name": "stderr",
     "output_type": "stream",
     "text": [
      "Epoch [3/5], loss_mean=2.532 :  96%|█████████▌| 1821/1898 [00:32<00:02, 25.77it/s]"
     ]
    },
    {
     "name": "stdout",
     "output_type": "stream",
     "text": [
      "torch.Size([64, 1, 18])\n",
      "torch.Size([64])\n",
      "torch.Size([64, 1, 18])\n",
      "torch.Size([64])\n",
      "torch.Size([64, 1, 18])\n",
      "torch.Size([64])\n",
      "torch.Size([64, 1, 18])\n",
      "torch.Size([64])\n",
      "torch.Size([64, 1, 18])\n",
      "torch.Size([64])\n",
      "torch.Size([64, 1, 18])\n",
      "torch.Size([64])\n"
     ]
    },
    {
     "name": "stderr",
     "output_type": "stream",
     "text": [
      "Epoch [3/5], loss_mean=2.532 :  96%|█████████▌| 1825/1898 [00:32<00:02, 28.08it/s]"
     ]
    },
    {
     "name": "stdout",
     "output_type": "stream",
     "text": [
      "torch.Size([64, 1, 18])\n",
      "torch.Size([64])\n",
      "torch.Size([64, 1, 18])\n",
      "torch.Size([64])\n",
      "torch.Size([64, 1, 18])\n",
      "torch.Size([64])\n",
      "torch.Size([64, 1, 18])\n",
      "torch.Size([64])\n",
      "torch.Size([64, 1, 18])\n",
      "torch.Size([64])\n",
      "torch.Size([64, 1, 18])\n",
      "torch.Size([64])\n"
     ]
    },
    {
     "name": "stderr",
     "output_type": "stream",
     "text": [
      "Epoch [3/5], loss_mean=2.532 :  96%|█████████▋| 1829/1898 [00:32<00:02, 24.82it/s]"
     ]
    },
    {
     "name": "stdout",
     "output_type": "stream",
     "text": [
      "torch.Size([64, 1, 18])\n",
      "torch.Size([64])\n",
      "torch.Size([64, 1, 18])\n",
      "torch.Size([64])\n",
      "torch.Size([64, 1, 18])\n",
      "torch.Size([64])\n"
     ]
    },
    {
     "name": "stderr",
     "output_type": "stream",
     "text": [
      "Epoch [3/5], loss_mean=2.532 :  97%|█████████▋| 1835/1898 [00:32<00:02, 23.71it/s]"
     ]
    },
    {
     "name": "stdout",
     "output_type": "stream",
     "text": [
      "torch.Size([64, 1, 18])\n",
      "torch.Size([64])\n",
      "torch.Size([64, 1, 18])\n",
      "torch.Size([64])\n",
      "torch.Size([64, 1, 18])\n",
      "torch.Size([64])\n",
      "torch.Size([64, 1, 18])\n",
      "torch.Size([64])\n",
      "torch.Size([64, 1, 18])\n",
      "torch.Size([64])\n",
      "torch.Size([64, 1, 18])\n",
      "torch.Size([64])\n",
      "torch.Size([64, 1, 18])\n",
      "torch.Size([64])\n"
     ]
    },
    {
     "name": "stderr",
     "output_type": "stream",
     "text": [
      "Epoch [3/5], loss_mean=2.532 :  97%|█████████▋| 1844/1898 [00:33<00:01, 28.39it/s]"
     ]
    },
    {
     "name": "stdout",
     "output_type": "stream",
     "text": [
      "torch.Size([64, 1, 18])\n",
      "torch.Size([64])\n",
      "torch.Size([64, 1, 18])\n",
      "torch.Size([64])\n",
      "torch.Size([64, 1, 18])\n",
      "torch.Size([64])\n",
      "torch.Size([64, 1, 18])\n",
      "torch.Size([64])\n",
      "torch.Size([64, 1, 18])\n",
      "torch.Size([64])\n",
      "torch.Size([64, 1, 18])\n",
      "torch.Size([64])\n"
     ]
    },
    {
     "name": "stderr",
     "output_type": "stream",
     "text": [
      "Epoch [3/5], loss_mean=2.532 :  97%|█████████▋| 1848/1898 [00:33<00:01, 28.97it/s]"
     ]
    },
    {
     "name": "stdout",
     "output_type": "stream",
     "text": [
      "torch.Size([64, 1, 18])\n",
      "torch.Size([64])\n",
      "torch.Size([64, 1, 18])\n",
      "torch.Size([64])\n",
      "torch.Size([64, 1, 18])\n",
      "torch.Size([64])\n",
      "torch.Size([64, 1, 18])\n",
      "torch.Size([64])\n",
      "torch.Size([64, 1, 18])\n",
      "torch.Size([64])\n",
      "torch.Size([64, 1, 18])\n",
      "torch.Size([64])\n"
     ]
    },
    {
     "name": "stderr",
     "output_type": "stream",
     "text": [
      "Epoch [3/5], loss_mean=2.532 :  98%|█████████▊| 1855/1898 [00:33<00:01, 28.10it/s]"
     ]
    },
    {
     "name": "stdout",
     "output_type": "stream",
     "text": [
      "torch.Size([64, 1, 18])\n",
      "torch.Size([64])\n",
      "torch.Size([64, 1, 18])\n",
      "torch.Size([64])\n",
      "torch.Size([64, 1, 18])\n",
      "torch.Size([64])\n",
      "torch.Size([64, 1, 18])\n",
      "torch.Size([64])\n",
      "torch.Size([64, 1, 18])\n",
      "torch.Size([64])\n",
      "torch.Size([64, 1, 18])\n",
      "torch.Size([64])\n"
     ]
    },
    {
     "name": "stderr",
     "output_type": "stream",
     "text": [
      "Epoch [3/5], loss_mean=2.532 :  98%|█████████▊| 1855/1898 [00:33<00:01, 28.10it/s]"
     ]
    },
    {
     "name": "stdout",
     "output_type": "stream",
     "text": [
      "torch.Size([64, 1, 18])\n",
      "torch.Size([64])\n",
      "torch.Size([64, 1, 18])\n",
      "torch.Size([64])\n"
     ]
    },
    {
     "name": "stderr",
     "output_type": "stream",
     "text": [
      "Epoch [3/5], loss_mean=2.532 :  98%|█████████▊| 1858/1898 [00:33<00:02, 18.70it/s]"
     ]
    },
    {
     "name": "stdout",
     "output_type": "stream",
     "text": [
      "torch.Size([64, 1, 18])\n",
      "torch.Size([64])\n",
      "torch.Size([64, 1, 18])\n",
      "torch.Size([64])\n"
     ]
    },
    {
     "name": "stderr",
     "output_type": "stream",
     "text": [
      "Epoch [3/5], loss_mean=2.532 :  98%|█████████▊| 1861/1898 [00:34<00:02, 14.47it/s]"
     ]
    },
    {
     "name": "stdout",
     "output_type": "stream",
     "text": [
      "torch.Size([64, 1, 18])\n",
      "torch.Size([64])\n",
      "torch.Size([64, 1, 18])\n",
      "torch.Size([64])\n",
      "torch.Size([64, 1, 18])\n",
      "torch.Size([64])\n"
     ]
    },
    {
     "name": "stderr",
     "output_type": "stream",
     "text": [
      "Epoch [3/5], loss_mean=2.532 :  98%|█████████▊| 1866/1898 [00:34<00:01, 17.28it/s]"
     ]
    },
    {
     "name": "stdout",
     "output_type": "stream",
     "text": [
      "torch.Size([64, 1, 18])\n",
      "torch.Size([64])\n",
      "torch.Size([64, 1, 18])\n",
      "torch.Size([64])\n",
      "torch.Size([64, 1, 18])\n",
      "torch.Size([64])\n",
      "torch.Size([64, 1, 18])\n",
      "torch.Size([64])\n",
      "torch.Size([64, 1, 18])\n",
      "torch.Size([64])\n",
      "torch.Size([64, 1, 18])\n",
      "torch.Size([64])\n",
      "torch.Size([64, 1, 18])\n",
      "torch.Size([64])\n",
      "torch.Size([64, 1, 18])\n",
      "torch.Size([64])\n"
     ]
    },
    {
     "name": "stderr",
     "output_type": "stream",
     "text": [
      "Epoch [3/5], loss_mean=2.532 :  99%|█████████▊| 1872/1898 [00:34<00:01, 25.75it/s]"
     ]
    },
    {
     "name": "stdout",
     "output_type": "stream",
     "text": [
      "torch.Size([64, 1, 18])\n",
      "torch.Size([64])\n",
      "torch.Size([64, 1, 18])\n",
      "torch.Size([64])\n",
      "torch.Size([64, 1, 18])\n",
      "torch.Size([64])\n"
     ]
    },
    {
     "name": "stderr",
     "output_type": "stream",
     "text": [
      "Epoch [3/5], loss_mean=2.532 :  99%|█████████▉| 1876/1898 [00:34<00:01, 19.49it/s]"
     ]
    },
    {
     "name": "stdout",
     "output_type": "stream",
     "text": [
      "torch.Size([64, 1, 18])\n",
      "torch.Size([64])\n",
      "torch.Size([64, 1, 18])\n",
      "torch.Size([64])\n",
      "torch.Size([64, 1, 18])\n",
      "torch.Size([64])\n"
     ]
    },
    {
     "name": "stderr",
     "output_type": "stream",
     "text": [
      "Epoch [3/5], loss_mean=2.532 :  99%|█████████▉| 1876/1898 [00:34<00:01, 19.49it/s]"
     ]
    },
    {
     "name": "stdout",
     "output_type": "stream",
     "text": [
      "torch.Size([64, 1, 18])\n",
      "torch.Size([64])\n",
      "torch.Size([64, 1, 18])\n",
      "torch.Size([64])\n"
     ]
    },
    {
     "name": "stderr",
     "output_type": "stream",
     "text": [
      "Epoch [3/5], loss_mean=2.532 :  99%|█████████▉| 1882/1898 [00:35<00:01, 15.99it/s]"
     ]
    },
    {
     "name": "stdout",
     "output_type": "stream",
     "text": [
      "torch.Size([64, 1, 18])\n",
      "torch.Size([64])\n",
      "torch.Size([64, 1, 18])\n",
      "torch.Size([64])\n",
      "torch.Size([64, 1, 18])\n",
      "torch.Size([64])\n",
      "torch.Size([64, 1, 18])\n",
      "torch.Size([64])\n"
     ]
    },
    {
     "name": "stderr",
     "output_type": "stream",
     "text": [
      "Epoch [3/5], loss_mean=2.532 : 100%|█████████▉| 1892/1898 [00:35<00:00, 27.54it/s]"
     ]
    },
    {
     "name": "stdout",
     "output_type": "stream",
     "text": [
      "torch.Size([64, 1, 18])\n",
      "torch.Size([64])\n",
      "torch.Size([64, 1, 18])\n",
      "torch.Size([64])\n",
      "torch.Size([64, 1, 18])\n",
      "torch.Size([64])\n",
      "torch.Size([64, 1, 18])\n",
      "torch.Size([64])\n",
      "torch.Size([64, 1, 18])\n",
      "torch.Size([64])\n",
      "torch.Size([64, 1, 18])\n",
      "torch.Size([64])\n",
      "torch.Size([64, 1, 18])\n",
      "torch.Size([64])\n",
      "torch.Size([64, 1, 18])\n",
      "torch.Size([64])\n",
      "torch.Size([64, 1, 18])\n",
      "torch.Size([64])\n",
      "torch.Size([64, 1, 18])\n",
      "torch.Size([64])\n",
      "torch.Size([64, 1, 18])\n",
      "torch.Size([64])\n",
      "torch.Size([64, 1, 18])\n",
      "torch.Size([64])\n"
     ]
    },
    {
     "name": "stderr",
     "output_type": "stream",
     "text": [
      "Epoch [3/5], loss_mean=2.532 : 100%|██████████| 1898/1898 [00:35<00:00, 53.33it/s]\n"
     ]
    },
    {
     "name": "stdout",
     "output_type": "stream",
     "text": [
      "torch.Size([64, 1, 18])\n",
      "torch.Size([64])\n",
      "torch.Size([64, 1, 18])\n",
      "torch.Size([64])\n",
      "torch.Size([16, 1, 18])\n",
      "torch.Size([16])\n"
     ]
    },
    {
     "name": "stderr",
     "output_type": "stream",
     "text": [
      "  0%|          | 0/1898 [00:00<?, ?it/s]"
     ]
    },
    {
     "name": "stdout",
     "output_type": "stream",
     "text": [
      "torch.Size([64, 1, 18])\n",
      "torch.Size([64])\n"
     ]
    },
    {
     "name": "stderr",
     "output_type": "stream",
     "text": [
      "Epoch [4/5], loss_mean=2.535 :   0%|          | 4/1898 [00:00<00:48, 38.78it/s]"
     ]
    },
    {
     "name": "stdout",
     "output_type": "stream",
     "text": [
      "torch.Size([64, 1, 18])\n",
      "torch.Size([64])\n",
      "torch.Size([64, 1, 18])\n",
      "torch.Size([64])\n",
      "torch.Size([64, 1, 18])\n",
      "torch.Size([64])\n",
      "torch.Size([64, 1, 18])\n",
      "torch.Size([64])\n",
      "torch.Size([64, 1, 18])\n",
      "torch.Size([64])\n",
      "torch.Size([64, 1, 18])\n",
      "torch.Size([64])\n",
      "torch.Size([64, 1, 18])\n",
      "torch.Size([64])\n",
      "torch.Size([64, 1, 18])\n",
      "torch.Size([64])\n",
      "torch.Size([64, 1, 18])\n",
      "torch.Size([64])\n"
     ]
    },
    {
     "name": "stderr",
     "output_type": "stream",
     "text": [
      "Epoch [4/5], loss_mean=2.529 :   1%|          | 10/1898 [00:00<00:40, 46.10it/s]"
     ]
    },
    {
     "name": "stdout",
     "output_type": "stream",
     "text": [
      "torch.Size([64, 1, 18])\n",
      "torch.Size([64])\n"
     ]
    },
    {
     "name": "stderr",
     "output_type": "stream",
     "text": [
      "Epoch [4/5], loss_mean=2.528 :   1%|          | 15/1898 [00:00<00:44, 42.30it/s]"
     ]
    },
    {
     "name": "stdout",
     "output_type": "stream",
     "text": [
      "torch.Size([64, 1, 18])\n",
      "torch.Size([64])\n",
      "torch.Size([64, 1, 18])\n",
      "torch.Size([64])\n",
      "torch.Size([64, 1, 18])\n",
      "torch.Size([64])\n",
      "torch.Size([64, 1, 18])\n",
      "torch.Size([64])\n",
      "torch.Size([64, 1, 18])\n",
      "torch.Size([64])\n",
      "torch.Size([64, 1, 18])\n",
      "torch.Size([64])\n",
      "torch.Size([64, 1, 18])\n",
      "torch.Size([64])\n"
     ]
    },
    {
     "name": "stderr",
     "output_type": "stream",
     "text": [
      "Epoch [4/5], loss_mean=2.527 :   1%|          | 15/1898 [00:00<00:44, 42.30it/s]"
     ]
    },
    {
     "name": "stdout",
     "output_type": "stream",
     "text": [
      "torch.Size([64, 1, 18])\n",
      "torch.Size([64])\n"
     ]
    },
    {
     "name": "stderr",
     "output_type": "stream",
     "text": [
      "Epoch [4/5], loss_mean=2.534 :   1%|          | 20/1898 [00:00<00:42, 44.43it/s]"
     ]
    },
    {
     "name": "stdout",
     "output_type": "stream",
     "text": [
      "torch.Size([64, 1, 18])\n",
      "torch.Size([64])\n",
      "torch.Size([64, 1, 18])\n",
      "torch.Size([64])\n",
      "torch.Size([64, 1, 18])\n",
      "torch.Size([64])\n",
      "torch.Size([64, 1, 18])\n",
      "torch.Size([64])\n",
      "torch.Size([64, 1, 18])\n",
      "torch.Size([64])\n",
      "torch.Size([64, 1, 18])\n",
      "torch.Size([64])\n"
     ]
    },
    {
     "name": "stderr",
     "output_type": "stream",
     "text": [
      "Epoch [4/5], loss_mean=2.534 :   1%|▏         | 25/1898 [00:00<00:46, 40.51it/s]"
     ]
    },
    {
     "name": "stdout",
     "output_type": "stream",
     "text": [
      "torch.Size([64, 1, 18])\n",
      "torch.Size([64])\n"
     ]
    },
    {
     "name": "stderr",
     "output_type": "stream",
     "text": [
      "Epoch [4/5], loss_mean=2.534 :   1%|▏         | 25/1898 [00:00<00:46, 40.51it/s]"
     ]
    },
    {
     "name": "stdout",
     "output_type": "stream",
     "text": [
      "torch.Size([64, 1, 18])\n",
      "torch.Size([64])\n",
      "torch.Size([64, 1, 18])\n",
      "torch.Size([64])\n"
     ]
    },
    {
     "name": "stderr",
     "output_type": "stream",
     "text": [
      "Epoch [4/5], loss_mean=2.535 :   2%|▏         | 30/1898 [00:01<01:21, 22.96it/s]"
     ]
    },
    {
     "name": "stdout",
     "output_type": "stream",
     "text": [
      "torch.Size([64, 1, 18])\n",
      "torch.Size([64])\n",
      "torch.Size([64, 1, 18])\n",
      "torch.Size([64])\n",
      "torch.Size([64, 1, 18])\n",
      "torch.Size([64])\n",
      "torch.Size([64, 1, 18])\n",
      "torch.Size([64])\n",
      "torch.Size([64, 1, 18])\n",
      "torch.Size([64])\n",
      "torch.Size([64, 1, 18])\n",
      "torch.Size([64])\n",
      "torch.Size([64, 1, 18])\n",
      "torch.Size([64])\n",
      "torch.Size([64, 1, 18])\n",
      "torch.Size([64])\n",
      "torch.Size([64, 1, 18])\n",
      "torch.Size([64])\n"
     ]
    },
    {
     "name": "stderr",
     "output_type": "stream",
     "text": [
      "Epoch [4/5], loss_mean=2.537 :   2%|▏         | 44/1898 [00:01<00:53, 34.85it/s]"
     ]
    },
    {
     "name": "stdout",
     "output_type": "stream",
     "text": [
      "torch.Size([64, 1, 18])\n",
      "torch.Size([64])\n",
      "torch.Size([64, 1, 18])\n",
      "torch.Size([64])\n",
      "torch.Size([64, 1, 18])\n",
      "torch.Size([64])\n",
      "torch.Size([64, 1, 18])\n",
      "torch.Size([64])\n",
      "torch.Size([64, 1, 18])\n",
      "torch.Size([64])\n",
      "torch.Size([64, 1, 18])\n",
      "torch.Size([64])\n",
      "torch.Size([64, 1, 18])\n",
      "torch.Size([64])\n",
      "torch.Size([64, 1, 18])\n",
      "torch.Size([64])\n"
     ]
    },
    {
     "name": "stderr",
     "output_type": "stream",
     "text": [
      "Epoch [4/5], loss_mean=2.537 :   2%|▏         | 44/1898 [00:01<00:53, 34.85it/s]"
     ]
    },
    {
     "name": "stdout",
     "output_type": "stream",
     "text": [
      "torch.Size([64, 1, 18])\n",
      "torch.Size([64])\n",
      "torch.Size([64, 1, 18])\n",
      "torch.Size([64])\n",
      "torch.Size([64, 1, 18])\n",
      "torch.Size([64])\n",
      "torch.Size([64, 1, 18])\n",
      "torch.Size([64])\n"
     ]
    },
    {
     "name": "stderr",
     "output_type": "stream",
     "text": [
      "Epoch [4/5], loss_mean=2.537 :   3%|▎         | 54/1898 [00:01<00:59, 30.78it/s]"
     ]
    },
    {
     "name": "stdout",
     "output_type": "stream",
     "text": [
      "torch.Size([64, 1, 18])\n",
      "torch.Size([64])\n",
      "torch.Size([64, 1, 18])\n",
      "torch.Size([64])\n",
      "torch.Size([64, 1, 18])\n",
      "torch.Size([64])\n",
      "torch.Size([64, 1, 18])\n",
      "torch.Size([64])\n",
      "torch.Size([64, 1, 18])\n",
      "torch.Size([64])\n",
      "torch.Size([64, 1, 18])\n",
      "torch.Size([64])\n",
      "torch.Size([64, 1, 18])\n",
      "torch.Size([64])\n",
      "torch.Size([64, 1, 18])\n",
      "torch.Size([64])\n",
      "torch.Size([64, 1, 18])\n",
      "torch.Size([64])\n",
      "torch.Size([64, 1, 18])\n",
      "torch.Size([64])\n",
      "torch.Size([64, 1, 18])\n",
      "torch.Size([64])\n"
     ]
    },
    {
     "name": "stderr",
     "output_type": "stream",
     "text": [
      "Epoch [4/5], loss_mean=2.537 :   3%|▎         | 61/1898 [00:01<00:47, 38.32it/s]"
     ]
    },
    {
     "name": "stdout",
     "output_type": "stream",
     "text": [
      "torch.Size([64, 1, 18])\n",
      "torch.Size([64])\n",
      "torch.Size([64, 1, 18])\n",
      "torch.Size([64])\n",
      "torch.Size([64, 1, 18])\n",
      "torch.Size([64])\n",
      "torch.Size([64, 1, 18])\n",
      "torch.Size([64])\n",
      "torch.Size([64, 1, 18])\n",
      "torch.Size([64])\n"
     ]
    },
    {
     "name": "stderr",
     "output_type": "stream",
     "text": [
      "Epoch [4/5], loss_mean=2.535 :   4%|▎         | 71/1898 [00:02<00:54, 33.33it/s]"
     ]
    },
    {
     "name": "stdout",
     "output_type": "stream",
     "text": [
      "torch.Size([64, 1, 18])\n",
      "torch.Size([64])\n",
      "torch.Size([64, 1, 18])\n",
      "torch.Size([64])\n",
      "torch.Size([64, 1, 18])\n",
      "torch.Size([64])\n",
      "torch.Size([64, 1, 18])\n",
      "torch.Size([64])\n",
      "torch.Size([64, 1, 18])\n",
      "torch.Size([64])\n",
      "torch.Size([64, 1, 18])\n",
      "torch.Size([64])\n",
      "torch.Size([64, 1, 18])\n",
      "torch.Size([64])\n"
     ]
    },
    {
     "name": "stderr",
     "output_type": "stream",
     "text": [
      "Epoch [4/5], loss_mean=2.536 :   4%|▍         | 75/1898 [00:02<00:54, 33.52it/s]"
     ]
    },
    {
     "name": "stdout",
     "output_type": "stream",
     "text": [
      "torch.Size([64, 1, 18])\n",
      "torch.Size([64])\n",
      "torch.Size([64, 1, 18])\n",
      "torch.Size([64])\n",
      "torch.Size([64, 1, 18])\n",
      "torch.Size([64])\n",
      "torch.Size([64, 1, 18])\n",
      "torch.Size([64])\n",
      "torch.Size([64, 1, 18])\n",
      "torch.Size([64])\n",
      "torch.Size([64, 1, 18])\n",
      "torch.Size([64])\n",
      "torch.Size([64, 1, 18])\n",
      "torch.Size([64])\n",
      "torch.Size([64, 1, 18])\n",
      "torch.Size([64])\n",
      "torch.Size([64, 1, 18])\n",
      "torch.Size([64])\n",
      "torch.Size([64, 1, 18])\n",
      "torch.Size([64])\n"
     ]
    },
    {
     "name": "stderr",
     "output_type": "stream",
     "text": [
      "Epoch [4/5], loss_mean=2.538 :   5%|▍         | 90/1898 [00:02<00:37, 48.00it/s]"
     ]
    },
    {
     "name": "stdout",
     "output_type": "stream",
     "text": [
      "torch.Size([64, 1, 18])\n",
      "torch.Size([64])\n",
      "torch.Size([64, 1, 18])\n",
      "torch.Size([64])\n",
      "torch.Size([64, 1, 18])\n",
      "torch.Size([64])\n",
      "torch.Size([64, 1, 18])\n",
      "torch.Size([64])\n",
      "torch.Size([64, 1, 18])\n",
      "torch.Size([64])\n",
      "torch.Size([64, 1, 18])\n",
      "torch.Size([64])\n",
      "torch.Size([64, 1, 18])\n",
      "torch.Size([64])\n",
      "torch.Size([64, 1, 18])\n",
      "torch.Size([64])\n",
      "torch.Size([64, 1, 18])\n",
      "torch.Size([64])\n",
      "torch.Size([64, 1, 18])\n",
      "torch.Size([64])\n",
      "torch.Size([64, 1, 18])\n",
      "torch.Size([64])\n",
      "torch.Size([64, 1, 18])\n",
      "torch.Size([64])\n",
      "torch.Size([64, 1, 18])\n",
      "torch.Size([64])\n",
      "torch.Size([64, 1, 18])\n",
      "torch.Size([64])\n"
     ]
    },
    {
     "name": "stderr",
     "output_type": "stream",
     "text": [
      "Epoch [4/5], loss_mean=2.537 :   5%|▌         | 97/1898 [00:02<00:34, 51.71it/s]"
     ]
    },
    {
     "name": "stdout",
     "output_type": "stream",
     "text": [
      "torch.Size([64, 1, 18])\n",
      "torch.Size([64])\n",
      "torch.Size([64, 1, 18])\n",
      "torch.Size([64])\n",
      "torch.Size([64, 1, 18])\n",
      "torch.Size([64])\n",
      "torch.Size([64, 1, 18])\n",
      "torch.Size([64])\n",
      "torch.Size([64, 1, 18])\n",
      "torch.Size([64])\n"
     ]
    },
    {
     "name": "stderr",
     "output_type": "stream",
     "text": [
      "Epoch [4/5], loss_mean=2.536 :   5%|▌         | 103/1898 [00:02<00:40, 43.87it/s]"
     ]
    },
    {
     "name": "stdout",
     "output_type": "stream",
     "text": [
      "torch.Size([64, 1, 18])\n",
      "torch.Size([64])\n",
      "torch.Size([64, 1, 18])\n",
      "torch.Size([64])\n",
      "torch.Size([64, 1, 18])\n",
      "torch.Size([64])\n",
      "torch.Size([64, 1, 18])\n",
      "torch.Size([64])\n",
      "torch.Size([64, 1, 18])\n",
      "torch.Size([64])\n"
     ]
    },
    {
     "name": "stderr",
     "output_type": "stream",
     "text": [
      "Epoch [4/5], loss_mean=2.535 :   6%|▌         | 108/1898 [00:03<00:55, 32.16it/s]"
     ]
    },
    {
     "name": "stdout",
     "output_type": "stream",
     "text": [
      "torch.Size([64, 1, 18])\n",
      "torch.Size([64])\n",
      "torch.Size([64, 1, 18])\n",
      "torch.Size([64])\n",
      "torch.Size([64, 1, 18])\n",
      "torch.Size([64])\n",
      "torch.Size([64, 1, 18])\n",
      "torch.Size([64])\n",
      "torch.Size([64, 1, 18])\n",
      "torch.Size([64])\n",
      "torch.Size([64, 1, 18])\n",
      "torch.Size([64])\n"
     ]
    },
    {
     "name": "stderr",
     "output_type": "stream",
     "text": [
      "Epoch [4/5], loss_mean=2.535 :   6%|▌         | 116/1898 [00:03<00:52, 33.99it/s]"
     ]
    },
    {
     "name": "stdout",
     "output_type": "stream",
     "text": [
      "torch.Size([64, 1, 18])\n",
      "torch.Size([64])\n",
      "torch.Size([64, 1, 18])\n",
      "torch.Size([64])\n",
      "torch.Size([64, 1, 18])\n",
      "torch.Size([64])\n",
      "torch.Size([64, 1, 18])\n",
      "torch.Size([64])\n",
      "torch.Size([64, 1, 18])\n",
      "torch.Size([64])\n",
      "torch.Size([64, 1, 18])\n",
      "torch.Size([64])\n",
      "torch.Size([64, 1, 18])\n",
      "torch.Size([64])\n",
      "torch.Size([64, 1, 18])\n",
      "torch.Size([64])\n",
      "torch.Size([64, 1, 18])\n",
      "torch.Size([64])\n"
     ]
    },
    {
     "name": "stderr",
     "output_type": "stream",
     "text": [
      "Epoch [4/5], loss_mean=2.535 :   7%|▋         | 131/1898 [00:03<00:36, 48.99it/s]"
     ]
    },
    {
     "name": "stdout",
     "output_type": "stream",
     "text": [
      "torch.Size([64, 1, 18])\n",
      "torch.Size([64])\n",
      "torch.Size([64, 1, 18])\n",
      "torch.Size([64])\n",
      "torch.Size([64, 1, 18])\n",
      "torch.Size([64])\n",
      "torch.Size([64, 1, 18])\n",
      "torch.Size([64])\n",
      "torch.Size([64, 1, 18])\n",
      "torch.Size([64])\n",
      "torch.Size([64, 1, 18])\n",
      "torch.Size([64])\n",
      "torch.Size([64, 1, 18])\n",
      "torch.Size([64])\n",
      "torch.Size([64, 1, 18])\n",
      "torch.Size([64])\n",
      "torch.Size([64, 1, 18])\n",
      "torch.Size([64])\n",
      "torch.Size([64, 1, 18])\n",
      "torch.Size([64])\n",
      "torch.Size([64, 1, 18])\n",
      "torch.Size([64])\n",
      "torch.Size([64, 1, 18])\n",
      "torch.Size([64])\n",
      "torch.Size([64, 1, 18])\n",
      "torch.Size([64])\n",
      "torch.Size([64, 1, 18])\n",
      "torch.Size([64])\n",
      "torch.Size([64, 1, 18])\n",
      "torch.Size([64])\n",
      "torch.Size([64, 1, 18])\n",
      "torch.Size([64])\n"
     ]
    },
    {
     "name": "stderr",
     "output_type": "stream",
     "text": [
      "Epoch [4/5], loss_mean=2.536 :   7%|▋         | 139/1898 [00:03<00:31, 56.22it/s]"
     ]
    },
    {
     "name": "stdout",
     "output_type": "stream",
     "text": [
      "torch.Size([64, 1, 18])\n",
      "torch.Size([64])\n",
      "torch.Size([64, 1, 18])\n",
      "torch.Size([64])\n",
      "torch.Size([64, 1, 18])\n",
      "torch.Size([64])\n",
      "torch.Size([64, 1, 18])\n",
      "torch.Size([64])\n",
      "torch.Size([64, 1, 18])\n",
      "torch.Size([64])\n",
      "torch.Size([64, 1, 18])\n",
      "torch.Size([64])\n",
      "torch.Size([64, 1, 18])\n",
      "torch.Size([64])\n"
     ]
    },
    {
     "name": "stderr",
     "output_type": "stream",
     "text": [
      "Epoch [4/5], loss_mean=2.536 :   7%|▋         | 139/1898 [00:03<00:31, 56.22it/s]"
     ]
    },
    {
     "name": "stdout",
     "output_type": "stream",
     "text": [
      "torch.Size([64, 1, 18])\n",
      "torch.Size([64])\n"
     ]
    },
    {
     "name": "stderr",
     "output_type": "stream",
     "text": [
      "Epoch [4/5], loss_mean=2.535 :   8%|▊         | 151/1898 [00:04<01:14, 23.34it/s]"
     ]
    },
    {
     "name": "stdout",
     "output_type": "stream",
     "text": [
      "torch.Size([64, 1, 18])\n",
      "torch.Size([64])\n",
      "torch.Size([64, 1, 18])\n",
      "torch.Size([64])\n",
      "torch.Size([64, 1, 18])\n",
      "torch.Size([64])\n",
      "torch.Size([64, 1, 18])\n",
      "torch.Size([64])\n",
      "torch.Size([64, 1, 18])\n",
      "torch.Size([64])\n",
      "torch.Size([64, 1, 18])\n",
      "torch.Size([64])\n",
      "torch.Size([64, 1, 18])\n",
      "torch.Size([64])\n",
      "torch.Size([64, 1, 18])\n",
      "torch.Size([64])\n",
      "torch.Size([64, 1, 18])\n",
      "torch.Size([64])\n"
     ]
    },
    {
     "name": "stderr",
     "output_type": "stream",
     "text": [
      "Epoch [4/5], loss_mean=2.536 :   9%|▊         | 162/1898 [00:04<00:55, 31.37it/s]"
     ]
    },
    {
     "name": "stdout",
     "output_type": "stream",
     "text": [
      "torch.Size([64, 1, 18])\n",
      "torch.Size([64])\n",
      "torch.Size([64, 1, 18])\n",
      "torch.Size([64])\n",
      "torch.Size([64, 1, 18])\n",
      "torch.Size([64])\n",
      "torch.Size([64, 1, 18])\n",
      "torch.Size([64])\n",
      "torch.Size([64, 1, 18])\n",
      "torch.Size([64])\n",
      "torch.Size([64, 1, 18])\n",
      "torch.Size([64])\n",
      "torch.Size([64, 1, 18])\n",
      "torch.Size([64])\n",
      "torch.Size([64, 1, 18])\n",
      "torch.Size([64])\n",
      "torch.Size([64, 1, 18])\n",
      "torch.Size([64])\n"
     ]
    },
    {
     "name": "stderr",
     "output_type": "stream",
     "text": [
      "Epoch [4/5], loss_mean=2.535 :   9%|▉         | 167/1898 [00:04<00:55, 31.46it/s]"
     ]
    },
    {
     "name": "stdout",
     "output_type": "stream",
     "text": [
      "torch.Size([64, 1, 18])\n",
      "torch.Size([64])\n",
      "torch.Size([64, 1, 18])\n",
      "torch.Size([64])\n",
      "torch.Size([64, 1, 18])\n",
      "torch.Size([64])\n",
      "torch.Size([64, 1, 18])\n",
      "torch.Size([64])\n",
      "torch.Size([64, 1, 18])\n",
      "torch.Size([64])\n",
      "torch.Size([64, 1, 18])\n",
      "torch.Size([64])\n",
      "torch.Size([64, 1, 18])\n",
      "torch.Size([64])\n",
      "torch.Size([64, 1, 18])\n",
      "torch.Size([64])\n"
     ]
    },
    {
     "name": "stderr",
     "output_type": "stream",
     "text": [
      "Epoch [4/5], loss_mean=2.535 :   9%|▉         | 180/1898 [00:05<00:41, 41.19it/s]"
     ]
    },
    {
     "name": "stdout",
     "output_type": "stream",
     "text": [
      "torch.Size([64, 1, 18])\n",
      "torch.Size([64])\n",
      "torch.Size([64, 1, 18])\n",
      "torch.Size([64])\n",
      "torch.Size([64, 1, 18])\n",
      "torch.Size([64])\n",
      "torch.Size([64, 1, 18])\n",
      "torch.Size([64])\n",
      "torch.Size([64, 1, 18])\n",
      "torch.Size([64])\n",
      "torch.Size([64, 1, 18])\n",
      "torch.Size([64])\n",
      "torch.Size([64, 1, 18])\n",
      "torch.Size([64])\n",
      "torch.Size([64, 1, 18])\n",
      "torch.Size([64])\n",
      "torch.Size([64, 1, 18])\n",
      "torch.Size([64])\n",
      "torch.Size([64, 1, 18])\n",
      "torch.Size([64])\n"
     ]
    },
    {
     "name": "stderr",
     "output_type": "stream",
     "text": [
      "Epoch [4/5], loss_mean=2.536 :  10%|▉         | 187/1898 [00:05<00:36, 46.97it/s]"
     ]
    },
    {
     "name": "stdout",
     "output_type": "stream",
     "text": [
      "torch.Size([64, 1, 18])\n",
      "torch.Size([64])\n",
      "torch.Size([64, 1, 18])\n",
      "torch.Size([64])\n",
      "torch.Size([64, 1, 18])\n",
      "torch.Size([64])\n",
      "torch.Size([64, 1, 18])\n",
      "torch.Size([64])\n",
      "torch.Size([64, 1, 18])\n",
      "torch.Size([64])\n",
      "torch.Size([64, 1, 18])\n",
      "torch.Size([64])\n",
      "torch.Size([64, 1, 18])\n",
      "torch.Size([64])\n",
      "torch.Size([64, 1, 18])\n",
      "torch.Size([64])\n",
      "torch.Size([64, 1, 18])\n",
      "torch.Size([64])\n",
      "torch.Size([64, 1, 18])\n",
      "torch.Size([64])\n",
      "torch.Size([64, 1, 18])\n",
      "torch.Size([64])\n",
      "torch.Size([64, 1, 18])\n",
      "torch.Size([64])\n",
      "torch.Size([64, 1, 18])\n",
      "torch.Size([64])\n"
     ]
    },
    {
     "name": "stderr",
     "output_type": "stream",
     "text": [
      "Epoch [4/5], loss_mean=2.537 :  11%|█         | 201/1898 [00:05<00:30, 55.92it/s]"
     ]
    },
    {
     "name": "stdout",
     "output_type": "stream",
     "text": [
      "torch.Size([64, 1, 18])\n",
      "torch.Size([64])\n",
      "torch.Size([64, 1, 18])\n",
      "torch.Size([64])\n",
      "torch.Size([64, 1, 18])\n",
      "torch.Size([64])\n",
      "torch.Size([64, 1, 18])\n",
      "torch.Size([64])\n",
      "torch.Size([64, 1, 18])\n",
      "torch.Size([64])\n",
      "torch.Size([64, 1, 18])\n",
      "torch.Size([64])\n",
      "torch.Size([64, 1, 18])\n",
      "torch.Size([64])\n",
      "torch.Size([64, 1, 18])\n",
      "torch.Size([64])\n",
      "torch.Size([64, 1, 18])\n",
      "torch.Size([64])\n",
      "torch.Size([64, 1, 18])\n",
      "torch.Size([64])\n",
      "torch.Size([64, 1, 18])\n",
      "torch.Size([64])\n",
      "torch.Size([64, 1, 18])\n",
      "torch.Size([64])\n",
      "torch.Size([64, 1, 18])\n",
      "torch.Size([64])\n"
     ]
    },
    {
     "name": "stderr",
     "output_type": "stream",
     "text": [
      "Epoch [4/5], loss_mean=2.536 :  11%|█▏        | 216/1898 [00:05<00:26, 64.28it/s]"
     ]
    },
    {
     "name": "stdout",
     "output_type": "stream",
     "text": [
      "torch.Size([64, 1, 18])\n",
      "torch.Size([64])\n",
      "torch.Size([64, 1, 18])\n",
      "torch.Size([64])\n",
      "torch.Size([64, 1, 18])\n",
      "torch.Size([64])\n",
      "torch.Size([64, 1, 18])\n",
      "torch.Size([64])\n",
      "torch.Size([64, 1, 18])\n",
      "torch.Size([64])\n",
      "torch.Size([64, 1, 18])\n",
      "torch.Size([64])\n",
      "torch.Size([64, 1, 18])\n",
      "torch.Size([64])\n",
      "torch.Size([64, 1, 18])\n",
      "torch.Size([64])\n",
      "torch.Size([64, 1, 18])\n",
      "torch.Size([64])\n",
      "torch.Size([64, 1, 18])\n",
      "torch.Size([64])\n",
      "torch.Size([64, 1, 18])\n",
      "torch.Size([64])\n",
      "torch.Size([64, 1, 18])\n",
      "torch.Size([64])\n",
      "torch.Size([64, 1, 18])\n",
      "torch.Size([64])\n",
      "torch.Size([64, 1, 18])\n",
      "torch.Size([64])\n"
     ]
    },
    {
     "name": "stderr",
     "output_type": "stream",
     "text": [
      "Epoch [4/5], loss_mean=2.537 :  12%|█▏        | 230/1898 [00:05<00:28, 59.51it/s]"
     ]
    },
    {
     "name": "stdout",
     "output_type": "stream",
     "text": [
      "torch.Size([64, 1, 18])\n",
      "torch.Size([64])\n",
      "torch.Size([64, 1, 18])\n",
      "torch.Size([64])\n",
      "torch.Size([64, 1, 18])\n",
      "torch.Size([64])\n",
      "torch.Size([64, 1, 18])\n",
      "torch.Size([64])\n",
      "torch.Size([64, 1, 18])\n",
      "torch.Size([64])\n",
      "torch.Size([64, 1, 18])\n",
      "torch.Size([64])\n",
      "torch.Size([64, 1, 18])\n",
      "torch.Size([64])\n",
      "torch.Size([64, 1, 18])\n",
      "torch.Size([64])\n",
      "torch.Size([64, 1, 18])\n",
      "torch.Size([64])\n",
      "torch.Size([64, 1, 18])\n",
      "torch.Size([64])\n",
      "torch.Size([64, 1, 18])\n",
      "torch.Size([64])\n"
     ]
    },
    {
     "name": "stderr",
     "output_type": "stream",
     "text": [
      "Epoch [4/5], loss_mean=2.536 :  12%|█▏        | 237/1898 [00:06<00:27, 60.01it/s]"
     ]
    },
    {
     "name": "stdout",
     "output_type": "stream",
     "text": [
      "torch.Size([64, 1, 18])\n",
      "torch.Size([64])\n",
      "torch.Size([64, 1, 18])\n",
      "torch.Size([64])\n",
      "torch.Size([64, 1, 18])\n",
      "torch.Size([64])\n",
      "torch.Size([64, 1, 18])\n",
      "torch.Size([64])\n",
      "torch.Size([64, 1, 18])\n",
      "torch.Size([64])\n",
      "torch.Size([64, 1, 18])\n",
      "torch.Size([64])\n",
      "torch.Size([64, 1, 18])\n",
      "torch.Size([64])\n"
     ]
    },
    {
     "name": "stderr",
     "output_type": "stream",
     "text": [
      "Epoch [4/5], loss_mean=2.537 :  13%|█▎        | 244/1898 [00:06<00:43, 37.71it/s]"
     ]
    },
    {
     "name": "stdout",
     "output_type": "stream",
     "text": [
      "torch.Size([64, 1, 18])\n",
      "torch.Size([64])\n",
      "torch.Size([64, 1, 18])\n",
      "torch.Size([64])\n",
      "torch.Size([64, 1, 18])\n",
      "torch.Size([64])\n",
      "torch.Size([64, 1, 18])\n",
      "torch.Size([64])\n",
      "torch.Size([64, 1, 18])\n",
      "torch.Size([64])\n",
      "torch.Size([64, 1, 18])\n",
      "torch.Size([64])\n",
      "torch.Size([64, 1, 18])\n",
      "torch.Size([64])\n",
      "torch.Size([64, 1, 18])\n",
      "torch.Size([64])\n",
      "torch.Size([64, 1, 18])\n",
      "torch.Size([64])\n",
      "torch.Size([64, 1, 18])\n",
      "torch.Size([64])\n"
     ]
    },
    {
     "name": "stderr",
     "output_type": "stream",
     "text": [
      "Epoch [4/5], loss_mean=2.537 :  14%|█▎        | 260/1898 [00:06<00:31, 51.20it/s]"
     ]
    },
    {
     "name": "stdout",
     "output_type": "stream",
     "text": [
      "torch.Size([64, 1, 18])\n",
      "torch.Size([64])\n",
      "torch.Size([64, 1, 18])\n",
      "torch.Size([64])\n",
      "torch.Size([64, 1, 18])\n",
      "torch.Size([64])\n",
      "torch.Size([64, 1, 18])\n",
      "torch.Size([64])\n",
      "torch.Size([64, 1, 18])\n",
      "torch.Size([64])\n",
      "torch.Size([64, 1, 18])\n",
      "torch.Size([64])\n",
      "torch.Size([64, 1, 18])\n",
      "torch.Size([64])\n",
      "torch.Size([64, 1, 18])\n",
      "torch.Size([64])\n",
      "torch.Size([64, 1, 18])\n",
      "torch.Size([64])\n",
      "torch.Size([64, 1, 18])\n",
      "torch.Size([64])\n",
      "torch.Size([64, 1, 18])\n",
      "torch.Size([64])\n",
      "torch.Size([64, 1, 18])\n",
      "torch.Size([64])\n",
      "torch.Size([64, 1, 18])\n",
      "torch.Size([64])\n",
      "torch.Size([64, 1, 18])\n",
      "torch.Size([64])\n"
     ]
    },
    {
     "name": "stderr",
     "output_type": "stream",
     "text": [
      "Epoch [4/5], loss_mean=2.537 :  14%|█▍        | 270/1898 [00:06<00:27, 59.77it/s]"
     ]
    },
    {
     "name": "stdout",
     "output_type": "stream",
     "text": [
      "torch.Size([64, 1, 18])\n",
      "torch.Size([64])\n",
      "torch.Size([64, 1, 18])\n",
      "torch.Size([64])\n",
      "torch.Size([64, 1, 18])\n",
      "torch.Size([64])\n",
      "torch.Size([64, 1, 18])\n",
      "torch.Size([64])\n",
      "torch.Size([64, 1, 18])\n",
      "torch.Size([64])\n",
      "torch.Size([64, 1, 18])\n",
      "torch.Size([64])\n",
      "torch.Size([64, 1, 18])\n",
      "torch.Size([64])\n",
      "torch.Size([64, 1, 18])\n",
      "torch.Size([64])\n",
      "torch.Size([64, 1, 18])\n",
      "torch.Size([64])\n",
      "torch.Size([64, 1, 18])\n",
      "torch.Size([64])\n",
      "torch.Size([64, 1, 18])\n",
      "torch.Size([64])\n",
      "torch.Size([64, 1, 18])\n",
      "torch.Size([64])\n",
      "torch.Size([64, 1, 18])\n",
      "torch.Size([64])\n",
      "torch.Size([64, 1, 18])\n",
      "torch.Size([64])\n"
     ]
    },
    {
     "name": "stderr",
     "output_type": "stream",
     "text": [
      "Epoch [4/5], loss_mean=2.536 :  15%|█▍        | 284/1898 [00:06<00:25, 63.61it/s]"
     ]
    },
    {
     "name": "stdout",
     "output_type": "stream",
     "text": [
      "torch.Size([64, 1, 18])\n",
      "torch.Size([64])\n",
      "torch.Size([64, 1, 18])\n",
      "torch.Size([64])\n",
      "torch.Size([64, 1, 18])\n",
      "torch.Size([64])\n",
      "torch.Size([64, 1, 18])\n",
      "torch.Size([64])\n",
      "torch.Size([64, 1, 18])\n",
      "torch.Size([64])\n",
      "torch.Size([64, 1, 18])\n",
      "torch.Size([64])\n",
      "torch.Size([64, 1, 18])\n",
      "torch.Size([64])\n",
      "torch.Size([64, 1, 18])\n",
      "torch.Size([64])\n",
      "torch.Size([64, 1, 18])\n",
      "torch.Size([64])\n",
      "torch.Size([64, 1, 18])\n",
      "torch.Size([64])\n",
      "torch.Size([64, 1, 18])\n",
      "torch.Size([64])\n",
      "torch.Size([64, 1, 18])\n",
      "torch.Size([64])\n",
      "torch.Size([64, 1, 18])\n",
      "torch.Size([64])\n"
     ]
    },
    {
     "name": "stderr",
     "output_type": "stream",
     "text": [
      "Epoch [4/5], loss_mean=2.535 :  15%|█▌        | 293/1898 [00:07<00:23, 67.20it/s]"
     ]
    },
    {
     "name": "stdout",
     "output_type": "stream",
     "text": [
      "torch.Size([64, 1, 18])\n",
      "torch.Size([64])\n",
      "torch.Size([64, 1, 18])\n",
      "torch.Size([64])\n",
      "torch.Size([64, 1, 18])\n",
      "torch.Size([64])\n",
      "torch.Size([64, 1, 18])\n",
      "torch.Size([64])\n",
      "torch.Size([64, 1, 18])\n",
      "torch.Size([64])\n",
      "torch.Size([64, 1, 18])\n",
      "torch.Size([64])\n",
      "torch.Size([64, 1, 18])\n",
      "torch.Size([64])\n",
      "torch.Size([64, 1, 18])\n",
      "torch.Size([64])\n",
      "torch.Size([64, 1, 18])\n",
      "torch.Size([64])\n",
      "torch.Size([64, 1, 18])\n",
      "torch.Size([64])\n"
     ]
    },
    {
     "name": "stderr",
     "output_type": "stream",
     "text": [
      "Epoch [4/5], loss_mean=2.535 :  16%|█▌        | 301/1898 [00:07<00:33, 47.94it/s]"
     ]
    },
    {
     "name": "stdout",
     "output_type": "stream",
     "text": [
      "torch.Size([64, 1, 18])\n",
      "torch.Size([64])\n",
      "torch.Size([64, 1, 18])\n",
      "torch.Size([64])\n",
      "torch.Size([64, 1, 18])\n",
      "torch.Size([64])\n",
      "torch.Size([64, 1, 18])\n",
      "torch.Size([64])\n"
     ]
    },
    {
     "name": "stderr",
     "output_type": "stream",
     "text": [
      "Epoch [4/5], loss_mean=2.535 :  16%|█▌        | 301/1898 [00:07<00:33, 47.94it/s]"
     ]
    },
    {
     "name": "stdout",
     "output_type": "stream",
     "text": [
      "torch.Size([64, 1, 18])\n",
      "torch.Size([64])\n",
      "torch.Size([64, 1, 18])\n",
      "torch.Size([64])\n"
     ]
    },
    {
     "name": "stderr",
     "output_type": "stream",
     "text": [
      "Epoch [4/5], loss_mean=2.535 :  16%|█▋        | 313/1898 [00:07<00:49, 31.88it/s]"
     ]
    },
    {
     "name": "stdout",
     "output_type": "stream",
     "text": [
      "torch.Size([64, 1, 18])\n",
      "torch.Size([64])\n",
      "torch.Size([64, 1, 18])\n",
      "torch.Size([64])\n",
      "torch.Size([64, 1, 18])\n",
      "torch.Size([64])\n",
      "torch.Size([64, 1, 18])\n",
      "torch.Size([64])\n",
      "torch.Size([64, 1, 18])\n",
      "torch.Size([64])\n",
      "torch.Size([64, 1, 18])\n",
      "torch.Size([64])\n",
      "torch.Size([64, 1, 18])\n",
      "torch.Size([64])\n",
      "torch.Size([64, 1, 18])\n",
      "torch.Size([64])\n",
      "torch.Size([64, 1, 18])\n",
      "torch.Size([64])\n"
     ]
    },
    {
     "name": "stderr",
     "output_type": "stream",
     "text": [
      "Epoch [4/5], loss_mean=2.535 :  17%|█▋        | 323/1898 [00:08<00:42, 36.83it/s]"
     ]
    },
    {
     "name": "stdout",
     "output_type": "stream",
     "text": [
      "torch.Size([64, 1, 18])\n",
      "torch.Size([64])\n",
      "torch.Size([64, 1, 18])\n",
      "torch.Size([64])\n",
      "torch.Size([64, 1, 18])\n",
      "torch.Size([64])\n",
      "torch.Size([64, 1, 18])\n",
      "torch.Size([64])\n",
      "torch.Size([64, 1, 18])\n",
      "torch.Size([64])\n",
      "torch.Size([64, 1, 18])\n",
      "torch.Size([64])\n",
      "torch.Size([64, 1, 18])\n",
      "torch.Size([64])\n",
      "torch.Size([64, 1, 18])\n",
      "torch.Size([64])\n",
      "torch.Size([64, 1, 18])\n",
      "torch.Size([64])\n",
      "torch.Size([64, 1, 18])\n",
      "torch.Size([64])\n"
     ]
    },
    {
     "name": "stderr",
     "output_type": "stream",
     "text": [
      "Epoch [4/5], loss_mean=2.534 :  17%|█▋        | 330/1898 [00:08<00:35, 43.64it/s]"
     ]
    },
    {
     "name": "stdout",
     "output_type": "stream",
     "text": [
      "torch.Size([64, 1, 18])\n",
      "torch.Size([64])\n",
      "torch.Size([64, 1, 18])\n",
      "torch.Size([64])\n",
      "torch.Size([64, 1, 18])\n",
      "torch.Size([64])\n",
      "torch.Size([64, 1, 18])\n",
      "torch.Size([64])\n",
      "torch.Size([64, 1, 18])\n",
      "torch.Size([64])\n",
      "torch.Size([64, 1, 18])\n",
      "torch.Size([64])\n",
      "torch.Size([64, 1, 18])\n",
      "torch.Size([64])\n",
      "torch.Size([64, 1, 18])\n",
      "torch.Size([64])\n",
      "torch.Size([64, 1, 18])\n",
      "torch.Size([64])\n",
      "torch.Size([64, 1, 18])\n",
      "torch.Size([64])\n",
      "torch.Size([64, 1, 18])\n",
      "torch.Size([64])\n",
      "torch.Size([64, 1, 18])\n",
      "torch.Size([64])\n"
     ]
    },
    {
     "name": "stderr",
     "output_type": "stream",
     "text": [
      "Epoch [4/5], loss_mean=2.534 :  18%|█▊        | 346/1898 [00:08<00:27, 55.44it/s]"
     ]
    },
    {
     "name": "stdout",
     "output_type": "stream",
     "text": [
      "torch.Size([64, 1, 18])\n",
      "torch.Size([64])\n",
      "torch.Size([64, 1, 18])\n",
      "torch.Size([64])\n",
      "torch.Size([64, 1, 18])\n",
      "torch.Size([64])\n",
      "torch.Size([64, 1, 18])\n",
      "torch.Size([64])\n",
      "torch.Size([64, 1, 18])\n",
      "torch.Size([64])\n",
      "torch.Size([64, 1, 18])\n",
      "torch.Size([64])\n",
      "torch.Size([64, 1, 18])\n",
      "torch.Size([64])\n",
      "torch.Size([64, 1, 18])\n",
      "torch.Size([64])\n",
      "torch.Size([64, 1, 18])\n",
      "torch.Size([64])\n",
      "torch.Size([64, 1, 18])\n",
      "torch.Size([64])\n",
      "torch.Size([64, 1, 18])\n",
      "torch.Size([64])\n",
      "torch.Size([64, 1, 18])\n",
      "torch.Size([64])\n",
      "torch.Size([64, 1, 18])\n",
      "torch.Size([64])\n",
      "torch.Size([64, 1, 18])\n",
      "torch.Size([64])\n",
      "torch.Size([64, 1, 18])\n",
      "torch.Size([64])\n"
     ]
    },
    {
     "name": "stderr",
     "output_type": "stream",
     "text": [
      "Epoch [4/5], loss_mean=2.534 :  19%|█▉        | 362/1898 [00:08<00:23, 66.03it/s]"
     ]
    },
    {
     "name": "stdout",
     "output_type": "stream",
     "text": [
      "torch.Size([64, 1, 18])\n",
      "torch.Size([64])\n",
      "torch.Size([64, 1, 18])\n",
      "torch.Size([64])\n",
      "torch.Size([64, 1, 18])\n",
      "torch.Size([64])\n",
      "torch.Size([64, 1, 18])\n",
      "torch.Size([64])\n",
      "torch.Size([64, 1, 18])\n",
      "torch.Size([64])\n",
      "torch.Size([64, 1, 18])\n",
      "torch.Size([64])\n",
      "torch.Size([64, 1, 18])\n",
      "torch.Size([64])\n",
      "torch.Size([64, 1, 18])\n",
      "torch.Size([64])\n",
      "torch.Size([64, 1, 18])\n",
      "torch.Size([64])\n",
      "torch.Size([64, 1, 18])\n",
      "torch.Size([64])\n",
      "torch.Size([64, 1, 18])\n",
      "torch.Size([64])\n",
      "torch.Size([64, 1, 18])\n",
      "torch.Size([64])\n",
      "torch.Size([64, 1, 18])\n",
      "torch.Size([64])\n",
      "torch.Size([64, 1, 18])\n",
      "torch.Size([64])\n",
      "torch.Size([64, 1, 18])\n",
      "torch.Size([64])\n"
     ]
    },
    {
     "name": "stderr",
     "output_type": "stream",
     "text": [
      "Epoch [4/5], loss_mean=2.535 :  19%|█▉        | 370/1898 [00:08<00:22, 66.82it/s]"
     ]
    },
    {
     "name": "stdout",
     "output_type": "stream",
     "text": [
      "torch.Size([64, 1, 18])\n",
      "torch.Size([64])\n",
      "torch.Size([64, 1, 18])\n",
      "torch.Size([64])\n",
      "torch.Size([64, 1, 18])\n",
      "torch.Size([64])\n",
      "torch.Size([64, 1, 18])\n",
      "torch.Size([64])\n",
      "torch.Size([64, 1, 18])\n",
      "torch.Size([64])\n",
      "torch.Size([64, 1, 18])\n",
      "torch.Size([64])\n",
      "torch.Size([64, 1, 18])\n",
      "torch.Size([64])\n",
      "torch.Size([64, 1, 18])\n",
      "torch.Size([64])\n",
      "torch.Size([64, 1, 18])\n",
      "torch.Size([64])\n",
      "torch.Size([64, 1, 18])\n",
      "torch.Size([64])\n"
     ]
    },
    {
     "name": "stderr",
     "output_type": "stream",
     "text": [
      "Epoch [4/5], loss_mean=2.535 :  20%|█▉        | 377/1898 [00:09<00:34, 43.80it/s]"
     ]
    },
    {
     "name": "stdout",
     "output_type": "stream",
     "text": [
      "torch.Size([64, 1, 18])\n",
      "torch.Size([64])\n",
      "torch.Size([64, 1, 18])\n",
      "torch.Size([64])\n",
      "torch.Size([64, 1, 18])\n",
      "torch.Size([64])\n"
     ]
    },
    {
     "name": "stderr",
     "output_type": "stream",
     "text": [
      "Epoch [4/5], loss_mean=2.535 :  21%|██        | 390/1898 [00:09<00:36, 41.39it/s]"
     ]
    },
    {
     "name": "stdout",
     "output_type": "stream",
     "text": [
      "torch.Size([64, 1, 18])\n",
      "torch.Size([64])\n",
      "torch.Size([64, 1, 18])\n",
      "torch.Size([64])\n",
      "torch.Size([64, 1, 18])\n",
      "torch.Size([64])\n",
      "torch.Size([64, 1, 18])\n",
      "torch.Size([64])\n",
      "torch.Size([64, 1, 18])\n",
      "torch.Size([64])\n",
      "torch.Size([64, 1, 18])\n",
      "torch.Size([64])\n",
      "torch.Size([64, 1, 18])\n",
      "torch.Size([64])\n",
      "torch.Size([64, 1, 18])\n",
      "torch.Size([64])\n",
      "torch.Size([64, 1, 18])\n",
      "torch.Size([64])\n",
      "torch.Size([64, 1, 18])\n",
      "torch.Size([64])\n",
      "torch.Size([64, 1, 18])\n",
      "torch.Size([64])\n",
      "torch.Size([64, 1, 18])\n",
      "torch.Size([64])\n",
      "torch.Size([64, 1, 18])\n",
      "torch.Size([64])\n",
      "torch.Size([64, 1, 18])\n",
      "torch.Size([64])\n"
     ]
    },
    {
     "name": "stderr",
     "output_type": "stream",
     "text": [
      "Epoch [4/5], loss_mean=2.535 :  21%|██▏       | 407/1898 [00:09<00:26, 56.63it/s]"
     ]
    },
    {
     "name": "stdout",
     "output_type": "stream",
     "text": [
      "torch.Size([64, 1, 18])\n",
      "torch.Size([64])\n",
      "torch.Size([64, 1, 18])\n",
      "torch.Size([64])\n",
      "torch.Size([64, 1, 18])\n",
      "torch.Size([64])\n",
      "torch.Size([64, 1, 18])\n",
      "torch.Size([64])\n",
      "torch.Size([64, 1, 18])\n",
      "torch.Size([64])\n",
      "torch.Size([64, 1, 18])\n",
      "torch.Size([64])\n",
      "torch.Size([64, 1, 18])\n",
      "torch.Size([64])\n",
      "torch.Size([64, 1, 18])\n",
      "torch.Size([64])\n",
      "torch.Size([64, 1, 18])\n",
      "torch.Size([64])\n",
      "torch.Size([64, 1, 18])\n",
      "torch.Size([64])\n",
      "torch.Size([64, 1, 18])\n",
      "torch.Size([64])\n",
      "torch.Size([64, 1, 18])\n",
      "torch.Size([64])\n",
      "torch.Size([64, 1, 18])\n",
      "torch.Size([64])\n",
      "torch.Size([64, 1, 18])\n",
      "torch.Size([64])\n"
     ]
    },
    {
     "name": "stderr",
     "output_type": "stream",
     "text": [
      "Epoch [4/5], loss_mean=2.535 :  22%|██▏       | 414/1898 [00:09<00:25, 58.92it/s]"
     ]
    },
    {
     "name": "stdout",
     "output_type": "stream",
     "text": [
      "torch.Size([64, 1, 18])\n",
      "torch.Size([64])\n",
      "torch.Size([64, 1, 18])\n",
      "torch.Size([64])\n",
      "torch.Size([64, 1, 18])\n",
      "torch.Size([64])\n",
      "torch.Size([64, 1, 18])\n",
      "torch.Size([64])\n",
      "torch.Size([64, 1, 18])\n",
      "torch.Size([64])\n",
      "torch.Size([64, 1, 18])\n",
      "torch.Size([64])\n",
      "torch.Size([64, 1, 18])\n",
      "torch.Size([64])\n",
      "torch.Size([64, 1, 18])\n",
      "torch.Size([64])\n",
      "torch.Size([64, 1, 18])\n",
      "torch.Size([64])\n",
      "torch.Size([64, 1, 18])\n",
      "torch.Size([64])\n",
      "torch.Size([64, 1, 18])\n",
      "torch.Size([64])\n",
      "torch.Size([64, 1, 18])\n",
      "torch.Size([64])\n"
     ]
    },
    {
     "name": "stderr",
     "output_type": "stream",
     "text": [
      "Epoch [4/5], loss_mean=2.535 :  23%|██▎       | 428/1898 [00:10<00:24, 60.39it/s]"
     ]
    },
    {
     "name": "stdout",
     "output_type": "stream",
     "text": [
      "torch.Size([64, 1, 18])\n",
      "torch.Size([64])\n",
      "torch.Size([64, 1, 18])\n",
      "torch.Size([64])\n",
      "torch.Size([64, 1, 18])\n",
      "torch.Size([64])\n",
      "torch.Size([64, 1, 18])\n",
      "torch.Size([64])\n",
      "torch.Size([64, 1, 18])\n",
      "torch.Size([64])\n",
      "torch.Size([64, 1, 18])\n",
      "torch.Size([64])\n",
      "torch.Size([64, 1, 18])\n",
      "torch.Size([64])\n",
      "torch.Size([64, 1, 18])\n",
      "torch.Size([64])\n",
      "torch.Size([64, 1, 18])\n",
      "torch.Size([64])\n",
      "torch.Size([64, 1, 18])\n",
      "torch.Size([64])\n",
      "torch.Size([64, 1, 18])\n",
      "torch.Size([64])\n",
      "torch.Size([64, 1, 18])\n",
      "torch.Size([64])\n",
      "torch.Size([64, 1, 18])\n",
      "torch.Size([64])\n",
      "torch.Size([64, 1, 18])\n",
      "torch.Size([64])\n"
     ]
    },
    {
     "name": "stderr",
     "output_type": "stream",
     "text": [
      "Epoch [4/5], loss_mean=2.535 :  23%|██▎       | 445/1898 [00:10<00:21, 68.92it/s]"
     ]
    },
    {
     "name": "stdout",
     "output_type": "stream",
     "text": [
      "torch.Size([64, 1, 18])\n",
      "torch.Size([64])\n",
      "torch.Size([64, 1, 18])\n",
      "torch.Size([64])\n",
      "torch.Size([64, 1, 18])\n",
      "torch.Size([64])\n",
      "torch.Size([64, 1, 18])\n",
      "torch.Size([64])\n",
      "torch.Size([64, 1, 18])\n",
      "torch.Size([64])\n",
      "torch.Size([64, 1, 18])\n",
      "torch.Size([64])\n",
      "torch.Size([64, 1, 18])\n",
      "torch.Size([64])\n",
      "torch.Size([64, 1, 18])\n",
      "torch.Size([64])\n",
      "torch.Size([64, 1, 18])\n",
      "torch.Size([64])\n",
      "torch.Size([64, 1, 18])\n",
      "torch.Size([64])\n",
      "torch.Size([64, 1, 18])\n",
      "torch.Size([64])\n",
      "torch.Size([64, 1, 18])\n",
      "torch.Size([64])\n",
      "torch.Size([64, 1, 18])\n",
      "torch.Size([64])\n"
     ]
    },
    {
     "name": "stderr",
     "output_type": "stream",
     "text": [
      "Epoch [4/5], loss_mean=2.535 :  24%|██▍       | 453/1898 [00:10<00:24, 58.46it/s]"
     ]
    },
    {
     "name": "stdout",
     "output_type": "stream",
     "text": [
      "torch.Size([64, 1, 18])\n",
      "torch.Size([64])\n",
      "torch.Size([64, 1, 18])\n",
      "torch.Size([64])\n",
      "torch.Size([64, 1, 18])\n",
      "torch.Size([64])\n",
      "torch.Size([64, 1, 18])\n",
      "torch.Size([64])\n",
      "torch.Size([64, 1, 18])\n",
      "torch.Size([64])\n",
      "torch.Size([64, 1, 18])\n",
      "torch.Size([64])\n",
      "torch.Size([64, 1, 18])\n",
      "torch.Size([64])\n",
      "torch.Size([64, 1, 18])\n",
      "torch.Size([64])\n"
     ]
    },
    {
     "name": "stderr",
     "output_type": "stream",
     "text": [
      "Epoch [4/5], loss_mean=2.535 :  25%|██▍       | 467/1898 [00:10<00:23, 61.57it/s]"
     ]
    },
    {
     "name": "stdout",
     "output_type": "stream",
     "text": [
      "torch.Size([64, 1, 18])\n",
      "torch.Size([64])\n",
      "torch.Size([64, 1, 18])\n",
      "torch.Size([64])\n",
      "torch.Size([64, 1, 18])\n",
      "torch.Size([64])\n",
      "torch.Size([64, 1, 18])\n",
      "torch.Size([64])\n",
      "torch.Size([64, 1, 18])\n",
      "torch.Size([64])\n",
      "torch.Size([64, 1, 18])\n",
      "torch.Size([64])\n",
      "torch.Size([64, 1, 18])\n",
      "torch.Size([64])\n",
      "torch.Size([64, 1, 18])\n",
      "torch.Size([64])\n",
      "torch.Size([64, 1, 18])\n",
      "torch.Size([64])\n",
      "torch.Size([64, 1, 18])\n",
      "torch.Size([64])\n",
      "torch.Size([64, 1, 18])\n",
      "torch.Size([64])\n",
      "torch.Size([64, 1, 18])\n",
      "torch.Size([64])\n",
      "torch.Size([64, 1, 18])\n",
      "torch.Size([64])\n"
     ]
    },
    {
     "name": "stderr",
     "output_type": "stream",
     "text": [
      "Epoch [4/5], loss_mean=2.535 :  25%|██▌       | 475/1898 [00:10<00:21, 66.37it/s]"
     ]
    },
    {
     "name": "stdout",
     "output_type": "stream",
     "text": [
      "torch.Size([64, 1, 18])\n",
      "torch.Size([64])\n",
      "torch.Size([64, 1, 18])\n",
      "torch.Size([64])\n",
      "torch.Size([64, 1, 18])\n",
      "torch.Size([64])\n",
      "torch.Size([64, 1, 18])\n",
      "torch.Size([64])\n",
      "torch.Size([64, 1, 18])\n",
      "torch.Size([64])\n",
      "torch.Size([64, 1, 18])\n",
      "torch.Size([64])\n",
      "torch.Size([64, 1, 18])\n",
      "torch.Size([64])\n",
      "torch.Size([64, 1, 18])\n",
      "torch.Size([64])\n",
      "torch.Size([64, 1, 18])\n",
      "torch.Size([64])\n",
      "torch.Size([64, 1, 18])\n",
      "torch.Size([64])\n",
      "torch.Size([64, 1, 18])\n",
      "torch.Size([64])\n",
      "torch.Size([64, 1, 18])\n",
      "torch.Size([64])\n",
      "torch.Size([64, 1, 18])\n",
      "torch.Size([64])\n",
      "torch.Size([64, 1, 18])\n",
      "torch.Size([64])\n"
     ]
    },
    {
     "name": "stderr",
     "output_type": "stream",
     "text": [
      "Epoch [4/5], loss_mean=2.535 :  26%|██▌       | 490/1898 [00:10<00:22, 62.60it/s]"
     ]
    },
    {
     "name": "stdout",
     "output_type": "stream",
     "text": [
      "torch.Size([64, 1, 18])\n",
      "torch.Size([64])\n",
      "torch.Size([64, 1, 18])\n",
      "torch.Size([64])\n",
      "torch.Size([64, 1, 18])\n",
      "torch.Size([64])\n",
      "torch.Size([64, 1, 18])\n",
      "torch.Size([64])\n",
      "torch.Size([64, 1, 18])\n",
      "torch.Size([64])\n",
      "torch.Size([64, 1, 18])\n",
      "torch.Size([64])\n",
      "torch.Size([64, 1, 18])\n",
      "torch.Size([64])\n",
      "torch.Size([64, 1, 18])\n",
      "torch.Size([64])\n",
      "torch.Size([64, 1, 18])\n",
      "torch.Size([64])\n",
      "torch.Size([64, 1, 18])\n",
      "torch.Size([64])\n",
      "torch.Size([64, 1, 18])\n",
      "torch.Size([64])\n",
      "torch.Size([64, 1, 18])\n",
      "torch.Size([64])\n"
     ]
    },
    {
     "name": "stderr",
     "output_type": "stream",
     "text": [
      "Epoch [4/5], loss_mean=2.535 :  26%|██▌       | 498/1898 [00:11<00:22, 63.49it/s]"
     ]
    },
    {
     "name": "stdout",
     "output_type": "stream",
     "text": [
      "torch.Size([64, 1, 18])\n",
      "torch.Size([64])\n",
      "torch.Size([64, 1, 18])\n",
      "torch.Size([64])\n",
      "torch.Size([64, 1, 18])\n",
      "torch.Size([64])\n",
      "torch.Size([64, 1, 18])\n",
      "torch.Size([64])\n",
      "torch.Size([64, 1, 18])\n",
      "torch.Size([64])\n",
      "torch.Size([64, 1, 18])\n",
      "torch.Size([64])\n",
      "torch.Size([64, 1, 18])\n",
      "torch.Size([64])\n",
      "torch.Size([64, 1, 18])\n",
      "torch.Size([64])\n",
      "torch.Size([64, 1, 18])\n",
      "torch.Size([64])\n",
      "torch.Size([64, 1, 18])\n",
      "torch.Size([64])\n",
      "torch.Size([64, 1, 18])\n",
      "torch.Size([64])\n",
      "torch.Size([64, 1, 18])\n",
      "torch.Size([64])\n",
      "torch.Size([64, 1, 18])\n",
      "torch.Size([64])\n"
     ]
    },
    {
     "name": "stderr",
     "output_type": "stream",
     "text": [
      "Epoch [4/5], loss_mean=2.534 :  27%|██▋       | 514/1898 [00:11<00:22, 60.86it/s]"
     ]
    },
    {
     "name": "stdout",
     "output_type": "stream",
     "text": [
      "torch.Size([64, 1, 18])\n",
      "torch.Size([64])\n",
      "torch.Size([64, 1, 18])\n",
      "torch.Size([64])\n",
      "torch.Size([64, 1, 18])\n",
      "torch.Size([64])\n",
      "torch.Size([64, 1, 18])\n",
      "torch.Size([64])\n",
      "torch.Size([64, 1, 18])\n",
      "torch.Size([64])\n",
      "torch.Size([64, 1, 18])\n",
      "torch.Size([64])\n",
      "torch.Size([64, 1, 18])\n",
      "torch.Size([64])\n",
      "torch.Size([64, 1, 18])\n",
      "torch.Size([64])\n",
      "torch.Size([64, 1, 18])\n",
      "torch.Size([64])\n"
     ]
    },
    {
     "name": "stderr",
     "output_type": "stream",
     "text": [
      "Epoch [4/5], loss_mean=2.534 :  27%|██▋       | 521/1898 [00:11<00:21, 63.08it/s]"
     ]
    },
    {
     "name": "stdout",
     "output_type": "stream",
     "text": [
      "torch.Size([64, 1, 18])\n",
      "torch.Size([64])\n",
      "torch.Size([64, 1, 18])\n",
      "torch.Size([64])\n",
      "torch.Size([64, 1, 18])\n",
      "torch.Size([64])\n",
      "torch.Size([64, 1, 18])\n",
      "torch.Size([64])\n",
      "torch.Size([64, 1, 18])\n",
      "torch.Size([64])\n",
      "torch.Size([64, 1, 18])\n",
      "torch.Size([64])\n",
      "torch.Size([64, 1, 18])\n",
      "torch.Size([64])\n",
      "torch.Size([64, 1, 18])\n",
      "torch.Size([64])\n",
      "torch.Size([64, 1, 18])\n",
      "torch.Size([64])\n",
      "torch.Size([64, 1, 18])\n",
      "torch.Size([64])\n"
     ]
    },
    {
     "name": "stderr",
     "output_type": "stream",
     "text": [
      "Epoch [4/5], loss_mean=2.534 :  28%|██▊       | 528/1898 [00:11<00:36, 37.14it/s]"
     ]
    },
    {
     "name": "stdout",
     "output_type": "stream",
     "text": [
      "torch.Size([64, 1, 18])\n",
      "torch.Size([64])\n",
      "torch.Size([64, 1, 18])\n",
      "torch.Size([64])\n",
      "torch.Size([64, 1, 18])\n",
      "torch.Size([64])\n",
      "torch.Size([64, 1, 18])\n",
      "torch.Size([64])\n",
      "torch.Size([64, 1, 18])\n",
      "torch.Size([64])\n"
     ]
    },
    {
     "name": "stderr",
     "output_type": "stream",
     "text": [
      "Epoch [4/5], loss_mean=2.534 :  29%|██▊       | 543/1898 [00:12<00:27, 49.85it/s]"
     ]
    },
    {
     "name": "stdout",
     "output_type": "stream",
     "text": [
      "torch.Size([64, 1, 18])\n",
      "torch.Size([64])\n",
      "torch.Size([64, 1, 18])\n",
      "torch.Size([64])\n",
      "torch.Size([64, 1, 18])\n",
      "torch.Size([64])\n",
      "torch.Size([64, 1, 18])\n",
      "torch.Size([64])\n",
      "torch.Size([64, 1, 18])\n",
      "torch.Size([64])\n",
      "torch.Size([64, 1, 18])\n",
      "torch.Size([64])\n",
      "torch.Size([64, 1, 18])\n",
      "torch.Size([64])\n",
      "torch.Size([64, 1, 18])\n",
      "torch.Size([64])\n",
      "torch.Size([64, 1, 18])\n",
      "torch.Size([64])\n",
      "torch.Size([64, 1, 18])\n",
      "torch.Size([64])\n",
      "torch.Size([64, 1, 18])\n",
      "torch.Size([64])\n",
      "torch.Size([64, 1, 18])\n",
      "torch.Size([64])\n",
      "torch.Size([64, 1, 18])\n",
      "torch.Size([64])\n"
     ]
    },
    {
     "name": "stderr",
     "output_type": "stream",
     "text": [
      "Epoch [4/5], loss_mean=2.534 :  29%|██▉       | 550/1898 [00:12<00:25, 52.41it/s]"
     ]
    },
    {
     "name": "stdout",
     "output_type": "stream",
     "text": [
      "torch.Size([64, 1, 18])\n",
      "torch.Size([64])\n",
      "torch.Size([64, 1, 18])\n",
      "torch.Size([64])\n",
      "torch.Size([64, 1, 18])\n",
      "torch.Size([64])\n",
      "torch.Size([64, 1, 18])\n",
      "torch.Size([64])\n",
      "torch.Size([64, 1, 18])\n",
      "torch.Size([64])\n",
      "torch.Size([64, 1, 18])\n",
      "torch.Size([64])\n",
      "torch.Size([64, 1, 18])\n",
      "torch.Size([64])\n",
      "torch.Size([64, 1, 18])\n",
      "torch.Size([64])\n",
      "torch.Size([64, 1, 18])\n",
      "torch.Size([64])\n",
      "torch.Size([64, 1, 18])\n",
      "torch.Size([64])\n",
      "torch.Size([64, 1, 18])\n",
      "torch.Size([64])\n",
      "torch.Size([64, 1, 18])\n",
      "torch.Size([64])\n"
     ]
    },
    {
     "name": "stderr",
     "output_type": "stream",
     "text": [
      "Epoch [4/5], loss_mean=2.534 :  30%|██▉       | 565/1898 [00:12<00:24, 55.43it/s]"
     ]
    },
    {
     "name": "stdout",
     "output_type": "stream",
     "text": [
      "torch.Size([64, 1, 18])\n",
      "torch.Size([64])\n",
      "torch.Size([64, 1, 18])\n",
      "torch.Size([64])\n",
      "torch.Size([64, 1, 18])\n",
      "torch.Size([64])\n",
      "torch.Size([64, 1, 18])\n",
      "torch.Size([64])\n",
      "torch.Size([64, 1, 18])\n",
      "torch.Size([64])\n",
      "torch.Size([64, 1, 18])\n",
      "torch.Size([64])\n",
      "torch.Size([64, 1, 18])\n",
      "torch.Size([64])\n",
      "torch.Size([64, 1, 18])\n",
      "torch.Size([64])\n",
      "torch.Size([64, 1, 18])\n",
      "torch.Size([64])\n",
      "torch.Size([64, 1, 18])\n",
      "torch.Size([64])\n",
      "torch.Size([64, 1, 18])\n",
      "torch.Size([64])\n",
      "torch.Size([64, 1, 18])\n",
      "torch.Size([64])\n"
     ]
    },
    {
     "name": "stderr",
     "output_type": "stream",
     "text": [
      "Epoch [4/5], loss_mean=2.534 :  30%|███       | 572/1898 [00:12<00:22, 58.40it/s]"
     ]
    },
    {
     "name": "stdout",
     "output_type": "stream",
     "text": [
      "torch.Size([64, 1, 18])\n",
      "torch.Size([64])\n",
      "torch.Size([64, 1, 18])\n",
      "torch.Size([64])\n",
      "torch.Size([64, 1, 18])\n",
      "torch.Size([64])\n",
      "torch.Size([64, 1, 18])\n",
      "torch.Size([64])\n",
      "torch.Size([64, 1, 18])\n",
      "torch.Size([64])\n",
      "torch.Size([64, 1, 18])\n",
      "torch.Size([64])\n",
      "torch.Size([64, 1, 18])\n",
      "torch.Size([64])\n",
      "torch.Size([64, 1, 18])\n",
      "torch.Size([64])\n",
      "torch.Size([64, 1, 18])\n",
      "torch.Size([64])\n",
      "torch.Size([64, 1, 18])\n",
      "torch.Size([64])\n",
      "torch.Size([64, 1, 18])\n",
      "torch.Size([64])\n",
      "torch.Size([64, 1, 18])\n",
      "torch.Size([64])\n",
      "torch.Size([64, 1, 18])\n",
      "torch.Size([64])\n"
     ]
    },
    {
     "name": "stderr",
     "output_type": "stream",
     "text": [
      "Epoch [4/5], loss_mean=2.533 :  31%|███       | 588/1898 [00:12<00:21, 59.76it/s]"
     ]
    },
    {
     "name": "stdout",
     "output_type": "stream",
     "text": [
      "torch.Size([64, 1, 18])\n",
      "torch.Size([64])\n",
      "torch.Size([64, 1, 18])\n",
      "torch.Size([64])\n",
      "torch.Size([64, 1, 18])\n",
      "torch.Size([64])\n",
      "torch.Size([64, 1, 18])\n",
      "torch.Size([64])\n",
      "torch.Size([64, 1, 18])\n",
      "torch.Size([64])\n",
      "torch.Size([64, 1, 18])\n",
      "torch.Size([64])\n",
      "torch.Size([64, 1, 18])\n",
      "torch.Size([64])\n",
      "torch.Size([64, 1, 18])\n",
      "torch.Size([64])\n",
      "torch.Size([64, 1, 18])\n",
      "torch.Size([64])\n",
      "torch.Size([64, 1, 18])\n",
      "torch.Size([64])\n",
      "torch.Size([64, 1, 18])\n",
      "torch.Size([64])\n"
     ]
    },
    {
     "name": "stderr",
     "output_type": "stream",
     "text": [
      "Epoch [4/5], loss_mean=2.533 :  32%|███▏      | 605/1898 [00:13<00:19, 66.36it/s]"
     ]
    },
    {
     "name": "stdout",
     "output_type": "stream",
     "text": [
      "torch.Size([64, 1, 18])\n",
      "torch.Size([64])\n",
      "torch.Size([64, 1, 18])\n",
      "torch.Size([64])\n",
      "torch.Size([64, 1, 18])\n",
      "torch.Size([64])\n",
      "torch.Size([64, 1, 18])\n",
      "torch.Size([64])\n",
      "torch.Size([64, 1, 18])\n",
      "torch.Size([64])\n",
      "torch.Size([64, 1, 18])\n",
      "torch.Size([64])\n",
      "torch.Size([64, 1, 18])\n",
      "torch.Size([64])\n",
      "torch.Size([64, 1, 18])\n",
      "torch.Size([64])\n",
      "torch.Size([64, 1, 18])\n",
      "torch.Size([64])\n",
      "torch.Size([64, 1, 18])\n",
      "torch.Size([64])\n",
      "torch.Size([64, 1, 18])\n",
      "torch.Size([64])\n",
      "torch.Size([64, 1, 18])\n",
      "torch.Size([64])\n",
      "torch.Size([64, 1, 18])\n",
      "torch.Size([64])\n",
      "torch.Size([64, 1, 18])\n",
      "torch.Size([64])\n"
     ]
    },
    {
     "name": "stderr",
     "output_type": "stream",
     "text": [
      "Epoch [4/5], loss_mean=2.533 :  32%|███▏      | 612/1898 [00:13<00:22, 55.95it/s]"
     ]
    },
    {
     "name": "stdout",
     "output_type": "stream",
     "text": [
      "torch.Size([64, 1, 18])\n",
      "torch.Size([64])\n",
      "torch.Size([64, 1, 18])\n",
      "torch.Size([64])\n",
      "torch.Size([64, 1, 18])\n",
      "torch.Size([64])\n",
      "torch.Size([64, 1, 18])\n",
      "torch.Size([64])\n",
      "torch.Size([64, 1, 18])\n",
      "torch.Size([64])\n",
      "torch.Size([64, 1, 18])\n",
      "torch.Size([64])\n",
      "torch.Size([64, 1, 18])\n",
      "torch.Size([64])\n"
     ]
    },
    {
     "name": "stderr",
     "output_type": "stream",
     "text": [
      "Epoch [4/5], loss_mean=2.533 :  33%|███▎      | 618/1898 [00:13<00:27, 45.73it/s]"
     ]
    },
    {
     "name": "stdout",
     "output_type": "stream",
     "text": [
      "torch.Size([64, 1, 18])\n",
      "torch.Size([64])\n",
      "torch.Size([64, 1, 18])\n",
      "torch.Size([64])\n",
      "torch.Size([64, 1, 18])\n",
      "torch.Size([64])\n",
      "torch.Size([64, 1, 18])\n",
      "torch.Size([64])\n",
      "torch.Size([64, 1, 18])\n",
      "torch.Size([64])\n"
     ]
    },
    {
     "name": "stderr",
     "output_type": "stream",
     "text": [
      "Epoch [4/5], loss_mean=2.533 :  33%|███▎      | 624/1898 [00:13<00:29, 42.69it/s]"
     ]
    },
    {
     "name": "stdout",
     "output_type": "stream",
     "text": [
      "torch.Size([64, 1, 18])\n",
      "torch.Size([64])\n",
      "torch.Size([64, 1, 18])\n",
      "torch.Size([64])\n",
      "torch.Size([64, 1, 18])\n",
      "torch.Size([64])\n",
      "torch.Size([64, 1, 18])\n",
      "torch.Size([64])\n",
      "torch.Size([64, 1, 18])\n",
      "torch.Size([64])\n",
      "torch.Size([64, 1, 18])\n",
      "torch.Size([64])\n",
      "torch.Size([64, 1, 18])\n",
      "torch.Size([64])\n",
      "torch.Size([64, 1, 18])\n",
      "torch.Size([64])\n"
     ]
    },
    {
     "name": "stderr",
     "output_type": "stream",
     "text": [
      "Epoch [4/5], loss_mean=2.533 :  33%|███▎      | 629/1898 [00:13<00:34, 36.43it/s]"
     ]
    },
    {
     "name": "stdout",
     "output_type": "stream",
     "text": [
      "torch.Size([64, 1, 18])\n",
      "torch.Size([64])\n",
      "torch.Size([64, 1, 18])\n",
      "torch.Size([64])\n",
      "torch.Size([64, 1, 18])\n",
      "torch.Size([64])\n",
      "torch.Size([64, 1, 18])\n",
      "torch.Size([64])\n"
     ]
    },
    {
     "name": "stderr",
     "output_type": "stream",
     "text": [
      "Epoch [4/5], loss_mean=2.533 :  33%|███▎      | 629/1898 [00:14<00:34, 36.43it/s]"
     ]
    },
    {
     "name": "stdout",
     "output_type": "stream",
     "text": [
      "torch.Size([64, 1, 18])\n",
      "torch.Size([64])\n"
     ]
    },
    {
     "name": "stderr",
     "output_type": "stream",
     "text": [
      "Epoch [4/5], loss_mean=2.533 :  33%|███▎      | 633/1898 [00:14<01:22, 15.29it/s]"
     ]
    },
    {
     "name": "stdout",
     "output_type": "stream",
     "text": [
      "torch.Size([64, 1, 18])\n",
      "torch.Size([64])\n",
      "torch.Size([64, 1, 18])\n",
      "torch.Size([64])\n",
      "torch.Size([64, 1, 18])\n",
      "torch.Size([64])\n",
      "torch.Size([64, 1, 18])\n",
      "torch.Size([64])\n"
     ]
    },
    {
     "name": "stderr",
     "output_type": "stream",
     "text": [
      "Epoch [4/5], loss_mean=2.533 :  34%|███▍      | 645/1898 [00:14<00:49, 25.21it/s]"
     ]
    },
    {
     "name": "stdout",
     "output_type": "stream",
     "text": [
      "torch.Size([64, 1, 18])\n",
      "torch.Size([64])\n",
      "torch.Size([64, 1, 18])\n",
      "torch.Size([64])\n",
      "torch.Size([64, 1, 18])\n",
      "torch.Size([64])\n",
      "torch.Size([64, 1, 18])\n",
      "torch.Size([64])\n",
      "torch.Size([64, 1, 18])\n",
      "torch.Size([64])\n",
      "torch.Size([64, 1, 18])\n",
      "torch.Size([64])\n",
      "torch.Size([64, 1, 18])\n",
      "torch.Size([64])\n",
      "torch.Size([64, 1, 18])\n",
      "torch.Size([64])\n",
      "torch.Size([64, 1, 18])\n",
      "torch.Size([64])\n",
      "torch.Size([64, 1, 18])\n",
      "torch.Size([64])\n",
      "torch.Size([64, 1, 18])\n",
      "torch.Size([64])\n",
      "torch.Size([64, 1, 18])\n",
      "torch.Size([64])\n",
      "torch.Size([64, 1, 18])\n",
      "torch.Size([64])\n"
     ]
    },
    {
     "name": "stderr",
     "output_type": "stream",
     "text": [
      "Epoch [4/5], loss_mean=2.533 :  35%|███▍      | 658/1898 [00:15<00:33, 36.82it/s]"
     ]
    },
    {
     "name": "stdout",
     "output_type": "stream",
     "text": [
      "torch.Size([64, 1, 18])\n",
      "torch.Size([64])\n",
      "torch.Size([64, 1, 18])\n",
      "torch.Size([64])\n",
      "torch.Size([64, 1, 18])\n",
      "torch.Size([64])\n",
      "torch.Size([64, 1, 18])\n",
      "torch.Size([64])\n",
      "torch.Size([64, 1, 18])\n",
      "torch.Size([64])\n",
      "torch.Size([64, 1, 18])\n",
      "torch.Size([64])\n",
      "torch.Size([64, 1, 18])\n",
      "torch.Size([64])\n",
      "torch.Size([64, 1, 18])\n",
      "torch.Size([64])\n",
      "torch.Size([64, 1, 18])\n",
      "torch.Size([64])\n",
      "torch.Size([64, 1, 18])\n",
      "torch.Size([64])\n",
      "torch.Size([64, 1, 18])\n",
      "torch.Size([64])\n"
     ]
    },
    {
     "name": "stderr",
     "output_type": "stream",
     "text": [
      "Epoch [4/5], loss_mean=2.533 :  35%|███▍      | 664/1898 [00:15<00:32, 37.62it/s]"
     ]
    },
    {
     "name": "stdout",
     "output_type": "stream",
     "text": [
      "torch.Size([64, 1, 18])\n",
      "torch.Size([64])\n",
      "torch.Size([64, 1, 18])\n",
      "torch.Size([64])\n",
      "torch.Size([64, 1, 18])\n",
      "torch.Size([64])\n",
      "torch.Size([64, 1, 18])\n",
      "torch.Size([64])\n",
      "torch.Size([64, 1, 18])\n",
      "torch.Size([64])\n",
      "torch.Size([64, 1, 18])\n",
      "torch.Size([64])\n",
      "torch.Size([64, 1, 18])\n",
      "torch.Size([64])\n",
      "torch.Size([64, 1, 18])\n",
      "torch.Size([64])\n"
     ]
    },
    {
     "name": "stderr",
     "output_type": "stream",
     "text": [
      "Epoch [4/5], loss_mean=2.534 :  36%|███▌      | 677/1898 [00:15<00:25, 48.45it/s]"
     ]
    },
    {
     "name": "stdout",
     "output_type": "stream",
     "text": [
      "torch.Size([64, 1, 18])\n",
      "torch.Size([64])\n",
      "torch.Size([64, 1, 18])\n",
      "torch.Size([64])\n",
      "torch.Size([64, 1, 18])\n",
      "torch.Size([64])\n",
      "torch.Size([64, 1, 18])\n",
      "torch.Size([64])\n",
      "torch.Size([64, 1, 18])\n",
      "torch.Size([64])\n",
      "torch.Size([64, 1, 18])\n",
      "torch.Size([64])\n",
      "torch.Size([64, 1, 18])\n",
      "torch.Size([64])\n",
      "torch.Size([64, 1, 18])\n",
      "torch.Size([64])\n",
      "torch.Size([64, 1, 18])\n",
      "torch.Size([64])\n",
      "torch.Size([64, 1, 18])\n",
      "torch.Size([64])\n",
      "torch.Size([64, 1, 18])\n",
      "torch.Size([64])\n",
      "torch.Size([64, 1, 18])\n",
      "torch.Size([64])\n",
      "torch.Size([64, 1, 18])\n",
      "torch.Size([64])\n",
      "torch.Size([64, 1, 18])\n",
      "torch.Size([64])\n",
      "torch.Size([64, 1, 18])\n",
      "torch.Size([64])\n"
     ]
    },
    {
     "name": "stderr",
     "output_type": "stream",
     "text": [
      "Epoch [4/5], loss_mean=2.534 :  36%|███▌      | 687/1898 [00:15<00:21, 56.64it/s]"
     ]
    },
    {
     "name": "stdout",
     "output_type": "stream",
     "text": [
      "torch.Size([64, 1, 18])\n",
      "torch.Size([64])\n",
      "torch.Size([64, 1, 18])\n",
      "torch.Size([64])\n",
      "torch.Size([64, 1, 18])\n",
      "torch.Size([64])\n",
      "torch.Size([64, 1, 18])\n",
      "torch.Size([64])\n",
      "torch.Size([64, 1, 18])\n",
      "torch.Size([64])\n",
      "torch.Size([64, 1, 18])\n",
      "torch.Size([64])\n",
      "torch.Size([64, 1, 18])\n",
      "torch.Size([64])\n",
      "torch.Size([64, 1, 18])\n",
      "torch.Size([64])\n",
      "torch.Size([64, 1, 18])\n",
      "torch.Size([64])\n",
      "torch.Size([64, 1, 18])\n",
      "torch.Size([64])\n",
      "torch.Size([64, 1, 18])\n",
      "torch.Size([64])\n",
      "torch.Size([64, 1, 18])\n",
      "torch.Size([64])\n"
     ]
    },
    {
     "name": "stderr",
     "output_type": "stream",
     "text": [
      "Epoch [4/5], loss_mean=2.534 :  37%|███▋      | 694/1898 [00:15<00:22, 54.02it/s]"
     ]
    },
    {
     "name": "stdout",
     "output_type": "stream",
     "text": [
      "torch.Size([64, 1, 18])\n",
      "torch.Size([64])\n",
      "torch.Size([64, 1, 18])\n",
      "torch.Size([64])\n",
      "torch.Size([64, 1, 18])\n",
      "torch.Size([64])\n",
      "torch.Size([64, 1, 18])\n",
      "torch.Size([64])\n"
     ]
    },
    {
     "name": "stderr",
     "output_type": "stream",
     "text": [
      "Epoch [4/5], loss_mean=2.534 :  37%|███▋      | 707/1898 [00:16<00:25, 46.57it/s]"
     ]
    },
    {
     "name": "stdout",
     "output_type": "stream",
     "text": [
      "torch.Size([64, 1, 18])\n",
      "torch.Size([64])\n",
      "torch.Size([64, 1, 18])\n",
      "torch.Size([64])\n",
      "torch.Size([64, 1, 18])\n",
      "torch.Size([64])\n",
      "torch.Size([64, 1, 18])\n",
      "torch.Size([64])\n",
      "torch.Size([64, 1, 18])\n",
      "torch.Size([64])\n",
      "torch.Size([64, 1, 18])\n",
      "torch.Size([64])\n",
      "torch.Size([64, 1, 18])\n",
      "torch.Size([64])\n",
      "torch.Size([64, 1, 18])\n",
      "torch.Size([64])\n",
      "torch.Size([64, 1, 18])\n",
      "torch.Size([64])\n",
      "torch.Size([64, 1, 18])\n",
      "torch.Size([64])\n",
      "torch.Size([64, 1, 18])\n",
      "torch.Size([64])\n",
      "torch.Size([64, 1, 18])\n",
      "torch.Size([64])\n",
      "torch.Size([64, 1, 18])\n",
      "torch.Size([64])\n"
     ]
    },
    {
     "name": "stderr",
     "output_type": "stream",
     "text": [
      "Epoch [4/5], loss_mean=2.533 :  38%|███▊      | 725/1898 [00:16<00:18, 62.42it/s]"
     ]
    },
    {
     "name": "stdout",
     "output_type": "stream",
     "text": [
      "torch.Size([64, 1, 18])\n",
      "torch.Size([64])\n",
      "torch.Size([64, 1, 18])\n",
      "torch.Size([64])\n",
      "torch.Size([64, 1, 18])\n",
      "torch.Size([64])\n",
      "torch.Size([64, 1, 18])\n",
      "torch.Size([64])\n",
      "torch.Size([64, 1, 18])\n",
      "torch.Size([64])\n",
      "torch.Size([64, 1, 18])\n",
      "torch.Size([64])\n",
      "torch.Size([64, 1, 18])\n",
      "torch.Size([64])\n",
      "torch.Size([64, 1, 18])\n",
      "torch.Size([64])\n",
      "torch.Size([64, 1, 18])\n",
      "torch.Size([64])\n",
      "torch.Size([64, 1, 18])\n",
      "torch.Size([64])\n",
      "torch.Size([64, 1, 18])\n",
      "torch.Size([64])\n",
      "torch.Size([64, 1, 18])\n",
      "torch.Size([64])\n",
      "torch.Size([64, 1, 18])\n",
      "torch.Size([64])\n",
      "torch.Size([64, 1, 18])\n",
      "torch.Size([64])\n",
      "torch.Size([64, 1, 18])\n",
      "torch.Size([64])\n",
      "torch.Size([64, 1, 18])\n",
      "torch.Size([64])\n"
     ]
    },
    {
     "name": "stderr",
     "output_type": "stream",
     "text": [
      "Epoch [4/5], loss_mean=2.533 :  39%|███▊      | 735/1898 [00:16<00:16, 70.34it/s]"
     ]
    },
    {
     "name": "stdout",
     "output_type": "stream",
     "text": [
      "torch.Size([64, 1, 18])\n",
      "torch.Size([64])\n",
      "torch.Size([64, 1, 18])\n",
      "torch.Size([64])\n",
      "torch.Size([64, 1, 18])\n",
      "torch.Size([64])\n",
      "torch.Size([64, 1, 18])\n",
      "torch.Size([64])\n",
      "torch.Size([64, 1, 18])\n",
      "torch.Size([64])\n",
      "torch.Size([64, 1, 18])\n",
      "torch.Size([64])\n",
      "torch.Size([64, 1, 18])\n",
      "torch.Size([64])\n",
      "torch.Size([64, 1, 18])\n",
      "torch.Size([64])\n",
      "torch.Size([64, 1, 18])\n",
      "torch.Size([64])\n",
      "torch.Size([64, 1, 18])\n",
      "torch.Size([64])\n",
      "torch.Size([64, 1, 18])\n",
      "torch.Size([64])\n",
      "torch.Size([64, 1, 18])\n",
      "torch.Size([64])\n",
      "torch.Size([64, 1, 18])\n",
      "torch.Size([64])\n",
      "torch.Size([64, 1, 18])\n",
      "torch.Size([64])\n",
      "torch.Size([64, 1, 18])\n",
      "torch.Size([64])\n",
      "torch.Size([64, 1, 18])\n",
      "torch.Size([64])\n",
      "torch.Size([64, 1, 18])\n",
      "torch.Size([64])\n",
      "torch.Size([64, 1, 18])\n",
      "torch.Size([64])\n"
     ]
    },
    {
     "name": "stderr",
     "output_type": "stream",
     "text": [
      "Epoch [4/5], loss_mean=2.533 :  40%|███▉      | 755/1898 [00:16<00:13, 81.70it/s]"
     ]
    },
    {
     "name": "stdout",
     "output_type": "stream",
     "text": [
      "torch.Size([64, 1, 18])\n",
      "torch.Size([64])\n",
      "torch.Size([64, 1, 18])\n",
      "torch.Size([64])\n",
      "torch.Size([64, 1, 18])\n",
      "torch.Size([64])\n",
      "torch.Size([64, 1, 18])\n",
      "torch.Size([64])\n",
      "torch.Size([64, 1, 18])\n",
      "torch.Size([64])\n",
      "torch.Size([64, 1, 18])\n",
      "torch.Size([64])\n",
      "torch.Size([64, 1, 18])\n",
      "torch.Size([64])\n",
      "torch.Size([64, 1, 18])\n",
      "torch.Size([64])\n",
      "torch.Size([64, 1, 18])\n",
      "torch.Size([64])\n",
      "torch.Size([64, 1, 18])\n",
      "torch.Size([64])\n",
      "torch.Size([64, 1, 18])\n",
      "torch.Size([64])\n",
      "torch.Size([64, 1, 18])\n",
      "torch.Size([64])\n",
      "torch.Size([64, 1, 18])\n",
      "torch.Size([64])\n",
      "torch.Size([64, 1, 18])\n",
      "torch.Size([64])\n",
      "torch.Size([64, 1, 18])\n",
      "torch.Size([64])\n",
      "torch.Size([64, 1, 18])\n",
      "torch.Size([64])\n",
      "torch.Size([64, 1, 18])\n",
      "torch.Size([64])\n",
      "torch.Size([64, 1, 18])\n",
      "torch.Size([64])\n"
     ]
    },
    {
     "name": "stderr",
     "output_type": "stream",
     "text": [
      "Epoch [4/5], loss_mean=2.533 :  41%|████      | 774/1898 [00:16<00:13, 80.85it/s]"
     ]
    },
    {
     "name": "stdout",
     "output_type": "stream",
     "text": [
      "torch.Size([64, 1, 18])\n",
      "torch.Size([64])\n",
      "torch.Size([64, 1, 18])\n",
      "torch.Size([64])\n",
      "torch.Size([64, 1, 18])\n",
      "torch.Size([64])\n",
      "torch.Size([64, 1, 18])\n",
      "torch.Size([64])\n",
      "torch.Size([64, 1, 18])\n",
      "torch.Size([64])\n",
      "torch.Size([64, 1, 18])\n",
      "torch.Size([64])\n",
      "torch.Size([64, 1, 18])\n",
      "torch.Size([64])\n",
      "torch.Size([64, 1, 18])\n",
      "torch.Size([64])\n",
      "torch.Size([64, 1, 18])\n",
      "torch.Size([64])\n",
      "torch.Size([64, 1, 18])\n",
      "torch.Size([64])\n",
      "torch.Size([64, 1, 18])\n",
      "torch.Size([64])\n",
      "torch.Size([64, 1, 18])\n",
      "torch.Size([64])\n",
      "torch.Size([64, 1, 18])\n",
      "torch.Size([64])\n",
      "torch.Size([64, 1, 18])\n",
      "torch.Size([64])\n"
     ]
    },
    {
     "name": "stderr",
     "output_type": "stream",
     "text": [
      "Epoch [4/5], loss_mean=2.533 :  42%|████▏     | 793/1898 [00:16<00:12, 85.93it/s]"
     ]
    },
    {
     "name": "stdout",
     "output_type": "stream",
     "text": [
      "torch.Size([64, 1, 18])\n",
      "torch.Size([64])\n",
      "torch.Size([64, 1, 18])\n",
      "torch.Size([64])\n",
      "torch.Size([64, 1, 18])\n",
      "torch.Size([64])\n",
      "torch.Size([64, 1, 18])\n",
      "torch.Size([64])\n",
      "torch.Size([64, 1, 18])\n",
      "torch.Size([64])\n",
      "torch.Size([64, 1, 18])\n",
      "torch.Size([64])\n",
      "torch.Size([64, 1, 18])\n",
      "torch.Size([64])\n",
      "torch.Size([64, 1, 18])\n",
      "torch.Size([64])\n",
      "torch.Size([64, 1, 18])\n",
      "torch.Size([64])\n",
      "torch.Size([64, 1, 18])\n",
      "torch.Size([64])\n",
      "torch.Size([64, 1, 18])\n",
      "torch.Size([64])\n",
      "torch.Size([64, 1, 18])\n",
      "torch.Size([64])\n",
      "torch.Size([64, 1, 18])\n",
      "torch.Size([64])\n",
      "torch.Size([64, 1, 18])\n",
      "torch.Size([64])\n",
      "torch.Size([64, 1, 18])\n",
      "torch.Size([64])\n",
      "torch.Size([64, 1, 18])\n",
      "torch.Size([64])\n",
      "torch.Size([64, 1, 18])\n",
      "torch.Size([64])\n"
     ]
    },
    {
     "name": "stderr",
     "output_type": "stream",
     "text": [
      "Epoch [4/5], loss_mean=2.533 :  42%|████▏     | 802/1898 [00:17<00:12, 86.75it/s]"
     ]
    },
    {
     "name": "stdout",
     "output_type": "stream",
     "text": [
      "torch.Size([64, 1, 18])\n",
      "torch.Size([64])\n",
      "torch.Size([64, 1, 18])\n",
      "torch.Size([64])\n",
      "torch.Size([64, 1, 18])\n",
      "torch.Size([64])\n",
      "torch.Size([64, 1, 18])\n",
      "torch.Size([64])\n",
      "torch.Size([64, 1, 18])\n",
      "torch.Size([64])\n",
      "torch.Size([64, 1, 18])\n",
      "torch.Size([64])\n",
      "torch.Size([64, 1, 18])\n",
      "torch.Size([64])\n",
      "torch.Size([64, 1, 18])\n",
      "torch.Size([64])\n",
      "torch.Size([64, 1, 18])\n",
      "torch.Size([64])\n",
      "torch.Size([64, 1, 18])\n",
      "torch.Size([64])\n",
      "torch.Size([64, 1, 18])\n",
      "torch.Size([64])\n",
      "torch.Size([64, 1, 18])\n",
      "torch.Size([64])\n",
      "torch.Size([64, 1, 18])\n",
      "torch.Size([64])\n",
      "torch.Size([64, 1, 18])\n",
      "torch.Size([64])\n",
      "torch.Size([64, 1, 18])\n",
      "torch.Size([64])\n",
      "torch.Size([64, 1, 18])\n",
      "torch.Size([64])\n",
      "torch.Size([64, 1, 18])\n",
      "torch.Size([64])\n",
      "torch.Size([64, 1, 18])\n",
      "torch.Size([64])\n"
     ]
    },
    {
     "name": "stderr",
     "output_type": "stream",
     "text": [
      "Epoch [4/5], loss_mean=2.533 :  43%|████▎     | 823/1898 [00:17<00:11, 91.78it/s]"
     ]
    },
    {
     "name": "stdout",
     "output_type": "stream",
     "text": [
      "torch.Size([64, 1, 18])\n",
      "torch.Size([64])\n",
      "torch.Size([64, 1, 18])\n",
      "torch.Size([64])\n",
      "torch.Size([64, 1, 18])\n",
      "torch.Size([64])\n",
      "torch.Size([64, 1, 18])\n",
      "torch.Size([64])\n",
      "torch.Size([64, 1, 18])\n",
      "torch.Size([64])\n",
      "torch.Size([64, 1, 18])\n",
      "torch.Size([64])\n",
      "torch.Size([64, 1, 18])\n",
      "torch.Size([64])\n",
      "torch.Size([64, 1, 18])\n",
      "torch.Size([64])\n",
      "torch.Size([64, 1, 18])\n",
      "torch.Size([64])\n",
      "torch.Size([64, 1, 18])\n",
      "torch.Size([64])\n",
      "torch.Size([64, 1, 18])\n",
      "torch.Size([64])\n",
      "torch.Size([64, 1, 18])\n",
      "torch.Size([64])\n",
      "torch.Size([64, 1, 18])\n",
      "torch.Size([64])\n",
      "torch.Size([64, 1, 18])\n",
      "torch.Size([64])\n",
      "torch.Size([64, 1, 18])\n",
      "torch.Size([64])\n",
      "torch.Size([64, 1, 18])\n",
      "torch.Size([64])\n",
      "torch.Size([64, 1, 18])\n",
      "torch.Size([64])\n",
      "torch.Size([64, 1, 18])\n",
      "torch.Size([64])\n"
     ]
    },
    {
     "name": "stderr",
     "output_type": "stream",
     "text": [
      "Epoch [4/5], loss_mean=2.533 :  44%|████▍     | 833/1898 [00:17<00:11, 93.51it/s]"
     ]
    },
    {
     "name": "stdout",
     "output_type": "stream",
     "text": [
      "torch.Size([64, 1, 18])\n",
      "torch.Size([64])\n",
      "torch.Size([64, 1, 18])\n",
      "torch.Size([64])\n",
      "torch.Size([64, 1, 18])\n",
      "torch.Size([64])\n",
      "torch.Size([64, 1, 18])\n",
      "torch.Size([64])\n",
      "torch.Size([64, 1, 18])\n",
      "torch.Size([64])\n",
      "torch.Size([64, 1, 18])\n",
      "torch.Size([64])\n",
      "torch.Size([64, 1, 18])\n",
      "torch.Size([64])\n",
      "torch.Size([64, 1, 18])\n",
      "torch.Size([64])\n",
      "torch.Size([64, 1, 18])\n",
      "torch.Size([64])\n",
      "torch.Size([64, 1, 18])\n",
      "torch.Size([64])\n",
      "torch.Size([64, 1, 18])\n",
      "torch.Size([64])\n"
     ]
    },
    {
     "name": "stderr",
     "output_type": "stream",
     "text": [
      "Epoch [4/5], loss_mean=2.533 :  44%|████▍     | 843/1898 [00:17<00:20, 51.44it/s]"
     ]
    },
    {
     "name": "stdout",
     "output_type": "stream",
     "text": [
      "torch.Size([64, 1, 18])\n",
      "torch.Size([64])\n",
      "torch.Size([64, 1, 18])\n",
      "torch.Size([64])\n",
      "torch.Size([64, 1, 18])\n",
      "torch.Size([64])\n",
      "torch.Size([64, 1, 18])\n",
      "torch.Size([64])\n"
     ]
    },
    {
     "name": "stderr",
     "output_type": "stream",
     "text": [
      "Epoch [4/5], loss_mean=2.533 :  44%|████▍     | 843/1898 [00:18<00:20, 51.44it/s]"
     ]
    },
    {
     "name": "stdout",
     "output_type": "stream",
     "text": [
      "torch.Size([64, 1, 18])\n",
      "torch.Size([64])\n",
      "torch.Size([64, 1, 18])\n",
      "torch.Size([64])\n",
      "torch.Size([64, 1, 18])\n",
      "torch.Size([64])\n"
     ]
    },
    {
     "name": "stderr",
     "output_type": "stream",
     "text": [
      "Epoch [4/5], loss_mean=2.533 :  45%|████▍     | 851/1898 [00:18<00:27, 38.18it/s]"
     ]
    },
    {
     "name": "stdout",
     "output_type": "stream",
     "text": [
      "torch.Size([64, 1, 18])\n",
      "torch.Size([64])\n",
      "torch.Size([64, 1, 18])\n",
      "torch.Size([64])\n",
      "torch.Size([64, 1, 18])\n",
      "torch.Size([64])\n",
      "torch.Size([64, 1, 18])\n",
      "torch.Size([64])\n",
      "torch.Size([64, 1, 18])\n",
      "torch.Size([64])\n",
      "torch.Size([64, 1, 18])\n",
      "torch.Size([64])\n"
     ]
    },
    {
     "name": "stderr",
     "output_type": "stream",
     "text": [
      "Epoch [4/5], loss_mean=2.533 :  45%|████▌     | 857/1898 [00:18<00:33, 31.54it/s]"
     ]
    },
    {
     "name": "stdout",
     "output_type": "stream",
     "text": [
      "torch.Size([64, 1, 18])\n",
      "torch.Size([64])\n",
      "torch.Size([64, 1, 18])\n",
      "torch.Size([64])\n",
      "torch.Size([64, 1, 18])\n",
      "torch.Size([64])\n",
      "torch.Size([64, 1, 18])\n",
      "torch.Size([64])\n",
      "torch.Size([64, 1, 18])\n",
      "torch.Size([64])\n",
      "torch.Size([64, 1, 18])\n",
      "torch.Size([64])\n"
     ]
    },
    {
     "name": "stderr",
     "output_type": "stream",
     "text": [
      "Epoch [4/5], loss_mean=2.533 :  46%|████▌     | 873/1898 [00:18<00:22, 44.77it/s]"
     ]
    },
    {
     "name": "stdout",
     "output_type": "stream",
     "text": [
      "torch.Size([64, 1, 18])\n",
      "torch.Size([64])\n",
      "torch.Size([64, 1, 18])\n",
      "torch.Size([64])\n",
      "torch.Size([64, 1, 18])\n",
      "torch.Size([64])\n",
      "torch.Size([64, 1, 18])\n",
      "torch.Size([64])\n",
      "torch.Size([64, 1, 18])\n",
      "torch.Size([64])\n",
      "torch.Size([64, 1, 18])\n",
      "torch.Size([64])\n",
      "torch.Size([64, 1, 18])\n",
      "torch.Size([64])\n",
      "torch.Size([64, 1, 18])\n",
      "torch.Size([64])\n",
      "torch.Size([64, 1, 18])\n",
      "torch.Size([64])\n",
      "torch.Size([64, 1, 18])\n",
      "torch.Size([64])\n",
      "torch.Size([64, 1, 18])\n",
      "torch.Size([64])\n",
      "torch.Size([64, 1, 18])\n",
      "torch.Size([64])\n",
      "torch.Size([64, 1, 18])\n",
      "torch.Size([64])\n",
      "torch.Size([64, 1, 18])\n",
      "torch.Size([64])\n"
     ]
    },
    {
     "name": "stderr",
     "output_type": "stream",
     "text": [
      "Epoch [4/5], loss_mean=2.533 :  46%|████▋     | 882/1898 [00:18<00:19, 51.82it/s]"
     ]
    },
    {
     "name": "stdout",
     "output_type": "stream",
     "text": [
      "torch.Size([64, 1, 18])\n",
      "torch.Size([64])\n",
      "torch.Size([64, 1, 18])\n",
      "torch.Size([64])\n",
      "torch.Size([64, 1, 18])\n",
      "torch.Size([64])\n",
      "torch.Size([64, 1, 18])\n",
      "torch.Size([64])\n",
      "torch.Size([64, 1, 18])\n",
      "torch.Size([64])\n",
      "torch.Size([64, 1, 18])\n",
      "torch.Size([64])\n",
      "torch.Size([64, 1, 18])\n",
      "torch.Size([64])\n",
      "torch.Size([64, 1, 18])\n",
      "torch.Size([64])\n",
      "torch.Size([64, 1, 18])\n",
      "torch.Size([64])\n",
      "torch.Size([64, 1, 18])\n",
      "torch.Size([64])\n",
      "torch.Size([64, 1, 18])\n",
      "torch.Size([64])\n",
      "torch.Size([64, 1, 18])\n",
      "torch.Size([64])\n",
      "torch.Size([64, 1, 18])\n",
      "torch.Size([64])\n",
      "torch.Size([64, 1, 18])\n",
      "torch.Size([64])\n",
      "torch.Size([64, 1, 18])\n",
      "torch.Size([64])\n",
      "torch.Size([64, 1, 18])\n",
      "torch.Size([64])\n"
     ]
    },
    {
     "name": "stderr",
     "output_type": "stream",
     "text": [
      "Epoch [4/5], loss_mean=2.533 :  47%|████▋     | 900/1898 [00:19<00:15, 63.71it/s]"
     ]
    },
    {
     "name": "stdout",
     "output_type": "stream",
     "text": [
      "torch.Size([64, 1, 18])\n",
      "torch.Size([64])\n",
      "torch.Size([64, 1, 18])\n",
      "torch.Size([64])\n",
      "torch.Size([64, 1, 18])\n",
      "torch.Size([64])\n",
      "torch.Size([64, 1, 18])\n",
      "torch.Size([64])\n",
      "torch.Size([64, 1, 18])\n",
      "torch.Size([64])\n",
      "torch.Size([64, 1, 18])\n",
      "torch.Size([64])\n",
      "torch.Size([64, 1, 18])\n",
      "torch.Size([64])\n",
      "torch.Size([64, 1, 18])\n",
      "torch.Size([64])\n",
      "torch.Size([64, 1, 18])\n",
      "torch.Size([64])\n",
      "torch.Size([64, 1, 18])\n",
      "torch.Size([64])\n",
      "torch.Size([64, 1, 18])\n",
      "torch.Size([64])\n",
      "torch.Size([64, 1, 18])\n",
      "torch.Size([64])\n",
      "torch.Size([64, 1, 18])\n",
      "torch.Size([64])\n",
      "torch.Size([64, 1, 18])\n",
      "torch.Size([64])\n"
     ]
    },
    {
     "name": "stderr",
     "output_type": "stream",
     "text": [
      "Epoch [4/5], loss_mean=2.533 :  48%|████▊     | 909/1898 [00:19<00:14, 68.04it/s]"
     ]
    },
    {
     "name": "stdout",
     "output_type": "stream",
     "text": [
      "torch.Size([64, 1, 18])\n",
      "torch.Size([64])\n",
      "torch.Size([64, 1, 18])\n",
      "torch.Size([64])\n",
      "torch.Size([64, 1, 18])\n",
      "torch.Size([64])\n",
      "torch.Size([64, 1, 18])\n",
      "torch.Size([64])\n",
      "torch.Size([64, 1, 18])\n",
      "torch.Size([64])\n",
      "torch.Size([64, 1, 18])\n",
      "torch.Size([64])\n",
      "torch.Size([64, 1, 18])\n",
      "torch.Size([64])\n",
      "torch.Size([64, 1, 18])\n",
      "torch.Size([64])\n",
      "torch.Size([64, 1, 18])\n",
      "torch.Size([64])\n",
      "torch.Size([64, 1, 18])\n",
      "torch.Size([64])\n"
     ]
    },
    {
     "name": "stderr",
     "output_type": "stream",
     "text": [
      "Epoch [4/5], loss_mean=2.533 :  48%|████▊     | 909/1898 [00:19<00:14, 68.04it/s]"
     ]
    },
    {
     "name": "stdout",
     "output_type": "stream",
     "text": [
      "torch.Size([64, 1, 18])\n",
      "torch.Size([64])\n",
      "torch.Size([64, 1, 18])\n",
      "torch.Size([64])\n",
      "torch.Size([64, 1, 18])\n",
      "torch.Size([64])\n"
     ]
    },
    {
     "name": "stderr",
     "output_type": "stream",
     "text": [
      "Epoch [4/5], loss_mean=2.533 :  49%|████▊     | 924/1898 [00:19<00:22, 43.52it/s]"
     ]
    },
    {
     "name": "stdout",
     "output_type": "stream",
     "text": [
      "torch.Size([64, 1, 18])\n",
      "torch.Size([64])\n",
      "torch.Size([64, 1, 18])\n",
      "torch.Size([64])\n",
      "torch.Size([64, 1, 18])\n",
      "torch.Size([64])\n",
      "torch.Size([64, 1, 18])\n",
      "torch.Size([64])\n",
      "torch.Size([64, 1, 18])\n",
      "torch.Size([64])\n",
      "torch.Size([64, 1, 18])\n",
      "torch.Size([64])\n",
      "torch.Size([64, 1, 18])\n",
      "torch.Size([64])\n",
      "torch.Size([64, 1, 18])\n",
      "torch.Size([64])\n",
      "torch.Size([64, 1, 18])\n",
      "torch.Size([64])\n",
      "torch.Size([64, 1, 18])\n",
      "torch.Size([64])\n",
      "torch.Size([64, 1, 18])\n",
      "torch.Size([64])\n",
      "torch.Size([64, 1, 18])\n",
      "torch.Size([64])\n",
      "torch.Size([64, 1, 18])\n",
      "torch.Size([64])\n",
      "torch.Size([64, 1, 18])\n",
      "torch.Size([64])\n"
     ]
    },
    {
     "name": "stderr",
     "output_type": "stream",
     "text": [
      "Epoch [4/5], loss_mean=2.533 :  50%|████▉     | 943/1898 [00:19<00:15, 60.84it/s]"
     ]
    },
    {
     "name": "stdout",
     "output_type": "stream",
     "text": [
      "torch.Size([64, 1, 18])\n",
      "torch.Size([64])\n",
      "torch.Size([64, 1, 18])\n",
      "torch.Size([64])\n",
      "torch.Size([64, 1, 18])\n",
      "torch.Size([64])\n",
      "torch.Size([64, 1, 18])\n",
      "torch.Size([64])\n",
      "torch.Size([64, 1, 18])\n",
      "torch.Size([64])\n",
      "torch.Size([64, 1, 18])\n",
      "torch.Size([64])\n",
      "torch.Size([64, 1, 18])\n",
      "torch.Size([64])\n",
      "torch.Size([64, 1, 18])\n",
      "torch.Size([64])\n",
      "torch.Size([64, 1, 18])\n",
      "torch.Size([64])\n",
      "torch.Size([64, 1, 18])\n",
      "torch.Size([64])\n",
      "torch.Size([64, 1, 18])\n",
      "torch.Size([64])\n",
      "torch.Size([64, 1, 18])\n",
      "torch.Size([64])\n",
      "torch.Size([64, 1, 18])\n",
      "torch.Size([64])\n",
      "torch.Size([64, 1, 18])\n",
      "torch.Size([64])\n",
      "torch.Size([64, 1, 18])\n",
      "torch.Size([64])\n",
      "torch.Size([64, 1, 18])\n",
      "torch.Size([64])\n"
     ]
    },
    {
     "name": "stderr",
     "output_type": "stream",
     "text": [
      "Epoch [4/5], loss_mean=2.533 :  50%|████▉     | 943/1898 [00:20<00:15, 60.84it/s]"
     ]
    },
    {
     "name": "stdout",
     "output_type": "stream",
     "text": [
      "torch.Size([64, 1, 18])\n",
      "torch.Size([64])\n",
      "torch.Size([64, 1, 18])\n",
      "torch.Size([64])\n",
      "torch.Size([64, 1, 18])\n",
      "torch.Size([64])\n"
     ]
    },
    {
     "name": "stderr",
     "output_type": "stream",
     "text": [
      "Epoch [4/5], loss_mean=2.533 :  50%|█████     | 958/1898 [00:20<00:20, 46.09it/s]"
     ]
    },
    {
     "name": "stdout",
     "output_type": "stream",
     "text": [
      "torch.Size([64, 1, 18])\n",
      "torch.Size([64])\n",
      "torch.Size([64, 1, 18])\n",
      "torch.Size([64])\n",
      "torch.Size([64, 1, 18])\n",
      "torch.Size([64])\n",
      "torch.Size([64, 1, 18])\n",
      "torch.Size([64])\n",
      "torch.Size([64, 1, 18])\n",
      "torch.Size([64])\n",
      "torch.Size([64, 1, 18])\n",
      "torch.Size([64])\n",
      "torch.Size([64, 1, 18])\n",
      "torch.Size([64])\n",
      "torch.Size([64, 1, 18])\n",
      "torch.Size([64])\n",
      "torch.Size([64, 1, 18])\n",
      "torch.Size([64])\n"
     ]
    },
    {
     "name": "stderr",
     "output_type": "stream",
     "text": [
      "Epoch [4/5], loss_mean=2.533 :  51%|█████     | 967/1898 [00:20<00:17, 54.38it/s]"
     ]
    },
    {
     "name": "stdout",
     "output_type": "stream",
     "text": [
      "torch.Size([64, 1, 18])\n",
      "torch.Size([64])\n",
      "torch.Size([64, 1, 18])\n",
      "torch.Size([64])\n",
      "torch.Size([64, 1, 18])\n",
      "torch.Size([64])\n",
      "torch.Size([64, 1, 18])\n",
      "torch.Size([64])\n",
      "torch.Size([64, 1, 18])\n",
      "torch.Size([64])\n",
      "torch.Size([64, 1, 18])\n",
      "torch.Size([64])\n",
      "torch.Size([64, 1, 18])\n",
      "torch.Size([64])\n",
      "torch.Size([64, 1, 18])\n",
      "torch.Size([64])\n",
      "torch.Size([64, 1, 18])\n",
      "torch.Size([64])\n",
      "torch.Size([64, 1, 18])\n",
      "torch.Size([64])\n",
      "torch.Size([64, 1, 18])\n",
      "torch.Size([64])\n",
      "torch.Size([64, 1, 18])\n",
      "torch.Size([64])\n",
      "torch.Size([64, 1, 18])\n",
      "torch.Size([64])\n",
      "torch.Size([64, 1, 18])\n",
      "torch.Size([64])\n",
      "torch.Size([64, 1, 18])\n",
      "torch.Size([64])\n",
      "torch.Size([64, 1, 18])\n",
      "torch.Size([64])\n",
      "torch.Size([64, 1, 18])\n",
      "torch.Size([64])\n",
      "torch.Size([64, 1, 18])\n",
      "torch.Size([64])\n"
     ]
    },
    {
     "name": "stderr",
     "output_type": "stream",
     "text": [
      "Epoch [4/5], loss_mean=2.533 :  52%|█████▏    | 985/1898 [00:20<00:14, 63.36it/s]"
     ]
    },
    {
     "name": "stdout",
     "output_type": "stream",
     "text": [
      "torch.Size([64, 1, 18])\n",
      "torch.Size([64])\n",
      "torch.Size([64, 1, 18])\n",
      "torch.Size([64])\n",
      "torch.Size([64, 1, 18])\n",
      "torch.Size([64])\n",
      "torch.Size([64, 1, 18])\n",
      "torch.Size([64])\n",
      "torch.Size([64, 1, 18])\n",
      "torch.Size([64])\n",
      "torch.Size([64, 1, 18])\n",
      "torch.Size([64])\n",
      "torch.Size([64, 1, 18])\n",
      "torch.Size([64])\n",
      "torch.Size([64, 1, 18])\n",
      "torch.Size([64])\n",
      "torch.Size([64, 1, 18])\n",
      "torch.Size([64])\n",
      "torch.Size([64, 1, 18])\n",
      "torch.Size([64])\n",
      "torch.Size([64, 1, 18])\n",
      "torch.Size([64])\n",
      "torch.Size([64, 1, 18])\n",
      "torch.Size([64])\n",
      "torch.Size([64, 1, 18])\n",
      "torch.Size([64])\n",
      "torch.Size([64, 1, 18])\n",
      "torch.Size([64])\n",
      "torch.Size([64, 1, 18])\n",
      "torch.Size([64])\n"
     ]
    },
    {
     "name": "stderr",
     "output_type": "stream",
     "text": [
      "Epoch [4/5], loss_mean=2.533 :  53%|█████▎    | 1003/1898 [00:20<00:12, 73.21it/s]"
     ]
    },
    {
     "name": "stdout",
     "output_type": "stream",
     "text": [
      "torch.Size([64, 1, 18])\n",
      "torch.Size([64])\n",
      "torch.Size([64, 1, 18])\n",
      "torch.Size([64])\n",
      "torch.Size([64, 1, 18])\n",
      "torch.Size([64])\n",
      "torch.Size([64, 1, 18])\n",
      "torch.Size([64])\n",
      "torch.Size([64, 1, 18])\n",
      "torch.Size([64])\n",
      "torch.Size([64, 1, 18])\n",
      "torch.Size([64])\n",
      "torch.Size([64, 1, 18])\n",
      "torch.Size([64])\n",
      "torch.Size([64, 1, 18])\n",
      "torch.Size([64])\n",
      "torch.Size([64, 1, 18])\n",
      "torch.Size([64])\n",
      "torch.Size([64, 1, 18])\n",
      "torch.Size([64])\n",
      "torch.Size([64, 1, 18])\n",
      "torch.Size([64])\n",
      "torch.Size([64, 1, 18])\n",
      "torch.Size([64])\n",
      "torch.Size([64, 1, 18])\n",
      "torch.Size([64])\n",
      "torch.Size([64, 1, 18])\n",
      "torch.Size([64])\n",
      "torch.Size([64, 1, 18])\n",
      "torch.Size([64])\n",
      "torch.Size([64, 1, 18])\n",
      "torch.Size([64])\n",
      "torch.Size([64, 1, 18])\n",
      "torch.Size([64])\n"
     ]
    },
    {
     "name": "stderr",
     "output_type": "stream",
     "text": [
      "Epoch [4/5], loss_mean=2.533 :  54%|█████▍    | 1022/1898 [00:21<00:11, 76.57it/s]"
     ]
    },
    {
     "name": "stdout",
     "output_type": "stream",
     "text": [
      "torch.Size([64, 1, 18])\n",
      "torch.Size([64])\n",
      "torch.Size([64, 1, 18])\n",
      "torch.Size([64])\n",
      "torch.Size([64, 1, 18])\n",
      "torch.Size([64])\n",
      "torch.Size([64, 1, 18])\n",
      "torch.Size([64])\n",
      "torch.Size([64, 1, 18])\n",
      "torch.Size([64])\n",
      "torch.Size([64, 1, 18])\n",
      "torch.Size([64])\n",
      "torch.Size([64, 1, 18])\n",
      "torch.Size([64])\n",
      "torch.Size([64, 1, 18])\n",
      "torch.Size([64])\n",
      "torch.Size([64, 1, 18])\n",
      "torch.Size([64])\n",
      "torch.Size([64, 1, 18])\n",
      "torch.Size([64])\n",
      "torch.Size([64, 1, 18])\n",
      "torch.Size([64])\n",
      "torch.Size([64, 1, 18])\n",
      "torch.Size([64])\n",
      "torch.Size([64, 1, 18])\n",
      "torch.Size([64])\n",
      "torch.Size([64, 1, 18])\n",
      "torch.Size([64])\n"
     ]
    },
    {
     "name": "stderr",
     "output_type": "stream",
     "text": [
      "Epoch [4/5], loss_mean=2.533 :  54%|█████▍    | 1030/1898 [00:21<00:11, 76.60it/s]"
     ]
    },
    {
     "name": "stdout",
     "output_type": "stream",
     "text": [
      "torch.Size([64, 1, 18])\n",
      "torch.Size([64])\n",
      "torch.Size([64, 1, 18])\n",
      "torch.Size([64])\n",
      "torch.Size([64, 1, 18])\n",
      "torch.Size([64])\n",
      "torch.Size([64, 1, 18])\n",
      "torch.Size([64])\n",
      "torch.Size([64, 1, 18])\n",
      "torch.Size([64])\n",
      "torch.Size([64, 1, 18])\n",
      "torch.Size([64])\n",
      "torch.Size([64, 1, 18])\n",
      "torch.Size([64])\n",
      "torch.Size([64, 1, 18])\n",
      "torch.Size([64])\n",
      "torch.Size([64, 1, 18])\n",
      "torch.Size([64])\n",
      "torch.Size([64, 1, 18])\n",
      "torch.Size([64])\n",
      "torch.Size([64, 1, 18])\n",
      "torch.Size([64])\n",
      "torch.Size([64, 1, 18])\n",
      "torch.Size([64])\n",
      "torch.Size([64, 1, 18])\n",
      "torch.Size([64])\n",
      "torch.Size([64, 1, 18])\n",
      "torch.Size([64])\n",
      "torch.Size([64, 1, 18])\n",
      "torch.Size([64])\n",
      "torch.Size([64, 1, 18])\n",
      "torch.Size([64])\n",
      "torch.Size([64, 1, 18])\n",
      "torch.Size([64])\n",
      "torch.Size([64, 1, 18])\n",
      "torch.Size([64])\n",
      "torch.Size([64, 1, 18])\n",
      "torch.Size([64])\n",
      "torch.Size([64, 1, 18])\n",
      "torch.Size([64])\n"
     ]
    },
    {
     "name": "stderr",
     "output_type": "stream",
     "text": [
      "Epoch [4/5], loss_mean=2.533 :  55%|█████▍    | 1043/1898 [00:21<00:09, 86.74it/s]"
     ]
    },
    {
     "name": "stdout",
     "output_type": "stream",
     "text": [
      "torch.Size([64, 1, 18])\n",
      "torch.Size([64])\n",
      "torch.Size([64, 1, 18])\n",
      "torch.Size([64])\n",
      "torch.Size([64, 1, 18])\n",
      "torch.Size([64])\n",
      "torch.Size([64, 1, 18])\n",
      "torch.Size([64])\n",
      "torch.Size([64, 1, 18])\n",
      "torch.Size([64])\n",
      "torch.Size([64, 1, 18])\n",
      "torch.Size([64])\n"
     ]
    },
    {
     "name": "stderr",
     "output_type": "stream",
     "text": [
      "Epoch [4/5], loss_mean=2.533 :  56%|█████▌    | 1061/1898 [00:21<00:12, 67.34it/s]"
     ]
    },
    {
     "name": "stdout",
     "output_type": "stream",
     "text": [
      "torch.Size([64, 1, 18])\n",
      "torch.Size([64])\n",
      "torch.Size([64, 1, 18])\n",
      "torch.Size([64])\n",
      "torch.Size([64, 1, 18])\n",
      "torch.Size([64])\n",
      "torch.Size([64, 1, 18])\n",
      "torch.Size([64])\n",
      "torch.Size([64, 1, 18])\n",
      "torch.Size([64])\n",
      "torch.Size([64, 1, 18])\n",
      "torch.Size([64])\n",
      "torch.Size([64, 1, 18])\n",
      "torch.Size([64])\n",
      "torch.Size([64, 1, 18])\n",
      "torch.Size([64])\n",
      "torch.Size([64, 1, 18])\n",
      "torch.Size([64])\n",
      "torch.Size([64, 1, 18])\n",
      "torch.Size([64])\n",
      "torch.Size([64, 1, 18])\n",
      "torch.Size([64])\n",
      "torch.Size([64, 1, 18])\n",
      "torch.Size([64])\n",
      "torch.Size([64, 1, 18])\n",
      "torch.Size([64])\n"
     ]
    },
    {
     "name": "stderr",
     "output_type": "stream",
     "text": [
      "Epoch [4/5], loss_mean=2.533 :  56%|█████▋    | 1069/1898 [00:22<00:18, 45.90it/s]"
     ]
    },
    {
     "name": "stdout",
     "output_type": "stream",
     "text": [
      "torch.Size([64, 1, 18])\n",
      "torch.Size([64])\n",
      "torch.Size([64, 1, 18])\n",
      "torch.Size([64])\n",
      "torch.Size([64, 1, 18])\n",
      "torch.Size([64])\n",
      "torch.Size([64, 1, 18])\n",
      "torch.Size([64])\n",
      "torch.Size([64, 1, 18])\n",
      "torch.Size([64])\n",
      "torch.Size([64, 1, 18])\n",
      "torch.Size([64])\n",
      "torch.Size([64, 1, 18])\n",
      "torch.Size([64])\n",
      "torch.Size([64, 1, 18])\n",
      "torch.Size([64])\n",
      "torch.Size([64, 1, 18])\n",
      "torch.Size([64])\n"
     ]
    },
    {
     "name": "stderr",
     "output_type": "stream",
     "text": [
      "Epoch [4/5], loss_mean=2.533 :  57%|█████▋    | 1079/1898 [00:22<00:14, 55.41it/s]"
     ]
    },
    {
     "name": "stdout",
     "output_type": "stream",
     "text": [
      "torch.Size([64, 1, 18])\n",
      "torch.Size([64])\n",
      "torch.Size([64, 1, 18])\n",
      "torch.Size([64])\n",
      "torch.Size([64, 1, 18])\n",
      "torch.Size([64])\n",
      "torch.Size([64, 1, 18])\n",
      "torch.Size([64])\n",
      "torch.Size([64, 1, 18])\n",
      "torch.Size([64])\n",
      "torch.Size([64, 1, 18])\n",
      "torch.Size([64])\n",
      "torch.Size([64, 1, 18])\n",
      "torch.Size([64])\n",
      "torch.Size([64, 1, 18])\n",
      "torch.Size([64])\n",
      "torch.Size([64, 1, 18])\n",
      "torch.Size([64])\n",
      "torch.Size([64, 1, 18])\n",
      "torch.Size([64])\n",
      "torch.Size([64, 1, 18])\n",
      "torch.Size([64])\n",
      "torch.Size([64, 1, 18])\n",
      "torch.Size([64])\n",
      "torch.Size([64, 1, 18])\n",
      "torch.Size([64])\n",
      "torch.Size([64, 1, 18])\n",
      "torch.Size([64])\n",
      "torch.Size([64, 1, 18])\n",
      "torch.Size([64])\n",
      "torch.Size([64, 1, 18])\n",
      "torch.Size([64])\n",
      "torch.Size([64, 1, 18])\n",
      "torch.Size([64])\n",
      "torch.Size([64, 1, 18])\n",
      "torch.Size([64])\n",
      "torch.Size([64, 1, 18])\n",
      "torch.Size([64])\n"
     ]
    },
    {
     "name": "stderr",
     "output_type": "stream",
     "text": [
      "Epoch [4/5], loss_mean=2.533 :  58%|█████▊    | 1100/1898 [00:22<00:11, 72.52it/s]"
     ]
    },
    {
     "name": "stdout",
     "output_type": "stream",
     "text": [
      "torch.Size([64, 1, 18])\n",
      "torch.Size([64])\n",
      "torch.Size([64, 1, 18])\n",
      "torch.Size([64])\n",
      "torch.Size([64, 1, 18])\n",
      "torch.Size([64])\n",
      "torch.Size([64, 1, 18])\n",
      "torch.Size([64])\n",
      "torch.Size([64, 1, 18])\n",
      "torch.Size([64])\n",
      "torch.Size([64, 1, 18])\n",
      "torch.Size([64])\n",
      "torch.Size([64, 1, 18])\n",
      "torch.Size([64])\n",
      "torch.Size([64, 1, 18])\n",
      "torch.Size([64])\n",
      "torch.Size([64, 1, 18])\n",
      "torch.Size([64])\n",
      "torch.Size([64, 1, 18])\n",
      "torch.Size([64])\n",
      "torch.Size([64, 1, 18])\n",
      "torch.Size([64])\n",
      "torch.Size([64, 1, 18])\n",
      "torch.Size([64])\n",
      "torch.Size([64, 1, 18])\n",
      "torch.Size([64])\n",
      "torch.Size([64, 1, 18])\n",
      "torch.Size([64])\n",
      "torch.Size([64, 1, 18])\n",
      "torch.Size([64])\n",
      "torch.Size([64, 1, 18])\n",
      "torch.Size([64])\n",
      "torch.Size([64, 1, 18])\n",
      "torch.Size([64])\n",
      "torch.Size([64, 1, 18])\n",
      "torch.Size([64])\n"
     ]
    },
    {
     "name": "stderr",
     "output_type": "stream",
     "text": [
      "Epoch [4/5], loss_mean=2.533 :  58%|█████▊    | 1110/1898 [00:22<00:10, 75.24it/s]"
     ]
    },
    {
     "name": "stdout",
     "output_type": "stream",
     "text": [
      "torch.Size([64, 1, 18])\n",
      "torch.Size([64])\n",
      "torch.Size([64, 1, 18])\n",
      "torch.Size([64])\n",
      "torch.Size([64, 1, 18])\n",
      "torch.Size([64])\n",
      "torch.Size([64, 1, 18])\n",
      "torch.Size([64])\n",
      "torch.Size([64, 1, 18])\n",
      "torch.Size([64])\n"
     ]
    },
    {
     "name": "stderr",
     "output_type": "stream",
     "text": [
      "Epoch [4/5], loss_mean=2.533 :  59%|█████▉    | 1119/1898 [00:22<00:13, 57.69it/s]"
     ]
    },
    {
     "name": "stdout",
     "output_type": "stream",
     "text": [
      "torch.Size([64, 1, 18])\n",
      "torch.Size([64])\n",
      "torch.Size([64, 1, 18])\n",
      "torch.Size([64])\n",
      "torch.Size([64, 1, 18])\n",
      "torch.Size([64])\n",
      "torch.Size([64, 1, 18])\n",
      "torch.Size([64])\n",
      "torch.Size([64, 1, 18])\n",
      "torch.Size([64])\n",
      "torch.Size([64, 1, 18])\n",
      "torch.Size([64])\n",
      "torch.Size([64, 1, 18])\n",
      "torch.Size([64])\n",
      "torch.Size([64, 1, 18])\n",
      "torch.Size([64])\n"
     ]
    },
    {
     "name": "stderr",
     "output_type": "stream",
     "text": [
      "Epoch [4/5], loss_mean=2.533 :  59%|█████▉    | 1119/1898 [00:22<00:13, 57.69it/s]"
     ]
    },
    {
     "name": "stdout",
     "output_type": "stream",
     "text": [
      "torch.Size([64, 1, 18])\n",
      "torch.Size([64])\n",
      "torch.Size([64, 1, 18])\n",
      "torch.Size([64])\n",
      "torch.Size([64, 1, 18])\n",
      "torch.Size([64])\n",
      "torch.Size([64, 1, 18])\n",
      "torch.Size([64])\n"
     ]
    },
    {
     "name": "stderr",
     "output_type": "stream",
     "text": [
      "Epoch [4/5], loss_mean=2.533 :  59%|█████▉    | 1127/1898 [00:23<00:19, 40.20it/s]"
     ]
    },
    {
     "name": "stdout",
     "output_type": "stream",
     "text": [
      "torch.Size([64, 1, 18])\n",
      "torch.Size([64])\n",
      "torch.Size([64, 1, 18])\n",
      "torch.Size([64])\n",
      "torch.Size([64, 1, 18])\n",
      "torch.Size([64])\n",
      "torch.Size([64, 1, 18])\n",
      "torch.Size([64])\n",
      "torch.Size([64, 1, 18])\n",
      "torch.Size([64])\n",
      "torch.Size([64, 1, 18])\n",
      "torch.Size([64])\n"
     ]
    },
    {
     "name": "stderr",
     "output_type": "stream",
     "text": [
      "Epoch [4/5], loss_mean=2.533 :  60%|█████▉    | 1133/1898 [00:23<00:19, 38.68it/s]"
     ]
    },
    {
     "name": "stdout",
     "output_type": "stream",
     "text": [
      "torch.Size([64, 1, 18])\n",
      "torch.Size([64])\n",
      "torch.Size([64, 1, 18])\n",
      "torch.Size([64])\n",
      "torch.Size([64, 1, 18])\n",
      "torch.Size([64])\n",
      "torch.Size([64, 1, 18])\n",
      "torch.Size([64])\n",
      "torch.Size([64, 1, 18])\n",
      "torch.Size([64])\n",
      "torch.Size([64, 1, 18])\n",
      "torch.Size([64])\n"
     ]
    },
    {
     "name": "stderr",
     "output_type": "stream",
     "text": [
      "Epoch [4/5], loss_mean=2.533 :  60%|██████    | 1143/1898 [00:23<00:21, 34.54it/s]"
     ]
    },
    {
     "name": "stdout",
     "output_type": "stream",
     "text": [
      "torch.Size([64, 1, 18])\n",
      "torch.Size([64])\n",
      "torch.Size([64, 1, 18])\n",
      "torch.Size([64])\n",
      "torch.Size([64, 1, 18])\n",
      "torch.Size([64])\n",
      "torch.Size([64, 1, 18])\n",
      "torch.Size([64])\n",
      "torch.Size([64, 1, 18])\n",
      "torch.Size([64])\n",
      "torch.Size([64, 1, 18])\n",
      "torch.Size([64])\n"
     ]
    },
    {
     "name": "stderr",
     "output_type": "stream",
     "text": [
      "Epoch [4/5], loss_mean=2.533 :  60%|██████    | 1143/1898 [00:23<00:21, 34.54it/s]"
     ]
    },
    {
     "name": "stdout",
     "output_type": "stream",
     "text": [
      "torch.Size([64, 1, 18])\n",
      "torch.Size([64])\n",
      "torch.Size([64, 1, 18])\n",
      "torch.Size([64])\n",
      "torch.Size([64, 1, 18])\n",
      "torch.Size([64])\n",
      "torch.Size([64, 1, 18])\n",
      "torch.Size([64])\n"
     ]
    },
    {
     "name": "stderr",
     "output_type": "stream",
     "text": [
      "Epoch [4/5], loss_mean=2.533 :  61%|██████    | 1152/1898 [00:23<00:24, 31.06it/s]"
     ]
    },
    {
     "name": "stdout",
     "output_type": "stream",
     "text": [
      "torch.Size([64, 1, 18])\n",
      "torch.Size([64])\n",
      "torch.Size([64, 1, 18])\n",
      "torch.Size([64])\n",
      "torch.Size([64, 1, 18])\n",
      "torch.Size([64])\n",
      "torch.Size([64, 1, 18])\n",
      "torch.Size([64])\n",
      "torch.Size([64, 1, 18])\n",
      "torch.Size([64])\n",
      "torch.Size([64, 1, 18])\n",
      "torch.Size([64])\n",
      "torch.Size([64, 1, 18])\n",
      "torch.Size([64])\n"
     ]
    },
    {
     "name": "stderr",
     "output_type": "stream",
     "text": [
      "Epoch [4/5], loss_mean=2.533 :  61%|██████    | 1156/1898 [00:24<00:25, 28.64it/s]"
     ]
    },
    {
     "name": "stdout",
     "output_type": "stream",
     "text": [
      "torch.Size([64, 1, 18])\n",
      "torch.Size([64])\n",
      "torch.Size([64, 1, 18])\n",
      "torch.Size([64])\n",
      "torch.Size([64, 1, 18])\n",
      "torch.Size([64])\n",
      "torch.Size([64, 1, 18])\n",
      "torch.Size([64])\n"
     ]
    },
    {
     "name": "stderr",
     "output_type": "stream",
     "text": [
      "Epoch [4/5], loss_mean=2.533 :  61%|██████    | 1160/1898 [00:24<00:26, 28.12it/s]"
     ]
    },
    {
     "name": "stdout",
     "output_type": "stream",
     "text": [
      "torch.Size([64, 1, 18])\n",
      "torch.Size([64])\n",
      "torch.Size([64, 1, 18])\n",
      "torch.Size([64])\n",
      "torch.Size([64, 1, 18])\n",
      "torch.Size([64])\n",
      "torch.Size([64, 1, 18])\n",
      "torch.Size([64])\n"
     ]
    },
    {
     "name": "stderr",
     "output_type": "stream",
     "text": [
      "Epoch [4/5], loss_mean=2.533 :  61%|██████▏   | 1164/1898 [00:24<00:32, 22.64it/s]"
     ]
    },
    {
     "name": "stdout",
     "output_type": "stream",
     "text": [
      "torch.Size([64, 1, 18])\n",
      "torch.Size([64])\n",
      "torch.Size([64, 1, 18])\n",
      "torch.Size([64])\n",
      "torch.Size([64, 1, 18])\n",
      "torch.Size([64])\n",
      "torch.Size([64, 1, 18])\n",
      "torch.Size([64])\n"
     ]
    },
    {
     "name": "stderr",
     "output_type": "stream",
     "text": [
      "Epoch [4/5], loss_mean=2.533 :  62%|██████▏   | 1168/1898 [00:24<00:31, 23.30it/s]"
     ]
    },
    {
     "name": "stdout",
     "output_type": "stream",
     "text": [
      "torch.Size([64, 1, 18])\n",
      "torch.Size([64])\n",
      "torch.Size([64, 1, 18])\n",
      "torch.Size([64])\n",
      "torch.Size([64, 1, 18])\n",
      "torch.Size([64])\n"
     ]
    },
    {
     "name": "stderr",
     "output_type": "stream",
     "text": [
      "Epoch [4/5], loss_mean=2.533 :  62%|██████▏   | 1171/1898 [00:25<00:45, 16.06it/s]"
     ]
    },
    {
     "name": "stdout",
     "output_type": "stream",
     "text": [
      "torch.Size([64, 1, 18])\n",
      "torch.Size([64])\n",
      "torch.Size([64, 1, 18])\n",
      "torch.Size([64])\n",
      "torch.Size([64, 1, 18])\n",
      "torch.Size([64])\n",
      "torch.Size([64, 1, 18])\n",
      "torch.Size([64])\n"
     ]
    },
    {
     "name": "stderr",
     "output_type": "stream",
     "text": [
      "Epoch [4/5], loss_mean=2.533 :  62%|██████▏   | 1177/1898 [00:25<00:32, 22.01it/s]"
     ]
    },
    {
     "name": "stdout",
     "output_type": "stream",
     "text": [
      "torch.Size([64, 1, 18])\n",
      "torch.Size([64])\n",
      "torch.Size([64, 1, 18])\n",
      "torch.Size([64])\n",
      "torch.Size([64, 1, 18])\n",
      "torch.Size([64])\n",
      "torch.Size([64, 1, 18])\n",
      "torch.Size([64])\n",
      "torch.Size([64, 1, 18])\n",
      "torch.Size([64])\n",
      "torch.Size([64, 1, 18])\n",
      "torch.Size([64])\n",
      "torch.Size([64, 1, 18])\n",
      "torch.Size([64])\n",
      "torch.Size([64, 1, 18])\n",
      "torch.Size([64])\n",
      "torch.Size([64, 1, 18])\n",
      "torch.Size([64])\n",
      "torch.Size([64, 1, 18])\n",
      "torch.Size([64])\n",
      "torch.Size([64, 1, 18])\n",
      "torch.Size([64])\n",
      "torch.Size([64, 1, 18])\n",
      "torch.Size([64])\n",
      "torch.Size([64, 1, 18])\n",
      "torch.Size([64])\n"
     ]
    },
    {
     "name": "stderr",
     "output_type": "stream",
     "text": [
      "Epoch [4/5], loss_mean=2.533 :  63%|██████▎   | 1191/1898 [00:25<00:19, 36.09it/s]"
     ]
    },
    {
     "name": "stdout",
     "output_type": "stream",
     "text": [
      "torch.Size([64, 1, 18])\n",
      "torch.Size([64])\n",
      "torch.Size([64, 1, 18])\n",
      "torch.Size([64])\n",
      "torch.Size([64, 1, 18])\n",
      "torch.Size([64])\n",
      "torch.Size([64, 1, 18])\n",
      "torch.Size([64])\n",
      "torch.Size([64, 1, 18])\n",
      "torch.Size([64])\n",
      "torch.Size([64, 1, 18])\n",
      "torch.Size([64])\n",
      "torch.Size([64, 1, 18])\n",
      "torch.Size([64])\n",
      "torch.Size([64, 1, 18])\n",
      "torch.Size([64])\n",
      "torch.Size([64, 1, 18])\n",
      "torch.Size([64])\n",
      "torch.Size([64, 1, 18])\n",
      "torch.Size([64])\n",
      "torch.Size([64, 1, 18])\n",
      "torch.Size([64])\n",
      "torch.Size([64, 1, 18])\n",
      "torch.Size([64])\n"
     ]
    },
    {
     "name": "stderr",
     "output_type": "stream",
     "text": [
      "Epoch [4/5], loss_mean=2.533 :  64%|██████▎   | 1208/1898 [00:25<00:12, 53.64it/s]"
     ]
    },
    {
     "name": "stdout",
     "output_type": "stream",
     "text": [
      "torch.Size([64, 1, 18])\n",
      "torch.Size([64])\n",
      "torch.Size([64, 1, 18])\n",
      "torch.Size([64])\n",
      "torch.Size([64, 1, 18])\n",
      "torch.Size([64])\n",
      "torch.Size([64, 1, 18])\n",
      "torch.Size([64])\n",
      "torch.Size([64, 1, 18])\n",
      "torch.Size([64])\n",
      "torch.Size([64, 1, 18])\n",
      "torch.Size([64])\n",
      "torch.Size([64, 1, 18])\n",
      "torch.Size([64])\n",
      "torch.Size([64, 1, 18])\n",
      "torch.Size([64])\n",
      "torch.Size([64, 1, 18])\n",
      "torch.Size([64])\n",
      "torch.Size([64, 1, 18])\n",
      "torch.Size([64])\n",
      "torch.Size([64, 1, 18])\n",
      "torch.Size([64])\n",
      "torch.Size([64, 1, 18])\n",
      "torch.Size([64])\n",
      "torch.Size([64, 1, 18])\n",
      "torch.Size([64])\n",
      "torch.Size([64, 1, 18])\n",
      "torch.Size([64])\n"
     ]
    },
    {
     "name": "stderr",
     "output_type": "stream",
     "text": [
      "Epoch [4/5], loss_mean=2.533 :  64%|██████▍   | 1216/1898 [00:25<00:12, 56.68it/s]"
     ]
    },
    {
     "name": "stdout",
     "output_type": "stream",
     "text": [
      "torch.Size([64, 1, 18])\n",
      "torch.Size([64])\n",
      "torch.Size([64, 1, 18])\n",
      "torch.Size([64])\n",
      "torch.Size([64, 1, 18])\n",
      "torch.Size([64])\n",
      "torch.Size([64, 1, 18])\n",
      "torch.Size([64])\n",
      "torch.Size([64, 1, 18])\n",
      "torch.Size([64])\n",
      "torch.Size([64, 1, 18])\n",
      "torch.Size([64])\n",
      "torch.Size([64, 1, 18])\n",
      "torch.Size([64])\n",
      "torch.Size([64, 1, 18])\n",
      "torch.Size([64])\n",
      "torch.Size([64, 1, 18])\n",
      "torch.Size([64])\n",
      "torch.Size([64, 1, 18])\n",
      "torch.Size([64])\n",
      "torch.Size([64, 1, 18])\n",
      "torch.Size([64])\n",
      "torch.Size([64, 1, 18])\n",
      "torch.Size([64])\n"
     ]
    },
    {
     "name": "stderr",
     "output_type": "stream",
     "text": [
      "Epoch [4/5], loss_mean=2.533 :  65%|██████▍   | 1231/1898 [00:26<00:10, 60.72it/s]"
     ]
    },
    {
     "name": "stdout",
     "output_type": "stream",
     "text": [
      "torch.Size([64, 1, 18])\n",
      "torch.Size([64])\n",
      "torch.Size([64, 1, 18])\n",
      "torch.Size([64])\n",
      "torch.Size([64, 1, 18])\n",
      "torch.Size([64])\n",
      "torch.Size([64, 1, 18])\n",
      "torch.Size([64])\n",
      "torch.Size([64, 1, 18])\n",
      "torch.Size([64])\n",
      "torch.Size([64, 1, 18])\n",
      "torch.Size([64])\n",
      "torch.Size([64, 1, 18])\n",
      "torch.Size([64])\n",
      "torch.Size([64, 1, 18])\n",
      "torch.Size([64])\n",
      "torch.Size([64, 1, 18])\n",
      "torch.Size([64])\n",
      "torch.Size([64, 1, 18])\n",
      "torch.Size([64])\n",
      "torch.Size([64, 1, 18])\n",
      "torch.Size([64])\n",
      "torch.Size([64, 1, 18])\n",
      "torch.Size([64])\n",
      "torch.Size([64, 1, 18])\n",
      "torch.Size([64])\n"
     ]
    },
    {
     "name": "stderr",
     "output_type": "stream",
     "text": [
      "Epoch [4/5], loss_mean=2.533 :  66%|██████▌   | 1248/1898 [00:26<00:09, 69.29it/s]"
     ]
    },
    {
     "name": "stdout",
     "output_type": "stream",
     "text": [
      "torch.Size([64, 1, 18])\n",
      "torch.Size([64])\n",
      "torch.Size([64, 1, 18])\n",
      "torch.Size([64])\n",
      "torch.Size([64, 1, 18])\n",
      "torch.Size([64])\n",
      "torch.Size([64, 1, 18])\n",
      "torch.Size([64])\n",
      "torch.Size([64, 1, 18])\n",
      "torch.Size([64])\n",
      "torch.Size([64, 1, 18])\n",
      "torch.Size([64])\n",
      "torch.Size([64, 1, 18])\n",
      "torch.Size([64])\n",
      "torch.Size([64, 1, 18])\n",
      "torch.Size([64])\n",
      "torch.Size([64, 1, 18])\n",
      "torch.Size([64])\n",
      "torch.Size([64, 1, 18])\n",
      "torch.Size([64])\n",
      "torch.Size([64, 1, 18])\n",
      "torch.Size([64])\n",
      "torch.Size([64, 1, 18])\n",
      "torch.Size([64])\n",
      "torch.Size([64, 1, 18])\n",
      "torch.Size([64])\n",
      "torch.Size([64, 1, 18])\n",
      "torch.Size([64])\n"
     ]
    },
    {
     "name": "stderr",
     "output_type": "stream",
     "text": [
      "Epoch [4/5], loss_mean=2.533 :  66%|██████▌   | 1256/1898 [00:26<00:10, 62.32it/s]"
     ]
    },
    {
     "name": "stdout",
     "output_type": "stream",
     "text": [
      "torch.Size([64, 1, 18])\n",
      "torch.Size([64])\n",
      "torch.Size([64, 1, 18])\n",
      "torch.Size([64])\n",
      "torch.Size([64, 1, 18])\n",
      "torch.Size([64])\n",
      "torch.Size([64, 1, 18])\n",
      "torch.Size([64])\n",
      "torch.Size([64, 1, 18])\n",
      "torch.Size([64])\n",
      "torch.Size([64, 1, 18])\n",
      "torch.Size([64])\n",
      "torch.Size([64, 1, 18])\n",
      "torch.Size([64])\n",
      "torch.Size([64, 1, 18])\n",
      "torch.Size([64])\n",
      "torch.Size([64, 1, 18])\n",
      "torch.Size([64])\n",
      "torch.Size([64, 1, 18])\n",
      "torch.Size([64])\n"
     ]
    },
    {
     "name": "stderr",
     "output_type": "stream",
     "text": [
      "Epoch [4/5], loss_mean=2.533 :  67%|██████▋   | 1270/1898 [00:26<00:10, 61.78it/s]"
     ]
    },
    {
     "name": "stdout",
     "output_type": "stream",
     "text": [
      "torch.Size([64, 1, 18])\n",
      "torch.Size([64])\n",
      "torch.Size([64, 1, 18])\n",
      "torch.Size([64])\n",
      "torch.Size([64, 1, 18])\n",
      "torch.Size([64])\n",
      "torch.Size([64, 1, 18])\n",
      "torch.Size([64])\n",
      "torch.Size([64, 1, 18])\n",
      "torch.Size([64])\n",
      "torch.Size([64, 1, 18])\n",
      "torch.Size([64])\n",
      "torch.Size([64, 1, 18])\n",
      "torch.Size([64])\n",
      "torch.Size([64, 1, 18])\n",
      "torch.Size([64])\n",
      "torch.Size([64, 1, 18])\n",
      "torch.Size([64])\n",
      "torch.Size([64, 1, 18])\n",
      "torch.Size([64])\n",
      "torch.Size([64, 1, 18])\n",
      "torch.Size([64])\n",
      "torch.Size([64, 1, 18])\n",
      "torch.Size([64])\n",
      "torch.Size([64, 1, 18])\n",
      "torch.Size([64])\n"
     ]
    },
    {
     "name": "stderr",
     "output_type": "stream",
     "text": [
      "Epoch [4/5], loss_mean=2.533 :  68%|██████▊   | 1288/1898 [00:26<00:08, 74.56it/s]"
     ]
    },
    {
     "name": "stdout",
     "output_type": "stream",
     "text": [
      "torch.Size([64, 1, 18])\n",
      "torch.Size([64])\n",
      "torch.Size([64, 1, 18])\n",
      "torch.Size([64])\n",
      "torch.Size([64, 1, 18])\n",
      "torch.Size([64])\n",
      "torch.Size([64, 1, 18])\n",
      "torch.Size([64])\n",
      "torch.Size([64, 1, 18])\n",
      "torch.Size([64])\n",
      "torch.Size([64, 1, 18])\n",
      "torch.Size([64])\n",
      "torch.Size([64, 1, 18])\n",
      "torch.Size([64])\n",
      "torch.Size([64, 1, 18])\n",
      "torch.Size([64])\n",
      "torch.Size([64, 1, 18])\n",
      "torch.Size([64])\n",
      "torch.Size([64, 1, 18])\n",
      "torch.Size([64])\n",
      "torch.Size([64, 1, 18])\n",
      "torch.Size([64])\n",
      "torch.Size([64, 1, 18])\n",
      "torch.Size([64])\n",
      "torch.Size([64, 1, 18])\n",
      "torch.Size([64])\n",
      "torch.Size([64, 1, 18])\n",
      "torch.Size([64])\n",
      "torch.Size([64, 1, 18])\n",
      "torch.Size([64])\n",
      "torch.Size([64, 1, 18])\n",
      "torch.Size([64])\n",
      "torch.Size([64, 1, 18])\n",
      "torch.Size([64])\n",
      "torch.Size([64, 1, 18])\n",
      "torch.Size([64])\n"
     ]
    },
    {
     "name": "stderr",
     "output_type": "stream",
     "text": [
      "Epoch [4/5], loss_mean=2.533 :  69%|██████▉   | 1306/1898 [00:27<00:07, 79.65it/s]"
     ]
    },
    {
     "name": "stdout",
     "output_type": "stream",
     "text": [
      "torch.Size([64, 1, 18])\n",
      "torch.Size([64])\n",
      "torch.Size([64, 1, 18])\n",
      "torch.Size([64])\n",
      "torch.Size([64, 1, 18])\n",
      "torch.Size([64])\n",
      "torch.Size([64, 1, 18])\n",
      "torch.Size([64])\n",
      "torch.Size([64, 1, 18])\n",
      "torch.Size([64])\n",
      "torch.Size([64, 1, 18])\n",
      "torch.Size([64])\n",
      "torch.Size([64, 1, 18])\n",
      "torch.Size([64])\n",
      "torch.Size([64, 1, 18])\n",
      "torch.Size([64])\n",
      "torch.Size([64, 1, 18])\n",
      "torch.Size([64])\n",
      "torch.Size([64, 1, 18])\n",
      "torch.Size([64])\n",
      "torch.Size([64, 1, 18])\n",
      "torch.Size([64])\n",
      "torch.Size([64, 1, 18])\n",
      "torch.Size([64])\n",
      "torch.Size([64, 1, 18])\n",
      "torch.Size([64])\n",
      "torch.Size([64, 1, 18])\n",
      "torch.Size([64])\n",
      "torch.Size([64, 1, 18])\n",
      "torch.Size([64])\n"
     ]
    },
    {
     "name": "stderr",
     "output_type": "stream",
     "text": [
      "Epoch [4/5], loss_mean=2.533 :  69%|██████▉   | 1306/1898 [00:27<00:07, 79.65it/s]"
     ]
    },
    {
     "name": "stdout",
     "output_type": "stream",
     "text": [
      "torch.Size([64, 1, 18])\n",
      "torch.Size([64])\n",
      "torch.Size([64, 1, 18])\n",
      "torch.Size([64])\n",
      "torch.Size([64, 1, 18])\n",
      "torch.Size([64])\n",
      "torch.Size([64, 1, 18])\n",
      "torch.Size([64])\n"
     ]
    },
    {
     "name": "stderr",
     "output_type": "stream",
     "text": [
      "Epoch [4/5], loss_mean=2.533 :  70%|██████▉   | 1324/1898 [00:27<00:11, 51.01it/s]"
     ]
    },
    {
     "name": "stdout",
     "output_type": "stream",
     "text": [
      "torch.Size([64, 1, 18])\n",
      "torch.Size([64])\n",
      "torch.Size([64, 1, 18])\n",
      "torch.Size([64])\n",
      "torch.Size([64, 1, 18])\n",
      "torch.Size([64])\n",
      "torch.Size([64, 1, 18])\n",
      "torch.Size([64])\n",
      "torch.Size([64, 1, 18])\n",
      "torch.Size([64])\n",
      "torch.Size([64, 1, 18])\n",
      "torch.Size([64])\n",
      "torch.Size([64, 1, 18])\n",
      "torch.Size([64])\n",
      "torch.Size([64, 1, 18])\n",
      "torch.Size([64])\n",
      "torch.Size([64, 1, 18])\n",
      "torch.Size([64])\n",
      "torch.Size([64, 1, 18])\n",
      "torch.Size([64])\n",
      "torch.Size([64, 1, 18])\n",
      "torch.Size([64])\n",
      "torch.Size([64, 1, 18])\n",
      "torch.Size([64])\n",
      "torch.Size([64, 1, 18])\n",
      "torch.Size([64])\n",
      "torch.Size([64, 1, 18])\n",
      "torch.Size([64])\n"
     ]
    },
    {
     "name": "stderr",
     "output_type": "stream",
     "text": [
      "Epoch [4/5], loss_mean=2.533 :  70%|███████   | 1331/1898 [00:27<00:10, 53.85it/s]"
     ]
    },
    {
     "name": "stdout",
     "output_type": "stream",
     "text": [
      "torch.Size([64, 1, 18])\n",
      "torch.Size([64])\n",
      "torch.Size([64, 1, 18])\n",
      "torch.Size([64])\n",
      "torch.Size([64, 1, 18])\n",
      "torch.Size([64])\n",
      "torch.Size([64, 1, 18])\n",
      "torch.Size([64])\n",
      "torch.Size([64, 1, 18])\n",
      "torch.Size([64])\n",
      "torch.Size([64, 1, 18])\n",
      "torch.Size([64])\n",
      "torch.Size([64, 1, 18])\n",
      "torch.Size([64])\n",
      "torch.Size([64, 1, 18])\n",
      "torch.Size([64])\n",
      "torch.Size([64, 1, 18])\n",
      "torch.Size([64])\n",
      "torch.Size([64, 1, 18])\n",
      "torch.Size([64])\n",
      "torch.Size([64, 1, 18])\n",
      "torch.Size([64])\n",
      "torch.Size([64, 1, 18])\n",
      "torch.Size([64])\n",
      "torch.Size([64, 1, 18])\n",
      "torch.Size([64])\n"
     ]
    },
    {
     "name": "stderr",
     "output_type": "stream",
     "text": [
      "Epoch [4/5], loss_mean=2.532 :  71%|███████   | 1347/1898 [00:27<00:08, 62.54it/s]"
     ]
    },
    {
     "name": "stdout",
     "output_type": "stream",
     "text": [
      "torch.Size([64, 1, 18])\n",
      "torch.Size([64])\n",
      "torch.Size([64, 1, 18])\n",
      "torch.Size([64])\n",
      "torch.Size([64, 1, 18])\n",
      "torch.Size([64])\n",
      "torch.Size([64, 1, 18])\n",
      "torch.Size([64])\n",
      "torch.Size([64, 1, 18])\n",
      "torch.Size([64])\n",
      "torch.Size([64, 1, 18])\n",
      "torch.Size([64])\n",
      "torch.Size([64, 1, 18])\n",
      "torch.Size([64])\n",
      "torch.Size([64, 1, 18])\n",
      "torch.Size([64])\n",
      "torch.Size([64, 1, 18])\n",
      "torch.Size([64])\n",
      "torch.Size([64, 1, 18])\n",
      "torch.Size([64])\n",
      "torch.Size([64, 1, 18])\n",
      "torch.Size([64])\n",
      "torch.Size([64, 1, 18])\n",
      "torch.Size([64])\n",
      "torch.Size([64, 1, 18])\n",
      "torch.Size([64])\n",
      "torch.Size([64, 1, 18])\n",
      "torch.Size([64])\n"
     ]
    },
    {
     "name": "stderr",
     "output_type": "stream",
     "text": [
      "Epoch [4/5], loss_mean=2.532 :  71%|███████▏  | 1355/1898 [00:28<00:08, 65.32it/s]"
     ]
    },
    {
     "name": "stdout",
     "output_type": "stream",
     "text": [
      "torch.Size([64, 1, 18])\n",
      "torch.Size([64])\n",
      "torch.Size([64, 1, 18])\n",
      "torch.Size([64])\n",
      "torch.Size([64, 1, 18])\n",
      "torch.Size([64])\n",
      "torch.Size([64, 1, 18])\n",
      "torch.Size([64])\n",
      "torch.Size([64, 1, 18])\n",
      "torch.Size([64])\n",
      "torch.Size([64, 1, 18])\n",
      "torch.Size([64])\n",
      "torch.Size([64, 1, 18])\n",
      "torch.Size([64])\n",
      "torch.Size([64, 1, 18])\n",
      "torch.Size([64])\n",
      "torch.Size([64, 1, 18])\n",
      "torch.Size([64])\n",
      "torch.Size([64, 1, 18])\n",
      "torch.Size([64])\n",
      "torch.Size([64, 1, 18])\n",
      "torch.Size([64])\n"
     ]
    },
    {
     "name": "stderr",
     "output_type": "stream",
     "text": [
      "Epoch [4/5], loss_mean=2.532 :  72%|███████▏  | 1370/1898 [00:28<00:09, 58.06it/s]"
     ]
    },
    {
     "name": "stdout",
     "output_type": "stream",
     "text": [
      "torch.Size([64, 1, 18])\n",
      "torch.Size([64])\n",
      "torch.Size([64, 1, 18])\n",
      "torch.Size([64])\n",
      "torch.Size([64, 1, 18])\n",
      "torch.Size([64])\n",
      "torch.Size([64, 1, 18])\n",
      "torch.Size([64])\n",
      "torch.Size([64, 1, 18])\n",
      "torch.Size([64])\n",
      "torch.Size([64, 1, 18])\n",
      "torch.Size([64])\n",
      "torch.Size([64, 1, 18])\n",
      "torch.Size([64])\n",
      "torch.Size([64, 1, 18])\n",
      "torch.Size([64])\n",
      "torch.Size([64, 1, 18])\n",
      "torch.Size([64])\n",
      "torch.Size([64, 1, 18])\n",
      "torch.Size([64])\n",
      "torch.Size([64, 1, 18])\n",
      "torch.Size([64])\n",
      "torch.Size([64, 1, 18])\n",
      "torch.Size([64])\n"
     ]
    },
    {
     "name": "stderr",
     "output_type": "stream",
     "text": [
      "Epoch [4/5], loss_mean=2.532 :  73%|███████▎  | 1387/1898 [00:28<00:07, 67.76it/s]"
     ]
    },
    {
     "name": "stdout",
     "output_type": "stream",
     "text": [
      "torch.Size([64, 1, 18])\n",
      "torch.Size([64])\n",
      "torch.Size([64, 1, 18])\n",
      "torch.Size([64])\n",
      "torch.Size([64, 1, 18])\n",
      "torch.Size([64])\n",
      "torch.Size([64, 1, 18])\n",
      "torch.Size([64])\n",
      "torch.Size([64, 1, 18])\n",
      "torch.Size([64])\n",
      "torch.Size([64, 1, 18])\n",
      "torch.Size([64])\n",
      "torch.Size([64, 1, 18])\n",
      "torch.Size([64])\n",
      "torch.Size([64, 1, 18])\n",
      "torch.Size([64])\n",
      "torch.Size([64, 1, 18])\n",
      "torch.Size([64])\n",
      "torch.Size([64, 1, 18])\n",
      "torch.Size([64])\n",
      "torch.Size([64, 1, 18])\n",
      "torch.Size([64])\n",
      "torch.Size([64, 1, 18])\n",
      "torch.Size([64])\n",
      "torch.Size([64, 1, 18])\n",
      "torch.Size([64])\n",
      "torch.Size([64, 1, 18])\n",
      "torch.Size([64])\n"
     ]
    },
    {
     "name": "stderr",
     "output_type": "stream",
     "text": [
      "Epoch [4/5], loss_mean=2.532 :  73%|███████▎  | 1395/1898 [00:28<00:07, 65.15it/s]"
     ]
    },
    {
     "name": "stdout",
     "output_type": "stream",
     "text": [
      "torch.Size([64, 1, 18])\n",
      "torch.Size([64])\n",
      "torch.Size([64, 1, 18])\n",
      "torch.Size([64])\n",
      "torch.Size([64, 1, 18])\n",
      "torch.Size([64])\n",
      "torch.Size([64, 1, 18])\n",
      "torch.Size([64])\n",
      "torch.Size([64, 1, 18])\n",
      "torch.Size([64])\n",
      "torch.Size([64, 1, 18])\n",
      "torch.Size([64])\n",
      "torch.Size([64, 1, 18])\n",
      "torch.Size([64])\n",
      "torch.Size([64, 1, 18])\n",
      "torch.Size([64])\n",
      "torch.Size([64, 1, 18])\n",
      "torch.Size([64])\n",
      "torch.Size([64, 1, 18])\n",
      "torch.Size([64])\n",
      "torch.Size([64, 1, 18])\n",
      "torch.Size([64])\n",
      "torch.Size([64, 1, 18])\n",
      "torch.Size([64])\n"
     ]
    },
    {
     "name": "stderr",
     "output_type": "stream",
     "text": [
      "Epoch [4/5], loss_mean=2.532 :  74%|███████▍  | 1410/1898 [00:28<00:07, 63.12it/s]"
     ]
    },
    {
     "name": "stdout",
     "output_type": "stream",
     "text": [
      "torch.Size([64, 1, 18])\n",
      "torch.Size([64])\n",
      "torch.Size([64, 1, 18])\n",
      "torch.Size([64])\n",
      "torch.Size([64, 1, 18])\n",
      "torch.Size([64])\n",
      "torch.Size([64, 1, 18])\n",
      "torch.Size([64])\n",
      "torch.Size([64, 1, 18])\n",
      "torch.Size([64])\n",
      "torch.Size([64, 1, 18])\n",
      "torch.Size([64])\n",
      "torch.Size([64, 1, 18])\n",
      "torch.Size([64])\n",
      "torch.Size([64, 1, 18])\n",
      "torch.Size([64])\n",
      "torch.Size([64, 1, 18])\n",
      "torch.Size([64])\n",
      "torch.Size([64, 1, 18])\n",
      "torch.Size([64])\n"
     ]
    },
    {
     "name": "stderr",
     "output_type": "stream",
     "text": [
      "Epoch [4/5], loss_mean=2.532 :  74%|███████▍  | 1410/1898 [00:29<00:07, 63.12it/s]"
     ]
    },
    {
     "name": "stdout",
     "output_type": "stream",
     "text": [
      "torch.Size([64, 1, 18])\n",
      "torch.Size([64])\n",
      "torch.Size([64, 1, 18])\n",
      "torch.Size([64])\n",
      "torch.Size([64, 1, 18])\n",
      "torch.Size([64])\n",
      "torch.Size([64, 1, 18])\n",
      "torch.Size([64])\n",
      "torch.Size([64, 1, 18])\n",
      "torch.Size([64])\n",
      "torch.Size([64, 1, 18])\n",
      "torch.Size([64])\n"
     ]
    },
    {
     "name": "stderr",
     "output_type": "stream",
     "text": [
      "Epoch [4/5], loss_mean=2.532 :  75%|███████▍  | 1423/1898 [00:29<00:12, 38.68it/s]"
     ]
    },
    {
     "name": "stdout",
     "output_type": "stream",
     "text": [
      "torch.Size([64, 1, 18])\n",
      "torch.Size([64])\n",
      "torch.Size([64, 1, 18])\n",
      "torch.Size([64])\n",
      "torch.Size([64, 1, 18])\n",
      "torch.Size([64])\n",
      "torch.Size([64, 1, 18])\n",
      "torch.Size([64])\n",
      "torch.Size([64, 1, 18])\n",
      "torch.Size([64])\n",
      "torch.Size([64, 1, 18])\n",
      "torch.Size([64])\n",
      "torch.Size([64, 1, 18])\n",
      "torch.Size([64])\n",
      "torch.Size([64, 1, 18])\n",
      "torch.Size([64])\n",
      "torch.Size([64, 1, 18])\n",
      "torch.Size([64])\n",
      "torch.Size([64, 1, 18])\n",
      "torch.Size([64])\n"
     ]
    },
    {
     "name": "stderr",
     "output_type": "stream",
     "text": [
      "Epoch [4/5], loss_mean=2.532 :  76%|███████▌  | 1438/1898 [00:29<00:08, 51.46it/s]"
     ]
    },
    {
     "name": "stdout",
     "output_type": "stream",
     "text": [
      "torch.Size([64, 1, 18])\n",
      "torch.Size([64])\n",
      "torch.Size([64, 1, 18])\n",
      "torch.Size([64])\n",
      "torch.Size([64, 1, 18])\n",
      "torch.Size([64])\n",
      "torch.Size([64, 1, 18])\n",
      "torch.Size([64])\n",
      "torch.Size([64, 1, 18])\n",
      "torch.Size([64])\n",
      "torch.Size([64, 1, 18])\n",
      "torch.Size([64])\n",
      "torch.Size([64, 1, 18])\n",
      "torch.Size([64])\n",
      "torch.Size([64, 1, 18])\n",
      "torch.Size([64])\n",
      "torch.Size([64, 1, 18])\n",
      "torch.Size([64])\n",
      "torch.Size([64, 1, 18])\n",
      "torch.Size([64])\n",
      "torch.Size([64, 1, 18])\n",
      "torch.Size([64])\n",
      "torch.Size([64, 1, 18])\n",
      "torch.Size([64])\n",
      "torch.Size([64, 1, 18])\n",
      "torch.Size([64])\n",
      "torch.Size([64, 1, 18])\n",
      "torch.Size([64])\n",
      "torch.Size([64, 1, 18])\n",
      "torch.Size([64])\n"
     ]
    },
    {
     "name": "stderr",
     "output_type": "stream",
     "text": [
      "Epoch [4/5], loss_mean=2.532 :  77%|███████▋  | 1456/1898 [00:29<00:06, 65.91it/s]"
     ]
    },
    {
     "name": "stdout",
     "output_type": "stream",
     "text": [
      "torch.Size([64, 1, 18])\n",
      "torch.Size([64])\n",
      "torch.Size([64, 1, 18])\n",
      "torch.Size([64])\n",
      "torch.Size([64, 1, 18])\n",
      "torch.Size([64])\n",
      "torch.Size([64, 1, 18])\n",
      "torch.Size([64])\n",
      "torch.Size([64, 1, 18])\n",
      "torch.Size([64])\n",
      "torch.Size([64, 1, 18])\n",
      "torch.Size([64])\n",
      "torch.Size([64, 1, 18])\n",
      "torch.Size([64])\n",
      "torch.Size([64, 1, 18])\n",
      "torch.Size([64])\n",
      "torch.Size([64, 1, 18])\n",
      "torch.Size([64])\n",
      "torch.Size([64, 1, 18])\n",
      "torch.Size([64])\n",
      "torch.Size([64, 1, 18])\n",
      "torch.Size([64])\n",
      "torch.Size([64, 1, 18])\n",
      "torch.Size([64])\n",
      "torch.Size([64, 1, 18])\n",
      "torch.Size([64])\n",
      "torch.Size([64, 1, 18])\n",
      "torch.Size([64])\n",
      "torch.Size([64, 1, 18])\n",
      "torch.Size([64])\n",
      "torch.Size([64, 1, 18])\n",
      "torch.Size([64])\n",
      "torch.Size([64, 1, 18])\n",
      "torch.Size([64])\n"
     ]
    },
    {
     "name": "stderr",
     "output_type": "stream",
     "text": [
      "Epoch [4/5], loss_mean=2.532 :  78%|███████▊  | 1474/1898 [00:29<00:05, 75.94it/s]"
     ]
    },
    {
     "name": "stdout",
     "output_type": "stream",
     "text": [
      "torch.Size([64, 1, 18])\n",
      "torch.Size([64])\n",
      "torch.Size([64, 1, 18])\n",
      "torch.Size([64])\n",
      "torch.Size([64, 1, 18])\n",
      "torch.Size([64])\n",
      "torch.Size([64, 1, 18])\n",
      "torch.Size([64])\n",
      "torch.Size([64, 1, 18])\n",
      "torch.Size([64])\n",
      "torch.Size([64, 1, 18])\n",
      "torch.Size([64])\n",
      "torch.Size([64, 1, 18])\n",
      "torch.Size([64])\n",
      "torch.Size([64, 1, 18])\n",
      "torch.Size([64])\n",
      "torch.Size([64, 1, 18])\n",
      "torch.Size([64])\n",
      "torch.Size([64, 1, 18])\n",
      "torch.Size([64])\n",
      "torch.Size([64, 1, 18])\n",
      "torch.Size([64])\n",
      "torch.Size([64, 1, 18])\n",
      "torch.Size([64])\n",
      "torch.Size([64, 1, 18])\n",
      "torch.Size([64])\n",
      "torch.Size([64, 1, 18])\n",
      "torch.Size([64])\n",
      "torch.Size([64, 1, 18])\n",
      "torch.Size([64])\n",
      "torch.Size([64, 1, 18])\n",
      "torch.Size([64])\n"
     ]
    },
    {
     "name": "stderr",
     "output_type": "stream",
     "text": [
      "Epoch [4/5], loss_mean=2.532 :  78%|███████▊  | 1483/1898 [00:30<00:05, 79.29it/s]"
     ]
    },
    {
     "name": "stdout",
     "output_type": "stream",
     "text": [
      "torch.Size([64, 1, 18])\n",
      "torch.Size([64])\n",
      "torch.Size([64, 1, 18])\n",
      "torch.Size([64])\n",
      "torch.Size([64, 1, 18])\n",
      "torch.Size([64])\n",
      "torch.Size([64, 1, 18])\n",
      "torch.Size([64])\n",
      "torch.Size([64, 1, 18])\n",
      "torch.Size([64])\n",
      "torch.Size([64, 1, 18])\n",
      "torch.Size([64])\n",
      "torch.Size([64, 1, 18])\n",
      "torch.Size([64])\n",
      "torch.Size([64, 1, 18])\n",
      "torch.Size([64])\n",
      "torch.Size([64, 1, 18])\n",
      "torch.Size([64])\n",
      "torch.Size([64, 1, 18])\n",
      "torch.Size([64])\n",
      "torch.Size([64, 1, 18])\n",
      "torch.Size([64])\n",
      "torch.Size([64, 1, 18])\n",
      "torch.Size([64])\n",
      "torch.Size([64, 1, 18])\n",
      "torch.Size([64])\n",
      "torch.Size([64, 1, 18])\n",
      "torch.Size([64])\n",
      "torch.Size([64, 1, 18])\n",
      "torch.Size([64])\n",
      "torch.Size([64, 1, 18])\n",
      "torch.Size([64])\n",
      "torch.Size([64, 1, 18])\n",
      "torch.Size([64])\n",
      "torch.Size([64, 1, 18])\n",
      "torch.Size([64])\n"
     ]
    },
    {
     "name": "stderr",
     "output_type": "stream",
     "text": [
      "Epoch [4/5], loss_mean=2.532 :  79%|███████▉  | 1506/1898 [00:30<00:04, 83.04it/s]"
     ]
    },
    {
     "name": "stdout",
     "output_type": "stream",
     "text": [
      "torch.Size([64, 1, 18])\n",
      "torch.Size([64])\n",
      "torch.Size([64, 1, 18])\n",
      "torch.Size([64])\n",
      "torch.Size([64, 1, 18])\n",
      "torch.Size([64])\n",
      "torch.Size([64, 1, 18])\n",
      "torch.Size([64])\n",
      "torch.Size([64, 1, 18])\n",
      "torch.Size([64])\n",
      "torch.Size([64, 1, 18])\n",
      "torch.Size([64])\n",
      "torch.Size([64, 1, 18])\n",
      "torch.Size([64])\n",
      "torch.Size([64, 1, 18])\n",
      "torch.Size([64])\n",
      "torch.Size([64, 1, 18])\n",
      "torch.Size([64])\n",
      "torch.Size([64, 1, 18])\n",
      "torch.Size([64])\n",
      "torch.Size([64, 1, 18])\n",
      "torch.Size([64])\n",
      "torch.Size([64, 1, 18])\n",
      "torch.Size([64])\n",
      "torch.Size([64, 1, 18])\n",
      "torch.Size([64])\n",
      "torch.Size([64, 1, 18])\n",
      "torch.Size([64])\n"
     ]
    },
    {
     "name": "stderr",
     "output_type": "stream",
     "text": [
      "Epoch [4/5], loss_mean=2.532 :  80%|███████▉  | 1515/1898 [00:30<00:07, 48.80it/s]"
     ]
    },
    {
     "name": "stdout",
     "output_type": "stream",
     "text": [
      "torch.Size([64, 1, 18])\n",
      "torch.Size([64])\n",
      "torch.Size([64, 1, 18])\n",
      "torch.Size([64])\n",
      "torch.Size([64, 1, 18])\n",
      "torch.Size([64])\n",
      "torch.Size([64, 1, 18])\n",
      "torch.Size([64])\n",
      "torch.Size([64, 1, 18])\n",
      "torch.Size([64])\n",
      "torch.Size([64, 1, 18])\n",
      "torch.Size([64])\n",
      "torch.Size([64, 1, 18])\n",
      "torch.Size([64])\n",
      "torch.Size([64, 1, 18])\n",
      "torch.Size([64])\n",
      "torch.Size([64, 1, 18])\n",
      "torch.Size([64])\n"
     ]
    },
    {
     "name": "stderr",
     "output_type": "stream",
     "text": [
      "Epoch [4/5], loss_mean=2.532 :  80%|████████  | 1527/1898 [00:30<00:06, 59.61it/s]"
     ]
    },
    {
     "name": "stdout",
     "output_type": "stream",
     "text": [
      "torch.Size([64, 1, 18])\n",
      "torch.Size([64])\n",
      "torch.Size([64, 1, 18])\n",
      "torch.Size([64])\n",
      "torch.Size([64, 1, 18])\n",
      "torch.Size([64])\n",
      "torch.Size([64, 1, 18])\n",
      "torch.Size([64])\n",
      "torch.Size([64, 1, 18])\n",
      "torch.Size([64])\n",
      "torch.Size([64, 1, 18])\n",
      "torch.Size([64])\n",
      "torch.Size([64, 1, 18])\n",
      "torch.Size([64])\n",
      "torch.Size([64, 1, 18])\n",
      "torch.Size([64])\n",
      "torch.Size([64, 1, 18])\n",
      "torch.Size([64])\n",
      "torch.Size([64, 1, 18])\n",
      "torch.Size([64])\n",
      "torch.Size([64, 1, 18])\n",
      "torch.Size([64])\n",
      "torch.Size([64, 1, 18])\n",
      "torch.Size([64])\n",
      "torch.Size([64, 1, 18])\n",
      "torch.Size([64])\n",
      "torch.Size([64, 1, 18])\n",
      "torch.Size([64])\n",
      "torch.Size([64, 1, 18])\n",
      "torch.Size([64])\n",
      "torch.Size([64, 1, 18])\n",
      "torch.Size([64])\n",
      "torch.Size([64, 1, 18])\n",
      "torch.Size([64])\n",
      "torch.Size([64, 1, 18])\n",
      "torch.Size([64])\n",
      "torch.Size([64, 1, 18])\n",
      "torch.Size([64])\n",
      "torch.Size([64, 1, 18])\n",
      "torch.Size([64])\n"
     ]
    },
    {
     "name": "stderr",
     "output_type": "stream",
     "text": [
      "Epoch [4/5], loss_mean=2.532 :  82%|████████▏ | 1548/1898 [00:31<00:04, 75.23it/s]"
     ]
    },
    {
     "name": "stdout",
     "output_type": "stream",
     "text": [
      "torch.Size([64, 1, 18])\n",
      "torch.Size([64])\n",
      "torch.Size([64, 1, 18])\n",
      "torch.Size([64])\n",
      "torch.Size([64, 1, 18])\n",
      "torch.Size([64])\n",
      "torch.Size([64, 1, 18])\n",
      "torch.Size([64])\n",
      "torch.Size([64, 1, 18])\n",
      "torch.Size([64])\n",
      "torch.Size([64, 1, 18])\n",
      "torch.Size([64])\n",
      "torch.Size([64, 1, 18])\n",
      "torch.Size([64])\n",
      "torch.Size([64, 1, 18])\n",
      "torch.Size([64])\n",
      "torch.Size([64, 1, 18])\n",
      "torch.Size([64])\n",
      "torch.Size([64, 1, 18])\n",
      "torch.Size([64])\n",
      "torch.Size([64, 1, 18])\n",
      "torch.Size([64])\n",
      "torch.Size([64, 1, 18])\n",
      "torch.Size([64])\n",
      "torch.Size([64, 1, 18])\n",
      "torch.Size([64])\n",
      "torch.Size([64, 1, 18])\n",
      "torch.Size([64])\n",
      "torch.Size([64, 1, 18])\n",
      "torch.Size([64])\n",
      "torch.Size([64, 1, 18])\n",
      "torch.Size([64])\n",
      "torch.Size([64, 1, 18])\n",
      "torch.Size([64])\n",
      "torch.Size([64, 1, 18])\n",
      "torch.Size([64])\n",
      "torch.Size([64, 1, 18])\n",
      "torch.Size([64])\n",
      "torch.Size([64, 1, 18])\n",
      "torch.Size([64])\n"
     ]
    },
    {
     "name": "stderr",
     "output_type": "stream",
     "text": [
      "Epoch [4/5], loss_mean=2.532 :  83%|████████▎ | 1568/1898 [00:31<00:04, 77.54it/s]"
     ]
    },
    {
     "name": "stdout",
     "output_type": "stream",
     "text": [
      "torch.Size([64, 1, 18])\n",
      "torch.Size([64])\n",
      "torch.Size([64, 1, 18])\n",
      "torch.Size([64])\n",
      "torch.Size([64, 1, 18])\n",
      "torch.Size([64])\n",
      "torch.Size([64, 1, 18])\n",
      "torch.Size([64])\n",
      "torch.Size([64, 1, 18])\n",
      "torch.Size([64])\n",
      "torch.Size([64, 1, 18])\n",
      "torch.Size([64])\n",
      "torch.Size([64, 1, 18])\n",
      "torch.Size([64])\n",
      "torch.Size([64, 1, 18])\n",
      "torch.Size([64])\n",
      "torch.Size([64, 1, 18])\n",
      "torch.Size([64])\n",
      "torch.Size([64, 1, 18])\n",
      "torch.Size([64])\n",
      "torch.Size([64, 1, 18])\n",
      "torch.Size([64])\n",
      "torch.Size([64, 1, 18])\n",
      "torch.Size([64])\n",
      "torch.Size([64, 1, 18])\n",
      "torch.Size([64])\n",
      "torch.Size([64, 1, 18])\n",
      "torch.Size([64])\n",
      "torch.Size([64, 1, 18])\n",
      "torch.Size([64])\n"
     ]
    },
    {
     "name": "stderr",
     "output_type": "stream",
     "text": [
      "Epoch [4/5], loss_mean=2.532 :  83%|████████▎ | 1579/1898 [00:31<00:03, 82.45it/s]"
     ]
    },
    {
     "name": "stdout",
     "output_type": "stream",
     "text": [
      "torch.Size([64, 1, 18])\n",
      "torch.Size([64])\n",
      "torch.Size([64, 1, 18])\n",
      "torch.Size([64])\n",
      "torch.Size([64, 1, 18])\n",
      "torch.Size([64])\n",
      "torch.Size([64, 1, 18])\n",
      "torch.Size([64])\n",
      "torch.Size([64, 1, 18])\n",
      "torch.Size([64])\n",
      "torch.Size([64, 1, 18])\n",
      "torch.Size([64])\n",
      "torch.Size([64, 1, 18])\n",
      "torch.Size([64])\n",
      "torch.Size([64, 1, 18])\n",
      "torch.Size([64])\n",
      "torch.Size([64, 1, 18])\n",
      "torch.Size([64])\n",
      "torch.Size([64, 1, 18])\n",
      "torch.Size([64])\n",
      "torch.Size([64, 1, 18])\n",
      "torch.Size([64])\n",
      "torch.Size([64, 1, 18])\n",
      "torch.Size([64])\n",
      "torch.Size([64, 1, 18])\n",
      "torch.Size([64])\n",
      "torch.Size([64, 1, 18])\n",
      "torch.Size([64])\n",
      "torch.Size([64, 1, 18])\n",
      "torch.Size([64])\n",
      "torch.Size([64, 1, 18])\n",
      "torch.Size([64])\n",
      "torch.Size([64, 1, 18])\n",
      "torch.Size([64])\n",
      "torch.Size([64, 1, 18])\n",
      "torch.Size([64])\n",
      "torch.Size([64, 1, 18])\n",
      "torch.Size([64])\n"
     ]
    },
    {
     "name": "stderr",
     "output_type": "stream",
     "text": [
      "Epoch [4/5], loss_mean=2.532 :  84%|████████▍ | 1602/1898 [00:31<00:03, 93.47it/s]"
     ]
    },
    {
     "name": "stdout",
     "output_type": "stream",
     "text": [
      "torch.Size([64, 1, 18])\n",
      "torch.Size([64])\n",
      "torch.Size([64, 1, 18])\n",
      "torch.Size([64])\n",
      "torch.Size([64, 1, 18])\n",
      "torch.Size([64])\n",
      "torch.Size([64, 1, 18])\n",
      "torch.Size([64])\n",
      "torch.Size([64, 1, 18])\n",
      "torch.Size([64])\n",
      "torch.Size([64, 1, 18])\n",
      "torch.Size([64])\n",
      "torch.Size([64, 1, 18])\n",
      "torch.Size([64])\n",
      "torch.Size([64, 1, 18])\n",
      "torch.Size([64])\n",
      "torch.Size([64, 1, 18])\n",
      "torch.Size([64])\n",
      "torch.Size([64, 1, 18])\n",
      "torch.Size([64])\n",
      "torch.Size([64, 1, 18])\n",
      "torch.Size([64])\n",
      "torch.Size([64, 1, 18])\n",
      "torch.Size([64])\n",
      "torch.Size([64, 1, 18])\n",
      "torch.Size([64])\n",
      "torch.Size([64, 1, 18])\n",
      "torch.Size([64])\n",
      "torch.Size([64, 1, 18])\n",
      "torch.Size([64])\n",
      "torch.Size([64, 1, 18])\n",
      "torch.Size([64])\n",
      "torch.Size([64, 1, 18])\n",
      "torch.Size([64])\n",
      "torch.Size([64, 1, 18])\n",
      "torch.Size([64])\n",
      "torch.Size([64, 1, 18])\n",
      "torch.Size([64])\n"
     ]
    },
    {
     "name": "stderr",
     "output_type": "stream",
     "text": [
      "Epoch [4/5], loss_mean=2.532 :  86%|████████▌ | 1626/1898 [00:31<00:02, 102.68it/s]"
     ]
    },
    {
     "name": "stdout",
     "output_type": "stream",
     "text": [
      "torch.Size([64, 1, 18])\n",
      "torch.Size([64])\n",
      "torch.Size([64, 1, 18])\n",
      "torch.Size([64])\n",
      "torch.Size([64, 1, 18])\n",
      "torch.Size([64])\n",
      "torch.Size([64, 1, 18])\n",
      "torch.Size([64])\n",
      "torch.Size([64, 1, 18])\n",
      "torch.Size([64])\n",
      "torch.Size([64, 1, 18])\n",
      "torch.Size([64])\n",
      "torch.Size([64, 1, 18])\n",
      "torch.Size([64])\n",
      "torch.Size([64, 1, 18])\n",
      "torch.Size([64])\n",
      "torch.Size([64, 1, 18])\n",
      "torch.Size([64])\n",
      "torch.Size([64, 1, 18])\n",
      "torch.Size([64])\n",
      "torch.Size([64, 1, 18])\n",
      "torch.Size([64])\n",
      "torch.Size([64, 1, 18])\n",
      "torch.Size([64])\n",
      "torch.Size([64, 1, 18])\n",
      "torch.Size([64])\n",
      "torch.Size([64, 1, 18])\n",
      "torch.Size([64])\n",
      "torch.Size([64, 1, 18])\n",
      "torch.Size([64])\n",
      "torch.Size([64, 1, 18])\n",
      "torch.Size([64])\n",
      "torch.Size([64, 1, 18])\n",
      "torch.Size([64])\n",
      "torch.Size([64, 1, 18])\n",
      "torch.Size([64])\n",
      "torch.Size([64, 1, 18])\n",
      "torch.Size([64])\n",
      "torch.Size([64, 1, 18])\n",
      "torch.Size([64])\n",
      "torch.Size([64, 1, 18])\n",
      "torch.Size([64])\n"
     ]
    },
    {
     "name": "stderr",
     "output_type": "stream",
     "text": [
      "Epoch [4/5], loss_mean=2.532 :  86%|████████▌ | 1637/1898 [00:32<00:02, 100.09it/s]"
     ]
    },
    {
     "name": "stdout",
     "output_type": "stream",
     "text": [
      "torch.Size([64, 1, 18])\n",
      "torch.Size([64])\n",
      "torch.Size([64, 1, 18])\n",
      "torch.Size([64])\n",
      "torch.Size([64, 1, 18])\n",
      "torch.Size([64])\n",
      "torch.Size([64, 1, 18])\n",
      "torch.Size([64])\n",
      "torch.Size([64, 1, 18])\n",
      "torch.Size([64])\n",
      "torch.Size([64, 1, 18])\n",
      "torch.Size([64])\n",
      "torch.Size([64, 1, 18])\n",
      "torch.Size([64])\n",
      "torch.Size([64, 1, 18])\n",
      "torch.Size([64])\n",
      "torch.Size([64, 1, 18])\n",
      "torch.Size([64])\n",
      "torch.Size([64, 1, 18])\n",
      "torch.Size([64])\n",
      "torch.Size([64, 1, 18])\n",
      "torch.Size([64])\n",
      "torch.Size([64, 1, 18])\n",
      "torch.Size([64])\n",
      "torch.Size([64, 1, 18])\n",
      "torch.Size([64])\n",
      "torch.Size([64, 1, 18])\n",
      "torch.Size([64])\n",
      "torch.Size([64, 1, 18])\n",
      "torch.Size([64])\n",
      "torch.Size([64, 1, 18])\n",
      "torch.Size([64])\n",
      "torch.Size([64, 1, 18])\n",
      "torch.Size([64])\n",
      "torch.Size([64, 1, 18])\n",
      "torch.Size([64])\n"
     ]
    },
    {
     "name": "stderr",
     "output_type": "stream",
     "text": [
      "Epoch [4/5], loss_mean=2.532 :  87%|████████▋ | 1648/1898 [00:32<00:02, 101.43it/s]"
     ]
    },
    {
     "name": "stdout",
     "output_type": "stream",
     "text": [
      "torch.Size([64, 1, 18])\n",
      "torch.Size([64])\n",
      "torch.Size([64, 1, 18])\n",
      "torch.Size([64])\n",
      "torch.Size([64, 1, 18])\n",
      "torch.Size([64])\n",
      "torch.Size([64, 1, 18])\n",
      "torch.Size([64])\n",
      "torch.Size([64, 1, 18])\n",
      "torch.Size([64])\n"
     ]
    },
    {
     "name": "stderr",
     "output_type": "stream",
     "text": [
      "Epoch [4/5], loss_mean=2.532 :  87%|████████▋ | 1659/1898 [00:32<00:03, 65.36it/s] "
     ]
    },
    {
     "name": "stdout",
     "output_type": "stream",
     "text": [
      "torch.Size([64, 1, 18])\n",
      "torch.Size([64])\n",
      "torch.Size([64, 1, 18])\n",
      "torch.Size([64])\n",
      "torch.Size([64, 1, 18])\n",
      "torch.Size([64])\n",
      "torch.Size([64, 1, 18])\n",
      "torch.Size([64])\n",
      "torch.Size([64, 1, 18])\n",
      "torch.Size([64])\n",
      "torch.Size([64, 1, 18])\n",
      "torch.Size([64])\n",
      "torch.Size([64, 1, 18])\n",
      "torch.Size([64])\n",
      "torch.Size([64, 1, 18])\n",
      "torch.Size([64])\n",
      "torch.Size([64, 1, 18])\n",
      "torch.Size([64])\n",
      "torch.Size([64, 1, 18])\n",
      "torch.Size([64])\n",
      "torch.Size([64, 1, 18])\n",
      "torch.Size([64])\n",
      "torch.Size([64, 1, 18])\n",
      "torch.Size([64])\n",
      "torch.Size([64, 1, 18])\n",
      "torch.Size([64])\n",
      "torch.Size([64, 1, 18])\n",
      "torch.Size([64])\n",
      "torch.Size([64, 1, 18])\n",
      "torch.Size([64])\n"
     ]
    },
    {
     "name": "stderr",
     "output_type": "stream",
     "text": [
      "Epoch [4/5], loss_mean=2.532 :  89%|████████▊ | 1680/1898 [00:32<00:02, 77.27it/s]"
     ]
    },
    {
     "name": "stdout",
     "output_type": "stream",
     "text": [
      "torch.Size([64, 1, 18])\n",
      "torch.Size([64])\n",
      "torch.Size([64, 1, 18])\n",
      "torch.Size([64])\n",
      "torch.Size([64, 1, 18])\n",
      "torch.Size([64])\n",
      "torch.Size([64, 1, 18])\n",
      "torch.Size([64])\n",
      "torch.Size([64, 1, 18])\n",
      "torch.Size([64])\n",
      "torch.Size([64, 1, 18])\n",
      "torch.Size([64])\n",
      "torch.Size([64, 1, 18])\n",
      "torch.Size([64])\n",
      "torch.Size([64, 1, 18])\n",
      "torch.Size([64])\n",
      "torch.Size([64, 1, 18])\n",
      "torch.Size([64])\n",
      "torch.Size([64, 1, 18])\n",
      "torch.Size([64])\n",
      "torch.Size([64, 1, 18])\n",
      "torch.Size([64])\n",
      "torch.Size([64, 1, 18])\n",
      "torch.Size([64])\n",
      "torch.Size([64, 1, 18])\n",
      "torch.Size([64])\n",
      "torch.Size([64, 1, 18])\n",
      "torch.Size([64])\n",
      "torch.Size([64, 1, 18])\n",
      "torch.Size([64])\n",
      "torch.Size([64, 1, 18])\n",
      "torch.Size([64])\n",
      "torch.Size([64, 1, 18])\n",
      "torch.Size([64])\n"
     ]
    },
    {
     "name": "stderr",
     "output_type": "stream",
     "text": [
      "Epoch [4/5], loss_mean=2.532 :  90%|████████▉ | 1703/1898 [00:32<00:02, 89.47it/s]"
     ]
    },
    {
     "name": "stdout",
     "output_type": "stream",
     "text": [
      "torch.Size([64, 1, 18])\n",
      "torch.Size([64])\n",
      "torch.Size([64, 1, 18])\n",
      "torch.Size([64])\n",
      "torch.Size([64, 1, 18])\n",
      "torch.Size([64])\n",
      "torch.Size([64, 1, 18])\n",
      "torch.Size([64])\n",
      "torch.Size([64, 1, 18])\n",
      "torch.Size([64])\n",
      "torch.Size([64, 1, 18])\n",
      "torch.Size([64])\n",
      "torch.Size([64, 1, 18])\n",
      "torch.Size([64])\n",
      "torch.Size([64, 1, 18])\n",
      "torch.Size([64])\n",
      "torch.Size([64, 1, 18])\n",
      "torch.Size([64])\n",
      "torch.Size([64, 1, 18])\n",
      "torch.Size([64])\n",
      "torch.Size([64, 1, 18])\n",
      "torch.Size([64])\n",
      "torch.Size([64, 1, 18])\n",
      "torch.Size([64])\n",
      "torch.Size([64, 1, 18])\n",
      "torch.Size([64])\n",
      "torch.Size([64, 1, 18])\n",
      "torch.Size([64])\n",
      "torch.Size([64, 1, 18])\n",
      "torch.Size([64])\n",
      "torch.Size([64, 1, 18])\n",
      "torch.Size([64])\n",
      "torch.Size([64, 1, 18])\n",
      "torch.Size([64])\n",
      "torch.Size([64, 1, 18])\n",
      "torch.Size([64])\n",
      "torch.Size([64, 1, 18])\n",
      "torch.Size([64])\n",
      "torch.Size([64, 1, 18])\n",
      "torch.Size([64])\n",
      "torch.Size([64, 1, 18])\n",
      "torch.Size([64])\n"
     ]
    },
    {
     "name": "stderr",
     "output_type": "stream",
     "text": [
      "Epoch [4/5], loss_mean=2.532 :  90%|█████████ | 1714/1898 [00:33<00:01, 92.39it/s]"
     ]
    },
    {
     "name": "stdout",
     "output_type": "stream",
     "text": [
      "torch.Size([64, 1, 18])\n",
      "torch.Size([64])\n",
      "torch.Size([64, 1, 18])\n",
      "torch.Size([64])\n",
      "torch.Size([64, 1, 18])\n",
      "torch.Size([64])\n",
      "torch.Size([64, 1, 18])\n",
      "torch.Size([64])\n",
      "torch.Size([64, 1, 18])\n",
      "torch.Size([64])\n",
      "torch.Size([64, 1, 18])\n",
      "torch.Size([64])\n",
      "torch.Size([64, 1, 18])\n",
      "torch.Size([64])\n",
      "torch.Size([64, 1, 18])\n",
      "torch.Size([64])\n",
      "torch.Size([64, 1, 18])\n",
      "torch.Size([64])\n",
      "torch.Size([64, 1, 18])\n",
      "torch.Size([64])\n",
      "torch.Size([64, 1, 18])\n",
      "torch.Size([64])\n",
      "torch.Size([64, 1, 18])\n",
      "torch.Size([64])\n",
      "torch.Size([64, 1, 18])\n",
      "torch.Size([64])\n",
      "torch.Size([64, 1, 18])\n",
      "torch.Size([64])\n",
      "torch.Size([64, 1, 18])\n",
      "torch.Size([64])\n",
      "torch.Size([64, 1, 18])\n",
      "torch.Size([64])\n",
      "torch.Size([64, 1, 18])\n",
      "torch.Size([64])\n",
      "torch.Size([64, 1, 18])\n",
      "torch.Size([64])\n",
      "torch.Size([64, 1, 18])\n",
      "torch.Size([64])\n"
     ]
    },
    {
     "name": "stderr",
     "output_type": "stream",
     "text": [
      "Epoch [4/5], loss_mean=2.532 :  92%|█████████▏| 1737/1898 [00:33<00:01, 97.72it/s]"
     ]
    },
    {
     "name": "stdout",
     "output_type": "stream",
     "text": [
      "torch.Size([64, 1, 18])\n",
      "torch.Size([64])\n",
      "torch.Size([64, 1, 18])\n",
      "torch.Size([64])\n",
      "torch.Size([64, 1, 18])\n",
      "torch.Size([64])\n",
      "torch.Size([64, 1, 18])\n",
      "torch.Size([64])\n",
      "torch.Size([64, 1, 18])\n",
      "torch.Size([64])\n",
      "torch.Size([64, 1, 18])\n",
      "torch.Size([64])\n",
      "torch.Size([64, 1, 18])\n",
      "torch.Size([64])\n",
      "torch.Size([64, 1, 18])\n",
      "torch.Size([64])\n",
      "torch.Size([64, 1, 18])\n",
      "torch.Size([64])\n",
      "torch.Size([64, 1, 18])\n",
      "torch.Size([64])\n",
      "torch.Size([64, 1, 18])\n",
      "torch.Size([64])\n",
      "torch.Size([64, 1, 18])\n",
      "torch.Size([64])\n",
      "torch.Size([64, 1, 18])\n",
      "torch.Size([64])\n",
      "torch.Size([64, 1, 18])\n",
      "torch.Size([64])\n",
      "torch.Size([64, 1, 18])\n",
      "torch.Size([64])\n",
      "torch.Size([64, 1, 18])\n",
      "torch.Size([64])\n",
      "torch.Size([64, 1, 18])\n",
      "torch.Size([64])\n",
      "torch.Size([64, 1, 18])\n",
      "torch.Size([64])\n",
      "torch.Size([64, 1, 18])\n",
      "torch.Size([64])\n",
      "torch.Size([64, 1, 18])\n",
      "torch.Size([64])\n"
     ]
    },
    {
     "name": "stderr",
     "output_type": "stream",
     "text": [
      "Epoch [4/5], loss_mean=2.532 :  92%|█████████▏| 1748/1898 [00:33<00:01, 98.78it/s]"
     ]
    },
    {
     "name": "stdout",
     "output_type": "stream",
     "text": [
      "torch.Size([64, 1, 18])\n",
      "torch.Size([64])\n",
      "torch.Size([64, 1, 18])\n",
      "torch.Size([64])\n",
      "torch.Size([64, 1, 18])\n",
      "torch.Size([64])\n",
      "torch.Size([64, 1, 18])\n",
      "torch.Size([64])\n",
      "torch.Size([64, 1, 18])\n",
      "torch.Size([64])\n",
      "torch.Size([64, 1, 18])\n",
      "torch.Size([64])\n",
      "torch.Size([64, 1, 18])\n",
      "torch.Size([64])\n",
      "torch.Size([64, 1, 18])\n",
      "torch.Size([64])\n",
      "torch.Size([64, 1, 18])\n",
      "torch.Size([64])\n",
      "torch.Size([64, 1, 18])\n",
      "torch.Size([64])\n",
      "torch.Size([64, 1, 18])\n",
      "torch.Size([64])\n",
      "torch.Size([64, 1, 18])\n",
      "torch.Size([64])\n",
      "torch.Size([64, 1, 18])\n",
      "torch.Size([64])\n",
      "torch.Size([64, 1, 18])\n",
      "torch.Size([64])\n"
     ]
    },
    {
     "name": "stderr",
     "output_type": "stream",
     "text": [
      "Epoch [4/5], loss_mean=2.533 :  93%|█████████▎| 1759/1898 [00:33<00:01, 89.02it/s]"
     ]
    },
    {
     "name": "stdout",
     "output_type": "stream",
     "text": [
      "torch.Size([64, 1, 18])\n",
      "torch.Size([64])\n",
      "torch.Size([64, 1, 18])\n",
      "torch.Size([64])\n"
     ]
    },
    {
     "name": "stderr",
     "output_type": "stream",
     "text": [
      "Epoch [4/5], loss_mean=2.532 :  93%|█████████▎| 1769/1898 [00:33<00:02, 57.26it/s]"
     ]
    },
    {
     "name": "stdout",
     "output_type": "stream",
     "text": [
      "torch.Size([64, 1, 18])\n",
      "torch.Size([64])\n",
      "torch.Size([64, 1, 18])\n",
      "torch.Size([64])\n",
      "torch.Size([64, 1, 18])\n",
      "torch.Size([64])\n",
      "torch.Size([64, 1, 18])\n",
      "torch.Size([64])\n",
      "torch.Size([64, 1, 18])\n",
      "torch.Size([64])\n",
      "torch.Size([64, 1, 18])\n",
      "torch.Size([64])\n",
      "torch.Size([64, 1, 18])\n",
      "torch.Size([64])\n",
      "torch.Size([64, 1, 18])\n",
      "torch.Size([64])\n",
      "torch.Size([64, 1, 18])\n",
      "torch.Size([64])\n",
      "torch.Size([64, 1, 18])\n",
      "torch.Size([64])\n",
      "torch.Size([64, 1, 18])\n",
      "torch.Size([64])\n",
      "torch.Size([64, 1, 18])\n",
      "torch.Size([64])\n"
     ]
    },
    {
     "name": "stderr",
     "output_type": "stream",
     "text": [
      "Epoch [4/5], loss_mean=2.532 :  94%|█████████▍| 1788/1898 [00:33<00:01, 69.29it/s]"
     ]
    },
    {
     "name": "stdout",
     "output_type": "stream",
     "text": [
      "torch.Size([64, 1, 18])\n",
      "torch.Size([64])\n",
      "torch.Size([64, 1, 18])\n",
      "torch.Size([64])\n",
      "torch.Size([64, 1, 18])\n",
      "torch.Size([64])\n",
      "torch.Size([64, 1, 18])\n",
      "torch.Size([64])\n",
      "torch.Size([64, 1, 18])\n",
      "torch.Size([64])\n",
      "torch.Size([64, 1, 18])\n",
      "torch.Size([64])\n",
      "torch.Size([64, 1, 18])\n",
      "torch.Size([64])\n",
      "torch.Size([64, 1, 18])\n",
      "torch.Size([64])\n",
      "torch.Size([64, 1, 18])\n",
      "torch.Size([64])\n",
      "torch.Size([64, 1, 18])\n",
      "torch.Size([64])\n",
      "torch.Size([64, 1, 18])\n",
      "torch.Size([64])\n",
      "torch.Size([64, 1, 18])\n",
      "torch.Size([64])\n",
      "torch.Size([64, 1, 18])\n",
      "torch.Size([64])\n",
      "torch.Size([64, 1, 18])\n",
      "torch.Size([64])\n",
      "torch.Size([64, 1, 18])\n",
      "torch.Size([64])\n",
      "torch.Size([64, 1, 18])\n",
      "torch.Size([64])\n",
      "torch.Size([64, 1, 18])\n",
      "torch.Size([64])\n"
     ]
    },
    {
     "name": "stderr",
     "output_type": "stream",
     "text": [
      "Epoch [4/5], loss_mean=2.532 :  95%|█████████▍| 1797/1898 [00:34<00:01, 72.03it/s]"
     ]
    },
    {
     "name": "stdout",
     "output_type": "stream",
     "text": [
      "torch.Size([64, 1, 18])\n",
      "torch.Size([64])\n",
      "torch.Size([64, 1, 18])\n",
      "torch.Size([64])\n",
      "torch.Size([64, 1, 18])\n",
      "torch.Size([64])\n",
      "torch.Size([64, 1, 18])\n",
      "torch.Size([64])\n",
      "torch.Size([64, 1, 18])\n",
      "torch.Size([64])\n",
      "torch.Size([64, 1, 18])\n",
      "torch.Size([64])\n",
      "torch.Size([64, 1, 18])\n",
      "torch.Size([64])\n",
      "torch.Size([64, 1, 18])\n",
      "torch.Size([64])\n",
      "torch.Size([64, 1, 18])\n",
      "torch.Size([64])\n",
      "torch.Size([64, 1, 18])\n",
      "torch.Size([64])\n",
      "torch.Size([64, 1, 18])\n",
      "torch.Size([64])\n",
      "torch.Size([64, 1, 18])\n",
      "torch.Size([64])\n",
      "torch.Size([64, 1, 18])\n",
      "torch.Size([64])\n",
      "torch.Size([64, 1, 18])\n",
      "torch.Size([64])\n",
      "torch.Size([64, 1, 18])\n",
      "torch.Size([64])\n"
     ]
    },
    {
     "name": "stderr",
     "output_type": "stream",
     "text": [
      "Epoch [4/5], loss_mean=2.532 :  96%|█████████▌| 1815/1898 [00:34<00:01, 69.78it/s]"
     ]
    },
    {
     "name": "stdout",
     "output_type": "stream",
     "text": [
      "torch.Size([64, 1, 18])\n",
      "torch.Size([64])\n",
      "torch.Size([64, 1, 18])\n",
      "torch.Size([64])\n",
      "torch.Size([64, 1, 18])\n",
      "torch.Size([64])\n",
      "torch.Size([64, 1, 18])\n",
      "torch.Size([64])\n",
      "torch.Size([64, 1, 18])\n",
      "torch.Size([64])\n",
      "torch.Size([64, 1, 18])\n",
      "torch.Size([64])\n",
      "torch.Size([64, 1, 18])\n",
      "torch.Size([64])\n",
      "torch.Size([64, 1, 18])\n",
      "torch.Size([64])\n",
      "torch.Size([64, 1, 18])\n",
      "torch.Size([64])\n",
      "torch.Size([64, 1, 18])\n",
      "torch.Size([64])\n",
      "torch.Size([64, 1, 18])\n",
      "torch.Size([64])\n",
      "torch.Size([64, 1, 18])\n",
      "torch.Size([64])\n"
     ]
    },
    {
     "name": "stderr",
     "output_type": "stream",
     "text": [
      "Epoch [4/5], loss_mean=2.532 :  96%|█████████▌| 1823/1898 [00:34<00:01, 66.35it/s]"
     ]
    },
    {
     "name": "stdout",
     "output_type": "stream",
     "text": [
      "torch.Size([64, 1, 18])\n",
      "torch.Size([64])\n",
      "torch.Size([64, 1, 18])\n",
      "torch.Size([64])\n",
      "torch.Size([64, 1, 18])\n",
      "torch.Size([64])\n",
      "torch.Size([64, 1, 18])\n",
      "torch.Size([64])\n",
      "torch.Size([64, 1, 18])\n",
      "torch.Size([64])\n",
      "torch.Size([64, 1, 18])\n",
      "torch.Size([64])\n",
      "torch.Size([64, 1, 18])\n",
      "torch.Size([64])\n",
      "torch.Size([64, 1, 18])\n",
      "torch.Size([64])\n",
      "torch.Size([64, 1, 18])\n",
      "torch.Size([64])\n",
      "torch.Size([64, 1, 18])\n",
      "torch.Size([64])\n",
      "torch.Size([64, 1, 18])\n",
      "torch.Size([64])\n"
     ]
    },
    {
     "name": "stderr",
     "output_type": "stream",
     "text": [
      "Epoch [4/5], loss_mean=2.532 :  96%|█████████▋| 1831/1898 [00:34<00:01, 60.29it/s]"
     ]
    },
    {
     "name": "stdout",
     "output_type": "stream",
     "text": [
      "torch.Size([64, 1, 18])\n",
      "torch.Size([64])\n",
      "torch.Size([64, 1, 18])\n",
      "torch.Size([64])\n",
      "torch.Size([64, 1, 18])\n",
      "torch.Size([64])\n",
      "torch.Size([64, 1, 18])\n",
      "torch.Size([64])\n",
      "torch.Size([64, 1, 18])\n",
      "torch.Size([64])\n",
      "torch.Size([64, 1, 18])\n",
      "torch.Size([64])\n",
      "torch.Size([64, 1, 18])\n",
      "torch.Size([64])\n",
      "torch.Size([64, 1, 18])\n",
      "torch.Size([64])\n",
      "torch.Size([64, 1, 18])\n",
      "torch.Size([64])\n"
     ]
    },
    {
     "name": "stderr",
     "output_type": "stream",
     "text": [
      "Epoch [4/5], loss_mean=2.532 :  97%|█████████▋| 1845/1898 [00:34<00:00, 59.48it/s]"
     ]
    },
    {
     "name": "stdout",
     "output_type": "stream",
     "text": [
      "torch.Size([64, 1, 18])\n",
      "torch.Size([64])\n",
      "torch.Size([64, 1, 18])\n",
      "torch.Size([64])\n",
      "torch.Size([64, 1, 18])\n",
      "torch.Size([64])\n",
      "torch.Size([64, 1, 18])\n",
      "torch.Size([64])\n",
      "torch.Size([64, 1, 18])\n",
      "torch.Size([64])\n",
      "torch.Size([64, 1, 18])\n",
      "torch.Size([64])\n",
      "torch.Size([64, 1, 18])\n",
      "torch.Size([64])\n",
      "torch.Size([64, 1, 18])\n",
      "torch.Size([64])\n",
      "torch.Size([64, 1, 18])\n",
      "torch.Size([64])\n",
      "torch.Size([64, 1, 18])\n",
      "torch.Size([64])\n",
      "torch.Size([64, 1, 18])\n",
      "torch.Size([64])\n",
      "torch.Size([64, 1, 18])\n",
      "torch.Size([64])\n",
      "torch.Size([64, 1, 18])\n",
      "torch.Size([64])\n"
     ]
    },
    {
     "name": "stderr",
     "output_type": "stream",
     "text": [
      "Epoch [4/5], loss_mean=2.532 :  98%|█████████▊| 1852/1898 [00:35<00:01, 41.25it/s]"
     ]
    },
    {
     "name": "stdout",
     "output_type": "stream",
     "text": [
      "torch.Size([64, 1, 18])\n",
      "torch.Size([64])\n",
      "torch.Size([64, 1, 18])\n",
      "torch.Size([64])\n",
      "torch.Size([64, 1, 18])\n",
      "torch.Size([64])\n",
      "torch.Size([64, 1, 18])\n",
      "torch.Size([64])\n",
      "torch.Size([64, 1, 18])\n",
      "torch.Size([64])\n"
     ]
    },
    {
     "name": "stderr",
     "output_type": "stream",
     "text": [
      "Epoch [4/5], loss_mean=2.532 :  98%|█████████▊| 1860/1898 [00:35<00:00, 44.31it/s]"
     ]
    },
    {
     "name": "stdout",
     "output_type": "stream",
     "text": [
      "torch.Size([64, 1, 18])\n",
      "torch.Size([64])\n",
      "torch.Size([64, 1, 18])\n",
      "torch.Size([64])\n",
      "torch.Size([64, 1, 18])\n",
      "torch.Size([64])\n",
      "torch.Size([64, 1, 18])\n",
      "torch.Size([64])\n",
      "torch.Size([64, 1, 18])\n",
      "torch.Size([64])\n",
      "torch.Size([64, 1, 18])\n",
      "torch.Size([64])\n",
      "torch.Size([64, 1, 18])\n",
      "torch.Size([64])\n",
      "torch.Size([64, 1, 18])\n",
      "torch.Size([64])\n",
      "torch.Size([64, 1, 18])\n",
      "torch.Size([64])\n"
     ]
    },
    {
     "name": "stderr",
     "output_type": "stream",
     "text": [
      "Epoch [4/5], loss_mean=2.532 :  99%|█████████▉| 1876/1898 [00:35<00:00, 55.93it/s]"
     ]
    },
    {
     "name": "stdout",
     "output_type": "stream",
     "text": [
      "torch.Size([64, 1, 18])\n",
      "torch.Size([64])\n",
      "torch.Size([64, 1, 18])\n",
      "torch.Size([64])\n",
      "torch.Size([64, 1, 18])\n",
      "torch.Size([64])\n",
      "torch.Size([64, 1, 18])\n",
      "torch.Size([64])\n",
      "torch.Size([64, 1, 18])\n",
      "torch.Size([64])\n",
      "torch.Size([64, 1, 18])\n",
      "torch.Size([64])\n",
      "torch.Size([64, 1, 18])\n",
      "torch.Size([64])\n",
      "torch.Size([64, 1, 18])\n",
      "torch.Size([64])\n",
      "torch.Size([64, 1, 18])\n",
      "torch.Size([64])\n",
      "torch.Size([64, 1, 18])\n",
      "torch.Size([64])\n",
      "torch.Size([64, 1, 18])\n",
      "torch.Size([64])\n",
      "torch.Size([64, 1, 18])\n",
      "torch.Size([64])\n",
      "torch.Size([64, 1, 18])\n",
      "torch.Size([64])\n",
      "torch.Size([64, 1, 18])\n",
      "torch.Size([64])\n",
      "torch.Size([64, 1, 18])\n",
      "torch.Size([64])\n",
      "torch.Size([64, 1, 18])\n",
      "torch.Size([64])\n"
     ]
    },
    {
     "name": "stderr",
     "output_type": "stream",
     "text": [
      "Epoch [4/5], loss_mean=2.532 : 100%|██████████| 1898/1898 [00:35<00:00, 53.03it/s]"
     ]
    },
    {
     "name": "stdout",
     "output_type": "stream",
     "text": [
      "torch.Size([64, 1, 18])\n",
      "torch.Size([64])\n",
      "torch.Size([64, 1, 18])\n",
      "torch.Size([64])\n",
      "torch.Size([64, 1, 18])\n",
      "torch.Size([64])\n",
      "torch.Size([64, 1, 18])\n",
      "torch.Size([64])\n",
      "torch.Size([64, 1, 18])\n",
      "torch.Size([64])\n",
      "torch.Size([64, 1, 18])\n",
      "torch.Size([64])\n",
      "torch.Size([64, 1, 18])\n",
      "torch.Size([64])\n",
      "torch.Size([64, 1, 18])\n",
      "torch.Size([64])\n",
      "torch.Size([64, 1, 18])\n",
      "torch.Size([64])\n",
      "torch.Size([64, 1, 18])\n",
      "torch.Size([64])\n",
      "torch.Size([64, 1, 18])\n",
      "torch.Size([64])\n",
      "torch.Size([64, 1, 18])\n",
      "torch.Size([64])\n",
      "torch.Size([64, 1, 18])\n",
      "torch.Size([64])\n",
      "torch.Size([64, 1, 18])\n",
      "torch.Size([64])\n",
      "torch.Size([64, 1, 18])\n",
      "torch.Size([64])\n",
      "torch.Size([64, 1, 18])\n",
      "torch.Size([64])\n",
      "torch.Size([64, 1, 18])\n",
      "torch.Size([64])\n",
      "torch.Size([16, 1, 18])\n",
      "torch.Size([16])\n"
     ]
    },
    {
     "name": "stderr",
     "output_type": "stream",
     "text": [
      "\n",
      "Epoch [5/5], loss_mean=2.533 :   0%|          | 6/1898 [00:00<00:31, 59.57it/s]"
     ]
    },
    {
     "name": "stdout",
     "output_type": "stream",
     "text": [
      "torch.Size([64, 1, 18])\n",
      "torch.Size([64])\n",
      "torch.Size([64, 1, 18])\n",
      "torch.Size([64])\n",
      "torch.Size([64, 1, 18])\n",
      "torch.Size([64])\n",
      "torch.Size([64, 1, 18])\n",
      "torch.Size([64])\n",
      "torch.Size([64, 1, 18])\n",
      "torch.Size([64])\n",
      "torch.Size([64, 1, 18])\n",
      "torch.Size([64])\n",
      "torch.Size([64, 1, 18])\n",
      "torch.Size([64])\n",
      "torch.Size([64, 1, 18])\n",
      "torch.Size([64])\n",
      "torch.Size([64, 1, 18])\n",
      "torch.Size([64])\n",
      "torch.Size([64, 1, 18])\n",
      "torch.Size([64])\n",
      "torch.Size([64, 1, 18])\n",
      "torch.Size([64])\n",
      "torch.Size([64, 1, 18])\n",
      "torch.Size([64])\n",
      "torch.Size([64, 1, 18])\n",
      "torch.Size([64])\n",
      "torch.Size([64, 1, 18])\n",
      "torch.Size([64])\n",
      "torch.Size([64, 1, 18])\n",
      "torch.Size([64])\n",
      "torch.Size([64, 1, 18])\n",
      "torch.Size([64])\n",
      "torch.Size([64, 1, 18])\n",
      "torch.Size([64])\n",
      "torch.Size([64, 1, 18])\n",
      "torch.Size([64])\n"
     ]
    },
    {
     "name": "stderr",
     "output_type": "stream",
     "text": [
      "Epoch [5/5], loss_mean=2.527 :   1%|▏         | 27/1898 [00:00<00:23, 79.75it/s]"
     ]
    },
    {
     "name": "stdout",
     "output_type": "stream",
     "text": [
      "torch.Size([64, 1, 18])\n",
      "torch.Size([64])\n",
      "torch.Size([64, 1, 18])\n",
      "torch.Size([64])\n",
      "torch.Size([64, 1, 18])\n",
      "torch.Size([64])\n",
      "torch.Size([64, 1, 18])\n",
      "torch.Size([64])\n",
      "torch.Size([64, 1, 18])\n",
      "torch.Size([64])\n",
      "torch.Size([64, 1, 18])\n",
      "torch.Size([64])\n",
      "torch.Size([64, 1, 18])\n",
      "torch.Size([64])\n",
      "torch.Size([64, 1, 18])\n",
      "torch.Size([64])\n",
      "torch.Size([64, 1, 18])\n",
      "torch.Size([64])\n",
      "torch.Size([64, 1, 18])\n",
      "torch.Size([64])\n",
      "torch.Size([64, 1, 18])\n",
      "torch.Size([64])\n",
      "torch.Size([64, 1, 18])\n",
      "torch.Size([64])\n",
      "torch.Size([64, 1, 18])\n",
      "torch.Size([64])\n",
      "torch.Size([64, 1, 18])\n",
      "torch.Size([64])\n",
      "torch.Size([64, 1, 18])\n",
      "torch.Size([64])\n",
      "torch.Size([64, 1, 18])\n",
      "torch.Size([64])\n",
      "torch.Size([64, 1, 18])\n",
      "torch.Size([64])\n"
     ]
    },
    {
     "name": "stderr",
     "output_type": "stream",
     "text": [
      "Epoch [5/5], loss_mean=2.526 :   3%|▎         | 48/1898 [00:00<00:20, 91.15it/s]"
     ]
    },
    {
     "name": "stdout",
     "output_type": "stream",
     "text": [
      "torch.Size([64, 1, 18])\n",
      "torch.Size([64])\n",
      "torch.Size([64, 1, 18])\n",
      "torch.Size([64])\n",
      "torch.Size([64, 1, 18])\n",
      "torch.Size([64])\n",
      "torch.Size([64, 1, 18])\n",
      "torch.Size([64])\n",
      "torch.Size([64, 1, 18])\n",
      "torch.Size([64])\n",
      "torch.Size([64, 1, 18])\n",
      "torch.Size([64])\n",
      "torch.Size([64, 1, 18])\n",
      "torch.Size([64])\n",
      "torch.Size([64, 1, 18])\n",
      "torch.Size([64])\n",
      "torch.Size([64, 1, 18])\n",
      "torch.Size([64])\n",
      "torch.Size([64, 1, 18])\n",
      "torch.Size([64])\n",
      "torch.Size([64, 1, 18])\n",
      "torch.Size([64])\n",
      "torch.Size([64, 1, 18])\n",
      "torch.Size([64])\n",
      "torch.Size([64, 1, 18])\n",
      "torch.Size([64])\n",
      "torch.Size([64, 1, 18])\n",
      "torch.Size([64])\n",
      "torch.Size([64, 1, 18])\n",
      "torch.Size([64])\n",
      "torch.Size([64, 1, 18])\n",
      "torch.Size([64])\n",
      "torch.Size([64, 1, 18])\n",
      "torch.Size([64])\n",
      "torch.Size([64, 1, 18])\n",
      "torch.Size([64])\n"
     ]
    },
    {
     "name": "stderr",
     "output_type": "stream",
     "text": [
      "Epoch [5/5], loss_mean=2.525 :   3%|▎         | 58/1898 [00:00<00:19, 93.94it/s]"
     ]
    },
    {
     "name": "stdout",
     "output_type": "stream",
     "text": [
      "torch.Size([64, 1, 18])\n",
      "torch.Size([64])\n",
      "torch.Size([64, 1, 18])\n",
      "torch.Size([64])\n",
      "torch.Size([64, 1, 18])\n",
      "torch.Size([64])\n",
      "torch.Size([64, 1, 18])\n",
      "torch.Size([64])\n",
      "torch.Size([64, 1, 18])\n",
      "torch.Size([64])\n",
      "torch.Size([64, 1, 18])\n",
      "torch.Size([64])\n",
      "torch.Size([64, 1, 18])\n",
      "torch.Size([64])\n",
      "torch.Size([64, 1, 18])\n",
      "torch.Size([64])\n",
      "torch.Size([64, 1, 18])\n",
      "torch.Size([64])\n",
      "torch.Size([64, 1, 18])\n",
      "torch.Size([64])\n"
     ]
    },
    {
     "name": "stderr",
     "output_type": "stream",
     "text": [
      "Epoch [5/5], loss_mean=2.525 :   3%|▎         | 58/1898 [00:00<00:19, 93.94it/s]"
     ]
    },
    {
     "name": "stdout",
     "output_type": "stream",
     "text": [
      "torch.Size([64, 1, 18])\n",
      "torch.Size([64])\n"
     ]
    },
    {
     "name": "stderr",
     "output_type": "stream",
     "text": [
      "Epoch [5/5], loss_mean=2.526 :   4%|▎         | 68/1898 [00:01<00:45, 39.88it/s]"
     ]
    },
    {
     "name": "stdout",
     "output_type": "stream",
     "text": [
      "torch.Size([64, 1, 18])\n",
      "torch.Size([64])\n",
      "torch.Size([64, 1, 18])\n",
      "torch.Size([64])\n",
      "torch.Size([64, 1, 18])\n",
      "torch.Size([64])\n",
      "torch.Size([64, 1, 18])\n",
      "torch.Size([64])\n",
      "torch.Size([64, 1, 18])\n",
      "torch.Size([64])\n",
      "torch.Size([64, 1, 18])\n",
      "torch.Size([64])\n",
      "torch.Size([64, 1, 18])\n",
      "torch.Size([64])\n",
      "torch.Size([64, 1, 18])\n",
      "torch.Size([64])\n",
      "torch.Size([64, 1, 18])\n",
      "torch.Size([64])\n",
      "torch.Size([64, 1, 18])\n",
      "torch.Size([64])\n",
      "torch.Size([64, 1, 18])\n",
      "torch.Size([64])\n",
      "torch.Size([64, 1, 18])\n",
      "torch.Size([64])\n"
     ]
    },
    {
     "name": "stderr",
     "output_type": "stream",
     "text": [
      "Epoch [5/5], loss_mean=2.530 :   5%|▍         | 89/1898 [00:01<00:32, 55.63it/s]"
     ]
    },
    {
     "name": "stdout",
     "output_type": "stream",
     "text": [
      "torch.Size([64, 1, 18])\n",
      "torch.Size([64])\n",
      "torch.Size([64, 1, 18])\n",
      "torch.Size([64])\n",
      "torch.Size([64, 1, 18])\n",
      "torch.Size([64])\n",
      "torch.Size([64, 1, 18])\n",
      "torch.Size([64])\n",
      "torch.Size([64, 1, 18])\n",
      "torch.Size([64])\n",
      "torch.Size([64, 1, 18])\n",
      "torch.Size([64])\n",
      "torch.Size([64, 1, 18])\n",
      "torch.Size([64])\n",
      "torch.Size([64, 1, 18])\n",
      "torch.Size([64])\n",
      "torch.Size([64, 1, 18])\n",
      "torch.Size([64])\n",
      "torch.Size([64, 1, 18])\n",
      "torch.Size([64])\n",
      "torch.Size([64, 1, 18])\n",
      "torch.Size([64])\n",
      "torch.Size([64, 1, 18])\n",
      "torch.Size([64])\n",
      "torch.Size([64, 1, 18])\n",
      "torch.Size([64])\n",
      "torch.Size([64, 1, 18])\n",
      "torch.Size([64])\n"
     ]
    },
    {
     "name": "stderr",
     "output_type": "stream",
     "text": [
      "Epoch [5/5], loss_mean=2.532 :   5%|▌         | 97/1898 [00:01<00:30, 60.03it/s]"
     ]
    },
    {
     "name": "stdout",
     "output_type": "stream",
     "text": [
      "torch.Size([64, 1, 18])\n",
      "torch.Size([64])\n",
      "torch.Size([64, 1, 18])\n",
      "torch.Size([64])\n",
      "torch.Size([64, 1, 18])\n",
      "torch.Size([64])\n",
      "torch.Size([64, 1, 18])\n",
      "torch.Size([64])\n",
      "torch.Size([64, 1, 18])\n",
      "torch.Size([64])\n",
      "torch.Size([64, 1, 18])\n",
      "torch.Size([64])\n",
      "torch.Size([64, 1, 18])\n",
      "torch.Size([64])\n",
      "torch.Size([64, 1, 18])\n",
      "torch.Size([64])\n",
      "torch.Size([64, 1, 18])\n",
      "torch.Size([64])\n",
      "torch.Size([64, 1, 18])\n",
      "torch.Size([64])\n",
      "torch.Size([64, 1, 18])\n",
      "torch.Size([64])\n",
      "torch.Size([64, 1, 18])\n",
      "torch.Size([64])\n",
      "torch.Size([64, 1, 18])\n",
      "torch.Size([64])\n",
      "torch.Size([64, 1, 18])\n",
      "torch.Size([64])\n",
      "torch.Size([64, 1, 18])\n",
      "torch.Size([64])\n"
     ]
    },
    {
     "name": "stderr",
     "output_type": "stream",
     "text": [
      "Epoch [5/5], loss_mean=2.532 :   6%|▌         | 114/1898 [00:01<00:25, 70.33it/s]"
     ]
    },
    {
     "name": "stdout",
     "output_type": "stream",
     "text": [
      "torch.Size([64, 1, 18])\n",
      "torch.Size([64])\n",
      "torch.Size([64, 1, 18])\n",
      "torch.Size([64])\n",
      "torch.Size([64, 1, 18])\n",
      "torch.Size([64])\n",
      "torch.Size([64, 1, 18])\n",
      "torch.Size([64])\n",
      "torch.Size([64, 1, 18])\n",
      "torch.Size([64])\n",
      "torch.Size([64, 1, 18])\n",
      "torch.Size([64])\n",
      "torch.Size([64, 1, 18])\n",
      "torch.Size([64])\n",
      "torch.Size([64, 1, 18])\n",
      "torch.Size([64])\n",
      "torch.Size([64, 1, 18])\n",
      "torch.Size([64])\n",
      "torch.Size([64, 1, 18])\n",
      "torch.Size([64])\n",
      "torch.Size([64, 1, 18])\n",
      "torch.Size([64])\n",
      "torch.Size([64, 1, 18])\n",
      "torch.Size([64])\n",
      "torch.Size([64, 1, 18])\n",
      "torch.Size([64])\n",
      "torch.Size([64, 1, 18])\n",
      "torch.Size([64])\n",
      "torch.Size([64, 1, 18])\n",
      "torch.Size([64])\n",
      "torch.Size([64, 1, 18])\n",
      "torch.Size([64])\n",
      "torch.Size([64, 1, 18])\n",
      "torch.Size([64])\n",
      "torch.Size([64, 1, 18])\n",
      "torch.Size([64])\n",
      "torch.Size([64, 1, 18])\n",
      "torch.Size([64])\n"
     ]
    },
    {
     "name": "stderr",
     "output_type": "stream",
     "text": [
      "Epoch [5/5], loss_mean=2.531 :   7%|▋         | 135/1898 [00:02<00:23, 76.17it/s]"
     ]
    },
    {
     "name": "stdout",
     "output_type": "stream",
     "text": [
      "torch.Size([64, 1, 18])\n",
      "torch.Size([64])\n",
      "torch.Size([64, 1, 18])\n",
      "torch.Size([64])\n",
      "torch.Size([64, 1, 18])\n",
      "torch.Size([64])\n",
      "torch.Size([64, 1, 18])\n",
      "torch.Size([64])\n",
      "torch.Size([64, 1, 18])\n",
      "torch.Size([64])\n",
      "torch.Size([64, 1, 18])\n",
      "torch.Size([64])\n",
      "torch.Size([64, 1, 18])\n",
      "torch.Size([64])\n",
      "torch.Size([64, 1, 18])\n",
      "torch.Size([64])\n",
      "torch.Size([64, 1, 18])\n",
      "torch.Size([64])\n",
      "torch.Size([64, 1, 18])\n",
      "torch.Size([64])\n",
      "torch.Size([64, 1, 18])\n",
      "torch.Size([64])\n",
      "torch.Size([64, 1, 18])\n",
      "torch.Size([64])\n",
      "torch.Size([64, 1, 18])\n",
      "torch.Size([64])\n",
      "torch.Size([64, 1, 18])\n",
      "torch.Size([64])\n"
     ]
    },
    {
     "name": "stderr",
     "output_type": "stream",
     "text": [
      "Epoch [5/5], loss_mean=2.531 :   8%|▊         | 144/1898 [00:02<00:25, 68.08it/s]"
     ]
    },
    {
     "name": "stdout",
     "output_type": "stream",
     "text": [
      "torch.Size([64, 1, 18])\n",
      "torch.Size([64])\n",
      "torch.Size([64, 1, 18])\n",
      "torch.Size([64])\n",
      "torch.Size([64, 1, 18])\n",
      "torch.Size([64])\n",
      "torch.Size([64, 1, 18])\n",
      "torch.Size([64])\n",
      "torch.Size([64, 1, 18])\n",
      "torch.Size([64])\n",
      "torch.Size([64, 1, 18])\n",
      "torch.Size([64])\n",
      "torch.Size([64, 1, 18])\n",
      "torch.Size([64])\n",
      "torch.Size([64, 1, 18])\n",
      "torch.Size([64])\n",
      "torch.Size([64, 1, 18])\n",
      "torch.Size([64])\n",
      "torch.Size([64, 1, 18])\n",
      "torch.Size([64])\n",
      "torch.Size([64, 1, 18])\n",
      "torch.Size([64])\n"
     ]
    },
    {
     "name": "stderr",
     "output_type": "stream",
     "text": [
      "Epoch [5/5], loss_mean=2.530 :   8%|▊         | 153/1898 [00:02<00:25, 68.79it/s]"
     ]
    },
    {
     "name": "stdout",
     "output_type": "stream",
     "text": [
      "torch.Size([64, 1, 18])\n",
      "torch.Size([64])\n",
      "torch.Size([64, 1, 18])\n",
      "torch.Size([64])\n",
      "torch.Size([64, 1, 18])\n",
      "torch.Size([64])\n",
      "torch.Size([64, 1, 18])\n",
      "torch.Size([64])\n",
      "torch.Size([64, 1, 18])\n",
      "torch.Size([64])\n",
      "torch.Size([64, 1, 18])\n",
      "torch.Size([64])\n",
      "torch.Size([64, 1, 18])\n",
      "torch.Size([64])\n",
      "torch.Size([64, 1, 18])\n",
      "torch.Size([64])\n",
      "torch.Size([64, 1, 18])\n",
      "torch.Size([64])\n"
     ]
    },
    {
     "name": "stderr",
     "output_type": "stream",
     "text": [
      "Epoch [5/5], loss_mean=2.530 :   9%|▉         | 170/1898 [00:02<00:25, 68.83it/s]"
     ]
    },
    {
     "name": "stdout",
     "output_type": "stream",
     "text": [
      "torch.Size([64, 1, 18])\n",
      "torch.Size([64])\n",
      "torch.Size([64, 1, 18])\n",
      "torch.Size([64])\n",
      "torch.Size([64, 1, 18])\n",
      "torch.Size([64])\n",
      "torch.Size([64, 1, 18])\n",
      "torch.Size([64])\n",
      "torch.Size([64, 1, 18])\n",
      "torch.Size([64])\n",
      "torch.Size([64, 1, 18])\n",
      "torch.Size([64])\n",
      "torch.Size([64, 1, 18])\n",
      "torch.Size([64])\n",
      "torch.Size([64, 1, 18])\n",
      "torch.Size([64])\n",
      "torch.Size([64, 1, 18])\n",
      "torch.Size([64])\n",
      "torch.Size([64, 1, 18])\n",
      "torch.Size([64])\n",
      "torch.Size([64, 1, 18])\n",
      "torch.Size([64])\n",
      "torch.Size([64, 1, 18])\n",
      "torch.Size([64])\n",
      "torch.Size([64, 1, 18])\n",
      "torch.Size([64])\n",
      "torch.Size([64, 1, 18])\n",
      "torch.Size([64])\n",
      "torch.Size([64, 1, 18])\n",
      "torch.Size([64])\n",
      "torch.Size([64, 1, 18])\n",
      "torch.Size([64])\n"
     ]
    },
    {
     "name": "stderr",
     "output_type": "stream",
     "text": [
      "Epoch [5/5], loss_mean=2.530 :   9%|▉         | 178/1898 [00:02<00:24, 71.02it/s]"
     ]
    },
    {
     "name": "stdout",
     "output_type": "stream",
     "text": [
      "torch.Size([64, 1, 18])\n",
      "torch.Size([64])\n",
      "torch.Size([64, 1, 18])\n",
      "torch.Size([64])\n",
      "torch.Size([64, 1, 18])\n",
      "torch.Size([64])\n",
      "torch.Size([64, 1, 18])\n",
      "torch.Size([64])\n",
      "torch.Size([64, 1, 18])\n",
      "torch.Size([64])\n",
      "torch.Size([64, 1, 18])\n",
      "torch.Size([64])\n"
     ]
    },
    {
     "name": "stderr",
     "output_type": "stream",
     "text": [
      "Epoch [5/5], loss_mean=2.531 :  10%|▉         | 186/1898 [00:03<00:48, 35.27it/s]"
     ]
    },
    {
     "name": "stdout",
     "output_type": "stream",
     "text": [
      "torch.Size([64, 1, 18])\n",
      "torch.Size([64])\n",
      "torch.Size([64, 1, 18])\n",
      "torch.Size([64])\n",
      "torch.Size([64, 1, 18])\n",
      "torch.Size([64])\n",
      "torch.Size([64, 1, 18])\n",
      "torch.Size([64])\n",
      "torch.Size([64, 1, 18])\n",
      "torch.Size([64])\n",
      "torch.Size([64, 1, 18])\n",
      "torch.Size([64])\n",
      "torch.Size([64, 1, 18])\n",
      "torch.Size([64])\n",
      "torch.Size([64, 1, 18])\n",
      "torch.Size([64])\n",
      "torch.Size([64, 1, 18])\n",
      "torch.Size([64])\n",
      "torch.Size([64, 1, 18])\n",
      "torch.Size([64])\n"
     ]
    },
    {
     "name": "stderr",
     "output_type": "stream",
     "text": [
      "Epoch [5/5], loss_mean=2.531 :  10%|█         | 192/1898 [00:03<00:44, 37.91it/s]"
     ]
    },
    {
     "name": "stdout",
     "output_type": "stream",
     "text": [
      "torch.Size([64, 1, 18])\n",
      "torch.Size([64])\n",
      "torch.Size([64, 1, 18])\n",
      "torch.Size([64])\n",
      "torch.Size([64, 1, 18])\n",
      "torch.Size([64])\n",
      "torch.Size([64, 1, 18])\n",
      "torch.Size([64])\n",
      "torch.Size([64, 1, 18])\n",
      "torch.Size([64])\n",
      "torch.Size([64, 1, 18])\n",
      "torch.Size([64])\n",
      "torch.Size([64, 1, 18])\n",
      "torch.Size([64])\n",
      "torch.Size([64, 1, 18])\n",
      "torch.Size([64])\n",
      "torch.Size([64, 1, 18])\n",
      "torch.Size([64])\n",
      "torch.Size([64, 1, 18])\n",
      "torch.Size([64])\n",
      "torch.Size([64, 1, 18])\n",
      "torch.Size([64])\n"
     ]
    },
    {
     "name": "stderr",
     "output_type": "stream",
     "text": [
      "Epoch [5/5], loss_mean=2.531 :  11%|█         | 208/1898 [00:03<00:37, 44.88it/s]"
     ]
    },
    {
     "name": "stdout",
     "output_type": "stream",
     "text": [
      "torch.Size([64, 1, 18])\n",
      "torch.Size([64])\n",
      "torch.Size([64, 1, 18])\n",
      "torch.Size([64])\n",
      "torch.Size([64, 1, 18])\n",
      "torch.Size([64])\n",
      "torch.Size([64, 1, 18])\n",
      "torch.Size([64])\n",
      "torch.Size([64, 1, 18])\n",
      "torch.Size([64])\n",
      "torch.Size([64, 1, 18])\n",
      "torch.Size([64])\n",
      "torch.Size([64, 1, 18])\n",
      "torch.Size([64])\n",
      "torch.Size([64, 1, 18])\n",
      "torch.Size([64])\n",
      "torch.Size([64, 1, 18])\n",
      "torch.Size([64])\n",
      "torch.Size([64, 1, 18])\n",
      "torch.Size([64])\n"
     ]
    },
    {
     "name": "stderr",
     "output_type": "stream",
     "text": [
      "Epoch [5/5], loss_mean=2.530 :  11%|█▏        | 215/1898 [00:03<00:33, 49.86it/s]"
     ]
    },
    {
     "name": "stdout",
     "output_type": "stream",
     "text": [
      "torch.Size([64, 1, 18])\n",
      "torch.Size([64])\n",
      "torch.Size([64, 1, 18])\n",
      "torch.Size([64])\n",
      "torch.Size([64, 1, 18])\n",
      "torch.Size([64])\n",
      "torch.Size([64, 1, 18])\n",
      "torch.Size([64])\n",
      "torch.Size([64, 1, 18])\n",
      "torch.Size([64])\n",
      "torch.Size([64, 1, 18])\n",
      "torch.Size([64])\n",
      "torch.Size([64, 1, 18])\n",
      "torch.Size([64])\n",
      "torch.Size([64, 1, 18])\n",
      "torch.Size([64])\n",
      "torch.Size([64, 1, 18])\n",
      "torch.Size([64])\n",
      "torch.Size([64, 1, 18])\n",
      "torch.Size([64])\n",
      "torch.Size([64, 1, 18])\n",
      "torch.Size([64])\n",
      "torch.Size([64, 1, 18])\n",
      "torch.Size([64])\n"
     ]
    },
    {
     "name": "stderr",
     "output_type": "stream",
     "text": [
      "Epoch [5/5], loss_mean=2.531 :  12%|█▏        | 230/1898 [00:03<00:28, 57.89it/s]"
     ]
    },
    {
     "name": "stdout",
     "output_type": "stream",
     "text": [
      "torch.Size([64, 1, 18])\n",
      "torch.Size([64])\n",
      "torch.Size([64, 1, 18])\n",
      "torch.Size([64])\n",
      "torch.Size([64, 1, 18])\n",
      "torch.Size([64])\n",
      "torch.Size([64, 1, 18])\n",
      "torch.Size([64])\n",
      "torch.Size([64, 1, 18])\n",
      "torch.Size([64])\n",
      "torch.Size([64, 1, 18])\n",
      "torch.Size([64])\n",
      "torch.Size([64, 1, 18])\n",
      "torch.Size([64])\n",
      "torch.Size([64, 1, 18])\n",
      "torch.Size([64])\n",
      "torch.Size([64, 1, 18])\n",
      "torch.Size([64])\n",
      "torch.Size([64, 1, 18])\n",
      "torch.Size([64])\n",
      "torch.Size([64, 1, 18])\n",
      "torch.Size([64])\n",
      "torch.Size([64, 1, 18])\n",
      "torch.Size([64])\n",
      "torch.Size([64, 1, 18])\n",
      "torch.Size([64])\n",
      "torch.Size([64, 1, 18])\n",
      "torch.Size([64])\n",
      "torch.Size([64, 1, 18])\n",
      "torch.Size([64])\n"
     ]
    },
    {
     "name": "stderr",
     "output_type": "stream",
     "text": [
      "Epoch [5/5], loss_mean=2.531 :  13%|█▎        | 248/1898 [00:04<00:23, 71.26it/s]"
     ]
    },
    {
     "name": "stdout",
     "output_type": "stream",
     "text": [
      "torch.Size([64, 1, 18])\n",
      "torch.Size([64])\n",
      "torch.Size([64, 1, 18])\n",
      "torch.Size([64])\n",
      "torch.Size([64, 1, 18])\n",
      "torch.Size([64])\n",
      "torch.Size([64, 1, 18])\n",
      "torch.Size([64])\n",
      "torch.Size([64, 1, 18])\n",
      "torch.Size([64])\n",
      "torch.Size([64, 1, 18])\n",
      "torch.Size([64])\n",
      "torch.Size([64, 1, 18])\n",
      "torch.Size([64])\n",
      "torch.Size([64, 1, 18])\n",
      "torch.Size([64])\n",
      "torch.Size([64, 1, 18])\n",
      "torch.Size([64])\n",
      "torch.Size([64, 1, 18])\n",
      "torch.Size([64])\n",
      "torch.Size([64, 1, 18])\n",
      "torch.Size([64])\n",
      "torch.Size([64, 1, 18])\n",
      "torch.Size([64])\n",
      "torch.Size([64, 1, 18])\n",
      "torch.Size([64])\n",
      "torch.Size([64, 1, 18])\n",
      "torch.Size([64])\n",
      "torch.Size([64, 1, 18])\n",
      "torch.Size([64])\n"
     ]
    },
    {
     "name": "stderr",
     "output_type": "stream",
     "text": [
      "Epoch [5/5], loss_mean=2.531 :  14%|█▍        | 265/1898 [00:04<00:21, 75.67it/s]"
     ]
    },
    {
     "name": "stdout",
     "output_type": "stream",
     "text": [
      "torch.Size([64, 1, 18])\n",
      "torch.Size([64])\n",
      "torch.Size([64, 1, 18])\n",
      "torch.Size([64])\n",
      "torch.Size([64, 1, 18])\n",
      "torch.Size([64])\n",
      "torch.Size([64, 1, 18])\n",
      "torch.Size([64])\n",
      "torch.Size([64, 1, 18])\n",
      "torch.Size([64])\n",
      "torch.Size([64, 1, 18])\n",
      "torch.Size([64])\n",
      "torch.Size([64, 1, 18])\n",
      "torch.Size([64])\n",
      "torch.Size([64, 1, 18])\n",
      "torch.Size([64])\n",
      "torch.Size([64, 1, 18])\n",
      "torch.Size([64])\n",
      "torch.Size([64, 1, 18])\n",
      "torch.Size([64])\n",
      "torch.Size([64, 1, 18])\n",
      "torch.Size([64])\n",
      "torch.Size([64, 1, 18])\n",
      "torch.Size([64])\n",
      "torch.Size([64, 1, 18])\n",
      "torch.Size([64])\n",
      "torch.Size([64, 1, 18])\n",
      "torch.Size([64])\n",
      "torch.Size([64, 1, 18])\n",
      "torch.Size([64])\n",
      "torch.Size([64, 1, 18])\n",
      "torch.Size([64])\n",
      "torch.Size([64, 1, 18])\n",
      "torch.Size([64])\n"
     ]
    },
    {
     "name": "stderr",
     "output_type": "stream",
     "text": [
      "Epoch [5/5], loss_mean=2.531 :  15%|█▍        | 284/1898 [00:04<00:19, 82.08it/s]"
     ]
    },
    {
     "name": "stdout",
     "output_type": "stream",
     "text": [
      "torch.Size([64, 1, 18])\n",
      "torch.Size([64])\n",
      "torch.Size([64, 1, 18])\n",
      "torch.Size([64])\n",
      "torch.Size([64, 1, 18])\n",
      "torch.Size([64])\n",
      "torch.Size([64, 1, 18])\n",
      "torch.Size([64])\n",
      "torch.Size([64, 1, 18])\n",
      "torch.Size([64])\n",
      "torch.Size([64, 1, 18])\n",
      "torch.Size([64])\n",
      "torch.Size([64, 1, 18])\n",
      "torch.Size([64])\n",
      "torch.Size([64, 1, 18])\n",
      "torch.Size([64])\n",
      "torch.Size([64, 1, 18])\n",
      "torch.Size([64])\n",
      "torch.Size([64, 1, 18])\n",
      "torch.Size([64])\n",
      "torch.Size([64, 1, 18])\n",
      "torch.Size([64])\n",
      "torch.Size([64, 1, 18])\n",
      "torch.Size([64])\n",
      "torch.Size([64, 1, 18])\n",
      "torch.Size([64])\n",
      "torch.Size([64, 1, 18])\n",
      "torch.Size([64])\n",
      "torch.Size([64, 1, 18])\n",
      "torch.Size([64])\n",
      "torch.Size([64, 1, 18])\n",
      "torch.Size([64])\n"
     ]
    },
    {
     "name": "stderr",
     "output_type": "stream",
     "text": [
      "Epoch [5/5], loss_mean=2.532 :  15%|█▌        | 293/1898 [00:04<00:20, 76.93it/s]"
     ]
    },
    {
     "name": "stdout",
     "output_type": "stream",
     "text": [
      "torch.Size([64, 1, 18])\n",
      "torch.Size([64])\n",
      "torch.Size([64, 1, 18])\n",
      "torch.Size([64])\n",
      "torch.Size([64, 1, 18])\n",
      "torch.Size([64])\n",
      "torch.Size([64, 1, 18])\n",
      "torch.Size([64])\n",
      "torch.Size([64, 1, 18])\n",
      "torch.Size([64])\n",
      "torch.Size([64, 1, 18])\n",
      "torch.Size([64])\n",
      "torch.Size([64, 1, 18])\n",
      "torch.Size([64])\n",
      "torch.Size([64, 1, 18])\n",
      "torch.Size([64])\n",
      "torch.Size([64, 1, 18])\n",
      "torch.Size([64])\n",
      "torch.Size([64, 1, 18])\n",
      "torch.Size([64])\n",
      "torch.Size([64, 1, 18])\n",
      "torch.Size([64])\n",
      "torch.Size([64, 1, 18])\n",
      "torch.Size([64])\n"
     ]
    },
    {
     "name": "stderr",
     "output_type": "stream",
     "text": [
      "Epoch [5/5], loss_mean=2.532 :  16%|█▌        | 301/1898 [00:04<00:22, 70.70it/s]"
     ]
    },
    {
     "name": "stdout",
     "output_type": "stream",
     "text": [
      "torch.Size([64, 1, 18])\n",
      "torch.Size([64])\n",
      "torch.Size([64, 1, 18])\n",
      "torch.Size([64])\n",
      "torch.Size([64, 1, 18])\n",
      "torch.Size([64])\n",
      "torch.Size([64, 1, 18])\n",
      "torch.Size([64])\n",
      "torch.Size([64, 1, 18])\n",
      "torch.Size([64])\n",
      "torch.Size([64, 1, 18])\n",
      "torch.Size([64])\n",
      "torch.Size([64, 1, 18])\n",
      "torch.Size([64])\n",
      "torch.Size([64, 1, 18])\n",
      "torch.Size([64])\n",
      "torch.Size([64, 1, 18])\n",
      "torch.Size([64])\n",
      "torch.Size([64, 1, 18])\n",
      "torch.Size([64])\n",
      "torch.Size([64, 1, 18])\n",
      "torch.Size([64])\n",
      "torch.Size([64, 1, 18])\n",
      "torch.Size([64])\n"
     ]
    },
    {
     "name": "stderr",
     "output_type": "stream",
     "text": [
      "Epoch [5/5], loss_mean=2.532 :  17%|█▋        | 321/1898 [00:05<00:19, 79.65it/s]"
     ]
    },
    {
     "name": "stdout",
     "output_type": "stream",
     "text": [
      "torch.Size([64, 1, 18])\n",
      "torch.Size([64])\n",
      "torch.Size([64, 1, 18])\n",
      "torch.Size([64])\n",
      "torch.Size([64, 1, 18])\n",
      "torch.Size([64])\n",
      "torch.Size([64, 1, 18])\n",
      "torch.Size([64])\n",
      "torch.Size([64, 1, 18])\n",
      "torch.Size([64])\n",
      "torch.Size([64, 1, 18])\n",
      "torch.Size([64])\n",
      "torch.Size([64, 1, 18])\n",
      "torch.Size([64])\n",
      "torch.Size([64, 1, 18])\n",
      "torch.Size([64])\n",
      "torch.Size([64, 1, 18])\n",
      "torch.Size([64])\n",
      "torch.Size([64, 1, 18])\n",
      "torch.Size([64])\n",
      "torch.Size([64, 1, 18])\n",
      "torch.Size([64])\n",
      "torch.Size([64, 1, 18])\n",
      "torch.Size([64])\n",
      "torch.Size([64, 1, 18])\n",
      "torch.Size([64])\n",
      "torch.Size([64, 1, 18])\n",
      "torch.Size([64])\n",
      "torch.Size([64, 1, 18])\n",
      "torch.Size([64])\n",
      "torch.Size([64, 1, 18])\n",
      "torch.Size([64])\n",
      "torch.Size([64, 1, 18])\n",
      "torch.Size([64])\n",
      "torch.Size([64, 1, 18])\n",
      "torch.Size([64])\n"
     ]
    },
    {
     "name": "stderr",
     "output_type": "stream",
     "text": [
      "Epoch [5/5], loss_mean=2.531 :  17%|█▋        | 330/1898 [00:05<00:19, 82.06it/s]"
     ]
    },
    {
     "name": "stdout",
     "output_type": "stream",
     "text": [
      "torch.Size([64, 1, 18])\n",
      "torch.Size([64])\n",
      "torch.Size([64, 1, 18])\n",
      "torch.Size([64])\n",
      "torch.Size([64, 1, 18])\n",
      "torch.Size([64])\n",
      "torch.Size([64, 1, 18])\n",
      "torch.Size([64])\n",
      "torch.Size([64, 1, 18])\n",
      "torch.Size([64])\n",
      "torch.Size([64, 1, 18])\n",
      "torch.Size([64])\n",
      "torch.Size([64, 1, 18])\n",
      "torch.Size([64])\n"
     ]
    },
    {
     "name": "stderr",
     "output_type": "stream",
     "text": [
      "Epoch [5/5], loss_mean=2.531 :  18%|█▊        | 339/1898 [00:05<00:28, 54.40it/s]"
     ]
    },
    {
     "name": "stdout",
     "output_type": "stream",
     "text": [
      "torch.Size([64, 1, 18])\n",
      "torch.Size([64])\n",
      "torch.Size([64, 1, 18])\n",
      "torch.Size([64])\n",
      "torch.Size([64, 1, 18])\n",
      "torch.Size([64])\n",
      "torch.Size([64, 1, 18])\n",
      "torch.Size([64])\n",
      "torch.Size([64, 1, 18])\n",
      "torch.Size([64])\n",
      "torch.Size([64, 1, 18])\n",
      "torch.Size([64])\n"
     ]
    },
    {
     "name": "stderr",
     "output_type": "stream",
     "text": [
      "Epoch [5/5], loss_mean=2.531 :  18%|█▊        | 346/1898 [00:05<00:35, 44.08it/s]"
     ]
    },
    {
     "name": "stdout",
     "output_type": "stream",
     "text": [
      "torch.Size([64, 1, 18])\n",
      "torch.Size([64])\n",
      "torch.Size([64, 1, 18])\n",
      "torch.Size([64])\n",
      "torch.Size([64, 1, 18])\n",
      "torch.Size([64])\n",
      "torch.Size([64, 1, 18])\n",
      "torch.Size([64])\n",
      "torch.Size([64, 1, 18])\n",
      "torch.Size([64])\n",
      "torch.Size([64, 1, 18])\n",
      "torch.Size([64])\n",
      "torch.Size([64, 1, 18])\n",
      "torch.Size([64])\n",
      "torch.Size([64, 1, 18])\n",
      "torch.Size([64])\n"
     ]
    },
    {
     "name": "stderr",
     "output_type": "stream",
     "text": [
      "Epoch [5/5], loss_mean=2.531 :  19%|█▊        | 352/1898 [00:05<00:34, 45.29it/s]"
     ]
    },
    {
     "name": "stdout",
     "output_type": "stream",
     "text": [
      "torch.Size([64, 1, 18])\n",
      "torch.Size([64])\n",
      "torch.Size([64, 1, 18])\n",
      "torch.Size([64])\n",
      "torch.Size([64, 1, 18])\n",
      "torch.Size([64])\n",
      "torch.Size([64, 1, 18])\n",
      "torch.Size([64])\n",
      "torch.Size([64, 1, 18])\n",
      "torch.Size([64])\n",
      "torch.Size([64, 1, 18])\n",
      "torch.Size([64])\n",
      "torch.Size([64, 1, 18])\n",
      "torch.Size([64])\n",
      "torch.Size([64, 1, 18])\n",
      "torch.Size([64])\n",
      "torch.Size([64, 1, 18])\n",
      "torch.Size([64])\n",
      "torch.Size([64, 1, 18])\n",
      "torch.Size([64])\n",
      "torch.Size([64, 1, 18])\n",
      "torch.Size([64])\n",
      "torch.Size([64, 1, 18])\n",
      "torch.Size([64])\n",
      "torch.Size([64, 1, 18])\n",
      "torch.Size([64])\n"
     ]
    },
    {
     "name": "stderr",
     "output_type": "stream",
     "text": [
      "Epoch [5/5], loss_mean=2.531 :  19%|█▉        | 370/1898 [00:06<00:25, 60.55it/s]"
     ]
    },
    {
     "name": "stdout",
     "output_type": "stream",
     "text": [
      "torch.Size([64, 1, 18])\n",
      "torch.Size([64])\n",
      "torch.Size([64, 1, 18])\n",
      "torch.Size([64])\n",
      "torch.Size([64, 1, 18])\n",
      "torch.Size([64])\n",
      "torch.Size([64, 1, 18])\n",
      "torch.Size([64])\n",
      "torch.Size([64, 1, 18])\n",
      "torch.Size([64])\n",
      "torch.Size([64, 1, 18])\n",
      "torch.Size([64])\n",
      "torch.Size([64, 1, 18])\n",
      "torch.Size([64])\n",
      "torch.Size([64, 1, 18])\n",
      "torch.Size([64])\n",
      "torch.Size([64, 1, 18])\n",
      "torch.Size([64])\n",
      "torch.Size([64, 1, 18])\n",
      "torch.Size([64])\n",
      "torch.Size([64, 1, 18])\n",
      "torch.Size([64])\n",
      "torch.Size([64, 1, 18])\n",
      "torch.Size([64])\n",
      "torch.Size([64, 1, 18])\n",
      "torch.Size([64])\n",
      "torch.Size([64, 1, 18])\n",
      "torch.Size([64])\n",
      "torch.Size([64, 1, 18])\n",
      "torch.Size([64])\n",
      "torch.Size([64, 1, 18])\n",
      "torch.Size([64])\n",
      "torch.Size([64, 1, 18])\n",
      "torch.Size([64])\n"
     ]
    },
    {
     "name": "stderr",
     "output_type": "stream",
     "text": [
      "Epoch [5/5], loss_mean=2.532 :  20%|██        | 388/1898 [00:06<00:21, 70.36it/s]"
     ]
    },
    {
     "name": "stdout",
     "output_type": "stream",
     "text": [
      "torch.Size([64, 1, 18])\n",
      "torch.Size([64])\n",
      "torch.Size([64, 1, 18])\n",
      "torch.Size([64])\n",
      "torch.Size([64, 1, 18])\n",
      "torch.Size([64])\n",
      "torch.Size([64, 1, 18])\n",
      "torch.Size([64])\n",
      "torch.Size([64, 1, 18])\n",
      "torch.Size([64])\n",
      "torch.Size([64, 1, 18])\n",
      "torch.Size([64])\n",
      "torch.Size([64, 1, 18])\n",
      "torch.Size([64])\n",
      "torch.Size([64, 1, 18])\n",
      "torch.Size([64])\n",
      "torch.Size([64, 1, 18])\n",
      "torch.Size([64])\n",
      "torch.Size([64, 1, 18])\n",
      "torch.Size([64])\n",
      "torch.Size([64, 1, 18])\n",
      "torch.Size([64])\n",
      "torch.Size([64, 1, 18])\n",
      "torch.Size([64])\n",
      "torch.Size([64, 1, 18])\n",
      "torch.Size([64])\n",
      "torch.Size([64, 1, 18])\n",
      "torch.Size([64])\n",
      "torch.Size([64, 1, 18])\n",
      "torch.Size([64])\n",
      "torch.Size([64, 1, 18])\n",
      "torch.Size([64])\n"
     ]
    },
    {
     "name": "stderr",
     "output_type": "stream",
     "text": [
      "Epoch [5/5], loss_mean=2.531 :  21%|██▏       | 404/1898 [00:06<00:20, 71.77it/s]"
     ]
    },
    {
     "name": "stdout",
     "output_type": "stream",
     "text": [
      "torch.Size([64, 1, 18])\n",
      "torch.Size([64])\n",
      "torch.Size([64, 1, 18])\n",
      "torch.Size([64])\n",
      "torch.Size([64, 1, 18])\n",
      "torch.Size([64])\n",
      "torch.Size([64, 1, 18])\n",
      "torch.Size([64])\n",
      "torch.Size([64, 1, 18])\n",
      "torch.Size([64])\n",
      "torch.Size([64, 1, 18])\n",
      "torch.Size([64])\n",
      "torch.Size([64, 1, 18])\n",
      "torch.Size([64])\n",
      "torch.Size([64, 1, 18])\n",
      "torch.Size([64])\n",
      "torch.Size([64, 1, 18])\n",
      "torch.Size([64])\n",
      "torch.Size([64, 1, 18])\n",
      "torch.Size([64])\n",
      "torch.Size([64, 1, 18])\n",
      "torch.Size([64])\n",
      "torch.Size([64, 1, 18])\n",
      "torch.Size([64])\n",
      "torch.Size([64, 1, 18])\n",
      "torch.Size([64])\n"
     ]
    },
    {
     "name": "stderr",
     "output_type": "stream",
     "text": [
      "Epoch [5/5], loss_mean=2.531 :  22%|██▏       | 412/1898 [00:06<00:21, 67.56it/s]"
     ]
    },
    {
     "name": "stdout",
     "output_type": "stream",
     "text": [
      "torch.Size([64, 1, 18])\n",
      "torch.Size([64])\n",
      "torch.Size([64, 1, 18])\n",
      "torch.Size([64])\n",
      "torch.Size([64, 1, 18])\n",
      "torch.Size([64])\n",
      "torch.Size([64, 1, 18])\n",
      "torch.Size([64])\n",
      "torch.Size([64, 1, 18])\n",
      "torch.Size([64])\n"
     ]
    },
    {
     "name": "stderr",
     "output_type": "stream",
     "text": [
      "Epoch [5/5], loss_mean=2.531 :  22%|██▏       | 412/1898 [00:06<00:21, 67.56it/s]"
     ]
    },
    {
     "name": "stdout",
     "output_type": "stream",
     "text": [
      "torch.Size([64, 1, 18])\n",
      "torch.Size([64])\n",
      "torch.Size([64, 1, 18])\n",
      "torch.Size([64])\n",
      "torch.Size([64, 1, 18])\n",
      "torch.Size([64])\n"
     ]
    },
    {
     "name": "stderr",
     "output_type": "stream",
     "text": [
      "Epoch [5/5], loss_mean=2.531 :  22%|██▏       | 420/1898 [00:07<00:39, 37.72it/s]"
     ]
    },
    {
     "name": "stdout",
     "output_type": "stream",
     "text": [
      "torch.Size([64, 1, 18])\n",
      "torch.Size([64])\n",
      "torch.Size([64, 1, 18])\n",
      "torch.Size([64])\n",
      "torch.Size([64, 1, 18])\n",
      "torch.Size([64])\n",
      "torch.Size([64, 1, 18])\n",
      "torch.Size([64])\n",
      "torch.Size([64, 1, 18])\n",
      "torch.Size([64])\n",
      "torch.Size([64, 1, 18])\n",
      "torch.Size([64])\n",
      "torch.Size([64, 1, 18])\n",
      "torch.Size([64])\n",
      "torch.Size([64, 1, 18])\n",
      "torch.Size([64])\n",
      "torch.Size([64, 1, 18])\n",
      "torch.Size([64])\n",
      "torch.Size([64, 1, 18])\n",
      "torch.Size([64])\n",
      "torch.Size([64, 1, 18])\n",
      "torch.Size([64])\n",
      "torch.Size([64, 1, 18])\n",
      "torch.Size([64])\n"
     ]
    },
    {
     "name": "stderr",
     "output_type": "stream",
     "text": [
      "Epoch [5/5], loss_mean=2.531 :  23%|██▎       | 437/1898 [00:07<00:31, 47.10it/s]"
     ]
    },
    {
     "name": "stdout",
     "output_type": "stream",
     "text": [
      "torch.Size([64, 1, 18])\n",
      "torch.Size([64])\n",
      "torch.Size([64, 1, 18])\n",
      "torch.Size([64])\n",
      "torch.Size([64, 1, 18])\n",
      "torch.Size([64])\n",
      "torch.Size([64, 1, 18])\n",
      "torch.Size([64])\n",
      "torch.Size([64, 1, 18])\n",
      "torch.Size([64])\n",
      "torch.Size([64, 1, 18])\n",
      "torch.Size([64])\n",
      "torch.Size([64, 1, 18])\n",
      "torch.Size([64])\n",
      "torch.Size([64, 1, 18])\n",
      "torch.Size([64])\n",
      "torch.Size([64, 1, 18])\n",
      "torch.Size([64])\n"
     ]
    },
    {
     "name": "stderr",
     "output_type": "stream",
     "text": [
      "Epoch [5/5], loss_mean=2.531 :  23%|██▎       | 445/1898 [00:07<00:27, 53.19it/s]"
     ]
    },
    {
     "name": "stdout",
     "output_type": "stream",
     "text": [
      "torch.Size([64, 1, 18])\n",
      "torch.Size([64])\n",
      "torch.Size([64, 1, 18])\n",
      "torch.Size([64])\n",
      "torch.Size([64, 1, 18])\n",
      "torch.Size([64])\n",
      "torch.Size([64, 1, 18])\n",
      "torch.Size([64])\n",
      "torch.Size([64, 1, 18])\n",
      "torch.Size([64])\n",
      "torch.Size([64, 1, 18])\n",
      "torch.Size([64])\n",
      "torch.Size([64, 1, 18])\n",
      "torch.Size([64])\n",
      "torch.Size([64, 1, 18])\n",
      "torch.Size([64])\n",
      "torch.Size([64, 1, 18])\n",
      "torch.Size([64])\n",
      "torch.Size([64, 1, 18])\n",
      "torch.Size([64])\n",
      "torch.Size([64, 1, 18])\n",
      "torch.Size([64])\n",
      "torch.Size([64, 1, 18])\n",
      "torch.Size([64])\n",
      "torch.Size([64, 1, 18])\n",
      "torch.Size([64])\n",
      "torch.Size([64, 1, 18])\n",
      "torch.Size([64])\n"
     ]
    },
    {
     "name": "stderr",
     "output_type": "stream",
     "text": [
      "Epoch [5/5], loss_mean=2.531 :  24%|██▍       | 460/1898 [00:07<00:24, 59.33it/s]"
     ]
    },
    {
     "name": "stdout",
     "output_type": "stream",
     "text": [
      "torch.Size([64, 1, 18])\n",
      "torch.Size([64])\n",
      "torch.Size([64, 1, 18])\n",
      "torch.Size([64])\n",
      "torch.Size([64, 1, 18])\n",
      "torch.Size([64])\n",
      "torch.Size([64, 1, 18])\n",
      "torch.Size([64])\n",
      "torch.Size([64, 1, 18])\n",
      "torch.Size([64])\n",
      "torch.Size([64, 1, 18])\n",
      "torch.Size([64])\n",
      "torch.Size([64, 1, 18])\n",
      "torch.Size([64])\n",
      "torch.Size([64, 1, 18])\n",
      "torch.Size([64])\n",
      "torch.Size([64, 1, 18])\n",
      "torch.Size([64])\n",
      "torch.Size([64, 1, 18])\n",
      "torch.Size([64])\n",
      "torch.Size([64, 1, 18])\n",
      "torch.Size([64])\n",
      "torch.Size([64, 1, 18])\n",
      "torch.Size([64])\n",
      "torch.Size([64, 1, 18])\n",
      "torch.Size([64])\n",
      "torch.Size([64, 1, 18])\n",
      "torch.Size([64])\n"
     ]
    },
    {
     "name": "stderr",
     "output_type": "stream",
     "text": [
      "Epoch [5/5], loss_mean=2.531 :  25%|██▌       | 477/1898 [00:07<00:20, 70.13it/s]"
     ]
    },
    {
     "name": "stdout",
     "output_type": "stream",
     "text": [
      "torch.Size([64, 1, 18])\n",
      "torch.Size([64])\n",
      "torch.Size([64, 1, 18])\n",
      "torch.Size([64])\n",
      "torch.Size([64, 1, 18])\n",
      "torch.Size([64])\n",
      "torch.Size([64, 1, 18])\n",
      "torch.Size([64])\n",
      "torch.Size([64, 1, 18])\n",
      "torch.Size([64])\n",
      "torch.Size([64, 1, 18])\n",
      "torch.Size([64])\n",
      "torch.Size([64, 1, 18])\n",
      "torch.Size([64])\n",
      "torch.Size([64, 1, 18])\n",
      "torch.Size([64])\n",
      "torch.Size([64, 1, 18])\n",
      "torch.Size([64])\n",
      "torch.Size([64, 1, 18])\n",
      "torch.Size([64])\n",
      "torch.Size([64, 1, 18])\n",
      "torch.Size([64])\n",
      "torch.Size([64, 1, 18])\n",
      "torch.Size([64])\n",
      "torch.Size([64, 1, 18])\n",
      "torch.Size([64])\n",
      "torch.Size([64, 1, 18])\n",
      "torch.Size([64])\n",
      "torch.Size([64, 1, 18])\n",
      "torch.Size([64])\n",
      "torch.Size([64, 1, 18])\n",
      "torch.Size([64])\n"
     ]
    },
    {
     "name": "stderr",
     "output_type": "stream",
     "text": [
      "Epoch [5/5], loss_mean=2.531 :  26%|██▌       | 494/1898 [00:08<00:18, 74.19it/s]"
     ]
    },
    {
     "name": "stdout",
     "output_type": "stream",
     "text": [
      "torch.Size([64, 1, 18])\n",
      "torch.Size([64])\n",
      "torch.Size([64, 1, 18])\n",
      "torch.Size([64])\n",
      "torch.Size([64, 1, 18])\n",
      "torch.Size([64])\n",
      "torch.Size([64, 1, 18])\n",
      "torch.Size([64])\n",
      "torch.Size([64, 1, 18])\n",
      "torch.Size([64])\n",
      "torch.Size([64, 1, 18])\n",
      "torch.Size([64])\n",
      "torch.Size([64, 1, 18])\n",
      "torch.Size([64])\n",
      "torch.Size([64, 1, 18])\n",
      "torch.Size([64])\n",
      "torch.Size([64, 1, 18])\n",
      "torch.Size([64])\n",
      "torch.Size([64, 1, 18])\n",
      "torch.Size([64])\n",
      "torch.Size([64, 1, 18])\n",
      "torch.Size([64])\n",
      "torch.Size([64, 1, 18])\n",
      "torch.Size([64])\n",
      "torch.Size([64, 1, 18])\n",
      "torch.Size([64])\n",
      "torch.Size([64, 1, 18])\n",
      "torch.Size([64])\n",
      "torch.Size([64, 1, 18])\n",
      "torch.Size([64])\n"
     ]
    },
    {
     "name": "stderr",
     "output_type": "stream",
     "text": [
      "Epoch [5/5], loss_mean=2.531 :  26%|██▋       | 502/1898 [00:08<00:22, 63.00it/s]"
     ]
    },
    {
     "name": "stdout",
     "output_type": "stream",
     "text": [
      "torch.Size([64, 1, 18])\n",
      "torch.Size([64])\n",
      "torch.Size([64, 1, 18])\n",
      "torch.Size([64])\n",
      "torch.Size([64, 1, 18])\n",
      "torch.Size([64])\n",
      "torch.Size([64, 1, 18])\n",
      "torch.Size([64])\n",
      "torch.Size([64, 1, 18])\n",
      "torch.Size([64])\n",
      "torch.Size([64, 1, 18])\n",
      "torch.Size([64])\n",
      "torch.Size([64, 1, 18])\n",
      "torch.Size([64])\n",
      "torch.Size([64, 1, 18])\n",
      "torch.Size([64])\n"
     ]
    },
    {
     "name": "stderr",
     "output_type": "stream",
     "text": [
      "Epoch [5/5], loss_mean=2.532 :  27%|██▋       | 509/1898 [00:08<00:22, 60.91it/s]"
     ]
    },
    {
     "name": "stdout",
     "output_type": "stream",
     "text": [
      "torch.Size([64, 1, 18])\n",
      "torch.Size([64])\n",
      "torch.Size([64, 1, 18])\n",
      "torch.Size([64])\n",
      "torch.Size([64, 1, 18])\n",
      "torch.Size([64])\n",
      "torch.Size([64, 1, 18])\n",
      "torch.Size([64])\n",
      "torch.Size([64, 1, 18])\n",
      "torch.Size([64])\n",
      "torch.Size([64, 1, 18])\n",
      "torch.Size([64])\n",
      "torch.Size([64, 1, 18])\n",
      "torch.Size([64])\n",
      "torch.Size([64, 1, 18])\n",
      "torch.Size([64])\n",
      "torch.Size([64, 1, 18])\n",
      "torch.Size([64])\n",
      "torch.Size([64, 1, 18])\n",
      "torch.Size([64])\n",
      "torch.Size([64, 1, 18])\n",
      "torch.Size([64])\n",
      "torch.Size([64, 1, 18])\n",
      "torch.Size([64])\n",
      "torch.Size([64, 1, 18])\n",
      "torch.Size([64])\n",
      "torch.Size([64, 1, 18])\n",
      "torch.Size([64])\n"
     ]
    },
    {
     "name": "stderr",
     "output_type": "stream",
     "text": [
      "Epoch [5/5], loss_mean=2.532 :  28%|██▊       | 528/1898 [00:08<00:18, 73.37it/s]"
     ]
    },
    {
     "name": "stdout",
     "output_type": "stream",
     "text": [
      "torch.Size([64, 1, 18])\n",
      "torch.Size([64])\n",
      "torch.Size([64, 1, 18])\n",
      "torch.Size([64])\n",
      "torch.Size([64, 1, 18])\n",
      "torch.Size([64])\n",
      "torch.Size([64, 1, 18])\n",
      "torch.Size([64])\n",
      "torch.Size([64, 1, 18])\n",
      "torch.Size([64])\n",
      "torch.Size([64, 1, 18])\n",
      "torch.Size([64])\n",
      "torch.Size([64, 1, 18])\n",
      "torch.Size([64])\n",
      "torch.Size([64, 1, 18])\n",
      "torch.Size([64])\n",
      "torch.Size([64, 1, 18])\n",
      "torch.Size([64])\n",
      "torch.Size([64, 1, 18])\n",
      "torch.Size([64])\n",
      "torch.Size([64, 1, 18])\n",
      "torch.Size([64])\n",
      "torch.Size([64, 1, 18])\n",
      "torch.Size([64])\n",
      "torch.Size([64, 1, 18])\n",
      "torch.Size([64])\n",
      "torch.Size([64, 1, 18])\n",
      "torch.Size([64])\n",
      "torch.Size([64, 1, 18])\n",
      "torch.Size([64])\n",
      "torch.Size([64, 1, 18])\n",
      "torch.Size([64])\n",
      "torch.Size([64, 1, 18])\n",
      "torch.Size([64])\n",
      "torch.Size([64, 1, 18])\n",
      "torch.Size([64])\n"
     ]
    },
    {
     "name": "stderr",
     "output_type": "stream",
     "text": [
      "Epoch [5/5], loss_mean=2.531 :  29%|██▉       | 547/1898 [00:08<00:16, 82.11it/s]"
     ]
    },
    {
     "name": "stdout",
     "output_type": "stream",
     "text": [
      "torch.Size([64, 1, 18])\n",
      "torch.Size([64])\n",
      "torch.Size([64, 1, 18])\n",
      "torch.Size([64])\n",
      "torch.Size([64, 1, 18])\n",
      "torch.Size([64])\n",
      "torch.Size([64, 1, 18])\n",
      "torch.Size([64])\n",
      "torch.Size([64, 1, 18])\n",
      "torch.Size([64])\n",
      "torch.Size([64, 1, 18])\n",
      "torch.Size([64])\n",
      "torch.Size([64, 1, 18])\n",
      "torch.Size([64])\n",
      "torch.Size([64, 1, 18])\n",
      "torch.Size([64])\n",
      "torch.Size([64, 1, 18])\n",
      "torch.Size([64])\n",
      "torch.Size([64, 1, 18])\n",
      "torch.Size([64])\n",
      "torch.Size([64, 1, 18])\n",
      "torch.Size([64])\n",
      "torch.Size([64, 1, 18])\n",
      "torch.Size([64])\n",
      "torch.Size([64, 1, 18])\n",
      "torch.Size([64])\n",
      "torch.Size([64, 1, 18])\n",
      "torch.Size([64])\n",
      "torch.Size([64, 1, 18])\n",
      "torch.Size([64])\n"
     ]
    },
    {
     "name": "stderr",
     "output_type": "stream",
     "text": [
      "Epoch [5/5], loss_mean=2.531 :  29%|██▉       | 556/1898 [00:08<00:22, 60.46it/s]"
     ]
    },
    {
     "name": "stdout",
     "output_type": "stream",
     "text": [
      "torch.Size([64, 1, 18])\n",
      "torch.Size([64])\n",
      "torch.Size([64, 1, 18])\n",
      "torch.Size([64])\n",
      "torch.Size([64, 1, 18])\n",
      "torch.Size([64])\n",
      "torch.Size([64, 1, 18])\n",
      "torch.Size([64])\n",
      "torch.Size([64, 1, 18])\n",
      "torch.Size([64])\n",
      "torch.Size([64, 1, 18])\n",
      "torch.Size([64])\n",
      "torch.Size([64, 1, 18])\n",
      "torch.Size([64])\n"
     ]
    },
    {
     "name": "stderr",
     "output_type": "stream",
     "text": [
      "Epoch [5/5], loss_mean=2.531 :  29%|██▉       | 556/1898 [00:09<00:22, 60.46it/s]"
     ]
    },
    {
     "name": "stdout",
     "output_type": "stream",
     "text": [
      "torch.Size([64, 1, 18])\n",
      "torch.Size([64])\n",
      "torch.Size([64, 1, 18])\n",
      "torch.Size([64])\n",
      "torch.Size([64, 1, 18])\n",
      "torch.Size([64])\n",
      "torch.Size([64, 1, 18])\n",
      "torch.Size([64])\n"
     ]
    },
    {
     "name": "stderr",
     "output_type": "stream",
     "text": [
      "Epoch [5/5], loss_mean=2.531 :  30%|██▉       | 563/1898 [00:09<00:33, 39.35it/s]"
     ]
    },
    {
     "name": "stdout",
     "output_type": "stream",
     "text": [
      "torch.Size([64, 1, 18])\n",
      "torch.Size([64])\n",
      "torch.Size([64, 1, 18])\n",
      "torch.Size([64])\n",
      "torch.Size([64, 1, 18])\n",
      "torch.Size([64])\n",
      "torch.Size([64, 1, 18])\n",
      "torch.Size([64])\n",
      "torch.Size([64, 1, 18])\n",
      "torch.Size([64])\n",
      "torch.Size([64, 1, 18])\n",
      "torch.Size([64])\n"
     ]
    },
    {
     "name": "stderr",
     "output_type": "stream",
     "text": [
      "Epoch [5/5], loss_mean=2.531 :  30%|███       | 574/1898 [00:09<00:35, 37.59it/s]"
     ]
    },
    {
     "name": "stdout",
     "output_type": "stream",
     "text": [
      "torch.Size([64, 1, 18])\n",
      "torch.Size([64])\n",
      "torch.Size([64, 1, 18])\n",
      "torch.Size([64])\n",
      "torch.Size([64, 1, 18])\n",
      "torch.Size([64])\n",
      "torch.Size([64, 1, 18])\n",
      "torch.Size([64])\n",
      "torch.Size([64, 1, 18])\n",
      "torch.Size([64])\n",
      "torch.Size([64, 1, 18])\n",
      "torch.Size([64])\n",
      "torch.Size([64, 1, 18])\n",
      "torch.Size([64])\n",
      "torch.Size([64, 1, 18])\n",
      "torch.Size([64])\n"
     ]
    },
    {
     "name": "stderr",
     "output_type": "stream",
     "text": [
      "Epoch [5/5], loss_mean=2.531 :  31%|███       | 582/1898 [00:09<00:29, 45.13it/s]"
     ]
    },
    {
     "name": "stdout",
     "output_type": "stream",
     "text": [
      "torch.Size([64, 1, 18])\n",
      "torch.Size([64])\n",
      "torch.Size([64, 1, 18])\n",
      "torch.Size([64])\n",
      "torch.Size([64, 1, 18])\n",
      "torch.Size([64])\n",
      "torch.Size([64, 1, 18])\n",
      "torch.Size([64])\n",
      "torch.Size([64, 1, 18])\n",
      "torch.Size([64])\n",
      "torch.Size([64, 1, 18])\n",
      "torch.Size([64])\n",
      "torch.Size([64, 1, 18])\n",
      "torch.Size([64])\n",
      "torch.Size([64, 1, 18])\n",
      "torch.Size([64])\n",
      "torch.Size([64, 1, 18])\n",
      "torch.Size([64])\n",
      "torch.Size([64, 1, 18])\n",
      "torch.Size([64])\n",
      "torch.Size([64, 1, 18])\n",
      "torch.Size([64])\n",
      "torch.Size([64, 1, 18])\n",
      "torch.Size([64])\n",
      "torch.Size([64, 1, 18])\n",
      "torch.Size([64])\n"
     ]
    },
    {
     "name": "stderr",
     "output_type": "stream",
     "text": [
      "Epoch [5/5], loss_mean=2.531 :  32%|███▏      | 599/1898 [00:10<00:22, 57.84it/s]"
     ]
    },
    {
     "name": "stdout",
     "output_type": "stream",
     "text": [
      "torch.Size([64, 1, 18])\n",
      "torch.Size([64])\n",
      "torch.Size([64, 1, 18])\n",
      "torch.Size([64])\n",
      "torch.Size([64, 1, 18])\n",
      "torch.Size([64])\n",
      "torch.Size([64, 1, 18])\n",
      "torch.Size([64])\n",
      "torch.Size([64, 1, 18])\n",
      "torch.Size([64])\n",
      "torch.Size([64, 1, 18])\n",
      "torch.Size([64])\n",
      "torch.Size([64, 1, 18])\n",
      "torch.Size([64])\n",
      "torch.Size([64, 1, 18])\n",
      "torch.Size([64])\n",
      "torch.Size([64, 1, 18])\n",
      "torch.Size([64])\n",
      "torch.Size([64, 1, 18])\n",
      "torch.Size([64])\n",
      "torch.Size([64, 1, 18])\n",
      "torch.Size([64])\n",
      "torch.Size([64, 1, 18])\n",
      "torch.Size([64])\n",
      "torch.Size([64, 1, 18])\n",
      "torch.Size([64])\n",
      "torch.Size([64, 1, 18])\n",
      "torch.Size([64])\n",
      "torch.Size([64, 1, 18])\n",
      "torch.Size([64])\n",
      "torch.Size([64, 1, 18])\n",
      "torch.Size([64])\n",
      "torch.Size([64, 1, 18])\n",
      "torch.Size([64])\n",
      "torch.Size([64, 1, 18])\n",
      "torch.Size([64])\n"
     ]
    },
    {
     "name": "stderr",
     "output_type": "stream",
     "text": [
      "Epoch [5/5], loss_mean=2.531 :  32%|███▏      | 610/1898 [00:10<00:20, 64.30it/s]"
     ]
    },
    {
     "name": "stdout",
     "output_type": "stream",
     "text": [
      "torch.Size([64, 1, 18])\n",
      "torch.Size([64])\n",
      "torch.Size([64, 1, 18])\n",
      "torch.Size([64])\n",
      "torch.Size([64, 1, 18])\n",
      "torch.Size([64])\n",
      "torch.Size([64, 1, 18])\n",
      "torch.Size([64])\n",
      "torch.Size([64, 1, 18])\n",
      "torch.Size([64])\n",
      "torch.Size([64, 1, 18])\n",
      "torch.Size([64])\n",
      "torch.Size([64, 1, 18])\n",
      "torch.Size([64])\n",
      "torch.Size([64, 1, 18])\n",
      "torch.Size([64])\n",
      "torch.Size([64, 1, 18])\n",
      "torch.Size([64])\n",
      "torch.Size([64, 1, 18])\n",
      "torch.Size([64])\n",
      "torch.Size([64, 1, 18])\n",
      "torch.Size([64])\n",
      "torch.Size([64, 1, 18])\n",
      "torch.Size([64])\n"
     ]
    },
    {
     "name": "stderr",
     "output_type": "stream",
     "text": [
      "Epoch [5/5], loss_mean=2.531 :  33%|███▎      | 627/1898 [00:10<00:19, 66.41it/s]"
     ]
    },
    {
     "name": "stdout",
     "output_type": "stream",
     "text": [
      "torch.Size([64, 1, 18])\n",
      "torch.Size([64])\n",
      "torch.Size([64, 1, 18])\n",
      "torch.Size([64])\n",
      "torch.Size([64, 1, 18])\n",
      "torch.Size([64])\n",
      "torch.Size([64, 1, 18])\n",
      "torch.Size([64])\n",
      "torch.Size([64, 1, 18])\n",
      "torch.Size([64])\n",
      "torch.Size([64, 1, 18])\n",
      "torch.Size([64])\n",
      "torch.Size([64, 1, 18])\n",
      "torch.Size([64])\n",
      "torch.Size([64, 1, 18])\n",
      "torch.Size([64])\n",
      "torch.Size([64, 1, 18])\n",
      "torch.Size([64])\n",
      "torch.Size([64, 1, 18])\n",
      "torch.Size([64])\n",
      "torch.Size([64, 1, 18])\n",
      "torch.Size([64])\n",
      "torch.Size([64, 1, 18])\n",
      "torch.Size([64])\n"
     ]
    },
    {
     "name": "stderr",
     "output_type": "stream",
     "text": [
      "Epoch [5/5], loss_mean=2.531 :  33%|███▎      | 634/1898 [00:10<00:21, 59.92it/s]"
     ]
    },
    {
     "name": "stdout",
     "output_type": "stream",
     "text": [
      "torch.Size([64, 1, 18])\n",
      "torch.Size([64])\n",
      "torch.Size([64, 1, 18])\n",
      "torch.Size([64])\n",
      "torch.Size([64, 1, 18])\n",
      "torch.Size([64])\n",
      "torch.Size([64, 1, 18])\n",
      "torch.Size([64])\n",
      "torch.Size([64, 1, 18])\n",
      "torch.Size([64])\n",
      "torch.Size([64, 1, 18])\n",
      "torch.Size([64])\n",
      "torch.Size([64, 1, 18])\n",
      "torch.Size([64])\n",
      "torch.Size([64, 1, 18])\n",
      "torch.Size([64])\n",
      "torch.Size([64, 1, 18])\n",
      "torch.Size([64])\n",
      "torch.Size([64, 1, 18])\n",
      "torch.Size([64])\n",
      "torch.Size([64, 1, 18])\n",
      "torch.Size([64])\n"
     ]
    },
    {
     "name": "stderr",
     "output_type": "stream",
     "text": [
      "Epoch [5/5], loss_mean=2.531 :  34%|███▍      | 642/1898 [00:10<00:21, 57.80it/s]"
     ]
    },
    {
     "name": "stdout",
     "output_type": "stream",
     "text": [
      "torch.Size([64, 1, 18])\n",
      "torch.Size([64])\n"
     ]
    },
    {
     "name": "stderr",
     "output_type": "stream",
     "text": [
      "Epoch [5/5], loss_mean=2.531 :  34%|███▍      | 648/1898 [00:11<00:35, 35.05it/s]"
     ]
    },
    {
     "name": "stdout",
     "output_type": "stream",
     "text": [
      "torch.Size([64, 1, 18])\n",
      "torch.Size([64])\n",
      "torch.Size([64, 1, 18])\n",
      "torch.Size([64])\n",
      "torch.Size([64, 1, 18])\n",
      "torch.Size([64])\n",
      "torch.Size([64, 1, 18])\n",
      "torch.Size([64])\n",
      "torch.Size([64, 1, 18])\n",
      "torch.Size([64])\n",
      "torch.Size([64, 1, 18])\n",
      "torch.Size([64])\n",
      "torch.Size([64, 1, 18])\n",
      "torch.Size([64])\n",
      "torch.Size([64, 1, 18])\n",
      "torch.Size([64])\n",
      "torch.Size([64, 1, 18])\n",
      "torch.Size([64])\n",
      "torch.Size([64, 1, 18])\n",
      "torch.Size([64])\n",
      "torch.Size([64, 1, 18])\n",
      "torch.Size([64])\n"
     ]
    },
    {
     "name": "stderr",
     "output_type": "stream",
     "text": [
      "Epoch [5/5], loss_mean=2.531 :  35%|███▌      | 666/1898 [00:11<00:24, 51.11it/s]"
     ]
    },
    {
     "name": "stdout",
     "output_type": "stream",
     "text": [
      "torch.Size([64, 1, 18])\n",
      "torch.Size([64])\n",
      "torch.Size([64, 1, 18])\n",
      "torch.Size([64])\n",
      "torch.Size([64, 1, 18])\n",
      "torch.Size([64])\n",
      "torch.Size([64, 1, 18])\n",
      "torch.Size([64])\n",
      "torch.Size([64, 1, 18])\n",
      "torch.Size([64])\n",
      "torch.Size([64, 1, 18])\n",
      "torch.Size([64])\n",
      "torch.Size([64, 1, 18])\n",
      "torch.Size([64])\n",
      "torch.Size([64, 1, 18])\n",
      "torch.Size([64])\n",
      "torch.Size([64, 1, 18])\n",
      "torch.Size([64])\n",
      "torch.Size([64, 1, 18])\n",
      "torch.Size([64])\n",
      "torch.Size([64, 1, 18])\n",
      "torch.Size([64])\n",
      "torch.Size([64, 1, 18])\n",
      "torch.Size([64])\n",
      "torch.Size([64, 1, 18])\n",
      "torch.Size([64])\n",
      "torch.Size([64, 1, 18])\n",
      "torch.Size([64])\n",
      "torch.Size([64, 1, 18])\n",
      "torch.Size([64])\n",
      "torch.Size([64, 1, 18])\n",
      "torch.Size([64])\n",
      "torch.Size([64, 1, 18])\n",
      "torch.Size([64])\n"
     ]
    },
    {
     "name": "stderr",
     "output_type": "stream",
     "text": [
      "Epoch [5/5], loss_mean=2.531 :  36%|███▋      | 689/1898 [00:11<00:16, 72.63it/s]"
     ]
    },
    {
     "name": "stdout",
     "output_type": "stream",
     "text": [
      "torch.Size([64, 1, 18])\n",
      "torch.Size([64])\n",
      "torch.Size([64, 1, 18])\n",
      "torch.Size([64])\n",
      "torch.Size([64, 1, 18])\n",
      "torch.Size([64])\n",
      "torch.Size([64, 1, 18])\n",
      "torch.Size([64])\n",
      "torch.Size([64, 1, 18])\n",
      "torch.Size([64])\n",
      "torch.Size([64, 1, 18])\n",
      "torch.Size([64])\n",
      "torch.Size([64, 1, 18])\n",
      "torch.Size([64])\n",
      "torch.Size([64, 1, 18])\n",
      "torch.Size([64])\n",
      "torch.Size([64, 1, 18])\n",
      "torch.Size([64])\n",
      "torch.Size([64, 1, 18])\n",
      "torch.Size([64])\n",
      "torch.Size([64, 1, 18])\n",
      "torch.Size([64])\n",
      "torch.Size([64, 1, 18])\n",
      "torch.Size([64])\n",
      "torch.Size([64, 1, 18])\n",
      "torch.Size([64])\n",
      "torch.Size([64, 1, 18])\n",
      "torch.Size([64])\n",
      "torch.Size([64, 1, 18])\n",
      "torch.Size([64])\n",
      "torch.Size([64, 1, 18])\n",
      "torch.Size([64])\n",
      "torch.Size([64, 1, 18])\n",
      "torch.Size([64])\n",
      "torch.Size([64, 1, 18])\n",
      "torch.Size([64])\n"
     ]
    },
    {
     "name": "stderr",
     "output_type": "stream",
     "text": [
      "Epoch [5/5], loss_mean=2.531 :  37%|███▋      | 698/1898 [00:11<00:15, 76.50it/s]"
     ]
    },
    {
     "name": "stdout",
     "output_type": "stream",
     "text": [
      "torch.Size([64, 1, 18])\n",
      "torch.Size([64])\n",
      "torch.Size([64, 1, 18])\n",
      "torch.Size([64])\n",
      "torch.Size([64, 1, 18])\n",
      "torch.Size([64])\n",
      "torch.Size([64, 1, 18])\n",
      "torch.Size([64])\n",
      "torch.Size([64, 1, 18])\n",
      "torch.Size([64])\n",
      "torch.Size([64, 1, 18])\n",
      "torch.Size([64])\n",
      "torch.Size([64, 1, 18])\n",
      "torch.Size([64])\n",
      "torch.Size([64, 1, 18])\n",
      "torch.Size([64])\n",
      "torch.Size([64, 1, 18])\n",
      "torch.Size([64])\n",
      "torch.Size([64, 1, 18])\n",
      "torch.Size([64])\n",
      "torch.Size([64, 1, 18])\n",
      "torch.Size([64])\n",
      "torch.Size([64, 1, 18])\n",
      "torch.Size([64])\n",
      "torch.Size([64, 1, 18])\n",
      "torch.Size([64])\n",
      "torch.Size([64, 1, 18])\n",
      "torch.Size([64])\n",
      "torch.Size([64, 1, 18])\n",
      "torch.Size([64])\n",
      "torch.Size([64, 1, 18])\n",
      "torch.Size([64])\n",
      "torch.Size([64, 1, 18])\n",
      "torch.Size([64])\n"
     ]
    },
    {
     "name": "stderr",
     "output_type": "stream",
     "text": [
      "Epoch [5/5], loss_mean=2.531 :  37%|███▋      | 707/1898 [00:11<00:14, 79.78it/s]"
     ]
    },
    {
     "name": "stdout",
     "output_type": "stream",
     "text": [
      "torch.Size([64, 1, 18])\n",
      "torch.Size([64])\n",
      "torch.Size([64, 1, 18])\n",
      "torch.Size([64])\n",
      "torch.Size([64, 1, 18])\n",
      "torch.Size([64])\n",
      "torch.Size([64, 1, 18])\n",
      "torch.Size([64])\n",
      "torch.Size([64, 1, 18])\n",
      "torch.Size([64])\n",
      "torch.Size([64, 1, 18])\n",
      "torch.Size([64])\n",
      "torch.Size([64, 1, 18])\n",
      "torch.Size([64])\n",
      "torch.Size([64, 1, 18])\n",
      "torch.Size([64])\n",
      "torch.Size([64, 1, 18])\n",
      "torch.Size([64])\n"
     ]
    },
    {
     "name": "stderr",
     "output_type": "stream",
     "text": [
      "Epoch [5/5], loss_mean=2.531 :  38%|███▊      | 724/1898 [00:12<00:16, 72.23it/s]"
     ]
    },
    {
     "name": "stdout",
     "output_type": "stream",
     "text": [
      "torch.Size([64, 1, 18])\n",
      "torch.Size([64])\n",
      "torch.Size([64, 1, 18])\n",
      "torch.Size([64])\n",
      "torch.Size([64, 1, 18])\n",
      "torch.Size([64])\n",
      "torch.Size([64, 1, 18])\n",
      "torch.Size([64])\n",
      "torch.Size([64, 1, 18])\n",
      "torch.Size([64])\n",
      "torch.Size([64, 1, 18])\n",
      "torch.Size([64])\n",
      "torch.Size([64, 1, 18])\n",
      "torch.Size([64])\n",
      "torch.Size([64, 1, 18])\n",
      "torch.Size([64])\n",
      "torch.Size([64, 1, 18])\n",
      "torch.Size([64])\n",
      "torch.Size([64, 1, 18])\n",
      "torch.Size([64])\n",
      "torch.Size([64, 1, 18])\n",
      "torch.Size([64])\n",
      "torch.Size([64, 1, 18])\n",
      "torch.Size([64])\n",
      "torch.Size([64, 1, 18])\n",
      "torch.Size([64])\n",
      "torch.Size([64, 1, 18])\n",
      "torch.Size([64])\n",
      "torch.Size([64, 1, 18])\n",
      "torch.Size([64])\n",
      "torch.Size([64, 1, 18])\n",
      "torch.Size([64])\n",
      "torch.Size([64, 1, 18])\n",
      "torch.Size([64])\n",
      "torch.Size([64, 1, 18])\n",
      "torch.Size([64])\n",
      "torch.Size([64, 1, 18])\n",
      "torch.Size([64])\n"
     ]
    },
    {
     "name": "stderr",
     "output_type": "stream",
     "text": [
      "Epoch [5/5], loss_mean=2.531 :  39%|███▉      | 744/1898 [00:12<00:14, 81.02it/s]"
     ]
    },
    {
     "name": "stdout",
     "output_type": "stream",
     "text": [
      "torch.Size([64, 1, 18])\n",
      "torch.Size([64])\n",
      "torch.Size([64, 1, 18])\n",
      "torch.Size([64])\n",
      "torch.Size([64, 1, 18])\n",
      "torch.Size([64])\n",
      "torch.Size([64, 1, 18])\n",
      "torch.Size([64])\n",
      "torch.Size([64, 1, 18])\n",
      "torch.Size([64])\n",
      "torch.Size([64, 1, 18])\n",
      "torch.Size([64])\n",
      "torch.Size([64, 1, 18])\n",
      "torch.Size([64])\n",
      "torch.Size([64, 1, 18])\n",
      "torch.Size([64])\n",
      "torch.Size([64, 1, 18])\n",
      "torch.Size([64])\n",
      "torch.Size([64, 1, 18])\n",
      "torch.Size([64])\n",
      "torch.Size([64, 1, 18])\n",
      "torch.Size([64])\n",
      "torch.Size([64, 1, 18])\n",
      "torch.Size([64])\n",
      "torch.Size([64, 1, 18])\n",
      "torch.Size([64])\n",
      "torch.Size([64, 1, 18])\n",
      "torch.Size([64])\n",
      "torch.Size([64, 1, 18])\n",
      "torch.Size([64])\n",
      "torch.Size([64, 1, 18])\n",
      "torch.Size([64])\n",
      "torch.Size([64, 1, 18])\n",
      "torch.Size([64])\n",
      "torch.Size([64, 1, 18])\n",
      "torch.Size([64])\n"
     ]
    },
    {
     "name": "stderr",
     "output_type": "stream",
     "text": [
      "Epoch [5/5], loss_mean=2.531 :  40%|████      | 766/1898 [00:12<00:12, 88.69it/s]"
     ]
    },
    {
     "name": "stdout",
     "output_type": "stream",
     "text": [
      "torch.Size([64, 1, 18])\n",
      "torch.Size([64])\n",
      "torch.Size([64, 1, 18])\n",
      "torch.Size([64])\n",
      "torch.Size([64, 1, 18])\n",
      "torch.Size([64])\n",
      "torch.Size([64, 1, 18])\n",
      "torch.Size([64])\n",
      "torch.Size([64, 1, 18])\n",
      "torch.Size([64])\n",
      "torch.Size([64, 1, 18])\n",
      "torch.Size([64])\n",
      "torch.Size([64, 1, 18])\n",
      "torch.Size([64])\n",
      "torch.Size([64, 1, 18])\n",
      "torch.Size([64])\n",
      "torch.Size([64, 1, 18])\n",
      "torch.Size([64])\n",
      "torch.Size([64, 1, 18])\n",
      "torch.Size([64])\n",
      "torch.Size([64, 1, 18])\n",
      "torch.Size([64])\n",
      "torch.Size([64, 1, 18])\n",
      "torch.Size([64])\n",
      "torch.Size([64, 1, 18])\n",
      "torch.Size([64])\n",
      "torch.Size([64, 1, 18])\n",
      "torch.Size([64])\n",
      "torch.Size([64, 1, 18])\n",
      "torch.Size([64])\n",
      "torch.Size([64, 1, 18])\n",
      "torch.Size([64])\n",
      "torch.Size([64, 1, 18])\n",
      "torch.Size([64])\n",
      "torch.Size([64, 1, 18])\n",
      "torch.Size([64])\n",
      "torch.Size([64, 1, 18])\n",
      "torch.Size([64])\n",
      "torch.Size([64, 1, 18])\n",
      "torch.Size([64])\n"
     ]
    },
    {
     "name": "stderr",
     "output_type": "stream",
     "text": [
      "Epoch [5/5], loss_mean=2.531 :  41%|████      | 776/1898 [00:12<00:12, 87.17it/s]"
     ]
    },
    {
     "name": "stdout",
     "output_type": "stream",
     "text": [
      "torch.Size([64, 1, 18])\n",
      "torch.Size([64])\n",
      "torch.Size([64, 1, 18])\n",
      "torch.Size([64])\n",
      "torch.Size([64, 1, 18])\n",
      "torch.Size([64])\n",
      "torch.Size([64, 1, 18])\n",
      "torch.Size([64])\n",
      "torch.Size([64, 1, 18])\n",
      "torch.Size([64])\n",
      "torch.Size([64, 1, 18])\n",
      "torch.Size([64])\n",
      "torch.Size([64, 1, 18])\n",
      "torch.Size([64])\n"
     ]
    },
    {
     "name": "stderr",
     "output_type": "stream",
     "text": [
      "Epoch [5/5], loss_mean=2.531 :  41%|████      | 776/1898 [00:12<00:12, 87.17it/s]"
     ]
    },
    {
     "name": "stdout",
     "output_type": "stream",
     "text": [
      "torch.Size([64, 1, 18])\n",
      "torch.Size([64])\n",
      "torch.Size([64, 1, 18])\n",
      "torch.Size([64])\n"
     ]
    },
    {
     "name": "stderr",
     "output_type": "stream",
     "text": [
      "Epoch [5/5], loss_mean=2.531 :  42%|████▏     | 793/1898 [00:13<00:22, 48.91it/s]"
     ]
    },
    {
     "name": "stdout",
     "output_type": "stream",
     "text": [
      "torch.Size([64, 1, 18])\n",
      "torch.Size([64])\n",
      "torch.Size([64, 1, 18])\n",
      "torch.Size([64])\n",
      "torch.Size([64, 1, 18])\n",
      "torch.Size([64])\n",
      "torch.Size([64, 1, 18])\n",
      "torch.Size([64])\n",
      "torch.Size([64, 1, 18])\n",
      "torch.Size([64])\n",
      "torch.Size([64, 1, 18])\n",
      "torch.Size([64])\n",
      "torch.Size([64, 1, 18])\n",
      "torch.Size([64])\n",
      "torch.Size([64, 1, 18])\n",
      "torch.Size([64])\n",
      "torch.Size([64, 1, 18])\n",
      "torch.Size([64])\n",
      "torch.Size([64, 1, 18])\n",
      "torch.Size([64])\n",
      "torch.Size([64, 1, 18])\n",
      "torch.Size([64])\n",
      "torch.Size([64, 1, 18])\n",
      "torch.Size([64])\n",
      "torch.Size([64, 1, 18])\n",
      "torch.Size([64])\n",
      "torch.Size([64, 1, 18])\n",
      "torch.Size([64])\n"
     ]
    },
    {
     "name": "stderr",
     "output_type": "stream",
     "text": [
      "Epoch [5/5], loss_mean=2.531 :  42%|████▏     | 800/1898 [00:13<00:23, 46.45it/s]"
     ]
    },
    {
     "name": "stdout",
     "output_type": "stream",
     "text": [
      "torch.Size([64, 1, 18])\n",
      "torch.Size([64])\n",
      "torch.Size([64, 1, 18])\n",
      "torch.Size([64])\n",
      "torch.Size([64, 1, 18])\n",
      "torch.Size([64])\n",
      "torch.Size([64, 1, 18])\n",
      "torch.Size([64])\n",
      "torch.Size([64, 1, 18])\n",
      "torch.Size([64])\n",
      "torch.Size([64, 1, 18])\n",
      "torch.Size([64])\n",
      "torch.Size([64, 1, 18])\n",
      "torch.Size([64])\n",
      "torch.Size([64, 1, 18])\n",
      "torch.Size([64])\n"
     ]
    },
    {
     "name": "stderr",
     "output_type": "stream",
     "text": [
      "Epoch [5/5], loss_mean=2.531 :  42%|████▏     | 806/1898 [00:13<00:24, 43.88it/s]"
     ]
    },
    {
     "name": "stdout",
     "output_type": "stream",
     "text": [
      "torch.Size([64, 1, 18])\n",
      "torch.Size([64])\n",
      "torch.Size([64, 1, 18])\n",
      "torch.Size([64])\n",
      "torch.Size([64, 1, 18])\n",
      "torch.Size([64])\n",
      "torch.Size([64, 1, 18])\n",
      "torch.Size([64])\n",
      "torch.Size([64, 1, 18])\n",
      "torch.Size([64])\n",
      "torch.Size([64, 1, 18])\n",
      "torch.Size([64])\n"
     ]
    },
    {
     "name": "stderr",
     "output_type": "stream",
     "text": [
      "Epoch [5/5], loss_mean=2.531 :  43%|████▎     | 821/1898 [00:13<00:20, 53.35it/s]"
     ]
    },
    {
     "name": "stdout",
     "output_type": "stream",
     "text": [
      "torch.Size([64, 1, 18])\n",
      "torch.Size([64])\n",
      "torch.Size([64, 1, 18])\n",
      "torch.Size([64])\n",
      "torch.Size([64, 1, 18])\n",
      "torch.Size([64])\n",
      "torch.Size([64, 1, 18])\n",
      "torch.Size([64])\n",
      "torch.Size([64, 1, 18])\n",
      "torch.Size([64])\n",
      "torch.Size([64, 1, 18])\n",
      "torch.Size([64])\n",
      "torch.Size([64, 1, 18])\n",
      "torch.Size([64])\n",
      "torch.Size([64, 1, 18])\n",
      "torch.Size([64])\n",
      "torch.Size([64, 1, 18])\n",
      "torch.Size([64])\n",
      "torch.Size([64, 1, 18])\n",
      "torch.Size([64])\n",
      "torch.Size([64, 1, 18])\n",
      "torch.Size([64])\n",
      "torch.Size([64, 1, 18])\n",
      "torch.Size([64])\n",
      "torch.Size([64, 1, 18])\n",
      "torch.Size([64])\n",
      "torch.Size([64, 1, 18])\n",
      "torch.Size([64])\n"
     ]
    },
    {
     "name": "stderr",
     "output_type": "stream",
     "text": [
      "Epoch [5/5], loss_mean=2.531 :  44%|████▎     | 828/1898 [00:13<00:20, 51.84it/s]"
     ]
    },
    {
     "name": "stdout",
     "output_type": "stream",
     "text": [
      "torch.Size([64, 1, 18])\n",
      "torch.Size([64])\n",
      "torch.Size([64, 1, 18])\n",
      "torch.Size([64])\n",
      "torch.Size([64, 1, 18])\n",
      "torch.Size([64])\n",
      "torch.Size([64, 1, 18])\n",
      "torch.Size([64])\n",
      "torch.Size([64, 1, 18])\n",
      "torch.Size([64])\n",
      "torch.Size([64, 1, 18])\n",
      "torch.Size([64])\n",
      "torch.Size([64, 1, 18])\n",
      "torch.Size([64])\n",
      "torch.Size([64, 1, 18])\n",
      "torch.Size([64])\n",
      "torch.Size([64, 1, 18])\n",
      "torch.Size([64])\n",
      "torch.Size([64, 1, 18])\n",
      "torch.Size([64])\n",
      "torch.Size([64, 1, 18])\n",
      "torch.Size([64])\n",
      "torch.Size([64, 1, 18])\n",
      "torch.Size([64])\n",
      "torch.Size([64, 1, 18])\n",
      "torch.Size([64])\n",
      "torch.Size([64, 1, 18])\n",
      "torch.Size([64])\n",
      "torch.Size([64, 1, 18])\n",
      "torch.Size([64])\n"
     ]
    },
    {
     "name": "stderr",
     "output_type": "stream",
     "text": [
      "Epoch [5/5], loss_mean=2.531 :  45%|████▍     | 845/1898 [00:14<00:16, 64.40it/s]"
     ]
    },
    {
     "name": "stdout",
     "output_type": "stream",
     "text": [
      "torch.Size([64, 1, 18])\n",
      "torch.Size([64])\n",
      "torch.Size([64, 1, 18])\n",
      "torch.Size([64])\n",
      "torch.Size([64, 1, 18])\n",
      "torch.Size([64])\n",
      "torch.Size([64, 1, 18])\n",
      "torch.Size([64])\n",
      "torch.Size([64, 1, 18])\n",
      "torch.Size([64])\n",
      "torch.Size([64, 1, 18])\n",
      "torch.Size([64])\n",
      "torch.Size([64, 1, 18])\n",
      "torch.Size([64])\n",
      "torch.Size([64, 1, 18])\n",
      "torch.Size([64])\n",
      "torch.Size([64, 1, 18])\n",
      "torch.Size([64])\n",
      "torch.Size([64, 1, 18])\n",
      "torch.Size([64])\n",
      "torch.Size([64, 1, 18])\n",
      "torch.Size([64])\n",
      "torch.Size([64, 1, 18])\n",
      "torch.Size([64])\n",
      "torch.Size([64, 1, 18])\n",
      "torch.Size([64])\n",
      "torch.Size([64, 1, 18])\n",
      "torch.Size([64])\n"
     ]
    },
    {
     "name": "stderr",
     "output_type": "stream",
     "text": [
      "Epoch [5/5], loss_mean=2.531 :  45%|████▍     | 853/1898 [00:14<00:16, 64.51it/s]"
     ]
    },
    {
     "name": "stdout",
     "output_type": "stream",
     "text": [
      "torch.Size([64, 1, 18])\n",
      "torch.Size([64])\n",
      "torch.Size([64, 1, 18])\n",
      "torch.Size([64])\n",
      "torch.Size([64, 1, 18])\n",
      "torch.Size([64])\n",
      "torch.Size([64, 1, 18])\n",
      "torch.Size([64])\n",
      "torch.Size([64, 1, 18])\n",
      "torch.Size([64])\n",
      "torch.Size([64, 1, 18])\n",
      "torch.Size([64])\n",
      "torch.Size([64, 1, 18])\n",
      "torch.Size([64])\n",
      "torch.Size([64, 1, 18])\n",
      "torch.Size([64])\n"
     ]
    },
    {
     "name": "stderr",
     "output_type": "stream",
     "text": [
      "Epoch [5/5], loss_mean=2.531 :  45%|████▌     | 860/1898 [00:14<00:27, 38.36it/s]"
     ]
    },
    {
     "name": "stdout",
     "output_type": "stream",
     "text": [
      "torch.Size([64, 1, 18])\n",
      "torch.Size([64])\n",
      "torch.Size([64, 1, 18])\n",
      "torch.Size([64])\n"
     ]
    },
    {
     "name": "stderr",
     "output_type": "stream",
     "text": [
      "Epoch [5/5], loss_mean=2.532 :  46%|████▌     | 866/1898 [00:14<00:31, 33.29it/s]"
     ]
    },
    {
     "name": "stdout",
     "output_type": "stream",
     "text": [
      "torch.Size([64, 1, 18])\n",
      "torch.Size([64])\n",
      "torch.Size([64, 1, 18])\n",
      "torch.Size([64])\n",
      "torch.Size([64, 1, 18])\n",
      "torch.Size([64])\n",
      "torch.Size([64, 1, 18])\n",
      "torch.Size([64])\n",
      "torch.Size([64, 1, 18])\n",
      "torch.Size([64])\n",
      "torch.Size([64, 1, 18])\n",
      "torch.Size([64])\n",
      "torch.Size([64, 1, 18])\n",
      "torch.Size([64])\n",
      "torch.Size([64, 1, 18])\n",
      "torch.Size([64])\n",
      "torch.Size([64, 1, 18])\n",
      "torch.Size([64])\n",
      "torch.Size([64, 1, 18])\n",
      "torch.Size([64])\n",
      "torch.Size([64, 1, 18])\n",
      "torch.Size([64])\n",
      "torch.Size([64, 1, 18])\n",
      "torch.Size([64])\n",
      "torch.Size([64, 1, 18])\n",
      "torch.Size([64])\n"
     ]
    },
    {
     "name": "stderr",
     "output_type": "stream",
     "text": [
      "Epoch [5/5], loss_mean=2.531 :  46%|████▋     | 882/1898 [00:15<00:22, 45.29it/s]"
     ]
    },
    {
     "name": "stdout",
     "output_type": "stream",
     "text": [
      "torch.Size([64, 1, 18])\n",
      "torch.Size([64])\n",
      "torch.Size([64, 1, 18])\n",
      "torch.Size([64])\n",
      "torch.Size([64, 1, 18])\n",
      "torch.Size([64])\n",
      "torch.Size([64, 1, 18])\n",
      "torch.Size([64])\n",
      "torch.Size([64, 1, 18])\n",
      "torch.Size([64])\n",
      "torch.Size([64, 1, 18])\n",
      "torch.Size([64])\n",
      "torch.Size([64, 1, 18])\n",
      "torch.Size([64])\n",
      "torch.Size([64, 1, 18])\n",
      "torch.Size([64])\n",
      "torch.Size([64, 1, 18])\n",
      "torch.Size([64])\n",
      "torch.Size([64, 1, 18])\n",
      "torch.Size([64])\n",
      "torch.Size([64, 1, 18])\n",
      "torch.Size([64])\n",
      "torch.Size([64, 1, 18])\n",
      "torch.Size([64])\n",
      "torch.Size([64, 1, 18])\n",
      "torch.Size([64])\n",
      "torch.Size([64, 1, 18])\n",
      "torch.Size([64])\n",
      "torch.Size([64, 1, 18])\n",
      "torch.Size([64])\n"
     ]
    },
    {
     "name": "stderr",
     "output_type": "stream",
     "text": [
      "Epoch [5/5], loss_mean=2.531 :  47%|████▋     | 901/1898 [00:15<00:17, 57.67it/s]"
     ]
    },
    {
     "name": "stdout",
     "output_type": "stream",
     "text": [
      "torch.Size([64, 1, 18])\n",
      "torch.Size([64])\n",
      "torch.Size([64, 1, 18])\n",
      "torch.Size([64])\n",
      "torch.Size([64, 1, 18])\n",
      "torch.Size([64])\n",
      "torch.Size([64, 1, 18])\n",
      "torch.Size([64])\n",
      "torch.Size([64, 1, 18])\n",
      "torch.Size([64])\n",
      "torch.Size([64, 1, 18])\n",
      "torch.Size([64])\n",
      "torch.Size([64, 1, 18])\n",
      "torch.Size([64])\n",
      "torch.Size([64, 1, 18])\n",
      "torch.Size([64])\n",
      "torch.Size([64, 1, 18])\n",
      "torch.Size([64])\n",
      "torch.Size([64, 1, 18])\n",
      "torch.Size([64])\n",
      "torch.Size([64, 1, 18])\n",
      "torch.Size([64])\n",
      "torch.Size([64, 1, 18])\n",
      "torch.Size([64])\n"
     ]
    },
    {
     "name": "stderr",
     "output_type": "stream",
     "text": [
      "Epoch [5/5], loss_mean=2.531 :  48%|████▊     | 910/1898 [00:15<00:15, 64.80it/s]"
     ]
    },
    {
     "name": "stdout",
     "output_type": "stream",
     "text": [
      "torch.Size([64, 1, 18])\n",
      "torch.Size([64])\n",
      "torch.Size([64, 1, 18])\n",
      "torch.Size([64])\n",
      "torch.Size([64, 1, 18])\n",
      "torch.Size([64])\n",
      "torch.Size([64, 1, 18])\n",
      "torch.Size([64])\n",
      "torch.Size([64, 1, 18])\n",
      "torch.Size([64])\n",
      "torch.Size([64, 1, 18])\n",
      "torch.Size([64])\n",
      "torch.Size([64, 1, 18])\n",
      "torch.Size([64])\n",
      "torch.Size([64, 1, 18])\n",
      "torch.Size([64])\n",
      "torch.Size([64, 1, 18])\n",
      "torch.Size([64])\n",
      "torch.Size([64, 1, 18])\n",
      "torch.Size([64])\n",
      "torch.Size([64, 1, 18])\n",
      "torch.Size([64])\n",
      "torch.Size([64, 1, 18])\n",
      "torch.Size([64])\n",
      "torch.Size([64, 1, 18])\n",
      "torch.Size([64])\n",
      "torch.Size([64, 1, 18])\n",
      "torch.Size([64])\n",
      "torch.Size([64, 1, 18])\n",
      "torch.Size([64])\n",
      "torch.Size([64, 1, 18])\n",
      "torch.Size([64])\n",
      "torch.Size([64, 1, 18])\n",
      "torch.Size([64])\n",
      "torch.Size([64, 1, 18])\n",
      "torch.Size([64])\n"
     ]
    },
    {
     "name": "stderr",
     "output_type": "stream",
     "text": [
      "Epoch [5/5], loss_mean=2.531 :  49%|████▉     | 931/1898 [00:15<00:12, 79.02it/s]"
     ]
    },
    {
     "name": "stdout",
     "output_type": "stream",
     "text": [
      "torch.Size([64, 1, 18])\n",
      "torch.Size([64])\n",
      "torch.Size([64, 1, 18])\n",
      "torch.Size([64])\n",
      "torch.Size([64, 1, 18])\n",
      "torch.Size([64])\n",
      "torch.Size([64, 1, 18])\n",
      "torch.Size([64])\n",
      "torch.Size([64, 1, 18])\n",
      "torch.Size([64])\n",
      "torch.Size([64, 1, 18])\n",
      "torch.Size([64])\n",
      "torch.Size([64, 1, 18])\n",
      "torch.Size([64])\n",
      "torch.Size([64, 1, 18])\n",
      "torch.Size([64])\n",
      "torch.Size([64, 1, 18])\n",
      "torch.Size([64])\n",
      "torch.Size([64, 1, 18])\n",
      "torch.Size([64])\n",
      "torch.Size([64, 1, 18])\n",
      "torch.Size([64])\n",
      "torch.Size([64, 1, 18])\n",
      "torch.Size([64])\n",
      "torch.Size([64, 1, 18])\n",
      "torch.Size([64])\n",
      "torch.Size([64, 1, 18])\n",
      "torch.Size([64])\n",
      "torch.Size([64, 1, 18])\n",
      "torch.Size([64])\n",
      "torch.Size([64, 1, 18])\n",
      "torch.Size([64])\n",
      "torch.Size([64, 1, 18])\n",
      "torch.Size([64])\n"
     ]
    },
    {
     "name": "stderr",
     "output_type": "stream",
     "text": [
      "Epoch [5/5], loss_mean=2.531 :  50%|████▉     | 940/1898 [00:15<00:11, 80.61it/s]"
     ]
    },
    {
     "name": "stdout",
     "output_type": "stream",
     "text": [
      "torch.Size([64, 1, 18])\n",
      "torch.Size([64])\n",
      "torch.Size([64, 1, 18])\n",
      "torch.Size([64])\n",
      "torch.Size([64, 1, 18])\n",
      "torch.Size([64])\n",
      "torch.Size([64, 1, 18])\n",
      "torch.Size([64])\n",
      "torch.Size([64, 1, 18])\n",
      "torch.Size([64])\n",
      "torch.Size([64, 1, 18])\n",
      "torch.Size([64])\n",
      "torch.Size([64, 1, 18])\n",
      "torch.Size([64])\n",
      "torch.Size([64, 1, 18])\n",
      "torch.Size([64])\n",
      "torch.Size([64, 1, 18])\n",
      "torch.Size([64])\n",
      "torch.Size([64, 1, 18])\n",
      "torch.Size([64])\n",
      "torch.Size([64, 1, 18])\n",
      "torch.Size([64])\n"
     ]
    },
    {
     "name": "stderr",
     "output_type": "stream",
     "text": [
      "Epoch [5/5], loss_mean=2.531 :  50%|█████     | 956/1898 [00:16<00:20, 46.20it/s]"
     ]
    },
    {
     "name": "stdout",
     "output_type": "stream",
     "text": [
      "torch.Size([64, 1, 18])\n",
      "torch.Size([64])\n",
      "torch.Size([64, 1, 18])\n",
      "torch.Size([64])\n",
      "torch.Size([64, 1, 18])\n",
      "torch.Size([64])\n",
      "torch.Size([64, 1, 18])\n",
      "torch.Size([64])\n",
      "torch.Size([64, 1, 18])\n",
      "torch.Size([64])\n",
      "torch.Size([64, 1, 18])\n",
      "torch.Size([64])\n",
      "torch.Size([64, 1, 18])\n",
      "torch.Size([64])\n",
      "torch.Size([64, 1, 18])\n",
      "torch.Size([64])\n",
      "torch.Size([64, 1, 18])\n",
      "torch.Size([64])\n",
      "torch.Size([64, 1, 18])\n",
      "torch.Size([64])\n",
      "torch.Size([64, 1, 18])\n",
      "torch.Size([64])\n"
     ]
    },
    {
     "name": "stderr",
     "output_type": "stream",
     "text": [
      "Epoch [5/5], loss_mean=2.531 :  51%|█████     | 965/1898 [00:16<00:17, 53.50it/s]"
     ]
    },
    {
     "name": "stdout",
     "output_type": "stream",
     "text": [
      "torch.Size([64, 1, 18])\n",
      "torch.Size([64])\n",
      "torch.Size([64, 1, 18])\n",
      "torch.Size([64])\n",
      "torch.Size([64, 1, 18])\n",
      "torch.Size([64])\n",
      "torch.Size([64, 1, 18])\n",
      "torch.Size([64])\n",
      "torch.Size([64, 1, 18])\n",
      "torch.Size([64])\n",
      "torch.Size([64, 1, 18])\n",
      "torch.Size([64])\n",
      "torch.Size([64, 1, 18])\n",
      "torch.Size([64])\n",
      "torch.Size([64, 1, 18])\n",
      "torch.Size([64])\n",
      "torch.Size([64, 1, 18])\n",
      "torch.Size([64])\n",
      "torch.Size([64, 1, 18])\n",
      "torch.Size([64])\n",
      "torch.Size([64, 1, 18])\n",
      "torch.Size([64])\n",
      "torch.Size([64, 1, 18])\n",
      "torch.Size([64])\n",
      "torch.Size([64, 1, 18])\n",
      "torch.Size([64])\n"
     ]
    },
    {
     "name": "stderr",
     "output_type": "stream",
     "text": [
      "Epoch [5/5], loss_mean=2.531 :  52%|█████▏    | 979/1898 [00:16<00:15, 57.68it/s]"
     ]
    },
    {
     "name": "stdout",
     "output_type": "stream",
     "text": [
      "torch.Size([64, 1, 18])\n",
      "torch.Size([64])\n",
      "torch.Size([64, 1, 18])\n",
      "torch.Size([64])\n",
      "torch.Size([64, 1, 18])\n",
      "torch.Size([64])\n",
      "torch.Size([64, 1, 18])\n",
      "torch.Size([64])\n",
      "torch.Size([64, 1, 18])\n",
      "torch.Size([64])\n",
      "torch.Size([64, 1, 18])\n",
      "torch.Size([64])\n",
      "torch.Size([64, 1, 18])\n",
      "torch.Size([64])\n",
      "torch.Size([64, 1, 18])\n",
      "torch.Size([64])\n",
      "torch.Size([64, 1, 18])\n",
      "torch.Size([64])\n",
      "torch.Size([64, 1, 18])\n",
      "torch.Size([64])\n",
      "torch.Size([64, 1, 18])\n",
      "torch.Size([64])\n",
      "torch.Size([64, 1, 18])\n",
      "torch.Size([64])\n",
      "torch.Size([64, 1, 18])\n",
      "torch.Size([64])\n"
     ]
    },
    {
     "name": "stderr",
     "output_type": "stream",
     "text": [
      "Epoch [5/5], loss_mean=2.531 :  52%|█████▏    | 996/1898 [00:16<00:13, 65.20it/s]"
     ]
    },
    {
     "name": "stdout",
     "output_type": "stream",
     "text": [
      "torch.Size([64, 1, 18])\n",
      "torch.Size([64])\n",
      "torch.Size([64, 1, 18])\n",
      "torch.Size([64])\n",
      "torch.Size([64, 1, 18])\n",
      "torch.Size([64])\n",
      "torch.Size([64, 1, 18])\n",
      "torch.Size([64])\n",
      "torch.Size([64, 1, 18])\n",
      "torch.Size([64])\n",
      "torch.Size([64, 1, 18])\n",
      "torch.Size([64])\n",
      "torch.Size([64, 1, 18])\n",
      "torch.Size([64])\n",
      "torch.Size([64, 1, 18])\n",
      "torch.Size([64])\n",
      "torch.Size([64, 1, 18])\n",
      "torch.Size([64])\n",
      "torch.Size([64, 1, 18])\n",
      "torch.Size([64])\n",
      "torch.Size([64, 1, 18])\n",
      "torch.Size([64])\n",
      "torch.Size([64, 1, 18])\n",
      "torch.Size([64])\n",
      "torch.Size([64, 1, 18])\n",
      "torch.Size([64])\n"
     ]
    },
    {
     "name": "stderr",
     "output_type": "stream",
     "text": [
      "Epoch [5/5], loss_mean=2.531 :  53%|█████▎    | 1003/1898 [00:17<00:14, 59.89it/s]"
     ]
    },
    {
     "name": "stdout",
     "output_type": "stream",
     "text": [
      "torch.Size([64, 1, 18])\n",
      "torch.Size([64])\n",
      "torch.Size([64, 1, 18])\n",
      "torch.Size([64])\n",
      "torch.Size([64, 1, 18])\n",
      "torch.Size([64])\n",
      "torch.Size([64, 1, 18])\n",
      "torch.Size([64])\n",
      "torch.Size([64, 1, 18])\n",
      "torch.Size([64])\n",
      "torch.Size([64, 1, 18])\n",
      "torch.Size([64])\n",
      "torch.Size([64, 1, 18])\n",
      "torch.Size([64])\n",
      "torch.Size([64, 1, 18])\n",
      "torch.Size([64])\n",
      "torch.Size([64, 1, 18])\n",
      "torch.Size([64])\n",
      "torch.Size([64, 1, 18])\n",
      "torch.Size([64])\n",
      "torch.Size([64, 1, 18])\n",
      "torch.Size([64])\n",
      "torch.Size([64, 1, 18])\n",
      "torch.Size([64])\n",
      "torch.Size([64, 1, 18])\n",
      "torch.Size([64])\n"
     ]
    },
    {
     "name": "stderr",
     "output_type": "stream",
     "text": [
      "Epoch [5/5], loss_mean=2.531 :  54%|█████▎    | 1018/1898 [00:17<00:15, 57.42it/s]"
     ]
    },
    {
     "name": "stdout",
     "output_type": "stream",
     "text": [
      "torch.Size([64, 1, 18])\n",
      "torch.Size([64])\n",
      "torch.Size([64, 1, 18])\n",
      "torch.Size([64])\n",
      "torch.Size([64, 1, 18])\n",
      "torch.Size([64])\n",
      "torch.Size([64, 1, 18])\n",
      "torch.Size([64])\n",
      "torch.Size([64, 1, 18])\n",
      "torch.Size([64])\n",
      "torch.Size([64, 1, 18])\n",
      "torch.Size([64])\n",
      "torch.Size([64, 1, 18])\n",
      "torch.Size([64])\n",
      "torch.Size([64, 1, 18])\n",
      "torch.Size([64])\n"
     ]
    },
    {
     "name": "stderr",
     "output_type": "stream",
     "text": [
      "Epoch [5/5], loss_mean=2.531 :  54%|█████▎    | 1018/1898 [00:17<00:15, 57.42it/s]"
     ]
    },
    {
     "name": "stdout",
     "output_type": "stream",
     "text": [
      "torch.Size([64, 1, 18])\n",
      "torch.Size([64])\n",
      "torch.Size([64, 1, 18])\n",
      "torch.Size([64])\n"
     ]
    },
    {
     "name": "stderr",
     "output_type": "stream",
     "text": [
      "Epoch [5/5], loss_mean=2.532 :  54%|█████▍    | 1025/1898 [00:17<00:28, 30.89it/s]"
     ]
    },
    {
     "name": "stdout",
     "output_type": "stream",
     "text": [
      "torch.Size([64, 1, 18])\n",
      "torch.Size([64])\n",
      "torch.Size([64, 1, 18])\n",
      "torch.Size([64])\n",
      "torch.Size([64, 1, 18])\n",
      "torch.Size([64])\n",
      "torch.Size([64, 1, 18])\n",
      "torch.Size([64])\n",
      "torch.Size([64, 1, 18])\n",
      "torch.Size([64])\n",
      "torch.Size([64, 1, 18])\n",
      "torch.Size([64])\n",
      "torch.Size([64, 1, 18])\n",
      "torch.Size([64])\n",
      "torch.Size([64, 1, 18])\n",
      "torch.Size([64])\n"
     ]
    },
    {
     "name": "stderr",
     "output_type": "stream",
     "text": [
      "Epoch [5/5], loss_mean=2.531 :  55%|█████▍    | 1040/1898 [00:17<00:19, 44.01it/s]"
     ]
    },
    {
     "name": "stdout",
     "output_type": "stream",
     "text": [
      "torch.Size([64, 1, 18])\n",
      "torch.Size([64])\n",
      "torch.Size([64, 1, 18])\n",
      "torch.Size([64])\n",
      "torch.Size([64, 1, 18])\n",
      "torch.Size([64])\n",
      "torch.Size([64, 1, 18])\n",
      "torch.Size([64])\n",
      "torch.Size([64, 1, 18])\n",
      "torch.Size([64])\n",
      "torch.Size([64, 1, 18])\n",
      "torch.Size([64])\n",
      "torch.Size([64, 1, 18])\n",
      "torch.Size([64])\n",
      "torch.Size([64, 1, 18])\n",
      "torch.Size([64])\n",
      "torch.Size([64, 1, 18])\n",
      "torch.Size([64])\n",
      "torch.Size([64, 1, 18])\n",
      "torch.Size([64])\n",
      "torch.Size([64, 1, 18])\n",
      "torch.Size([64])\n",
      "torch.Size([64, 1, 18])\n",
      "torch.Size([64])\n",
      "torch.Size([64, 1, 18])\n",
      "torch.Size([64])\n",
      "torch.Size([64, 1, 18])\n",
      "torch.Size([64])\n",
      "torch.Size([64, 1, 18])\n",
      "torch.Size([64])\n"
     ]
    },
    {
     "name": "stderr",
     "output_type": "stream",
     "text": [
      "Epoch [5/5], loss_mean=2.532 :  56%|█████▌    | 1057/1898 [00:18<00:14, 57.55it/s]"
     ]
    },
    {
     "name": "stdout",
     "output_type": "stream",
     "text": [
      "torch.Size([64, 1, 18])\n",
      "torch.Size([64])\n",
      "torch.Size([64, 1, 18])\n",
      "torch.Size([64])\n",
      "torch.Size([64, 1, 18])\n",
      "torch.Size([64])\n",
      "torch.Size([64, 1, 18])\n",
      "torch.Size([64])\n",
      "torch.Size([64, 1, 18])\n",
      "torch.Size([64])\n",
      "torch.Size([64, 1, 18])\n",
      "torch.Size([64])\n",
      "torch.Size([64, 1, 18])\n",
      "torch.Size([64])\n",
      "torch.Size([64, 1, 18])\n",
      "torch.Size([64])\n",
      "torch.Size([64, 1, 18])\n",
      "torch.Size([64])\n",
      "torch.Size([64, 1, 18])\n",
      "torch.Size([64])\n",
      "torch.Size([64, 1, 18])\n",
      "torch.Size([64])\n",
      "torch.Size([64, 1, 18])\n",
      "torch.Size([64])\n",
      "torch.Size([64, 1, 18])\n",
      "torch.Size([64])\n",
      "torch.Size([64, 1, 18])\n",
      "torch.Size([64])\n"
     ]
    },
    {
     "name": "stderr",
     "output_type": "stream",
     "text": [
      "Epoch [5/5], loss_mean=2.532 :  56%|█████▌    | 1064/1898 [00:18<00:16, 50.38it/s]"
     ]
    },
    {
     "name": "stdout",
     "output_type": "stream",
     "text": [
      "torch.Size([64, 1, 18])\n",
      "torch.Size([64])\n",
      "torch.Size([64, 1, 18])\n",
      "torch.Size([64])\n",
      "torch.Size([64, 1, 18])\n",
      "torch.Size([64])\n",
      "torch.Size([64, 1, 18])\n",
      "torch.Size([64])\n",
      "torch.Size([64, 1, 18])\n",
      "torch.Size([64])\n",
      "torch.Size([64, 1, 18])\n",
      "torch.Size([64])\n",
      "torch.Size([64, 1, 18])\n",
      "torch.Size([64])\n",
      "torch.Size([64, 1, 18])\n",
      "torch.Size([64])\n"
     ]
    },
    {
     "name": "stderr",
     "output_type": "stream",
     "text": [
      "Epoch [5/5], loss_mean=2.531 :  56%|█████▋    | 1070/1898 [00:18<00:18, 45.80it/s]"
     ]
    },
    {
     "name": "stdout",
     "output_type": "stream",
     "text": [
      "torch.Size([64, 1, 18])\n",
      "torch.Size([64])\n",
      "torch.Size([64, 1, 18])\n",
      "torch.Size([64])\n",
      "torch.Size([64, 1, 18])\n",
      "torch.Size([64])\n",
      "torch.Size([64, 1, 18])\n",
      "torch.Size([64])\n",
      "torch.Size([64, 1, 18])\n",
      "torch.Size([64])\n",
      "torch.Size([64, 1, 18])\n",
      "torch.Size([64])\n",
      "torch.Size([64, 1, 18])\n",
      "torch.Size([64])\n",
      "torch.Size([64, 1, 18])\n",
      "torch.Size([64])\n"
     ]
    },
    {
     "name": "stderr",
     "output_type": "stream",
     "text": [
      "Epoch [5/5], loss_mean=2.532 :  57%|█████▋    | 1079/1898 [00:18<00:17, 47.19it/s]"
     ]
    },
    {
     "name": "stdout",
     "output_type": "stream",
     "text": [
      "torch.Size([64, 1, 18])\n",
      "torch.Size([64])\n",
      "torch.Size([64, 1, 18])\n",
      "torch.Size([64])\n",
      "torch.Size([64, 1, 18])\n",
      "torch.Size([64])\n",
      "torch.Size([64, 1, 18])\n",
      "torch.Size([64])\n",
      "torch.Size([64, 1, 18])\n",
      "torch.Size([64])\n",
      "torch.Size([64, 1, 18])\n",
      "torch.Size([64])\n",
      "torch.Size([64, 1, 18])\n",
      "torch.Size([64])\n"
     ]
    },
    {
     "name": "stderr",
     "output_type": "stream",
     "text": [
      "Epoch [5/5], loss_mean=2.532 :  58%|█████▊    | 1094/1898 [00:18<00:14, 55.33it/s]"
     ]
    },
    {
     "name": "stdout",
     "output_type": "stream",
     "text": [
      "torch.Size([64, 1, 18])\n",
      "torch.Size([64])\n",
      "torch.Size([64, 1, 18])\n",
      "torch.Size([64])\n",
      "torch.Size([64, 1, 18])\n",
      "torch.Size([64])\n",
      "torch.Size([64, 1, 18])\n",
      "torch.Size([64])\n",
      "torch.Size([64, 1, 18])\n",
      "torch.Size([64])\n",
      "torch.Size([64, 1, 18])\n",
      "torch.Size([64])\n",
      "torch.Size([64, 1, 18])\n",
      "torch.Size([64])\n",
      "torch.Size([64, 1, 18])\n",
      "torch.Size([64])\n",
      "torch.Size([64, 1, 18])\n",
      "torch.Size([64])\n",
      "torch.Size([64, 1, 18])\n",
      "torch.Size([64])\n",
      "torch.Size([64, 1, 18])\n",
      "torch.Size([64])\n",
      "torch.Size([64, 1, 18])\n",
      "torch.Size([64])\n",
      "torch.Size([64, 1, 18])\n",
      "torch.Size([64])\n"
     ]
    },
    {
     "name": "stderr",
     "output_type": "stream",
     "text": [
      "Epoch [5/5], loss_mean=2.532 :  58%|█████▊    | 1100/1898 [00:19<00:15, 53.02it/s]"
     ]
    },
    {
     "name": "stdout",
     "output_type": "stream",
     "text": [
      "torch.Size([64, 1, 18])\n",
      "torch.Size([64])\n",
      "torch.Size([64, 1, 18])\n",
      "torch.Size([64])\n",
      "torch.Size([64, 1, 18])\n",
      "torch.Size([64])\n",
      "torch.Size([64, 1, 18])\n",
      "torch.Size([64])\n",
      "torch.Size([64, 1, 18])\n",
      "torch.Size([64])\n",
      "torch.Size([64, 1, 18])\n",
      "torch.Size([64])\n",
      "torch.Size([64, 1, 18])\n",
      "torch.Size([64])\n",
      "torch.Size([64, 1, 18])\n",
      "torch.Size([64])\n",
      "torch.Size([64, 1, 18])\n",
      "torch.Size([64])\n",
      "torch.Size([64, 1, 18])\n",
      "torch.Size([64])\n",
      "torch.Size([64, 1, 18])\n",
      "torch.Size([64])\n"
     ]
    },
    {
     "name": "stderr",
     "output_type": "stream",
     "text": [
      "Epoch [5/5], loss_mean=2.532 :  58%|█████▊    | 1107/1898 [00:19<00:14, 54.80it/s]"
     ]
    },
    {
     "name": "stdout",
     "output_type": "stream",
     "text": [
      "torch.Size([64, 1, 18])\n",
      "torch.Size([64])\n",
      "torch.Size([64, 1, 18])\n",
      "torch.Size([64])\n",
      "torch.Size([64, 1, 18])\n",
      "torch.Size([64])\n",
      "torch.Size([64, 1, 18])\n",
      "torch.Size([64])\n",
      "torch.Size([64, 1, 18])\n",
      "torch.Size([64])\n",
      "torch.Size([64, 1, 18])\n",
      "torch.Size([64])\n",
      "torch.Size([64, 1, 18])\n",
      "torch.Size([64])\n",
      "torch.Size([64, 1, 18])\n",
      "torch.Size([64])\n"
     ]
    },
    {
     "name": "stderr",
     "output_type": "stream",
     "text": [
      "Epoch [5/5], loss_mean=2.532 :  59%|█████▊    | 1113/1898 [00:19<00:15, 50.53it/s]"
     ]
    },
    {
     "name": "stdout",
     "output_type": "stream",
     "text": [
      "torch.Size([64, 1, 18])\n",
      "torch.Size([64])\n",
      "torch.Size([64, 1, 18])\n",
      "torch.Size([64])\n",
      "torch.Size([64, 1, 18])\n",
      "torch.Size([64])\n",
      "torch.Size([64, 1, 18])\n",
      "torch.Size([64])\n"
     ]
    },
    {
     "name": "stderr",
     "output_type": "stream",
     "text": [
      "Epoch [5/5], loss_mean=2.532 :  59%|█████▊    | 1113/1898 [00:19<00:15, 50.53it/s]"
     ]
    },
    {
     "name": "stdout",
     "output_type": "stream",
     "text": [
      "torch.Size([64, 1, 18])\n",
      "torch.Size([64])\n"
     ]
    },
    {
     "name": "stderr",
     "output_type": "stream",
     "text": [
      "Epoch [5/5], loss_mean=2.532 :  59%|█████▊    | 1113/1898 [00:19<00:15, 50.53it/s]"
     ]
    },
    {
     "name": "stdout",
     "output_type": "stream",
     "text": [
      "torch.Size([64, 1, 18])\n",
      "torch.Size([64])\n"
     ]
    },
    {
     "name": "stderr",
     "output_type": "stream",
     "text": [
      "Epoch [5/5], loss_mean=2.532 :  59%|█████▉    | 1119/1898 [00:20<00:49, 15.89it/s]"
     ]
    },
    {
     "name": "stdout",
     "output_type": "stream",
     "text": [
      "torch.Size([64, 1, 18])\n",
      "torch.Size([64])\n"
     ]
    },
    {
     "name": "stderr",
     "output_type": "stream",
     "text": [
      "Epoch [5/5], loss_mean=2.532 :  59%|█████▉    | 1119/1898 [00:20<00:49, 15.89it/s]"
     ]
    },
    {
     "name": "stdout",
     "output_type": "stream",
     "text": [
      "torch.Size([64, 1, 18])\n",
      "torch.Size([64])\n"
     ]
    },
    {
     "name": "stderr",
     "output_type": "stream",
     "text": [
      "Epoch [5/5], loss_mean=2.532 :  59%|█████▉    | 1119/1898 [00:20<00:49, 15.89it/s]"
     ]
    },
    {
     "name": "stdout",
     "output_type": "stream",
     "text": [
      "torch.Size([64, 1, 18])\n",
      "torch.Size([64])\n",
      "torch.Size([64, 1, 18])\n",
      "torch.Size([64])\n"
     ]
    },
    {
     "name": "stderr",
     "output_type": "stream",
     "text": [
      "Epoch [5/5], loss_mean=2.532 :  59%|█████▉    | 1123/1898 [00:21<01:08, 11.34it/s]"
     ]
    },
    {
     "name": "stdout",
     "output_type": "stream",
     "text": [
      "torch.Size([64, 1, 18])\n",
      "torch.Size([64])\n"
     ]
    },
    {
     "name": "stderr",
     "output_type": "stream",
     "text": [
      "Epoch [5/5], loss_mean=2.532 :  59%|█████▉    | 1126/1898 [00:21<01:11, 10.75it/s]"
     ]
    },
    {
     "name": "stdout",
     "output_type": "stream",
     "text": [
      "torch.Size([64, 1, 18])\n",
      "torch.Size([64])\n",
      "torch.Size([64, 1, 18])\n",
      "torch.Size([64])\n",
      "torch.Size([64, 1, 18])\n",
      "torch.Size([64])\n",
      "torch.Size([64, 1, 18])\n",
      "torch.Size([64])\n"
     ]
    },
    {
     "name": "stderr",
     "output_type": "stream",
     "text": [
      "Epoch [5/5], loss_mean=2.532 :  59%|█████▉    | 1129/1898 [00:21<01:06, 11.50it/s]"
     ]
    },
    {
     "name": "stdout",
     "output_type": "stream",
     "text": [
      "torch.Size([64, 1, 18])\n",
      "torch.Size([64])\n",
      "torch.Size([64, 1, 18])\n",
      "torch.Size([64])\n",
      "torch.Size([64, 1, 18])\n",
      "torch.Size([64])\n",
      "torch.Size([64, 1, 18])\n",
      "torch.Size([64])\n"
     ]
    },
    {
     "name": "stderr",
     "output_type": "stream",
     "text": [
      "Epoch [5/5], loss_mean=2.532 :  60%|█████▉    | 1132/1898 [00:21<00:59, 12.97it/s]"
     ]
    },
    {
     "name": "stdout",
     "output_type": "stream",
     "text": [
      "torch.Size([64, 1, 18])\n",
      "torch.Size([64])\n",
      "torch.Size([64, 1, 18])\n",
      "torch.Size([64])\n"
     ]
    },
    {
     "name": "stderr",
     "output_type": "stream",
     "text": [
      "Epoch [5/5], loss_mean=2.532 :  60%|█████▉    | 1135/1898 [00:22<01:17,  9.85it/s]"
     ]
    },
    {
     "name": "stdout",
     "output_type": "stream",
     "text": [
      "torch.Size([64, 1, 18])\n",
      "torch.Size([64])\n"
     ]
    },
    {
     "name": "stderr",
     "output_type": "stream",
     "text": [
      "Epoch [5/5], loss_mean=2.532 :  60%|█████▉    | 1135/1898 [00:22<01:17,  9.85it/s]"
     ]
    },
    {
     "name": "stdout",
     "output_type": "stream",
     "text": [
      "torch.Size([64, 1, 18])\n",
      "torch.Size([64])\n",
      "torch.Size([64, 1, 18])\n",
      "torch.Size([64])\n"
     ]
    },
    {
     "name": "stderr",
     "output_type": "stream",
     "text": [
      "Epoch [5/5], loss_mean=2.532 :  60%|█████▉    | 1137/1898 [00:22<01:19,  9.59it/s]"
     ]
    },
    {
     "name": "stdout",
     "output_type": "stream",
     "text": [
      "torch.Size([64, 1, 18])\n",
      "torch.Size([64])\n"
     ]
    },
    {
     "name": "stderr",
     "output_type": "stream",
     "text": [
      "Epoch [5/5], loss_mean=2.532 :  60%|█████▉    | 1137/1898 [00:23<01:19,  9.59it/s]"
     ]
    },
    {
     "name": "stdout",
     "output_type": "stream",
     "text": [
      "torch.Size([64, 1, 18])\n",
      "torch.Size([64])\n"
     ]
    },
    {
     "name": "stderr",
     "output_type": "stream",
     "text": [
      "Epoch [5/5], loss_mean=2.532 :  60%|██████    | 1139/1898 [00:23<02:24,  5.24it/s]"
     ]
    },
    {
     "name": "stdout",
     "output_type": "stream",
     "text": [
      "torch.Size([64, 1, 18])\n",
      "torch.Size([64])\n",
      "torch.Size([64, 1, 18])\n",
      "torch.Size([64])\n"
     ]
    },
    {
     "name": "stderr",
     "output_type": "stream",
     "text": [
      "Epoch [5/5], loss_mean=2.532 :  60%|██████    | 1141/1898 [00:24<02:19,  5.41it/s]"
     ]
    },
    {
     "name": "stdout",
     "output_type": "stream",
     "text": [
      "torch.Size([64, 1, 18])\n",
      "torch.Size([64])\n"
     ]
    },
    {
     "name": "stderr",
     "output_type": "stream",
     "text": [
      "Epoch [5/5], loss_mean=2.532 :  60%|██████    | 1142/1898 [00:24<02:21,  5.36it/s]"
     ]
    },
    {
     "name": "stdout",
     "output_type": "stream",
     "text": [
      "torch.Size([64, 1, 18])\n",
      "torch.Size([64])\n",
      "torch.Size([64, 1, 18])\n",
      "torch.Size([64])\n",
      "torch.Size([64, 1, 18])\n",
      "torch.Size([64])\n"
     ]
    },
    {
     "name": "stderr",
     "output_type": "stream",
     "text": [
      "Epoch [5/5], loss_mean=2.532 :  60%|██████    | 1148/1898 [00:24<01:19,  9.41it/s]"
     ]
    },
    {
     "name": "stdout",
     "output_type": "stream",
     "text": [
      "torch.Size([64, 1, 18])\n",
      "torch.Size([64])\n",
      "torch.Size([64, 1, 18])\n",
      "torch.Size([64])\n",
      "torch.Size([64, 1, 18])\n",
      "torch.Size([64])\n",
      "torch.Size([64, 1, 18])\n",
      "torch.Size([64])\n",
      "torch.Size([64, 1, 18])\n",
      "torch.Size([64])\n",
      "torch.Size([64, 1, 18])\n",
      "torch.Size([64])\n",
      "torch.Size([64, 1, 18])\n",
      "torch.Size([64])\n"
     ]
    },
    {
     "name": "stderr",
     "output_type": "stream",
     "text": [
      "Epoch [5/5], loss_mean=2.532 :  61%|██████    | 1154/1898 [00:24<00:45, 16.29it/s]"
     ]
    },
    {
     "name": "stdout",
     "output_type": "stream",
     "text": [
      "torch.Size([64, 1, 18])\n",
      "torch.Size([64])\n",
      "torch.Size([64, 1, 18])\n",
      "torch.Size([64])\n",
      "torch.Size([64, 1, 18])\n",
      "torch.Size([64])\n",
      "torch.Size([64, 1, 18])\n",
      "torch.Size([64])\n"
     ]
    },
    {
     "name": "stderr",
     "output_type": "stream",
     "text": [
      "Epoch [5/5], loss_mean=2.532 :  61%|██████▏   | 1163/1898 [00:24<00:31, 23.04it/s]"
     ]
    },
    {
     "name": "stdout",
     "output_type": "stream",
     "text": [
      "torch.Size([64, 1, 18])\n",
      "torch.Size([64])\n",
      "torch.Size([64, 1, 18])\n",
      "torch.Size([64])\n",
      "torch.Size([64, 1, 18])\n",
      "torch.Size([64])\n",
      "torch.Size([64, 1, 18])\n",
      "torch.Size([64])\n",
      "torch.Size([64, 1, 18])\n",
      "torch.Size([64])\n",
      "torch.Size([64, 1, 18])\n",
      "torch.Size([64])\n",
      "torch.Size([64, 1, 18])\n",
      "torch.Size([64])\n",
      "torch.Size([64, 1, 18])\n",
      "torch.Size([64])\n",
      "torch.Size([64, 1, 18])\n",
      "torch.Size([64])\n",
      "torch.Size([64, 1, 18])\n",
      "torch.Size([64])\n",
      "torch.Size([64, 1, 18])\n",
      "torch.Size([64])\n"
     ]
    },
    {
     "name": "stderr",
     "output_type": "stream",
     "text": [
      "Epoch [5/5], loss_mean=2.532 :  62%|██████▏   | 1169/1898 [00:25<00:28, 25.95it/s]"
     ]
    },
    {
     "name": "stdout",
     "output_type": "stream",
     "text": [
      "torch.Size([64, 1, 18])\n",
      "torch.Size([64])\n",
      "torch.Size([64, 1, 18])\n",
      "torch.Size([64])\n",
      "torch.Size([64, 1, 18])\n",
      "torch.Size([64])\n",
      "torch.Size([64, 1, 18])\n",
      "torch.Size([64])\n",
      "torch.Size([64, 1, 18])\n",
      "torch.Size([64])\n"
     ]
    },
    {
     "name": "stderr",
     "output_type": "stream",
     "text": [
      "Epoch [5/5], loss_mean=2.532 :  62%|██████▏   | 1174/1898 [00:25<00:24, 30.09it/s]"
     ]
    },
    {
     "name": "stdout",
     "output_type": "stream",
     "text": [
      "torch.Size([64, 1, 18])\n",
      "torch.Size([64])\n",
      "torch.Size([64, 1, 18])\n",
      "torch.Size([64])\n",
      "torch.Size([64, 1, 18])\n",
      "torch.Size([64])\n",
      "torch.Size([64, 1, 18])\n",
      "torch.Size([64])\n",
      "torch.Size([64, 1, 18])\n",
      "torch.Size([64])\n"
     ]
    },
    {
     "name": "stderr",
     "output_type": "stream",
     "text": [
      "Epoch [5/5], loss_mean=2.532 :  62%|██████▏   | 1178/1898 [00:25<00:30, 23.60it/s]"
     ]
    },
    {
     "name": "stdout",
     "output_type": "stream",
     "text": [
      "torch.Size([64, 1, 18])\n",
      "torch.Size([64])\n",
      "torch.Size([64, 1, 18])\n",
      "torch.Size([64])\n",
      "torch.Size([64, 1, 18])\n",
      "torch.Size([64])\n"
     ]
    },
    {
     "name": "stderr",
     "output_type": "stream",
     "text": [
      "Epoch [5/5], loss_mean=2.532 :  62%|██████▏   | 1182/1898 [00:25<00:41, 17.09it/s]"
     ]
    },
    {
     "name": "stdout",
     "output_type": "stream",
     "text": [
      "torch.Size([64, 1, 18])\n",
      "torch.Size([64])\n",
      "torch.Size([64, 1, 18])\n",
      "torch.Size([64])\n",
      "torch.Size([64, 1, 18])\n",
      "torch.Size([64])\n"
     ]
    },
    {
     "name": "stderr",
     "output_type": "stream",
     "text": [
      "Epoch [5/5], loss_mean=2.532 :  62%|██████▏   | 1185/1898 [00:26<00:44, 16.15it/s]"
     ]
    },
    {
     "name": "stdout",
     "output_type": "stream",
     "text": [
      "torch.Size([64, 1, 18])\n",
      "torch.Size([64])\n",
      "torch.Size([64, 1, 18])\n",
      "torch.Size([64])\n",
      "torch.Size([64, 1, 18])\n",
      "torch.Size([64])\n"
     ]
    },
    {
     "name": "stderr",
     "output_type": "stream",
     "text": [
      "Epoch [5/5], loss_mean=2.531 :  63%|██████▎   | 1188/1898 [00:26<00:44, 16.09it/s]"
     ]
    },
    {
     "name": "stdout",
     "output_type": "stream",
     "text": [
      "torch.Size([64, 1, 18])\n",
      "torch.Size([64])\n",
      "torch.Size([64, 1, 18])\n",
      "torch.Size([64])\n",
      "torch.Size([64, 1, 18])\n",
      "torch.Size([64])\n"
     ]
    },
    {
     "name": "stderr",
     "output_type": "stream",
     "text": [
      "Epoch [5/5], loss_mean=2.532 :  63%|██████▎   | 1192/1898 [00:26<00:40, 17.24it/s]"
     ]
    },
    {
     "name": "stdout",
     "output_type": "stream",
     "text": [
      "torch.Size([64, 1, 18])\n",
      "torch.Size([64])\n",
      "torch.Size([64, 1, 18])\n",
      "torch.Size([64])\n",
      "torch.Size([64, 1, 18])\n",
      "torch.Size([64])\n",
      "torch.Size([64, 1, 18])\n",
      "torch.Size([64])\n",
      "torch.Size([64, 1, 18])\n",
      "torch.Size([64])\n",
      "torch.Size([64, 1, 18])\n",
      "torch.Size([64])\n"
     ]
    },
    {
     "name": "stderr",
     "output_type": "stream",
     "text": [
      "Epoch [5/5], loss_mean=2.532 :  63%|██████▎   | 1198/1898 [00:26<00:32, 21.29it/s]"
     ]
    },
    {
     "name": "stdout",
     "output_type": "stream",
     "text": [
      "torch.Size([64, 1, 18])\n",
      "torch.Size([64])\n",
      "torch.Size([64, 1, 18])\n",
      "torch.Size([64])\n",
      "torch.Size([64, 1, 18])\n",
      "torch.Size([64])\n",
      "torch.Size([64, 1, 18])\n",
      "torch.Size([64])\n"
     ]
    },
    {
     "name": "stderr",
     "output_type": "stream",
     "text": [
      "Epoch [5/5], loss_mean=2.532 :  63%|██████▎   | 1201/1898 [00:26<00:38, 17.88it/s]"
     ]
    },
    {
     "name": "stdout",
     "output_type": "stream",
     "text": [
      "torch.Size([64, 1, 18])\n",
      "torch.Size([64])\n",
      "torch.Size([64, 1, 18])\n",
      "torch.Size([64])\n",
      "torch.Size([64, 1, 18])\n",
      "torch.Size([64])\n"
     ]
    },
    {
     "name": "stderr",
     "output_type": "stream",
     "text": [
      "Epoch [5/5], loss_mean=2.532 :  63%|██████▎   | 1203/1898 [00:26<00:43, 16.10it/s]"
     ]
    },
    {
     "name": "stdout",
     "output_type": "stream",
     "text": [
      "torch.Size([64, 1, 18])\n",
      "torch.Size([64])\n",
      "torch.Size([64, 1, 18])\n",
      "torch.Size([64])\n"
     ]
    },
    {
     "name": "stderr",
     "output_type": "stream",
     "text": [
      "Epoch [5/5], loss_mean=2.532 :  63%|██████▎   | 1205/1898 [00:27<00:52, 13.30it/s]"
     ]
    },
    {
     "name": "stdout",
     "output_type": "stream",
     "text": [
      "torch.Size([64, 1, 18])\n",
      "torch.Size([64])\n",
      "torch.Size([64, 1, 18])\n",
      "torch.Size([64])\n"
     ]
    },
    {
     "name": "stderr",
     "output_type": "stream",
     "text": [
      "Epoch [5/5], loss_mean=2.532 :  64%|██████▎   | 1207/1898 [00:27<00:59, 11.57it/s]"
     ]
    },
    {
     "name": "stdout",
     "output_type": "stream",
     "text": [
      "torch.Size([64, 1, 18])\n",
      "torch.Size([64])\n",
      "torch.Size([64, 1, 18])\n",
      "torch.Size([64])\n",
      "torch.Size([64, 1, 18])\n",
      "torch.Size([64])\n"
     ]
    },
    {
     "name": "stderr",
     "output_type": "stream",
     "text": [
      "Epoch [5/5], loss_mean=2.532 :  64%|██████▍   | 1210/1898 [00:27<00:54, 12.74it/s]"
     ]
    },
    {
     "name": "stdout",
     "output_type": "stream",
     "text": [
      "torch.Size([64, 1, 18])\n",
      "torch.Size([64])\n",
      "torch.Size([64, 1, 18])\n",
      "torch.Size([64])\n",
      "torch.Size([64, 1, 18])\n",
      "torch.Size([64])\n"
     ]
    },
    {
     "name": "stderr",
     "output_type": "stream",
     "text": [
      "Epoch [5/5], loss_mean=2.532 :  64%|██████▍   | 1214/1898 [00:28<00:54, 12.49it/s]"
     ]
    },
    {
     "name": "stdout",
     "output_type": "stream",
     "text": [
      "torch.Size([64, 1, 18])\n",
      "torch.Size([64])\n",
      "torch.Size([64, 1, 18])\n",
      "torch.Size([64])\n",
      "torch.Size([64, 1, 18])\n",
      "torch.Size([64])\n",
      "torch.Size([64, 1, 18])\n",
      "torch.Size([64])\n"
     ]
    },
    {
     "name": "stderr",
     "output_type": "stream",
     "text": [
      "Epoch [5/5], loss_mean=2.532 :  64%|██████▍   | 1218/1898 [00:28<00:44, 15.41it/s]"
     ]
    },
    {
     "name": "stdout",
     "output_type": "stream",
     "text": [
      "torch.Size([64, 1, 18])\n",
      "torch.Size([64])\n",
      "torch.Size([64, 1, 18])\n",
      "torch.Size([64])\n",
      "torch.Size([64, 1, 18])\n",
      "torch.Size([64])\n",
      "torch.Size([64, 1, 18])\n",
      "torch.Size([64])\n",
      "torch.Size([64, 1, 18])\n",
      "torch.Size([64])\n",
      "torch.Size([64, 1, 18])\n",
      "torch.Size([64])\n",
      "torch.Size([64, 1, 18])\n",
      "torch.Size([64])\n",
      "torch.Size([64, 1, 18])\n",
      "torch.Size([64])\n",
      "torch.Size([64, 1, 18])\n",
      "torch.Size([64])\n"
     ]
    },
    {
     "name": "stderr",
     "output_type": "stream",
     "text": [
      "Epoch [5/5], loss_mean=2.532 :  65%|██████▍   | 1230/1898 [00:28<00:23, 28.42it/s]"
     ]
    },
    {
     "name": "stdout",
     "output_type": "stream",
     "text": [
      "torch.Size([64, 1, 18])\n",
      "torch.Size([64])\n",
      "torch.Size([64, 1, 18])\n",
      "torch.Size([64])\n",
      "torch.Size([64, 1, 18])\n",
      "torch.Size([64])\n",
      "torch.Size([64, 1, 18])\n",
      "torch.Size([64])\n",
      "torch.Size([64, 1, 18])\n",
      "torch.Size([64])\n",
      "torch.Size([64, 1, 18])\n",
      "torch.Size([64])\n",
      "torch.Size([64, 1, 18])\n",
      "torch.Size([64])\n",
      "torch.Size([64, 1, 18])\n",
      "torch.Size([64])\n"
     ]
    },
    {
     "name": "stderr",
     "output_type": "stream",
     "text": [
      "Epoch [5/5], loss_mean=2.532 :  66%|██████▌   | 1245/1898 [00:28<00:14, 45.85it/s]"
     ]
    },
    {
     "name": "stdout",
     "output_type": "stream",
     "text": [
      "torch.Size([64, 1, 18])\n",
      "torch.Size([64])\n",
      "torch.Size([64, 1, 18])\n",
      "torch.Size([64])\n",
      "torch.Size([64, 1, 18])\n",
      "torch.Size([64])\n",
      "torch.Size([64, 1, 18])\n",
      "torch.Size([64])\n",
      "torch.Size([64, 1, 18])\n",
      "torch.Size([64])\n",
      "torch.Size([64, 1, 18])\n",
      "torch.Size([64])\n",
      "torch.Size([64, 1, 18])\n",
      "torch.Size([64])\n",
      "torch.Size([64, 1, 18])\n",
      "torch.Size([64])\n",
      "torch.Size([64, 1, 18])\n",
      "torch.Size([64])\n",
      "torch.Size([64, 1, 18])\n",
      "torch.Size([64])\n",
      "torch.Size([64, 1, 18])\n",
      "torch.Size([64])\n",
      "torch.Size([64, 1, 18])\n",
      "torch.Size([64])\n",
      "torch.Size([64, 1, 18])\n",
      "torch.Size([64])\n"
     ]
    },
    {
     "name": "stderr",
     "output_type": "stream",
     "text": [
      "Epoch [5/5], loss_mean=2.531 :  66%|██████▌   | 1251/1898 [00:28<00:13, 48.05it/s]"
     ]
    },
    {
     "name": "stdout",
     "output_type": "stream",
     "text": [
      "torch.Size([64, 1, 18])\n",
      "torch.Size([64])\n",
      "torch.Size([64, 1, 18])\n",
      "torch.Size([64])\n",
      "torch.Size([64, 1, 18])\n",
      "torch.Size([64])\n",
      "torch.Size([64, 1, 18])\n",
      "torch.Size([64])\n",
      "torch.Size([64, 1, 18])\n",
      "torch.Size([64])\n",
      "torch.Size([64, 1, 18])\n",
      "torch.Size([64])\n",
      "torch.Size([64, 1, 18])\n",
      "torch.Size([64])\n",
      "torch.Size([64, 1, 18])\n",
      "torch.Size([64])\n",
      "torch.Size([64, 1, 18])\n",
      "torch.Size([64])\n",
      "torch.Size([64, 1, 18])\n",
      "torch.Size([64])\n",
      "torch.Size([64, 1, 18])\n",
      "torch.Size([64])\n",
      "torch.Size([64, 1, 18])\n",
      "torch.Size([64])\n",
      "torch.Size([64, 1, 18])\n",
      "torch.Size([64])\n",
      "torch.Size([64, 1, 18])\n",
      "torch.Size([64])\n",
      "torch.Size([64, 1, 18])\n",
      "torch.Size([64])\n"
     ]
    },
    {
     "name": "stderr",
     "output_type": "stream",
     "text": [
      "Epoch [5/5], loss_mean=2.531 :  67%|██████▋   | 1268/1898 [00:29<00:11, 57.01it/s]"
     ]
    },
    {
     "name": "stdout",
     "output_type": "stream",
     "text": [
      "torch.Size([64, 1, 18])\n",
      "torch.Size([64])\n",
      "torch.Size([64, 1, 18])\n",
      "torch.Size([64])\n",
      "torch.Size([64, 1, 18])\n",
      "torch.Size([64])\n",
      "torch.Size([64, 1, 18])\n",
      "torch.Size([64])\n",
      "torch.Size([64, 1, 18])\n",
      "torch.Size([64])\n",
      "torch.Size([64, 1, 18])\n",
      "torch.Size([64])\n",
      "torch.Size([64, 1, 18])\n",
      "torch.Size([64])\n",
      "torch.Size([64, 1, 18])\n",
      "torch.Size([64])\n",
      "torch.Size([64, 1, 18])\n",
      "torch.Size([64])\n",
      "torch.Size([64, 1, 18])\n",
      "torch.Size([64])\n",
      "torch.Size([64, 1, 18])\n",
      "torch.Size([64])\n",
      "torch.Size([64, 1, 18])\n",
      "torch.Size([64])\n",
      "torch.Size([64, 1, 18])\n",
      "torch.Size([64])\n",
      "torch.Size([64, 1, 18])\n",
      "torch.Size([64])\n"
     ]
    },
    {
     "name": "stderr",
     "output_type": "stream",
     "text": [
      "Epoch [5/5], loss_mean=2.531 :  68%|██████▊   | 1287/1898 [00:29<00:08, 71.20it/s]"
     ]
    },
    {
     "name": "stdout",
     "output_type": "stream",
     "text": [
      "torch.Size([64, 1, 18])\n",
      "torch.Size([64])\n",
      "torch.Size([64, 1, 18])\n",
      "torch.Size([64])\n",
      "torch.Size([64, 1, 18])\n",
      "torch.Size([64])\n",
      "torch.Size([64, 1, 18])\n",
      "torch.Size([64])\n",
      "torch.Size([64, 1, 18])\n",
      "torch.Size([64])\n",
      "torch.Size([64, 1, 18])\n",
      "torch.Size([64])\n",
      "torch.Size([64, 1, 18])\n",
      "torch.Size([64])\n",
      "torch.Size([64, 1, 18])\n",
      "torch.Size([64])\n",
      "torch.Size([64, 1, 18])\n",
      "torch.Size([64])\n",
      "torch.Size([64, 1, 18])\n",
      "torch.Size([64])\n",
      "torch.Size([64, 1, 18])\n",
      "torch.Size([64])\n",
      "torch.Size([64, 1, 18])\n",
      "torch.Size([64])\n",
      "torch.Size([64, 1, 18])\n",
      "torch.Size([64])\n",
      "torch.Size([64, 1, 18])\n",
      "torch.Size([64])\n",
      "torch.Size([64, 1, 18])\n",
      "torch.Size([64])\n"
     ]
    },
    {
     "name": "stderr",
     "output_type": "stream",
     "text": [
      "Epoch [5/5], loss_mean=2.531 :  68%|██████▊   | 1297/1898 [00:29<00:07, 75.54it/s]"
     ]
    },
    {
     "name": "stdout",
     "output_type": "stream",
     "text": [
      "torch.Size([64, 1, 18])\n",
      "torch.Size([64])\n",
      "torch.Size([64, 1, 18])\n",
      "torch.Size([64])\n",
      "torch.Size([64, 1, 18])\n",
      "torch.Size([64])\n",
      "torch.Size([64, 1, 18])\n",
      "torch.Size([64])\n",
      "torch.Size([64, 1, 18])\n",
      "torch.Size([64])\n",
      "torch.Size([64, 1, 18])\n",
      "torch.Size([64])\n",
      "torch.Size([64, 1, 18])\n",
      "torch.Size([64])\n",
      "torch.Size([64, 1, 18])\n",
      "torch.Size([64])\n",
      "torch.Size([64, 1, 18])\n",
      "torch.Size([64])\n",
      "torch.Size([64, 1, 18])\n",
      "torch.Size([64])\n",
      "torch.Size([64, 1, 18])\n",
      "torch.Size([64])\n",
      "torch.Size([64, 1, 18])\n",
      "torch.Size([64])\n",
      "torch.Size([64, 1, 18])\n",
      "torch.Size([64])\n",
      "torch.Size([64, 1, 18])\n",
      "torch.Size([64])\n",
      "torch.Size([64, 1, 18])\n",
      "torch.Size([64])\n",
      "torch.Size([64, 1, 18])\n",
      "torch.Size([64])\n"
     ]
    },
    {
     "name": "stderr",
     "output_type": "stream",
     "text": [
      "Epoch [5/5], loss_mean=2.531 :  69%|██████▉   | 1316/1898 [00:29<00:07, 74.33it/s]"
     ]
    },
    {
     "name": "stdout",
     "output_type": "stream",
     "text": [
      "torch.Size([64, 1, 18])\n",
      "torch.Size([64])\n",
      "torch.Size([64, 1, 18])\n",
      "torch.Size([64])\n",
      "torch.Size([64, 1, 18])\n",
      "torch.Size([64])\n",
      "torch.Size([64, 1, 18])\n",
      "torch.Size([64])\n",
      "torch.Size([64, 1, 18])\n",
      "torch.Size([64])\n",
      "torch.Size([64, 1, 18])\n",
      "torch.Size([64])\n",
      "torch.Size([64, 1, 18])\n",
      "torch.Size([64])\n",
      "torch.Size([64, 1, 18])\n",
      "torch.Size([64])\n",
      "torch.Size([64, 1, 18])\n",
      "torch.Size([64])\n",
      "torch.Size([64, 1, 18])\n",
      "torch.Size([64])\n",
      "torch.Size([64, 1, 18])\n",
      "torch.Size([64])\n",
      "torch.Size([64, 1, 18])\n",
      "torch.Size([64])\n",
      "torch.Size([64, 1, 18])\n",
      "torch.Size([64])\n"
     ]
    },
    {
     "name": "stderr",
     "output_type": "stream",
     "text": [
      "Epoch [5/5], loss_mean=2.531 :  70%|██████▉   | 1325/1898 [00:29<00:07, 77.13it/s]"
     ]
    },
    {
     "name": "stdout",
     "output_type": "stream",
     "text": [
      "torch.Size([64, 1, 18])\n",
      "torch.Size([64])\n",
      "torch.Size([64, 1, 18])\n",
      "torch.Size([64])\n",
      "torch.Size([64, 1, 18])\n",
      "torch.Size([64])\n",
      "torch.Size([64, 1, 18])\n",
      "torch.Size([64])\n",
      "torch.Size([64, 1, 18])\n",
      "torch.Size([64])\n",
      "torch.Size([64, 1, 18])\n",
      "torch.Size([64])\n",
      "torch.Size([64, 1, 18])\n",
      "torch.Size([64])\n",
      "torch.Size([64, 1, 18])\n",
      "torch.Size([64])\n",
      "torch.Size([64, 1, 18])\n",
      "torch.Size([64])\n"
     ]
    },
    {
     "name": "stderr",
     "output_type": "stream",
     "text": [
      "Epoch [5/5], loss_mean=2.531 :  70%|███████   | 1333/1898 [00:30<00:12, 46.95it/s]"
     ]
    },
    {
     "name": "stdout",
     "output_type": "stream",
     "text": [
      "torch.Size([64, 1, 18])\n",
      "torch.Size([64])\n",
      "torch.Size([64, 1, 18])\n",
      "torch.Size([64])\n",
      "torch.Size([64, 1, 18])\n",
      "torch.Size([64])\n",
      "torch.Size([64, 1, 18])\n",
      "torch.Size([64])\n",
      "torch.Size([64, 1, 18])\n",
      "torch.Size([64])\n",
      "torch.Size([64, 1, 18])\n",
      "torch.Size([64])\n",
      "torch.Size([64, 1, 18])\n",
      "torch.Size([64])\n"
     ]
    },
    {
     "name": "stderr",
     "output_type": "stream",
     "text": [
      "Epoch [5/5], loss_mean=2.531 :  71%|███████   | 1340/1898 [00:30<00:15, 35.46it/s]"
     ]
    },
    {
     "name": "stdout",
     "output_type": "stream",
     "text": [
      "torch.Size([64, 1, 18])\n",
      "torch.Size([64])\n",
      "torch.Size([64, 1, 18])\n",
      "torch.Size([64])\n",
      "torch.Size([64, 1, 18])\n",
      "torch.Size([64])\n",
      "torch.Size([64, 1, 18])\n",
      "torch.Size([64])\n",
      "torch.Size([64, 1, 18])\n",
      "torch.Size([64])\n",
      "torch.Size([64, 1, 18])\n",
      "torch.Size([64])\n",
      "torch.Size([64, 1, 18])\n",
      "torch.Size([64])\n",
      "torch.Size([64, 1, 18])\n",
      "torch.Size([64])\n",
      "torch.Size([64, 1, 18])\n",
      "torch.Size([64])\n"
     ]
    },
    {
     "name": "stderr",
     "output_type": "stream",
     "text": [
      "Epoch [5/5], loss_mean=2.531 :  71%|███████▏  | 1353/1898 [00:30<00:12, 41.98it/s]"
     ]
    },
    {
     "name": "stdout",
     "output_type": "stream",
     "text": [
      "torch.Size([64, 1, 18])\n",
      "torch.Size([64])\n",
      "torch.Size([64, 1, 18])\n",
      "torch.Size([64])\n",
      "torch.Size([64, 1, 18])\n",
      "torch.Size([64])\n",
      "torch.Size([64, 1, 18])\n",
      "torch.Size([64])\n",
      "torch.Size([64, 1, 18])\n",
      "torch.Size([64])\n",
      "torch.Size([64, 1, 18])\n",
      "torch.Size([64])\n",
      "torch.Size([64, 1, 18])\n",
      "torch.Size([64])\n",
      "torch.Size([64, 1, 18])\n",
      "torch.Size([64])\n",
      "torch.Size([64, 1, 18])\n",
      "torch.Size([64])\n",
      "torch.Size([64, 1, 18])\n",
      "torch.Size([64])\n"
     ]
    },
    {
     "name": "stderr",
     "output_type": "stream",
     "text": [
      "Epoch [5/5], loss_mean=2.531 :  71%|███████▏  | 1353/1898 [00:30<00:12, 41.98it/s]"
     ]
    },
    {
     "name": "stdout",
     "output_type": "stream",
     "text": [
      "torch.Size([64, 1, 18])\n",
      "torch.Size([64])\n",
      "torch.Size([64, 1, 18])\n",
      "torch.Size([64])\n",
      "torch.Size([64, 1, 18])\n",
      "torch.Size([64])\n",
      "torch.Size([64, 1, 18])\n",
      "torch.Size([64])\n"
     ]
    },
    {
     "name": "stderr",
     "output_type": "stream",
     "text": [
      "Epoch [5/5], loss_mean=2.531 :  72%|███████▏  | 1364/1898 [00:31<00:13, 38.77it/s]"
     ]
    },
    {
     "name": "stdout",
     "output_type": "stream",
     "text": [
      "torch.Size([64, 1, 18])\n",
      "torch.Size([64])\n",
      "torch.Size([64, 1, 18])\n",
      "torch.Size([64])\n",
      "torch.Size([64, 1, 18])\n",
      "torch.Size([64])\n",
      "torch.Size([64, 1, 18])\n",
      "torch.Size([64])\n",
      "torch.Size([64, 1, 18])\n",
      "torch.Size([64])\n",
      "torch.Size([64, 1, 18])\n",
      "torch.Size([64])\n",
      "torch.Size([64, 1, 18])\n",
      "torch.Size([64])\n",
      "torch.Size([64, 1, 18])\n",
      "torch.Size([64])\n",
      "torch.Size([64, 1, 18])\n",
      "torch.Size([64])\n",
      "torch.Size([64, 1, 18])\n",
      "torch.Size([64])\n",
      "torch.Size([64, 1, 18])\n",
      "torch.Size([64])\n",
      "torch.Size([64, 1, 18])\n",
      "torch.Size([64])\n"
     ]
    },
    {
     "name": "stderr",
     "output_type": "stream",
     "text": [
      "Epoch [5/5], loss_mean=2.531 :  73%|███████▎  | 1382/1898 [00:31<00:09, 56.50it/s]"
     ]
    },
    {
     "name": "stdout",
     "output_type": "stream",
     "text": [
      "torch.Size([64, 1, 18])\n",
      "torch.Size([64])\n",
      "torch.Size([64, 1, 18])\n",
      "torch.Size([64])\n",
      "torch.Size([64, 1, 18])\n",
      "torch.Size([64])\n",
      "torch.Size([64, 1, 18])\n",
      "torch.Size([64])\n",
      "torch.Size([64, 1, 18])\n",
      "torch.Size([64])\n",
      "torch.Size([64, 1, 18])\n",
      "torch.Size([64])\n",
      "torch.Size([64, 1, 18])\n",
      "torch.Size([64])\n",
      "torch.Size([64, 1, 18])\n",
      "torch.Size([64])\n",
      "torch.Size([64, 1, 18])\n",
      "torch.Size([64])\n",
      "torch.Size([64, 1, 18])\n",
      "torch.Size([64])\n",
      "torch.Size([64, 1, 18])\n",
      "torch.Size([64])\n",
      "torch.Size([64, 1, 18])\n",
      "torch.Size([64])\n",
      "torch.Size([64, 1, 18])\n",
      "torch.Size([64])\n",
      "torch.Size([64, 1, 18])\n",
      "torch.Size([64])\n",
      "torch.Size([64, 1, 18])\n",
      "torch.Size([64])\n"
     ]
    },
    {
     "name": "stderr",
     "output_type": "stream",
     "text": [
      "Epoch [5/5], loss_mean=2.531 :  73%|███████▎  | 1391/1898 [00:31<00:08, 62.04it/s]"
     ]
    },
    {
     "name": "stdout",
     "output_type": "stream",
     "text": [
      "torch.Size([64, 1, 18])\n",
      "torch.Size([64])\n",
      "torch.Size([64, 1, 18])\n",
      "torch.Size([64])\n",
      "torch.Size([64, 1, 18])\n",
      "torch.Size([64])\n",
      "torch.Size([64, 1, 18])\n",
      "torch.Size([64])\n",
      "torch.Size([64, 1, 18])\n",
      "torch.Size([64])\n",
      "torch.Size([64, 1, 18])\n",
      "torch.Size([64])\n",
      "torch.Size([64, 1, 18])\n",
      "torch.Size([64])\n",
      "torch.Size([64, 1, 18])\n",
      "torch.Size([64])\n",
      "torch.Size([64, 1, 18])\n",
      "torch.Size([64])\n",
      "torch.Size([64, 1, 18])\n",
      "torch.Size([64])\n"
     ]
    },
    {
     "name": "stderr",
     "output_type": "stream",
     "text": [
      "Epoch [5/5], loss_mean=2.531 :  74%|███████▎  | 1398/1898 [00:31<00:09, 53.94it/s]"
     ]
    },
    {
     "name": "stdout",
     "output_type": "stream",
     "text": [
      "torch.Size([64, 1, 18])\n",
      "torch.Size([64])\n",
      "torch.Size([64, 1, 18])\n",
      "torch.Size([64])\n",
      "torch.Size([64, 1, 18])\n",
      "torch.Size([64])\n",
      "torch.Size([64, 1, 18])\n",
      "torch.Size([64])\n"
     ]
    },
    {
     "name": "stderr",
     "output_type": "stream",
     "text": [
      "Epoch [5/5], loss_mean=2.531 :  74%|███████▎  | 1398/1898 [00:31<00:09, 53.94it/s]"
     ]
    },
    {
     "name": "stdout",
     "output_type": "stream",
     "text": [
      "torch.Size([64, 1, 18])\n",
      "torch.Size([64])\n",
      "torch.Size([64, 1, 18])\n",
      "torch.Size([64])\n",
      "torch.Size([64, 1, 18])\n",
      "torch.Size([64])\n",
      "torch.Size([64, 1, 18])\n",
      "torch.Size([64])\n"
     ]
    },
    {
     "name": "stderr",
     "output_type": "stream",
     "text": [
      "Epoch [5/5], loss_mean=2.531 :  74%|███████▍  | 1409/1898 [00:32<00:15, 31.34it/s]"
     ]
    },
    {
     "name": "stdout",
     "output_type": "stream",
     "text": [
      "torch.Size([64, 1, 18])\n",
      "torch.Size([64])\n",
      "torch.Size([64, 1, 18])\n",
      "torch.Size([64])\n",
      "torch.Size([64, 1, 18])\n",
      "torch.Size([64])\n",
      "torch.Size([64, 1, 18])\n",
      "torch.Size([64])\n",
      "torch.Size([64, 1, 18])\n",
      "torch.Size([64])\n",
      "torch.Size([64, 1, 18])\n",
      "torch.Size([64])\n",
      "torch.Size([64, 1, 18])\n",
      "torch.Size([64])\n"
     ]
    },
    {
     "name": "stderr",
     "output_type": "stream",
     "text": [
      "Epoch [5/5], loss_mean=2.531 :  75%|███████▍  | 1415/1898 [00:32<00:13, 35.34it/s]"
     ]
    },
    {
     "name": "stdout",
     "output_type": "stream",
     "text": [
      "torch.Size([64, 1, 18])\n",
      "torch.Size([64])\n",
      "torch.Size([64, 1, 18])\n",
      "torch.Size([64])\n",
      "torch.Size([64, 1, 18])\n",
      "torch.Size([64])\n",
      "torch.Size([64, 1, 18])\n",
      "torch.Size([64])\n",
      "torch.Size([64, 1, 18])\n",
      "torch.Size([64])\n",
      "torch.Size([64, 1, 18])\n",
      "torch.Size([64])\n",
      "torch.Size([64, 1, 18])\n",
      "torch.Size([64])\n",
      "torch.Size([64, 1, 18])\n",
      "torch.Size([64])\n",
      "torch.Size([64, 1, 18])\n",
      "torch.Size([64])\n",
      "torch.Size([64, 1, 18])\n",
      "torch.Size([64])\n",
      "torch.Size([64, 1, 18])\n",
      "torch.Size([64])\n"
     ]
    },
    {
     "name": "stderr",
     "output_type": "stream",
     "text": [
      "Epoch [5/5], loss_mean=2.531 :  75%|███████▌  | 1430/1898 [00:32<00:09, 49.67it/s]"
     ]
    },
    {
     "name": "stdout",
     "output_type": "stream",
     "text": [
      "torch.Size([64, 1, 18])\n",
      "torch.Size([64])\n",
      "torch.Size([64, 1, 18])\n",
      "torch.Size([64])\n",
      "torch.Size([64, 1, 18])\n",
      "torch.Size([64])\n",
      "torch.Size([64, 1, 18])\n",
      "torch.Size([64])\n",
      "torch.Size([64, 1, 18])\n",
      "torch.Size([64])\n",
      "torch.Size([64, 1, 18])\n",
      "torch.Size([64])\n",
      "torch.Size([64, 1, 18])\n",
      "torch.Size([64])\n",
      "torch.Size([64, 1, 18])\n",
      "torch.Size([64])\n",
      "torch.Size([64, 1, 18])\n",
      "torch.Size([64])\n",
      "torch.Size([64, 1, 18])\n",
      "torch.Size([64])\n",
      "torch.Size([64, 1, 18])\n",
      "torch.Size([64])\n",
      "torch.Size([64, 1, 18])\n",
      "torch.Size([64])\n",
      "torch.Size([64, 1, 18])\n",
      "torch.Size([64])\n",
      "torch.Size([64, 1, 18])\n",
      "torch.Size([64])\n",
      "torch.Size([64, 1, 18])\n",
      "torch.Size([64])\n",
      "torch.Size([64, 1, 18])\n",
      "torch.Size([64])\n",
      "torch.Size([64, 1, 18])\n",
      "torch.Size([64])\n",
      "torch.Size([64, 1, 18])\n",
      "torch.Size([64])\n",
      "torch.Size([64, 1, 18])\n",
      "torch.Size([64])\n",
      "torch.Size([64, 1, 18])\n",
      "torch.Size([64])\n"
     ]
    },
    {
     "name": "stderr",
     "output_type": "stream",
     "text": [
      "Epoch [5/5], loss_mean=2.531 :  76%|███████▋  | 1450/1898 [00:32<00:06, 68.34it/s]"
     ]
    },
    {
     "name": "stdout",
     "output_type": "stream",
     "text": [
      "torch.Size([64, 1, 18])\n",
      "torch.Size([64])\n",
      "torch.Size([64, 1, 18])\n",
      "torch.Size([64])\n",
      "torch.Size([64, 1, 18])\n",
      "torch.Size([64])\n",
      "torch.Size([64, 1, 18])\n",
      "torch.Size([64])\n",
      "torch.Size([64, 1, 18])\n",
      "torch.Size([64])\n",
      "torch.Size([64, 1, 18])\n",
      "torch.Size([64])\n",
      "torch.Size([64, 1, 18])\n",
      "torch.Size([64])\n",
      "torch.Size([64, 1, 18])\n",
      "torch.Size([64])\n",
      "torch.Size([64, 1, 18])\n",
      "torch.Size([64])\n",
      "torch.Size([64, 1, 18])\n",
      "torch.Size([64])\n",
      "torch.Size([64, 1, 18])\n",
      "torch.Size([64])\n",
      "torch.Size([64, 1, 18])\n",
      "torch.Size([64])\n",
      "torch.Size([64, 1, 18])\n",
      "torch.Size([64])\n",
      "torch.Size([64, 1, 18])\n",
      "torch.Size([64])\n",
      "torch.Size([64, 1, 18])\n",
      "torch.Size([64])\n",
      "torch.Size([64, 1, 18])\n",
      "torch.Size([64])\n"
     ]
    },
    {
     "name": "stderr",
     "output_type": "stream",
     "text": [
      "Epoch [5/5], loss_mean=2.531 :  78%|███████▊  | 1472/1898 [00:32<00:05, 84.25it/s]"
     ]
    },
    {
     "name": "stdout",
     "output_type": "stream",
     "text": [
      "torch.Size([64, 1, 18])\n",
      "torch.Size([64])\n",
      "torch.Size([64, 1, 18])\n",
      "torch.Size([64])\n",
      "torch.Size([64, 1, 18])\n",
      "torch.Size([64])\n",
      "torch.Size([64, 1, 18])\n",
      "torch.Size([64])\n",
      "torch.Size([64, 1, 18])\n",
      "torch.Size([64])\n",
      "torch.Size([64, 1, 18])\n",
      "torch.Size([64])\n",
      "torch.Size([64, 1, 18])\n",
      "torch.Size([64])\n",
      "torch.Size([64, 1, 18])\n",
      "torch.Size([64])\n",
      "torch.Size([64, 1, 18])\n",
      "torch.Size([64])\n",
      "torch.Size([64, 1, 18])\n",
      "torch.Size([64])\n",
      "torch.Size([64, 1, 18])\n",
      "torch.Size([64])\n",
      "torch.Size([64, 1, 18])\n",
      "torch.Size([64])\n",
      "torch.Size([64, 1, 18])\n",
      "torch.Size([64])\n",
      "torch.Size([64, 1, 18])\n",
      "torch.Size([64])\n",
      "torch.Size([64, 1, 18])\n",
      "torch.Size([64])\n",
      "torch.Size([64, 1, 18])\n",
      "torch.Size([64])\n",
      "torch.Size([64, 1, 18])\n",
      "torch.Size([64])\n",
      "torch.Size([64, 1, 18])\n",
      "torch.Size([64])\n",
      "torch.Size([64, 1, 18])\n",
      "torch.Size([64])\n",
      "torch.Size([64, 1, 18])\n",
      "torch.Size([64])\n"
     ]
    },
    {
     "name": "stderr",
     "output_type": "stream",
     "text": [
      "Epoch [5/5], loss_mean=2.531 :  78%|███████▊  | 1484/1898 [00:32<00:04, 92.25it/s]"
     ]
    },
    {
     "name": "stdout",
     "output_type": "stream",
     "text": [
      "torch.Size([64, 1, 18])\n",
      "torch.Size([64])\n",
      "torch.Size([64, 1, 18])\n",
      "torch.Size([64])\n",
      "torch.Size([64, 1, 18])\n",
      "torch.Size([64])\n",
      "torch.Size([64, 1, 18])\n",
      "torch.Size([64])\n",
      "torch.Size([64, 1, 18])\n",
      "torch.Size([64])\n",
      "torch.Size([64, 1, 18])\n",
      "torch.Size([64])\n",
      "torch.Size([64, 1, 18])\n",
      "torch.Size([64])\n",
      "torch.Size([64, 1, 18])\n",
      "torch.Size([64])\n",
      "torch.Size([64, 1, 18])\n",
      "torch.Size([64])\n"
     ]
    },
    {
     "name": "stderr",
     "output_type": "stream",
     "text": [
      "Epoch [5/5], loss_mean=2.531 :  78%|███████▊  | 1484/1898 [00:33<00:04, 92.25it/s]"
     ]
    },
    {
     "name": "stdout",
     "output_type": "stream",
     "text": [
      "torch.Size([64, 1, 18])\n",
      "torch.Size([64])\n",
      "torch.Size([64, 1, 18])\n",
      "torch.Size([64])\n"
     ]
    },
    {
     "name": "stderr",
     "output_type": "stream",
     "text": [
      "Epoch [5/5], loss_mean=2.531 :  78%|███████▊  | 1484/1898 [00:33<00:04, 92.25it/s]"
     ]
    },
    {
     "name": "stdout",
     "output_type": "stream",
     "text": [
      "torch.Size([64, 1, 18])\n",
      "torch.Size([64])\n",
      "torch.Size([64, 1, 18])\n",
      "torch.Size([64])\n",
      "torch.Size([64, 1, 18])\n",
      "torch.Size([64])\n",
      "torch.Size([64, 1, 18])\n",
      "torch.Size([64])\n",
      "torch.Size([64, 1, 18])\n",
      "torch.Size([64])\n"
     ]
    },
    {
     "name": "stderr",
     "output_type": "stream",
     "text": [
      "Epoch [5/5], loss_mean=2.531 :  79%|███████▊  | 1494/1898 [00:33<00:09, 41.63it/s]"
     ]
    },
    {
     "name": "stdout",
     "output_type": "stream",
     "text": [
      "torch.Size([64, 1, 18])\n",
      "torch.Size([64])\n",
      "torch.Size([64, 1, 18])\n",
      "torch.Size([64])\n",
      "torch.Size([64, 1, 18])\n",
      "torch.Size([64])\n",
      "torch.Size([64, 1, 18])\n",
      "torch.Size([64])\n",
      "torch.Size([64, 1, 18])\n",
      "torch.Size([64])\n",
      "torch.Size([64, 1, 18])\n",
      "torch.Size([64])\n"
     ]
    },
    {
     "name": "stderr",
     "output_type": "stream",
     "text": [
      "Epoch [5/5], loss_mean=2.531 :  80%|███████▉  | 1509/1898 [00:33<00:09, 41.27it/s]"
     ]
    },
    {
     "name": "stdout",
     "output_type": "stream",
     "text": [
      "torch.Size([64, 1, 18])\n",
      "torch.Size([64])\n",
      "torch.Size([64, 1, 18])\n",
      "torch.Size([64])\n",
      "torch.Size([64, 1, 18])\n",
      "torch.Size([64])\n",
      "torch.Size([64, 1, 18])\n",
      "torch.Size([64])\n",
      "torch.Size([64, 1, 18])\n",
      "torch.Size([64])\n",
      "torch.Size([64, 1, 18])\n",
      "torch.Size([64])\n",
      "torch.Size([64, 1, 18])\n",
      "torch.Size([64])\n",
      "torch.Size([64, 1, 18])\n",
      "torch.Size([64])\n",
      "torch.Size([64, 1, 18])\n",
      "torch.Size([64])\n",
      "torch.Size([64, 1, 18])\n",
      "torch.Size([64])\n",
      "torch.Size([64, 1, 18])\n",
      "torch.Size([64])\n"
     ]
    },
    {
     "name": "stderr",
     "output_type": "stream",
     "text": [
      "Epoch [5/5], loss_mean=2.531 :  80%|███████▉  | 1516/1898 [00:34<00:08, 45.75it/s]"
     ]
    },
    {
     "name": "stdout",
     "output_type": "stream",
     "text": [
      "torch.Size([64, 1, 18])\n",
      "torch.Size([64])\n",
      "torch.Size([64, 1, 18])\n",
      "torch.Size([64])\n",
      "torch.Size([64, 1, 18])\n",
      "torch.Size([64])\n",
      "torch.Size([64, 1, 18])\n",
      "torch.Size([64])\n",
      "torch.Size([64, 1, 18])\n",
      "torch.Size([64])\n",
      "torch.Size([64, 1, 18])\n",
      "torch.Size([64])\n",
      "torch.Size([64, 1, 18])\n",
      "torch.Size([64])\n",
      "torch.Size([64, 1, 18])\n",
      "torch.Size([64])\n",
      "torch.Size([64, 1, 18])\n",
      "torch.Size([64])\n",
      "torch.Size([64, 1, 18])\n",
      "torch.Size([64])\n",
      "torch.Size([64, 1, 18])\n",
      "torch.Size([64])\n",
      "torch.Size([64, 1, 18])\n",
      "torch.Size([64])\n"
     ]
    },
    {
     "name": "stderr",
     "output_type": "stream",
     "text": [
      "Epoch [5/5], loss_mean=2.531 :  81%|████████  | 1530/1898 [00:34<00:07, 47.70it/s]"
     ]
    },
    {
     "name": "stdout",
     "output_type": "stream",
     "text": [
      "torch.Size([64, 1, 18])\n",
      "torch.Size([64])\n",
      "torch.Size([64, 1, 18])\n",
      "torch.Size([64])\n",
      "torch.Size([64, 1, 18])\n",
      "torch.Size([64])\n",
      "torch.Size([64, 1, 18])\n",
      "torch.Size([64])\n",
      "torch.Size([64, 1, 18])\n",
      "torch.Size([64])\n",
      "torch.Size([64, 1, 18])\n",
      "torch.Size([64])\n",
      "torch.Size([64, 1, 18])\n",
      "torch.Size([64])\n",
      "torch.Size([64, 1, 18])\n",
      "torch.Size([64])\n",
      "torch.Size([64, 1, 18])\n",
      "torch.Size([64])\n",
      "torch.Size([64, 1, 18])\n",
      "torch.Size([64])\n",
      "torch.Size([64, 1, 18])\n",
      "torch.Size([64])\n"
     ]
    },
    {
     "name": "stderr",
     "output_type": "stream",
     "text": [
      "Epoch [5/5], loss_mean=2.531 :  81%|████████  | 1536/1898 [00:34<00:07, 49.89it/s]"
     ]
    },
    {
     "name": "stdout",
     "output_type": "stream",
     "text": [
      "torch.Size([64, 1, 18])\n",
      "torch.Size([64])\n",
      "torch.Size([64, 1, 18])\n",
      "torch.Size([64])\n",
      "torch.Size([64, 1, 18])\n",
      "torch.Size([64])\n",
      "torch.Size([64, 1, 18])\n",
      "torch.Size([64])\n",
      "torch.Size([64, 1, 18])\n",
      "torch.Size([64])\n",
      "torch.Size([64, 1, 18])\n",
      "torch.Size([64])\n",
      "torch.Size([64, 1, 18])\n",
      "torch.Size([64])\n",
      "torch.Size([64, 1, 18])\n",
      "torch.Size([64])\n"
     ]
    },
    {
     "name": "stderr",
     "output_type": "stream",
     "text": [
      "Epoch [5/5], loss_mean=2.531 :  81%|████████  | 1542/1898 [00:34<00:07, 47.28it/s]"
     ]
    },
    {
     "name": "stdout",
     "output_type": "stream",
     "text": [
      "torch.Size([64, 1, 18])\n",
      "torch.Size([64])\n",
      "torch.Size([64, 1, 18])\n",
      "torch.Size([64])\n",
      "torch.Size([64, 1, 18])\n",
      "torch.Size([64])\n",
      "torch.Size([64, 1, 18])\n",
      "torch.Size([64])\n",
      "torch.Size([64, 1, 18])\n",
      "torch.Size([64])\n",
      "torch.Size([64, 1, 18])\n",
      "torch.Size([64])\n",
      "torch.Size([64, 1, 18])\n",
      "torch.Size([64])\n"
     ]
    },
    {
     "name": "stderr",
     "output_type": "stream",
     "text": [
      "Epoch [5/5], loss_mean=2.531 :  82%|████████▏ | 1548/1898 [00:34<00:09, 37.46it/s]"
     ]
    },
    {
     "name": "stdout",
     "output_type": "stream",
     "text": [
      "torch.Size([64, 1, 18])\n",
      "torch.Size([64])\n",
      "torch.Size([64, 1, 18])\n",
      "torch.Size([64])\n",
      "torch.Size([64, 1, 18])\n",
      "torch.Size([64])\n",
      "torch.Size([64, 1, 18])\n",
      "torch.Size([64])\n",
      "torch.Size([64, 1, 18])\n",
      "torch.Size([64])\n"
     ]
    },
    {
     "name": "stderr",
     "output_type": "stream",
     "text": [
      "Epoch [5/5], loss_mean=2.531 :  82%|████████▏ | 1557/1898 [00:35<00:09, 34.99it/s]"
     ]
    },
    {
     "name": "stdout",
     "output_type": "stream",
     "text": [
      "torch.Size([64, 1, 18])\n",
      "torch.Size([64])\n",
      "torch.Size([64, 1, 18])\n",
      "torch.Size([64])\n",
      "torch.Size([64, 1, 18])\n",
      "torch.Size([64])\n",
      "torch.Size([64, 1, 18])\n",
      "torch.Size([64])\n",
      "torch.Size([64, 1, 18])\n",
      "torch.Size([64])\n",
      "torch.Size([64, 1, 18])\n",
      "torch.Size([64])\n",
      "torch.Size([64, 1, 18])\n",
      "torch.Size([64])\n",
      "torch.Size([64, 1, 18])\n",
      "torch.Size([64])\n",
      "torch.Size([64, 1, 18])\n",
      "torch.Size([64])\n"
     ]
    },
    {
     "name": "stderr",
     "output_type": "stream",
     "text": [
      "Epoch [5/5], loss_mean=2.532 :  83%|████████▎ | 1569/1898 [00:35<00:07, 43.63it/s]"
     ]
    },
    {
     "name": "stdout",
     "output_type": "stream",
     "text": [
      "torch.Size([64, 1, 18])\n",
      "torch.Size([64])\n",
      "torch.Size([64, 1, 18])\n",
      "torch.Size([64])\n",
      "torch.Size([64, 1, 18])\n",
      "torch.Size([64])\n",
      "torch.Size([64, 1, 18])\n",
      "torch.Size([64])\n",
      "torch.Size([64, 1, 18])\n",
      "torch.Size([64])\n",
      "torch.Size([64, 1, 18])\n",
      "torch.Size([64])\n",
      "torch.Size([64, 1, 18])\n",
      "torch.Size([64])\n",
      "torch.Size([64, 1, 18])\n",
      "torch.Size([64])\n",
      "torch.Size([64, 1, 18])\n",
      "torch.Size([64])\n",
      "torch.Size([64, 1, 18])\n",
      "torch.Size([64])\n",
      "torch.Size([64, 1, 18])\n",
      "torch.Size([64])\n"
     ]
    },
    {
     "name": "stderr",
     "output_type": "stream",
     "text": [
      "Epoch [5/5], loss_mean=2.532 :  83%|████████▎ | 1583/1898 [00:35<00:05, 56.60it/s]"
     ]
    },
    {
     "name": "stdout",
     "output_type": "stream",
     "text": [
      "torch.Size([64, 1, 18])\n",
      "torch.Size([64])\n",
      "torch.Size([64, 1, 18])\n",
      "torch.Size([64])\n",
      "torch.Size([64, 1, 18])\n",
      "torch.Size([64])\n",
      "torch.Size([64, 1, 18])\n",
      "torch.Size([64])\n",
      "torch.Size([64, 1, 18])\n",
      "torch.Size([64])\n",
      "torch.Size([64, 1, 18])\n",
      "torch.Size([64])\n",
      "torch.Size([64, 1, 18])\n",
      "torch.Size([64])\n",
      "torch.Size([64, 1, 18])\n",
      "torch.Size([64])\n",
      "torch.Size([64, 1, 18])\n",
      "torch.Size([64])\n",
      "torch.Size([64, 1, 18])\n",
      "torch.Size([64])\n",
      "torch.Size([64, 1, 18])\n",
      "torch.Size([64])\n",
      "torch.Size([64, 1, 18])\n",
      "torch.Size([64])\n",
      "torch.Size([64, 1, 18])\n",
      "torch.Size([64])\n",
      "torch.Size([64, 1, 18])\n",
      "torch.Size([64])\n",
      "torch.Size([64, 1, 18])\n",
      "torch.Size([64])\n",
      "torch.Size([64, 1, 18])\n",
      "torch.Size([64])\n",
      "torch.Size([64, 1, 18])\n",
      "torch.Size([64])\n",
      "torch.Size([64, 1, 18])\n",
      "torch.Size([64])\n"
     ]
    },
    {
     "name": "stderr",
     "output_type": "stream",
     "text": [
      "Epoch [5/5], loss_mean=2.532 :  84%|████████▍ | 1600/1898 [00:35<00:04, 67.57it/s]"
     ]
    },
    {
     "name": "stdout",
     "output_type": "stream",
     "text": [
      "torch.Size([64, 1, 18])\n",
      "torch.Size([64])\n",
      "torch.Size([64, 1, 18])\n",
      "torch.Size([64])\n",
      "torch.Size([64, 1, 18])\n",
      "torch.Size([64])\n",
      "torch.Size([64, 1, 18])\n",
      "torch.Size([64])\n",
      "torch.Size([64, 1, 18])\n",
      "torch.Size([64])\n",
      "torch.Size([64, 1, 18])\n",
      "torch.Size([64])\n",
      "torch.Size([64, 1, 18])\n",
      "torch.Size([64])\n",
      "torch.Size([64, 1, 18])\n",
      "torch.Size([64])\n",
      "torch.Size([64, 1, 18])\n",
      "torch.Size([64])\n",
      "torch.Size([64, 1, 18])\n",
      "torch.Size([64])\n",
      "torch.Size([64, 1, 18])\n",
      "torch.Size([64])\n",
      "torch.Size([64, 1, 18])\n",
      "torch.Size([64])\n",
      "torch.Size([64, 1, 18])\n",
      "torch.Size([64])\n",
      "torch.Size([64, 1, 18])\n",
      "torch.Size([64])\n"
     ]
    },
    {
     "name": "stderr",
     "output_type": "stream",
     "text": [
      "Epoch [5/5], loss_mean=2.532 :  85%|████████▌ | 1617/1898 [00:35<00:03, 75.14it/s]"
     ]
    },
    {
     "name": "stdout",
     "output_type": "stream",
     "text": [
      "torch.Size([64, 1, 18])\n",
      "torch.Size([64])\n",
      "torch.Size([64, 1, 18])\n",
      "torch.Size([64])\n",
      "torch.Size([64, 1, 18])\n",
      "torch.Size([64])\n",
      "torch.Size([64, 1, 18])\n",
      "torch.Size([64])\n",
      "torch.Size([64, 1, 18])\n",
      "torch.Size([64])\n",
      "torch.Size([64, 1, 18])\n",
      "torch.Size([64])\n",
      "torch.Size([64, 1, 18])\n",
      "torch.Size([64])\n",
      "torch.Size([64, 1, 18])\n",
      "torch.Size([64])\n",
      "torch.Size([64, 1, 18])\n",
      "torch.Size([64])\n",
      "torch.Size([64, 1, 18])\n",
      "torch.Size([64])\n",
      "torch.Size([64, 1, 18])\n",
      "torch.Size([64])\n",
      "torch.Size([64, 1, 18])\n",
      "torch.Size([64])\n",
      "torch.Size([64, 1, 18])\n",
      "torch.Size([64])\n",
      "torch.Size([64, 1, 18])\n",
      "torch.Size([64])\n",
      "torch.Size([64, 1, 18])\n",
      "torch.Size([64])\n",
      "torch.Size([64, 1, 18])\n",
      "torch.Size([64])\n"
     ]
    },
    {
     "name": "stderr",
     "output_type": "stream",
     "text": [
      "Epoch [5/5], loss_mean=2.532 :  86%|████████▌ | 1627/1898 [00:36<00:03, 80.03it/s]"
     ]
    },
    {
     "name": "stdout",
     "output_type": "stream",
     "text": [
      "torch.Size([64, 1, 18])\n",
      "torch.Size([64])\n",
      "torch.Size([64, 1, 18])\n",
      "torch.Size([64])\n",
      "torch.Size([64, 1, 18])\n",
      "torch.Size([64])\n",
      "torch.Size([64, 1, 18])\n",
      "torch.Size([64])\n",
      "torch.Size([64, 1, 18])\n",
      "torch.Size([64])\n",
      "torch.Size([64, 1, 18])\n",
      "torch.Size([64])\n",
      "torch.Size([64, 1, 18])\n",
      "torch.Size([64])\n",
      "torch.Size([64, 1, 18])\n",
      "torch.Size([64])\n",
      "torch.Size([64, 1, 18])\n",
      "torch.Size([64])\n",
      "torch.Size([64, 1, 18])\n",
      "torch.Size([64])\n"
     ]
    },
    {
     "name": "stderr",
     "output_type": "stream",
     "text": [
      "Epoch [5/5], loss_mean=2.532 :  86%|████████▌ | 1636/1898 [00:36<00:05, 44.37it/s]"
     ]
    },
    {
     "name": "stdout",
     "output_type": "stream",
     "text": [
      "torch.Size([64, 1, 18])\n",
      "torch.Size([64])\n",
      "torch.Size([64, 1, 18])\n",
      "torch.Size([64])\n",
      "torch.Size([64, 1, 18])\n",
      "torch.Size([64])\n",
      "torch.Size([64, 1, 18])\n",
      "torch.Size([64])\n",
      "torch.Size([64, 1, 18])\n",
      "torch.Size([64])\n",
      "torch.Size([64, 1, 18])\n",
      "torch.Size([64])\n",
      "torch.Size([64, 1, 18])\n",
      "torch.Size([64])\n"
     ]
    },
    {
     "name": "stderr",
     "output_type": "stream",
     "text": [
      "Epoch [5/5], loss_mean=2.532 :  87%|████████▋ | 1651/1898 [00:36<00:04, 53.83it/s]"
     ]
    },
    {
     "name": "stdout",
     "output_type": "stream",
     "text": [
      "torch.Size([64, 1, 18])\n",
      "torch.Size([64])\n",
      "torch.Size([64, 1, 18])\n",
      "torch.Size([64])\n",
      "torch.Size([64, 1, 18])\n",
      "torch.Size([64])\n",
      "torch.Size([64, 1, 18])\n",
      "torch.Size([64])\n",
      "torch.Size([64, 1, 18])\n",
      "torch.Size([64])\n",
      "torch.Size([64, 1, 18])\n",
      "torch.Size([64])\n",
      "torch.Size([64, 1, 18])\n",
      "torch.Size([64])\n",
      "torch.Size([64, 1, 18])\n",
      "torch.Size([64])\n",
      "torch.Size([64, 1, 18])\n",
      "torch.Size([64])\n",
      "torch.Size([64, 1, 18])\n",
      "torch.Size([64])\n",
      "torch.Size([64, 1, 18])\n",
      "torch.Size([64])\n",
      "torch.Size([64, 1, 18])\n",
      "torch.Size([64])\n",
      "torch.Size([64, 1, 18])\n",
      "torch.Size([64])\n"
     ]
    },
    {
     "name": "stderr",
     "output_type": "stream",
     "text": [
      "Epoch [5/5], loss_mean=2.532 :  88%|████████▊ | 1662/1898 [00:36<00:03, 66.12it/s]"
     ]
    },
    {
     "name": "stdout",
     "output_type": "stream",
     "text": [
      "torch.Size([64, 1, 18])\n",
      "torch.Size([64])\n",
      "torch.Size([64, 1, 18])\n",
      "torch.Size([64])\n",
      "torch.Size([64, 1, 18])\n",
      "torch.Size([64])\n",
      "torch.Size([64, 1, 18])\n",
      "torch.Size([64])\n",
      "torch.Size([64, 1, 18])\n",
      "torch.Size([64])\n",
      "torch.Size([64, 1, 18])\n",
      "torch.Size([64])\n",
      "torch.Size([64, 1, 18])\n",
      "torch.Size([64])\n",
      "torch.Size([64, 1, 18])\n",
      "torch.Size([64])\n",
      "torch.Size([64, 1, 18])\n",
      "torch.Size([64])\n",
      "torch.Size([64, 1, 18])\n",
      "torch.Size([64])\n",
      "torch.Size([64, 1, 18])\n",
      "torch.Size([64])\n",
      "torch.Size([64, 1, 18])\n",
      "torch.Size([64])\n",
      "torch.Size([64, 1, 18])\n",
      "torch.Size([64])\n",
      "torch.Size([64, 1, 18])\n",
      "torch.Size([64])\n",
      "torch.Size([64, 1, 18])\n",
      "torch.Size([64])\n",
      "torch.Size([64, 1, 18])\n",
      "torch.Size([64])\n",
      "torch.Size([64, 1, 18])\n",
      "torch.Size([64])\n",
      "torch.Size([64, 1, 18])\n",
      "torch.Size([64])\n",
      "torch.Size([64, 1, 18])\n",
      "torch.Size([64])\n",
      "torch.Size([64, 1, 18])\n",
      "torch.Size([64])\n"
     ]
    },
    {
     "name": "stderr",
     "output_type": "stream",
     "text": [
      "Epoch [5/5], loss_mean=2.532 :  89%|████████▉ | 1687/1898 [00:36<00:02, 88.18it/s]"
     ]
    },
    {
     "name": "stdout",
     "output_type": "stream",
     "text": [
      "torch.Size([64, 1, 18])\n",
      "torch.Size([64])\n",
      "torch.Size([64, 1, 18])\n",
      "torch.Size([64])\n",
      "torch.Size([64, 1, 18])\n",
      "torch.Size([64])\n",
      "torch.Size([64, 1, 18])\n",
      "torch.Size([64])\n",
      "torch.Size([64, 1, 18])\n",
      "torch.Size([64])\n",
      "torch.Size([64, 1, 18])\n",
      "torch.Size([64])\n",
      "torch.Size([64, 1, 18])\n",
      "torch.Size([64])\n",
      "torch.Size([64, 1, 18])\n",
      "torch.Size([64])\n",
      "torch.Size([64, 1, 18])\n",
      "torch.Size([64])\n",
      "torch.Size([64, 1, 18])\n",
      "torch.Size([64])\n",
      "torch.Size([64, 1, 18])\n",
      "torch.Size([64])\n",
      "torch.Size([64, 1, 18])\n",
      "torch.Size([64])\n",
      "torch.Size([64, 1, 18])\n",
      "torch.Size([64])\n",
      "torch.Size([64, 1, 18])\n",
      "torch.Size([64])\n",
      "torch.Size([64, 1, 18])\n",
      "torch.Size([64])\n",
      "torch.Size([64, 1, 18])\n",
      "torch.Size([64])\n",
      "torch.Size([64, 1, 18])\n",
      "torch.Size([64])\n",
      "torch.Size([64, 1, 18])\n",
      "torch.Size([64])\n",
      "torch.Size([64, 1, 18])\n",
      "torch.Size([64])\n",
      "torch.Size([64, 1, 18])\n",
      "torch.Size([64])\n",
      "torch.Size([64, 1, 18])\n",
      "torch.Size([64])\n",
      "torch.Size([64, 1, 18])\n",
      "torch.Size([64])\n",
      "torch.Size([64, 1, 18])\n",
      "torch.Size([64])\n"
     ]
    },
    {
     "name": "stderr",
     "output_type": "stream",
     "text": [
      "Epoch [5/5], loss_mean=2.532 :  90%|█████████ | 1713/1898 [00:37<00:01, 104.03it/s]"
     ]
    },
    {
     "name": "stdout",
     "output_type": "stream",
     "text": [
      "torch.Size([64, 1, 18])\n",
      "torch.Size([64])\n",
      "torch.Size([64, 1, 18])\n",
      "torch.Size([64])\n",
      "torch.Size([64, 1, 18])\n",
      "torch.Size([64])\n",
      "torch.Size([64, 1, 18])\n",
      "torch.Size([64])\n",
      "torch.Size([64, 1, 18])\n",
      "torch.Size([64])\n",
      "torch.Size([64, 1, 18])\n",
      "torch.Size([64])\n",
      "torch.Size([64, 1, 18])\n",
      "torch.Size([64])\n",
      "torch.Size([64, 1, 18])\n",
      "torch.Size([64])\n",
      "torch.Size([64, 1, 18])\n",
      "torch.Size([64])\n",
      "torch.Size([64, 1, 18])\n",
      "torch.Size([64])\n",
      "torch.Size([64, 1, 18])\n",
      "torch.Size([64])\n",
      "torch.Size([64, 1, 18])\n",
      "torch.Size([64])\n",
      "torch.Size([64, 1, 18])\n",
      "torch.Size([64])\n",
      "torch.Size([64, 1, 18])\n",
      "torch.Size([64])\n",
      "torch.Size([64, 1, 18])\n",
      "torch.Size([64])\n",
      "torch.Size([64, 1, 18])\n",
      "torch.Size([64])\n",
      "torch.Size([64, 1, 18])\n",
      "torch.Size([64])\n",
      "torch.Size([64, 1, 18])\n",
      "torch.Size([64])\n",
      "torch.Size([64, 1, 18])\n",
      "torch.Size([64])\n",
      "torch.Size([64, 1, 18])\n",
      "torch.Size([64])\n",
      "torch.Size([64, 1, 18])\n",
      "torch.Size([64])\n",
      "torch.Size([64, 1, 18])\n",
      "torch.Size([64])\n",
      "torch.Size([64, 1, 18])\n",
      "torch.Size([64])\n",
      "torch.Size([64, 1, 18])\n",
      "torch.Size([64])\n"
     ]
    },
    {
     "name": "stderr",
     "output_type": "stream",
     "text": [
      "Epoch [5/5], loss_mean=2.532 :  91%|█████████ | 1725/1898 [00:37<00:01, 108.12it/s]"
     ]
    },
    {
     "name": "stdout",
     "output_type": "stream",
     "text": [
      "torch.Size([64, 1, 18])\n",
      "torch.Size([64])\n",
      "torch.Size([64, 1, 18])\n",
      "torch.Size([64])\n",
      "torch.Size([64, 1, 18])\n",
      "torch.Size([64])\n",
      "torch.Size([64, 1, 18])\n",
      "torch.Size([64])\n",
      "torch.Size([64, 1, 18])\n",
      "torch.Size([64])\n",
      "torch.Size([64, 1, 18])\n",
      "torch.Size([64])\n",
      "torch.Size([64, 1, 18])\n",
      "torch.Size([64])\n",
      "torch.Size([64, 1, 18])\n",
      "torch.Size([64])\n",
      "torch.Size([64, 1, 18])\n",
      "torch.Size([64])\n",
      "torch.Size([64, 1, 18])\n",
      "torch.Size([64])\n",
      "torch.Size([64, 1, 18])\n",
      "torch.Size([64])\n",
      "torch.Size([64, 1, 18])\n",
      "torch.Size([64])\n",
      "torch.Size([64, 1, 18])\n",
      "torch.Size([64])\n",
      "torch.Size([64, 1, 18])\n",
      "torch.Size([64])\n",
      "torch.Size([64, 1, 18])\n",
      "torch.Size([64])\n",
      "torch.Size([64, 1, 18])\n",
      "torch.Size([64])\n",
      "torch.Size([64, 1, 18])\n",
      "torch.Size([64])\n",
      "torch.Size([64, 1, 18])\n",
      "torch.Size([64])\n",
      "torch.Size([64, 1, 18])\n",
      "torch.Size([64])\n",
      "torch.Size([64, 1, 18])\n",
      "torch.Size([64])\n",
      "torch.Size([64, 1, 18])\n",
      "torch.Size([64])\n"
     ]
    },
    {
     "name": "stderr",
     "output_type": "stream",
     "text": [
      "Epoch [5/5], loss_mean=2.532 :  92%|█████████▏| 1751/1898 [00:37<00:01, 109.24it/s]"
     ]
    },
    {
     "name": "stdout",
     "output_type": "stream",
     "text": [
      "torch.Size([64, 1, 18])\n",
      "torch.Size([64])\n",
      "torch.Size([64, 1, 18])\n",
      "torch.Size([64])\n",
      "torch.Size([64, 1, 18])\n",
      "torch.Size([64])\n",
      "torch.Size([64, 1, 18])\n",
      "torch.Size([64])\n",
      "torch.Size([64, 1, 18])\n",
      "torch.Size([64])\n",
      "torch.Size([64, 1, 18])\n",
      "torch.Size([64])\n",
      "torch.Size([64, 1, 18])\n",
      "torch.Size([64])\n",
      "torch.Size([64, 1, 18])\n",
      "torch.Size([64])\n",
      "torch.Size([64, 1, 18])\n",
      "torch.Size([64])\n",
      "torch.Size([64, 1, 18])\n",
      "torch.Size([64])\n",
      "torch.Size([64, 1, 18])\n",
      "torch.Size([64])\n",
      "torch.Size([64, 1, 18])\n",
      "torch.Size([64])\n",
      "torch.Size([64, 1, 18])\n",
      "torch.Size([64])\n",
      "torch.Size([64, 1, 18])\n",
      "torch.Size([64])\n",
      "torch.Size([64, 1, 18])\n",
      "torch.Size([64])\n",
      "torch.Size([64, 1, 18])\n",
      "torch.Size([64])\n",
      "torch.Size([64, 1, 18])\n",
      "torch.Size([64])\n",
      "torch.Size([64, 1, 18])\n",
      "torch.Size([64])\n",
      "torch.Size([64, 1, 18])\n",
      "torch.Size([64])\n",
      "torch.Size([64, 1, 18])\n",
      "torch.Size([64])\n",
      "torch.Size([64, 1, 18])\n",
      "torch.Size([64])\n"
     ]
    },
    {
     "name": "stderr",
     "output_type": "stream",
     "text": [
      "Epoch [5/5], loss_mean=2.532 :  94%|█████████▎| 1779/1898 [00:37<00:00, 119.69it/s]"
     ]
    },
    {
     "name": "stdout",
     "output_type": "stream",
     "text": [
      "torch.Size([64, 1, 18])\n",
      "torch.Size([64])\n",
      "torch.Size([64, 1, 18])\n",
      "torch.Size([64])\n",
      "torch.Size([64, 1, 18])\n",
      "torch.Size([64])\n",
      "torch.Size([64, 1, 18])\n",
      "torch.Size([64])\n",
      "torch.Size([64, 1, 18])\n",
      "torch.Size([64])\n",
      "torch.Size([64, 1, 18])\n",
      "torch.Size([64])\n",
      "torch.Size([64, 1, 18])\n",
      "torch.Size([64])\n",
      "torch.Size([64, 1, 18])\n",
      "torch.Size([64])\n",
      "torch.Size([64, 1, 18])\n",
      "torch.Size([64])\n",
      "torch.Size([64, 1, 18])\n",
      "torch.Size([64])\n",
      "torch.Size([64, 1, 18])\n",
      "torch.Size([64])\n",
      "torch.Size([64, 1, 18])\n",
      "torch.Size([64])\n",
      "torch.Size([64, 1, 18])\n",
      "torch.Size([64])\n",
      "torch.Size([64, 1, 18])\n",
      "torch.Size([64])\n",
      "torch.Size([64, 1, 18])\n",
      "torch.Size([64])\n",
      "torch.Size([64, 1, 18])\n",
      "torch.Size([64])\n",
      "torch.Size([64, 1, 18])\n",
      "torch.Size([64])\n",
      "torch.Size([64, 1, 18])\n",
      "torch.Size([64])\n",
      "torch.Size([64, 1, 18])\n",
      "torch.Size([64])\n",
      "torch.Size([64, 1, 18])\n",
      "torch.Size([64])\n",
      "torch.Size([64, 1, 18])\n",
      "torch.Size([64])\n",
      "torch.Size([64, 1, 18])\n",
      "torch.Size([64])\n",
      "torch.Size([64, 1, 18])\n",
      "torch.Size([64])\n"
     ]
    },
    {
     "name": "stderr",
     "output_type": "stream",
     "text": [
      "Epoch [5/5], loss_mean=2.533 :  94%|█████████▍| 1792/1898 [00:37<00:00, 117.10it/s]"
     ]
    },
    {
     "name": "stdout",
     "output_type": "stream",
     "text": [
      "torch.Size([64, 1, 18])\n",
      "torch.Size([64])\n",
      "torch.Size([64, 1, 18])\n",
      "torch.Size([64])\n",
      "torch.Size([64, 1, 18])\n",
      "torch.Size([64])\n",
      "torch.Size([64, 1, 18])\n",
      "torch.Size([64])\n",
      "torch.Size([64, 1, 18])\n",
      "torch.Size([64])\n",
      "torch.Size([64, 1, 18])\n",
      "torch.Size([64])\n",
      "torch.Size([64, 1, 18])\n",
      "torch.Size([64])\n",
      "torch.Size([64, 1, 18])\n",
      "torch.Size([64])\n",
      "torch.Size([64, 1, 18])\n",
      "torch.Size([64])\n",
      "torch.Size([64, 1, 18])\n",
      "torch.Size([64])\n",
      "torch.Size([64, 1, 18])\n",
      "torch.Size([64])\n",
      "torch.Size([64, 1, 18])\n",
      "torch.Size([64])\n",
      "torch.Size([64, 1, 18])\n",
      "torch.Size([64])\n",
      "torch.Size([64, 1, 18])\n",
      "torch.Size([64])\n",
      "torch.Size([64, 1, 18])\n",
      "torch.Size([64])\n",
      "torch.Size([64, 1, 18])\n",
      "torch.Size([64])\n",
      "torch.Size([64, 1, 18])\n",
      "torch.Size([64])\n",
      "torch.Size([64, 1, 18])\n",
      "torch.Size([64])\n",
      "torch.Size([64, 1, 18])\n",
      "torch.Size([64])\n",
      "torch.Size([64, 1, 18])\n",
      "torch.Size([64])\n",
      "torch.Size([64, 1, 18])\n",
      "torch.Size([64])\n",
      "torch.Size([64, 1, 18])\n",
      "torch.Size([64])\n",
      "torch.Size([64, 1, 18])\n",
      "torch.Size([64])\n",
      "torch.Size([64, 1, 18])\n",
      "torch.Size([64])\n",
      "torch.Size([64, 1, 18])\n",
      "torch.Size([64])\n"
     ]
    },
    {
     "name": "stderr",
     "output_type": "stream",
     "text": [
      "Epoch [5/5], loss_mean=2.533 :  96%|█████████▌| 1821/1898 [00:38<00:00, 120.11it/s]"
     ]
    },
    {
     "name": "stdout",
     "output_type": "stream",
     "text": [
      "torch.Size([64, 1, 18])\n",
      "torch.Size([64])\n",
      "torch.Size([64, 1, 18])\n",
      "torch.Size([64])\n",
      "torch.Size([64, 1, 18])\n",
      "torch.Size([64])\n",
      "torch.Size([64, 1, 18])\n",
      "torch.Size([64])\n",
      "torch.Size([64, 1, 18])\n",
      "torch.Size([64])\n",
      "torch.Size([64, 1, 18])\n",
      "torch.Size([64])\n",
      "torch.Size([64, 1, 18])\n",
      "torch.Size([64])\n",
      "torch.Size([64, 1, 18])\n",
      "torch.Size([64])\n",
      "torch.Size([64, 1, 18])\n",
      "torch.Size([64])\n",
      "torch.Size([64, 1, 18])\n",
      "torch.Size([64])\n",
      "torch.Size([64, 1, 18])\n",
      "torch.Size([64])\n",
      "torch.Size([64, 1, 18])\n",
      "torch.Size([64])\n",
      "torch.Size([64, 1, 18])\n",
      "torch.Size([64])\n",
      "torch.Size([64, 1, 18])\n",
      "torch.Size([64])\n",
      "torch.Size([64, 1, 18])\n",
      "torch.Size([64])\n",
      "torch.Size([64, 1, 18])\n",
      "torch.Size([64])\n",
      "torch.Size([64, 1, 18])\n",
      "torch.Size([64])\n",
      "torch.Size([64, 1, 18])\n",
      "torch.Size([64])\n",
      "torch.Size([64, 1, 18])\n",
      "torch.Size([64])\n",
      "torch.Size([64, 1, 18])\n",
      "torch.Size([64])\n",
      "torch.Size([64, 1, 18])\n",
      "torch.Size([64])\n",
      "torch.Size([64, 1, 18])\n",
      "torch.Size([64])\n",
      "torch.Size([64, 1, 18])\n",
      "torch.Size([64])\n",
      "torch.Size([64, 1, 18])\n",
      "torch.Size([64])\n"
     ]
    },
    {
     "name": "stderr",
     "output_type": "stream",
     "text": [
      "Epoch [5/5], loss_mean=2.532 :  97%|█████████▋| 1847/1898 [00:38<00:00, 114.78it/s]"
     ]
    },
    {
     "name": "stdout",
     "output_type": "stream",
     "text": [
      "torch.Size([64, 1, 18])\n",
      "torch.Size([64])\n",
      "torch.Size([64, 1, 18])\n",
      "torch.Size([64])\n",
      "torch.Size([64, 1, 18])\n",
      "torch.Size([64])\n",
      "torch.Size([64, 1, 18])\n",
      "torch.Size([64])\n",
      "torch.Size([64, 1, 18])\n",
      "torch.Size([64])\n",
      "torch.Size([64, 1, 18])\n",
      "torch.Size([64])\n",
      "torch.Size([64, 1, 18])\n",
      "torch.Size([64])\n",
      "torch.Size([64, 1, 18])\n",
      "torch.Size([64])\n",
      "torch.Size([64, 1, 18])\n",
      "torch.Size([64])\n",
      "torch.Size([64, 1, 18])\n",
      "torch.Size([64])\n",
      "torch.Size([64, 1, 18])\n",
      "torch.Size([64])\n",
      "torch.Size([64, 1, 18])\n",
      "torch.Size([64])\n",
      "torch.Size([64, 1, 18])\n",
      "torch.Size([64])\n",
      "torch.Size([64, 1, 18])\n",
      "torch.Size([64])\n",
      "torch.Size([64, 1, 18])\n",
      "torch.Size([64])\n",
      "torch.Size([64, 1, 18])\n",
      "torch.Size([64])\n",
      "torch.Size([64, 1, 18])\n",
      "torch.Size([64])\n",
      "torch.Size([64, 1, 18])\n",
      "torch.Size([64])\n",
      "torch.Size([64, 1, 18])\n",
      "torch.Size([64])\n"
     ]
    },
    {
     "name": "stderr",
     "output_type": "stream",
     "text": [
      "Epoch [5/5], loss_mean=2.533 :  97%|█████████▋| 1847/1898 [00:38<00:00, 114.78it/s]"
     ]
    },
    {
     "name": "stdout",
     "output_type": "stream",
     "text": [
      "torch.Size([64, 1, 18])\n",
      "torch.Size([64])\n",
      "torch.Size([64, 1, 18])\n",
      "torch.Size([64])\n",
      "torch.Size([64, 1, 18])\n",
      "torch.Size([64])\n",
      "torch.Size([64, 1, 18])\n",
      "torch.Size([64])\n",
      "torch.Size([64, 1, 18])\n",
      "torch.Size([64])\n",
      "torch.Size([64, 1, 18])\n",
      "torch.Size([64])\n",
      "torch.Size([64, 1, 18])\n",
      "torch.Size([64])\n",
      "torch.Size([64, 1, 18])\n",
      "torch.Size([64])\n"
     ]
    },
    {
     "name": "stderr",
     "output_type": "stream",
     "text": [
      "Epoch [5/5], loss_mean=2.532 :  98%|█████████▊| 1859/1898 [00:38<00:00, 85.52it/s] "
     ]
    },
    {
     "name": "stdout",
     "output_type": "stream",
     "text": [
      "torch.Size([64, 1, 18])\n",
      "torch.Size([64])\n",
      "torch.Size([64, 1, 18])\n",
      "torch.Size([64])\n",
      "torch.Size([64, 1, 18])\n",
      "torch.Size([64])\n",
      "torch.Size([64, 1, 18])\n",
      "torch.Size([64])\n",
      "torch.Size([64, 1, 18])\n",
      "torch.Size([64])\n",
      "torch.Size([64, 1, 18])\n",
      "torch.Size([64])\n",
      "torch.Size([64, 1, 18])\n",
      "torch.Size([64])\n",
      "torch.Size([64, 1, 18])\n",
      "torch.Size([64])\n",
      "torch.Size([64, 1, 18])\n",
      "torch.Size([64])\n"
     ]
    },
    {
     "name": "stderr",
     "output_type": "stream",
     "text": [
      "Epoch [5/5], loss_mean=2.532 :  99%|█████████▉| 1878/1898 [00:38<00:00, 75.18it/s]"
     ]
    },
    {
     "name": "stdout",
     "output_type": "stream",
     "text": [
      "torch.Size([64, 1, 18])\n",
      "torch.Size([64])\n",
      "torch.Size([64, 1, 18])\n",
      "torch.Size([64])\n",
      "torch.Size([64, 1, 18])\n",
      "torch.Size([64])\n",
      "torch.Size([64, 1, 18])\n",
      "torch.Size([64])\n",
      "torch.Size([64, 1, 18])\n",
      "torch.Size([64])\n",
      "torch.Size([64, 1, 18])\n",
      "torch.Size([64])\n",
      "torch.Size([64, 1, 18])\n",
      "torch.Size([64])\n",
      "torch.Size([64, 1, 18])\n",
      "torch.Size([64])\n",
      "torch.Size([64, 1, 18])\n",
      "torch.Size([64])\n",
      "torch.Size([64, 1, 18])\n",
      "torch.Size([64])\n",
      "torch.Size([64, 1, 18])\n",
      "torch.Size([64])\n",
      "torch.Size([64, 1, 18])\n",
      "torch.Size([64])\n",
      "torch.Size([64, 1, 18])\n",
      "torch.Size([64])\n",
      "torch.Size([64, 1, 18])\n",
      "torch.Size([64])\n",
      "torch.Size([64, 1, 18])\n",
      "torch.Size([64])\n",
      "torch.Size([64, 1, 18])\n",
      "torch.Size([64])\n",
      "torch.Size([64, 1, 18])\n",
      "torch.Size([64])\n",
      "torch.Size([64, 1, 18])\n",
      "torch.Size([64])\n",
      "torch.Size([64, 1, 18])\n",
      "torch.Size([64])\n"
     ]
    },
    {
     "name": "stderr",
     "output_type": "stream",
     "text": [
      "Epoch [5/5], loss_mean=2.532 : 100%|██████████| 1898/1898 [00:39<00:00, 48.63it/s]"
     ]
    },
    {
     "name": "stdout",
     "output_type": "stream",
     "text": [
      "torch.Size([64, 1, 18])\n",
      "torch.Size([64])\n",
      "torch.Size([64, 1, 18])\n",
      "torch.Size([64])\n",
      "torch.Size([64, 1, 18])\n",
      "torch.Size([64])\n",
      "torch.Size([64, 1, 18])\n",
      "torch.Size([64])\n",
      "torch.Size([64, 1, 18])\n",
      "torch.Size([64])\n",
      "torch.Size([64, 1, 18])\n",
      "torch.Size([64])\n",
      "torch.Size([64, 1, 18])\n",
      "torch.Size([64])\n",
      "torch.Size([64, 1, 18])\n",
      "torch.Size([64])\n",
      "torch.Size([64, 1, 18])\n",
      "torch.Size([64])\n",
      "torch.Size([64, 1, 18])\n",
      "torch.Size([64])\n",
      "torch.Size([16, 1, 18])\n",
      "torch.Size([16])\n"
     ]
    },
    {
     "name": "stderr",
     "output_type": "stream",
     "text": [
      "\n"
     ]
    }
   ],
   "source": [
    "for e in range(epochs):\n",
    "    loss_mean = 0\n",
    "    lm_count = 0\n",
    "\n",
    "    train_tqdm = tqdm(train_data, leave=True)\n",
    "    for x_train, y_train in train_tqdm:\n",
    "        predict = model(x_train)\n",
    "        loss = loss_function(predict, y_train)\n",
    "\n",
    "        optimizer.zero_grad()\n",
    "        loss.backward()\n",
    "        optimizer.step()\n",
    "\n",
    "        lm_count += 1\n",
    "        loss_mean = 1/lm_count * loss.item() + (1 - 1/lm_count) * loss_mean\n",
    "        train_tqdm.set_description(f'Epoch [{e+1}/{epochs}], loss_mean={loss_mean:.3f} ')"
   ]
  },
  {
   "cell_type": "code",
   "execution_count": 26,
   "metadata": {},
   "outputs": [],
   "source": [
    "class ConvNet(nn.Module):\n",
    "    def __init__(self, n_class, in_channels):\n",
    "        super().__init__()\n",
    "\n",
    "        self.conv_1 = nn.Conv1d(in_channels=in_channels, out_channels=64, kernel_size=2, padding=1)\n",
    "        self.conv_2 = nn.Conv1d(in_channels=64, out_channels=64, kernel_size=2, padding=1)\n"
   ]
  }
 ],
 "metadata": {
  "kernelspec": {
   "display_name": "venv",
   "language": "python",
   "name": "python3"
  },
  "language_info": {
   "codemirror_mode": {
    "name": "ipython",
    "version": 3
   },
   "file_extension": ".py",
   "mimetype": "text/x-python",
   "name": "python",
   "nbconvert_exporter": "python",
   "pygments_lexer": "ipython3",
   "version": "3.8.2"
  }
 },
 "nbformat": 4,
 "nbformat_minor": 2
}
