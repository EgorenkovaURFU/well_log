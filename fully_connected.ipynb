{
 "cells": [
  {
   "cell_type": "code",
   "execution_count": 8,
   "metadata": {},
   "outputs": [],
   "source": [
    "import torch\n",
    "from torch import nn\n",
    "from torch import optim\n",
    "\n",
    "import pandas as pd\n",
    "from torch.utils.data import Dataset, DataLoader"
   ]
  },
  {
   "cell_type": "code",
   "execution_count": 9,
   "metadata": {},
   "outputs": [],
   "source": [
    "class CustomDataset(Dataset):\n",
    "\n",
    "    def __init__(self, dataframe: pd.DataFrame, feature_names: list, target_name: str):\n",
    "        X = torch.tensor(dataframe[feature_names].values, dtype=torch.float32)\n",
    "        self.X = X.reshape(X.shape[0], 1, X.shape[1])\n",
    "        y = torch.tensor(dataframe[target_name].values, dtype=torch.float32)\n",
    "        self.y = y.type(torch.LongTensor)\n",
    "        \n",
    "    def __len__(self) -> int:\n",
    "        return len(self.y)\n",
    "    \n",
    "    def __getitem__(self, index):\n",
    "        return self.X[index], self.y[index]"
   ]
  },
  {
   "cell_type": "code",
   "execution_count": 10,
   "metadata": {},
   "outputs": [],
   "source": [
    "class FullyConnectedNet(nn.Module):\n",
    "\n",
    "    def __init__(self, in_size: int, hidden_size: list, out_size: int):\n",
    "        super(FullyConnectedNet, self).__init__()\n",
    "\n",
    "        self.Network = nn.Sequential(\n",
    "            nn.Linear(in_size, hidden_size[0]),\n",
    "            nn.ReLU(inplace=True),\n",
    "            nn.Dropout(0.2, inplace=True),\n",
    "            nn.Linear(hidden_size[0], hidden_size[1]),\n",
    "            nn.ReLU(inplace=True),\n",
    "            nn.Dropout(0.2, inplace=True),\n",
    "            nn.Linear(hidden_size[1], hidden_size[2]),\n",
    "            nn.ReLU(),\n",
    "            nn.Dropout(0.2, inplace=True),\n",
    "            nn.Linear(hidden_size[2], out_size),\n",
    "            nn.Softmax()\n",
    "        )\n",
    "    \n",
    "    def forward(self, x):\n",
    "        pass\n",
    "\n"
   ]
  },
  {
   "cell_type": "code",
   "execution_count": 11,
   "metadata": {},
   "outputs": [],
   "source": [
    "df = pd.read_csv(\"data\\df_01.csv\", index_col=[0])\n",
    "df = df.reset_index().drop(columns=['index'])"
   ]
  },
  {
   "cell_type": "code",
   "execution_count": 12,
   "metadata": {},
   "outputs": [
    {
     "name": "stdout",
     "output_type": "stream",
     "text": [
      "FullyConnectedNet(\n",
      "  (Network): Sequential(\n",
      "    (0): Linear(in_features=18, out_features=144, bias=True)\n",
      "    (1): ReLU(inplace=True)\n",
      "    (2): Dropout(p=0.2, inplace=True)\n",
      "    (3): Linear(in_features=144, out_features=72, bias=True)\n",
      "    (4): ReLU(inplace=True)\n",
      "    (5): Dropout(p=0.2, inplace=True)\n",
      "    (6): Linear(in_features=72, out_features=36, bias=True)\n",
      "    (7): ReLU()\n",
      "    (8): Dropout(p=0.2, inplace=True)\n",
      "    (9): Linear(in_features=36, out_features=12, bias=True)\n",
      "    (10): Softmax(dim=None)\n",
      "  )\n",
      ")\n"
     ]
    }
   ],
   "source": [
    "net = FullyConnectedNet(in_size=18, hidden_size=[144, 72, 36], out_size=12)\n",
    "print(net)"
   ]
  },
  {
   "cell_type": "code",
   "execution_count": 13,
   "metadata": {},
   "outputs": [],
   "source": [
    "optimizer = optim.Adam(params=net.parameters(), lr=0.001, weight_decay=0.001)\n",
    "loss_function = nn.CrossEntropyLoss()"
   ]
  },
  {
   "cell_type": "code",
   "execution_count": null,
   "metadata": {},
   "outputs": [],
   "source": []
  }
 ],
 "metadata": {
  "kernelspec": {
   "display_name": "venv",
   "language": "python",
   "name": "python3"
  },
  "language_info": {
   "codemirror_mode": {
    "name": "ipython",
    "version": 3
   },
   "file_extension": ".py",
   "mimetype": "text/x-python",
   "name": "python",
   "nbconvert_exporter": "python",
   "pygments_lexer": "ipython3",
   "version": "3.8.2"
  }
 },
 "nbformat": 4,
 "nbformat_minor": 2
}
