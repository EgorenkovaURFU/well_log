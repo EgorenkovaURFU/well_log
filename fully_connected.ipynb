{
 "cells": [
  {
   "cell_type": "code",
   "execution_count": 148,
   "metadata": {},
   "outputs": [],
   "source": [
    "import torch\n",
    "from torch import nn\n",
    "from torch import optim\n",
    "\n",
    "import pandas as pd\n",
    "from torch.utils import data\n",
    "from torch.utils.data import Dataset, DataLoader\n",
    "from tqdm import tqdm\n",
    "\n",
    "from sklearn.preprocessing import StandardScaler\n",
    "from sklearn.preprocessing import OneHotEncoder\n",
    "import seaborn as sns\n",
    "import matplotlib.pyplot as plt"
   ]
  },
  {
   "cell_type": "code",
   "execution_count": 149,
   "metadata": {},
   "outputs": [],
   "source": [
    "class CustomDataset(Dataset):\n",
    "\n",
    "    def __init__(self, dataframe: pd.DataFrame, feature_names: list, target_name: str):\n",
    "        scaler = StandardScaler()\n",
    "        X = scaler.fit_transform(dataframe[feature_names])\n",
    "        # X = dataframe[feature_names].values\n",
    "        X = torch.tensor(X, dtype=torch.float32)\n",
    "        \n",
    "        self.X = X.reshape(X.shape[0], 1, X.shape[1])\n",
    "        self.y = torch.tensor(dataframe[target_name].values, dtype=torch.float32)\n",
    "        \n",
    "    def __len__(self) -> int:\n",
    "        return len(self.y)\n",
    "    \n",
    "    def __getitem__(self, index):\n",
    "        return self.X[index], self.y[index]"
   ]
  },
  {
   "cell_type": "code",
   "execution_count": 150,
   "metadata": {},
   "outputs": [],
   "source": [
    "class FullyConnectedNet(nn.Module):\n",
    "\n",
    "    def __init__(self, in_size: int, hidden_size: list, out_size: int):\n",
    "        super(FullyConnectedNet, self).__init__()\n",
    "\n",
    "        self.Network = nn.Sequential(\n",
    "            nn.Flatten(),\n",
    "\n",
    "            nn.Linear(in_size, hidden_size[0]),\n",
    "            nn.ReLU(),\n",
    "            nn.BatchNorm1d(hidden_size[0]),\n",
    "\n",
    "            nn.Linear(hidden_size[0], hidden_size[1]),\n",
    "            nn.ReLU(),\n",
    "            nn.BatchNorm1d(hidden_size[1]),\n",
    "\n",
    "            nn.Linear(hidden_size[1], hidden_size[2]),\n",
    "            nn.ReLU(),\n",
    "            nn.BatchNorm1d(hidden_size[2]),\n",
    "\n",
    "            nn.Linear(hidden_size[2], hidden_size[3]),\n",
    "            nn.ReLU(),\n",
    "            nn.BatchNorm1d(hidden_size[3]),\n",
    "\n",
    "            # nn.Linear(hidden_size[3], hidden_size[4]),\n",
    "            # nn.ReLU(),\n",
    "            # nn.BatchNorm1d(hidden_size[4]),\n",
    "\n",
    "            # nn.Linear(hidden_size[4], hidden_size[5]),\n",
    "            # nn.ReLU(),\n",
    "            # nn.BatchNorm1d(hidden_size[5]),\n",
    "\n",
    "            # nn.Linear(hidden_size[5], hidden_size[6]),\n",
    "            # nn.ReLU(),\n",
    "            # nn.BatchNorm1d(hidden_size[6]),\n",
    "\n",
    "            nn.Linear(hidden_size[3], out_size),\n",
    "        )\n",
    "    \n",
    "    def forward(self, x):\n",
    "        return self.Network(x)\n"
   ]
  },
  {
   "cell_type": "code",
   "execution_count": 151,
   "metadata": {},
   "outputs": [],
   "source": [
    "df = pd.read_csv(\"data\\df_01.csv\", index_col=[0])\n",
    "df = df.reset_index().drop(columns=['index'])"
   ]
  },
  {
   "cell_type": "code",
   "execution_count": 152,
   "metadata": {},
   "outputs": [],
   "source": [
    "lithology_keys = {30000: 0,\n",
    "                  65030: 1,\n",
    "                  65000: 2,\n",
    "                  80000: 3,\n",
    "                  74000: 4,\n",
    "                  70000: 5,\n",
    "                  70032: 6,\n",
    "                  88000: 7,\n",
    "                  86000: 8,\n",
    "                  99000: 9,\n",
    "                  90000: 10,\n",
    "                  93000: 11}"
   ]
  },
  {
   "cell_type": "code",
   "execution_count": 153,
   "metadata": {},
   "outputs": [],
   "source": [
    "df['FORCE_2020_LITHOFACIES_LITHOLOGY'] = df['FORCE_2020_LITHOFACIES_LITHOLOGY'].map(lithology_keys)"
   ]
  },
  {
   "cell_type": "code",
   "execution_count": 154,
   "metadata": {},
   "outputs": [],
   "source": [
    "encoder = OneHotEncoder(sparse_output=False)\n",
    "one_hot_ecoded = encoder.fit_transform(df[['FORCE_2020_LITHOFACIES_LITHOLOGY']])\n",
    "one_hot_df = pd.DataFrame(one_hot_ecoded, columns=encoder.get_feature_names_out())\n",
    "df = pd.concat([df, one_hot_df], axis=1)"
   ]
  },
  {
   "cell_type": "code",
   "execution_count": 155,
   "metadata": {},
   "outputs": [],
   "source": [
    "feature_names = ['DEPTH_MD', 'X_LOC', 'Y_LOC', 'Z_LOC', 'CALI', 'RMED', 'RDEP', 'RHOB',\n",
    "                 'GR', 'NPHI', 'PEF', 'DTC', 'BS', 'ROP', 'DTS', 'DCAL', 'DRHO', 'ROPA'] \n",
    "\n",
    "target_name = ['FORCE_2020_LITHOFACIES_LITHOLOGY_0', 'FORCE_2020_LITHOFACIES_LITHOLOGY_1', \n",
    "               'FORCE_2020_LITHOFACIES_LITHOLOGY_2', 'FORCE_2020_LITHOFACIES_LITHOLOGY_3',\n",
    "               'FORCE_2020_LITHOFACIES_LITHOLOGY_4', 'FORCE_2020_LITHOFACIES_LITHOLOGY_5',\n",
    "               'FORCE_2020_LITHOFACIES_LITHOLOGY_6', 'FORCE_2020_LITHOFACIES_LITHOLOGY_7', \n",
    "               'FORCE_2020_LITHOFACIES_LITHOLOGY_8', 'FORCE_2020_LITHOFACIES_LITHOLOGY_9',\n",
    "               'FORCE_2020_LITHOFACIES_LITHOLOGY_10']"
   ]
  },
  {
   "cell_type": "code",
   "execution_count": 156,
   "metadata": {},
   "outputs": [],
   "source": [
    "from sklearn.model_selection import train_test_split\n",
    "\n",
    "train_, val = train_test_split(df, test_size=0.2, random_state=42,\n",
    "                               shuffle=True, stratify=df.FORCE_2020_LITHOFACIES_LITHOLOGY)\n"
   ]
  },
  {
   "cell_type": "code",
   "execution_count": 157,
   "metadata": {},
   "outputs": [],
   "source": [
    "train = CustomDataset(dataframe=train_, feature_names=feature_names, target_name=target_name)\n",
    "val = CustomDataset(dataframe=val, feature_names=feature_names, target_name=target_name)\n",
    "\n",
    "train, test = data.random_split(train, [0.8, 0.2])"
   ]
  },
  {
   "cell_type": "code",
   "execution_count": 158,
   "metadata": {},
   "outputs": [],
   "source": [
    "train_data = DataLoader(dataset=train, batch_size=32, shuffle=True)\n",
    "val_data = DataLoader(dataset=val, batch_size=32, shuffle=True)\n",
    "test_data = DataLoader(dataset=test, batch_size=32, shuffle=False)"
   ]
  },
  {
   "cell_type": "code",
   "execution_count": 159,
   "metadata": {},
   "outputs": [
    {
     "data": {
      "text/plain": [
       "11"
      ]
     },
     "execution_count": 159,
     "metadata": {},
     "output_type": "execute_result"
    }
   ],
   "source": [
    "len(target_name)"
   ]
  },
  {
   "cell_type": "code",
   "execution_count": 160,
   "metadata": {},
   "outputs": [
    {
     "name": "stdout",
     "output_type": "stream",
     "text": [
      "FullyConnectedNet(\n",
      "  (Network): Sequential(\n",
      "    (0): Flatten(start_dim=1, end_dim=-1)\n",
      "    (1): Linear(in_features=18, out_features=288, bias=True)\n",
      "    (2): ReLU()\n",
      "    (3): BatchNorm1d(288, eps=1e-05, momentum=0.1, affine=True, track_running_stats=True)\n",
      "    (4): Linear(in_features=288, out_features=144, bias=True)\n",
      "    (5): ReLU()\n",
      "    (6): BatchNorm1d(144, eps=1e-05, momentum=0.1, affine=True, track_running_stats=True)\n",
      "    (7): Linear(in_features=144, out_features=72, bias=True)\n",
      "    (8): ReLU()\n",
      "    (9): BatchNorm1d(72, eps=1e-05, momentum=0.1, affine=True, track_running_stats=True)\n",
      "    (10): Linear(in_features=72, out_features=36, bias=True)\n",
      "    (11): ReLU()\n",
      "    (12): BatchNorm1d(36, eps=1e-05, momentum=0.1, affine=True, track_running_stats=True)\n",
      "    (13): Linear(in_features=36, out_features=11, bias=True)\n",
      "  )\n",
      ")\n"
     ]
    }
   ],
   "source": [
    "model = FullyConnectedNet(in_size=len(feature_names), hidden_size=[288, 144, 72, 36], out_size=len(target_name))\n",
    "print(model)"
   ]
  },
  {
   "cell_type": "code",
   "execution_count": 162,
   "metadata": {},
   "outputs": [],
   "source": [
    "optimizer = optim.Adagrad(params=model.parameters(), lr=0.01) #, weight_decay=0.001)\n",
    "loss_function = nn.CrossEntropyLoss()"
   ]
  },
  {
   "cell_type": "code",
   "execution_count": 163,
   "metadata": {},
   "outputs": [
    {
     "name": "stderr",
     "output_type": "stream",
     "text": [
      "                                                                                   \r"
     ]
    },
    {
     "name": "stdout",
     "output_type": "stream",
     "text": [
      " | loss_mean=0.454, Q_val=0.345\n"
     ]
    },
    {
     "name": "stderr",
     "output_type": "stream",
     "text": [
      "                                                                                   \r"
     ]
    },
    {
     "name": "stdout",
     "output_type": "stream",
     "text": [
      " | loss_mean=0.337, Q_val=0.291\n"
     ]
    },
    {
     "name": "stderr",
     "output_type": "stream",
     "text": [
      "                                                                                   \r"
     ]
    },
    {
     "name": "stdout",
     "output_type": "stream",
     "text": [
      " | loss_mean=0.307, Q_val=0.270\n"
     ]
    },
    {
     "name": "stderr",
     "output_type": "stream",
     "text": [
      "                                                                                   \r"
     ]
    },
    {
     "name": "stdout",
     "output_type": "stream",
     "text": [
      " | loss_mean=0.293, Q_val=0.278\n"
     ]
    },
    {
     "name": "stderr",
     "output_type": "stream",
     "text": [
      "                                                                                   \r"
     ]
    },
    {
     "name": "stdout",
     "output_type": "stream",
     "text": [
      " | loss_mean=0.281, Q_val=0.268\n"
     ]
    },
    {
     "name": "stderr",
     "output_type": "stream",
     "text": [
      "                                                                                   \r"
     ]
    },
    {
     "name": "stdout",
     "output_type": "stream",
     "text": [
      " | loss_mean=0.273, Q_val=0.281\n"
     ]
    },
    {
     "name": "stderr",
     "output_type": "stream",
     "text": [
      "                                                                                   \r"
     ]
    },
    {
     "name": "stdout",
     "output_type": "stream",
     "text": [
      " | loss_mean=0.265, Q_val=0.267\n"
     ]
    },
    {
     "name": "stderr",
     "output_type": "stream",
     "text": [
      "                                                                                   \r"
     ]
    },
    {
     "name": "stdout",
     "output_type": "stream",
     "text": [
      " | loss_mean=0.258, Q_val=0.249\n"
     ]
    },
    {
     "name": "stderr",
     "output_type": "stream",
     "text": [
      "                                                                                   \r"
     ]
    },
    {
     "name": "stdout",
     "output_type": "stream",
     "text": [
      " | loss_mean=0.254, Q_val=0.251\n"
     ]
    },
    {
     "name": "stderr",
     "output_type": "stream",
     "text": [
      "                                                                                    \r"
     ]
    },
    {
     "name": "stdout",
     "output_type": "stream",
     "text": [
      " | loss_mean=0.250, Q_val=0.242\n"
     ]
    },
    {
     "name": "stderr",
     "output_type": "stream",
     "text": [
      "                                                                                    \r"
     ]
    },
    {
     "name": "stdout",
     "output_type": "stream",
     "text": [
      " | loss_mean=0.246, Q_val=0.238\n"
     ]
    },
    {
     "name": "stderr",
     "output_type": "stream",
     "text": [
      "                                                                                    \r"
     ]
    },
    {
     "name": "stdout",
     "output_type": "stream",
     "text": [
      " | loss_mean=0.246, Q_val=0.258\n"
     ]
    },
    {
     "name": "stderr",
     "output_type": "stream",
     "text": [
      "                                                                                    \r"
     ]
    },
    {
     "name": "stdout",
     "output_type": "stream",
     "text": [
      " | loss_mean=0.238, Q_val=0.240\n"
     ]
    },
    {
     "name": "stderr",
     "output_type": "stream",
     "text": [
      "                                                                                    \r"
     ]
    },
    {
     "name": "stdout",
     "output_type": "stream",
     "text": [
      " | loss_mean=0.238, Q_val=0.238\n"
     ]
    },
    {
     "name": "stderr",
     "output_type": "stream",
     "text": [
      "                                                                                    \r"
     ]
    },
    {
     "name": "stdout",
     "output_type": "stream",
     "text": [
      " | loss_mean=0.234, Q_val=0.237\n"
     ]
    },
    {
     "name": "stderr",
     "output_type": "stream",
     "text": [
      "                                                                                    \r"
     ]
    },
    {
     "name": "stdout",
     "output_type": "stream",
     "text": [
      " | loss_mean=0.235, Q_val=0.236\n"
     ]
    },
    {
     "name": "stderr",
     "output_type": "stream",
     "text": [
      "                                                                                    \r"
     ]
    },
    {
     "name": "stdout",
     "output_type": "stream",
     "text": [
      " | loss_mean=0.230, Q_val=0.227\n"
     ]
    },
    {
     "name": "stderr",
     "output_type": "stream",
     "text": [
      "                                                                                    \r"
     ]
    },
    {
     "name": "stdout",
     "output_type": "stream",
     "text": [
      " | loss_mean=0.226, Q_val=0.222\n"
     ]
    },
    {
     "name": "stderr",
     "output_type": "stream",
     "text": [
      "                                                                                    \r"
     ]
    },
    {
     "name": "stdout",
     "output_type": "stream",
     "text": [
      " | loss_mean=0.228, Q_val=0.227\n"
     ]
    },
    {
     "name": "stderr",
     "output_type": "stream",
     "text": [
      "                                                                                    \r"
     ]
    },
    {
     "name": "stdout",
     "output_type": "stream",
     "text": [
      " | loss_mean=0.225, Q_val=0.225\n"
     ]
    },
    {
     "name": "stderr",
     "output_type": "stream",
     "text": [
      "                                                                                    \r"
     ]
    },
    {
     "name": "stdout",
     "output_type": "stream",
     "text": [
      " | loss_mean=0.223, Q_val=0.222\n"
     ]
    },
    {
     "name": "stderr",
     "output_type": "stream",
     "text": [
      "                                                                                    \r"
     ]
    },
    {
     "name": "stdout",
     "output_type": "stream",
     "text": [
      " | loss_mean=0.223, Q_val=0.219\n"
     ]
    },
    {
     "name": "stderr",
     "output_type": "stream",
     "text": [
      "                                                                                    \r"
     ]
    },
    {
     "name": "stdout",
     "output_type": "stream",
     "text": [
      " | loss_mean=0.220, Q_val=0.215\n"
     ]
    },
    {
     "name": "stderr",
     "output_type": "stream",
     "text": [
      "                                                                                    \r"
     ]
    },
    {
     "name": "stdout",
     "output_type": "stream",
     "text": [
      " | loss_mean=0.219, Q_val=0.222\n"
     ]
    },
    {
     "name": "stderr",
     "output_type": "stream",
     "text": [
      "                                                                                    \r"
     ]
    },
    {
     "name": "stdout",
     "output_type": "stream",
     "text": [
      " | loss_mean=0.217, Q_val=0.218\n"
     ]
    },
    {
     "name": "stderr",
     "output_type": "stream",
     "text": [
      "                                                                                    \r"
     ]
    },
    {
     "name": "stdout",
     "output_type": "stream",
     "text": [
      " | loss_mean=0.216, Q_val=0.224\n"
     ]
    },
    {
     "name": "stderr",
     "output_type": "stream",
     "text": [
      "                                                                                    \r"
     ]
    },
    {
     "name": "stdout",
     "output_type": "stream",
     "text": [
      " | loss_mean=0.215, Q_val=0.213\n"
     ]
    },
    {
     "name": "stderr",
     "output_type": "stream",
     "text": [
      "                                                                                    \r"
     ]
    },
    {
     "name": "stdout",
     "output_type": "stream",
     "text": [
      " | loss_mean=0.215, Q_val=0.216\n"
     ]
    },
    {
     "name": "stderr",
     "output_type": "stream",
     "text": [
      "                                                                                    \r"
     ]
    },
    {
     "name": "stdout",
     "output_type": "stream",
     "text": [
      " | loss_mean=0.212, Q_val=0.228\n"
     ]
    },
    {
     "name": "stderr",
     "output_type": "stream",
     "text": [
      "                                                                                    \r"
     ]
    },
    {
     "name": "stdout",
     "output_type": "stream",
     "text": [
      " | loss_mean=0.211, Q_val=0.213\n"
     ]
    },
    {
     "name": "stderr",
     "output_type": "stream",
     "text": [
      "                                                                                     \r"
     ]
    },
    {
     "name": "stdout",
     "output_type": "stream",
     "text": [
      " | loss_mean=0.210, Q_val=0.215\n"
     ]
    },
    {
     "name": "stderr",
     "output_type": "stream",
     "text": [
      "                                                                                    \r"
     ]
    },
    {
     "name": "stdout",
     "output_type": "stream",
     "text": [
      " | loss_mean=0.207, Q_val=0.209\n"
     ]
    },
    {
     "name": "stderr",
     "output_type": "stream",
     "text": [
      "                                                                                    \r"
     ]
    },
    {
     "name": "stdout",
     "output_type": "stream",
     "text": [
      " | loss_mean=0.208, Q_val=0.221\n"
     ]
    },
    {
     "name": "stderr",
     "output_type": "stream",
     "text": [
      "                                                                                    \r"
     ]
    },
    {
     "name": "stdout",
     "output_type": "stream",
     "text": [
      " | loss_mean=0.208, Q_val=0.225\n"
     ]
    },
    {
     "name": "stderr",
     "output_type": "stream",
     "text": [
      "                                                                                    \r"
     ]
    },
    {
     "name": "stdout",
     "output_type": "stream",
     "text": [
      " | loss_mean=0.206, Q_val=0.216\n"
     ]
    },
    {
     "name": "stderr",
     "output_type": "stream",
     "text": [
      "                                                                                    \r"
     ]
    },
    {
     "name": "stdout",
     "output_type": "stream",
     "text": [
      " | loss_mean=0.205, Q_val=0.208\n"
     ]
    },
    {
     "name": "stderr",
     "output_type": "stream",
     "text": [
      "                                                                                    \r"
     ]
    },
    {
     "name": "stdout",
     "output_type": "stream",
     "text": [
      " | loss_mean=0.205, Q_val=0.213\n"
     ]
    },
    {
     "name": "stderr",
     "output_type": "stream",
     "text": [
      "                                                                                    \r"
     ]
    },
    {
     "name": "stdout",
     "output_type": "stream",
     "text": [
      " | loss_mean=0.202, Q_val=0.232\n"
     ]
    },
    {
     "name": "stderr",
     "output_type": "stream",
     "text": [
      "                                                                                    \r"
     ]
    },
    {
     "name": "stdout",
     "output_type": "stream",
     "text": [
      " | loss_mean=0.203, Q_val=0.208\n"
     ]
    },
    {
     "name": "stderr",
     "output_type": "stream",
     "text": [
      "                                                                                    \r"
     ]
    },
    {
     "name": "stdout",
     "output_type": "stream",
     "text": [
      " | loss_mean=0.198, Q_val=0.213\n"
     ]
    },
    {
     "name": "stderr",
     "output_type": "stream",
     "text": [
      "                                                                                    \r"
     ]
    },
    {
     "name": "stdout",
     "output_type": "stream",
     "text": [
      " | loss_mean=0.200, Q_val=0.205\n"
     ]
    },
    {
     "name": "stderr",
     "output_type": "stream",
     "text": [
      "                                                                                    \r"
     ]
    },
    {
     "name": "stdout",
     "output_type": "stream",
     "text": [
      " | loss_mean=0.200, Q_val=0.207\n"
     ]
    },
    {
     "name": "stderr",
     "output_type": "stream",
     "text": [
      "                                                                                    \r"
     ]
    },
    {
     "name": "stdout",
     "output_type": "stream",
     "text": [
      " | loss_mean=0.199, Q_val=0.224\n"
     ]
    },
    {
     "name": "stderr",
     "output_type": "stream",
     "text": [
      "                                                                                    \r"
     ]
    },
    {
     "name": "stdout",
     "output_type": "stream",
     "text": [
      " | loss_mean=0.199, Q_val=0.206\n"
     ]
    },
    {
     "name": "stderr",
     "output_type": "stream",
     "text": [
      "                                                                                    \r"
     ]
    },
    {
     "name": "stdout",
     "output_type": "stream",
     "text": [
      " | loss_mean=0.198, Q_val=0.200\n"
     ]
    },
    {
     "name": "stderr",
     "output_type": "stream",
     "text": [
      "                                                                                    \r"
     ]
    },
    {
     "name": "stdout",
     "output_type": "stream",
     "text": [
      " | loss_mean=0.197, Q_val=0.210\n"
     ]
    },
    {
     "name": "stderr",
     "output_type": "stream",
     "text": [
      "                                                                                    \r"
     ]
    },
    {
     "name": "stdout",
     "output_type": "stream",
     "text": [
      " | loss_mean=0.196, Q_val=0.201\n"
     ]
    },
    {
     "name": "stderr",
     "output_type": "stream",
     "text": [
      "                                                                                     \r"
     ]
    },
    {
     "name": "stdout",
     "output_type": "stream",
     "text": [
      " | loss_mean=0.196, Q_val=0.207\n"
     ]
    },
    {
     "name": "stderr",
     "output_type": "stream",
     "text": [
      "                                                                                    \r"
     ]
    },
    {
     "name": "stdout",
     "output_type": "stream",
     "text": [
      " | loss_mean=0.195, Q_val=0.210\n"
     ]
    },
    {
     "name": "stderr",
     "output_type": "stream",
     "text": [
      "                                                                                    \r"
     ]
    },
    {
     "name": "stdout",
     "output_type": "stream",
     "text": [
      " | loss_mean=0.196, Q_val=0.208\n"
     ]
    }
   ],
   "source": [
    "epochs = 50\n",
    "best_loss = 1e10 # заведомо высокое значение\n",
    "loss_val = []\n",
    "loss_train = []\n",
    "\n",
    "for e in range(epochs):\n",
    "    model.train()\n",
    "    loss_mean = 0\n",
    "    lm_count = 0\n",
    "\n",
    "    train_tqdm = tqdm(train_data, leave=False)\n",
    "    for x_train, y_train in train_tqdm:\n",
    "        predict = model(x_train)\n",
    "        loss = loss_function(predict, y_train)\n",
    "\n",
    "        optimizer.zero_grad()\n",
    "        loss.backward()\n",
    "        optimizer.step()\n",
    "\n",
    "        lm_count += 1\n",
    "        loss_mean = 1/lm_count * loss.item() + (1 - 1/lm_count) * loss_mean\n",
    "        train_tqdm.set_description(f'Epoch [{e+1}/{epochs}], loss_mean={loss_mean:.3f} ')\n",
    "    \n",
    "    model.eval()\n",
    "    Q_val = 0\n",
    "    count_val = 0\n",
    "\n",
    "    for x_val, y_val in val_data:\n",
    "        with torch.no_grad():\n",
    "            prediction = model(x_val)\n",
    "            loss = loss_function(prediction, y_val)\n",
    "            Q_val += loss.item()\n",
    "            count_val += 1\n",
    "\n",
    "    Q_val /= count_val\n",
    "\n",
    "    loss_train.append(loss_mean)\n",
    "    loss_val.append(Q_val)\n",
    "    \n",
    "    print(f' | loss_mean={loss_mean:.3f}, Q_val={Q_val:.3f}')\n",
    "\n",
    "\n"
   ]
  },
  {
   "cell_type": "code",
   "execution_count": 164,
   "metadata": {},
   "outputs": [],
   "source": [
    "Q = 0"
   ]
  },
  {
   "cell_type": "code",
   "execution_count": 165,
   "metadata": {},
   "outputs": [
    {
     "data": {
      "text/plain": [
       "FullyConnectedNet(\n",
       "  (Network): Sequential(\n",
       "    (0): Flatten(start_dim=1, end_dim=-1)\n",
       "    (1): Linear(in_features=18, out_features=288, bias=True)\n",
       "    (2): ReLU()\n",
       "    (3): BatchNorm1d(288, eps=1e-05, momentum=0.1, affine=True, track_running_stats=True)\n",
       "    (4): Linear(in_features=288, out_features=144, bias=True)\n",
       "    (5): ReLU()\n",
       "    (6): BatchNorm1d(144, eps=1e-05, momentum=0.1, affine=True, track_running_stats=True)\n",
       "    (7): Linear(in_features=144, out_features=72, bias=True)\n",
       "    (8): ReLU()\n",
       "    (9): BatchNorm1d(72, eps=1e-05, momentum=0.1, affine=True, track_running_stats=True)\n",
       "    (10): Linear(in_features=72, out_features=36, bias=True)\n",
       "    (11): ReLU()\n",
       "    (12): BatchNorm1d(36, eps=1e-05, momentum=0.1, affine=True, track_running_stats=True)\n",
       "    (13): Linear(in_features=36, out_features=11, bias=True)\n",
       "  )\n",
       ")"
      ]
     },
     "execution_count": 165,
     "metadata": {},
     "output_type": "execute_result"
    }
   ],
   "source": [
    "model.eval()"
   ]
  },
  {
   "cell_type": "code",
   "execution_count": 166,
   "metadata": {},
   "outputs": [
    {
     "name": "stderr",
     "output_type": "stream",
     "text": [
      "100%|██████████| 608/608 [00:02<00:00, 227.37it/s]\n"
     ]
    }
   ],
   "source": [
    "predictions = []\n",
    "tests = []\n",
    "test_tqdm = tqdm(test_data, leave=True)\n",
    "for x_test, y_test in test_tqdm:\n",
    "    predict = model(x_test)\n",
    "    predict = torch.argmax(predict, dim=1)\n",
    "    y_test = torch.argmax(y_test, dim=1)\n",
    "    predictions.extend(predict.cpu().detach().numpy().tolist())\n",
    "    tests.extend(y_test.cpu().detach().numpy().tolist())\n",
    "    Q += torch.sum(predict == y_test).item()"
   ]
  },
  {
   "cell_type": "code",
   "execution_count": 167,
   "metadata": {},
   "outputs": [
    {
     "name": "stdout",
     "output_type": "stream",
     "text": [
      "29.73355263157895\n"
     ]
    }
   ],
   "source": [
    "Q /= len(test_data)\n",
    "print(Q)"
   ]
  },
  {
   "cell_type": "code",
   "execution_count": 168,
   "metadata": {},
   "outputs": [
    {
     "data": {
      "image/png": "[encoded data removed]",
      "text/plain": [
       "<Figure size 640x480 with 1 Axes>"
      ]
     },
     "metadata": {},
     "output_type": "display_data"
    }
   ],
   "source": [
    "plt.plot(loss_train)\n",
    "plt.plot(loss_val)\n",
    "plt.grid()\n",
    "plt.show()"
   ]
  },
  {
   "cell_type": "code",
   "execution_count": 169,
   "metadata": {},
   "outputs": [],
   "source": [
    "from sklearn.metrics import confusion_matrix, classification_report"
   ]
  },
  {
   "cell_type": "code",
   "execution_count": 170,
   "metadata": {},
   "outputs": [
    {
     "name": "stdout",
     "output_type": "stream",
     "text": [
      "              precision    recall  f1-score   support\n",
      "\n",
      "           0       0.89      0.91      0.90      2400\n",
      "           1       0.80      0.80      0.80      1643\n",
      "           2       0.96      0.96      0.96     11094\n",
      "           3       0.86      0.89      0.88       856\n",
      "           4       0.74      0.40      0.52        42\n",
      "           5       0.90      0.84      0.87      1389\n",
      "           6       0.96      0.98      0.97       469\n",
      "           7       0.99      0.99      0.99      1018\n",
      "           8       0.89      0.80      0.84       105\n",
      "           9       0.89      0.92      0.91       379\n",
      "          10       0.62      0.94      0.75        32\n",
      "\n",
      "    accuracy                           0.93     19427\n",
      "   macro avg       0.87      0.86      0.85     19427\n",
      "weighted avg       0.93      0.93      0.93     19427\n",
      "\n"
     ]
    }
   ],
   "source": [
    "print(classification_report(tests, predictions))"
   ]
  },
  {
   "cell_type": "code",
   "execution_count": 171,
   "metadata": {},
   "outputs": [
    {
     "data": {
      "text/plain": [
       "<Axes: >"
      ]
     },
     "execution_count": 171,
     "metadata": {},
     "output_type": "execute_result"
    },
    {
     "data": {
      "image/png": "[encoded data removed]",
      "text/plain": [
       "<Figure size 640x480 with 2 Axes>"
      ]
     },
     "metadata": {},
     "output_type": "display_data"
    }
   ],
   "source": [
    "cm = confusion_matrix(tests, predictions)\n",
    "sns.heatmap(cm, annot=True)"
   ]
  },
  {
   "cell_type": "code",
   "execution_count": null,
   "metadata": {},
   "outputs": [],
   "source": [
    "torch.save(model.state_dict(), 'models/fully_connected.tar')"
   ]
  },
  {
   "cell_type": "code",
   "execution_count": null,
   "metadata": {},
   "outputs": [
    {
     "ename": "RuntimeError",
     "evalue": "Error(s) in loading state_dict for FullyConnectedNet:\n\tsize mismatch for Network.1.weight: copying a param with shape torch.Size([288, 15]) from checkpoint, the shape in current model is torch.Size([576, 15]).\n\tsize mismatch for Network.1.bias: copying a param with shape torch.Size([288]) from checkpoint, the shape in current model is torch.Size([576]).\n\tsize mismatch for Network.3.weight: copying a param with shape torch.Size([288]) from checkpoint, the shape in current model is torch.Size([576]).\n\tsize mismatch for Network.3.bias: copying a param with shape torch.Size([288]) from checkpoint, the shape in current model is torch.Size([576]).\n\tsize mismatch for Network.3.running_mean: copying a param with shape torch.Size([288]) from checkpoint, the shape in current model is torch.Size([576]).\n\tsize mismatch for Network.3.running_var: copying a param with shape torch.Size([288]) from checkpoint, the shape in current model is torch.Size([576]).\n\tsize mismatch for Network.4.weight: copying a param with shape torch.Size([144, 288]) from checkpoint, the shape in current model is torch.Size([435, 576]).\n\tsize mismatch for Network.4.bias: copying a param with shape torch.Size([144]) from checkpoint, the shape in current model is torch.Size([435]).\n\tsize mismatch for Network.6.weight: copying a param with shape torch.Size([144]) from checkpoint, the shape in current model is torch.Size([435]).\n\tsize mismatch for Network.6.bias: copying a param with shape torch.Size([144]) from checkpoint, the shape in current model is torch.Size([435]).\n\tsize mismatch for Network.6.running_mean: copying a param with shape torch.Size([144]) from checkpoint, the shape in current model is torch.Size([435]).\n\tsize mismatch for Network.6.running_var: copying a param with shape torch.Size([144]) from checkpoint, the shape in current model is torch.Size([435]).\n\tsize mismatch for Network.7.weight: copying a param with shape torch.Size([72, 144]) from checkpoint, the shape in current model is torch.Size([288, 435]).\n\tsize mismatch for Network.7.bias: copying a param with shape torch.Size([72]) from checkpoint, the shape in current model is torch.Size([288]).\n\tsize mismatch for Network.9.weight: copying a param with shape torch.Size([72]) from checkpoint, the shape in current model is torch.Size([288]).\n\tsize mismatch for Network.9.bias: copying a param with shape torch.Size([72]) from checkpoint, the shape in current model is torch.Size([288]).\n\tsize mismatch for Network.9.running_mean: copying a param with shape torch.Size([72]) from checkpoint, the shape in current model is torch.Size([288]).\n\tsize mismatch for Network.9.running_var: copying a param with shape torch.Size([72]) from checkpoint, the shape in current model is torch.Size([288]).\n\tsize mismatch for Network.10.weight: copying a param with shape torch.Size([36, 72]) from checkpoint, the shape in current model is torch.Size([144, 288]).\n\tsize mismatch for Network.10.bias: copying a param with shape torch.Size([36]) from checkpoint, the shape in current model is torch.Size([144]).\n\tsize mismatch for Network.12.weight: copying a param with shape torch.Size([36]) from checkpoint, the shape in current model is torch.Size([144]).\n\tsize mismatch for Network.12.bias: copying a param with shape torch.Size([36]) from checkpoint, the shape in current model is torch.Size([144]).\n\tsize mismatch for Network.12.running_mean: copying a param with shape torch.Size([36]) from checkpoint, the shape in current model is torch.Size([144]).\n\tsize mismatch for Network.12.running_var: copying a param with shape torch.Size([36]) from checkpoint, the shape in current model is torch.Size([144]).\n\tsize mismatch for Network.13.weight: copying a param with shape torch.Size([11, 36]) from checkpoint, the shape in current model is torch.Size([11, 144]).",
     "output_type": "error",
     "traceback": [
      "\u001b[1;31m---------------------------------------------------------------------------\u001b[0m",
      "\u001b[1;31mRuntimeError\u001b[0m                              Traceback (most recent call last)",
      "Cell \u001b[1;32mIn[147], line 3\u001b[0m\n\u001b[0;32m      1\u001b[0m model_2 \u001b[38;5;241m=\u001b[39m FullyConnectedNet(in_size\u001b[38;5;241m=\u001b[39m\u001b[38;5;28mlen\u001b[39m(feature_names), hidden_size\u001b[38;5;241m=\u001b[39m[\u001b[38;5;241m576\u001b[39m, \u001b[38;5;241m435\u001b[39m, \u001b[38;5;241m288\u001b[39m, \u001b[38;5;241m144\u001b[39m, \u001b[38;5;241m72\u001b[39m, \u001b[38;5;241m36\u001b[39m], out_size\u001b[38;5;241m=\u001b[39m\u001b[38;5;28mlen\u001b[39m(target_name))\n\u001b[0;32m      2\u001b[0m state_dict \u001b[38;5;241m=\u001b[39m torch\u001b[38;5;241m.\u001b[39mload(\u001b[38;5;124m'\u001b[39m\u001b[38;5;124mmodels/fully_connected.tar\u001b[39m\u001b[38;5;124m'\u001b[39m, weights_only\u001b[38;5;241m=\u001b[39m\u001b[38;5;28;01mTrue\u001b[39;00m)\n\u001b[1;32m----> 3\u001b[0m \u001b[43mmodel_2\u001b[49m\u001b[38;5;241;43m.\u001b[39;49m\u001b[43mload_state_dict\u001b[49m\u001b[43m(\u001b[49m\u001b[43mstate_dict\u001b[49m\u001b[43m)\u001b[49m\n",
      "File \u001b[1;32mc:\\Users\\tatya\\Documents\\well_log\\venv\\lib\\site-packages\\torch\\nn\\modules\\module.py:2215\u001b[0m, in \u001b[0;36mModule.load_state_dict\u001b[1;34m(self, state_dict, strict, assign)\u001b[0m\n\u001b[0;32m   2210\u001b[0m         error_msgs\u001b[38;5;241m.\u001b[39minsert(\n\u001b[0;32m   2211\u001b[0m             \u001b[38;5;241m0\u001b[39m, \u001b[38;5;124m'\u001b[39m\u001b[38;5;124mMissing key(s) in state_dict: \u001b[39m\u001b[38;5;132;01m{}\u001b[39;00m\u001b[38;5;124m. \u001b[39m\u001b[38;5;124m'\u001b[39m\u001b[38;5;241m.\u001b[39mformat(\n\u001b[0;32m   2212\u001b[0m                 \u001b[38;5;124m'\u001b[39m\u001b[38;5;124m, \u001b[39m\u001b[38;5;124m'\u001b[39m\u001b[38;5;241m.\u001b[39mjoin(\u001b[38;5;124mf\u001b[39m\u001b[38;5;124m'\u001b[39m\u001b[38;5;124m\"\u001b[39m\u001b[38;5;132;01m{\u001b[39;00mk\u001b[38;5;132;01m}\u001b[39;00m\u001b[38;5;124m\"\u001b[39m\u001b[38;5;124m'\u001b[39m \u001b[38;5;28;01mfor\u001b[39;00m k \u001b[38;5;129;01min\u001b[39;00m missing_keys)))\n\u001b[0;32m   2214\u001b[0m \u001b[38;5;28;01mif\u001b[39;00m \u001b[38;5;28mlen\u001b[39m(error_msgs) \u001b[38;5;241m>\u001b[39m \u001b[38;5;241m0\u001b[39m:\n\u001b[1;32m-> 2215\u001b[0m     \u001b[38;5;28;01mraise\u001b[39;00m \u001b[38;5;167;01mRuntimeError\u001b[39;00m(\u001b[38;5;124m'\u001b[39m\u001b[38;5;124mError(s) in loading state_dict for \u001b[39m\u001b[38;5;132;01m{}\u001b[39;00m\u001b[38;5;124m:\u001b[39m\u001b[38;5;130;01m\\n\u001b[39;00m\u001b[38;5;130;01m\\t\u001b[39;00m\u001b[38;5;132;01m{}\u001b[39;00m\u001b[38;5;124m'\u001b[39m\u001b[38;5;241m.\u001b[39mformat(\n\u001b[0;32m   2216\u001b[0m                        \u001b[38;5;28mself\u001b[39m\u001b[38;5;241m.\u001b[39m\u001b[38;5;18m__class__\u001b[39m\u001b[38;5;241m.\u001b[39m\u001b[38;5;18m__name__\u001b[39m, \u001b[38;5;124m\"\u001b[39m\u001b[38;5;130;01m\\n\u001b[39;00m\u001b[38;5;130;01m\\t\u001b[39;00m\u001b[38;5;124m\"\u001b[39m\u001b[38;5;241m.\u001b[39mjoin(error_msgs)))\n\u001b[0;32m   2217\u001b[0m \u001b[38;5;28;01mreturn\u001b[39;00m _IncompatibleKeys(missing_keys, unexpected_keys)\n",
      "\u001b[1;31mRuntimeError\u001b[0m: Error(s) in loading state_dict for FullyConnectedNet:\n\tsize mismatch for Network.1.weight: copying a param with shape torch.Size([288, 15]) from checkpoint, the shape in current model is torch.Size([576, 15]).\n\tsize mismatch for Network.1.bias: copying a param with shape torch.Size([288]) from checkpoint, the shape in current model is torch.Size([576]).\n\tsize mismatch for Network.3.weight: copying a param with shape torch.Size([288]) from checkpoint, the shape in current model is torch.Size([576]).\n\tsize mismatch for Network.3.bias: copying a param with shape torch.Size([288]) from checkpoint, the shape in current model is torch.Size([576]).\n\tsize mismatch for Network.3.running_mean: copying a param with shape torch.Size([288]) from checkpoint, the shape in current model is torch.Size([576]).\n\tsize mismatch for Network.3.running_var: copying a param with shape torch.Size([288]) from checkpoint, the shape in current model is torch.Size([576]).\n\tsize mismatch for Network.4.weight: copying a param with shape torch.Size([144, 288]) from checkpoint, the shape in current model is torch.Size([435, 576]).\n\tsize mismatch for Network.4.bias: copying a param with shape torch.Size([144]) from checkpoint, the shape in current model is torch.Size([435]).\n\tsize mismatch for Network.6.weight: copying a param with shape torch.Size([144]) from checkpoint, the shape in current model is torch.Size([435]).\n\tsize mismatch for Network.6.bias: copying a param with shape torch.Size([144]) from checkpoint, the shape in current model is torch.Size([435]).\n\tsize mismatch for Network.6.running_mean: copying a param with shape torch.Size([144]) from checkpoint, the shape in current model is torch.Size([435]).\n\tsize mismatch for Network.6.running_var: copying a param with shape torch.Size([144]) from checkpoint, the shape in current model is torch.Size([435]).\n\tsize mismatch for Network.7.weight: copying a param with shape torch.Size([72, 144]) from checkpoint, the shape in current model is torch.Size([288, 435]).\n\tsize mismatch for Network.7.bias: copying a param with shape torch.Size([72]) from checkpoint, the shape in current model is torch.Size([288]).\n\tsize mismatch for Network.9.weight: copying a param with shape torch.Size([72]) from checkpoint, the shape in current model is torch.Size([288]).\n\tsize mismatch for Network.9.bias: copying a param with shape torch.Size([72]) from checkpoint, the shape in current model is torch.Size([288]).\n\tsize mismatch for Network.9.running_mean: copying a param with shape torch.Size([72]) from checkpoint, the shape in current model is torch.Size([288]).\n\tsize mismatch for Network.9.running_var: copying a param with shape torch.Size([72]) from checkpoint, the shape in current model is torch.Size([288]).\n\tsize mismatch for Network.10.weight: copying a param with shape torch.Size([36, 72]) from checkpoint, the shape in current model is torch.Size([144, 288]).\n\tsize mismatch for Network.10.bias: copying a param with shape torch.Size([36]) from checkpoint, the shape in current model is torch.Size([144]).\n\tsize mismatch for Network.12.weight: copying a param with shape torch.Size([36]) from checkpoint, the shape in current model is torch.Size([144]).\n\tsize mismatch for Network.12.bias: copying a param with shape torch.Size([36]) from checkpoint, the shape in current model is torch.Size([144]).\n\tsize mismatch for Network.12.running_mean: copying a param with shape torch.Size([36]) from checkpoint, the shape in current model is torch.Size([144]).\n\tsize mismatch for Network.12.running_var: copying a param with shape torch.Size([36]) from checkpoint, the shape in current model is torch.Size([144]).\n\tsize mismatch for Network.13.weight: copying a param with shape torch.Size([11, 36]) from checkpoint, the shape in current model is torch.Size([11, 144])."
     ]
    }
   ],
   "source": [
    "model_2 = FullyConnectedNet(in_size=len(feature_names), hidden_size=[576, 435, 288, 144, 72, 36], out_size=len(target_name))\n",
    "state_dict = torch.load('models/fully_connected.tar', weights_only=True)\n",
    "model_2.load_state_dict(state_dict)"
   ]
  }
 ],
 "metadata": {
  "kernelspec": {
   "display_name": "venv",
   "language": "python",
   "name": "python3"
  },
  "language_info": {
   "codemirror_mode": {
    "name": "ipython",
    "version": 3
   },
   "file_extension": ".py",
   "mimetype": "text/x-python",
   "name": "python",
   "nbconvert_exporter": "python",
   "pygments_lexer": "ipython3",
   "version": "3.8.2"
  }
 },
 "nbformat": 4,
 "nbformat_minor": 2
}
