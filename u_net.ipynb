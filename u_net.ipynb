{
 "cells": [
  {
   "cell_type": "code",
   "execution_count": 1,
   "metadata": {},
   "outputs": [],
   "source": [
    "import torch\n",
    "from torch import nn"
   ]
  },
  {
   "cell_type": "code",
   "execution_count": 2,
   "metadata": {},
   "outputs": [],
   "source": [
    "class DoubleConv(nn.Module):\n",
    "    \n",
    "    def __init__(self, in_size: int, out_size: int):\n",
    "        super(DoubleConv, self).__init__()\n",
    "\n",
    "        self.conv_net = nn.Sequential(\n",
    "            nn.Conv1d(in_size, out_size, kernel_size=3, padding=1),\n",
    "            nn.ReLU(inplace=True),\n",
    "            nn.Conv1d(out_size, out_size, kernel_size=3, padding=1),\n",
    "            nn.ReLU(inplace=True)\n",
    "        )\n",
    "\n",
    "    def forward(self, x):\n",
    "        return self.conv_net(x)\n"
   ]
  },
  {
   "cell_type": "code",
   "execution_count": 3,
   "metadata": {},
   "outputs": [],
   "source": [
    "class DownSample(nn.Module):\n",
    "\n",
    "    def __init__(self, in_size: int, out_size: int):\n",
    "        super(DownSample, self).__init__()\n",
    "\n",
    "        self.conv = DoubleConv(in_size, out_size)\n",
    "        self.pool = nn.MaxPool1d(kernel_size=2, stride=2)\n",
    "\n",
    "    def forward(self, x):\n",
    "        down = self.conv(x)\n",
    "        p = self.pool(down)\n",
    "        return down, p\n",
    "\n"
   ]
  },
  {
   "cell_type": "code",
   "execution_count": 4,
   "metadata": {},
   "outputs": [],
   "source": [
    "class UpSample():\n",
    "\n",
    "    def __init__(self, in_size: int, out_size: int):\n",
    "        super(UpSample, self).__init__()\n",
    "\n",
    "        self.up = nn.ConvTranspose1d(in_size, in_size//2, kernel_size=2, stride=2)\n",
    "        self.conv = DoubleConv(in_size, out_size)\n",
    "\n",
    "    def forward(self, x1, x2):\n",
    "        x1 = self.up(x1)\n",
    "        x = torch.cat([x1, x2])\n",
    "        return self.conv(x)\n",
    "\n"
   ]
  },
  {
   "cell_type": "code",
   "execution_count": 5,
   "metadata": {},
   "outputs": [],
   "source": [
    "class UNet(nn.Module):\n",
    "\n",
    "    def __init__(self, in_size: int, num_classes: int):\n",
    "        super(UNet, self).__init__()\n",
    "\n",
    "        self.down_conv_1 = DownSample(in_size, 64)\n",
    "        self.down_conv_2 = DownSample(64, 128)\n",
    "        self.down_conv_3 = DownSample(128, 256)\n",
    "\n",
    "        self.bottle_nack = DoubleConv(256, 512)\n",
    "\n",
    "        self.up_conv_1 = UpSample(512, 256)\n",
    "        self.up_conv_2 = UpSample(256, 128)\n",
    "        self.up_conv_3 = UpSample(128, 64)\n",
    "\n",
    "        self.fc = nn.Sequential(\n",
    "            nn.Flatten(),\n",
    "            nn.Linear(64, 128),\n",
    "            nn.ReLU(),\n",
    "            nn.Dropout(0.2),\n",
    "            nn.Linear(128, 256),\n",
    "            nn.ReLU(),\n",
    "            nn.Dropout(0.2),\n",
    "            nn.Linear(256, 128),\n",
    "            nn.ReLU(),\n",
    "            nn.Dropout(0.2),\n",
    "            nn.Linear(128, num_classes),\n",
    "            nn.Softmax()\n",
    "        )\n",
    "\n",
    "    def forward(self, x):\n",
    "\n",
    "        down_1, p1 = self.down_conv_1(x)\n",
    "        down_2, p2 = self.down_conv_2(p1)\n",
    "        down_3, p3 = self.down_conv_3(p2)\n",
    "\n",
    "        b = self.bottle_nack(p3)\n",
    "\n",
    "        up_1 = self.up_conv_1(b, down_3)\n",
    "        up_2 = self.up_conv_2(up_1, down_2)\n",
    "        up_3 = self.up_conv_3(up_2, down_1)\n",
    "\n",
    "        out = self.fc(up_3)\n",
    "        return out"
   ]
  },
  {
   "cell_type": "code",
   "execution_count": 6,
   "metadata": {},
   "outputs": [
    {
     "name": "stdout",
     "output_type": "stream",
     "text": [
      "UNet(\n",
      "  (down_conv_1): DownSample(\n",
      "    (conv): DoubleConv(\n",
      "      (conv_net): Sequential(\n",
      "        (0): Conv1d(32, 64, kernel_size=(3,), stride=(1,), padding=(1,))\n",
      "        (1): ReLU(inplace=True)\n",
      "        (2): Conv1d(64, 64, kernel_size=(3,), stride=(1,), padding=(1,))\n",
      "        (3): ReLU(inplace=True)\n",
      "      )\n",
      "    )\n",
      "    (pool): MaxPool1d(kernel_size=2, stride=2, padding=0, dilation=1, ceil_mode=False)\n",
      "  )\n",
      "  (down_conv_2): DownSample(\n",
      "    (conv): DoubleConv(\n",
      "      (conv_net): Sequential(\n",
      "        (0): Conv1d(64, 128, kernel_size=(3,), stride=(1,), padding=(1,))\n",
      "        (1): ReLU(inplace=True)\n",
      "        (2): Conv1d(128, 128, kernel_size=(3,), stride=(1,), padding=(1,))\n",
      "        (3): ReLU(inplace=True)\n",
      "      )\n",
      "    )\n",
      "    (pool): MaxPool1d(kernel_size=2, stride=2, padding=0, dilation=1, ceil_mode=False)\n",
      "  )\n",
      "  (down_conv_3): DownSample(\n",
      "    (conv): DoubleConv(\n",
      "      (conv_net): Sequential(\n",
      "        (0): Conv1d(128, 256, kernel_size=(3,), stride=(1,), padding=(1,))\n",
      "        (1): ReLU(inplace=True)\n",
      "        (2): Conv1d(256, 256, kernel_size=(3,), stride=(1,), padding=(1,))\n",
      "        (3): ReLU(inplace=True)\n",
      "      )\n",
      "    )\n",
      "    (pool): MaxPool1d(kernel_size=2, stride=2, padding=0, dilation=1, ceil_mode=False)\n",
      "  )\n",
      "  (bottle_nack): DoubleConv(\n",
      "    (conv_net): Sequential(\n",
      "      (0): Conv1d(256, 512, kernel_size=(3,), stride=(1,), padding=(1,))\n",
      "      (1): ReLU(inplace=True)\n",
      "      (2): Conv1d(512, 512, kernel_size=(3,), stride=(1,), padding=(1,))\n",
      "      (3): ReLU(inplace=True)\n",
      "    )\n",
      "  )\n",
      "  (fc): Sequential(\n",
      "    (0): Flatten(start_dim=1, end_dim=-1)\n",
      "    (1): Linear(in_features=64, out_features=128, bias=True)\n",
      "    (2): ReLU()\n",
      "    (3): Dropout(p=0.2, inplace=False)\n",
      "    (4): Linear(in_features=128, out_features=256, bias=True)\n",
      "    (5): ReLU()\n",
      "    (6): Dropout(p=0.2, inplace=False)\n",
      "    (7): Linear(in_features=256, out_features=128, bias=True)\n",
      "    (8): ReLU()\n",
      "    (9): Dropout(p=0.2, inplace=False)\n",
      "    (10): Linear(in_features=128, out_features=12, bias=True)\n",
      "    (11): Softmax(dim=None)\n",
      "  )\n",
      ")\n"
     ]
    }
   ],
   "source": [
    "model = UNet(32, 12)\n",
    "print(model)\n"
   ]
  },
  {
   "cell_type": "code",
   "execution_count": 7,
   "metadata": {},
   "outputs": [
    {
     "ename": "NameError",
     "evalue": "name 'YW3e8Sq' is not defined",
     "output_type": "error",
     "traceback": [
      "\u001b[1;31m---------------------------------------------------------------------------\u001b[0m",
      "\u001b[1;31mNameError\u001b[0m                                 Traceback (most recent call last)",
      "Cell \u001b[1;32mIn[7], line 1\u001b[0m\n\u001b[1;32m----> 1\u001b[0m \u001b[43mYW3e8Sq\u001b[49m\n",
      "\u001b[1;31mNameError\u001b[0m: name 'YW3e8Sq' is not defined"
     ]
    }
   ],
   "source": [
    "YW3e8Sq"
   ]
  }
 ],
 "metadata": {
  "kernelspec": {
   "display_name": "venv",
   "language": "python",
   "name": "python3"
  },
  "language_info": {
   "codemirror_mode": {
    "name": "ipython",
    "version": 3
   },
   "file_extension": ".py",
   "mimetype": "text/x-python",
   "name": "python",
   "nbconvert_exporter": "python",
   "pygments_lexer": "ipython3",
   "version": "3.8.2"
  }
 },
 "nbformat": 4,
 "nbformat_minor": 2
}
